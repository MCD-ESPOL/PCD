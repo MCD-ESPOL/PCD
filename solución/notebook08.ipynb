{
 "cells": [
  {
   "cell_type": "markdown",
   "id": "6172ca88",
   "metadata": {},
   "source": [
    "# Tabla de Contenidos\n",
    "\n",
    "* [Contenidos](#Tabla-de-Contenidos)\n",
    "    * [Importar librerías externas](#Importar-librerías-externas)\n",
    "    * [Listas y Listas de listas](#Listas-y-Listas-de-listas)\n",
    "        * [Limitantes de operaciones entre listas](#Limitantes-de-operaciones-entre-listas)\n",
    "    * [Arreglos y matrices](#Arreglos-y-matrices)\n",
    "    * [Operaciones entre arreglos y escalares](#Operaciones-entre-arreglos-y-escalares)\n",
    "        * [Entre arreglos y escalares](#Entre-arreglos-y-escalares)\n",
    "        * [Entre arreglos](#Entre-arreglos)\n",
    "    * [Operaciones matriciales](#Operaciones-matriciales)\n",
    "        * [Operaciones con un escalar](#Operaciones-con-un-escalar)\n",
    "        * [Operaciones entre matrices](#Operaciones-entre-matrices)\n",
    "        * [Operaciones de todos los elementos](#Operaciones-de-todos-los-elementos)\n",
    "        * [Operaciones por columnas o por filas](#Operaciones-por-columnas-o-por-filas)\n",
    "    * [Archivos](#Archivos)\n",
    "        * [Carga de datos](#Carga-de-datos)\n",
    "* [Ejercicios](#Ejercicios)"
   ]
  },
  {
   "cell_type": "markdown",
   "id": "3e0e2060",
   "metadata": {},
   "source": [
    "## Importar librerías externas"
   ]
  },
  {
   "cell_type": "code",
   "execution_count": 2,
   "id": "265100f4",
   "metadata": {},
   "outputs": [],
   "source": [
    "# Importe la librería numpy, con: import numpy as np\n",
    "# Importe la libreria matplotlib, con: import matplotlib.pyplot as plt\n",
    "\n",
    "import numpy as np\n",
    "import matplotlib.pyplot as plt"
   ]
  },
  {
   "cell_type": "markdown",
   "id": "d28d8316",
   "metadata": {},
   "source": [
    "## Listas y Listas de listas"
   ]
  },
  {
   "cell_type": "code",
   "execution_count": 3,
   "id": "0f6cb696",
   "metadata": {},
   "outputs": [],
   "source": [
    "# Cargue las listas y las listas de listas \n",
    "\n",
    "lista1 = [11, 12,  9,  3, 14,  9]\n",
    "lista2 = [ 6, 11, 10, 12,  9, 10]\n",
    "\n",
    "\n",
    "listaDelistas1 = [[14,  5,  4, 13,  8, 14],\n",
    "                  [10,  2,  9,  9,  3,  4],\n",
    "                  [ 9,  4, 11,  7,  9, 13],\n",
    "                  [14,  5, 14, 12, 13,  9],\n",
    "                  [12,  3,  5,  5,  4,  8]]\n",
    "\n",
    "listaDelistas2 = [[ 1,  6,  2,  5, 10,  8],\n",
    "                  [13, 11, 14, 11,  4, 10],\n",
    "                  [14, 13,  3, 14,  5,  7],\n",
    "                  [ 2,  2,  8, 14,  2,  4],\n",
    "                  [11,  6, 12,  3,  4,  2]]"
   ]
  },
  {
   "cell_type": "markdown",
   "id": "58d5daab",
   "metadata": {},
   "source": [
    "### Limitantes de operaciones entre listas"
   ]
  },
  {
   "cell_type": "code",
   "execution_count": 4,
   "id": "557752d0",
   "metadata": {},
   "outputs": [
    {
     "name": "stdout",
     "output_type": "stream",
     "text": [
      "[11, 12, 9, 3, 14, 9, 6, 11, 10, 12, 9, 10]\n"
     ]
    }
   ],
   "source": [
    "# Sume elemento por elemento de la lista1 con la lista2\n",
    "# Muestre el resultado por pantalla\n",
    "\n",
    "resultado = lista1 + lista2\n",
    "print(resultado)"
   ]
  },
  {
   "cell_type": "code",
   "execution_count": 5,
   "id": "2ebcbcd9",
   "metadata": {},
   "outputs": [
    {
     "name": "stdout",
     "output_type": "stream",
     "text": [
      "[[14, 5, 4, 13, 8, 14], [10, 2, 9, 9, 3, 4], [9, 4, 11, 7, 9, 13], [14, 5, 14, 12, 13, 9], [12, 3, 5, 5, 4, 8], [1, 6, 2, 5, 10, 8], [13, 11, 14, 11, 4, 10], [14, 13, 3, 14, 5, 7], [2, 2, 8, 14, 2, 4], [11, 6, 12, 3, 4, 2]]\n"
     ]
    }
   ],
   "source": [
    "# Sume elementos por elemento de la listaDelistas1 con la listaDelistas2\n",
    "# Muestre el resultado por pantalla\n",
    "\n",
    "resultado = listaDelistas1 + listaDelistas2\n",
    "print(resultado)"
   ]
  },
  {
   "cell_type": "markdown",
   "id": "68eb9465",
   "metadata": {},
   "source": [
    "## Arreglos y matrices \n",
    "\n",
    "Convierta las listas en arreglos (1-dimensión) y matrices (2-dimensiones)."
   ]
  },
  {
   "cell_type": "code",
   "execution_count": 6,
   "id": "a00b2fec",
   "metadata": {},
   "outputs": [],
   "source": [
    "# Convierta las listas en arreglos y las listas de listas en matrices\n",
    "\n",
    "arreglo1 = np.array(lista1)\n",
    "arreglo2 = np.array(lista2)\n",
    "\n",
    "matriz1 = np.array(listaDelistas1)\n",
    "matriz2 = np.array(listaDelistas2)"
   ]
  },
  {
   "cell_type": "code",
   "execution_count": 8,
   "id": "60ad1bc3",
   "metadata": {},
   "outputs": [
    {
     "name": "stdout",
     "output_type": "stream",
     "text": [
      "[11 12  9  3 14  9]\n",
      "[[ 1  6  2  5 10  8]\n",
      " [13 11 14 11  4 10]\n",
      " [14 13  3 14  5  7]\n",
      " [ 2  2  8 14  2  4]\n",
      " [11  6 12  3  4  2]]\n"
     ]
    }
   ],
   "source": [
    "# Muestre los arreglos y las matrices\n",
    "\n",
    "print(arreglo1)\n",
    "print(matriz2)"
   ]
  },
  {
   "cell_type": "markdown",
   "id": "e1683bf7",
   "metadata": {},
   "source": [
    "[Regresar a la TC](#Tabla-de-Contenidos)"
   ]
  },
  {
   "cell_type": "markdown",
   "id": "f5ae106c",
   "metadata": {},
   "source": [
    "## Operaciones entre arreglos y escalares"
   ]
  },
  {
   "cell_type": "markdown",
   "id": "cab20ca5",
   "metadata": {},
   "source": [
    "### Entre arreglos y escalares\n",
    "\n",
    "Numpy permite optimizar las operaciones entre [un arreglo y un escalar](https://scipy-lectures.org/intro/numpy/operations.html#id2); por ejemplo, el `arreglo3` contiene el resultado de la suma de cada elemento del `arreglo1` con `5.2`.\n",
    "\n",
    "\n",
    "\n",
    "<div align=\"center\">\n",
    "    <img src=\"https://github.com/MCD-ESPOL/PCD/blob/main/notebooks/images/arr_b1.png?raw=true\" width=\"35%\">\n",
    "</div>"
   ]
  },
  {
   "cell_type": "code",
   "execution_count": 9,
   "id": "435c4249",
   "metadata": {},
   "outputs": [
    {
     "name": "stdout",
     "output_type": "stream",
     "text": [
      "Arreglo 2: [ 6 11 10 12  9 10] + 4\n",
      "Arreglo 4: [10 15 14 16 13 14]\n"
     ]
    }
   ],
   "source": [
    "# En arreglo4 asigne el resultado de sumar arreglo2 con el número 4. \n",
    "# Muestre el arreglo2 y el arreglo4.\n",
    "\n",
    "arreglo4 = arreglo2 + 4\n",
    "print(f\"Arreglo 2: {arreglo2} + 4\")\n",
    "print(f\"Arreglo 4: {arreglo4}\")"
   ]
  },
  {
   "cell_type": "markdown",
   "id": "f3a12028",
   "metadata": {},
   "source": [
    "<details>\n",
    "  <summary><div>→ Haga click aquí para ver la solución</div></summary>\n",
    "  <pre lang=\"python\"><code>\n",
    "arreglo4 = arreglo2 + 4\n",
    "print(f\"Arreglo 2: {arreglo2} + 4\")\n",
    "print(f\"Arreglo 4: {arreglo4}\")\n",
    "  </code></pre>\n",
    "</details> "
   ]
  },
  {
   "cell_type": "code",
   "execution_count": 15,
   "id": "5fa94cf4",
   "metadata": {},
   "outputs": [
    {
     "name": "stdout",
     "output_type": "stream",
     "text": [
      "Arreglo 1: [11 12  9  3 14  9] * 2.3\n",
      "Arreglo 5: [25.3 27.6 20.7  6.9 32.2 20.7]\n"
     ]
    }
   ],
   "source": [
    "# En arreglo5 asigne el resultado de multiplicar arreglo1 con 2.3. \n",
    "# Muestre el arreglo1 y el arreglo5.\n",
    "\n",
    "arreglo5 = arreglo1 * 2.3\n",
    "print(f\"Arreglo 1: {arreglo1} * 2.3\")\n",
    "print(f\"Arreglo 5: {arreglo5}\")"
   ]
  },
  {
   "cell_type": "markdown",
   "id": "7cbdb7aa",
   "metadata": {},
   "source": [
    "<details>\n",
    "  <summary><div>→ Haga click aquí para ver la solución</div></summary>\n",
    "  <pre lang=\"python\"><code>\n",
    "arreglo5 = arreglo1 * 2.3\n",
    "print(f\"Arreglo 1: {arreglo1} * 2.3\")\n",
    "print(f\"Arreglo 5: {arreglo5}\")\n",
    "  </code></pre>\n",
    "</details> "
   ]
  },
  {
   "cell_type": "markdown",
   "id": "b1d57d9a",
   "metadata": {},
   "source": [
    "[Regresar a la TC](#Tabla-de-Contenidos)"
   ]
  },
  {
   "cell_type": "markdown",
   "id": "4b2d713b",
   "metadata": {},
   "source": [
    "### Entre arreglos\n",
    "\n",
    "NumPy proporciona una amplia gama de [operaciones que se pueden realizar entre arreglos](https://www.programiz.com/python-programming/numpy/basic-array-operations). En el ejemplo, la multiplicación entre `arreglo1` y `arreglo2`ocurre entre cada elemento correspondiente, dado que tienen el mismo tamaño.\n",
    "\n",
    "\n",
    "<div align=\"center\">\n",
    "    <img src=\"https://github.com/MCD-ESPOL/PCD/blob/main/notebooks/images/arr_b2.png?raw=true\" width=\"35%\">\n",
    "</div>\n"
   ]
  },
  {
   "cell_type": "code",
   "execution_count": 16,
   "id": "0bd1a7af",
   "metadata": {},
   "outputs": [
    {
     "name": "stdout",
     "output_type": "stream",
     "text": [
      "[11 12  9  3 14  9] / [10 15 14 16 13 14]\n",
      "Arreglo 8: [1.1        0.8        0.64285714 0.1875     1.07692308 0.64285714]\n"
     ]
    }
   ],
   "source": [
    "# En arreglo8 asigne el resultado de dividir arreglo1 y arreglo4. \n",
    "# Muestre los arreglos que intervienen en la operación.\n",
    "\n",
    "arreglo8 = arreglo1 / arreglo4 \n",
    "print(f\"{arreglo1} / {arreglo4}\")\n",
    "print(f\"Arreglo 8: {arreglo8}\")"
   ]
  },
  {
   "cell_type": "markdown",
   "id": "114c48ab",
   "metadata": {},
   "source": [
    "<details>\n",
    "  <summary><div>→ Haga click aquí para ver la solución</div></summary>\n",
    "  <pre lang=\"python\"><code>\n",
    "arreglo8 = arreglo1 / arreglo4 \n",
    "print(f\"{arreglo1} / {arreglo4}\")\n",
    "print(f\"Arreglo 8: {arreglo8}\")\n",
    "  </code></pre>\n",
    "</details> "
   ]
  },
  {
   "cell_type": "code",
   "execution_count": 17,
   "id": "81ee7761",
   "metadata": {},
   "outputs": [
    {
     "name": "stdout",
     "output_type": "stream",
     "text": [
      "[ 6 11 10 12  9 10] + [25.3 27.6 20.7  6.9 32.2 20.7]\n",
      "Arreglo 9: [31.3 38.6 30.7 18.9 41.2 30.7]\n"
     ]
    }
   ],
   "source": [
    "# En arreglo9 asigne el resultado de sumar arreglo2 y arreglo5. \n",
    "# Muestre los arreglos que intervienen en la operación.\n",
    "\n",
    "arreglo9 = arreglo2 + arreglo5\n",
    "print(f\"{arreglo2} + {arreglo5}\")\n",
    "print(f\"Arreglo 9: {arreglo9}\")"
   ]
  },
  {
   "cell_type": "markdown",
   "id": "f54d1696",
   "metadata": {},
   "source": [
    "<details>\n",
    "  <summary><div>→ Haga click aquí para ver la solución</div></summary>\n",
    "  <pre lang=\"python\"><code>\n",
    "arreglo9 = arreglo2 + arreglo5\n",
    "print(f\"{arreglo2} + {arreglo5}\")\n",
    "print(f\"Arreglo 9: {arreglo9}\")\n",
    "  </code></pre>\n",
    "</details> "
   ]
  },
  {
   "cell_type": "code",
   "execution_count": 19,
   "id": "55f6f6ad",
   "metadata": {},
   "outputs": [
    {
     "ename": "ValueError",
     "evalue": "operands could not be broadcast together with shapes (3,) (4,) ",
     "output_type": "error",
     "traceback": [
      "\u001b[1;31m---------------------------------------------------------------------------\u001b[0m",
      "\u001b[1;31mValueError\u001b[0m                                Traceback (most recent call last)",
      "Cell \u001b[1;32mIn[19], line 4\u001b[0m\n\u001b[0;32m      1\u001b[0m a1 \u001b[38;5;241m=\u001b[39m np\u001b[38;5;241m.\u001b[39marray([\u001b[38;5;241m1\u001b[39m,\u001b[38;5;241m2\u001b[39m,\u001b[38;5;241m3\u001b[39m])\n\u001b[0;32m      2\u001b[0m a2 \u001b[38;5;241m=\u001b[39m np\u001b[38;5;241m.\u001b[39marray([\u001b[38;5;241m3\u001b[39m,\u001b[38;5;241m4\u001b[39m,\u001b[38;5;241m5\u001b[39m,\u001b[38;5;241m6\u001b[39m])\n\u001b[1;32m----> 4\u001b[0m a3 \u001b[38;5;241m=\u001b[39m a1 \u001b[38;5;241m/\u001b[39m a2\n\u001b[0;32m      5\u001b[0m \u001b[38;5;28mprint\u001b[39m(a3)\n",
      "\u001b[1;31mValueError\u001b[0m: operands could not be broadcast together with shapes (3,) (4,) "
     ]
    }
   ],
   "source": [
    "#a1 = np.array([1,2,3])\n",
    "#a2 = np.array([3,4,5,6])\n",
    "\n",
    "#a3 = a1 / a2\n",
    "#print(a3)"
   ]
  },
  {
   "cell_type": "markdown",
   "id": "1ec4e86b",
   "metadata": {},
   "source": [
    "[Regresar a la TC](#Tabla-de-Contenidos)"
   ]
  },
  {
   "cell_type": "markdown",
   "id": "ab802e27",
   "metadata": {},
   "source": [
    "## Operaciones matriciales\n",
    "\n",
    "NumPy provee de operaciones matriciales como suma, multiplicación y potenciación. El empleo de matrices nos permite ejecutar operaciones algebraicas, lo que nos permite ejecutar numerosas operaciones con grandes cantidades de datos de manera efectiva. [How to Implement Different Operations on Matrices in NumPy?](https://www.scaler.com/topics/numpy-implement-different-operations-on-matrix/) muestran las operaciones más comunes entre matrices mediante ejemplos."
   ]
  },
  {
   "cell_type": "markdown",
   "id": "b57a6f51",
   "metadata": {},
   "source": [
    "### Operaciones con un escalar\n",
    "\n",
    "En el ejemplo, la `matriz3` contiene el resultado de multiplicar `1.12` y `matriz1`, al multiplicar cada elemento por el escalar.\n",
    "\n",
    "<div align=\"center\">\n",
    "    <img src=\"https://github.com/MCD-ESPOL/PCD/blob/main/notebooks/images/arr_b3.png?raw=true\" width=\"30%\">\n",
    "</div>"
   ]
  },
  {
   "cell_type": "code",
   "execution_count": 20,
   "id": "d8abebf4",
   "metadata": {},
   "outputs": [
    {
     "name": "stdout",
     "output_type": "stream",
     "text": [
      "3.2 + \n",
      "\n",
      "Matriz 2\n",
      "[[ 1  6  2  5 10  8]\n",
      " [13 11 14 11  4 10]\n",
      " [14 13  3 14  5  7]\n",
      " [ 2  2  8 14  2  4]\n",
      " [11  6 12  3  4  2]]\n",
      "\n",
      "Matriz 4: \n",
      "[[ 4.2  9.2  5.2  8.2 13.2 11.2]\n",
      " [16.2 14.2 17.2 14.2  7.2 13.2]\n",
      " [17.2 16.2  6.2 17.2  8.2 10.2]\n",
      " [ 5.2  5.2 11.2 17.2  5.2  7.2]\n",
      " [14.2  9.2 15.2  6.2  7.2  5.2]]\n"
     ]
    }
   ],
   "source": [
    "# En matriz4 asigne el resultado de sumar 3.2 y matriz2. \n",
    "# Muestre las matrices que intervienen en la operación.\n",
    "\n",
    "matriz4 = 3.2 + matriz2\n",
    "print(\"3.2 + \")\n",
    "print(\"\\nMatriz 2\")\n",
    "print(matriz2)\n",
    "print(\"\\nMatriz 4: \")\n",
    "print(matriz4)"
   ]
  },
  {
   "cell_type": "markdown",
   "id": "a15ea421",
   "metadata": {},
   "source": [
    "<details>\n",
    "  <summary><div>→ Haga click aquí para ver la solución</div></summary>\n",
    "  <pre lang=\"python\"><code>\n",
    "matriz4 = 3.2 + matriz2\n",
    "print(\"3.2 + \")\n",
    "print(\"\\nMatriz 2\")\n",
    "print(matriz2)\n",
    "print(\"\\nMatriz 4: \")\n",
    "print(matriz4)\n",
    "  </code></pre>\n",
    "</details> "
   ]
  },
  {
   "cell_type": "code",
   "execution_count": 27,
   "id": "1300a5f2",
   "metadata": {},
   "outputs": [
    {
     "name": "stdout",
     "output_type": "stream",
     "text": [
      "Matriz 1\n",
      "[[14  5  4 13  8 14]\n",
      " [10  2  9  9  3  4]\n",
      " [ 9  4 11  7  9 13]\n",
      " [14  5 14 12 13  9]\n",
      " [12  3  5  5  4  8]]\n",
      "\n",
      "/ 2\n",
      "\n",
      "Matriz 5: \n",
      "[[7.  2.5 2.  6.5 4.  7. ]\n",
      " [5.  1.  4.5 4.5 1.5 2. ]\n",
      " [4.5 2.  5.5 3.5 4.5 6.5]\n",
      " [7.  2.5 7.  6.  6.5 4.5]\n",
      " [6.  1.5 2.5 2.5 2.  4. ]]\n"
     ]
    }
   ],
   "source": [
    "# En matriz5 asigne el resultado de dividir matriz1 para 2. \n",
    "# Muestre las matrices que intervienen en la operación.\n",
    "\n",
    "matriz5 = matriz1 / 2\n",
    "print(\"Matriz 1\")\n",
    "print(matriz1)\n",
    "print(\"\\n/ 2\")\n",
    "print(\"\\nMatriz 5: \")\n",
    "print(matriz5)"
   ]
  },
  {
   "cell_type": "markdown",
   "id": "49fb481e",
   "metadata": {},
   "source": [
    "<details>\n",
    "  <summary><div>→ Haga click aquí para ver la solución</div></summary>\n",
    "  <pre lang=\"python\"><code>\n",
    "matriz5 = matriz1 / 2\n",
    "print(\"Matriz 1\")\n",
    "print(matriz1)\n",
    "print(\"\\n/ 2\")\n",
    "print(\"\\nMatriz 5: \")\n",
    "print(matriz5)\n",
    "  </code></pre>\n",
    "</details> "
   ]
  },
  {
   "cell_type": "code",
   "execution_count": 28,
   "id": "13b46dda",
   "metadata": {},
   "outputs": [
    {
     "name": "stdout",
     "output_type": "stream",
     "text": [
      "\n",
      "Matriz 5: \n",
      "[[7. 2. 2. 6. 4. 7.]\n",
      " [5. 1. 4. 4. 2. 2.]\n",
      " [4. 2. 6. 4. 4. 6.]\n",
      " [7. 2. 7. 6. 6. 4.]\n",
      " [6. 2. 2. 2. 2. 4.]]\n"
     ]
    }
   ],
   "source": [
    "print(\"\\nMatriz 5: \")\n",
    "print(np.round(matriz5, decimals=0))"
   ]
  },
  {
   "cell_type": "markdown",
   "id": "58322a64",
   "metadata": {},
   "source": [
    "[Regresar a la TC](#Tabla-de-Contenidos)"
   ]
  },
  {
   "cell_type": "markdown",
   "id": "6290af16",
   "metadata": {},
   "source": [
    "### Operaciones entre matrices\n",
    "\n",
    "Para matrices de igual número de filas y columnas, es posible realizar las operaciones matemáticas básicas para cada elemento de las matrices. Por ejemplo, `matriz6` contiene el resultado de restar `matriz1` y `matriz2`.\n",
    "\n",
    "<div align=\"center\">\n",
    "    <img src=\"https://github.com/MCD-ESPOL/PCD/blob/main/notebooks/images/arr_b4.png?raw=true\" width=\"30%\">\n",
    "</div>"
   ]
  },
  {
   "cell_type": "code",
   "execution_count": 30,
   "id": "f4a53da2",
   "metadata": {},
   "outputs": [
    {
     "name": "stdout",
     "output_type": "stream",
     "text": [
      "Matriz 2\n",
      "[[ 1  6  2  5 10  8]\n",
      " [13 11 14 11  4 10]\n",
      " [14 13  3 14  5  7]\n",
      " [ 2  2  8 14  2  4]\n",
      " [11  6 12  3  4  2]]\n",
      "\n",
      "+\n",
      "\n",
      "Matriz 1\n",
      "[[14  5  4 13  8 14]\n",
      " [10  2  9  9  3  4]\n",
      " [ 9  4 11  7  9 13]\n",
      " [14  5 14 12 13  9]\n",
      " [12  3  5  5  4  8]]\n",
      "\n",
      "Matriz 7: \n",
      "[[15 11  6 18 18 22]\n",
      " [23 13 23 20  7 14]\n",
      " [23 17 14 21 14 20]\n",
      " [16  7 22 26 15 13]\n",
      " [23  9 17  8  8 10]]\n"
     ]
    }
   ],
   "source": [
    "# En matriz7 asigne el resultado de sumar matriz2 y matriz1. \n",
    "# Muestre las matrices que intervienen en la operación.\n",
    "\n",
    "matriz7 = matriz2 + matriz1\n",
    "print(\"Matriz 2\")\n",
    "print(matriz2)\n",
    "print(\"\\n+\")\n",
    "print(\"\\nMatriz 1\")\n",
    "print(matriz1)\n",
    "print(\"\\nMatriz 7: \")\n",
    "print(matriz7)"
   ]
  },
  {
   "cell_type": "markdown",
   "id": "b13bdcc4",
   "metadata": {},
   "source": [
    "<details>\n",
    "  <summary><div>→ Haga click aquí para ver la solución</div></summary>\n",
    "  <pre lang=\"python\"><code>\n",
    "matriz7 = matriz2 + matriz1\n",
    "print(\"Matriz 2\")\n",
    "print(matriz2)\n",
    "print(\"\\n+\")\n",
    "print(\"\\nMatriz 1\")\n",
    "print(matriz1)\n",
    "print(\"\\nMatriz 7: \")\n",
    "print(matriz7)\n",
    "  </code></pre>\n",
    "</details> "
   ]
  },
  {
   "cell_type": "code",
   "execution_count": 29,
   "id": "bbb81ecd",
   "metadata": {},
   "outputs": [
    {
     "name": "stdout",
     "output_type": "stream",
     "text": [
      "Matriz 2\n",
      "[[ 1  6  2  5 10  8]\n",
      " [13 11 14 11  4 10]\n",
      " [14 13  3 14  5  7]\n",
      " [ 2  2  8 14  2  4]\n",
      " [11  6 12  3  4  2]]\n",
      "\n",
      "*\n",
      "\n",
      "Matriz 1\n",
      "[[14  5  4 13  8 14]\n",
      " [10  2  9  9  3  4]\n",
      " [ 9  4 11  7  9 13]\n",
      " [14  5 14 12 13  9]\n",
      " [12  3  5  5  4  8]]\n",
      "\n",
      "Matriz 8: \n",
      "[[ 14  30   8  65  80 112]\n",
      " [130  22 126  99  12  40]\n",
      " [126  52  33  98  45  91]\n",
      " [ 28  10 112 168  26  36]\n",
      " [132  18  60  15  16  16]]\n"
     ]
    }
   ],
   "source": [
    "# En matriz8 asigne el resultado de multiplicar matriz2 y matriz1. \n",
    "# Muestre las matrices que intervienen en la operación.\n",
    "\n",
    "matriz8 = matriz2 * matriz1\n",
    "print(\"Matriz 2\")\n",
    "print(matriz2)\n",
    "print(\"\\n*\")\n",
    "print(\"\\nMatriz 1\")\n",
    "print(matriz1)\n",
    "print(\"\\nMatriz 8: \")\n",
    "print(matriz8)"
   ]
  },
  {
   "cell_type": "markdown",
   "id": "46db3845",
   "metadata": {},
   "source": [
    "<details>\n",
    "  <summary><div>→ Haga click aquí para ver la solución</div></summary>\n",
    "  <pre lang=\"python\"><code>\n",
    "matriz8 = matriz2 * matriz1\n",
    "print(\"Matriz 2\")\n",
    "print(matriz2)\n",
    "print(\"\\n*\")\n",
    "print(\"\\nMatriz 1\")\n",
    "print(matriz1)\n",
    "print(\"\\nMatriz 8: \")\n",
    "print(matriz8)\n",
    "  </code></pre>\n",
    "</details> "
   ]
  },
  {
   "cell_type": "markdown",
   "id": "1526964e",
   "metadata": {},
   "source": [
    "[Regresar a la TC](#Tabla-de-Contenidos)"
   ]
  },
  {
   "cell_type": "markdown",
   "id": "c010f0cd",
   "metadata": {},
   "source": [
    "### Operaciones de todos los elementos\n",
    "\n",
    "La función [np.sum()](https://numpy.org/doc/stable/reference/generated/numpy.sum.html) se utiliza para determinar la suma de todos los elementos de la matriz NumPy.\n",
    "\n",
    "<div align=\"center\">\n",
    "    <img src=\"https://github.com/MCD-ESPOL/PCD/blob/main/notebooks/images/arr_b5.png?raw=true\" width=\"45%\">\n",
    "</div>"
   ]
  },
  {
   "cell_type": "code",
   "execution_count": 32,
   "id": "d5b18bde",
   "metadata": {},
   "outputs": [
    {
     "name": "stdout",
     "output_type": "stream",
     "text": [
      "Matriz 7\n",
      "[[15 11  6 18 18 22]\n",
      " [23 13 23 20  7 14]\n",
      " [23 17 14 21 14 20]\n",
      " [16  7 22 26 15 13]\n",
      " [23  9 17  8  8 10]]\n",
      "\n",
      " El total es 473\n"
     ]
    }
   ],
   "source": [
    "# En total7 asigne el resultado de sumar todos los elementos de la matriz7. \n",
    "# Muestre la variable total7.\n",
    "\n",
    "total7 = np.sum(matriz7)\n",
    "print(\"Matriz 7\")\n",
    "print(matriz7)\n",
    "print(f\"\\n El total es {total7}\")"
   ]
  },
  {
   "cell_type": "markdown",
   "id": "e51020e3",
   "metadata": {},
   "source": [
    "<details>\n",
    "  <summary><div>→ Haga click aquí para ver la solución</div></summary>\n",
    "  <pre lang=\"python\"><code>\n",
    "total7 = np.sum(matriz7)\n",
    "print(f\"El total de matriz7 es: {total7}\")\n",
    "  </code></pre>\n",
    "</details> "
   ]
  },
  {
   "cell_type": "code",
   "execution_count": 33,
   "id": "1ba2851f",
   "metadata": {},
   "outputs": [
    {
     "name": "stdout",
     "output_type": "stream",
     "text": [
      "El total de matriz8 es: 1820\n"
     ]
    }
   ],
   "source": [
    "# En total8 asigne el resultado de sumar todos los elementos de la matriz8. \n",
    "# Muestre la variable total8.\n",
    "\n",
    "total8 = np.sum(matriz8)\n",
    "print(f\"El total de matriz8 es: {total8}\")"
   ]
  },
  {
   "cell_type": "markdown",
   "id": "4c135beb",
   "metadata": {},
   "source": [
    "<details>\n",
    "  <summary><div>→ Haga click aquí para ver la solución</div></summary>\n",
    "  <pre lang=\"python\"><code>\n",
    "total8 = np.sum(matriz8)\n",
    "print(f\"El total de matriz8 es: {total8}\")\n",
    "  </code></pre>\n",
    "</details> "
   ]
  },
  {
   "cell_type": "markdown",
   "id": "b3962ee1",
   "metadata": {},
   "source": [
    "[Regresar a la TC](#Tabla-de-Contenidos)"
   ]
  },
  {
   "cell_type": "markdown",
   "id": "f210e70c",
   "metadata": {},
   "source": [
    "### Operaciones de todas las columnas o de todas las filas\n",
    "\n",
    "La función de [np.sum()](https://numpy.org/doc/stable/reference/generated/numpy.sum.html) NumPy tiene varios parámetros que le permiten controlar el comportamiento de la función. \n",
    "\n",
    "Como se muestra en la figura, para sumar:\n",
    "- Todas las filas (a lo largo del eje vertical), se utiliza el parámetro `axis = 0`. \n",
    "- Todas las columnas (a lo largo del eje horizontal), se utiliza el parámetro `axis = 1`, \n",
    "\n",
    "<div align=\"center\">\n",
    "    <img src=\"https://github.com/MCD-ESPOL/PCD/blob/main/notebooks/images/arr_b7.png?raw=true\" width=\"35%\">\n",
    "    <br>\n",
    "    Fuente: <a href=\"https://sebastianraschka.com/blog/2020/numpy-intro.html\">Scientific Computing in Python: Introduction to NumPy and Matplotlib</a>\n",
    "</div>"
   ]
  },
  {
   "cell_type": "markdown",
   "id": "59f3164f",
   "metadata": {},
   "source": [
    "En el ejemplo, la variable `sumaFilas` contiene el resultado de la suma de todas las filas (`axis = 0`); mientras que la variable `sumaColumnas` contiene el resultado de la suma de todas las columnas (`axis = 1`) \n",
    "\n",
    "<div align=\"center\">\n",
    "    <img src=\"https://github.com/MCD-ESPOL/PCD/blob/main/notebooks/images/arr_b6.png?raw=true\" width=\"35%\">\n",
    "</div>"
   ]
  },
  {
   "cell_type": "code",
   "execution_count": 34,
   "id": "a643d10b",
   "metadata": {},
   "outputs": [
    {
     "name": "stdout",
     "output_type": "stream",
     "text": [
      "Matriz 7\n",
      "[[15 11  6 18 18 22]\n",
      " [23 13 23 20  7 14]\n",
      " [23 17 14 21 14 20]\n",
      " [16  7 22 26 15 13]\n",
      " [23  9 17  8  8 10]]\n",
      "\n",
      "Suma de todas las filas (axis 0)\n",
      "[100  57  82  93  62  79]\n"
     ]
    }
   ],
   "source": [
    "# En el arreglo totalFilas asigne el resultado de sumar todas las filas de la matriz7. \n",
    "# Muestre el arreglo totalFilas.\n",
    "\n",
    "print(\"Matriz 7\")\n",
    "print(matriz7)\n",
    "\n",
    "print(\"\\nSuma de todas las filas (axis 0)\")\n",
    "totalFilas = np.sum( matriz7 , axis = 0 )\n",
    "\n",
    "print(totalFilas)"
   ]
  },
  {
   "cell_type": "markdown",
   "id": "6d5099c8",
   "metadata": {},
   "source": [
    "<details>\n",
    "  <summary><div>→ Haga click aquí para ver la solución</div></summary>\n",
    "  <pre lang=\"python\"><code>\n",
    "print(\"Matriz 7\")\n",
    "print(matriz7)\n",
    "\n",
    "print(\"\\nSuma de todas las filas (axis 0)\")\n",
    "totalFilas = np.sum( matriz7 , axis = 0)\n",
    "\n",
    "print(totalFilas)\n",
    "  </code></pre>\n",
    "</details> "
   ]
  },
  {
   "cell_type": "code",
   "execution_count": 35,
   "id": "c4224a14",
   "metadata": {},
   "outputs": [
    {
     "name": "stdout",
     "output_type": "stream",
     "text": [
      "Matriz 8\n",
      "[[ 14  30   8  65  80 112]\n",
      " [130  22 126  99  12  40]\n",
      " [126  52  33  98  45  91]\n",
      " [ 28  10 112 168  26  36]\n",
      " [132  18  60  15  16  16]]\n",
      "\n",
      "Suma de todas las columnas (axis 1)\n",
      "[309 429 445 380 257]\n"
     ]
    }
   ],
   "source": [
    "# En el arreglo totalColumnas asigne el resultado de sumar todas las columnas de la matriz8. \n",
    "# Muestre el arreglo totalColumnas.\n",
    "\n",
    "print(\"Matriz 8\")\n",
    "print(matriz8)\n",
    "\n",
    "print(\"\\nSuma de todas las columnas (axis 1)\")\n",
    "totalColumnas = np.sum( matriz8 , axis = 1 )\n",
    "\n",
    "print(totalColumnas)"
   ]
  },
  {
   "cell_type": "markdown",
   "id": "7355e5fe",
   "metadata": {},
   "source": [
    "<details>\n",
    "  <summary><div>→ Haga click aquí para ver la solución</div></summary>\n",
    "  <pre lang=\"python\"><code>\n",
    "print(\"Matriz 8\")\n",
    "print(matriz8)\n",
    "\n",
    "print(\"\\nSuma de todas las columnas (axis 1)\")\n",
    "totalColumnas = np.sum( matriz8 , axis = 1)\n",
    "\n",
    "print(totalColumnas)\n",
    "  </code></pre>\n",
    "</details> "
   ]
  },
  {
   "cell_type": "markdown",
   "id": "5a1b2a70",
   "metadata": {},
   "source": [
    "[Regresar a la TC](#Tabla-de-Contenidos)"
   ]
  },
  {
   "cell_type": "markdown",
   "id": "e9fa0b83",
   "metadata": {},
   "source": [
    "## Archivos\n",
    "\n",
    "Descargue el archivo [produccion.zip](https://github.com/MCD-ESPOL/PCD/blob/main/notebooks/produccion.zip). Descomprima la carpeta **produccion** y mueva la carpeta en el mismo directorio de este cuaderno."
   ]
  },
  {
   "cell_type": "markdown",
   "id": "7806b1d3",
   "metadata": {},
   "source": [
    "## Carga de datos\n",
    "\n",
    "\n",
    "Utilice la función [loadtxt](https://numpy.org/doc/stable/reference/generated/numpy.loadtxt.html) para cargar los datos de un archivo de texto."
   ]
  },
  {
   "cell_type": "code",
   "execution_count": 37,
   "id": "553b6d59",
   "metadata": {},
   "outputs": [],
   "source": [
    "# En el arreglo zonas, cargue los datos de 'produccion/zonas.csv', \n",
    "# cuyo delimitador es ',' y el tipo de dato (dtype) es str\n",
    "\n",
    "zonas = np.loadtxt('produccion/zonas.csv', delimiter = ',', dtype=str)"
   ]
  },
  {
   "cell_type": "code",
   "execution_count": 38,
   "id": "7d9ae544",
   "metadata": {},
   "outputs": [
    {
     "name": "stdout",
     "output_type": "stream",
     "text": [
      "Zonas: ['zona1' 'zona2' 'zona3' 'zona4' 'zona5' 'zona6']\n",
      "Tamaño de zonas: (6,)\n"
     ]
    }
   ],
   "source": [
    "# Muestre el arreglo zonas\n",
    "# Muestre el tamaño del arreglo zonas\n",
    "\n",
    "tamanioZonas = zonas.shape\n",
    "print(f\"Zonas: {zonas}\")\n",
    "print(f\"Tamaño de zonas: {tamanioZonas}\")"
   ]
  },
  {
   "cell_type": "markdown",
   "id": "8673c3e8",
   "metadata": {},
   "source": [
    "<details>\n",
    "  <summary><div>→ Haga click aquí para ver la solución</div></summary>\n",
    "  <pre lang=\"python\"><code>\n",
    "tamanioZonas = zonas.shape\n",
    "print(f\"Zonas: {zonas}\")\n",
    "print(f\"Tamaño de zonas: {tamanioZonas}\")\n",
    "  </code></pre>\n",
    "</details> "
   ]
  },
  {
   "cell_type": "code",
   "execution_count": 42,
   "id": "7bde8e73",
   "metadata": {},
   "outputs": [],
   "source": [
    "# En el arreglo productos, cargue los datos de 'produccion/productos.csv', \n",
    "# cuyo delimitador es ',' y el tipo de dato (dtype) es str\n",
    "\n",
    "productos = np.loadtxt('produccion/productos.csv', delimiter = ',', dtype=str)"
   ]
  },
  {
   "cell_type": "code",
   "execution_count": 43,
   "id": "2214218d",
   "metadata": {},
   "outputs": [
    {
     "name": "stdout",
     "output_type": "stream",
     "text": [
      "Productos: ['Energía Vitalizante Xtreme' 'EcoLimpiaPro'\n",
      " 'TurboTech Auriculares Inalámbricos' 'SuperBrillo Lavaplatos'\n",
      " 'MaxProtección Crema Solar' 'UltraGourmet Mezcla de Especias'\n",
      " 'SpeedyFresh Desodorante para Refrigerador' 'EcoBike Plegable'\n",
      " 'BrillantePlus Limpiacristales' 'SúperAroma Ambientador de Lavanda'\n",
      " 'MagnoFit Banda de Resistencia' 'MegaSnack Barritas Energéticas'\n",
      " 'AquaBreeze Purificador de Aire' 'BioJardín Fertilizante Orgánico'\n",
      " 'ZoomCam Cámara de Vigilancia HD']\n",
      "Tamaño de Productos: (15,)\n"
     ]
    }
   ],
   "source": [
    "# Muestre el arreglo productos\n",
    "# Muestre el tamaño del arreglo productos\n",
    "\n",
    "tamanioProductos = productos.shape\n",
    "print(f\"Productos: {productos}\")\n",
    "print(f\"Tamaño de Productos: {tamanioProductos}\")"
   ]
  },
  {
   "cell_type": "markdown",
   "id": "d51b4756",
   "metadata": {},
   "source": [
    "<details>\n",
    "  <summary><div>→ Haga click aquí para ver la solución</div></summary>\n",
    "  <pre lang=\"python\"><code>\n",
    "tamanioProductos = productos.shape\n",
    "print(f\"Productos: {productos}\")\n",
    "print(f\"Tamaño de Productos: {tamanioProductos}\")\n",
    "  </code></pre>\n",
    "</details> "
   ]
  },
  {
   "cell_type": "code",
   "execution_count": 44,
   "id": "dd3c79ef",
   "metadata": {},
   "outputs": [],
   "source": [
    "# En los arreglos octubre, noviembre y diciembre, cargue los datos de cada archivo con el nombre correspondiente\n",
    "# cuyo delimitador es ',' y el tipo de dato (dtype) es int\n",
    "\n",
    "octubre = np.loadtxt('produccion/octubre.csv', delimiter = ',', dtype=int)\n",
    "noviembre = np.loadtxt('produccion/noviembre.csv', delimiter = ',', dtype=int)\n",
    "diciembre = np.loadtxt('produccion/diciembre.csv', delimiter = ',', dtype=int)"
   ]
  },
  {
   "cell_type": "code",
   "execution_count": 46,
   "id": "ef8bc133",
   "metadata": {},
   "outputs": [
    {
     "name": "stdout",
     "output_type": "stream",
     "text": [
      "[[13  6  8  7 12 12]\n",
      " [13  6 11  8  8  5]\n",
      " [ 6 12 12 13 12  7]\n",
      " [ 6 12  7  4  6  4]\n",
      " [ 8 10  3 13  7  7]\n",
      " [ 5  4  5 14  2 11]\n",
      " [11  6 13  4  3 10]\n",
      " [ 2  9  7  3  3 10]\n",
      " [ 5 12  3  7 13 11]\n",
      " [ 9  7  8 10  5  8]\n",
      " [10 11 13  5  3  5]\n",
      " [12 11  6  2 10 12]\n",
      " [ 4  6 10  2  2  6]\n",
      " [ 3 12  5  6 12 14]\n",
      " [ 7  3 10 10 12  7]]\n"
     ]
    }
   ],
   "source": [
    "# Muestre la matriz octubre\n",
    "\n",
    "print(octubre)"
   ]
  },
  {
   "cell_type": "code",
   "execution_count": 47,
   "id": "7e40ecc4",
   "metadata": {},
   "outputs": [
    {
     "name": "stdout",
     "output_type": "stream",
     "text": [
      "Tamaño de la matriz Octubre: (15, 6)\n"
     ]
    }
   ],
   "source": [
    "# Muestre el tamaño de la matriz octubre\n",
    "\n",
    "tamanioOctubre = octubre.shape\n",
    "print(f\"Tamaño de la matriz Octubre: {tamanioOctubre}\")"
   ]
  },
  {
   "cell_type": "markdown",
   "id": "7286799f",
   "metadata": {},
   "source": [
    "<details>\n",
    "  <summary><div>→ Haga click aquí para ver la solución</div></summary>\n",
    "  <pre lang=\"python\"><code>\n",
    "tamanioOctubre = octubre.shape\n",
    "print(f\"Tamaño de la matriz: {tamanioOctubre}\")\n",
    "  </code></pre>\n",
    "</details> "
   ]
  },
  {
   "cell_type": "markdown",
   "id": "ef124c18",
   "metadata": {},
   "source": [
    "[Regresar a la TC](#Tabla-de-Contenidos)"
   ]
  },
  {
   "cell_type": "markdown",
   "id": "7f5e9986",
   "metadata": {},
   "source": [
    "## Ejercicios\n",
    "\n",
    "Para los siguientes ejercicios, considere que las matrices `octubre`, `noviembre` y `diciembre` corresponden a la cantidad de productos elaborados en los tres últimos los meses del año pasado. \n",
    "\n",
    "Las **filas** están directamente relacionados con los `productos` y las **columnas** están directamente relacionadas con las `zonas` de producción.\n",
    "\n",
    "<br>\n",
    "<div align=\"center\">\n",
    "    <img src=\"https://github.com/MCD-ESPOL/PCD/blob/main/notebooks/images/arr_b8.png?raw=true\" width=\"75%\">\n",
    "</div>"
   ]
  },
  {
   "cell_type": "markdown",
   "id": "ad12d171",
   "metadata": {},
   "source": [
    "**Ejercicio 01:** Muestre la matriz resultante con la suma de los tres últimos meses"
   ]
  },
  {
   "cell_type": "code",
   "execution_count": 48,
   "id": "58cd6e07",
   "metadata": {},
   "outputs": [
    {
     "name": "stdout",
     "output_type": "stream",
     "text": [
      "Matriz Resultante\n",
      "[[21 15 18 28 27 35]\n",
      " [23 23 21 23 20 22]\n",
      " [22 22 27 24 24 24]\n",
      " [23 31 17 15 27 15]\n",
      " [35 20 29 33 21 17]\n",
      " [12 18 20 31 17 39]\n",
      " [22 29 22 18 29 26]\n",
      " [14 33 23 21 18 26]\n",
      " [24 31 18 28 27 26]\n",
      " [25 25 20 20 25 27]\n",
      " [19 15 23 22 21 23]\n",
      " [30 32 18 23 32 31]\n",
      " [18 28 24 22 19 25]\n",
      " [28 25 15 19 32 30]\n",
      " [31 24 25 32 17 24]]\n"
     ]
    }
   ],
   "source": [
    "matrizResultante = octubre + noviembre + diciembre\n",
    "print(\"Matriz Resultante\")\n",
    "print(matrizResultante)"
   ]
  },
  {
   "cell_type": "markdown",
   "id": "d8b88c3b",
   "metadata": {},
   "source": [
    "**Ejercicio 02:** Muestre el total (suma) de la producción del mes de octubre."
   ]
  },
  {
   "cell_type": "code",
   "execution_count": 51,
   "id": "148001b8",
   "metadata": {},
   "outputs": [
    {
     "name": "stdout",
     "output_type": "stream",
     "text": [
      "709\n"
     ]
    }
   ],
   "source": [
    "totalOctubre = np.sum(octubre)\n",
    "print(totalOctubre)"
   ]
  },
  {
   "cell_type": "markdown",
   "id": "09e7ba99",
   "metadata": {},
   "source": [
    "**Ejercicio 03:** Muestre el total (suma) de producción de los tres últimos meses"
   ]
  },
  {
   "cell_type": "code",
   "execution_count": 50,
   "id": "75cbe58f",
   "metadata": {},
   "outputs": [
    {
     "name": "stdout",
     "output_type": "stream",
     "text": [
      "2143\n"
     ]
    }
   ],
   "source": [
    "total = np.sum(matrizResultante)\n",
    "print(total)"
   ]
  },
  {
   "cell_type": "markdown",
   "id": "31c03376",
   "metadata": {},
   "source": [
    "**Ejercicio 04:** Obtenga el total de producción por las zonas (de todas las filas) de la matriz con los tres últimos meses. "
   ]
  },
  {
   "cell_type": "code",
   "execution_count": 55,
   "id": "aa805306",
   "metadata": {},
   "outputs": [
    {
     "name": "stdout",
     "output_type": "stream",
     "text": [
      "Total por zonas\n",
      "['zona1' 'zona2' 'zona3' 'zona4' 'zona5' 'zona6']\n",
      "[347 371 320 359 356 390]\n"
     ]
    }
   ],
   "source": [
    "totalPorZonas = np.sum(matrizResultante, axis = 0)\n",
    "\n",
    "print(\"Total por zonas\")\n",
    "print(zonas)\n",
    "print(totalPorZonas)"
   ]
  },
  {
   "cell_type": "markdown",
   "id": "7770e8c2",
   "metadata": {},
   "source": [
    "**Ejercicio 05:** Grafique los nombres de las zonas _versus_ el total de producción por las zonas de la matriz con los tres últimos meses."
   ]
  },
  {
   "cell_type": "code",
   "execution_count": 61,
   "id": "056d59ab",
   "metadata": {},
   "outputs": [
    {
     "data": {
      "text/plain": [
       "Text(0, 0.5, 'Total')"
      ]
     },
     "execution_count": 61,
     "metadata": {},
     "output_type": "execute_result"
    },
    {
     "data": {
      "image/png": "[encoded data removed]",
      "text/plain": [
       "<Figure size 640x480 with 1 Axes>"
      ]
     },
     "metadata": {},
     "output_type": "display_data"
    }
   ],
   "source": [
    "plt.bar(zonas, totalPorZonas)\n",
    "plt.title(\"Zonas vs Total de producción por zonas\")\n",
    "plt.xlabel(\"Zonas\")\n",
    "plt.ylabel(\"Total\")"
   ]
  },
  {
   "cell_type": "markdown",
   "id": "ec40b673",
   "metadata": {},
   "source": [
    "**Ejercicio 06:** Utilice la matriz con los tres últimos meses para mostrar el total de la `zona 4`"
   ]
  },
  {
   "cell_type": "code",
   "execution_count": 62,
   "id": "7d9a2f74",
   "metadata": {},
   "outputs": [
    {
     "name": "stdout",
     "output_type": "stream",
     "text": [
      "Total de la zona 4: 359\n"
     ]
    }
   ],
   "source": [
    "totalZona4 = totalPorZonas[3]\n",
    "\n",
    "print(f\"Total de la zona 4: {totalZona4}\")"
   ]
  },
  {
   "cell_type": "markdown",
   "id": "f2ad42af",
   "metadata": {},
   "source": [
    "**Ejercicio 07:** Muestre el total de producción en el mes de noviembre para el producto `'SúperAroma Ambientador de Lavanda'`"
   ]
  },
  {
   "cell_type": "code",
   "execution_count": 64,
   "id": "6792de32",
   "metadata": {},
   "outputs": [
    {
     "name": "stdout",
     "output_type": "stream",
     "text": [
      "Total de producción en el mes de noviembre para el producto 'SúperAroma Ambientador de Lavanda': 39\n"
     ]
    }
   ],
   "source": [
    "mascaraProductos = productos == 'SúperAroma Ambientador de Lavanda'\n",
    "\n",
    "fila = noviembre[mascaraProductos,:]\n",
    "totalSAL = np.sum(fila)\n",
    "print(f\"Total de producción en el mes de noviembre para el producto 'SúperAroma Ambientador de Lavanda': {totalSAL}\")"
   ]
  },
  {
   "cell_type": "markdown",
   "id": "8b61581e",
   "metadata": {},
   "source": [
    "**Ejercicio 08:** Muestre el nombre del producto con la mayor producción del mes de diciembre."
   ]
  },
  {
   "cell_type": "code",
   "execution_count": 67,
   "id": "43489120",
   "metadata": {},
   "outputs": [
    {
     "name": "stdout",
     "output_type": "stream",
     "text": [
      "Producto con la mayor producción del mes de diciembre 'UltraGourmet Mezcla de Especias'\n"
     ]
    }
   ],
   "source": [
    "totalPorProductos = np.sum(diciembre, axis = 1)\n",
    "\n",
    "idxMax = np.argmax(totalPorProductos)\n",
    "productoMax = productos[idxMax]\n",
    "print(f\"Producto con la mayor producción del mes de diciembre '{productoMax}'\")"
   ]
  },
  {
   "cell_type": "markdown",
   "id": "d2bcdfda",
   "metadata": {},
   "source": [
    "**Ejercicio 09:** Muestre el nombre de la zona con la menor producción del mes de noviembre."
   ]
  },
  {
   "cell_type": "code",
   "execution_count": 75,
   "id": "49b219c3",
   "metadata": {},
   "outputs": [
    {
     "name": "stdout",
     "output_type": "stream",
     "text": [
      "Nombre de la zona con la menor producción del mes de noviembre 'zona3': 100\n"
     ]
    }
   ],
   "source": [
    "totalZonas = np.sum(noviembre, axis = 0)\n",
    "\n",
    "minimo = np.min(totalZonas)\n",
    "idxMin = np.argmin(totalZonas)\n",
    "zonaMin = zonas[idxMin]\n",
    "\n",
    "print(f\"Nombre de la zona con la menor producción del mes de noviembre '{zonaMax}': {minimo}\")"
   ]
  },
  {
   "cell_type": "markdown",
   "id": "24fb58ac",
   "metadata": {},
   "source": [
    "[Regresar a la TC](#Tabla-de-Contenidos)"
   ]
  }
 ],
 "metadata": {
  "kernelspec": {
   "display_name": "Python 3 (ipykernel)",
   "language": "python",
   "name": "python3"
  },
  "language_info": {
   "codemirror_mode": {
    "name": "ipython",
    "version": 3
   },
   "file_extension": ".py",
   "mimetype": "text/x-python",
   "name": "python",
   "nbconvert_exporter": "python",
   "pygments_lexer": "ipython3",
   "version": "3.11.5"
  }
 },
 "nbformat": 4,
 "nbformat_minor": 5
}
