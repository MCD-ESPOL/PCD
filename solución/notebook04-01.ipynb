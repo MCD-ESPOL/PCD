{
 "cells": [
  {
   "cell_type": "markdown",
   "id": "6172ca88",
   "metadata": {},
   "source": [
    "# Tabla de Contenidos\n",
    "\n",
    "* [Contenidos](#Tabla-de-Contenidos)\n",
    "    * [Listas](#Listas)\n",
    "    * [Lista vacía](#Lista-vacía)\n",
    "    * [Agregar elemento(s) a una lista](#Agregar-elemento(s)-a-una-lista)\n",
    "    * [Operaciones con listas](#Operaciones-con-listas)\n",
    "* [Ejercicios](#Ejercicios)"
   ]
  },
  {
   "cell_type": "markdown",
   "id": "6b535544-1310-4d5d-a06a-ce4bce87d876",
   "metadata": {},
   "source": [
    "## Listas\n",
    "\n",
    "Este tipo de dato permite agrupar datos (incluso de diferentes tipos) relacionados entre sí."
   ]
  },
  {
   "cell_type": "markdown",
   "id": "dbfb8018",
   "metadata": {},
   "source": [
    "### Lista vacía\n",
    "\n",
    "Una lista vacía se crea asignando un par de corchetes sin contenido, como se muestra a continuación.\n",
    "\n",
    "<br><br>\n",
    "<div align=\"center\">\n",
    "    <img src=\"https://github.com/MCD-ESPOL/PCD/blob/main/notebooks/images/python_listas0.png?raw=true\" width=\"60%\">\n",
    "</div>"
   ]
  },
  {
   "cell_type": "code",
   "execution_count": 4,
   "id": "7229db65",
   "metadata": {},
   "outputs": [],
   "source": [
    "# Cree dos listas vacías: productos y valores  \n",
    "\n",
    "productos = []\n",
    "valores = []"
   ]
  },
  {
   "cell_type": "markdown",
   "id": "7582a685",
   "metadata": {},
   "source": [
    "<details>\n",
    "  <summary><div>→ Haga click aquí para ver la solución</div></summary>\n",
    "  <pre lang=\"python\"><code>\n",
    "productos = []\n",
    "valores = []\n",
    "  </code></pre>\n",
    "</details> "
   ]
  },
  {
   "cell_type": "code",
   "execution_count": 5,
   "id": "d9cb410b",
   "metadata": {},
   "outputs": [
    {
     "name": "stdout",
     "output_type": "stream",
     "text": [
      "Lista productos: []\n",
      "Lista valores: []\n"
     ]
    }
   ],
   "source": [
    "# Muestre las listas productos y valores  \n",
    "\n",
    "print(f\"Lista productos: {productos}\")\n",
    "print(f\"Lista valores: {valores}\")"
   ]
  },
  {
   "cell_type": "markdown",
   "id": "98e6190f",
   "metadata": {},
   "source": [
    "<details>\n",
    "  <summary><div>→ Haga click aquí para ver la solución</div></summary>\n",
    "  <pre lang=\"python\"><code>\n",
    "print(f\"Lista productos: {productos}\")\n",
    "print(f\"Lista valores: {valores}\")\n",
    "  </code></pre>\n",
    "</details> "
   ]
  },
  {
   "cell_type": "markdown",
   "id": "b48b9b18",
   "metadata": {},
   "source": [
    "[Regresar a la TC](#Tabla-de-Contenidos)"
   ]
  },
  {
   "cell_type": "markdown",
   "id": "64a28ae5",
   "metadata": {},
   "source": [
    "### Agregar elemento(s) a una lista\n",
    "\n",
    "Para agregar elemento(s) a una lista es posible asignar elementos a la lista **o** utilizar el método `append`.\n",
    "\n",
    "<br><br>\n",
    "<div align=\"center\">\n",
    "    <img src=\"https://github.com/MCD-ESPOL/PCD/blob/main/notebooks/images/python_listas1.png?raw=true\" width=\"80%\">\n",
    "</div>\n",
    "\n",
    "**NOTA:** Con el método `append` se agrega un elemento a la vez. "
   ]
  },
  {
   "cell_type": "code",
   "execution_count": 6,
   "id": "0f6e9795",
   "metadata": {},
   "outputs": [
    {
     "name": "stdout",
     "output_type": "stream",
     "text": [
      "La lista de productos: ['CAFE NESCAFE 100 G', 'ARROZ CONEJO SACO 20 LB', 'AZUCAR SAN CARLOS 2 KG', \"PAN MOLDE TA'RIKO 450 G\", 'CHOCOLATE P/TAZA TUNGURAHUA 250 G', 'LENTEJON SABOREANDO 500 G']\n"
     ]
    }
   ],
   "source": [
    "# Asigne a la lista productos los elementos: \n",
    "#   [ 'CAFE NESCAFE 100 G', 'ARROZ CONEJO SACO 20 LB', 'AZUCAR SAN CARLOS 2 KG', \"PAN MOLDE TA'RIKO 450 G\", \"CHOCOLATE P/TAZA TUNGURAHUA 250 G\", \"LENTEJON SABOREANDO 500 G\"]\n",
    "# Muestre la lista productos.\n",
    "\n",
    "productos = [ 'CAFE NESCAFE 100 G', 'ARROZ CONEJO SACO 20 LB', 'AZUCAR SAN CARLOS 2 KG', \"PAN MOLDE TA'RIKO 450 G\", \"CHOCOLATE P/TAZA TUNGURAHUA 250 G\", \"LENTEJON SABOREANDO 500 G\"]\n",
    "\n",
    "print(f\"La lista de productos: {productos}\")"
   ]
  },
  {
   "cell_type": "markdown",
   "id": "f9ea79c7",
   "metadata": {},
   "source": [
    "<details>\n",
    "  <summary><div>→ Haga click aquí para ver la solución</div></summary>\n",
    "  <pre lang=\"python\"><code>\n",
    "productos = [ 'CAFE NESCAFE 100 G', 'ARROZ CONEJO SACO 20 LB', 'AZUCAR SAN CARLOS 2 KG', \"PAN MOLDE TA'RIKO 450 G\", \"CHOCOLATE P/TAZA TUNGURAHUA 250 G\", \"LENTEJON SABOREANDO 500 G\"]\n",
    "print(f\"La lista de productos: {productos}\")\n",
    "  </code></pre>\n",
    "</details> "
   ]
  },
  {
   "cell_type": "code",
   "execution_count": 7,
   "id": "ab034b08",
   "metadata": {},
   "outputs": [
    {
     "name": "stdout",
     "output_type": "stream",
     "text": [
      "La lista de valores: [5.29, 11.99, 2.19, 0.99, 2.09, 1.49]\n"
     ]
    }
   ],
   "source": [
    "# Para la lista valores, utilice el método append para agregar UNO A UNO de los siguientes datos: \n",
    "#   5.29, 11.99, 2.19, 0.99, 2.09 y 1.49\n",
    "# Muestre la lista valores\n",
    "\n",
    "valores.append(5.29)\n",
    "valores.append(11.99)\n",
    "valores.append(2.19)\n",
    "valores.append(0.99)\n",
    "valores.append(2.09)\n",
    "valores.append(1.49)\n",
    "\n",
    "print(f\"La lista de valores: {valores}\")"
   ]
  },
  {
   "cell_type": "markdown",
   "id": "e818d4fd",
   "metadata": {},
   "source": [
    "<details>\n",
    "  <summary><div>→ Haga click aquí para ver la solución</div></summary>\n",
    "  <pre lang=\"python\"><code>\n",
    "valores.append(5.29)\n",
    "valores.append(11.99)\n",
    "valores.append(2.19)\n",
    "valores.append(0.99)\n",
    "valores.append(2.09)\n",
    "valores.append(1.49)\n",
    "\n",
    "print(f\"La lista de valores: {valores}\")\n",
    "  </code></pre>\n",
    "</details> "
   ]
  },
  {
   "cell_type": "markdown",
   "id": "2aaab5d1",
   "metadata": {},
   "source": [
    "[Regresar a la TC](#Tabla-de-Contenidos)"
   ]
  },
  {
   "cell_type": "markdown",
   "id": "908606ca",
   "metadata": {},
   "source": [
    "### Operaciones con listas\n",
    "\n",
    "Con las listas es posible realizar operaciones como: `max` (valor míximo), `min` (valor máximo), `len` (longitud o cantidad de elementos) y `sum` (suma de todos los elementos). Sin embargo, no todas las operaciones pueden realizarse sobre las listas.\n",
    "\n",
    "\n",
    "<br><br>\n",
    "<div align=\"center\">\n",
    "    <img src=\"https://github.com/MCD-ESPOL/PCD/blob/main/notebooks/images/python_listas2.png?raw=true\" width=\"60%\">\n",
    "</div>"
   ]
  },
  {
   "cell_type": "code",
   "execution_count": 8,
   "id": "3229ab28",
   "metadata": {},
   "outputs": [
    {
     "name": "stdout",
     "output_type": "stream",
     "text": [
      "La cantidad de productos es 6\n"
     ]
    }
   ],
   "source": [
    "# En la variable cantidadProductos asigne la cantidad de elementos (len) de la lista productos.\n",
    "# Muestre el contenido de la variable cantidadProductos\n",
    "\n",
    "cantidadProductos = len(productos)\n",
    "print(f\"La cantidad de productos es {cantidadProductos}\")"
   ]
  },
  {
   "cell_type": "markdown",
   "id": "a2324cee",
   "metadata": {},
   "source": [
    "<details>\n",
    "  <summary><div>→ Haga click aquí para ver la solución</div></summary>\n",
    "  <pre lang=\"python\"><code>\n",
    "cantidadProductos = len(productos)\n",
    "print(f\"La cantidad de productos es {cantidadProductos}\")\n",
    "  </code></pre>\n",
    "</details> "
   ]
  },
  {
   "cell_type": "code",
   "execution_count": 9,
   "id": "13999d9a",
   "metadata": {},
   "outputs": [
    {
     "name": "stdout",
     "output_type": "stream",
     "text": [
      "El valor máximo es: 11.99\n"
     ]
    }
   ],
   "source": [
    "# En la variable maxValor asigne el valor máximo (max) de la lista valores.\n",
    "# Muestre el contenido de la variable maxValor\n",
    "\n",
    "\n",
    "maxValor = max(valores)\n",
    "print(f\"El valor máximo es: {maxValor}\")"
   ]
  },
  {
   "cell_type": "markdown",
   "id": "3e7599cc",
   "metadata": {},
   "source": [
    "<details>\n",
    "  <summary><div>→ Haga click aquí para ver la solución</div></summary>\n",
    "  <pre lang=\"python\"><code>\n",
    "maxValor = max(valores)\n",
    "print(f\"El valor máximo es: {maxValor}\")\n",
    "  </code></pre>\n",
    "</details> "
   ]
  },
  {
   "cell_type": "code",
   "execution_count": 10,
   "id": "b9dc87e2",
   "metadata": {},
   "outputs": [
    {
     "name": "stdout",
     "output_type": "stream",
     "text": [
      "El valor mínimo es: 0.99\n"
     ]
    }
   ],
   "source": [
    "# En la variable minValor asigne el valor mínimo (min) de la lista valores.\n",
    "# Muestre el contenido de la variable minValor\n",
    "\n",
    "minValor = min(valores)\n",
    "print(f\"El valor mínimo es: {minValor}\")"
   ]
  },
  {
   "cell_type": "markdown",
   "id": "71de88cf",
   "metadata": {},
   "source": [
    "<details>\n",
    "  <summary><div>→ Haga click aquí para ver la solución</div></summary>\n",
    "  <pre lang=\"python\"><code>\n",
    "minValor = min(valores)\n",
    "print(f\"El valor mínimo es: {minValor}\")\n",
    "  </code></pre>\n",
    "</details> "
   ]
  },
  {
   "cell_type": "code",
   "execution_count": 11,
   "id": "b9957fa4",
   "metadata": {},
   "outputs": [
    {
     "name": "stdout",
     "output_type": "stream",
     "text": [
      "El total es: 24.04\n"
     ]
    }
   ],
   "source": [
    "# En la variable totalValor asigne el total (sum) de la lista valores.\n",
    "# Muestre el contenido de la variable totalValor\n",
    "\n",
    "totalValor = sum(valores)\n",
    "print(f\"El total es: {totalValor}\")"
   ]
  },
  {
   "cell_type": "markdown",
   "id": "fc33e383",
   "metadata": {},
   "source": [
    "<details>\n",
    "  <summary><div>→ Haga click aquí para ver la solución</div></summary>\n",
    "  <pre lang=\"python\"><code>\n",
    "totalValor = sum(valores)\n",
    "print(f\"El total es: {totalValor}\")\n",
    "  </code></pre>\n",
    "</details> "
   ]
  },
  {
   "cell_type": "code",
   "execution_count": 12,
   "id": "3018b585",
   "metadata": {},
   "outputs": [
    {
     "name": "stdout",
     "output_type": "stream",
     "text": [
      "El producto máximo (?): PAN MOLDE TA'RIKO 450 G\n"
     ]
    }
   ],
   "source": [
    "# En la variable maxProducto asigne el valor máximo (max) de la lista productos.\n",
    "# Muestre el contenido de la variable maxProducto\n",
    "\n",
    "maxProducto = max(productos)\n",
    "print(f\"El producto máximo (?): {maxProducto}\")"
   ]
  },
  {
   "cell_type": "markdown",
   "id": "dd847096",
   "metadata": {},
   "source": [
    "<details>\n",
    "  <summary><div>→ Haga click aquí para ver la solución</div></summary>\n",
    "  <pre lang=\"python\"><code>\n",
    "maxProducto = max(productos)\n",
    "print(f\"El producto máximo (?): {maxProducto}\")\n",
    "  </code></pre>\n",
    "</details> "
   ]
  },
  {
   "cell_type": "code",
   "execution_count": 13,
   "id": "b86eeafd",
   "metadata": {},
   "outputs": [
    {
     "name": "stdout",
     "output_type": "stream",
     "text": [
      "El producto mínimo (?): ARROZ CONEJO SACO 20 LB\n"
     ]
    }
   ],
   "source": [
    "# En la variable minProducto asigne el valor mínimo (min) de la lista productos.\n",
    "# Muestre el contenido de la variable minProducto\n",
    "\n",
    "minProducto = min(productos)\n",
    "print(f\"El producto mínimo (?): {minProducto}\")"
   ]
  },
  {
   "cell_type": "markdown",
   "id": "6dbaf4ca",
   "metadata": {},
   "source": [
    "<details>\n",
    "  <summary><div>→ Haga click aquí para ver la solución</div></summary>\n",
    "  <pre lang=\"python\"><code>\n",
    "minProducto = min(productos)\n",
    "print(f\"El producto mínimo (?): {minProducto}\")\n",
    "  </code></pre>\n",
    "</details> "
   ]
  },
  {
   "cell_type": "markdown",
   "id": "6f051748",
   "metadata": {},
   "source": [
    "[Regresar a la TC](#Tabla-de-Contenidos)"
   ]
  },
  {
   "cell_type": "markdown",
   "id": "9fd9faf2",
   "metadata": {},
   "source": [
    "## Ejercicios"
   ]
  },
  {
   "cell_type": "markdown",
   "id": "a960c5e4",
   "metadata": {},
   "source": [
    "**Ejercicio 01: Análisis de ventas**\n",
    "\n",
    "**Temas:** Variables, Tipos de datos, Salida por pantalla, Listas\n",
    "\n",
    "Crea un programa que utilice con las listas _meses_ y _ventas_."
   ]
  },
  {
   "cell_type": "code",
   "execution_count": 14,
   "id": "af8ac069",
   "metadata": {},
   "outputs": [],
   "source": [
    "meses = [\"Enero\", \"Febrero\", \"Marzo\", \"Abril\", \"Mayo\", \"Junio\", \"Julio\", \"Agosto\", \"Septiembre\", \"Octubre\", \"Noviembre\", \"Diciembre\"]\n",
    "ventas = [3.73, 9.46, 6.01, 5.74, 4.51, 7.6, 6.04, 2.59, 6.88, 7.96, 4.75, 7.96]"
   ]
  },
  {
   "cell_type": "markdown",
   "id": "c2d47ce2",
   "metadata": {},
   "source": [
    "1. Mostrar el valor máximo y el valor mínimo de ventas."
   ]
  },
  {
   "cell_type": "code",
   "execution_count": null,
   "id": "db0f8b3a",
   "metadata": {},
   "outputs": [],
   "source": []
  },
  {
   "cell_type": "markdown",
   "id": "51ba4f47",
   "metadata": {},
   "source": [
    "2. Mostrar por pantalla total de ventas"
   ]
  },
  {
   "cell_type": "code",
   "execution_count": null,
   "id": "be13426e",
   "metadata": {},
   "outputs": [],
   "source": []
  },
  {
   "cell_type": "markdown",
   "id": "9f6e0355",
   "metadata": {},
   "source": [
    "3. Calcular y mostrar promedio de ventas."
   ]
  },
  {
   "cell_type": "code",
   "execution_count": null,
   "id": "d8b404ca",
   "metadata": {},
   "outputs": [],
   "source": []
  },
  {
   "cell_type": "markdown",
   "id": "ce1504db",
   "metadata": {},
   "source": [
    "4. Mostrar el valor máximo de ventas."
   ]
  },
  {
   "cell_type": "code",
   "execution_count": null,
   "id": "fb962670",
   "metadata": {},
   "outputs": [],
   "source": []
  },
  {
   "cell_type": "markdown",
   "id": "3c3d320a",
   "metadata": {},
   "source": [
    "5. Mostrar el valor mínimo de ventas."
   ]
  },
  {
   "cell_type": "code",
   "execution_count": null,
   "id": "c30f3450",
   "metadata": {},
   "outputs": [],
   "source": []
  },
  {
   "cell_type": "markdown",
   "id": "34749208",
   "metadata": {},
   "source": [
    "**Ejercicio 02: Registro de Temperaturas Semanales**\n",
    "\n",
    "**Temas:** Lista vacía, Agregar elementos a una lista, Operaciones con listas\n",
    "\n",
    "Escribe un programa que permita al usuario registrar las temperaturas diarias de una semana (7 días). Comienza creando una lista vacía y pide al usuario que ingrese la temperatura para cada día, agregando cada valor a la lista. Al final, el programa debe:\n",
    "\n",
    "- Mostrar todas las temperaturas ingresadas.\n",
    "- Calcular y mostrar la temperatura promedio de la semana.\n",
    "- Mostrar la temperatura más alta y la más baja registrada."
   ]
  },
  {
   "cell_type": "code",
   "execution_count": null,
   "id": "4d88eb9f",
   "metadata": {},
   "outputs": [],
   "source": []
  },
  {
   "cell_type": "markdown",
   "id": "a763cb46",
   "metadata": {},
   "source": [
    "[Regresar a la TC](#Tabla-de-Contenidos)"
   ]
  }
 ],
 "metadata": {
  "kernelspec": {
   "display_name": "Python 3 (ipykernel)",
   "language": "python",
   "name": "python3"
  },
  "language_info": {
   "codemirror_mode": {
    "name": "ipython",
    "version": 3
   },
   "file_extension": ".py",
   "mimetype": "text/x-python",
   "name": "python",
   "nbconvert_exporter": "python",
   "pygments_lexer": "ipython3",
   "version": "3.11.5"
  }
 },
 "nbformat": 4,
 "nbformat_minor": 5
}
