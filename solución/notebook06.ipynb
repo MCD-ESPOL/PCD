{
 "cells": [
  {
   "cell_type": "markdown",
   "id": "6172ca88",
   "metadata": {},
   "source": [
    "# Tabla de Contenidos\n",
    "\n",
    "* [Contenidos](#Tabla-de-Contenidos)\n",
    "    * [Arreglos](#Arreglos)\n",
    "        * [Importar librerías externas](#Importar-librerías-externas)\n",
    "        * [De lista a arreglos](#De-lista-a-arreglos)\n",
    "        * [Operaciones con arreglos](#Operaciones-con-arreglos)\n",
    "        * [Indexación y Rebanadas](#Indexación-y-Rebanadas)\n",
    "        * [Búsqueda (filtrado) de valores](#Búsqueda-(filtrado)-de-valores)\n",
    "    * [Archivos](#Archivos)\n",
    "        * [Carga de datos](#Carga-de-datos)\n",
    "* [Ejercicios](#Ejercicios)"
   ]
  },
  {
   "cell_type": "markdown",
   "id": "5dcffc85",
   "metadata": {},
   "source": [
    "## Arreglos\n",
    "\n",
    "Los arreglos, y matrices, son tipos de datos estructurados homogéneos (un solo tipo de dato), optimizados para el cálculo usando vectores y matrices. Los arrays suelen contener números enteros, reales y complejos. \n",
    "\n",
    "Python no tiene soporte integrado para arreglos. Para esto, utilizamos el librería [NumPy](https://numpy.org/), cuya documentación se encuentra en [NumPy documentation](https://numpy.org/doc/stable/).\n",
    "\n",
    "<div align=\"center\">\n",
    "    <img src=\"https://github.com/MCD-ESPOL/PCD/blob/main/notebooks/images/logo.svg?raw=true\" width=\"15%\">\n",
    "</div>"
   ]
  },
  {
   "cell_type": "markdown",
   "id": "2fedb79b",
   "metadata": {},
   "source": [
    "## Importar librerías externas"
   ]
  },
  {
   "cell_type": "code",
   "execution_count": 1,
   "id": "c6e20e43",
   "metadata": {},
   "outputs": [],
   "source": [
    "# Importe la librería numpy con el alias np\n",
    "# Importe la libreria matplotlib con el alias plt\n",
    "\n",
    "import numpy as np\n",
    "import matplotlib.pyplot as plt"
   ]
  },
  {
   "cell_type": "markdown",
   "id": "e1683bf7",
   "metadata": {},
   "source": [
    "[Regresar a la TC](#Tabla-de-Contenidos)"
   ]
  },
  {
   "cell_type": "markdown",
   "id": "8b09a8da",
   "metadata": {},
   "source": [
    "<details>\n",
    "  <summary><div>→ Haga click aquí para ver la solución</div></summary>\n",
    "  <pre lang=\"python\"><code>\n",
    "import numpy as np\n",
    "import matplotlib.pyplot as plt\n",
    "  </code></pre>\n",
    "</details> "
   ]
  },
  {
   "cell_type": "markdown",
   "id": "0416b3dd",
   "metadata": {},
   "source": [
    "## De lista a arreglos\n",
    "\n",
    "Para crear [un arreglo a partir de una lista](https://numpy.org/doc/stable/user/basics.creation.html#converting-python-sequences-to-numpy-arrays), utilizaremos la función **array**.\n",
    "\n",
    "\n",
    "\n",
    "<div align=\"center\">\n",
    "    <img src=\"https://github.com/MCD-ESPOL/PCD/blob/main/notebooks/images/arr_ini.png?raw=true\" width=\"40%\">\n",
    "</div>"
   ]
  },
  {
   "cell_type": "code",
   "execution_count": 2,
   "id": "29b95c91",
   "metadata": {},
   "outputs": [],
   "source": [
    "# Cargue las listas nombres_libros, genero_literario y ventas\n",
    "\n",
    "nombres_libros = ['El señor de los anillos', 'Cien años de soledad', 'Harry Potter', '1984', 'Orgullo y prejuicio', 'Crimen y castigo', 'El gran Gatsby', 'Matar un ruiseñor', 'La Odisea', 'Don Quijote de la Mancha']\n",
    "genero_literario = ['Fantasía', 'Realismo mágico', 'Fantasía', 'Distopía', 'Novela romántica', 'Novela psicológica', 'Ficción moderna', 'Novela clásica', 'Epopeya', 'Novela clásica']\n",
    "ventas = [150, 120, 200, 90, 80, 110, 95, 130, 75, 160]"
   ]
  },
  {
   "cell_type": "code",
   "execution_count": 3,
   "id": "b28af931",
   "metadata": {},
   "outputs": [],
   "source": [
    "# Convierta las listas en los arreglos nombres_librosArr, genero_literarioArr y ventasArr correspondientes\n",
    "\n",
    "\n",
    "nombres_librosArr = np.array(nombres_libros)\n",
    "genero_literarioArr = np.array(genero_literario)\n",
    "ventasArr = np.array(ventas)"
   ]
  },
  {
   "cell_type": "markdown",
   "id": "352a5890",
   "metadata": {},
   "source": [
    "<details>\n",
    "  <summary><div>→ Haga click aquí para ver la solución</div></summary>\n",
    "  <pre lang=\"python\"><code>\n",
    "nombres_librosArr = np.array(nombres_libros)\n",
    "genero_literarioArr = np.array(genero_literario)\n",
    "ventasArr = np.array(ventas)\n",
    "  </code></pre>\n",
    "</details> "
   ]
  },
  {
   "cell_type": "code",
   "execution_count": 4,
   "id": "b3581601",
   "metadata": {},
   "outputs": [
    {
     "name": "stdout",
     "output_type": "stream",
     "text": [
      "Lista: ['El señor de los anillos', 'Cien años de soledad', 'Harry Potter', '1984', 'Orgullo y prejuicio', 'Crimen y castigo', 'El gran Gatsby', 'Matar un ruiseñor', 'La Odisea', 'Don Quijote de la Mancha']\n",
      "Arreglo: ['El señor de los anillos' 'Cien años de soledad' 'Harry Potter' '1984'\n",
      " 'Orgullo y prejuicio' 'Crimen y castigo' 'El gran Gatsby'\n",
      " 'Matar un ruiseñor' 'La Odisea' 'Don Quijote de la Mancha']\n"
     ]
    }
   ],
   "source": [
    "# Muestre por pantalla la lista nombres_libros y el arreglo nombres_librosArr.\n",
    "\n",
    "print(f\"Lista: {nombres_libros}\",)\n",
    "print(f\"Arreglo: {nombres_librosArr}\")"
   ]
  },
  {
   "cell_type": "markdown",
   "id": "0d377516",
   "metadata": {},
   "source": [
    "<details>\n",
    "  <summary><div>→ Haga click aquí para ver la solución</div></summary>\n",
    "  <pre lang=\"python\"><code>\n",
    "print(f\"Lista: {nombres_libros}\",)\n",
    "print(f\"Arreglo: {nombres_librosArr}\")\n",
    "  </code></pre>\n",
    "</details> "
   ]
  },
  {
   "cell_type": "markdown",
   "id": "c5ebbbf6",
   "metadata": {},
   "source": [
    "[Regresar a la TC](#Tabla-de-Contenidos)"
   ]
  },
  {
   "cell_type": "markdown",
   "id": "51c35a99",
   "metadata": {},
   "source": [
    "## Operaciones con arreglos\n",
    "\n",
    "Numpy ofrece un grupo de [funciones agregadas](https://www.tutorialgateway.org/python-numpy-aggregate-functions/), como: **sum**, **mean**, **std**,  **max**, **min**, **argmin**, **argmax** y muchas más.\n",
    "\n",
    "La lista completa de [funciones matemáticas](https://numpy.org/doc/stable/reference/routines.math.html) puede encontrarla en la documentación de Numpy.\n",
    "\n",
    "\n",
    "\n",
    "\n",
    "<div align=\"center\">\n",
    "    <img src=\"https://github.com/MCD-ESPOL/PCD/blob/main/notebooks/images/arr_aggr.png?raw=true\" width=\"60%\">\n",
    "</div>\n",
    "\n"
   ]
  },
  {
   "cell_type": "code",
   "execution_count": 5,
   "id": "65bc0556",
   "metadata": {},
   "outputs": [
    {
     "name": "stdout",
     "output_type": "stream",
     "text": [
      "El valor máximo: 200\n"
     ]
    }
   ],
   "source": [
    "# Utilice el alias np con la función max, para obtener el valor máximo del arreglo ventasArr. \n",
    "# Muestre el valor máximo\n",
    "\n",
    "maximo = np.max(ventasArr)\n",
    "print(f\"El valor máximo: {maximo}\")"
   ]
  },
  {
   "cell_type": "markdown",
   "id": "4cf1a20b",
   "metadata": {},
   "source": [
    "<details>\n",
    "  <summary><div>→ Haga click aquí para ver la solución</div></summary>\n",
    "  <pre lang=\"python\"><code>\n",
    "maximo = np.max(ventasArr)\n",
    "print(f\"El valor máximo: {maximo}\")\n",
    "  </code></pre>\n",
    "</details> "
   ]
  },
  {
   "cell_type": "code",
   "execution_count": 6,
   "id": "bf4abd6f",
   "metadata": {},
   "outputs": [
    {
     "name": "stdout",
     "output_type": "stream",
     "text": [
      "El índice del máximo es: 2\n"
     ]
    }
   ],
   "source": [
    "# Utilice el alias np con la función argmax, para obtener el INDICE del valor máximo del arreglo ventasArr. \n",
    "# Muestre el índice del valor máximo\n",
    "\n",
    "indice = np.argmax(ventasArr)\n",
    "print(f\"El índice del máximo es: {indice}\")"
   ]
  },
  {
   "cell_type": "markdown",
   "id": "974937c3",
   "metadata": {},
   "source": [
    "<details>\n",
    "  <summary><div>→ Haga click aquí para ver la solución</div></summary>\n",
    "  <pre lang=\"python\"><code>\n",
    "indice = np.argmax(ventasArr)\n",
    "print(f\"El índice del máximo es: {indice}\")\n",
    "  </code></pre>\n",
    "</details> "
   ]
  },
  {
   "cell_type": "code",
   "execution_count": 7,
   "id": "71fd4436",
   "metadata": {},
   "outputs": [
    {
     "name": "stdout",
     "output_type": "stream",
     "text": [
      "El libro Harry Potter tiene el valor máximo $200, cuyo género es Fantasía\n"
     ]
    }
   ],
   "source": [
    "# Utilice el indice para obtener los elementos en los arreglos nombres_librosArr y genero_literarioArr\n",
    "# Muestre el nombre y el género del libro obtenidos\n",
    "\n",
    "nombre = nombres_librosArr[indice]\n",
    "genero = genero_literarioArr[indice]\n",
    "\n",
    "print(f\"El libro {nombre} tiene el valor máximo ${maximo}, cuyo género es {genero}\")"
   ]
  },
  {
   "cell_type": "markdown",
   "id": "707f8599",
   "metadata": {},
   "source": [
    "<details>\n",
    "  <summary><div>→ Haga click aquí para ver la solución</div></summary>\n",
    "  <pre lang=\"python\"><code>\n",
    "nombre = nombres_librosArr[indice]\n",
    "genero = genero_literarioArr[indice]\n",
    "\n",
    "print(f\"El libro {nombre} tiene el valor máximo ${maximo}, cuyo género es {genero}\")\n",
    "  </code></pre>\n",
    "</details> "
   ]
  },
  {
   "cell_type": "code",
   "execution_count": 8,
   "id": "2745645f",
   "metadata": {},
   "outputs": [
    {
     "name": "stdout",
     "output_type": "stream",
     "text": [
      "El total es $1210\n"
     ]
    }
   ],
   "source": [
    "# Utilice el alias np con la función sum para obtener el total del arreglo ventasArr. \n",
    "# Muestre el total\n",
    "\n",
    "total = np.sum(ventasArr)\n",
    "print(f\"El total es ${total}\")"
   ]
  },
  {
   "cell_type": "markdown",
   "id": "88f022b1",
   "metadata": {},
   "source": [
    "<details>\n",
    "  <summary><div>→ Haga click aquí para ver la solución</div></summary>\n",
    "  <pre lang=\"python\"><code>\n",
    "total = np.sum(ventasArr)\n",
    "print(f\"El total es ${total}\")\n",
    "  </code></pre>\n",
    "</details> "
   ]
  },
  {
   "cell_type": "markdown",
   "id": "014a1148",
   "metadata": {},
   "source": [
    "[Regresar a la TC](#Tabla-de-Contenidos)"
   ]
  },
  {
   "cell_type": "markdown",
   "id": "11e83e5c",
   "metadata": {},
   "source": [
    "## Indexación y Rebanadas\n",
    "\n",
    "Al igual que las listas, es posible acceder a un elemento (indexación) o a un grupo de elementos (rebanadas) de en un arreglo.\n",
    "\n",
    "<div align=\"center\">\n",
    "    <img src=\"https://github.com/MCD-ESPOL/PCD/blob/main/notebooks/images/arr_index_slicing.png?raw=true\" width=\"50%\">\n",
    "</div>"
   ]
  },
  {
   "cell_type": "code",
   "execution_count": 9,
   "id": "91560d1b",
   "metadata": {},
   "outputs": [
    {
     "name": "stdout",
     "output_type": "stream",
     "text": [
      "Tres primeros libros:  ['El señor de los anillos' 'Cien años de soledad' 'Harry Potter']\n",
      "Tres primeros libros:  ['Fantasía' 'Realismo mágico' 'Fantasía']\n",
      "Tres primeros libros:  [150 120 200]\n"
     ]
    }
   ],
   "source": [
    "# Muestre los 3 primeros elementos de cada uno de los arreglos nombres_librosArr, genero_literarioArr y ventasArr\n",
    "\n",
    "tresNombres = nombres_librosArr[0:3]\n",
    "print(\"Tres primeros libros: \", tresNombres)\n",
    "\n",
    "tresGeneros = genero_literarioArr[0:3]\n",
    "print(\"Tres primeros libros: \", tresGeneros)\n",
    "\n",
    "tresVenta = ventasArr[ :3]\n",
    "print(\"Tres primeros libros: \", tresVenta)"
   ]
  },
  {
   "cell_type": "markdown",
   "id": "c2b40aa4",
   "metadata": {},
   "source": [
    "<details>\n",
    "  <summary><div>→ Haga click aquí para ver la solución</div></summary>\n",
    "  <pre lang=\"python\"><code>\n",
    "tresNombres = nombres_librosArr[0:3]\n",
    "print(\"Tres primeros libros: \", tresNombres)\n",
    "\n",
    "tresGeneros = genero_literarioArr[0:3]\n",
    "print(\"Tres primeros libros: \", tresGeneros)\n",
    "\n",
    "tresVenta = ventasArr[0:3]\n",
    "print(\"Tres primeros libros: \", tresVenta)\n",
    "  </code></pre>\n",
    "</details> "
   ]
  },
  {
   "cell_type": "markdown",
   "id": "53443370",
   "metadata": {},
   "source": [
    "[Regresar a la TC](#Tabla-de-Contenidos)"
   ]
  },
  {
   "cell_type": "markdown",
   "id": "d02a0506",
   "metadata": {},
   "source": [
    "## Búsqueda (filtrado) de valores\n",
    "\n",
    "A diferencia de las listas, es posible crear un arreglo (mascaraArr) a partir de aplicar una **condición** a todos los elementos de un arreglo.\n",
    "\n",
    "\n",
    "\n",
    "<div align=\"center\">\n",
    "    <img src=\"https://github.com/MCD-ESPOL/PCD/blob/main/notebooks/images/arr_mask.png?raw=true\" width=\"60%\">\n",
    "</div>"
   ]
  },
  {
   "cell_type": "code",
   "execution_count": 10,
   "id": "234a95d6",
   "metadata": {},
   "outputs": [
    {
     "name": "stdout",
     "output_type": "stream",
     "text": [
      "Arreglo con el resultado de la comparción con el texto 'Fantasía'\n",
      "[ True False  True False False False False False False False]\n"
     ]
    }
   ],
   "source": [
    "# Cree una máscara con el arreglo genero_literarioArr que sea igual a 'Fantasía'\n",
    "# Muestre por pantalla la máscara\n",
    "\n",
    "mascaraArr = genero_literarioArr == 'Fantasía'\n",
    "print(\"Arreglo con el resultado de la comparción con el texto 'Fantasía'\")\n",
    "print(mascaraArr)"
   ]
  },
  {
   "cell_type": "markdown",
   "id": "52b67944",
   "metadata": {},
   "source": [
    "<details>\n",
    "  <summary><div>→ Haga click aquí para ver la solución</div></summary>\n",
    "  <pre lang=\"python\"><code>\n",
    "mascaraArr = genero_literarioArr == 'Fantasía'\n",
    "\n",
    "print(f\"Máscara sobre el arreglo genero_literarioArr: {mascaraArr}\")\n",
    "  </code></pre>\n",
    "</details> "
   ]
  },
  {
   "cell_type": "code",
   "execution_count": 12,
   "id": "23baf2cd",
   "metadata": {},
   "outputs": [
    {
     "name": "stdout",
     "output_type": "stream",
     "text": [
      "Nombres de libros del género 'Fantasía'\n",
      "['El señor de los anillos' 'Harry Potter']\n"
     ]
    }
   ],
   "source": [
    "# Utilice la máscara como filtro del arreglo nombres_librosArr\n",
    "# Muestre el arreglo resultante\n",
    "\n",
    "librosFantasiaArr = nombres_librosArr[mascaraArr]\n",
    "print(\"Nombres de libros del género 'Fantasía'\")\n",
    "print(librosFantasiaArr)"
   ]
  },
  {
   "cell_type": "markdown",
   "id": "4d1dc2bc",
   "metadata": {},
   "source": [
    "<details>\n",
    "  <summary><div>→ Haga click aquí para ver la solución</div></summary>\n",
    "  <pre lang=\"python\"><code>\n",
    "librosFantasia = nombres_librosArr[mascaraArr]\n",
    "print(f\"Nombres de libros de fantasía: {librosFantasia}\")\n",
    "  </code></pre>\n",
    "</details> "
   ]
  },
  {
   "cell_type": "code",
   "execution_count": 15,
   "id": "79c08464",
   "metadata": {},
   "outputs": [
    {
     "name": "stdout",
     "output_type": "stream",
     "text": [
      "Ventas de libros de \"Fantasía\"\n",
      "[150 200]\n"
     ]
    }
   ],
   "source": [
    "# Utilice la máscara como filtro del arreglo ventasArr\n",
    "# Muestre el arreglo resultante\n",
    "\n",
    "ventasFantasiasArr = ventasArr[mascaraArr]\n",
    "print('Ventas de libros de \"Fantasía\"')\n",
    "print(ventasFantasiArr)"
   ]
  },
  {
   "cell_type": "markdown",
   "id": "2d09e842",
   "metadata": {},
   "source": [
    "<details>\n",
    "  <summary><div>→ Haga click aquí para ver la solución</div></summary>\n",
    "  <pre lang=\"python\"><code>\n",
    "ventasFantasia = ventasArr[mascaraArr]\n",
    "print(f\"Ventas de libros de fantasía: {ventasFantasia}\")\n",
    "  </code></pre>\n",
    "</details> "
   ]
  },
  {
   "cell_type": "code",
   "execution_count": 17,
   "id": "2b29d66f",
   "metadata": {},
   "outputs": [
    {
     "name": "stdout",
     "output_type": "stream",
     "text": [
      "Total de ventas de libros de fantasía $350\n"
     ]
    }
   ],
   "source": [
    "# Obtenga y muestre el total de ventas en los libros de fantasía \n",
    "\n",
    "total = np.sum( ventasFantasiasArr )\n",
    "print(f\"Total de ventas de libros de fantasía ${total}\")"
   ]
  },
  {
   "cell_type": "markdown",
   "id": "2d4e00df",
   "metadata": {},
   "source": [
    "<details>\n",
    "  <summary><div>→ Haga click aquí para ver la solución</div></summary>\n",
    "  <pre lang=\"python\"><code>\n",
    "total = np.sum( ventasFantasia )\n",
    "print(f\"El total por venta de libros de fantasía es: ${total}\")\n",
    "  </code></pre>\n",
    "</details> "
   ]
  },
  {
   "cell_type": "markdown",
   "id": "0173ebf4",
   "metadata": {},
   "source": [
    "[Regresar a la TC](#Tabla-de-Contenidos)"
   ]
  },
  {
   "cell_type": "markdown",
   "id": "52915934",
   "metadata": {},
   "source": [
    "## Archivos\n",
    "\n",
    "Descargue los archivos [titles.csv](https://github.com/MCD-ESPOL/PCD/blob/main/notebooks/titles.csv) y [rating.csv](https://github.com/MCD-ESPOL/PCD/blob/main/notebooks/rating.csv). Luego, coloque los archivos csv en el mismo directorio que este cuaderno."
   ]
  },
  {
   "cell_type": "markdown",
   "id": "aa2df5f3",
   "metadata": {},
   "source": [
    "### Carga de datos\n",
    "\n",
    "\n",
    "Utilice la función [loadtxt](https://numpy.org/doc/stable/reference/generated/numpy.loadtxt.html) para cargar los datos de un archivo de texto.\n",
    "\n",
    "\n",
    "\n",
    "<div align=\"center\">\n",
    "    <img src=\"https://github.com/MCD-ESPOL/PCD/blob/main/notebooks/images/arr_load1.png?raw=true\" width=\"50%\">\n",
    "</div>\n",
    "\n",
    "\n"
   ]
  },
  {
   "cell_type": "code",
   "execution_count": 18,
   "id": "fb9fd3f6",
   "metadata": {},
   "outputs": [],
   "source": [
    "# En la variable titlesArr, asigne la carga los datos del archivo 'titles.csv', \n",
    "#                           cuyo delimitador es ';' y el tipo de dato (dtype) es str \n",
    "\n",
    "titlesArr = np.loadtxt( 'titles.csv'  , delimiter = ';', dtype= str)"
   ]
  },
  {
   "cell_type": "markdown",
   "id": "62532400",
   "metadata": {},
   "source": [
    "<details>\n",
    "  <summary><div>→ Haga click aquí para ver la solución</div></summary>\n",
    "  <pre lang=\"python\"><code>\n",
    "titlesArr = np.loadtxt('titles.csv', delimiter =\";\", dtype=str)\n",
    "  </code></pre>\n",
    "</details> "
   ]
  },
  {
   "cell_type": "code",
   "execution_count": 19,
   "id": "fcd11dbe",
   "metadata": {},
   "outputs": [
    {
     "name": "stdout",
     "output_type": "stream",
     "text": [
      "['The Shawshank Redemption' 'The Godfather' 'The Godfather: Part II'\n",
      " 'The Dark Knight' '12 Angry Men' \"Schindler's List\"\n",
      " 'The Lord of the Rings: The Return of the King' 'Pulp Fiction'\n",
      " '\"The Good, the Bad and the Ugly\"'\n",
      " 'The Lord of the Rings: The Fellowship of the Ring' 'Fight Club'\n",
      " 'Forrest Gump' 'Inception' 'The Lord of the Rings: The Two Towers'\n",
      " 'The Empire Strikes Back' 'The Matrix' 'GoodFellas'\n",
      " \"One Flew Over the Cuckoo's Nest\" 'Seven Samurai' 'Se7en'\n",
      " 'Life Is Beautiful' 'City of God' 'The Silence of the Lambs'\n",
      " \"It's a Wonderful Life\" 'Star Wars' 'Saving Private Ryan'\n",
      " 'The Green Mile' 'Spirited Away' 'Interstellar' 'Parasite'\n",
      " 'LÃ©on: The Professional' 'Harakiri' 'The Usual Suspects' 'The Lion King'\n",
      " 'The Pianist' 'Terminator 2: Judgment Day' 'Back to the Future'\n",
      " 'American History X' 'Modern Times' 'Gladiator' 'Psycho' 'The Departed'\n",
      " 'City Lights' 'The Intouchables' 'Whiplash' 'Grave of the Fireflies'\n",
      " 'The Prestige' 'Once Upon a Time in the West' 'Casablanca'\n",
      " 'Cinema Paradiso' 'Rear Window' 'Alien' 'Apocalypse Now' 'Memento'\n",
      " 'The Great Dictator' 'Raiders of the Lost Ark' 'Django Unchained'\n",
      " 'The Lives of Others' 'Hamilton' 'Paths of Glory' 'Joker' 'WALLÂ·E'\n",
      " 'The Shining' 'Avengers: Infinity War' 'Sunset Boulevard'\n",
      " 'Witness for the Prosecution' 'Oldboy'\n",
      " 'Spider-Man: Into the Spider-Verse' 'Princess Mononoke' 'Dr. Strangelove'\n",
      " 'The Dark Knight Rises' 'Once Upon a Time in America' 'Your Name.'\n",
      " 'Aliens' 'Coco' 'Avengers: Endgame' 'Capernaum' 'American Beauty'\n",
      " 'Braveheart' 'High and Low' 'Das Boot' 'Toy Story' '3 Idiots' 'Amadeus'\n",
      " 'Inglourious Basterds' 'Good Will Hunting' 'Return of the Jedi'\n",
      " 'Like Stars on Earth' 'Reservoir Dogs' '2001: A Space Odyssey'\n",
      " 'Requiem for a Dream' 'The Hunt' 'Vertigo' 'M'\n",
      " 'Eternal Sunshine of the Spotless Mind' 'Citizen Kane' 'Dangal'\n",
      " \"Singin' in the Rain\" 'Bicycle Thieves' 'The Kid' 'Full Metal Jacket'\n",
      " 'Come and See' 'Snatch' 'Ikiru' 'North by Northwest' 'A Clockwork Orange'\n",
      " 'Scarface' '1917' 'Taxi Driver' 'Incendies' 'A Separation' 'Toy Story 3'\n",
      " 'Lawrence of Arabia' 'The Sting' 'AmÃ©lie' 'Metropolis' 'The Apartment'\n",
      " 'For a Few Dollars More' 'Double Indemnity' 'To Kill a Mockingbird' 'Up'\n",
      " 'Indiana Jones and the Last Crusade' 'Heat' 'L.A. Confidential'\n",
      " 'Green Book' 'Die Hard' 'Monty Python and the Holy Grail' 'Batman Begins'\n",
      " 'Yojimbo' 'Rashomon' 'Downfall' 'Children of Heaven' 'Unforgiven' 'Ran'\n",
      " 'Some Like It Hot' \"Howl's Moving Castle\" 'All About Eve' 'Casino'\n",
      " 'A Beautiful Mind' 'The Wolf of Wall Street' 'The Great Escape'\n",
      " \"Pan's Labyrinth\" 'There Will Be Blood' 'The Secret in Their Eyes'\n",
      " '\"Lock, Stock and Two Smoking Barrels\"' 'Judgment at Nuremberg'\n",
      " 'Raging Bull' 'My Neighbor Totoro' 'The Treasure of the Sierra Madre'\n",
      " 'Dial M for Murder' '\"Three Billboards Outside Ebbing, Missouri\"'\n",
      " 'Shutter Island' 'Chinatown' 'The Gold Rush' 'My Father and My Son'\n",
      " 'No Country for Old Men' 'V for Vendetta' 'Inside Out' 'The Thing'\n",
      " 'The Elephant Man' 'The Seventh Seal' 'Warrior' 'The Sixth Sense'\n",
      " 'Jurassic Park' 'Klaus' 'Trainspotting' 'The Truman Show'\n",
      " 'Gone with the Wind' 'Finding Nemo' 'Stalker' 'Wild Strawberries'\n",
      " 'Kill Bill: Vol. 1' 'Memories of Murder' 'Blade Runner'\n",
      " 'The Bridge on the River Kwai' 'Fargo' 'Room' 'Wild Tales' 'Gran Torino'\n",
      " 'Tokyo Story' 'The Third Man' 'On the Waterfront' 'The Deer Hunter'\n",
      " 'In the Name of the Father' 'Mary and Max' 'The Grand Budapest Hotel'\n",
      " 'Before Sunrise' 'Catch Me If You Can' 'Gone Girl' 'Hacksaw Ridge'\n",
      " 'Prisoners' 'Persona' 'Andhadhun' 'Sherlock Jr.' 'The Big Lebowski'\n",
      " 'Barry Lyndon' 'To Be or Not to Be' 'The General'\n",
      " 'How to Train Your Dragon' 'Ford v Ferrari' 'Autumn Sonata'\n",
      " '12 Years a Slave' 'The Bandit' 'Mr. Smith Goes to Washington' 'Anand'\n",
      " 'Mad Max: Fury Road' 'Dead Poets Society' 'Ratsasan'\n",
      " 'Million Dollar Baby' 'Stand by Me'\n",
      " 'Harry Potter and the Deathly Hallows: Part 2' 'Network' 'Ben-Hur'\n",
      " \"Hachi: A Dog's Tale\" 'Cool Hand Luke' 'The Handmaiden' 'Logan' 'Platoon'\n",
      " 'Into the Wild' 'Rush' 'The Wages of Fear' 'La Haine' 'Life of Brian'\n",
      " 'The 400 Blows' 'Soul' 'The Passion of Joan of Arc' 'Spotlight'\n",
      " 'Hotel Rwanda' 'Amores Perros' 'Gangs of Wasseypur - Part 1'\n",
      " 'Andrei Rublev' '\"Monsters, Inc.\"' 'Rocky'\n",
      " 'NausicaÃ¤ of the Valley of the Wind' 'Rebecca' 'Time of the Gypsies'\n",
      " 'Before Sunset' 'In the Mood for Love' 'Rififi' 'Rang De Basanti'\n",
      " '\"Paris, Texas\"' 'Drishyam' 'Portrait of a Lady on Fire'\n",
      " 'It Happened One Night' 'A Silent Voice: The Movie' 'The Invisible Guest'\n",
      " 'Neon Genesis Evangelion: The End of Evangelion' 'The Battle of Algiers'\n",
      " 'Tangerines' 'Three Colors: Red']\n"
     ]
    }
   ],
   "source": [
    "# Muestre el arreglo titlesArr con todos los nombres de los títulos de películas\n",
    "\n",
    "print(titlesArr)"
   ]
  },
  {
   "cell_type": "markdown",
   "id": "d91f0f74",
   "metadata": {},
   "source": [
    "<details>\n",
    "  <summary><div>→ Haga click aquí para ver la solución</div></summary>\n",
    "  <pre lang=\"python\"><code>\n",
    "print(f\"Títulos de películas en el arreglo: {titlesArr}\")\n",
    "  </code></pre>\n",
    "</details> "
   ]
  },
  {
   "cell_type": "code",
   "execution_count": 22,
   "id": "0a5d01e7",
   "metadata": {},
   "outputs": [
    {
     "name": "stdout",
     "output_type": "stream",
     "text": [
      "Arreglo con el rating\n",
      "[9.3 9.2 9.  9.  8.9 8.9 8.9 8.9 8.9 8.8 8.8 8.8 8.8 8.7 8.8 8.7 8.7 8.7\n",
      " 8.6 8.6 8.6 8.6 8.6 8.6 8.6 8.6 8.5 8.6 8.6 8.7 8.6 8.7 8.6 8.5 8.5 8.5\n",
      " 8.5 8.5 8.5 8.5 8.5 8.5 8.5 8.5 8.5 8.5 8.5 8.5 8.5 8.5 8.5 8.5 8.5 8.5\n",
      " 8.5 8.5 8.4 8.4 8.4 8.4 8.5 8.4 8.4 8.5 8.4 8.4 8.4 8.4 8.4 8.4 8.4 8.4\n",
      " 8.4 8.4 8.4 8.4 8.4 8.4 8.4 8.4 8.4 8.3 8.4 8.3 8.3 8.3 8.3 8.4 8.3 8.3\n",
      " 8.3 8.3 8.3 8.3 8.3 8.4 8.5 8.3 8.3 8.3 8.3 8.2 8.3 8.3 8.3 8.3 8.3 8.3\n",
      " 8.3 8.2 8.3 8.3 8.3 8.3 8.3 8.3 8.3 8.3 8.3 8.3 8.3 8.2 8.2 8.3 8.3 8.2\n",
      " 8.3 8.3 8.2 8.2 8.2 8.3 8.2 8.2 8.2 8.2 8.3 8.2 8.2 8.2 8.2 8.2 8.1 8.2\n",
      " 8.2 8.2 8.2 8.2 8.3 8.2 8.2 8.1 8.2 8.2 8.4 8.1 8.2 8.2 8.1 8.2 8.2 8.2\n",
      " 8.1 8.1 8.1 8.2 8.1 8.2 8.1 8.1 8.2 8.1 8.1 8.2 8.2 8.1 8.2 8.1 8.1 8.2\n",
      " 8.2 8.2 8.1 8.1 8.1 8.1 8.1 8.1 8.1 8.1 8.1 8.1 8.5 8.2 8.1 8.1 8.2 8.2\n",
      " 8.1 8.1 8.3 8.1 8.3 8.2 8.8 8.1 8.1 8.5 8.1 8.1 8.1 8.1 8.1 8.1 8.1 8.1\n",
      " 8.1 8.1 8.1 8.1 8.1 8.1 8.1 8.1 8.1 8.2 8.1 8.1 8.1 8.2 8.2 8.1 8.1 8.1\n",
      " 8.1 8.2 8.1 8.1 8.2 8.2 8.1 8.8 8.1 8.1 8.2 8.1 8.1 8.1 8.2 8.1]\n"
     ]
    }
   ],
   "source": [
    "# En la variable ratingArr, asigne la carga los datos del archivo 'rating.csv', \n",
    "#                           cuyo delimitador es ';' y el tipo de dato (dtype) es float \n",
    "\n",
    "ratingArr = np.loadtxt( 'rating.csv', delimiter = ';', dtype = float )\n",
    "print(\"Arreglo con el rating\")\n",
    "print(ratingArr)"
   ]
  },
  {
   "cell_type": "markdown",
   "id": "cadf5f3f",
   "metadata": {},
   "source": [
    "<details>\n",
    "  <summary><div>→ Haga click aquí para ver la solución</div></summary>\n",
    "  <pre lang=\"python\"><code>\n",
    "ratingArr = np.loadtxt( 'rating.csv', delimiter = \";\", dtype = float )\n",
    "print(f\"Puntuación de películas en el arreglo:  {ratingArr}\")\n",
    "  </code></pre>\n",
    "</details> "
   ]
  },
  {
   "cell_type": "markdown",
   "id": "a7b1a6cb",
   "metadata": {},
   "source": [
    "## Ejercicios\n",
    "\n",
    "**Ejercicio 01:** Muestre el o los títulos de películas con la mayor calificación.\n"
   ]
  },
  {
   "cell_type": "code",
   "execution_count": null,
   "id": "bc829fde",
   "metadata": {},
   "outputs": [],
   "source": [
    "# Opción 1:\n",
    "# 1. Obtenga el índice de la calificación máxima (np.argmax)\n",
    "# 2. Obtenga el nombre de la película al indexar (1.) al arreglo titlesArr \n",
    "# 3. Muestre el nombre de la película y su calificación\n",
    "#    p.e. \"La película The Shawshank Redemption tiene la máxima puntuación de 9.3 puntos\"\n",
    "\n"
   ]
  },
  {
   "cell_type": "code",
   "execution_count": 27,
   "id": "63964d3d",
   "metadata": {},
   "outputs": [
    {
     "name": "stdout",
     "output_type": "stream",
     "text": [
      "La películoa ['The Shawshank Redemption'] tiene la máxima puntuación de 9.3 puntos\n"
     ]
    }
   ],
   "source": [
    "# Opción 2:\n",
    "# 1. Obtenga el valor con la calificación más alta (np.max)\n",
    "# 2. Cree una máscara comparando el arreglo de calificaciones (ratingArr) igual a la calificación más alta (1.)\n",
    "# 3. Obtenga el nombre de la película al aplicar la máscara al arreglo titlesArr\n",
    "# 3. Muestre el nombre de la película y su calificación\n",
    "#    p.e. \"La película The Shawshank Redemption tiene la máxima puntuación de 9.3 puntos\"\n",
    "\n",
    "maximo = np.max( ratingArr )\n",
    "mascaraRating = ratingArr == maximo\n",
    "\n",
    "tituloMaximo = titlesArr[mascaraRating]\n",
    "\n",
    "\n",
    "print(f\"La películoa {tituloMaximo} tiene la máxima puntuación de {maximo} puntos\")"
   ]
  },
  {
   "cell_type": "markdown",
   "id": "6c40acaf",
   "metadata": {},
   "source": [
    "**Ejercicio 02:** Muestre el o los títulos de películas con la menor calificación."
   ]
  },
  {
   "cell_type": "code",
   "execution_count": null,
   "id": "63c7d93e",
   "metadata": {},
   "outputs": [],
   "source": []
  },
  {
   "cell_type": "markdown",
   "id": "3ca64e63",
   "metadata": {},
   "source": [
    "**Ejercicio 03:** Ingreso el un valor de una calificación y muestre las películas con dicha calificación."
   ]
  },
  {
   "cell_type": "code",
   "execution_count": null,
   "id": "68eb49e2",
   "metadata": {},
   "outputs": [],
   "source": []
  },
  {
   "cell_type": "markdown",
   "id": "a353a88e",
   "metadata": {},
   "source": [
    "**Ejercicio 04:** Muestre la cantidad de películas cuya calificación sea mayor que 8.5"
   ]
  },
  {
   "cell_type": "code",
   "execution_count": 37,
   "id": "a1b8a7be",
   "metadata": {},
   "outputs": [],
   "source": [
    "mascaraValor = ratingArr > 8.5\n",
    "peliculasValor = titlesArr[mascaraValor]"
   ]
  },
  {
   "cell_type": "code",
   "execution_count": 38,
   "id": "b4c59997",
   "metadata": {},
   "outputs": [
    {
     "name": "stdout",
     "output_type": "stream",
     "text": [
      "Cantidad de películas 34\n"
     ]
    }
   ],
   "source": [
    "cantidadValor = len(peliculasValor)\n",
    "print(f\"Cantidad de películas {cantidadValor}\")"
   ]
  },
  {
   "cell_type": "markdown",
   "id": "d68ced0d",
   "metadata": {},
   "source": [
    "\n",
    "**Ejercicio 05:** Muestre los nombres de las películas cuya calificación sea mayor que 8.5"
   ]
  },
  {
   "cell_type": "code",
   "execution_count": 39,
   "id": "891c9f75",
   "metadata": {},
   "outputs": [
    {
     "name": "stdout",
     "output_type": "stream",
     "text": [
      "Películas cuya calificación sea mayor que 8.5\n",
      "['The Shawshank Redemption' 'The Godfather' 'The Godfather: Part II'\n",
      " 'The Dark Knight' '12 Angry Men' \"Schindler's List\"\n",
      " 'The Lord of the Rings: The Return of the King' 'Pulp Fiction'\n",
      " '\"The Good, the Bad and the Ugly\"'\n",
      " 'The Lord of the Rings: The Fellowship of the Ring' 'Fight Club'\n",
      " 'Forrest Gump' 'Inception' 'The Lord of the Rings: The Two Towers'\n",
      " 'The Empire Strikes Back' 'The Matrix' 'GoodFellas'\n",
      " \"One Flew Over the Cuckoo's Nest\" 'Seven Samurai' 'Se7en'\n",
      " 'Life Is Beautiful' 'City of God' 'The Silence of the Lambs'\n",
      " \"It's a Wonderful Life\" 'Star Wars' 'Saving Private Ryan' 'Spirited Away'\n",
      " 'Interstellar' 'Parasite' 'LÃ©on: The Professional' 'Harakiri'\n",
      " 'The Usual Suspects' 'Anand' 'Drishyam']\n"
     ]
    }
   ],
   "source": [
    "print(\"Películas cuya calificación sea mayor que 8.5\")\n",
    "print(peliculasValor)"
   ]
  },
  {
   "cell_type": "markdown",
   "id": "4649fc20",
   "metadata": {},
   "source": [
    "\n",
    "**Ejercicio 06:** Muestre los nombres de las películas cuya calificación esté en el rango \\[8.2, 8.4\\]. Utilice [where](https://numpy.org/doc/stable/reference/generated/numpy.where.html) para crear una condición múltiple. Tome como referencia los ejemplos del sitio [NumPy where() Multiple Conditions](https://sparkbyexamples.com/python/numpy-where-multiple-conditions/)."
   ]
  },
  {
   "cell_type": "code",
   "execution_count": 44,
   "id": "1d289c54",
   "metadata": {},
   "outputs": [
    {
     "name": "stdout",
     "output_type": "stream",
     "text": [
      "['Django Unchained' 'The Lives of Others' 'Hamilton' 'Paths of Glory'\n",
      " 'WALLÂ·E' 'The Shining' 'Sunset Boulevard' 'Witness for the Prosecution'\n",
      " 'Oldboy' 'Spider-Man: Into the Spider-Verse' 'Princess Mononoke'\n",
      " 'Dr. Strangelove' 'The Dark Knight Rises' 'Once Upon a Time in America'\n",
      " 'Your Name.' 'Aliens' 'Coco' 'Avengers: Endgame' 'Capernaum'\n",
      " 'American Beauty' 'Braveheart' 'High and Low' 'Das Boot' 'Toy Story'\n",
      " '3 Idiots' 'Amadeus' 'Inglourious Basterds' 'Good Will Hunting'\n",
      " 'Return of the Jedi' 'Like Stars on Earth' 'Reservoir Dogs'\n",
      " '2001: A Space Odyssey' 'Requiem for a Dream' 'The Hunt' 'Vertigo' 'M'\n",
      " 'Eternal Sunshine of the Spotless Mind' 'Citizen Kane'\n",
      " \"Singin' in the Rain\" 'Bicycle Thieves' 'The Kid' 'Full Metal Jacket'\n",
      " 'Come and See' 'Snatch' 'Ikiru' 'North by Northwest' 'A Clockwork Orange'\n",
      " 'Scarface' '1917' 'Taxi Driver' 'Incendies' 'A Separation' 'Toy Story 3'\n",
      " 'Lawrence of Arabia' 'The Sting' 'AmÃ©lie' 'Metropolis' 'The Apartment'\n",
      " 'For a Few Dollars More' 'Double Indemnity' 'To Kill a Mockingbird' 'Up'\n",
      " 'Indiana Jones and the Last Crusade' 'Heat' 'L.A. Confidential'\n",
      " 'Green Book' 'Die Hard' 'Monty Python and the Holy Grail' 'Batman Begins'\n",
      " 'Yojimbo' 'Rashomon' 'Downfall' 'Children of Heaven' 'Unforgiven' 'Ran'\n",
      " 'Some Like It Hot' \"Howl's Moving Castle\" 'All About Eve' 'Casino'\n",
      " 'A Beautiful Mind' 'The Wolf of Wall Street' 'The Great Escape'\n",
      " \"Pan's Labyrinth\" 'The Secret in Their Eyes'\n",
      " '\"Lock, Stock and Two Smoking Barrels\"' 'Judgment at Nuremberg'\n",
      " 'Raging Bull' 'My Neighbor Totoro' 'The Treasure of the Sierra Madre'\n",
      " 'Dial M for Murder' '\"Three Billboards Outside Ebbing, Missouri\"'\n",
      " 'Chinatown' 'The Gold Rush' 'My Father and My Son' 'V for Vendetta'\n",
      " 'Inside Out' 'The Elephant Man' 'The Seventh Seal' 'Warrior'\n",
      " 'Trainspotting' 'Gone with the Wind' 'Wild Strawberries' 'Blade Runner'\n",
      " 'The Bridge on the River Kwai' 'Room' 'Tokyo Story' 'The Third Man'\n",
      " 'On the Waterfront' 'Sherlock Jr.' 'To Be or Not to Be' 'The General'\n",
      " 'Autumn Sonata' 'The Bandit' 'Mr. Smith Goes to Washington'\n",
      " 'The Passion of Joan of Arc' 'Gangs of Wasseypur - Part 1'\n",
      " 'Andrei Rublev' 'Time of the Gypsies' 'Rififi' 'Rang De Basanti'\n",
      " 'A Silent Voice: The Movie' 'Tangerines']\n"
     ]
    }
   ],
   "source": [
    "mascaraRango = np.where((ratingArr >= 8.2) & (ratingArr <= 8.4))\n",
    "titulosRango = titlesArr[ mascaraRango ]\n",
    "\n",
    "print(titulosRango)"
   ]
  },
  {
   "cell_type": "markdown",
   "id": "9b32d9d1",
   "metadata": {},
   "source": [
    "\n",
    "**Ejercicio 07:** Muestre la cantidad de películas cuya calificación esté en el rango \\[8.2, 8.4\\]."
   ]
  },
  {
   "cell_type": "code",
   "execution_count": 45,
   "id": "6d62cfe7",
   "metadata": {},
   "outputs": [
    {
     "name": "stdout",
     "output_type": "stream",
     "text": [
      "La cantidad de películas en el rango [8.2, 8.4] es 122\n"
     ]
    }
   ],
   "source": [
    "cantidadRango = len(titulosRango)\n",
    "print(f\"La cantidad de películas en el rango [8.2, 8.4] es {cantidadRango}\")"
   ]
  }
 ],
 "metadata": {
  "kernelspec": {
   "display_name": "Python 3 (ipykernel)",
   "language": "python",
   "name": "python3"
  },
  "language_info": {
   "codemirror_mode": {
    "name": "ipython",
    "version": 3
   },
   "file_extension": ".py",
   "mimetype": "text/x-python",
   "name": "python",
   "nbconvert_exporter": "python",
   "pygments_lexer": "ipython3",
   "version": "3.11.5"
  }
 },
 "nbformat": 4,
 "nbformat_minor": 5
}
