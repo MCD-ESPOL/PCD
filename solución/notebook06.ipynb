{
 "cells": [
  {
   "cell_type": "markdown",
   "id": "6172ca88",
   "metadata": {},
   "source": [
    "# Tabla de Contenidos\n",
    "\n",
    "* [Contenidos](#Tabla-de-Contenidos)\n",
    "    * [Arreglos](#Arreglos)\n",
    "        * [Importar librerías externas](#Importar-librerías-externas)\n",
    "        * [De lista a arreglos](#De-lista-a-arreglos)\n",
    "        * [Operaciones con arreglos](#Operaciones-con-arreglos)\n",
    "        * [Indexación y Rebanadas](#Indexación-y-Rebanadas)\n",
    "        * [Búsqueda (filtrado) de valores](#Búsqueda-(filtrado)-de-valores)\n",
    "    * [Archivos](#Archivos)\n",
    "        * [Carga de datos](#Carga-de-datos)\n",
    "* [Ejercicios](#Ejercicios)"
   ]
  },
  {
   "cell_type": "markdown",
   "id": "5dcffc85",
   "metadata": {},
   "source": [
    "## Arreglos\n",
    "\n",
    "Los arreglos, y matrices, son tipos de datos estructurados homogéneos (un solo tipo de dato), optimizados para el cálculo usando vectores y matrices. Los arrays suelen contener números enteros, reales y complejos. \n",
    "\n",
    "Python no tiene soporte integrado para arreglos. Para esto, utilizamos el librería [NumPy](https://numpy.org/), cuya documentación se encuentra en [NumPy documentation](https://numpy.org/doc/stable/).\n",
    "\n",
    "<div align=\"center\">\n",
    "    <img src=\"https://github.com/MCD-ESPOL/PCD/blob/main/notebooks/images/logo.svg?raw=true\" width=\"15%\">\n",
    "</div>"
   ]
  },
  {
   "cell_type": "markdown",
   "id": "2fedb79b",
   "metadata": {},
   "source": [
    "## Importar librerías externas"
   ]
  },
  {
   "cell_type": "code",
   "execution_count": null,
   "id": "c6e20e43",
   "metadata": {},
   "outputs": [],
   "source": [
    "# Importe la librería numpy con el alias np\n",
    "# Importe la libreria matplotlib con el alias plt\n"
   ]
  },
  {
   "cell_type": "markdown",
   "id": "e1683bf7",
   "metadata": {},
   "source": [
    "[Regresar a la TC](#Tabla-de-Contenidos)"
   ]
  },
  {
   "cell_type": "markdown",
   "id": "8b09a8da",
   "metadata": {},
   "source": [
    "<details>\n",
    "  <summary><div>→ Haga click aquí para ver la solución</div></summary>\n",
    "  <pre lang=\"python\"><code>\n",
    "import numpy as np\n",
    "import matplotlib.pyplot as plt\n",
    "  </code></pre>\n",
    "</details> "
   ]
  },
  {
   "cell_type": "markdown",
   "id": "0416b3dd",
   "metadata": {},
   "source": [
    "## De lista a arreglos\n",
    "\n",
    "Para crear [un arreglo a partir de una lista](https://numpy.org/doc/stable/user/basics.creation.html#converting-python-sequences-to-numpy-arrays), utilizaremos la función **array**.\n",
    "\n",
    "\n",
    "\n",
    "<div align=\"center\">\n",
    "    <img src=\"https://github.com/MCD-ESPOL/PCD/blob/main/notebooks/images/arr_ini.png?raw=true\" width=\"40%\">\n",
    "</div>"
   ]
  },
  {
   "cell_type": "code",
   "execution_count": null,
   "id": "29b95c91",
   "metadata": {},
   "outputs": [],
   "source": [
    "# Cargue las listas nombres_libros, genero_literario y ventas\n",
    "\n",
    "nombres_libros = ['El señor de los anillos', 'Cien años de soledad', 'Harry Potter', '1984', 'Orgullo y prejuicio', 'Crimen y castigo', 'El gran Gatsby', 'Matar un ruiseñor', 'La Odisea', 'Don Quijote de la Mancha']\n",
    "genero_literario = ['Fantasía', 'Realismo mágico', 'Fantasía', 'Distopía', 'Novela romántica', 'Novela psicológica', 'Ficción moderna', 'Novela clásica', 'Epopeya', 'Novela clásica']\n",
    "ventas = [150, 120, 200, 90, 80, 110, 95, 130, 75, 160]"
   ]
  },
  {
   "cell_type": "code",
   "execution_count": null,
   "id": "b28af931",
   "metadata": {},
   "outputs": [],
   "source": [
    "# Convierta las listas en los arreglos nombres_librosArr, genero_literarioArr y ventasArr correspondientes\n",
    "\n",
    "nombres_librosArr = \n",
    "genero_literarioArr = \n",
    "ventasArr = "
   ]
  },
  {
   "cell_type": "markdown",
   "id": "352a5890",
   "metadata": {},
   "source": [
    "<details>\n",
    "  <summary><div>→ Haga click aquí para ver la solución</div></summary>\n",
    "  <pre lang=\"python\"><code>\n",
    "nombres_librosArr = np.array(nombres_libros)\n",
    "genero_literarioArr = np.array(genero_literario)\n",
    "ventasArr = np.array(ventas)\n",
    "  </code></pre>\n",
    "</details> "
   ]
  },
  {
   "cell_type": "code",
   "execution_count": null,
   "id": "b3581601",
   "metadata": {},
   "outputs": [],
   "source": [
    "# Muestre por pantalla la lista nombres_libros y el arreglo nombres_librosArr.\n",
    "\n"
   ]
  },
  {
   "cell_type": "markdown",
   "id": "0d377516",
   "metadata": {},
   "source": [
    "<details>\n",
    "  <summary><div>→ Haga click aquí para ver la solución</div></summary>\n",
    "  <pre lang=\"python\"><code>\n",
    "print(f\"Lista: {nombres_libros}\",)\n",
    "print(f\"Arreglo: {nombres_librosArr}\")\n",
    "  </code></pre>\n",
    "</details> "
   ]
  },
  {
   "cell_type": "markdown",
   "id": "c5ebbbf6",
   "metadata": {},
   "source": [
    "[Regresar a la TC](#Tabla-de-Contenidos)"
   ]
  },
  {
   "cell_type": "markdown",
   "id": "51c35a99",
   "metadata": {},
   "source": [
    "## Operaciones con arreglos\n",
    "\n",
    "Numpy ofrece un grupo de [funciones agregadas](https://www.tutorialgateway.org/python-numpy-aggregate-functions/), como: **sum**, **mean**, **std**,  **max**, **min**, **argmin**, **argmax** y muchas más.\n",
    "\n",
    "La lista completa de [funciones matemáticas](https://numpy.org/doc/stable/reference/routines.math.html) puede encontrarla en la documentación de Numpy.\n",
    "\n",
    "\n",
    "\n",
    "\n",
    "<div align=\"center\">\n",
    "    <img src=\"https://github.com/MCD-ESPOL/PCD/blob/main/notebooks/images/arr_aggr.png?raw=true\" width=\"60%\">\n",
    "</div>\n",
    "\n"
   ]
  },
  {
   "cell_type": "code",
   "execution_count": null,
   "id": "65bc0556",
   "metadata": {},
   "outputs": [],
   "source": [
    "# Utilice el alias np con la función max, para obtener el valor máximo del arreglo ventasArr. \n",
    "# Muestre el valor máximo\n",
    "\n"
   ]
  },
  {
   "cell_type": "markdown",
   "id": "4cf1a20b",
   "metadata": {},
   "source": [
    "<details>\n",
    "  <summary><div>→ Haga click aquí para ver la solución</div></summary>\n",
    "  <pre lang=\"python\"><code>\n",
    "maximo = np.max(ventasArr)\n",
    "print(f\"El valor máximo: {maximo}\")\n",
    "  </code></pre>\n",
    "</details> "
   ]
  },
  {
   "cell_type": "code",
   "execution_count": null,
   "id": "bf4abd6f",
   "metadata": {},
   "outputs": [],
   "source": [
    "# Utilice el alias np con la función argmax, para obtener el INDICE del valor máximo del arreglo ventasArr. \n",
    "# Muestre el índice del valor máximo\n",
    "\n"
   ]
  },
  {
   "cell_type": "markdown",
   "id": "974937c3",
   "metadata": {},
   "source": [
    "<details>\n",
    "  <summary><div>→ Haga click aquí para ver la solución</div></summary>\n",
    "  <pre lang=\"python\"><code>\n",
    "indice = np.argmax(ventasArr)\n",
    "print(f\"El índice del máximo es: {indice}\")\n",
    "  </code></pre>\n",
    "</details> "
   ]
  },
  {
   "cell_type": "code",
   "execution_count": null,
   "id": "71fd4436",
   "metadata": {},
   "outputs": [],
   "source": [
    "# Utilice el indice para obtener los elementos en los arreglos nombres_librosArr y genero_literarioArr\n",
    "# Muestre el nombre y el género del libro obtenidos\n",
    "\n"
   ]
  },
  {
   "cell_type": "markdown",
   "id": "707f8599",
   "metadata": {},
   "source": [
    "<details>\n",
    "  <summary><div>→ Haga click aquí para ver la solución</div></summary>\n",
    "  <pre lang=\"python\"><code>\n",
    "nombre = nombres_librosArr[indice]\n",
    "genero = genero_literarioArr[indice]\n",
    "\n",
    "print(f\"El libro {nombre} tiene el valor máximo ${maximo}, cuyo género es {genero}\")\n",
    "  </code></pre>\n",
    "</details> "
   ]
  },
  {
   "cell_type": "code",
   "execution_count": null,
   "id": "2745645f",
   "metadata": {},
   "outputs": [],
   "source": [
    "# Utilice el alias np con la función sum para obtener el total del arreglo ventasArr. \n",
    "# Muestre el total\n",
    "\n"
   ]
  },
  {
   "cell_type": "markdown",
   "id": "88f022b1",
   "metadata": {},
   "source": [
    "<details>\n",
    "  <summary><div>→ Haga click aquí para ver la solución</div></summary>\n",
    "  <pre lang=\"python\"><code>\n",
    "total = np.sum(ventasArr)\n",
    "print(f\"El total es ${total}\")\n",
    "  </code></pre>\n",
    "</details> "
   ]
  },
  {
   "cell_type": "markdown",
   "id": "014a1148",
   "metadata": {},
   "source": [
    "[Regresar a la TC](#Tabla-de-Contenidos)"
   ]
  },
  {
   "cell_type": "markdown",
   "id": "11e83e5c",
   "metadata": {},
   "source": [
    "## Indexación y Rebanadas\n",
    "\n",
    "Al igual que las listas, es posible acceder a un elemento (indexación) o a un grupo de elementos (rebanadas) de en un arreglo.\n",
    "\n",
    "<div align=\"center\">\n",
    "    <img src=\"https://github.com/MCD-ESPOL/PCD/blob/main/notebooks/images/arr_index_slicing.png?raw=true\" width=\"50%\">\n",
    "</div>"
   ]
  },
  {
   "cell_type": "code",
   "execution_count": null,
   "id": "91560d1b",
   "metadata": {},
   "outputs": [],
   "source": [
    "# Muestre los 3 primeros elementos de cada uno de los arreglos nombres_librosArr, genero_literarioArr y ventasArr\n",
    "\n",
    "tresNombres = nombres_librosArr[ ]\n",
    "print(\"Tres primeros libros: \", tresNombres)\n",
    "\n",
    "tresGeneros = genero_literarioArr[ ]\n",
    "print(\"Tres primeros libros: \", tresGeneros)\n",
    "\n",
    "tresVenta = ventasArr[ ]\n",
    "print(\"Tres primeros libros: \", tresVenta)"
   ]
  },
  {
   "cell_type": "markdown",
   "id": "c2b40aa4",
   "metadata": {},
   "source": [
    "<details>\n",
    "  <summary><div>→ Haga click aquí para ver la solución</div></summary>\n",
    "  <pre lang=\"python\"><code>\n",
    "tresNombres = nombres_librosArr[0:3]\n",
    "print(\"Tres primeros libros: \", tresNombres)\n",
    "\n",
    "tresGeneros = genero_literarioArr[0:3]\n",
    "print(\"Tres primeros libros: \", tresGeneros)\n",
    "\n",
    "tresVenta = ventasArr[0:3]\n",
    "print(\"Tres primeros libros: \", tresVenta)\n",
    "  </code></pre>\n",
    "</details> "
   ]
  },
  {
   "cell_type": "markdown",
   "id": "53443370",
   "metadata": {},
   "source": [
    "[Regresar a la TC](#Tabla-de-Contenidos)"
   ]
  },
  {
   "cell_type": "markdown",
   "id": "d02a0506",
   "metadata": {},
   "source": [
    "## Búsqueda (filtrado) de valores\n",
    "\n",
    "A diferencia de las listas, es posible crear un arreglo (mascaraArr) a partir de aplicar una **condición** a todos los elementos de un arreglo.\n",
    "\n",
    "\n",
    "\n",
    "<div align=\"center\">\n",
    "    <img src=\"https://github.com/MCD-ESPOL/PCD/blob/main/notebooks/images/arr_mask.png?raw=true\" width=\"60%\">\n",
    "</div>"
   ]
  },
  {
   "cell_type": "code",
   "execution_count": null,
   "id": "234a95d6",
   "metadata": {},
   "outputs": [],
   "source": [
    "# Cree una máscara con el arreglo genero_literarioArr que sea igual a 'Fantasía'\n",
    "# Muestre por pantalla la máscara\n"
   ]
  },
  {
   "cell_type": "markdown",
   "id": "52b67944",
   "metadata": {},
   "source": [
    "<details>\n",
    "  <summary><div>→ Haga click aquí para ver la solución</div></summary>\n",
    "  <pre lang=\"python\"><code>\n",
    "mascaraArr = genero_literarioArr == 'Fantasía'\n",
    "\n",
    "print(f\"Máscara sobre el arreglo genero_literarioArr: {mascaraArr}\")\n",
    "  </code></pre>\n",
    "</details> "
   ]
  },
  {
   "cell_type": "code",
   "execution_count": null,
   "id": "23baf2cd",
   "metadata": {},
   "outputs": [],
   "source": [
    "# Utilice la máscara como filtro del arreglo nombres_librosArr\n",
    "# Muestre el arreglo resultante\n"
   ]
  },
  {
   "cell_type": "markdown",
   "id": "4d1dc2bc",
   "metadata": {},
   "source": [
    "<details>\n",
    "  <summary><div>→ Haga click aquí para ver la solución</div></summary>\n",
    "  <pre lang=\"python\"><code>\n",
    "librosFantasia = nombres_librosArr[mascaraArr]\n",
    "print(f\"Nombres de libros de fantasía: {librosFantasia}\")\n",
    "  </code></pre>\n",
    "</details> "
   ]
  },
  {
   "cell_type": "code",
   "execution_count": null,
   "id": "79c08464",
   "metadata": {},
   "outputs": [],
   "source": [
    "# Utilice la máscara como filtro del arreglo ventasArr\n",
    "# Muestre el arreglo resultante\n",
    "\n"
   ]
  },
  {
   "cell_type": "markdown",
   "id": "2d09e842",
   "metadata": {},
   "source": [
    "<details>\n",
    "  <summary><div>→ Haga click aquí para ver la solución</div></summary>\n",
    "  <pre lang=\"python\"><code>\n",
    "ventasFantasia = ventasArr[mascaraArr]\n",
    "print(f\"Ventas de libros de fantasía: {ventasFantasia}\")\n",
    "  </code></pre>\n",
    "</details> "
   ]
  },
  {
   "cell_type": "code",
   "execution_count": null,
   "id": "2b29d66f",
   "metadata": {},
   "outputs": [],
   "source": [
    "# Obtenga y muestre el total de ventas en los libros de fantasía \n",
    "\n"
   ]
  },
  {
   "cell_type": "markdown",
   "id": "2d4e00df",
   "metadata": {},
   "source": [
    "<details>\n",
    "  <summary><div>→ Haga click aquí para ver la solución</div></summary>\n",
    "  <pre lang=\"python\"><code>\n",
    "total = np.sum( ventasFantasia )\n",
    "print(f\"El total por venta de libros de fantasía es: ${total}\")\n",
    "  </code></pre>\n",
    "</details> "
   ]
  },
  {
   "cell_type": "markdown",
   "id": "0173ebf4",
   "metadata": {},
   "source": [
    "[Regresar a la TC](#Tabla-de-Contenidos)"
   ]
  },
  {
   "cell_type": "markdown",
   "id": "52915934",
   "metadata": {},
   "source": [
    "## Archivos\n",
    "\n",
    "Descargue los archivos [titles.csv](https://github.com/MCD-ESPOL/PCD/blob/main/notebooks/titles.csv) y [rating.csv](https://github.com/MCD-ESPOL/PCD/blob/main/notebooks/rating.csv). Luego, coloque los archivos csv en el mismo directorio que este cuaderno."
   ]
  },
  {
   "cell_type": "markdown",
   "id": "aa2df5f3",
   "metadata": {},
   "source": [
    "### Carga de datos\n",
    "\n",
    "\n",
    "Utilice la función [loadtxt](https://numpy.org/doc/stable/reference/generated/numpy.loadtxt.html) para cargar los datos de un archivo de texto.\n",
    "\n",
    "\n",
    "\n",
    "<div align=\"center\">\n",
    "    <img src=\"https://github.com/MCD-ESPOL/PCD/blob/main/notebooks/images/arr_load1.png?raw=true\" width=\"50%\">\n",
    "</div>\n",
    "\n",
    "\n"
   ]
  },
  {
   "cell_type": "code",
   "execution_count": null,
   "id": "fb9fd3f6",
   "metadata": {},
   "outputs": [],
   "source": [
    "# En la variable titlesArr, asigne la carga los datos del archivo 'titles.csv', \n",
    "#                           cuyo delimitador es ';' y el tipo de dato (dtype) es str \n",
    "\n",
    "titlesArr = np.loadtxt(   , delimiter = , dtype= )"
   ]
  },
  {
   "cell_type": "markdown",
   "id": "62532400",
   "metadata": {},
   "source": [
    "<details>\n",
    "  <summary><div>→ Haga click aquí para ver la solución</div></summary>\n",
    "  <pre lang=\"python\"><code>\n",
    "titlesArr = np.loadtxt('titles.csv', delimiter =\";\", dtype=str)\n",
    "  </code></pre>\n",
    "</details> "
   ]
  },
  {
   "cell_type": "code",
   "execution_count": null,
   "id": "fcd11dbe",
   "metadata": {},
   "outputs": [],
   "source": [
    "# Muestre el arreglo titlesArr con todos los nombres de los títulos de películas\n"
   ]
  },
  {
   "cell_type": "markdown",
   "id": "d91f0f74",
   "metadata": {},
   "source": [
    "<details>\n",
    "  <summary><div>→ Haga click aquí para ver la solución</div></summary>\n",
    "  <pre lang=\"python\"><code>\n",
    "print(f\"Títulos de películas en el arreglo: {titlesArr}\")\n",
    "  </code></pre>\n",
    "</details> "
   ]
  },
  {
   "cell_type": "code",
   "execution_count": null,
   "id": "0a5d01e7",
   "metadata": {},
   "outputs": [],
   "source": [
    "# En la variable ratingArr, asigne la carga los datos del archivo 'rating.csv', \n",
    "#                           cuyo delimitador es ';' y el tipo de dato (dtype) es float \n",
    "\n"
   ]
  },
  {
   "cell_type": "markdown",
   "id": "cadf5f3f",
   "metadata": {},
   "source": [
    "<details>\n",
    "  <summary><div>→ Haga click aquí para ver la solución</div></summary>\n",
    "  <pre lang=\"python\"><code>\n",
    "ratingArr = np.loadtxt( 'rating.csv', delimiter = \";\", dtype = float )\n",
    "print(f\"Puntuación de películas en el arreglo:  {ratingArr}\")\n",
    "  </code></pre>\n",
    "</details> "
   ]
  },
  {
   "cell_type": "markdown",
   "id": "a7b1a6cb",
   "metadata": {},
   "source": [
    "## Ejercicios\n",
    "\n",
    "**Ejercicio 01:** Muestre el o los títulos de películas con la mayor calificación.\n"
   ]
  },
  {
   "cell_type": "code",
   "execution_count": null,
   "id": "bc829fde",
   "metadata": {},
   "outputs": [],
   "source": [
    "# Opción 1:\n",
    "# 1. Obtenga el índice de la calificación máxima (np.argmax)\n",
    "# 2. Obtenga el nombre de la película al indexar (1.) al arreglo titlesArr \n",
    "# 3. Muestre el nombre de la película y su calificación\n",
    "#    p.e. \"La película The Shawshank Redemption tiene la máxima puntuación de 9.3 puntos\"\n",
    "\n"
   ]
  },
  {
   "cell_type": "code",
   "execution_count": null,
   "id": "63964d3d",
   "metadata": {},
   "outputs": [],
   "source": [
    "# Opción 2:\n",
    "# 1. Obtenga el valor con la calificación más alta (np.max)\n",
    "# 2. Cree una máscara comparando el arreglo de calificaciones (ratingArr) igual a la calificación más alta (1.)\n",
    "# 3. Obtenga el nombre de la película al aplicar la máscara al arreglo titlesArr\n",
    "# 3. Muestre el nombre de la película y su calificación\n",
    "#    p.e. \"La película The Shawshank Redemption tiene la máxima puntuación de 9.3 puntos\"\n",
    "\n"
   ]
  },
  {
   "cell_type": "markdown",
   "id": "6c40acaf",
   "metadata": {},
   "source": [
    "**Ejercicio 02:** Muestre el o los títulos de películas con la menor calificación."
   ]
  },
  {
   "cell_type": "code",
   "execution_count": null,
   "id": "63c7d93e",
   "metadata": {},
   "outputs": [],
   "source": []
  },
  {
   "cell_type": "markdown",
   "id": "3ca64e63",
   "metadata": {},
   "source": [
    "**Ejercicio 03:** Ingreso el un valor de una calificación y muestre las películas con dicha calificación."
   ]
  },
  {
   "cell_type": "code",
   "execution_count": null,
   "id": "68eb49e2",
   "metadata": {},
   "outputs": [],
   "source": []
  },
  {
   "cell_type": "markdown",
   "id": "a353a88e",
   "metadata": {},
   "source": [
    "**Ejercicio 04:** Muestre la cantidad de películas cuya calificación sea mayor que 8.5"
   ]
  },
  {
   "cell_type": "code",
   "execution_count": null,
   "id": "a1b8a7be",
   "metadata": {},
   "outputs": [],
   "source": []
  },
  {
   "cell_type": "markdown",
   "id": "d68ced0d",
   "metadata": {},
   "source": [
    "\n",
    "**Ejercicio 05:** Muestre los nombres de las películas cuya calificación sea mayor que 8.5"
   ]
  },
  {
   "cell_type": "code",
   "execution_count": null,
   "id": "891c9f75",
   "metadata": {},
   "outputs": [],
   "source": []
  },
  {
   "cell_type": "markdown",
   "id": "4649fc20",
   "metadata": {},
   "source": [
    "\n",
    "**Ejercicio 06:** Muestre los nombres de las películas cuya calificación esté en el rango \\[8.2, 8.4\\]. Utilice [where](https://numpy.org/doc/stable/reference/generated/numpy.where.html) para crear una condición múltiple. Tome como referencia los ejemplos del sitio [NumPy where() Multiple Conditions](https://sparkbyexamples.com/python/numpy-where-multiple-conditions/)."
   ]
  },
  {
   "cell_type": "code",
   "execution_count": null,
   "id": "1d289c54",
   "metadata": {},
   "outputs": [],
   "source": []
  },
  {
   "cell_type": "markdown",
   "id": "9b32d9d1",
   "metadata": {},
   "source": [
    "\n",
    "**Ejercicio 07:** Muestre la cantidad de películas cuya calificación esté en el rango \\[8.2, 8.4\\]."
   ]
  },
  {
   "cell_type": "code",
   "execution_count": null,
   "id": "6d62cfe7",
   "metadata": {},
   "outputs": [],
   "source": []
  }
 ],
 "metadata": {
  "kernelspec": {
   "display_name": "Python 3 (ipykernel)",
   "language": "python",
   "name": "python3"
  },
  "language_info": {
   "codemirror_mode": {
    "name": "ipython",
    "version": 3
   },
   "file_extension": ".py",
   "mimetype": "text/x-python",
   "name": "python",
   "nbconvert_exporter": "python",
   "pygments_lexer": "ipython3",
   "version": "3.11.5"
  }
 },
 "nbformat": 4,
 "nbformat_minor": 5
}
