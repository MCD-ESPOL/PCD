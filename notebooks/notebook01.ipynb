{
 "cells": [
  {
   "cell_type": "markdown",
   "id": "c4634046",
   "metadata": {},
   "source": [
    "# Tabla de Contenidos\n",
    "\n",
    "* [Contenidos](#Tabla-de-Contenidos)\n",
    "    * [Anaconda](#Anaconda)\n",
    "    * [Descarga e instalación](#Descarga-e-instalación)\n",
    "    * [Jupyter Notebook](#Jupyter-Notebook)\n",
    "    * [Notebooks del repositorio](#Notebooks-del-repositorio)"
   ]
  },
  {
   "cell_type": "markdown",
   "id": "1bf5b9c6",
   "metadata": {},
   "source": [
    "# Anaconda"
   ]
  },
  {
   "cell_type": "markdown",
   "id": "a69c3528",
   "metadata": {},
   "source": [
    "## Descarga e instalación\n",
    "\n",
    "1. Descargue Anaconda del sitio oficial [Anaconda Distribution - Free Download](https://www.anaconda.com/download/success), de acuerdo con su sistema operativo.\n",
    "\n",
    "<div align=\"center\">\n",
    "    <img src=\"https://github.com/MCD-ESPOL/PCD/blob/main/notebooks/images/anaconda_download.png?raw=true\" width=\"50%\">\n",
    "</div>"
   ]
  },
  {
   "cell_type": "markdown",
   "id": "9c042c4b",
   "metadata": {},
   "source": [
    "## Jupyter Notebook\n",
    "\n",
    "1. Luego de la instalación, la pantalla principal de Anaconada es la siguiente:\n",
    "\n",
    "<div align=\"center\">\n",
    "    <img src=\"https://github.com/MCD-ESPOL/PCD/blob/main/notebooks/images/anaconda_main.png?raw=true\" width=\"50%\">\n",
    "</div>\n",
    "\n",
    "\n",
    "2. De clic en la opción **Launch**.\n",
    "\n",
    "<div align=\"center\">\n",
    "    <img src=\"https://github.com/MCD-ESPOL/PCD/blob/main/notebooks/images/jupyter_launch.png?raw=true\" width=\"20%\">\n",
    "</div>\n",
    "\n",
    "3. Desde la pantalla principal de Jupyter, acceda a su ruta de su carpeta de trabajo.\n",
    "\n",
    "<div align=\"center\">\n",
    "    <img src=\"https://github.com/MCD-ESPOL/PCD/blob/main/notebooks/images/jupyter_main.png?raw=true\" width=\"50%\">\n",
    "</div>"
   ]
  },
  {
   "cell_type": "markdown",
   "id": "5ca8b037",
   "metadata": {},
   "source": [
    "## Notebooks del repositorio\n",
    "\n",
    "1. Descargue el notebook del repositorio, al hacer clic el símbolo **Download Raw Files**.\n",
    "\n",
    "<div align=\"center\">\n",
    "    <img src=\"https://github.com/MCD-ESPOL/PCD/blob/main/notebooks/images/download_raw_files.png?raw=true\" width=\"20%\">\n",
    "</div>\n",
    "\n",
    "2. Mueva el notebook a la ruta de su carpeta de trabajo.\n",
    "\n",
    "<div align=\"center\">\n",
    "    <img src=\"https://github.com/MCD-ESPOL/PCD/blob/main/notebooks/images/notebook_path.png?raw=true\" width=\"50%\">\n",
    "</div>\n",
    "\n",
    "3. Actualice la vista de la ruta de su carpeta de trabajo.\n",
    "\n",
    "<div align=\"center\">\n",
    "    <img src=\"https://github.com/MCD-ESPOL/PCD/blob/main/notebooks/images/jupyter_main2.png?raw=true\" width=\"50%\">\n",
    "</div>\n",
    "\n",
    "4. Acceda al notebook.\n",
    "\n",
    "<div align=\"center\">\n",
    "    <img src=\"https://github.com/MCD-ESPOL/PCD/blob/main/notebooks/images/jupyter_notebook.png?raw=true\" width=\"50%\">\n",
    "</div>\n",
    "\n"
   ]
  },
  {
   "cell_type": "markdown",
   "id": "f7db99a8",
   "metadata": {},
   "source": [
    "5. En la siguiente celda, coloque su nombre como valor (dentro de las comillas simples) de la variable **miNombre**. Luego, ejecute (haga click en el botón **▶ Run**) la celda."
   ]
  },
  {
   "cell_type": "code",
   "execution_count": null,
   "id": "8247e030",
   "metadata": {},
   "outputs": [],
   "source": [
    "miNombre = ''"
   ]
  },
  {
   "cell_type": "markdown",
   "id": "44fcf0f5",
   "metadata": {},
   "source": [
    "6. Ubique el cursor en la siguiente celda y ejecute la celda"
   ]
  },
  {
   "cell_type": "code",
   "execution_count": null,
   "id": "ba502c42",
   "metadata": {},
   "outputs": [],
   "source": [
    "print(\"Bienvenid@ \"+miNombre+\" al curso de Python para Ciencia de Datos\")"
   ]
  }
 ],
 "metadata": {
  "kernelspec": {
   "display_name": "Python [conda env:base] *",
   "language": "python",
   "name": "conda-base-py"
  },
  "language_info": {
   "codemirror_mode": {
    "name": "ipython",
    "version": 3
   },
   "file_extension": ".py",
   "mimetype": "text/x-python",
   "name": "python",
   "nbconvert_exporter": "python",
   "pygments_lexer": "ipython3",
   "version": "3.12.7"
  }
 },
 "nbformat": 4,
 "nbformat_minor": 5
}
