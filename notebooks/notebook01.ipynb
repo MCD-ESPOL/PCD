{
 "cells": [
  {
   "cell_type": "markdown",
   "id": "bd3bd436",
   "metadata": {},
   "source": [
    "# Anaconda"
   ]
  },
  {
   "cell_type": "markdown",
   "id": "22f24453",
   "metadata": {},
   "source": [
    "## Descarga e instalación\n",
    "\n",
    "1. Descargue Anaconda del sitio oficial [Anaconda Distribution - Free Download](https://www.anaconda.com/download), de acuerdo con su sistema operativo.\n",
    "\n",
    "\n",
    "<div align=\"center\">\n",
    "    <img src=\"images/anaconda_download.png\" width=\"60%\"/>\n",
    "</div>"
   ]
  },
  {
   "cell_type": "markdown",
   "id": "21707747",
   "metadata": {},
   "source": [
    "## Jupyter Notebook\n",
    "\n",
    "1. Luego de la instalación. La pantalla principal de Anaconada es la siguiente:\n",
    "\n",
    "<div align=\"center\">\n",
    "    <img src=\"images/anaconda_main.png\" width=\"60%\"/>\n",
    "</div>\n",
    "\n",
    "\n",
    "2. Ejecute Jupyter desde la opción **Launch Jupyter**.\n",
    "\n",
    "<div align=\"center\">\n",
    "    <img src=\"images/jupyter_launch.png\" width=\"20%\"/>\n",
    "</div>\n",
    "\n",
    "3. Desde la pantalla principal de Jupyter, acceda a su ruta de su carpeta de trabajo.\n",
    "\n",
    "<div align=\"center\">\n",
    "    <img src=\"images/jupyter_main.png\" width=\"60%\"/>\n",
    "</div>"
   ]
  },
  {
   "cell_type": "markdown",
   "id": "7622be7c",
   "metadata": {},
   "source": [
    "## Notebooks del repositorio\n",
    "\n",
    "1. Descargue un notebook del repositorio, al hacer clic el símbolo **Download Raw Files**.\n",
    "\n",
    "<div align=\"center\">\n",
    "    <img src=\"images/download_raw_files.png\" width=\"20%\"/>\n",
    "</div>\n",
    "\n",
    "2. Mueva el notebook descargado a la ruta de su carpeta de trabajo.\n",
    "\n",
    "<div align=\"center\">\n",
    "    <img src=\"images/notebook_path.png\" width=\"60%\"/>\n",
    "</div>\n",
    "\n",
    "3. Actualice la vista de la ruta de su carpeta de trabajo.\n",
    "\n",
    "<div align=\"center\">\n",
    "    <img src=\"images/jupyter_main2.png\" width=\"60%\"/>\n",
    "</div>\n",
    "\n",
    "4. Acceda al notebook.\n",
    "\n",
    "<div align=\"center\">\n",
    "    <img src=\"images/jupyter_notebook.png\" width=\"90%\"/>\n",
    "</div>"
   ]
  }
 ],
 "metadata": {
  "kernelspec": {
   "display_name": "Python 3 (ipykernel)",
   "language": "python",
   "name": "python3"
  },
  "language_info": {
   "codemirror_mode": {
    "name": "ipython",
    "version": 3
   },
   "file_extension": ".py",
   "mimetype": "text/x-python",
   "name": "python",
   "nbconvert_exporter": "python",
   "pygments_lexer": "ipython3",
   "version": "3.11.5"
  }
 },
 "nbformat": 4,
 "nbformat_minor": 5
}
