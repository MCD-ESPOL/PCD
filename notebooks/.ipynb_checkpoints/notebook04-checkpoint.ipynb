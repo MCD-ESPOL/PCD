{
 "cells": [
  {
   "cell_type": "markdown",
   "id": "6b535544-1310-4d5d-a06a-ce4bce87d876",
   "metadata": {},
   "source": [
    "## Listas\n",
    "\n",
    "Este tipo de dato permite agrupar datos (incluso de diferentes tipos) relacionados entre sí."
   ]
  },
  {
   "cell_type": "markdown",
   "id": "cff8545e",
   "metadata": {},
   "source": [
    "### Lista vacía\n",
    "\n",
    "Una lista vacía se crea asignando un par de corchetes sin contenido, como se muestra a continuación.\n",
    "\n",
    "<br><br>\n",
    "<div align=\"center\">\n",
    "    <img src=\"https://github.com/MCD-ESPOL/PCD/blob/main/notebooks/images/python_listas0.png?raw=true\" width=\"60%\">\n",
    "</div>"
   ]
  },
  {
   "cell_type": "code",
   "execution_count": 46,
   "id": "3266adf2",
   "metadata": {},
   "outputs": [
    {
     "name": "stdout",
     "output_type": "stream",
     "text": [
      "Contenido inicial de la lista invitados:  []\n"
     ]
    }
   ],
   "source": [
    "# Lista vacía: invitados\n",
    "\n",
    "invitados = []\n",
    "print(\"Contenido inicial de la lista invitados: \", invitados)"
   ]
  },
  {
   "cell_type": "markdown",
   "id": "09632a78",
   "metadata": {},
   "source": [
    "### Agregar elemento(s) a una lista\n",
    "\n",
    "Para agregar elemento(s) a una lista es posible asignar elementos a la lista **o** utilizar el método `append`."
   ]
  },
  {
   "cell_type": "code",
   "execution_count": 42,
   "id": "109bdc52",
   "metadata": {},
   "outputs": [
    {
     "name": "stdout",
     "output_type": "stream",
     "text": [
      "Lista de invitados hasta ahora:  ['Carlos Andrés', 'Martina Carolina']\n"
     ]
    }
   ],
   "source": [
    "# Asignación de elementos a la lista\n",
    "invitados = [ 'Carlos Andrés', 'Martina Carolina' ]\n",
    "\n",
    "print(\"Lista de invitados hasta ahora: \", invitados)"
   ]
  },
  {
   "cell_type": "code",
   "execution_count": 43,
   "id": "9c93164e",
   "metadata": {},
   "outputs": [
    {
     "name": "stdout",
     "output_type": "stream",
     "text": [
      "Lista de invitados hasta ahora:  ['Carlos Andrés', 'Martina Carolina', 'María José', 'Andrés Manuel']\n"
     ]
    }
   ],
   "source": [
    "# Método append de la lista\n",
    "invitados.append( 'María José' )\n",
    "invitados.append( 'Andrés Manuel' )\n",
    "\n",
    "print(\"Lista de invitados hasta ahora: \", invitados)"
   ]
  },
  {
   "cell_type": "code",
   "execution_count": null,
   "id": "4be63cde",
   "metadata": {},
   "outputs": [],
   "source": [
    "# Cree dos listas vacías: productos y compras  "
   ]
  },
  {
   "cell_type": "code",
   "execution_count": null,
   "id": "ba6d5ea8",
   "metadata": {},
   "outputs": [],
   "source": [
    "# Asigne a la lista productos los elementos \n",
    "# [ 'CAFE NESCAFE 100 G', 'ARROZ CONEJO SACO 20 LB', 'AZUCAR SAN CARLOS 2 KG', \"PAN MOLDE TA'RIKO 450 G\"]\n"
   ]
  },
  {
   "cell_type": "code",
   "execution_count": null,
   "id": "56d3837e",
   "metadata": {},
   "outputs": [],
   "source": [
    "# Para la lista compras, utilice el método append para agregar CADA UNO de los siguientes valores \n",
    "# 5.29, 11.99, 2.19 y 0.99\n"
   ]
  },
  {
   "cell_type": "markdown",
   "id": "a6183236",
   "metadata": {},
   "source": [
    "### Eliminar un elemento a una lista\n",
    "\n",
    "Para eliminar un elemento de una lista es posible mediante el método `remove`. Para este método es necesario enviar el dato a eliminar dentro de los paréntesis.\n"
   ]
  },
  {
   "cell_type": "code",
   "execution_count": 44,
   "id": "0fc44073",
   "metadata": {},
   "outputs": [
    {
     "name": "stdout",
     "output_type": "stream",
     "text": [
      "Lista de invitados hasta ahora:  ['Carlos Andrés', 'Martina Carolina', 'María José']\n"
     ]
    }
   ],
   "source": [
    "# Removemos el elemento 'Andrés Manuel' de la lista de invitados\n",
    "\n",
    "invitados.remove( 'Andrés Manuel' )\n",
    "\n",
    "print(\"Lista de invitados hasta ahora: \", invitados)"
   ]
  },
  {
   "cell_type": "code",
   "execution_count": 45,
   "id": "42085fba",
   "metadata": {},
   "outputs": [
    {
     "name": "stdout",
     "output_type": "stream",
     "text": [
      "Lista de invitados hasta ahora:  ['Carlos Andrés', 'María José']\n"
     ]
    }
   ],
   "source": [
    "# Removemos el elemento 'Martina Carolina' de la lista de invitados\n",
    "\n",
    "invitados.remove( 'Martina Carolina' )\n",
    "\n",
    "\n",
    "print(\"Lista de invitados hasta ahora: \", invitados)"
   ]
  },
  {
   "cell_type": "code",
   "execution_count": null,
   "id": "669cd457",
   "metadata": {},
   "outputs": [],
   "source": []
  },
  {
   "cell_type": "markdown",
   "id": "5b619afa-c7bf-4dca-85ef-0539762461ae",
   "metadata": {},
   "source": [
    "## Estructuras de repetición"
   ]
  },
  {
   "cell_type": "markdown",
   "id": "ead17eae",
   "metadata": {},
   "source": [
    "## Ejercicios"
   ]
  }
 ],
 "metadata": {
  "kernelspec": {
   "display_name": "Python 3 (ipykernel)",
   "language": "python",
   "name": "python3"
  },
  "language_info": {
   "codemirror_mode": {
    "name": "ipython",
    "version": 3
   },
   "file_extension": ".py",
   "mimetype": "text/x-python",
   "name": "python",
   "nbconvert_exporter": "python",
   "pygments_lexer": "ipython3",
   "version": "3.11.5"
  }
 },
 "nbformat": 4,
 "nbformat_minor": 5
}
