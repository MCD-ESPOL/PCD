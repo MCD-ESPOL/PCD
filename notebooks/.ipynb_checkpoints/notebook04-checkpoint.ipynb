{
 "cells": [
  {
   "cell_type": "markdown",
   "id": "6b535544-1310-4d5d-a06a-ce4bce87d876",
   "metadata": {},
   "source": [
    "## Listas\n",
    "\n",
    "Este tipo de dato permite agrupar datos (incluso de diferentes tipos) relacionados entre sí."
   ]
  },
  {
   "cell_type": "markdown",
   "id": "1a540d0f",
   "metadata": {},
   "source": [
    "### Lista vacía\n",
    "\n",
    "Una lista vacía se crea asignando un par de corchetes sin contenido, como se muestra a continuación.\n",
    "\n",
    "<br><br>\n",
    "<div align=\"center\">\n",
    "    <img src=\"https://github.com/MCD-ESPOL/PCD/blob/main/notebooks/images/python_listas0.png?raw=true\" width=\"60%\">\n",
    "</div>"
   ]
  },
  {
   "cell_type": "code",
   "execution_count": null,
   "id": "355ed748",
   "metadata": {},
   "outputs": [],
   "source": [
    "# Cree dos listas vacías: productos y valores  \n",
    "\n"
   ]
  },
  {
   "cell_type": "markdown",
   "id": "ba8127a5",
   "metadata": {},
   "source": [
    "### Agregar elemento(s) a una lista\n",
    "\n",
    "Para agregar elemento(s) a una lista es posible asignar elementos a la lista **o** utilizar el método `append`.\n",
    "\n",
    "<br><br>\n",
    "<div align=\"center\">\n",
    "    <img src=\"https://github.com/MCD-ESPOL/PCD/blob/main/notebooks/images/python_listas1.png?raw=true\" width=\"80%\">\n",
    "</div>\n",
    "\n",
    "**NOTA:** Con el método `append` se agrega un elemento a la vez. "
   ]
  },
  {
   "cell_type": "code",
   "execution_count": null,
   "id": "cae93668",
   "metadata": {},
   "outputs": [],
   "source": [
    "# Asigne a la lista productos los elementos: \n",
    "#   [ 'CAFE NESCAFE 100 G', 'ARROZ CONEJO SACO 20 LB', 'AZUCAR SAN CARLOS 2 KG', \"PAN MOLDE TA'RIKO 450 G\"]\n",
    "# Muestre la lista productos.\n"
   ]
  },
  {
   "cell_type": "code",
   "execution_count": null,
   "id": "3afdf529",
   "metadata": {},
   "outputs": [],
   "source": [
    "# Para la lista valores, utilice el método append para agregar CADA UNO de los siguientes datos: \n",
    "#   5.29, 11.99, 2.19 y 0.99\n",
    "# Muestre la lista valores\n",
    "\n"
   ]
  },
  {
   "cell_type": "markdown",
   "id": "37739cad",
   "metadata": {},
   "source": [
    "### Operaciones con listas\n",
    "\n",
    "Con las listas es posible realizar operaciones como: `max` (valor máximo), `min` (valor máximo), `len` (longitud o cantidad de elementos) y `sum` (suma de todos los elementos). Sin embargo, no todas las operaciones pueden realizarse sobre las listas.\n",
    "\n",
    "\n",
    "<br><br>\n",
    "<div align=\"center\">\n",
    "    <img src=\"https://github.com/MCD-ESPOL/PCD/blob/main/notebooks/images/python_listas2.png?raw=true\" width=\"60%\">\n",
    "</div>"
   ]
  },
  {
   "cell_type": "code",
   "execution_count": null,
   "id": "3c434633",
   "metadata": {},
   "outputs": [],
   "source": [
    "# En la variable cantidadProductos asigne la cantidad de elementos (len) de la lista productos.\n",
    "# Muestre el contenido de la variable cantidadProductos\n"
   ]
  },
  {
   "cell_type": "code",
   "execution_count": null,
   "id": "6823db71",
   "metadata": {},
   "outputs": [],
   "source": [
    "# En la variable maxValor asigne el valor máximo (max) de la lista valores.\n",
    "# Muestre el contenido de la variable maxValor\n"
   ]
  },
  {
   "cell_type": "code",
   "execution_count": null,
   "id": "4cdafca7",
   "metadata": {},
   "outputs": [],
   "source": [
    "# En la variable minValor asigne el valor mínimo (min) de la lista valores.\n",
    "# Muestre el contenido de la variable minValor\n"
   ]
  },
  {
   "cell_type": "code",
   "execution_count": null,
   "id": "ac362d79",
   "metadata": {},
   "outputs": [],
   "source": [
    "# En la variable totalValor asigne la suma total (sum) de la lista valores.\n",
    "# Muestre el contenido de la variable totalValor\n"
   ]
  },
  {
   "cell_type": "code",
   "execution_count": 66,
   "id": "0a1fa2c1",
   "metadata": {},
   "outputs": [],
   "source": [
    "# En la variable maxProducto asigne el valor máximo (max) de la lista productos.\n",
    "# Muestre el contenido de la variable maxProducto"
   ]
  },
  {
   "cell_type": "markdown",
   "id": "aa266b48",
   "metadata": {},
   "source": [
    "### Indexación\n",
    "\n",
    "\n",
    "Una forma indirecta para acceder a CADA elemento dentro de cualquier lista es mediante el **índice**. \n",
    "\n",
    "<div align=\"center\">\n",
    "    <img src=\"https://github.com/MCD-ESPOL/PCD/blob/main/notebooks/images/python_listas3.png?raw=true\" width=\"60%\">\n",
    "</div>\n",
    "\n"
   ]
  },
  {
   "cell_type": "markdown",
   "id": "57ca89b4",
   "metadata": {},
   "source": [
    "Los índices van desde el **0** hasta **cantidad de elementos - 1**.\n",
    "\n",
    "<br>\n",
    "<div align=\"center\">\n",
    "    <img src=\"https://github.com/MCD-ESPOL/PCD/blob/main/notebooks/images/python_listas4.png?raw=true\" width=\"80%\">\n",
    "</div>"
   ]
  },
  {
   "cell_type": "code",
   "execution_count": 111,
   "id": "aef450e4",
   "metadata": {},
   "outputs": [],
   "source": [
    "# De la lista productos, extraiga el elemento que se encuentran con el índice 0\n",
    "# De la lista valores, extraiga el elemento que se encuentran con el índice 0\n",
    "# Muestre ambos resultados por pantalla"
   ]
  },
  {
   "cell_type": "code",
   "execution_count": 113,
   "id": "16dc2a10",
   "metadata": {},
   "outputs": [],
   "source": [
    "# De la lista productos, extraiga el elemento que se encuentran con el índice 3\n",
    "# De la lista valores, extraiga el elemento que se encuentran con el índice 3\n",
    "# Muestre ambos resultados por pantalla"
   ]
  },
  {
   "cell_type": "code",
   "execution_count": 114,
   "id": "441c5e37",
   "metadata": {},
   "outputs": [],
   "source": [
    "# De la lista productos, extraiga el elemento que se encuentran con el índice 1\n",
    "# De la lista valores, extraiga el elemento que se encuentran con el índice 1\n",
    "# Muestre ambos resultados por pantalla"
   ]
  },
  {
   "cell_type": "code",
   "execution_count": 115,
   "id": "7859510b",
   "metadata": {},
   "outputs": [],
   "source": [
    "# De la lista productos, extraiga el elemento que se encuentran con el índice 2\n",
    "# De la lista valores, extraiga el elemento que se encuentran con el índice 2\n",
    "# Muestre ambos resultados por pantalla"
   ]
  },
  {
   "cell_type": "markdown",
   "id": "5b619afa-c7bf-4dca-85ef-0539762461ae",
   "metadata": {},
   "source": [
    "### Rebanadas (slicing)\n",
    "\n",
    "Utilizando la experiencia de tomar un elemento de la lista a partir de un índice, también es posible copiar un grupo de elementos desde un **índice de inicio** hasta un **índice de fin + 1** (sin incluir).\n",
    "\n",
    "Por ejemplo, para copiar un grupo con los **tres primeros elementos** se utilizan desde el índice **0** hasta el índice **3** (sin incluir).\n",
    "\n",
    "<div align=\"center\">\n",
    "    <img src=\"https://github.com/MCD-ESPOL/PCD/blob/main/notebooks/images/python_listas5.png?raw=true\" width=\"60%\">\n",
    "</div>\n",
    "\n",
    "\n",
    "\n",
    "<div align=\"center\">\n",
    "    <img src=\"https://github.com/MCD-ESPOL/PCD/blob/main/notebooks/images/python_listas6.png?raw=true\" width=\"60%\">\n",
    "</div>"
   ]
  },
  {
   "cell_type": "code",
   "execution_count": 143,
   "id": "f95f48a3",
   "metadata": {},
   "outputs": [],
   "source": [
    "# De la lista productos, copie los elementos que se encuentran desde el índice 0 hasta el índice 2. \n",
    "# Muestre el resultado"
   ]
  },
  {
   "cell_type": "code",
   "execution_count": 145,
   "id": "53e5cb6a",
   "metadata": {},
   "outputs": [],
   "source": [
    "# De la lista valores, copie los elementos que se encuentran desde el índice 0 hasta el índice 2. \n",
    "# Muestre el resultado"
   ]
  },
  {
   "cell_type": "code",
   "execution_count": 146,
   "id": "8345ee05",
   "metadata": {},
   "outputs": [],
   "source": [
    "# De las listas productos y valores, copie los tres últimos elementos  \n",
    "# Muestre los resultados"
   ]
  },
  {
   "cell_type": "code",
   "execution_count": 166,
   "id": "3b774662",
   "metadata": {},
   "outputs": [],
   "source": [
    "# De las listas productos y valores, copie los dos elementos en el centro\n",
    "# Muestre los resultados"
   ]
  },
  {
   "cell_type": "markdown",
   "id": "08cdd674",
   "metadata": {},
   "source": [
    "### Búsqueda de valores\n",
    "\n"
   ]
  },
  {
   "cell_type": "code",
   "execution_count": null,
   "id": "8616a6cb",
   "metadata": {},
   "outputs": [],
   "source": []
  },
  {
   "cell_type": "markdown",
   "id": "1c566f28",
   "metadata": {},
   "source": [
    "## Ejercicios"
   ]
  },
  {
   "cell_type": "markdown",
   "id": "3bb018de",
   "metadata": {},
   "source": [
    "* Haga un programa para el **análisis de ventas**, con las listas _meses_ y _ventas_."
   ]
  },
  {
   "cell_type": "code",
   "execution_count": 179,
   "id": "82aeb74e",
   "metadata": {},
   "outputs": [],
   "source": [
    "meses = [\"Enero\", \"Febrero\", \"Marzo\", \"Abril\", \"Mayo\", \"Junio\", \"Julio\", \"Agosto\", \"Septiembre\", \"Octubre\", \"Noviembre\", \"Diciembre\"]\n",
    "ventas = [3.73, 9.46, 6.01, 5.74, 4.51, 7.6, 6.04, 2.59, 6.88, 7.96, 4.75, 7.96]"
   ]
  },
  {
   "cell_type": "markdown",
   "id": "34d5d1c1",
   "metadata": {},
   "source": [
    "Utilice , para mostrar:\n",
    "\n",
    "1. El valor máximo y mínimo de ventas.\n",
    "2. La suma total de ventas.\n",
    "3. El promedio de ventas.\n",
    "4. El valor máximo de ventas, con el mes correspondiente.\n",
    "5. El valor máximo de ventas, con el mes correspondiente.\n",
    "6. Los valores de venta en el primer trimestre. \n",
    "7. El máximo valor de ventas en el primer trimestre. \n",
    "8. El máximo valor de ventas en el primer trimestre, con el mes correspondiente. \n",
    "9. Los valores de venta en el segundo semestre. \n",
    "10. El mínimo valor de ventas en el segundo trimestre. \n",
    "11. El mínimo valor de ventas en el segundo trimestre, con el mes correspondiente. \n",
    "12. El nombre del mes con mayor valor de ventas, de entre los dos mayores valores de cada semestre."
   ]
  },
  {
   "cell_type": "code",
   "execution_count": null,
   "id": "64112e39",
   "metadata": {},
   "outputs": [],
   "source": []
  }
 ],
 "metadata": {
  "kernelspec": {
   "display_name": "Python 3 (ipykernel)",
   "language": "python",
   "name": "python3"
  },
  "language_info": {
   "codemirror_mode": {
    "name": "ipython",
    "version": 3
   },
   "file_extension": ".py",
   "mimetype": "text/x-python",
   "name": "python",
   "nbconvert_exporter": "python",
   "pygments_lexer": "ipython3",
   "version": "3.11.5"
  }
 },
 "nbformat": 4,
 "nbformat_minor": 5
}
