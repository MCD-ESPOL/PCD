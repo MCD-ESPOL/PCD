{
 "cells": [
  {
   "cell_type": "markdown",
   "id": "6b535544-1310-4d5d-a06a-ce4bce87d876",
   "metadata": {},
   "source": [
    "## Listas\n",
    "\n",
    "Este tipo de dato permite agrupar datos (incluso de diferentes tipos) relacionados entre sí."
   ]
  },
  {
   "cell_type": "markdown",
   "id": "278ee2e8",
   "metadata": {},
   "source": [
    "### Lista vacía\n",
    "\n",
    "Una lista vacía se crea asignando un par de corchetes sin contenido, como se muestra a continuación.\n",
    "\n",
    "<br><br>\n",
    "<div align=\"center\">\n",
    "    <img src=\"https://github.com/MCD-ESPOL/PCD/blob/main/notebooks/images/python_listas0.png?raw=true\" width=\"60%\">\n",
    "</div>"
   ]
  },
  {
   "cell_type": "code",
   "execution_count": null,
   "id": "30c5a734",
   "metadata": {},
   "outputs": [],
   "source": [
    "# Cree dos listas vacías: productos y valores  \n",
    "\n"
   ]
  },
  {
   "cell_type": "markdown",
   "id": "35664e5c",
   "metadata": {},
   "source": [
    "### Agregar elemento(s) a una lista\n",
    "\n",
    "Para agregar elemento(s) a una lista es posible asignar elementos a la lista **o** utilizar el método `append`.\n",
    "\n",
    "<br><br>\n",
    "<div align=\"center\">\n",
    "    <img src=\"https://github.com/MCD-ESPOL/PCD/blob/main/notebooks/images/python_listas1.png?raw=true\" width=\"80%\">\n",
    "</div>\n",
    "\n",
    "**NOTA:** Con el método `append` se agrega un elemento a la vez. "
   ]
  },
  {
   "cell_type": "code",
   "execution_count": 48,
   "id": "c35aa244",
   "metadata": {},
   "outputs": [],
   "source": [
    "# Asigne a la lista productos los elementos: \n",
    "#   [ 'CAFE NESCAFE 100 G', 'ARROZ CONEJO SACO 20 LB', 'AZUCAR SAN CARLOS 2 KG', \"PAN MOLDE TA'RIKO 450 G\"]\n",
    "# Muestre la lista productos.\n"
   ]
  },
  {
   "cell_type": "code",
   "execution_count": 49,
   "id": "d40cad8b",
   "metadata": {},
   "outputs": [],
   "source": [
    "# Para la lista valores, utilice el método append para agregar CADA UNO de los siguientes datos: \n",
    "#   5.29, 11.99, 2.19 y 0.99\n",
    "# Muestre la lista valores\n",
    "\n"
   ]
  },
  {
   "cell_type": "markdown",
   "id": "6a93b0ca",
   "metadata": {},
   "source": [
    "### Operaciones con listas\n",
    "\n",
    "Con las listas es posible realizar operaciones como: `max` (valor máximo), `min` (valor máximo), `len` (longitud o cantidad de elementos) y `sum` (suma de todos los elementos). Sin embargo, no todas las operaciones pueden realizarse sobre las listas.\n",
    "\n",
    "\n",
    "<br><br>\n",
    "<div align=\"center\">\n",
    "    <img src=\"https://github.com/MCD-ESPOL/PCD/blob/main/notebooks/images/python_listas2.png?raw=true\" width=\"60%\">\n",
    "</div>"
   ]
  },
  {
   "cell_type": "code",
   "execution_count": 62,
   "id": "419a2d4a",
   "metadata": {},
   "outputs": [],
   "source": [
    "# En la variable cantidadProductos asigne la cantidad de elementos (len) de la lista productos.\n",
    "# Muestre el contenido de la variable cantidadProductos\n"
   ]
  },
  {
   "cell_type": "code",
   "execution_count": 64,
   "id": "8eff63a0",
   "metadata": {},
   "outputs": [],
   "source": [
    "# En la variable maxValor asigne el valor máximo (max) de la lista valores.\n",
    "# Muestre el contenido de la variable maxValor\n"
   ]
  },
  {
   "cell_type": "code",
   "execution_count": 65,
   "id": "421f209b",
   "metadata": {},
   "outputs": [],
   "source": [
    "# En la variable minValor asigne el valor mínimo (min) de la lista valores.\n",
    "# Muestre el contenido de la variable minValor\n"
   ]
  },
  {
   "cell_type": "code",
   "execution_count": null,
   "id": "f1e0c281",
   "metadata": {},
   "outputs": [],
   "source": [
    "# En la variable totalValor asigne la suma total (sum) de la lista valores.\n",
    "# Muestre el contenido de la variable totalValor\n"
   ]
  },
  {
   "cell_type": "code",
   "execution_count": null,
   "id": "6152dc38",
   "metadata": {},
   "outputs": [],
   "source": []
  },
  {
   "cell_type": "markdown",
   "id": "f9f226df",
   "metadata": {},
   "source": [
    "### Eliminar un elemento a una lista\n",
    "\n",
    "Para eliminar un elemento de una lista es posible mediante el método `remove`. Para este método es necesario enviar el dato a eliminar dentro de los paréntesis.\n"
   ]
  },
  {
   "cell_type": "code",
   "execution_count": 44,
   "id": "c5cb873a",
   "metadata": {},
   "outputs": [
    {
     "name": "stdout",
     "output_type": "stream",
     "text": [
      "Lista de invitados hasta ahora:  ['Carlos Andrés', 'Martina Carolina', 'María José']\n"
     ]
    }
   ],
   "source": [
    "# Removemos el elemento 'Andrés Manuel' de la lista de invitados\n",
    "\n",
    "invitados.remove( 'Andrés Manuel' )\n",
    "\n",
    "print(\"Lista de invitados hasta ahora: \", invitados)"
   ]
  },
  {
   "cell_type": "code",
   "execution_count": 45,
   "id": "638d1ae2",
   "metadata": {},
   "outputs": [
    {
     "name": "stdout",
     "output_type": "stream",
     "text": [
      "Lista de invitados hasta ahora:  ['Carlos Andrés', 'María José']\n"
     ]
    }
   ],
   "source": [
    "# Removemos el elemento 'Martina Carolina' de la lista de invitados\n",
    "\n",
    "invitados.remove( 'Martina Carolina' )\n",
    "\n",
    "\n",
    "print(\"Lista de invitados hasta ahora: \", invitados)"
   ]
  },
  {
   "cell_type": "code",
   "execution_count": null,
   "id": "559b3104",
   "metadata": {},
   "outputs": [],
   "source": []
  },
  {
   "cell_type": "markdown",
   "id": "5b619afa-c7bf-4dca-85ef-0539762461ae",
   "metadata": {},
   "source": [
    "## Estructuras de repetición"
   ]
  },
  {
   "cell_type": "markdown",
   "id": "74bc24ce",
   "metadata": {},
   "source": [
    "## Ejercicios"
   ]
  }
 ],
 "metadata": {
  "kernelspec": {
   "display_name": "Python 3 (ipykernel)",
   "language": "python",
   "name": "python3"
  },
  "language_info": {
   "codemirror_mode": {
    "name": "ipython",
    "version": 3
   },
   "file_extension": ".py",
   "mimetype": "text/x-python",
   "name": "python",
   "nbconvert_exporter": "python",
   "pygments_lexer": "ipython3",
   "version": "3.11.5"
  }
 },
 "nbformat": 4,
 "nbformat_minor": 5
}
