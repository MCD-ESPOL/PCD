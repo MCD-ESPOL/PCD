{
 "cells": [
  {
   "cell_type": "markdown",
   "id": "6b535544-1310-4d5d-a06a-ce4bce87d876",
   "metadata": {},
   "source": [
    "## Listas\n",
    "\n",
    "Este tipo de dato permite agrupar datos (incluso de diferentes tipos) relacionados entre sí."
   ]
  },
  {
   "cell_type": "markdown",
   "id": "6198de0d",
   "metadata": {},
   "source": [
    "### Lista vacía\n",
    "\n",
    "Una lista vacía se crea asignando un par de corchetes sin contenido, como se muestra a continuación.\n",
    "\n",
    "<br><br>\n",
    "<div align=\"center\">\n",
    "    <img src=\"https://github.com/MCD-ESPOL/PCD/blob/main/notebooks/images/python_listas0.png?raw=true\" width=\"60%\">\n",
    "</div>"
   ]
  },
  {
   "cell_type": "code",
   "execution_count": null,
   "id": "6a236fde",
   "metadata": {},
   "outputs": [],
   "source": [
    "# Cree dos listas vacías: productos y compras  \n",
    "\n"
   ]
  },
  {
   "cell_type": "markdown",
   "id": "9398358b",
   "metadata": {},
   "source": [
    "### Agregar elemento(s) a una lista\n",
    "\n",
    "Para agregar elemento(s) a una lista es posible asignar elementos a la lista **o** utilizar el método `append`.\n",
    "\n",
    "<br><br>\n",
    "<div align=\"center\">\n",
    "    <img src=\"https://github.com/MCD-ESPOL/PCD/blob/main/notebooks/images/python_listas1.png?raw=true\" width=\"80%\">\n",
    "</div>"
   ]
  },
  {
   "cell_type": "code",
   "execution_count": null,
   "id": "1798d72c",
   "metadata": {},
   "outputs": [],
   "source": [
    "# Asigne a la lista productos los elementos: [ 'CAFE NESCAFE 100 G', 'ARROZ CONEJO SACO 20 LB', 'AZUCAR SAN CARLOS 2 KG', \"PAN MOLDE TA'RIKO 450 G\"]\n",
    "# Muestre la lista productos.\n"
   ]
  },
  {
   "cell_type": "code",
   "execution_count": 47,
   "id": "ed5b46fb",
   "metadata": {},
   "outputs": [],
   "source": [
    "# Para la lista compras, utilice el método append para agregar CADA UNO de los siguientes valores: 5.29, 11.99, 2.19 y 0.99\n",
    "# Muestre la lista compras\n",
    "\n"
   ]
  },
  {
   "cell_type": "markdown",
   "id": "dc3a4ebb",
   "metadata": {},
   "source": [
    "### Eliminar un elemento a una lista\n",
    "\n",
    "Para eliminar un elemento de una lista es posible mediante el método `remove`. Para este método es necesario enviar el dato a eliminar dentro de los paréntesis.\n"
   ]
  },
  {
   "cell_type": "code",
   "execution_count": 44,
   "id": "41d505ae",
   "metadata": {},
   "outputs": [
    {
     "name": "stdout",
     "output_type": "stream",
     "text": [
      "Lista de invitados hasta ahora:  ['Carlos Andrés', 'Martina Carolina', 'María José']\n"
     ]
    }
   ],
   "source": [
    "# Removemos el elemento 'Andrés Manuel' de la lista de invitados\n",
    "\n",
    "invitados.remove( 'Andrés Manuel' )\n",
    "\n",
    "print(\"Lista de invitados hasta ahora: \", invitados)"
   ]
  },
  {
   "cell_type": "code",
   "execution_count": 45,
   "id": "6f2abe6e",
   "metadata": {},
   "outputs": [
    {
     "name": "stdout",
     "output_type": "stream",
     "text": [
      "Lista de invitados hasta ahora:  ['Carlos Andrés', 'María José']\n"
     ]
    }
   ],
   "source": [
    "# Removemos el elemento 'Martina Carolina' de la lista de invitados\n",
    "\n",
    "invitados.remove( 'Martina Carolina' )\n",
    "\n",
    "\n",
    "print(\"Lista de invitados hasta ahora: \", invitados)"
   ]
  },
  {
   "cell_type": "code",
   "execution_count": null,
   "id": "455645a8",
   "metadata": {},
   "outputs": [],
   "source": []
  },
  {
   "cell_type": "markdown",
   "id": "5b619afa-c7bf-4dca-85ef-0539762461ae",
   "metadata": {},
   "source": [
    "## Estructuras de repetición"
   ]
  },
  {
   "cell_type": "markdown",
   "id": "3377e5cd",
   "metadata": {},
   "source": [
    "## Ejercicios"
   ]
  }
 ],
 "metadata": {
  "kernelspec": {
   "display_name": "Python 3 (ipykernel)",
   "language": "python",
   "name": "python3"
  },
  "language_info": {
   "codemirror_mode": {
    "name": "ipython",
    "version": 3
   },
   "file_extension": ".py",
   "mimetype": "text/x-python",
   "name": "python",
   "nbconvert_exporter": "python",
   "pygments_lexer": "ipython3",
   "version": "3.11.5"
  }
 },
 "nbformat": 4,
 "nbformat_minor": 5
}
