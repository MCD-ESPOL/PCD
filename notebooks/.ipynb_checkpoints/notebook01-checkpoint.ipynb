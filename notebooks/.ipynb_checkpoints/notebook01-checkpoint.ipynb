{
 "cells": [
  {
   "cell_type": "markdown",
   "id": "3540bf27-5883-4b3d-9494-9a3b8e4db722",
   "metadata": {},
   "source": [
    "# Jupyter Notebook"
   ]
  },
  {
   "cell_type": "markdown",
   "id": "1d2ea887-40dc-42a1-b7b8-33dfff2ead56",
   "metadata": {},
   "source": [
    "[Jupyter Notebook](https://jupyter.org/) es un entorno de desarrollo interactivo con el live code. Jupyter muestra una ejecución del código a través del navegador web."
   ]
  },
  {
   "cell_type": "markdown",
   "id": "5368fedc-8d43-415c-9c1f-3d48da2ea1e5",
   "metadata": {},
   "source": [
    "<div align=\"center\">\n",
    "    <img src=\"https://jupyter.org/assets/homepage/jupyterpreview.webp\" width=\"50%\">\n",
    "</div>"
   ]
  },
  {
   "cell_type": "markdown",
   "id": "6a1d6f94-542d-4b95-9613-a4ec78f76e0f",
   "metadata": {},
   "source": [
    "## Instalación"
   ]
  },
  {
   "cell_type": "markdown",
   "id": "70f4530c-2d41-468a-a4ac-35cd2a060df7",
   "metadata": {},
   "source": [
    "1. Ejecute el **Símbolo del sistema** como administrador\n",
    "\n",
    "<div align=\"center\">\n",
    "    <img src=\"images/cmd.png\" width=\"40%\"/>\n",
    "</div>\n",
    "\n"
   ]
  },
  {
   "cell_type": "markdown",
   "id": "3501245f-da72-49fb-925f-08fb6078c873",
   "metadata": {},
   "source": [
    "2. Instale el módulo Jupyter, con **pip3 install jupyter**\n",
    "<div align=\"center\">\n",
    "    <img src=\"images/pip3.png\" alt=\"cmd\" style=\"width:45%;\"/>\n",
    "    <img src=\"images/installed.png\" alt=\"cmd\" style=\"width:45%;\"/>\n",
    "</div>"
   ]
  },
  {
   "cell_type": "markdown",
   "id": "602f789f-63e9-4c79-80de-3c4715587189",
   "metadata": {},
   "source": [
    "## Notebook existente"
   ]
  },
  {
   "cell_type": "markdown",
   "id": "798c48a8-bcf0-4129-93da-c98b18c21880",
   "metadata": {},
   "source": [
    "1. Descargue este notebook desde el símbolo **Download Raw Files**\n",
    "\n",
    "<div align=\"center\">\n",
    "    <img src=\"images/download_raw_files.png\" width=\"20%\">\n",
    "</div>"
   ]
  },
  {
   "cell_type": "markdown",
   "id": "b55b0085-1ea5-474a-91cb-d2fbaad618e5",
   "metadata": {},
   "source": [
    "2. Ubique el archivo en su directorio de trabajo\n",
    "\n",
    "<div align=\"center\">\n",
    "    <img src=\"images/notebook_path.png\" width=\"50%\">\n",
    "</div>\n"
   ]
  },
  {
   "cell_type": "markdown",
   "id": "6442097e-d385-4aad-8072-d0b34340e62d",
   "metadata": {},
   "source": [
    "## Ejecución de un notebook"
   ]
  },
  {
   "cell_type": "markdown",
   "id": "0f75d3e8-6ef7-44ca-a027-328e337f00fa",
   "metadata": {},
   "source": [
    "1. Acceda al directorio donde desea crear y guardar los notebooks. \n",
    "2. Ejecute el notebook, con **jupyter notebook**\n",
    "\n",
    "<div align=\"center\">\n",
    "    <img src=\"images/run_jupyter.png\" width=\"45%\">\n",
    "    <img src=\"images/run_jupyter_done.png\" width=\"45%\">\n",
    "</div>"
   ]
  },
  {
   "cell_type": "markdown",
   "id": "3dbf1c7d-3b47-4a42-90cb-de060173805c",
   "metadata": {},
   "source": [
    "3. En su navegador predeterminado se abrirá el URL [http://localhost:8888/](http://localhost:8888/), con la vista previa similar a la siguiente imagen.\n",
    "\n",
    "<div align=\"center\">\n",
    "    <img src=\"images/jupyter_main.png\" width=\"50%\">\n",
    "</div>"
   ]
  },
  {
   "cell_type": "markdown",
   "id": "fdf5e96f-7ce6-424c-a0bb-14c195aea6e8",
   "metadata": {},
   "source": [
    "4. Para detener el Notebook Jupyter, interrumpa la ejecución con `Ctrl` + `C`\n",
    "\n",
    "<div align=\"center\">\n",
    "    <img src=\"images/jupyter_stop.png\" width=\"50%\">\n",
    "</div>"
   ]
  },
  {
   "cell_type": "markdown",
   "id": "a4002965-cb93-412f-a4c2-c4c5bceab3b2",
   "metadata": {},
   "source": [
    "## Nuevo notebook"
   ]
  },
  {
   "attachments": {},
   "cell_type": "markdown",
   "id": "270cdfd2-48d6-41cd-9fb0-96149ca5dfb1",
   "metadata": {},
   "source": [
    "1. Haga clic en el botón **New** y escoja la opción **Notebook**.\n",
    "\n",
    "<div align=\"center\">\n",
    "    <img src=\"images/notebook_new.png\" width=\"20%\">\n",
    "</div>"
   ]
  },
  {
   "cell_type": "markdown",
   "id": "0f49db91-cff5-4762-bd20-f904ebb5358c",
   "metadata": {},
   "source": [
    "2. La apariencia de un notebook vacío es la siguiente.\n",
    "\n",
    "<div align=\"center\">\n",
    "    <img src=\"images/jupyter_new_notebook.png\" width=\"50%\">\n",
    "</div>\n"
   ]
  },
  {
   "cell_type": "markdown",
   "id": "8d029703-5bb2-46d7-b308-31ba40f9da0d",
   "metadata": {},
   "source": [
    "3. Guarde los cambios en `File` > `Save Notebook As ...`"
   ]
  },
  {
   "cell_type": "markdown",
   "id": "cb7be2c1-06ca-480f-ac5c-7def40dbb4a4",
   "metadata": {},
   "source": [
    "## Referencias\n",
    "\n",
    "* (N.d.). Retrieved from https://jupyter.org/install\n",
    "* Paredes, J. (2023). Jupyter Notebook: qué es, para qué sirve, y cómo se usa. Retrieved from https://ebac.mx/blog/jupyter-notebook"
   ]
  }
 ],
 "metadata": {
  "kernelspec": {
   "display_name": "Python 3 (ipykernel)",
   "language": "python",
   "name": "python3"
  },
  "language_info": {
   "codemirror_mode": {
    "name": "ipython",
    "version": 3
   },
   "file_extension": ".py",
   "mimetype": "text/x-python",
   "name": "python",
   "nbconvert_exporter": "python",
   "pygments_lexer": "ipython3",
   "version": "3.11.4"
  }
 },
 "nbformat": 4,
 "nbformat_minor": 5
}
