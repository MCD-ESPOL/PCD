{
 "cells": [
  {
   "cell_type": "markdown",
   "id": "f70ef544-95c7-4d2b-8c0b-b8d7d51accf0",
   "metadata": {},
   "source": [
    "## Salida por pantalla\n",
    "\n",
    "Para mostrar un mensaje por pantalla, se utiliza la instrucción **print**. Entre los paréntesis **(** **)** se coloca el contenido a mostrar, por ejemplo:\n",
    "\n",
    "```python\n",
    "\n",
    "print(\"Este es un mensaje de salida\")\n",
    "\n",
    "print( (2 + 4) * 3 )\n",
    "```"
   ]
  },
  {
   "cell_type": "code",
   "execution_count": 3,
   "id": "ef11afc9-6cd0-4a78-8a7b-496b6cdbca6b",
   "metadata": {},
   "outputs": [
    {
     "name": "stdout",
     "output_type": "stream",
     "text": [
      "Juan Pérez Maldonado\n"
     ]
    }
   ],
   "source": [
    "# Escriba aquí la instrucción print y muestre como mensaje su nombre completo \n",
    "\n",
    "print(\"Juan Pérez Maldonado\")"
   ]
  },
  {
   "cell_type": "code",
   "execution_count": 4,
   "id": "deb24873-1deb-4189-8022-071cad072a7e",
   "metadata": {},
   "outputs": [
    {
     "name": "stdout",
     "output_type": "stream",
     "text": [
      "-2.0\n"
     ]
    }
   ],
   "source": [
    "# Escriba aquí la instrucción print y muestre la operación (4 - 8) / 2\n",
    "\n",
    "print( (4 - 8) / 2 )"
   ]
  },
  {
   "cell_type": "markdown",
   "id": "25c12a88-17c9-4075-bdaf-03ff7a62c726",
   "metadata": {},
   "source": [
    "## Variables\n",
    "\n",
    "Una **variable** es un contenedor para almacenar datos. Una variable se crea cuando se **asigna** un valor.\n",
    "\n",
    "\n",
    "<div align=\"center\">\n",
    "    <img src=\"https://yosoy.dev/wp-content/uploads/2014/08/variables-en-programacion.png\" width=\"40%\"/>\n",
    "    Fuente: <a href=\"https://yosoy.dev/que-es-una-variable-y-como-se-declaran-en-c/\">¿Que es una variable?</a>\n",
    "</div>\n",
    "\n",
    "```python\n",
    "nombre = \"María\"\n",
    "edad = 32\n",
    "\n",
    "print( nombre )\n",
    "print( edad )\n",
    "```"
   ]
  },
  {
   "cell_type": "code",
   "execution_count": 5,
   "id": "d1cf363b",
   "metadata": {},
   "outputs": [
    {
     "name": "stdout",
     "output_type": "stream",
     "text": [
      "Juan Pérez Maldonado\n",
      "32\n"
     ]
    }
   ],
   "source": [
    "# Cree y asigne las variables nombre y edad. \n",
    "# Asigne a cada variable sus datos. \n",
    "# Finalmente, muestre por pantalla el contenido de dichas variables. \n",
    "\n",
    "nombre = \"Juan Pérez Maldonado\"\n",
    "edad = 32\n",
    "\n",
    "print( nombre )\n",
    "print( edad )"
   ]
  },
  {
   "cell_type": "markdown",
   "id": "d3ec98ca",
   "metadata": {},
   "source": [
    "## Identificadores\n",
    "\n",
    "Los identificadores son los nombres de las variables para reconocer su contenido. Algunas reglas para crear el identificador de una variables:\n",
    "\n",
    "* Debe comenzar con una letra o un carácter de subrayado.\n",
    "* No puede comenzar con un número\n",
    "* Solo puede contener caracteres alfanuméricos y guiones bajos (A-z, 0-9 y _).\n",
    "* Distinguen entre mayúsculas y minúsculas (edad, Edad y EDAD son tres variables diferentes)\n",
    "* No puede ser ninguna de las palabras clave de Python, por ejemplo no se puede utilizar la palabra: `print`"
   ]
  },
  {
   "cell_type": "code",
   "execution_count": null,
   "id": "51a77cf8",
   "metadata": {},
   "outputs": [],
   "source": [
    "# Cree una variable a la que asigne el valor correspondiente. Muestre el contenido de la variable.\n",
    "\n"
   ]
  },
  {
   "cell_type": "code",
   "execution_count": 6,
   "id": "d8ce93a8",
   "metadata": {},
   "outputs": [
    {
     "name": "stdout",
     "output_type": "stream",
     "text": [
      "6.359999999999999\n"
     ]
    }
   ],
   "source": [
    "a = 5\n",
    "b = 2.6\n",
    "\n",
    "# Cree una variable a la que asigne el resultado de la operación (a - b) * 2.65. Muestre el contenido de la variable.\n",
    "\n",
    "resultado = (a - b) * 2.65\n",
    "\n",
    "print( resultado )"
   ]
  },
  {
   "cell_type": "code",
   "execution_count": 7,
   "id": "57c825ed",
   "metadata": {},
   "outputs": [
    {
     "name": "stdout",
     "output_type": "stream",
     "text": [
      "Km 4.5 via a Daule\n"
     ]
    }
   ],
   "source": [
    "# Cree una variable a la que asigne la dirección de su trabajo. Muestre el contenido de la variable.\n",
    "\n",
    "direccion = \"Km 4.5 via a Daule\"\n",
    "\n",
    "print( direccion )"
   ]
  },
  {
   "cell_type": "markdown",
   "id": "aa9630d6",
   "metadata": {},
   "source": [
    "## Tipos de datos\n",
    "\n",
    "Una variable puede contener un dato de diferentes **tipos de datos**. Cada tipo tiene sus características particulares, como se muestra en la siguiente tabla.\n",
    "\n",
    "\n",
    "| Nombre           | Ejemplo                                                                                                     |\n",
    "|:-----------------|:------------------------------------------------------------------------------------------------------------|\n",
    "| Entero (int)     | <pre><code>edad = 27<br><br>print( \"Mi edad es: \", edad )     </code></pre>                                                             |\n",
    "| Flotante (float) | <pre><code>precio = 34.42<br><br>print( \"El precio a pagar es: \", precio)</code></pre>                                                    |\n",
    "| Booleano (bool)  | <pre><code>resultadoComparacion = 89 > 34<br><br>print( \"El resultado de comparar 89 > 34 es: \", resultadoComparacion)</code></pre>   |\n",
    "| Cadena de caracteres (str)  | <pre><code>nombre = 'María González'<br>direccion = \"Ciudadela Gaviota, Mz 34 V 92\"<br><br>print( nombre + \" vive en \" + direccion)</code></pre>   |\n",
    "| Lista (list)  | <pre><code>valoresAPagar = [ 34.2 , 23.9 , 12.89, 10.34]<br><br>print(\"Los valores a pagar son: \", valoresAPagar) </code></pre>   |"
   ]
  },
  {
   "cell_type": "code",
   "execution_count": 8,
   "id": "28ec115c",
   "metadata": {},
   "outputs": [
    {
     "name": "stdout",
     "output_type": "stream",
     "text": [
      "Resultado de la comparación 25 >= 63:  False\n"
     ]
    }
   ],
   "source": [
    "# Asigne el resultado de la comparacion 25 >= 63 a la variable comparacion1\n",
    "\n",
    "comparacion1 = 25 >= 63\n",
    "\n",
    "print(\"Resultado de la comparación 25 >= 63: \", comparacion1)"
   ]
  },
  {
   "cell_type": "code",
   "execution_count": 9,
   "id": "2c11f352",
   "metadata": {},
   "outputs": [
    {
     "name": "stdout",
     "output_type": "stream",
     "text": [
      "Resultado de la comparación 25 < 63:  True\n"
     ]
    }
   ],
   "source": [
    "# Asigne el resultado de la comparacion 25 < 63 a la variable comparacion2\n",
    "\n",
    "comparacion2 = 25 < 63\n",
    "\n",
    "print(\"Resultado de la comparación 25 < 63: \", comparacion2)"
   ]
  },
  {
   "cell_type": "code",
   "execution_count": 10,
   "id": "2d44696f",
   "metadata": {},
   "outputs": [
    {
     "name": "stdout",
     "output_type": "stream",
     "text": [
      "Km 4.5 via a Daule en  la ciudad de Guayaquil, Ecuador\n"
     ]
    }
   ],
   "source": [
    "# Complete las variables direccionTrabajo, ciudadTrabajo y paisTrabajo con sus datos. \n",
    "\n",
    "direccionTrabajo = \"Km 4.5 via a Daule\" \n",
    "paisTrabajo = 'Ecuador'\n",
    "ciudadTrabajo = \"Guayaquil\"\n",
    "\n",
    "print(direccionTrabajo + \" en  la ciudad de \" + ciudadTrabajo + \", \" + paisTrabajo)"
   ]
  },
  {
   "cell_type": "code",
   "execution_count": 19,
   "id": "378715b2",
   "metadata": {},
   "outputs": [
    {
     "name": "stdout",
     "output_type": "stream",
     "text": [
      "Los nombres los invitados son:  ['Kevin', 'Carmen', 'Luis', 'José']\n"
     ]
    }
   ],
   "source": [
    "# Complete la lista invitados con los nombres de 5 personas. Separe cada nombre con una coma.\n",
    "\n",
    "invitados = [ 'Kevin', 'Carmen', 'Luis', 'José' ]\n",
    "\n",
    "\n",
    "print(\"Los nombres los invitados son: \", invitados) "
   ]
  },
  {
   "cell_type": "markdown",
   "id": "02b594d3-a1ce-4e05-8767-35ab3218671c",
   "metadata": {},
   "source": [
    "## Errores"
   ]
  },
  {
   "cell_type": "code",
   "execution_count": 15,
   "id": "88638d47",
   "metadata": {},
   "outputs": [
    {
     "name": "stdout",
     "output_type": "stream",
     "text": [
      "Dirección:  Benalcázar N4-24 y Espejo, Quito, Ecuador\n"
     ]
    }
   ],
   "source": [
    "# Error de sintaxis\n",
    "\n",
    "direccion593 = \"Benalcázar N4-24 y Espejo, Quito, Ecuador\"\n",
    "\n",
    "print(\"Dirección: \" , direccion593)"
   ]
  },
  {
   "cell_type": "code",
   "execution_count": 16,
   "id": "d3221581",
   "metadata": {},
   "outputs": [
    {
     "ename": "ZeroDivisionError",
     "evalue": "float division by zero",
     "output_type": "error",
     "traceback": [
      "\u001b[1;31m---------------------------------------------------------------------------\u001b[0m",
      "\u001b[1;31mZeroDivisionError\u001b[0m                         Traceback (most recent call last)",
      "Cell \u001b[1;32mIn[16], line 6\u001b[0m\n\u001b[0;32m      3\u001b[0m cuentaTotal \u001b[38;5;241m=\u001b[39m \u001b[38;5;241m325.12\u001b[39m\n\u001b[0;32m      4\u001b[0m cantidadPersonas \u001b[38;5;241m=\u001b[39m \u001b[38;5;241m0\u001b[39m\n\u001b[1;32m----> 6\u001b[0m cuota \u001b[38;5;241m=\u001b[39m cuentaTotal \u001b[38;5;241m/\u001b[39m cantidadPersonas\n\u001b[0;32m      8\u001b[0m \u001b[38;5;28mprint\u001b[39m(\u001b[38;5;124m\"\u001b[39m\u001b[38;5;124mLa cuenta por persona es: \u001b[39m\u001b[38;5;124m\"\u001b[39m, cuota)\n",
      "\u001b[1;31mZeroDivisionError\u001b[0m: float division by zero"
     ]
    }
   ],
   "source": [
    "# Error de ejecución\n",
    "\n",
    "cuentaTotal = 325.12\n",
    "cantidadPersonas = 0\n",
    "\n",
    "cuota = cuentaTotal / cantidadPersonas\n",
    "\n",
    "print(\"La cuenta por persona es: \", cuota)\n"
   ]
  },
  {
   "cell_type": "markdown",
   "id": "2fc75dd3-419e-4ad2-a5fa-500a0a95f557",
   "metadata": {},
   "source": [
    "## Operadores matemáticos\n",
    "\n",
    "Los operadores matemáticos se utilizan para realizar operaciones con variables y valores. En la siguiente tabla se encuentran el operador, el nombre y un ejemplo del uso del operador.\n",
    "\n",
    "<div align=\"center\">\n",
    "    <img src=\"images/operadores_matematicos.png\" width=\"60%\"/>\n",
    "</div>"
   ]
  },
  {
   "cell_type": "code",
   "execution_count": 4,
   "id": "af7a751d",
   "metadata": {},
   "outputs": [
    {
     "name": "stdout",
     "output_type": "stream",
     "text": [
      "Subtotal:  83.2\n"
     ]
    }
   ],
   "source": [
    "# Cree tres variables: precio, cantidad y subtotal \n",
    "# Asigne valores enteros o flotantes a cada variable.\n",
    "# Asigne a la variable subtotal el resultado de la operación precio * cantidad\n",
    "# Muestre por pantalla el valor de la variable subtotal\n",
    "\n",
    "precio = 2.6\n",
    "cantidad = 32\n",
    "subtotal = precio * cantidad\n",
    "\n",
    "print(\"Subtotal: \", subtotal)\n"
   ]
  },
  {
   "cell_type": "code",
   "execution_count": 6,
   "id": "bb8a9fc5",
   "metadata": {},
   "outputs": [
    {
     "name": "stdout",
     "output_type": "stream",
     "text": [
      "El subtotal es  83.2\n",
      "El IVA a pagar es  9.984000000000002\n",
      "El total es  93.184\n"
     ]
    }
   ],
   "source": [
    "# Asigne a la variable ivaApagar el resultado de la operación subtotal * 12 / 100\n",
    "# Asigne a la variable totalAPagar el resultado de sumar la variable subtotal y la variable ivaApagar\n",
    "# Muestre el contenido de la variable ivaApagar y totalAPagar\n",
    "\n",
    "ivaApagar = ( subtotal * 12 ) / 100\n",
    "totalAPagar = subtotal + ivaApagar\n",
    "\n",
    "print(\"El subtotal es \", subtotal )\n",
    "print(\"El IVA a pagar es \", ivaApagar )\n",
    "print(\"El total es \", totalAPagar )"
   ]
  },
  {
   "cell_type": "code",
   "execution_count": 20,
   "id": "c7420feb",
   "metadata": {},
   "outputs": [
    {
     "name": "stdout",
     "output_type": "stream",
     "text": [
      "El subtotal es 83.20\n",
      "El IVA a pagar es 9.98\n",
      "El total es 93.18\n"
     ]
    }
   ],
   "source": [
    "print(\"El subtotal es %.2f\" % subtotal )\n",
    "print(\"El IVA a pagar es %.2f\" % ivaApagar )\n",
    "print(\"El total es %.2f\" % totalAPagar )"
   ]
  },
  {
   "cell_type": "markdown",
   "id": "cc681321-1cbe-4a46-8aaa-adbf5cdca60c",
   "metadata": {},
   "source": [
    "## Ingresos de datos\n",
    "\n",
    "Para ingresar un dato, se utiliza la instrucción **input**. Entre los paréntesis **(** **)** se coloca un mensaje de ayuda acerca del dato a introducir, por ejemplo:\n",
    "\n",
    "<br><br>\n",
    "\n",
    "<div align=\"center\">\n",
    "    <img src=\"images/python_input.png\" width=\"60%\"/>\n",
    "</div>"
   ]
  },
  {
   "cell_type": "code",
   "execution_count": 31,
   "id": "20f127e4",
   "metadata": {},
   "outputs": [
    {
     "name": "stdout",
     "output_type": "stream",
     "text": [
      "Ingrese el nombre del evento: Alumni Fest\n"
     ]
    }
   ],
   "source": [
    "# Solicite el ingreso del nombre (nombreEvento) del evento \n",
    "\n",
    "nombreEvento = input(\"Ingrese el nombre del evento: \")"
   ]
  },
  {
   "cell_type": "code",
   "execution_count": 32,
   "id": "1816badd",
   "metadata": {},
   "outputs": [
    {
     "name": "stdout",
     "output_type": "stream",
     "text": [
      "Ingrese la cantidad de participantes: 5\n"
     ]
    }
   ],
   "source": [
    "# Solicite el ingreso de la cantidad de participantes (cantidadParticipantes) al evento \n",
    "\n",
    "cantidadParticipantes = input(\"Ingrese la cantidad de participantes: \")"
   ]
  },
  {
   "cell_type": "code",
   "execution_count": 33,
   "id": "07208401",
   "metadata": {},
   "outputs": [
    {
     "name": "stdout",
     "output_type": "stream",
     "text": [
      "Ingrese el precio de la entrada: $11.52\n"
     ]
    }
   ],
   "source": [
    "# Solicite el ingreso del precio de la entrada (precioEntrada) al evento \n",
    "\n",
    "precioEntrada = input(\"Ingrese el precio de la entrada: $\")"
   ]
  },
  {
   "cell_type": "code",
   "execution_count": 34,
   "id": "cffb0e6f",
   "metadata": {},
   "outputs": [
    {
     "name": "stdout",
     "output_type": "stream",
     "text": [
      "Ha comprado para el evento  Alumni Fest  la cantidad de  5  con un valor de $ 11.52\n"
     ]
    }
   ],
   "source": [
    "# Muestre por pantalla el nombre del evento, la cantidad de participantes al evento y el precio de la entrada al evento\n",
    "\n",
    "print(\"Ha comprado para el evento \", nombreEvento, \" la cantidad de \", cantidadParticipantes, \" con un valor de $\", precioEntrada)"
   ]
  },
  {
   "cell_type": "code",
   "execution_count": 35,
   "id": "c13a0050",
   "metadata": {},
   "outputs": [
    {
     "ename": "TypeError",
     "evalue": "can't multiply sequence by non-int of type 'str'",
     "output_type": "error",
     "traceback": [
      "\u001b[1;31m---------------------------------------------------------------------------\u001b[0m",
      "\u001b[1;31mTypeError\u001b[0m                                 Traceback (most recent call last)",
      "Cell \u001b[1;32mIn[35], line 4\u001b[0m\n\u001b[0;32m      1\u001b[0m \u001b[38;5;66;03m# Calcule y asigne el resultado la multiplicación de cantidadParticipantes * precioEntrada en la variable total. \u001b[39;00m\n\u001b[0;32m      2\u001b[0m \u001b[38;5;66;03m# Muestre el valor de la variable total.\u001b[39;00m\n\u001b[1;32m----> 4\u001b[0m total \u001b[38;5;241m=\u001b[39m cantidadParticipantes \u001b[38;5;241m*\u001b[39m precioEntrada\n\u001b[0;32m      5\u001b[0m \u001b[38;5;28mprint\u001b[39m(\u001b[38;5;124m\"\u001b[39m\u001b[38;5;124mTotal: \u001b[39m\u001b[38;5;124m\"\u001b[39m, total)\n",
      "\u001b[1;31mTypeError\u001b[0m: can't multiply sequence by non-int of type 'str'"
     ]
    }
   ],
   "source": [
    "# Calcule y asigne el resultado la multiplicación de cantidadParticipantes * precioEntrada en la variable total. \n",
    "# Muestre el valor de la variable total.\n",
    "\n",
    "total = cantidadParticipantes * precioEntrada\n",
    "print(\"Total: \", total)"
   ]
  },
  {
   "cell_type": "markdown",
   "id": "81023a8c",
   "metadata": {},
   "source": [
    "**NOTA:** la instrucción input SIEMPRE devuelve un dato de tipo **Cadena de caracteres**. "
   ]
  },
  {
   "cell_type": "markdown",
   "id": "514346a3",
   "metadata": {},
   "source": [
    "## Conversión de tipos de datos\n",
    "\n",
    "Para convertir un variable a un **tipo de dato** flotante o entero, utilice las instrucciones (funciones) que aparecen en la siguiente tabla.\n",
    "\n",
    "| Nombre  | Descripción         | Ejemplo                                                               |\n",
    "|:--------|:-------------------|:-----------------------------------------------------------------------|\n",
    "| int()   | Convierte un dato en entero        | <pre><code>numeroFloat = 34.2 <br>numeroInt = int(numeroFloat) <br>print(\"El número flotante es: \", numeroFloat) <br>print(\"El número entero es: \", numeroInt) <br><br>**Salida:**<br>El número flotante es:  34.2 <br>El número entero es:  34</code></pre> |\n",
    "| float() | Convierte un dato en flotante      | <pre><code>numeroInt = 26 <br>numeroFloat = float(numeroInt)  <br>print(\"El número entero es: \", numeroInt) <br>print(\"El número flotante es: \", numeroFloat) <br><br>**Salida:**<br>El número entero es:  26<br>El número flotante es:  26.0 </code></pre> |\n",
    "\n"
   ]
  },
  {
   "cell_type": "code",
   "execution_count": 36,
   "id": "1983bab4",
   "metadata": {},
   "outputs": [],
   "source": [
    "# Asigne a la variable cantidadParticipantesInt la conversión a entero de la variable cantidadParticipantes\n",
    "\n",
    "cantidadParticipantesInt = int( cantidadParticipantes )"
   ]
  },
  {
   "cell_type": "code",
   "execution_count": 37,
   "id": "1e918c97",
   "metadata": {},
   "outputs": [],
   "source": [
    "# Asigne a la variable precioEntradaFloat la conversión a entero de la variable precioEntrada\n",
    "\n",
    "precioEntradaFloat = float( precioEntrada )"
   ]
  },
  {
   "cell_type": "code",
   "execution_count": 38,
   "id": "6e0b9b12",
   "metadata": {},
   "outputs": [
    {
     "name": "stdout",
     "output_type": "stream",
     "text": [
      "Total  57.599999999999994\n"
     ]
    }
   ],
   "source": [
    "# Calcule y asigne el resultado la multiplicación de cantidadParticipantesInt * precioEntradaFloat en la variable total. \n",
    "# Muestre el valor de la variable total.\n",
    "\n",
    "total = cantidadParticipantesInt * precioEntradaFloat\n",
    "\n",
    "print(\"Total \", total)"
   ]
  },
  {
   "cell_type": "markdown",
   "id": "64ec895a",
   "metadata": {},
   "source": [
    "## Ejercicios"
   ]
  },
  {
   "cell_type": "markdown",
   "id": "31175403",
   "metadata": {},
   "source": [
    "* Escriba un programa para una **Calculadora dinámica** que permite ingresar dos números (pueden ser enteros o flotantes) y luego realiza todas las operaciones básicas (suma, resta, multiplicación y división). Al final, muestrael resultado de todas las operaciones."
   ]
  },
  {
   "cell_type": "code",
   "execution_count": 9,
   "id": "65b8e691",
   "metadata": {},
   "outputs": [
    {
     "name": "stdout",
     "output_type": "stream",
     "text": [
      "Ingrese el primer número: 89\n",
      "Ingrese el segundo número: 12\n"
     ]
    }
   ],
   "source": [
    "numero1 = input(\"Ingrese el primer número: \")\n",
    "numero2 = input(\"Ingrese el segundo número: \")"
   ]
  },
  {
   "cell_type": "code",
   "execution_count": 10,
   "id": "f80eee29",
   "metadata": {},
   "outputs": [],
   "source": [
    "numero1Float = float(numero1)\n",
    "numero2Float = float(numero2)"
   ]
  },
  {
   "cell_type": "code",
   "execution_count": 11,
   "id": "4983519f",
   "metadata": {},
   "outputs": [],
   "source": [
    "resultadoSuma = numero1Float + numero2Float\n",
    "resultadoResta = numero1Float - numero2Float\n",
    "resultadoMultiplicacion = numero1Float * numero2Float\n",
    "resultadoDivision = numero1Float / numero2Float"
   ]
  },
  {
   "cell_type": "code",
   "execution_count": 12,
   "id": "f2cfd4db",
   "metadata": {},
   "outputs": [
    {
     "name": "stdout",
     "output_type": "stream",
     "text": [
      "El resultado de la suma es:  101.0\n",
      "El resultado de la resta es:  77.0\n",
      "El resultado de la multiplicación es:  1068.0\n",
      "El resultado de la división es:  7.416666666666667\n"
     ]
    }
   ],
   "source": [
    "print(\"El resultado de la suma es: \", resultadoSuma)\n",
    "print(\"El resultado de la resta es: \", resultadoResta)\n",
    "print(\"El resultado de la multiplicación es: \", resultadoMultiplicacion)\n",
    "print(\"El resultado de la división es: \", resultadoDivision)"
   ]
  },
  {
   "cell_type": "markdown",
   "id": "8563b2de",
   "metadata": {},
   "source": [
    "* Escriba un programa en Python para una **Agencia de viajes** que permita el ingreso del número de pasajeros y el valor de un boleto. Luego, obtenga el subtotal a partir del número de pasajeros y el valor de un boleto. Además, obtenga el IVA a pagar del subtotal. Finalmente, calcule el total con la suma del subtotal y el IVA a pagar. Para finalizar la compra, muestre todos los datos de la venta."
   ]
  },
  {
   "cell_type": "code",
   "execution_count": 14,
   "id": "e5928f0c",
   "metadata": {},
   "outputs": [
    {
     "name": "stdout",
     "output_type": "stream",
     "text": [
      " ========== Agencia de viajes =========== \n",
      "Ingrese el número de pasajeros: 5\n",
      "Ingrese el valor del boleto: 23.45\n",
      "Los  5  pasajeros.\n",
      "Tienen que pagar $ 131.32\n"
     ]
    }
   ],
   "source": [
    "print(\" ========== Agencia de viajes =========== \")\n",
    "\n",
    "numeroDePasajero = int( input(\"Ingrese el número de pasajeros: \") )\n",
    "valorDelBoleto = float( input(\"Ingrese el valor del boleto: \") )\n",
    "\n",
    "subtotal = numeroDePasajero * valorDelBoleto\n",
    "\n",
    "ivaApagar = subtotal * 12 / 100\n",
    "\n",
    "total = subtotal + ivaApagar\n",
    "\n",
    "print(\"Los \", numeroDePasajero, \" pasajeros.\")\n",
    "print(\"Tienen que pagar $\", total)\n",
    "\n"
   ]
  }
 ],
 "metadata": {
  "kernelspec": {
   "display_name": "Python 3 (ipykernel)",
   "language": "python",
   "name": "python3"
  },
  "language_info": {
   "codemirror_mode": {
    "name": "ipython",
    "version": 3
   },
   "file_extension": ".py",
   "mimetype": "text/x-python",
   "name": "python",
   "nbconvert_exporter": "python",
   "pygments_lexer": "ipython3",
   "version": "3.11.5"
  }
 },
 "nbformat": 4,
 "nbformat_minor": 5
}
