{
 "cells": [
  {
   "cell_type": "markdown",
   "id": "9a29ea18-3ff3-48aa-927d-e68b7de925e4",
   "metadata": {},
   "source": [
    "## Booleanos\n",
    "\n",
    "Python utiliza `True` y `False` para representar el valor de expresiones con significado lógico, p.e.:\n",
    "\n",
    "\n",
    "\n",
    "<div align=\"center\">\n",
    "    <img src=\"images/python_boolean_values.png\" width=\"15%\"/>\n",
    "</div>\n",
    "\n"
   ]
  },
  {
   "cell_type": "code",
   "execution_count": 5,
   "id": "38ad4d28",
   "metadata": {},
   "outputs": [],
   "source": [
    "# Asigne el resultado de la comparacion 25 >= 63 a la variable comparacion1. Muestre el resultado por pantalla"
   ]
  },
  {
   "cell_type": "code",
   "execution_count": 6,
   "id": "c44e33d8",
   "metadata": {},
   "outputs": [],
   "source": [
    "# Asigne el resultado de la comparacion 25 < 63 a la variable comparacion2. Muestre el resultado por pantalla"
   ]
  },
  {
   "cell_type": "code",
   "execution_count": 7,
   "id": "7ea0867d",
   "metadata": {},
   "outputs": [],
   "source": [
    "# Asigne el resultado de la comparacion 25 == 25.0 a la variable comparacion3. Muestre el resultado por pantalla"
   ]
  },
  {
   "cell_type": "code",
   "execution_count": null,
   "id": "e1bb0a83",
   "metadata": {},
   "outputs": [],
   "source": [
    "# Asigne el resultado de la comparacion 45 != 12.0 a la variable comparacion4. Muestre el resultado por pantalla"
   ]
  },
  {
   "cell_type": "markdown",
   "id": "97ab067f",
   "metadata": {},
   "source": [
    "## Operadores relacionales\n",
    "\n",
    "Se usan para para **comparar** variables (o valores). El resultado de una comparación es un valor de verdad (booleano) `True` o `False`. En la siguiente tabla se listan todos los operadores relacionales con su equivalente matemático, un ejemplo y el resultado de la operacion.\n",
    "\n",
    "\n",
    "| Matemáticas | Python | Significado | Ejemplo | Resultado |\n",
    "| :---------- | :----- | :---------: | :------ | :-------- |\n",
    "|= | == | Igual a | 'a' == 'b' | False |\n",
    "|≠ |!= |Distinto a| 'b' != 'B' | True |\n",
    "|< |< |Menor que |7 < 3 | False |\n",
    "|> |> |Mayor que |7 > 3 | True |\n",
    "|≤ |<=| Menor o igual que | 7 <= 7 | True |\n",
    "|≥ |>=| Mayor o igual que | 7 >= 3 | True |"
   ]
  },
  {
   "cell_type": "markdown",
   "id": "cd4e3f0a",
   "metadata": {},
   "source": [
    "## Operadores lógicos"
   ]
  },
  {
   "cell_type": "markdown",
   "id": "89c109be",
   "metadata": {},
   "source": [
    "## Estructuras de control: condicional"
   ]
  },
  {
   "cell_type": "markdown",
   "id": "217d7cd1-0a7c-495a-8209-a83b5473fa31",
   "metadata": {},
   "source": [
    "## Listas"
   ]
  },
  {
   "cell_type": "markdown",
   "id": "4678fc1d",
   "metadata": {},
   "source": [
    "## Estructuras de control: repetitivo "
   ]
  }
 ],
 "metadata": {
  "kernelspec": {
   "display_name": "Python 3 (ipykernel)",
   "language": "python",
   "name": "python3"
  },
  "language_info": {
   "codemirror_mode": {
    "name": "ipython",
    "version": 3
   },
   "file_extension": ".py",
   "mimetype": "text/x-python",
   "name": "python",
   "nbconvert_exporter": "python",
   "pygments_lexer": "ipython3",
   "version": "3.11.5"
  }
 },
 "nbformat": 4,
 "nbformat_minor": 5
}
