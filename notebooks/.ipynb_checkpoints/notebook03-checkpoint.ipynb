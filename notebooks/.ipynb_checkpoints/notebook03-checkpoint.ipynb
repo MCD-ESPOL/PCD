{
 "cells": [
  {
   "cell_type": "markdown",
   "id": "178934ea",
   "metadata": {},
   "source": [
    "# Tabla de Contenidos\n",
    "\n",
    "* [Contenidos](#Tabla-de-Contenidos)\n",
    "    * [Booleanos](#Booleanos)\n",
    "    * [Operadores relacionales](#Operadores-relacionales)\n",
    "    * [Operadores lógicos](#Operadores-lógicos)\n",
    "    * [Estructuras de control: condicional](#Estructuras-de-control:-condicional)\n",
    "* [Ejercicios](#Ejercicios)"
   ]
  },
  {
   "cell_type": "markdown",
   "id": "9a29ea18-3ff3-48aa-927d-e68b7de925e4",
   "metadata": {},
   "source": [
    "## Booleanos\n",
    "\n",
    "Python utiliza `True` y `False` para representar el valor de expresiones con significado lógico, p.e.:\n",
    "\n",
    "\n",
    "\n",
    "<div align=\"center\">\n",
    "    <img src=\"images/python_boolean_values.png\" width=\"15%\"/>\n",
    "</div>\n",
    "\n"
   ]
  },
  {
   "cell_type": "code",
   "execution_count": null,
   "id": "b21c4a6b",
   "metadata": {},
   "outputs": [],
   "source": [
    "# Asigne el resultado de la comparacion 25 >= 63 a la variable comparacion1. Muestre el resultado por pantalla.\n",
    "\n"
   ]
  },
  {
   "cell_type": "markdown",
   "id": "7cd22dfe",
   "metadata": {},
   "source": [
    "<details>\n",
    "  <summary><div>→ Haga click aquí para ver la solución</div></summary>\n",
    "  <pre lang=\"python\"><code>\n",
    "comparacion1 = 25 >= 63\n",
    "print(\"Resultado de la comparación 25 >= 63: \", comparacion1)\n",
    "  </code></pre>\n",
    "</details> "
   ]
  },
  {
   "cell_type": "code",
   "execution_count": null,
   "id": "2126a840",
   "metadata": {},
   "outputs": [],
   "source": [
    "# Asigne el resultado de la comparacion 25 < 63 a la variable comparacion2. Muestre el resultado por pantalla.\n",
    "\n"
   ]
  },
  {
   "cell_type": "markdown",
   "id": "ee43d4f2",
   "metadata": {},
   "source": [
    "<details>\n",
    "  <summary><div>→ Haga click aquí para ver la solución</div></summary>\n",
    "  <pre lang=\"python\"><code>\n",
    "comparacion2 = 25 < 63\n",
    "print(\"Resultado de la comparación 25 < 63: \", comparacion2)\n",
    "  </code></pre>\n",
    "</details> "
   ]
  },
  {
   "cell_type": "code",
   "execution_count": null,
   "id": "095ccae2",
   "metadata": {},
   "outputs": [],
   "source": [
    "# Asigne el resultado de la comparacion 25 == 25.0 a la variable comparacion3. Muestre el resultado por pantalla.\n",
    "\n"
   ]
  },
  {
   "cell_type": "markdown",
   "id": "e86be987",
   "metadata": {},
   "source": [
    "<details>\n",
    "  <summary><div>→ Haga click aquí para ver la solución</div></summary>\n",
    "  <pre lang=\"python\"><code>\n",
    "comparacion3 = 25 == 25.0\n",
    "print(\"Resultado de la comparación 25 == 25.0: \", comparacion3)\n",
    "  </code></pre>\n",
    "</details> "
   ]
  },
  {
   "cell_type": "code",
   "execution_count": null,
   "id": "13f28ca9",
   "metadata": {},
   "outputs": [],
   "source": [
    "# Asigne el resultado de la comparacion 45 != 12.0 a la variable comparacion4. Muestre el resultado por pantalla.\n",
    "\n"
   ]
  },
  {
   "cell_type": "markdown",
   "id": "356e2dc0",
   "metadata": {},
   "source": [
    "<details>\n",
    "  <summary><div>→ Haga click aquí para ver la solución</div></summary>\n",
    "  <pre lang=\"python\"><code>\n",
    "comparacion4 = 45 != 12.0\n",
    "print(\"Resultado de la comparación 45 != 12.0: \", 45 != 12.0)\n",
    "  </code></pre>\n",
    "</details> "
   ]
  },
  {
   "cell_type": "markdown",
   "id": "8fdfa622",
   "metadata": {},
   "source": [
    "[Regresar al TC](#Tabla-de-Contenidos)"
   ]
  },
  {
   "cell_type": "markdown",
   "id": "7583043d",
   "metadata": {},
   "source": [
    "## Operadores relacionales\n",
    "\n",
    "Se usan para para **comparar** variables (o valores). El resultado de una comparación es un valor de verdad (booleano) `True` o `False`. En la siguiente tabla se listan todos los operadores relacionales con su equivalente matemático, un ejemplo y el resultado de la operacion.\n",
    "\n",
    "\n",
    "| Matemáticas | Python | Significado | Ejemplo | Resultado |\n",
    "| :---------- | :----- | :---------: | :------ | :-------- |\n",
    "|= | == | Igual a | <pre><code>pais1 = 'Ecuador' <br>pais2 = 'ecuador'<br><br>print( pais1 == pais2 )</code></pre> | False |\n",
    "|≠ |!= |Distinto a| <pre><code>pais1 = 'Ecuador' <br>pais2 = 'ecuador'<br><br>print( pais1 != pais2 )</code></pre> | True |\n",
    "|< |< |Menor que | <pre><code>edad1 = 32  <br>edad2 = 25 <br><br>print( edad1 &lt; edad2)</code></pre> | False |\n",
    "|> |> |Mayor que | <pre><code>edad1 = 32  <br>edad2 = 25 <br><br>print( edad1 &gt; edad2)</code></pre> | True |\n",
    "|≤ |<=| Menor o igual que | <pre><code>edad1 = 24  <br>edad2 = 42 <br><br>print( edad1 &lt;= edad2)</code></pre> | True |\n",
    "|≥ |>=| Mayor o igual que | <pre><code>edad1 = 34  <br>edad2 = 34 <br><br>print( edad1 &gt;= edad2)</code></pre> | True |"
   ]
  },
  {
   "cell_type": "code",
   "execution_count": null,
   "id": "7f201f30",
   "metadata": {},
   "outputs": [],
   "source": [
    "# Ingrese un valor entero a la variable edad\n",
    "\n"
   ]
  },
  {
   "cell_type": "markdown",
   "id": "a9688970",
   "metadata": {},
   "source": [
    "<details>\n",
    "  <summary><div>→ Haga click aquí para ver la solución</div></summary>\n",
    "  <pre lang=\"python\"><code>\n",
    "edad = int( input(\"Ingrese la edad: \") )\n",
    "  </code></pre>\n",
    "</details> "
   ]
  },
  {
   "cell_type": "code",
   "execution_count": null,
   "id": "e9dcd4a3",
   "metadata": {},
   "outputs": [],
   "source": [
    "# Asigne a la variable mayorDeEdad el resultado de la comparacion edad >= 18. \n",
    "# Muestre el resultado de la variable mayorDeEdad.\n",
    "\n"
   ]
  },
  {
   "cell_type": "markdown",
   "id": "49845a76",
   "metadata": {},
   "source": [
    "<details>\n",
    "  <summary><div>→ Haga click aquí para ver la solución</div></summary>\n",
    "  <pre lang=\"python\"><code>\n",
    "mayorDeEdad = edad >= 18\n",
    "print(\"Es mayor de edad \", mayorDeEdad)\n",
    "  </code></pre>\n",
    "</details> "
   ]
  },
  {
   "cell_type": "markdown",
   "id": "4743aa5b",
   "metadata": {},
   "source": [
    "[Regresar al TC](#Tabla-de-Contenidos)"
   ]
  },
  {
   "cell_type": "markdown",
   "id": "08ee595d",
   "metadata": {},
   "source": [
    "## Operadores lógicos"
   ]
  },
  {
   "cell_type": "markdown",
   "id": "8c2dcc9e",
   "metadata": {},
   "source": [
    "En Python, existen operadores lógicos se utilizan crear **expresiones lógicas complejas**, como: \n",
    "<br><br>\n",
    "\n",
    "<div align=\"center\">\n",
    "Para aplicar a un préstamo hipotecario son necesarias 36 aportaciones y dentro del límite de edad (77 años).\n",
    "</div>\n",
    "\n",
    "<br><br>\n",
    "    \n",
    "Estas expresiones lógicas complejas se pueden dividir en **expresiones lógicas sencillas**, como:\n",
    "<br>\n",
    "\n",
    "_Para aplicar a un préstamo hipotecario son necesarias_\n",
    "\n",
    "* `36 aportaciones` **y**\n",
    "* `dentro del límite de edad (77 años)` "
   ]
  },
  {
   "cell_type": "code",
   "execution_count": null,
   "id": "89142655",
   "metadata": {},
   "outputs": [],
   "source": [
    "# Ingrese un valor entero a la variable numeroAportaciones\n",
    "\n",
    "numeroAportaciones = int( input(\"Ingrese el número de aportaciones: \") )"
   ]
  },
  {
   "cell_type": "code",
   "execution_count": null,
   "id": "9f03f95b",
   "metadata": {},
   "outputs": [],
   "source": [
    "# Ingrese un valor entero a la variable edad\n",
    "\n",
    "edad = int( input(\"Ingrese la edad: \") )"
   ]
  },
  {
   "cell_type": "code",
   "execution_count": null,
   "id": "c81c545d",
   "metadata": {},
   "outputs": [],
   "source": [
    "# Asigne a la variable aprobacionPrestamo el resultado de la comparacion edad <= 77 and numeroAportaciones >= 36. \n",
    "# Muestre el resultado de la variable aprobacionPrestamo.\n",
    "\n"
   ]
  },
  {
   "cell_type": "markdown",
   "id": "c8c89300",
   "metadata": {},
   "source": [
    "<details>\n",
    "  <summary><div>→ Haga click aquí para ver la solución</div></summary>\n",
    "  <pre lang=\"python\"><code>\n",
    "aprobacionPrestamo = edad <= 77 and numeroAportaciones >= 36\n",
    "\n",
    "print(\"Aprobación del préstamo hipotecario: \", aprobacionPrestamo)\n",
    "  </code></pre>\n",
    "</details> "
   ]
  },
  {
   "cell_type": "markdown",
   "id": "b0fc3723",
   "metadata": {},
   "source": [
    "En la siguiente tabla se encuentran los operadores lógicos `and`, `or` y `not`, con un ejemplo y el resultado.\n",
    "\n",
    "| Operador | Ejemplo | Resultado |\n",
    "| :------: | :------ | :-------- |\n",
    "| `and`    | <pre><code>indicador1 = 1250 <br>indicador2 = 140 <br>resultado1 = 780 < indicador1  <b>and</b> indicador1 < 1500 <br>print( resultado1 ) </code></pre> | `True` |\n",
    "| `or`    | <pre><code>indicador3 = 120 <br>resultado3 =  indicador3 < -10 <b>or</b> indicador3 > 300   <br>print( resultado3 ) </code></pre> | `False` |\n",
    "| `not`    | <pre><code>indicador4 = 2021 <br>resultado4 = <b>not(</b> indicador4 > 1527 <b>)</b> <br>print( resultado4 )  </code></pre> | `False` |"
   ]
  },
  {
   "cell_type": "code",
   "execution_count": null,
   "id": "126eca54",
   "metadata": {},
   "outputs": [],
   "source": [
    "# Ingrese el valor de la variable entera indicadorK1.\n",
    "\n",
    "indicadorK1 = int(input(\"Ingrese el valor del indicador: \"))"
   ]
  },
  {
   "cell_type": "code",
   "execution_count": null,
   "id": "3391c258",
   "metadata": {},
   "outputs": [],
   "source": [
    "# Asigne a la variable resultadoAnual el resultado de comparar la variable indicadorK1 se encuentra en el rango [20, 45]\n",
    "# Muestre la variable resultadoAnual\n",
    "\n",
    "\n"
   ]
  },
  {
   "cell_type": "markdown",
   "id": "6b600ed8",
   "metadata": {},
   "source": [
    "<details>\n",
    "  <summary><div>→ Haga click aquí para ver la solución</div></summary>\n",
    "  <pre lang=\"python\"><code>\n",
    "\n",
    "#resultadoAnual = indicadorK1 >= 20 and indicadorK1 <= 45\n",
    "#o\n",
    "\n",
    "resultadoAnual = 20 <= indicadorK1 <= 45\n",
    "\n",
    "print(\"Resultado anual: \", resultadoAnual)\n",
    "  </code></pre>\n",
    "</details> "
   ]
  },
  {
   "cell_type": "code",
   "execution_count": null,
   "id": "2df7e9ee",
   "metadata": {},
   "outputs": [],
   "source": [
    "# Asigne a la variable resultadoTrimestral el resultado de comparar la variable indicadorK1 es positivo o si se encuentra en el rango [-10,-4.5]\n",
    "# Muestre la variable resultadoTrimestral\n",
    "\n",
    "\n"
   ]
  },
  {
   "cell_type": "markdown",
   "id": "9e370610",
   "metadata": {},
   "source": [
    "<details>\n",
    "  <summary><div>→ Haga click aquí para ver la solución</div></summary>\n",
    "  <pre lang=\"python\"><code>\n",
    "\n",
    "resultadoTrimestral = (indicadorK1 > 0) or (-10 <= indicadorK1 <= -4.5)\n",
    "print(\"Resultado trimestral: \", resultadoTrimestral)\n",
    "\n",
    "print(\"Resultado anual: \", resultadoAnual)\n",
    "  </code></pre>\n",
    "</details> "
   ]
  },
  {
   "cell_type": "code",
   "execution_count": null,
   "id": "242b7fa5",
   "metadata": {},
   "outputs": [],
   "source": [
    "# Asigne a la variable resultadoSemanal el resultado de Comparar la variable indicadorK1 no es mayor o igual que 23\n",
    "# Muestre la variable resultadoSemanal\n",
    "\n"
   ]
  },
  {
   "cell_type": "markdown",
   "id": "d198072b",
   "metadata": {},
   "source": [
    "<details>\n",
    "  <summary><div>→ Haga click aquí para ver la solución</div></summary>\n",
    "  <pre lang=\"python\"><code>\n",
    "resultadoSemanal = not( indicadorK1 >= 23 )\n",
    "print(\"Resultado semanal: \", resultadoSemanal)\n",
    "  </code></pre>\n",
    "</details> "
   ]
  },
  {
   "cell_type": "markdown",
   "id": "f9ce0039",
   "metadata": {},
   "source": [
    "[Regresar al TC](#Tabla-de-Contenidos)"
   ]
  },
  {
   "cell_type": "markdown",
   "id": "cde89bb4",
   "metadata": {},
   "source": [
    "## Estructuras de control: condicional\n",
    "\n",
    "En Python, la estructura `if` sirve para controlar el flujo de ciertas operaciones dependiendo del valor (`True` o `False`) de una condición."
   ]
  },
  {
   "cell_type": "code",
   "execution_count": null,
   "id": "c7c6cd06",
   "metadata": {},
   "outputs": [],
   "source": [
    "# Asigne a la variable indicadorK5 el valor 1250 y compruebe la salida por pantalla\n",
    "\n",
    "indicadorK5 = \n",
    "\n",
    "if  450 <= indicadorK5 <= 1280:\n",
    "    print(\"Cumple con las expectitivas de ventas\")\n",
    "    print(\"Dado que el indicadorK5 tiene el valor\", indicadorK5)\n",
    "    \n",
    "print(\"Fin del programa\")"
   ]
  },
  {
   "cell_type": "code",
   "execution_count": null,
   "id": "573e5485",
   "metadata": {},
   "outputs": [],
   "source": [
    "# Cambie el valor de la variable indicadorK5 el valor 120 y compruebe la salida por pantalla\n",
    "\n",
    "indicadorK5 = \n",
    "\n",
    "if  450 <= indicadorK5 <= 1280:\n",
    "    print(\"Cumple con las expectitivas de ventas\")\n",
    "    print(\"Dado que el indicadorK5 tiene el valor\", indicadorK5)\n",
    "    \n",
    "print(\"Fin del programa\")"
   ]
  },
  {
   "cell_type": "code",
   "execution_count": null,
   "id": "8cecd0de",
   "metadata": {},
   "outputs": [],
   "source": [
    "# Ingrese el valor de la variable indicadorK3.\n",
    "\n",
    "indicadorK3 = float(input(\"Ingrese el indicador K3: \"))"
   ]
  },
  {
   "cell_type": "code",
   "execution_count": null,
   "id": "71ba7086",
   "metadata": {},
   "outputs": [],
   "source": [
    "# Utilice la estructura if para validar si el indicadorK3 se encuentra en el rango [-10, 42]\n",
    "# Por verdadero: Muestre el mensaje 'El indicador se encuentra en el rango [-10, 42]' \n",
    "\n",
    "\n",
    "if -10 <= indicadorK3 and indicadorK3 <= 42:\n",
    "    print('El indicador se encuentra en el rango [-10, 42]' )"
   ]
  },
  {
   "cell_type": "markdown",
   "id": "79827f26",
   "metadata": {},
   "source": [
    "De ser necesario, es posible agregar la opción `else` a la estructura `if`. "
   ]
  },
  {
   "cell_type": "code",
   "execution_count": null,
   "id": "66e74ba2",
   "metadata": {},
   "outputs": [],
   "source": [
    "# Asigne a la variable indicadorK5 el valor 1250 y compruebe la salida por pantalla\n",
    "# Asigne a la variable indicadorK5 el valor 120 y compruebe la salida por pantalla\n",
    "\n",
    "indicadorK5 = 120\n",
    "\n",
    "if  450 <= indicadorK5 <= 1280:\n",
    "    print(\"Cumple con las expectitivas de ventas\")\n",
    "    print(\"Dado que el indicadorK5 tiene el valor\", indicadorK5)\n",
    "else:\n",
    "    print(\"No cumple con las expectativas de ventas\")\n",
    "    \n",
    "print(\"Fin del programa\")"
   ]
  },
  {
   "cell_type": "markdown",
   "id": "8e70b374",
   "metadata": {},
   "source": [
    "## Ejercicios"
   ]
  },
  {
   "cell_type": "markdown",
   "id": "8a1f4f80",
   "metadata": {},
   "source": [
    "* Haga un programa para validar la **paridad de un número**. Para esto, debe ingresar un número y obtener el residuo de la división. Si el residuo es igual a 0, entonces mostrará un mensaje indicando que es par. Caso contrario, su programa mostrará un mensaje indicando que es impar."
   ]
  },
  {
   "cell_type": "code",
   "execution_count": null,
   "id": "3ac63325",
   "metadata": {},
   "outputs": [],
   "source": [
    "numero = int(input(\"Ingrese un número entero: \"))\n",
    "\n",
    "residuo = numero % 2\n",
    "\n",
    "if residuo == 0 :\n",
    "    print(f\"{numero} es par\")\n",
    "else:\n",
    "    print(f\"{numero} es impar\")"
   ]
  },
  {
   "cell_type": "markdown",
   "id": "9084c84d",
   "metadata": {},
   "source": [
    "* Haga un programa que verifique si un año es **bisiesto**. Para esto, su programa pedirá al usuario que ingrese un año. Si el año es divisible por 4 o divisible por 400 (pero no por 100), imprime \"El año es bisiesto\". En caso contrario, imprime \"El año no es bisiesto\"."
   ]
  },
  {
   "cell_type": "code",
   "execution_count": null,
   "id": "c051fbd5",
   "metadata": {},
   "outputs": [],
   "source": [
    "anio = int(input(\"Ingrese el año: \"))\n",
    "\n",
    "if ( anio % 4 == 0 ) or ( anio % 400 == 0 and anio % 100 != 0 ):\n",
    "    print(\"El año \", anio ,\" es bisiesto\")\n",
    "else:\n",
    "    print(\"El año \", anio ,\" no es bisiesto\")"
   ]
  },
  {
   "cell_type": "markdown",
   "id": "0f9f922c",
   "metadata": {},
   "source": [
    "* Haga un programa para calcular el **descuento por mayorista**, para el cual debe ingresar el valor de un producto y la cantidad a comprar. Dependiendo de la cantidad a comprar se hará acreedor a un descuento, es así que si la cantidad es mayor que 100, el descuento es del 15%. En caso que la cantidad esté entre 10 y 100, el descuento es del 12%. Para cualquier otro caso, no hay descuento. Al final, calcule y muestre el subtotal, el descuento y el total. "
   ]
  },
  {
   "cell_type": "code",
   "execution_count": null,
   "id": "bf38e33e",
   "metadata": {},
   "outputs": [],
   "source": [
    "valor = float(input(\"Ingrese el valor del producto: \"))"
   ]
  },
  {
   "cell_type": "code",
   "execution_count": null,
   "id": "70a0f9f0",
   "metadata": {},
   "outputs": [],
   "source": [
    "cantidad = int(input(\"Ingrese el cantidad del producto: \"))"
   ]
  },
  {
   "cell_type": "code",
   "execution_count": null,
   "id": "f7000187",
   "metadata": {},
   "outputs": [],
   "source": [
    "if 10 <= cantidad <= 100:\n",
    "    descuento = 12\n",
    "else:\n",
    "    descuento = 0\n",
    "    \n",
    "\n",
    "if cantidad > 100 :\n",
    "    descuento = 15\n",
    "\n",
    "\n",
    "\n",
    "# Opción 2 - if .. else if .. else\n",
    "#if cantidad > 100 :\n",
    "#    descuento = 15\n",
    "#else:\n",
    "#    if 10 <= cantidad <= 100:\n",
    "#        descuento = 12\n",
    "#    else:\n",
    "#        descuento = 0\n",
    "\n",
    "    \n",
    "# Opción 1 - elif\n",
    "#if cantidad > 100 :\n",
    "#    descuento = 15\n",
    "#elif 10 <= cantidad <= 100:\n",
    "#    descuento = 12\n",
    "#else:\n",
    "#    descuento = 0\n",
    "\n",
    "\n",
    "\n",
    "print(f\"Para la {cantidad} tiene un descuento de {descuento}\")"
   ]
  },
  {
   "cell_type": "code",
   "execution_count": null,
   "id": "89654553",
   "metadata": {},
   "outputs": [],
   "source": [
    "subtotal = cantidad * valor\n",
    "descuento = subtotal * descuento / 100\n",
    "total = subtotal - descuento\n",
    "\n",
    "print(f\"Total a pagar ${total}\")"
   ]
  },
  {
   "cell_type": "markdown",
   "id": "bb80626e",
   "metadata": {},
   "source": [
    "* Haga un programa para **comprobración de una contraseña**. El programa pedirá el ingreso de una contraseña. Si la contraseña contiene al menos un número o un carácter especial ( @, #, $), imprimirá \"Contraseña aceptable\". En caso contrario, imprime \"Contraseña débil\"."
   ]
  },
  {
   "cell_type": "code",
   "execution_count": null,
   "id": "bc76a602",
   "metadata": {},
   "outputs": [],
   "source": []
  },
  {
   "cell_type": "markdown",
   "id": "13a26561",
   "metadata": {},
   "source": [
    "* Haga un programa para validar si una palabra es **pentavocálicas**. Primero, programa permitirá el ingreso de una palabra. Luego, deberá validar si tiene TODAS Y CADA UNA de las vocales. Finalmente, su programa mostrará un mensaje indicando si es pentavocálica o no."
   ]
  },
  {
   "cell_type": "code",
   "execution_count": null,
   "id": "6ba01c52",
   "metadata": {},
   "outputs": [],
   "source": [
    "palabra = input(\"Ingrese una palabra: \")"
   ]
  },
  {
   "cell_type": "code",
   "execution_count": null,
   "id": "ef296989",
   "metadata": {},
   "outputs": [],
   "source": [
    "if (\"a\" in palabra) and (\"e\" in palabra) and (\"i\" in palabra) and (\"o\" in palabra) and (\"u\" in palabra):\n",
    "    print(\"Es una palabra pentavocálica\")\n",
    "else:\n",
    "    print(\"No es una palabra pentavocálica\")"
   ]
  }
 ],
 "metadata": {
  "kernelspec": {
   "display_name": "Python 3 (ipykernel)",
   "language": "python",
   "name": "python3"
  },
  "language_info": {
   "codemirror_mode": {
    "name": "ipython",
    "version": 3
   },
   "file_extension": ".py",
   "mimetype": "text/x-python",
   "name": "python",
   "nbconvert_exporter": "python",
   "pygments_lexer": "ipython3",
   "version": "3.11.5"
  }
 },
 "nbformat": 4,
 "nbformat_minor": 5
}
