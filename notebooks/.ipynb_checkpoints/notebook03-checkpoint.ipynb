{
 "cells": [
  {
   "cell_type": "markdown",
   "id": "178934ea",
   "metadata": {},
   "source": [
    "# Tabla de Contenidos\n",
    "\n",
    "* [Contenidos](#Tabla-de-Contenidos)\n",
    "    * [Booleanos](#Booleanos)\n",
    "    * [Operadores relacionales](#Operadores-relacionales)\n",
    "    * [Operadores lógicos](#Operadores-lógicos)\n",
    "    * [Estructuras de control: condicional](#Estructuras-de-control:-condicional)\n",
    "* [Ejercicios](#Ejercicios)"
   ]
  },
  {
   "cell_type": "markdown",
   "id": "9a29ea18-3ff3-48aa-927d-e68b7de925e4",
   "metadata": {},
   "source": [
    "## Booleanos\n",
    "\n",
    "Python utiliza `True` y `False` para representar el valor de expresiones con significado lógico, p.e.:\n",
    "\n",
    "\n",
    "\n",
    "<div align=\"center\">\n",
    "    <img src=\"images/python_boolean_values.png\" width=\"15%\"/>\n",
    "</div>\n",
    "\n"
   ]
  },
  {
   "cell_type": "code",
   "execution_count": null,
   "id": "b21c4a6b",
   "metadata": {},
   "outputs": [],
   "source": [
    "# Asigne el resultado de la comparacion 25 >= 63 a la variable comparacion1. \n",
    "# Muestre un mensaje con el resultado por pantalla.\n",
    "\n"
   ]
  },
  {
   "cell_type": "markdown",
   "id": "7cd22dfe",
   "metadata": {},
   "source": [
    "<details>\n",
    "  <summary><div>→ Haga click aquí para ver la solución</div></summary>\n",
    "  <pre lang=\"python\"><code>\n",
    "comparacion1 = 25 >= 63\n",
    "print(\"Resultado de la comparación 25 >= 63: \", comparacion1)\n",
    "  </code></pre>\n",
    "</details> "
   ]
  },
  {
   "cell_type": "code",
   "execution_count": null,
   "id": "2126a840",
   "metadata": {},
   "outputs": [],
   "source": [
    "# Asigne el resultado de la comparacion 25 < 63 a la variable comparacion2. \n",
    "# Muestre un mensaje con el resultado por pantalla.\n",
    "\n"
   ]
  },
  {
   "cell_type": "markdown",
   "id": "ee43d4f2",
   "metadata": {},
   "source": [
    "<details>\n",
    "  <summary><div>→ Haga click aquí para ver la solución</div></summary>\n",
    "  <pre lang=\"python\"><code>\n",
    "comparacion2 = 25 < 63\n",
    "print(\"Resultado de la comparación 25 < 63: \", comparacion2)\n",
    "  </code></pre>\n",
    "</details> "
   ]
  },
  {
   "cell_type": "code",
   "execution_count": null,
   "id": "095ccae2",
   "metadata": {},
   "outputs": [],
   "source": [
    "# Asigne el resultado de la comparacion 25 == 25.0 a la variable comparacion3. \n",
    "# Muestre un mensaje con el resultado por pantalla.\n",
    "\n"
   ]
  },
  {
   "cell_type": "markdown",
   "id": "e86be987",
   "metadata": {},
   "source": [
    "<details>\n",
    "  <summary><div>→ Haga click aquí para ver la solución</div></summary>\n",
    "  <pre lang=\"python\"><code>\n",
    "comparacion3 = 25 == 25.0\n",
    "print(\"Resultado de la comparación 25 == 25.0: \", comparacion3)\n",
    "  </code></pre>\n",
    "</details> "
   ]
  },
  {
   "cell_type": "code",
   "execution_count": null,
   "id": "13f28ca9",
   "metadata": {},
   "outputs": [],
   "source": [
    "# Asigne el resultado de la comparacion 45 != 12.0 a la variable comparacion4.\n",
    "# Muestre un mensaje con el resultado por pantalla.\n",
    "\n"
   ]
  },
  {
   "cell_type": "markdown",
   "id": "356e2dc0",
   "metadata": {},
   "source": [
    "<details>\n",
    "  <summary><div>→ Haga click aquí para ver la solución</div></summary>\n",
    "  <pre lang=\"python\"><code>\n",
    "comparacion4 = 45 != 12.0\n",
    "print(\"Resultado de la comparación 45 != 12.0: \", 45 != 12.0)\n",
    "  </code></pre>\n",
    "</details> "
   ]
  },
  {
   "cell_type": "markdown",
   "id": "8fdfa622",
   "metadata": {},
   "source": [
    "[Regresar a la TC](#Tabla-de-Contenidos)"
   ]
  },
  {
   "cell_type": "markdown",
   "id": "7583043d",
   "metadata": {},
   "source": [
    "## Operadores relacionales\n",
    "\n",
    "Se usan para para **comparar** variables (o valores). El resultado de una comparación es un valor de verdad (booleano) `True` o `False`. En la siguiente tabla se listan todos los operadores relacionales con su equivalente matemático, un ejemplo y el resultado de la operacion.\n",
    "\n",
    "\n",
    "| Matemáticas | Python | Significado | Ejemplo | Resultado |\n",
    "| :---------- | :----- | :---------: | :------ | :-------- |\n",
    "|= | == | Igual a | <pre><code>pais1 = 'Ecuador' <br>pais2 = 'ecuador'<br><br>print( pais1 == pais2 )</code></pre> | False |\n",
    "|≠ |!= |Distinto a| <pre><code>pais1 = 'Ecuador' <br>pais2 = 'ecuador'<br><br>print( pais1 != pais2 )</code></pre> | True |\n",
    "|< |< |Menor que | <pre><code>edad1 = 32  <br>edad2 = 25 <br><br>print( edad1 &lt; edad2)</code></pre> | False |\n",
    "|> |> |Mayor que | <pre><code>edad1 = 32  <br>edad2 = 25 <br><br>print( edad1 &gt; edad2)</code></pre> | True |\n",
    "|≤ |<=| Menor o igual que | <pre><code>edad1 = 24  <br>edad2 = 42 <br><br>print( edad1 &lt;= edad2)</code></pre> | True |\n",
    "|≥ |>=| Mayor o igual que | <pre><code>edad1 = 34  <br>edad2 = 34 <br><br>print( edad1 &gt;= edad2)</code></pre> | True |"
   ]
  },
  {
   "cell_type": "code",
   "execution_count": null,
   "id": "7f201f30",
   "metadata": {},
   "outputs": [],
   "source": [
    "# Ingrese un valor entero a la variable edad\n",
    "\n"
   ]
  },
  {
   "cell_type": "markdown",
   "id": "a9688970",
   "metadata": {},
   "source": [
    "<details>\n",
    "  <summary><div>→ Haga click aquí para ver la solución</div></summary>\n",
    "  <pre lang=\"python\"><code>\n",
    "edad = int( input(\"Ingrese la edad: \") )\n",
    "  </code></pre>\n",
    "</details> "
   ]
  },
  {
   "cell_type": "code",
   "execution_count": null,
   "id": "e9dcd4a3",
   "metadata": {},
   "outputs": [],
   "source": [
    "# Asigne a la variable mayorDeEdad el resultado de la comparacion edad >= 18. \n",
    "# Muestre un mensaje con el resultado de la variable mayorDeEdad.\n",
    "\n"
   ]
  },
  {
   "cell_type": "markdown",
   "id": "49845a76",
   "metadata": {},
   "source": [
    "<details>\n",
    "  <summary><div>→ Haga click aquí para ver la solución</div></summary>\n",
    "  <pre lang=\"python\"><code>\n",
    "mayorDeEdad = edad >= 18\n",
    "print(\"Es mayor de edad \", mayorDeEdad)\n",
    "  </code></pre>\n",
    "</details> "
   ]
  },
  {
   "cell_type": "markdown",
   "id": "4743aa5b",
   "metadata": {},
   "source": [
    "[Regresar a la TC](#Tabla-de-Contenidos)"
   ]
  },
  {
   "cell_type": "markdown",
   "id": "08ee595d",
   "metadata": {},
   "source": [
    "## Operadores lógicos"
   ]
  },
  {
   "cell_type": "markdown",
   "id": "8c2dcc9e",
   "metadata": {},
   "source": [
    "En Python, existen operadores lógicos se utilizan crear **expresiones lógicas complejas**, como: \n",
    "<br><br>\n",
    "\n",
    "<div align=\"center\">\n",
    "Para aplicar a un préstamo hipotecario son necesarias 36 aportaciones y dentro del límite de edad (77 años).\n",
    "</div>\n",
    "\n",
    "<br><br>\n",
    "    \n",
    "Estas expresiones lógicas complejas se pueden dividir en **expresiones lógicas sencillas**, como:\n",
    "<br>\n",
    "\n",
    "_Para aplicar a un préstamo hipotecario son necesarias_\n",
    "\n",
    "* `36 aportaciones` **y**\n",
    "* `dentro del límite de edad (77 años)` "
   ]
  },
  {
   "cell_type": "code",
   "execution_count": null,
   "id": "89142655",
   "metadata": {},
   "outputs": [],
   "source": [
    "# Ingrese un valor entero a la variable numeroAportaciones\n",
    "\n",
    "numeroAportaciones = int( input(\"Ingrese el número de aportaciones: \") )"
   ]
  },
  {
   "cell_type": "code",
   "execution_count": null,
   "id": "9f03f95b",
   "metadata": {},
   "outputs": [],
   "source": [
    "# Ingrese un valor entero a la variable edad\n",
    "\n",
    "edad = int( input(\"Ingrese la edad: \") )"
   ]
  },
  {
   "cell_type": "code",
   "execution_count": null,
   "id": "c81c545d",
   "metadata": {},
   "outputs": [],
   "source": [
    "# Asigne a la variable aprobacionPrestamo el resultado de la comparacion: edad <= 77 and numeroAportaciones >= 36. \n",
    "# Muestre un mensaje con el resultado de la variable aprobacionPrestamo.\n",
    "\n"
   ]
  },
  {
   "cell_type": "markdown",
   "id": "c8c89300",
   "metadata": {},
   "source": [
    "<details>\n",
    "  <summary><div>→ Haga click aquí para ver la solución</div></summary>\n",
    "  <pre lang=\"python\"><code>\n",
    "aprobacionPrestamo = edad <= 77 and numeroAportaciones >= 36\n",
    "\n",
    "print(\"Aprobación del préstamo hipotecario: \", aprobacionPrestamo)\n",
    "  </code></pre>\n",
    "</details> "
   ]
  },
  {
   "cell_type": "markdown",
   "id": "b0fc3723",
   "metadata": {},
   "source": [
    "En la siguiente tabla se encuentran los operadores lógicos `and`, `or` y `not`, con un ejemplo y el resultado.\n",
    "\n",
    "| Operador | Ejemplo | Resultado |\n",
    "| :------: | :------ | :-------- |\n",
    "| `and`    | <pre><code>indicador1 = 1250 <br>indicador2 = 140 <br>resultado1 = 780 < indicador1  <b>and</b> indicador1 < 1500 <br>print( resultado1 ) </code></pre> | `True` |\n",
    "| `or`    | <pre><code>indicador3 = 120 <br>resultado3 =  indicador3 < -10 <b>or</b> indicador3 > 300   <br>print( resultado3 ) </code></pre> | `False` |\n",
    "| `not`    | <pre><code>indicador4 = 2021 <br>resultado4 = <b>not(</b> indicador4 > 1527 <b>)</b> <br>print( resultado4 )  </code></pre> | `False` |"
   ]
  },
  {
   "cell_type": "code",
   "execution_count": null,
   "id": "126eca54",
   "metadata": {},
   "outputs": [],
   "source": [
    "# Ingrese el valor de la variable entera indicadorK1.\n",
    "\n",
    "indicadorK1 = int(input(\"Ingrese el valor del indicador: \"))"
   ]
  },
  {
   "cell_type": "code",
   "execution_count": null,
   "id": "3391c258",
   "metadata": {},
   "outputs": [],
   "source": [
    "# Asigne a la variable resultadoAnual el resultado de comparar si la variable indicadorK1 se encuentra: \n",
    "#      en el rango de valores [20, 45]\n",
    "\n",
    "# Muestre un mensaje con la variable resultadoAnual\n",
    "\n",
    "\n"
   ]
  },
  {
   "cell_type": "markdown",
   "id": "6b600ed8",
   "metadata": {},
   "source": [
    "<details>\n",
    "  <summary><div>→ Haga click aquí para ver la solución</div></summary>\n",
    "  <pre lang=\"python\"><code>\n",
    "\n",
    "#resultadoAnual = indicadorK1 >= 20 and indicadorK1 <= 45\n",
    "\n",
    "resultadoAnual = 20 <= indicadorK1 <= 45\n",
    "\n",
    "print(\"Resultado anual: \", resultadoAnual)\n",
    "  </code></pre>\n",
    "</details> "
   ]
  },
  {
   "cell_type": "code",
   "execution_count": null,
   "id": "2df7e9ee",
   "metadata": {},
   "outputs": [],
   "source": [
    "# Asigne a la variable resultadoTrimestral el resultado de comparar la variable indicadorK1 si es:\n",
    "#     positivo o si se encuentra en el rango [-10,-4.5]\n",
    "# Muestre la variable resultadoTrimestral\n",
    "\n",
    "\n"
   ]
  },
  {
   "cell_type": "markdown",
   "id": "9e370610",
   "metadata": {},
   "source": [
    "<details>\n",
    "  <summary><div>→ Haga click aquí para ver la solución</div></summary>\n",
    "  <pre lang=\"python\"><code>\n",
    "\n",
    "resultadoTrimestral = (indicadorK1 > 0) or (-10 <= indicadorK1 <= -4.5)\n",
    "print(\"Resultado trimestral: \", resultadoTrimestral)\n",
    "\n",
    "print(\"Resultado anual: \", resultadoAnual)\n",
    "  </code></pre>\n",
    "</details> "
   ]
  },
  {
   "cell_type": "markdown",
   "id": "f9ce0039",
   "metadata": {},
   "source": [
    "[Regresar a la TC](#Tabla-de-Contenidos)"
   ]
  },
  {
   "cell_type": "markdown",
   "id": "cde89bb4",
   "metadata": {},
   "source": [
    "## Estructuras de control: condicional\n",
    "\n",
    "En Python, la estructura `if` sirve para controlar el flujo de ciertas operaciones dependiendo del valor (`True` o `False`) de una condición."
   ]
  },
  {
   "cell_type": "code",
   "execution_count": null,
   "id": "c7c6cd06",
   "metadata": {},
   "outputs": [],
   "source": [
    "# Asigne a la variable indicadorK5 el valor 1250\n",
    "# Ejecute la celda y compruebe la salida por pantalla\n",
    "\n",
    "indicadorK5 = \n",
    "\n",
    "if  450 <= indicadorK5 <= 1280:\n",
    "    print(\"Cumple con las expectitivas de ventas\")\n",
    "    print(\"Dado que el indicadorK5 tiene el valor\", indicadorK5)\n",
    "    \n",
    "print(\"Fin del programa\")"
   ]
  },
  {
   "cell_type": "code",
   "execution_count": null,
   "id": "573e5485",
   "metadata": {},
   "outputs": [],
   "source": [
    "# Cambie el valor de la variable indicadorK5 el valor 120\n",
    "# Ejecute la celda y compruebe la salida por pantalla\n",
    "\n",
    "indicadorK5 = \n",
    "\n",
    "if  450 <= indicadorK5 <= 1280:\n",
    "    print(\"Cumple con las expectitivas de ventas\")\n",
    "    print(\"Dado que el indicadorK5 tiene el valor\", indicadorK5)\n",
    "    \n",
    "print(\"Fin del programa\")"
   ]
  },
  {
   "cell_type": "code",
   "execution_count": null,
   "id": "8cecd0de",
   "metadata": {},
   "outputs": [],
   "source": [
    "# Ingrese el valor de la variable indicadorK3.\n",
    "\n",
    "indicadorK3 = float(input(\"Ingrese el indicador K3: \"))"
   ]
  },
  {
   "cell_type": "code",
   "execution_count": 1,
   "id": "71ba7086",
   "metadata": {},
   "outputs": [],
   "source": [
    "# Utilice la estructura if para validar si el indicadorK3 se encuentra en el rango [-10, 42]\n",
    "# Por verdadero: Muestre el mensaje 'El indicador se encuentra en el rango [-10, 42]' \n",
    "\n",
    "\n"
   ]
  },
  {
   "cell_type": "markdown",
   "id": "3a0c7794",
   "metadata": {},
   "source": [
    "<details>\n",
    "  <summary><div>→ Haga click aquí para ver la solución</div></summary>\n",
    "  <pre lang=\"python\"><code>\n",
    "\n",
    "if -10 <= indicadorK3 and indicadorK3 <= 42:\n",
    "    print('El indicador se encuentra en el rango [-10, 42]' )\n",
    "  </code></pre>\n",
    "</details> \n"
   ]
  },
  {
   "cell_type": "markdown",
   "id": "79827f26",
   "metadata": {},
   "source": [
    "De ser necesario, es posible agregar la opción `else` a la estructura `if`. "
   ]
  },
  {
   "cell_type": "code",
   "execution_count": null,
   "id": "66e74ba2",
   "metadata": {},
   "outputs": [],
   "source": [
    "# Asigne a la variable indicadorK5 el valor 1250 y compruebe la salida por pantalla\n",
    "# Asigne a la variable indicadorK5 el valor 120 y compruebe la salida por pantalla\n",
    "\n",
    "indicadorK5 = 120\n",
    "\n",
    "if  450 <= indicadorK5 <= 1280:\n",
    "    print(\"Cumple con las expectitivas de ventas\")\n",
    "    print(\"Dado que el indicadorK5 tiene el valor\", indicadorK5)\n",
    "else:\n",
    "    print(\"No cumple con las expectativas de ventas\")\n",
    "    \n",
    "print(\"Fin del programa\")"
   ]
  },
  {
   "cell_type": "markdown",
   "id": "d805980e",
   "metadata": {},
   "source": [
    "[Regresar a la TC](#Tabla-de-Contenidos)"
   ]
  },
  {
   "cell_type": "markdown",
   "id": "8e70b374",
   "metadata": {},
   "source": [
    "## Ejercicios"
   ]
  },
  {
   "cell_type": "markdown",
   "id": "d541f74a",
   "metadata": {},
   "source": [
    "**Ejercicio 1: Perfil Básico de un Conjunto de Datos**\n",
    "**Temas:** Variables, Tipos de datos, Ingreso de datos, Salida por pantalla\n",
    "\n",
    "Escribe un programa que permita al usuario ingresar 5 valores numéricos. Al final, el programa debe mostrar la cantidad de valores, la suma total, el promedio, el valor máximo y el valor mínimo."
   ]
  },
  {
   "cell_type": "code",
   "execution_count": null,
   "id": "90c9531c",
   "metadata": {},
   "outputs": [],
   "source": []
  },
  {
   "cell_type": "markdown",
   "id": "3db1b1ec",
   "metadata": {},
   "source": [
    "**Ejercicio 2: Análisis de Calificaciones**\n",
    "**Temas:** Identificadores, Operadores matemáticos, Tipos de datos, Condicionales\n",
    "\n",
    "Desarrolla un programa que permita al usuario ingresar calificaciones de 3 estudiantes. Calcula la calificación promedio y muestra si cada estudiante está aprobado o reprobado, con base en un puntaje de aprobación de 60."
   ]
  },
  {
   "cell_type": "code",
   "execution_count": null,
   "id": "4a82f92c",
   "metadata": {},
   "outputs": [],
   "source": []
  },
  {
   "cell_type": "markdown",
   "id": "389f27e1",
   "metadata": {},
   "source": [
    "**Ejercicio 3: Conversión de Escalas de Temperatura**\n",
    "**Temas:** Operadores matemáticos, Conversión de tipos de datos, Salida por pantalla\n",
    "\n",
    "Crea un programa que permita al usuario ingresar una temperatura en grados Celsius y conviértela a Fahrenheit y Kelvin. Muestra los resultados en pantalla.\n",
    "\n",
    "Fórmulas:\n",
    "\n",
    "* Fahrenheit = Celsius * 9/5 + 32\n",
    "* Kelvin = Celsius + 273.15"
   ]
  },
  {
   "cell_type": "code",
   "execution_count": null,
   "id": "e3f2ef8f",
   "metadata": {},
   "outputs": [],
   "source": []
  },
  {
   "cell_type": "markdown",
   "id": "c48ed32a",
   "metadata": {},
   "source": [
    "**Ejercicio 5: Análisis de Clientes Potenciales**\n",
    "**Temas:** Booleanos, Operadores relacionales, Operadores lógicos, Estructuras de control: condicional\n",
    "\n",
    "Desarrolla un programa que permita al usuario ingresar el nivel de ingresos de una persona y su edad. Si el ingreso es mayor a $2000 y la edad es mayor a 21 años, el programa debe mostrar \"Cliente Potencial\", de lo contrario, \"Cliente No Potencial\".\n",
    "\n"
   ]
  },
  {
   "cell_type": "code",
   "execution_count": null,
   "id": "e3522f91",
   "metadata": {},
   "outputs": [],
   "source": []
  },
  {
   "cell_type": "code",
   "execution_count": null,
   "id": "dfc79a45",
   "metadata": {},
   "outputs": [],
   "source": []
  }
 ],
 "metadata": {
  "kernelspec": {
   "display_name": "Python 3 (ipykernel)",
   "language": "python",
   "name": "python3"
  },
  "language_info": {
   "codemirror_mode": {
    "name": "ipython",
    "version": 3
   },
   "file_extension": ".py",
   "mimetype": "text/x-python",
   "name": "python",
   "nbconvert_exporter": "python",
   "pygments_lexer": "ipython3",
   "version": "3.11.5"
  }
 },
 "nbformat": 4,
 "nbformat_minor": 5
}
