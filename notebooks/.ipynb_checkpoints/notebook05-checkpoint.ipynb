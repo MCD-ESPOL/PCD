{
 "cells": [
  {
   "cell_type": "markdown",
   "id": "8499035e",
   "metadata": {},
   "source": [
    "## Matplotlib\n",
    "\n",
    "[Matplotlib](https://matplotlib.org/) es una biblioteca completa para crear visualizaciones estáticas, animadas e interactivas en Python. En la [documentación](https://matplotlib.org/stable/users/index) puede encontrar información de cómo crear gráficos sencillos, modificar el estilo de los gráficos, en otras cosas características.\n",
    "\n",
    "\n",
    "\n",
    "<br><br>\n",
    "<div align=\"center\">\n",
    "    <img src=\"https://github.com/MCD-ESPOL/PCD/blob/main/notebooks/images/python_mlib0.png?raw=true\" width=\"60%\">\n",
    "</div>"
   ]
  },
  {
   "cell_type": "markdown",
   "id": "b5bf81f9",
   "metadata": {},
   "source": [
    "### Instalación\n",
    "\n",
    "En Anaconda, en la sección _Environments_, revise e instale (de ser necesario) la librería **matplotlib**.\n",
    "\n",
    "<br><br>\n",
    "<div align=\"center\">\n",
    "    <img src=\"https://github.com/MCD-ESPOL/PCD/blob/main/notebooks/images/python_mlib1.png?raw=true\" width=\"90%\">\n",
    "</div>"
   ]
  },
  {
   "cell_type": "markdown",
   "id": "1342e8e8",
   "metadata": {},
   "source": [
    "### Importar librerías externas\n",
    "\n",
    "Luego de instalar las librerías externas en Python, cada programa puede **importar** la librería, con:\n",
    "\n",
    "```python\n",
    "import NOMBRE_DE_LA_LIBRERIA\n",
    "```\n",
    "\n",
    "**NOTA:** SOLO importe la librería una vez y al INICIO de su programa"
   ]
  },
  {
   "cell_type": "code",
   "execution_count": null,
   "id": "e9e5d3fc",
   "metadata": {},
   "outputs": [],
   "source": [
    "# Importe la libreria matplotlib, con: import matplotlib\n"
   ]
  },
  {
   "cell_type": "markdown",
   "id": "dc27611b",
   "metadata": {},
   "source": [
    "### Datos\n",
    "\n",
    "Para comenzar a trabajar con _matplotlib_ son necesarias dos listas _paralelas_: **datos para el eje X** y **datos para el eje Y**. En este caso, utilizaremos las listas **meses** (eje X) y **ventas** (eje Y).\n",
    "\n",
    "```python\n",
    "meses = [\"Enero\", \"Febrero\", \"Marzo\", \"Abril\", \"Mayo\", \"Junio\", \"Julio\", \"Agosto\", \"Septiembre\", \"Octubre\", \"Noviembre\", \"Diciembre\"]\n",
    "ventas = [3.73, 9.46, 6.01, 5.74, 4.51, 7.6, 6.04, 2.59, 6.88, 7.96, 4.75, 7.96]\n",
    "```"
   ]
  },
  {
   "cell_type": "code",
   "execution_count": null,
   "id": "5f480ada",
   "metadata": {},
   "outputs": [],
   "source": [
    "meses = [\"Enero\", \"Febrero\", \"Marzo\", \"Abril\", \"Mayo\", \"Junio\", \"Julio\", \"Agosto\", \"Septiembre\", \"Octubre\", \"Noviembre\", \"Diciembre\"]\n",
    "ventas = [3.73, 9.46, 6.01, 5.74, 4.51, 7.6, 6.04, 2.59, 6.88, 7.96, 4.75, 7.96]"
   ]
  },
  {
   "cell_type": "markdown",
   "id": "025eda66",
   "metadata": {},
   "source": [
    "### Plot (básico)\n",
    "\n",
    "La función [matplotlib.pyplot.plot](https://matplotlib.org/stable/api/_as_gen/matplotlib.pyplot.plot.html#matplotlib.pyplot.plot) sirve para graficar las coordenadas de los puntos o nodos de línea están dadas por **datos_x** y **datos_y**. \n",
    "\n",
    "```python\n",
    "matplotlib.pyplot.plot( datos_x, datos_y )\n",
    "```"
   ]
  },
  {
   "cell_type": "code",
   "execution_count": null,
   "id": "71644508",
   "metadata": {},
   "outputs": [],
   "source": [
    "# Llame la función plot para las listas meses y ventas \n"
   ]
  },
  {
   "cell_type": "markdown",
   "id": "8f2c58d9",
   "metadata": {},
   "source": [
    "### Etiquetas\n",
    "\n",
    "La función [matplotlib.pyplot.xticks](https://matplotlib.org/stable/api/_as_gen/matplotlib.pyplot.xticks.html#matplotlib.pyplot.xticks) obtiene o establece las ubicaciones de marca actuales y las etiquetas del eje x.\n",
    "\n",
    "\n",
    "```python\n",
    "matplotlib.pyplot.xticks( argumentos )\n",
    "```"
   ]
  },
  {
   "cell_type": "code",
   "execution_count": null,
   "id": "cdc1f612",
   "metadata": {},
   "outputs": [],
   "source": [
    "# Llame la función plot para las listas meses y ventas \n",
    "# Llame la función xticks con la variable rotation=45\n"
   ]
  },
  {
   "cell_type": "markdown",
   "id": "d646ce3b",
   "metadata": {},
   "source": [
    "### Gráfico de barras\n",
    "\n",
    "La función [matplotlib.pyplot.bar](https://matplotlib.org/stable/api/_as_gen/matplotlib.pyplot.bar.html#matplotlib.pyplot.bar) sirve para ubicar barras en el eje x. La línea de base vertical es la inferior (por defecto 0).\n",
    "\n",
    "\n",
    "```python\n",
    "matplotlib.pyplot.bar( datos_x, datos_y, width=0.8 )\n",
    "```\n",
    "\n",
    "**NOTA:** El parámetro **width** es opcional."
   ]
  },
  {
   "cell_type": "code",
   "execution_count": null,
   "id": "8fda0dad",
   "metadata": {},
   "outputs": [],
   "source": [
    "# Llame la función bar para las listas meses y ventas \n",
    "# Llame la función xticks con la variable rotation=45\n"
   ]
  }
 ],
 "metadata": {
  "kernelspec": {
   "display_name": "Python 3 (ipykernel)",
   "language": "python",
   "name": "python3"
  },
  "language_info": {
   "codemirror_mode": {
    "name": "ipython",
    "version": 3
   },
   "file_extension": ".py",
   "mimetype": "text/x-python",
   "name": "python",
   "nbconvert_exporter": "python",
   "pygments_lexer": "ipython3",
   "version": "3.11.5"
  }
 },
 "nbformat": 4,
 "nbformat_minor": 5
}
