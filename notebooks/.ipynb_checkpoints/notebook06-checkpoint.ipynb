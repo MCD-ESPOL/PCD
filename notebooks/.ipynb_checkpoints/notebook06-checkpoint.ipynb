{
 "cells": [
  {
   "cell_type": "markdown",
   "id": "debf5094",
   "metadata": {},
   "source": [
    "# Estructuras de control: iterativas\n",
    "\n",
    "Cuando se requiere hacer un conjunto de cálculos sobre una serie de datos, es decir, hacer un esquema de recorrido (iteración definida) o aplicar el bloque de instrucciones sobre un grupo de elementos (números, string, etc.) es preferible utilizar la sentencia **for**"
   ]
  },
  {
   "cell_type": "code",
   "execution_count": null,
   "id": "1de55323",
   "metadata": {},
   "outputs": [],
   "source": [
    "# Considere la lista nombres_libros para mostrar por pantalla cada uno de los nombres en una línea diferente\n",
    "nombres_libros = ['El señor de los anillos', 'Cien años de soledad', 'Harry Potter', '1984', 'Orgullo y prejuicio', 'Crimen y castigo', 'El gran Gatsby', 'Matar un ruiseñor', 'La Odisea', 'Don Quijote de la Mancha']\n",
    "\n",
    "\n",
    "\n"
   ]
  },
  {
   "cell_type": "code",
   "execution_count": null,
   "id": "7e91b295",
   "metadata": {},
   "outputs": [],
   "source": [
    "\n"
   ]
  }
 ],
 "metadata": {
  "kernelspec": {
   "display_name": "Python 3 (ipykernel)",
   "language": "python",
   "name": "python3"
  },
  "language_info": {
   "codemirror_mode": {
    "name": "ipython",
    "version": 3
   },
   "file_extension": ".py",
   "mimetype": "text/x-python",
   "name": "python",
   "nbconvert_exporter": "python",
   "pygments_lexer": "ipython3",
   "version": "3.11.5"
  }
 },
 "nbformat": 4,
 "nbformat_minor": 5
}
