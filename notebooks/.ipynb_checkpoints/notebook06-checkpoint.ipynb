{
 "cells": [
  {
   "cell_type": "markdown",
   "id": "debf5094",
   "metadata": {},
   "source": [
    "# Estructuras de control: iterativas\n",
    "\n",
    "La estructura de control **for** se utiliza para iterar sobre un iterable (es decir, una lista, una tupla, un diccionario, un conjunto o una cadena).\n",
    "\n",
    "<div align=\"center\">\n",
    "    <img src=\"https://github.com/MCD-ESPOL/PCD/blob/main/notebooks/images/for_loop.png?raw=true\" width=\"60%\">\n",
    "</div>\n"
   ]
  },
  {
   "cell_type": "code",
   "execution_count": null,
   "id": "1de55323",
   "metadata": {},
   "outputs": [],
   "source": [
    "# Muestre por pantalla cada uno de los nombres de libros\n",
    "nombres_libros = ['El señor de los anillos', 'Cien años de soledad', 'Harry Potter', '1984', 'Orgullo y prejuicio', 'Crimen y castigo', 'El gran Gatsby', 'Matar un ruiseñor', 'La Odisea', 'Don Quijote de la Mancha']\n"
   ]
  },
  {
   "cell_type": "code",
   "execution_count": null,
   "id": "7e91b295",
   "metadata": {},
   "outputs": [],
   "source": [
    "# Muestre por pantalla cada uno de los valores mayores que 100\n",
    "ventas = [150, 120, 200, 90, 80, 110, 95, 130, 75, 160]\n",
    "\n"
   ]
  },
  {
   "cell_type": "code",
   "execution_count": null,
   "id": "4217d708",
   "metadata": {},
   "outputs": [],
   "source": [
    "# Muestre por pantalla cada uno de los valores mayores que 60 y menores e iguales que 150\n",
    "\n"
   ]
  },
  {
   "cell_type": "code",
   "execution_count": null,
   "id": "4d6bd21c",
   "metadata": {},
   "outputs": [],
   "source": [
    "# Calcule y muestre por pantalla la cantidad de los valores mayores que 60 y menores e iguales que 150\n"
   ]
  },
  {
   "cell_type": "code",
   "execution_count": null,
   "id": "02ce7159",
   "metadata": {},
   "outputs": [],
   "source": [
    "# Calcule y muestre por pantalla la suma total de los valores mayores que 60 y menores e iguales que 150\n"
   ]
  },
  {
   "cell_type": "code",
   "execution_count": null,
   "id": "42249b1d",
   "metadata": {},
   "outputs": [],
   "source": [
    "# Calcule y muestre por pantalla el promedio de los valores mayores que 60 y menores e iguales que 150\n"
   ]
  },
  {
   "cell_type": "code",
   "execution_count": null,
   "id": "9afc18d2",
   "metadata": {},
   "outputs": [],
   "source": [
    "# En la lista generosUnicos guarde los elementos sin repetir de la lista genero_literario \n",
    "genero_literario = ['Fantasía', 'Realismo mágico', 'Fantasía', 'Distopía', 'Novela romántica', 'Novela psicológica', 'Ficción moderna', 'Novela clásica', 'Epopeya', 'Novela clásica']\n",
    "generosUnicos = []\n",
    "\n"
   ]
  },
  {
   "cell_type": "markdown",
   "id": "eaa06c98",
   "metadata": {},
   "source": [
    "Para recorrer un grupo de instrucciones un número específico de veces, podemos usar la función **range( )**.\n",
    "\n",
    "La función **range( )** devuelve una secuencia de números, que comienza en 0 de forma predeterminada, se incrementa en 1 (de forma predeterminada) y termina en un número específico.\n",
    "\n",
    "<div align=\"center\">\n",
    "    <img src=\"https://github.com/MCD-ESPOL/PCD/blob/main/notebooks/images/for_loop_range.png?raw=true\" width=\"60%\">\n",
    "</div>\n"
   ]
  },
  {
   "cell_type": "code",
   "execution_count": 20,
   "id": "77b55e74",
   "metadata": {},
   "outputs": [],
   "source": [
    "# Muestre por pantalla cada elemento relacionado entre sí de las listas nombres_libros, ventas y genero_literario.\n",
    "\n",
    "nombres_libros = ['El señor de los anillos', 'Cien años de soledad', 'Harry Potter', '1984', 'Orgullo y prejuicio', 'Crimen y castigo', 'El gran Gatsby', 'Matar un ruiseñor', 'La Odisea', 'Don Quijote de la Mancha']\n",
    "genero_literario = ['Fantasía', 'Realismo mágico', 'Fantasía', 'Distopía', 'Novela romántica', 'Novela psicológica', 'Ficción moderna', 'Novela clásica', 'Epopeya', 'Novela clásica']\n",
    "ventas = [150, 120, 200, 90, 80, 110, 95, 130, 75, 160]\n",
    "\n",
    "\n"
   ]
  },
  {
   "cell_type": "code",
   "execution_count": 21,
   "id": "c80e73c9",
   "metadata": {},
   "outputs": [],
   "source": [
    "nombres_libros = ['El señor de los anillos', 'Cien años de soledad', 'Harry Potter', '1984', 'Orgullo y prejuicio', 'Crimen y castigo', 'El gran Gatsby', 'Matar un ruiseñor', 'La Odisea', 'Don Quijote de la Mancha']\n",
    "genero_literario = ['Fantasía', 'Realismo mágico', 'Fantasía', 'Distopía', 'Novela romántica', 'Novela psicológica', 'Ficción moderna', 'Novela clásica', 'Epopeya', 'Novela clásica']\n",
    "ventas = [150, 120, 200, 90, 80, 110, 95, 130, 75, 160]\n",
    "\n",
    "# En la lista generosUnicos guarde los elementos sin repetir de la lista genero_literario \n",
    "generosUnicos = []\n",
    "\n",
    "\n"
   ]
  },
  {
   "cell_type": "code",
   "execution_count": 22,
   "id": "7e3821a2",
   "metadata": {},
   "outputs": [],
   "source": [
    "# Por cada elemento de generosUnicos, muestre por pantalla los libros por cada categoría.\n"
   ]
  },
  {
   "cell_type": "code",
   "execution_count": 22,
   "id": "323ba188",
   "metadata": {},
   "outputs": [],
   "source": [
    "# Por cada elemento de generosUnicos, calcule y muestre por pantalla la cantidad de libros por cada categoría.\n"
   ]
  },
  {
   "cell_type": "code",
   "execution_count": null,
   "id": "c9976200",
   "metadata": {},
   "outputs": [],
   "source": [
    "# Por cada elemento de generosUnicos, calcule y muestre por pantalla la suma total de ventas por categoría.\n"
   ]
  },
  {
   "cell_type": "code",
   "execution_count": null,
   "id": "a91ab6f6",
   "metadata": {},
   "outputs": [],
   "source": [
    "# Genere un gráfico de barras de generosUnicos versus total por venta \n",
    "\n"
   ]
  }
 ],
 "metadata": {
  "kernelspec": {
   "display_name": "Python 3 (ipykernel)",
   "language": "python",
   "name": "python3"
  },
  "language_info": {
   "codemirror_mode": {
    "name": "ipython",
    "version": 3
   },
   "file_extension": ".py",
   "mimetype": "text/x-python",
   "name": "python",
   "nbconvert_exporter": "python",
   "pygments_lexer": "ipython3",
   "version": "3.11.5"
  }
 },
 "nbformat": 4,
 "nbformat_minor": 5
}
