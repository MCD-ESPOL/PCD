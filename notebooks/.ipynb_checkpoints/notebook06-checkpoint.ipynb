{
 "cells": [
  {
   "cell_type": "markdown",
   "id": "debf5094",
   "metadata": {},
   "source": [
    "# Estructuras de control: iterativas\n",
    "\n",
    "Cuando se requiere hacer un conjunto de cálculos sobre una serie de datos, es decir, hacer un esquema de recorrido (iteración definida) o aplicar el bloque de instrucciones sobre un grupo de elementos (números, string, etc.) es preferible utilizar la sentencia **for**\n",
    "\n",
    "\n",
    "\n",
    "<div align=\"center\">\n",
    "    <img src=\"https://github.com/MCD-ESPOL/PCD/blob/main/notebooks/images/for_loop.png?raw=true\" width=\"60%\">\n",
    "</div>\n"
   ]
  },
  {
   "cell_type": "code",
   "execution_count": null,
   "id": "1de55323",
   "metadata": {},
   "outputs": [],
   "source": [
    "# Muestre por pantalla, en una una línea independiente, cada uno de los nombres que se encuentran en la lista nombres_libros\n",
    "nombres_libros = ['El señor de los anillos', 'Cien años de soledad', 'Harry Potter', '1984', 'Orgullo y prejuicio', 'Crimen y castigo', 'El gran Gatsby', 'Matar un ruiseñor', 'La Odisea', 'Don Quijote de la Mancha']\n"
   ]
  },
  {
   "cell_type": "code",
   "execution_count": null,
   "id": "7e91b295",
   "metadata": {},
   "outputs": [],
   "source": [
    "# Muestre por pantalla, en una una línea independiente, solo los valores mayores que 100\n",
    "# que se encuentran en la lista ventas\n",
    "ventas = [150, 120, 200, 90, 80, 110, 95, 130, 75, 160]\n"
   ]
  },
  {
   "cell_type": "code",
   "execution_count": null,
   "id": "a3789d2d",
   "metadata": {},
   "outputs": [],
   "source": [
    "# Muestre por pantalla, en una una línea independiente, solo los valores mayores que 60 y menores e iguales que 150\n",
    "# que se encuentran en la lista ventas\n",
    "     "
   ]
  },
  {
   "cell_type": "code",
   "execution_count": null,
   "id": "0e4dcae8",
   "metadata": {},
   "outputs": [],
   "source": [
    "# Muestre la cantidad de valores mayores que 60 y menores e iguales que 150 que se encuentran en la lista ventas\n"
   ]
  },
  {
   "cell_type": "code",
   "execution_count": null,
   "id": "87d38662",
   "metadata": {},
   "outputs": [],
   "source": [
    "# Muestre la suma total de valores mayores que 60 y menores e iguales que 150 que se encuentran en la lista ventas\n"
   ]
  },
  {
   "cell_type": "code",
   "execution_count": null,
   "id": "6ee54def",
   "metadata": {},
   "outputs": [],
   "source": [
    "# Muestre el promedio de valores mayores que 60 y menores e iguales que 150 que se encuentran en la lista ventas\n"
   ]
  },
  {
   "cell_type": "code",
   "execution_count": null,
   "id": "ba8ec2cb",
   "metadata": {},
   "outputs": [],
   "source": [
    "# Guarde en la lista generos_SR los elementos sin repetir de la lista genero_literario \n",
    "genero_literario = ['Fantasía', 'Realismo mágico', 'Fantasía', 'Distopía', 'Novela romántica', 'Novela psicológica', 'Ficción moderna', 'Novela clásica', 'Epopeya', 'Novela clásica']\n",
    "generos_SR = []\n",
    "\n"
   ]
  },
  {
   "cell_type": "markdown",
   "id": "1fe12e9e",
   "metadata": {},
   "source": [
    "\n",
    "<div align=\"center\">\n",
    "    <img src=\"https://github.com/MCD-ESPOL/PCD/blob/main/notebooks/images/for_loop_range.png?raw=true\" width=\"60%\">\n",
    "</div>\n"
   ]
  }
 ],
 "metadata": {
  "kernelspec": {
   "display_name": "Python 3 (ipykernel)",
   "language": "python",
   "name": "python3"
  },
  "language_info": {
   "codemirror_mode": {
    "name": "ipython",
    "version": 3
   },
   "file_extension": ".py",
   "mimetype": "text/x-python",
   "name": "python",
   "nbconvert_exporter": "python",
   "pygments_lexer": "ipython3",
   "version": "3.11.5"
  }
 },
 "nbformat": 4,
 "nbformat_minor": 5
}
