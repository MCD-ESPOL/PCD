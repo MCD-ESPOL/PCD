{
 "cells": [
  {
   "cell_type": "markdown",
   "id": "3e0e2060",
   "metadata": {},
   "source": [
    "## Importar librerías externas"
   ]
  },
  {
   "cell_type": "code",
   "execution_count": 1,
   "id": "265100f4",
   "metadata": {},
   "outputs": [],
   "source": [
    "# Importe la librería numpy, con: import numpy as np\n",
    "# Importe la libreria matplotlib, con: import matplotlib.pyplot as plt\n"
   ]
  },
  {
   "cell_type": "markdown",
   "id": "68eb9465",
   "metadata": {},
   "source": [
    "## Arreglos y matrices \n",
    "\n",
    "Convierta las listas en arreglos (1-dimensión) y matrices (2-dimensiones)."
   ]
  },
  {
   "cell_type": "code",
   "execution_count": 2,
   "id": "a00b2fec",
   "metadata": {},
   "outputs": [],
   "source": [
    "# Convierta las listas en arreglos\n",
    "\n",
    "lista1 = [11, 12,  9,  3, 14,  9]\n",
    "lista2 = [ 6, 11, 10, 12,  9, 10]\n",
    "\n",
    "arreglo1 = \n",
    "arreglo2 = "
   ]
  },
  {
   "cell_type": "code",
   "execution_count": 3,
   "id": "95e9c719",
   "metadata": {},
   "outputs": [],
   "source": [
    "# Convierta las listas de listas en matrices\n",
    "\n",
    "listaDelistas1 = [[14,  5,  4, 13,  8, 14],\n",
    "                  [10,  2,  9,  9,  3,  4],\n",
    "                  [ 9,  4, 11,  7,  9, 13],\n",
    "                  [14,  5, 14, 12, 13,  9],\n",
    "                  [12,  3,  5,  5,  4,  8]]\n",
    "\n",
    "listaDelistas2 = [[14,  6,  2,  5, 10,  8],\n",
    "                  [13, 11, 14, 11,  4, 10],\n",
    "                  [14, 13,  3, 14,  5,  7],\n",
    "                  [ 2,  2,  8, 14,  2,  4],\n",
    "                  [11,  6, 12,  3,  4,  2]]\n",
    "\n",
    "matriz1 = \n",
    "matriz2 = "
   ]
  },
  {
   "cell_type": "markdown",
   "id": "f5ae106c",
   "metadata": {},
   "source": [
    "## Operaciones por elementos"
   ]
  },
  {
   "cell_type": "markdown",
   "id": "cab20ca5",
   "metadata": {},
   "source": [
    "### Con un escalar\n",
    "\n",
    "Numpy permite optimizar las operaciones entre [un arreglo y un escalar](https://scipy-lectures.org/intro/numpy/operations.html#id2); por ejemplo, el `arreglo3` contiene el resultado de la suma de cada elemento del `arreglo1` con `5.2`.\n",
    "\n",
    "\n",
    "\n",
    "<div align=\"center\">\n",
    "    <img src=\"https://github.com/MCD-ESPOL/PCD/blob/main/notebooks/images/arr_b1.png?raw=true\" width=\"35%\">\n",
    "</div>"
   ]
  },
  {
   "cell_type": "code",
   "execution_count": 4,
   "id": "435c4249",
   "metadata": {},
   "outputs": [],
   "source": [
    "# En arreglo4 asigne el resultado de sumar arreglo2 y 4. Muestre el resultado de arreglo4."
   ]
  },
  {
   "cell_type": "code",
   "execution_count": 5,
   "id": "5fa94cf4",
   "metadata": {},
   "outputs": [],
   "source": [
    "# En arreglo5 asigne el resultado de multiplicar arreglo1 y 2.3. Muestre el resultado de arreglo5."
   ]
  },
  {
   "cell_type": "code",
   "execution_count": 6,
   "id": "35eec59a",
   "metadata": {},
   "outputs": [],
   "source": [
    "# En arreglo6 asigne el resultado de restar arreglo2 y 2.3. Muestre el resultado de arreglo6."
   ]
  },
  {
   "cell_type": "markdown",
   "id": "4b2d713b",
   "metadata": {},
   "source": [
    "### Entre arreglos\n",
    "\n",
    "NumPy proporciona una amplia gama de [operaciones que se pueden realizar entre arreglos](https://www.programiz.com/python-programming/numpy/basic-array-operations). En el ejemplo, la multiplicación entre `arreglo1` y `arreglo2`ocurre entre cada elemento correspondiente, dado que tienen el mismo tamaño.\n",
    "\n",
    "\n",
    "<div align=\"center\">\n",
    "    <img src=\"https://github.com/MCD-ESPOL/PCD/blob/main/notebooks/images/arr_b2.png?raw=true\" width=\"35%\">\n",
    "</div>\n"
   ]
  },
  {
   "cell_type": "code",
   "execution_count": 7,
   "id": "0bd1a7af",
   "metadata": {},
   "outputs": [],
   "source": [
    "# En arreglo8 asigne el resultado de dividir arreglo1 y arreglo4. Muestre el arreglo8."
   ]
  },
  {
   "cell_type": "code",
   "execution_count": 8,
   "id": "81ee7761",
   "metadata": {},
   "outputs": [],
   "source": [
    "# En arreglo9 asigne el resultado de restar arreglo2 y arreglo5. Muestre el arreglo9."
   ]
  },
  {
   "cell_type": "code",
   "execution_count": 9,
   "id": "11160dc9",
   "metadata": {},
   "outputs": [],
   "source": [
    "# En arreglo10 asigne el resultado de sumar arreglo5 y arreglo6. Muestre el arreglo10."
   ]
  },
  {
   "cell_type": "markdown",
   "id": "ab802e27",
   "metadata": {},
   "source": [
    "## Operaciones matriciales\n",
    "\n",
    "NumPy provee de operaciones matriciales como suma, multiplicación y elevación de elementos a una determinada potencia. El empleo de matrices nos permite ejecutar operaciones algebraicas, lo que nos permite ejecutar numerosas operaciones con grandes cantidades de datos de manera efectiva. [How to Implement Different Operations on Matrices in NumPy?](https://www.scaler.com/topics/numpy-implement-different-operations-on-matrix/) muestran las operaciones más comunes entre matrices mediante ejemplos."
   ]
  },
  {
   "cell_type": "markdown",
   "id": "b57a6f51",
   "metadata": {},
   "source": [
    "### Operaciones con un escalar\n",
    "\n",
    "En el ejemplo, la `matriz3` contiene el resultado de multiplicar `1.12` y `matriz1`, al multiplicar cada elemento por el escalar.\n",
    "\n",
    "<div align=\"center\">\n",
    "    <img src=\"https://github.com/MCD-ESPOL/PCD/blob/main/notebooks/images/arr_b3.png?raw=true\" width=\"30%\">\n",
    "</div>"
   ]
  },
  {
   "cell_type": "code",
   "execution_count": 17,
   "id": "d8abebf4",
   "metadata": {},
   "outputs": [],
   "source": [
    "# En matriz4 asigne el resultado de sumar 3.2 y matriz2. Muestre el matriz4."
   ]
  },
  {
   "cell_type": "code",
   "execution_count": 18,
   "id": "1300a5f2",
   "metadata": {},
   "outputs": [],
   "source": [
    "# En matriz5 asigne el resultado de dividir matriz1 para 2. Muestre el matriz5."
   ]
  },
  {
   "cell_type": "markdown",
   "id": "6290af16",
   "metadata": {},
   "source": [
    "### Operaciones matriciales\n",
    "\n",
    "Para matrices de igual número de filas y columnas, es posible realizar las operaciones matemáticas básicas para cada elemento de las matrices. Por ejemplo, `matriz6` contiene el resultado de restar `matriz1` y `matriz2`.\n",
    "\n",
    "<div align=\"center\">\n",
    "    <img src=\"https://github.com/MCD-ESPOL/PCD/blob/main/notebooks/images/arr_b4.png?raw=true\" width=\"30%\">\n",
    "</div>"
   ]
  },
  {
   "cell_type": "code",
   "execution_count": 19,
   "id": "f4a53da2",
   "metadata": {},
   "outputs": [],
   "source": [
    "# En matriz7 asigne el resultado de sumar matriz2 y matriz1. Muestre el matriz7."
   ]
  },
  {
   "cell_type": "code",
   "execution_count": 20,
   "id": "bbb81ecd",
   "metadata": {},
   "outputs": [],
   "source": [
    "# En matriz8 asigne el resultado de multiplicar matriz2 y matriz1. Muestre el matriz8."
   ]
  },
  {
   "cell_type": "markdown",
   "id": "c010f0cd",
   "metadata": {},
   "source": [
    "### Operaciones de todos los elementos\n",
    "\n",
    "La función [np.sum()](https://numpy.org/doc/stable/reference/generated/numpy.sum.html) se utiliza para determinar la suma de todos los elementos de la matriz NumPy.\n",
    "\n",
    "<div align=\"center\">\n",
    "    <img src=\"https://github.com/MCD-ESPOL/PCD/blob/main/notebooks/images/arr_b5.png?raw=true\" width=\"45%\">\n",
    "</div>"
   ]
  },
  {
   "cell_type": "code",
   "execution_count": 21,
   "id": "d5b18bde",
   "metadata": {},
   "outputs": [],
   "source": [
    "# En total7 asigne el resultado de sumar todos los elementos de la matriz7. Muestre el total7."
   ]
  },
  {
   "cell_type": "code",
   "execution_count": 22,
   "id": "1ba2851f",
   "metadata": {},
   "outputs": [],
   "source": [
    "# En total8 asigne el resultado de sumar todos los elementos de la matriz8. Muestre el total8."
   ]
  },
  {
   "cell_type": "markdown",
   "id": "f210e70c",
   "metadata": {},
   "source": [
    "### Operaciones por columnas o por filas\n",
    "\n",
    "La función de [np.sum()](https://numpy.org/doc/stable/reference/generated/numpy.sum.html) NumPy tiene varios parámetros que le permiten controlar el comportamiento de la función. \n",
    "\n",
    "Por ejemplo, para sumar todas las filas (a lo largo del eje vertical), se utiliza el parámetro `axis = 0`. Mientras que para sumar todas las columnas (a lo largo del eje horizontal), se utiliza el parámetro `axis = 1`, como se muestra en la figura. \n",
    "\n",
    "\n",
    "<div align=\"center\">\n",
    "    <img src=\"https://github.com/MCD-ESPOL/PCD/blob/main/notebooks/images/arr_b7.png?raw=true\" width=\"35%\">\n",
    "    Fuente: <a href=\"https://sebastianraschka.com/blog/2020/numpy-intro.html\">Scientific Computing in Python: Introduction to NumPy and Matplotlib</a>\n",
    "</div>"
   ]
  },
  {
   "cell_type": "markdown",
   "id": "59f3164f",
   "metadata": {},
   "source": [
    "En el ejemplo, la variable `sumaFilas` contiene el resultado de la suma de las filas (`axis = 0`); mientras que la variable `sumaColumnas` contiene el resultado de la suma de las columnas (`axis = 1`) \n",
    "\n",
    "<div align=\"center\">\n",
    "    <img src=\"https://github.com/MCD-ESPOL/PCD/blob/main/notebooks/images/arr_b6.png?raw=true\" width=\"35%\">\n",
    "</div>"
   ]
  },
  {
   "cell_type": "code",
   "execution_count": null,
   "id": "a643d10b",
   "metadata": {},
   "outputs": [],
   "source": [
    "# En totalFilas asigne el resultado de sumar todas filas de la matriz7. Muestre el totalFilas."
   ]
  },
  {
   "cell_type": "code",
   "execution_count": 1,
   "id": "c4224a14",
   "metadata": {},
   "outputs": [],
   "source": [
    "# En totalColumnas asigne el resultado de sumar todas columnas de la matriz8. Muestre el totalColumnas."
   ]
  },
  {
   "cell_type": "markdown",
   "id": "e9fa0b83",
   "metadata": {},
   "source": [
    "## Archivos\n",
    "\n",
    "Descargue el archivo [produccion.zip](https://github.com/MCD-ESPOL/PCD/blob/main/notebooks/produccion.zip). Descomprima la carpeta **produccion** y mueva la carpeta en el mismo directorio de este cuaderno."
   ]
  },
  {
   "cell_type": "markdown",
   "id": "7806b1d3",
   "metadata": {},
   "source": [
    "## Carga de datos\n",
    "\n",
    "\n",
    "Utilice la función [loadtxt](https://numpy.org/doc/stable/reference/generated/numpy.loadtxt.html) para cargar los datos de un archivo de texto."
   ]
  },
  {
   "cell_type": "code",
   "execution_count": 23,
   "id": "553b6d59",
   "metadata": {},
   "outputs": [],
   "source": [
    "# En la variable zonas, cargue los datos de 'produccion/zonas.csv', \n",
    "# cuyo delimitador es ',' y el tipo de dato (dtype) es str\n",
    "\n",
    "zonas = "
   ]
  },
  {
   "cell_type": "code",
   "execution_count": 24,
   "id": "7bde8e73",
   "metadata": {},
   "outputs": [],
   "source": [
    "# En la variable productos, cargue los datos de 'produccion/productos.csv', \n",
    "# cuyo delimitador es ',' y el tipo de dato (dtype) es str\n",
    "\n",
    "productos = "
   ]
  },
  {
   "cell_type": "code",
   "execution_count": 25,
   "id": "dd3c79ef",
   "metadata": {},
   "outputs": [],
   "source": [
    "# En las variables octubre, noviembre y diciembre, cargue los datos de cada archivo con el nombre correspondiente\n",
    "# cuyo delimitador es ',' y el tipo de dato (dtype) es in\n",
    "\n",
    "octubre = "
   ]
  },
  {
   "cell_type": "markdown",
   "id": "7f5e9986",
   "metadata": {},
   "source": [
    "## Ejercicios\n",
    "\n",
    "Para los siguientes ejercicios, considere que las matrices `octubre`, `noviembre` y `diciembre` corresponden a la cantidad de productos elaborados en tres últimos los meses del año pasado. Las filas corresponden a los `productos` y las columnas corresponden a las `zonas` de origen.\n",
    "\n",
    "<br>\n",
    "<div align=\"center\">\n",
    "    <img src=\"https://github.com/MCD-ESPOL/PCD/blob/main/notebooks/images/arr_b8.png?raw=true\" width=\"75%\">\n",
    "</div>"
   ]
  },
  {
   "cell_type": "code",
   "execution_count": null,
   "id": "b1153a60",
   "metadata": {},
   "outputs": [],
   "source": []
  }
 ],
 "metadata": {
  "kernelspec": {
   "display_name": "Python 3 (ipykernel)",
   "language": "python",
   "name": "python3"
  },
  "language_info": {
   "codemirror_mode": {
    "name": "ipython",
    "version": 3
   },
   "file_extension": ".py",
   "mimetype": "text/x-python",
   "name": "python",
   "nbconvert_exporter": "python",
   "pygments_lexer": "ipython3",
   "version": "3.11.5"
  }
 },
 "nbformat": 4,
 "nbformat_minor": 5
}
