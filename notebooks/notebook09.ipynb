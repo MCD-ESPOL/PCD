{
 "cells": [
  {
   "cell_type": "markdown",
   "id": "a604243d",
   "metadata": {},
   "source": [
    "## Importar librerías externas"
   ]
  },
  {
   "cell_type": "code",
   "execution_count": null,
   "id": "b04412cd",
   "metadata": {},
   "outputs": [],
   "source": [
    "# Importe la librería numpy, con: import numpy as np\n",
    "# Importe la libreria matplotlib, con: import matplotlib.pyplot as plt\n",
    "import numpy as np\n",
    "import matplotlib.pyplot as plt"
   ]
  },
  {
   "cell_type": "markdown",
   "id": "4a060137",
   "metadata": {},
   "source": [
    "## Arreglos y matrices \n",
    "\n",
    "Convierta las listas en arreglos (1-dimensión) y matrices (2-dimensiones)."
   ]
  },
  {
   "cell_type": "code",
   "execution_count": null,
   "id": "c93a7c73",
   "metadata": {},
   "outputs": [],
   "source": [
    "# Convierta las listas en arreglos\n",
    "\n",
    "lista1 = [11, 12,  9,  3, 14,  9]\n",
    "lista2 = [ 6, 11, 10, 12,  9, 10]\n",
    "\n",
    "arreglo1 = np.array(lista1)\n",
    "arreglo2 = np.array(lista2)"
   ]
  },
  {
   "cell_type": "code",
   "execution_count": null,
   "id": "7f1bdfb4",
   "metadata": {},
   "outputs": [],
   "source": [
    "# Convierta las listas de listas en matrices\n",
    "\n",
    "listaDelistas1 = [[14,  5,  4, 13,  8, 14],\n",
    "                  [10,  2,  9,  9,  3,  4],\n",
    "                  [ 9,  4, 11,  7,  9, 13],\n",
    "                  [14,  5, 14, 12, 13,  9],\n",
    "                  [12,  3,  5,  5,  4,  8]]\n",
    "\n",
    "listaDelistas2 = [[14,  6,  2,  5, 10,  8],\n",
    "                  [13, 11, 14, 11,  4, 10],\n",
    "                  [14, 13,  3, 14,  5,  7],\n",
    "                  [ 2,  2,  8, 14,  2,  4],\n",
    "                  [11,  6, 12,  3,  4,  2]]\n",
    "\n",
    "matriz1 = np.array(listaDelistas1)\n",
    "matriz2 = np.array(listaDelistas2)"
   ]
  },
  {
   "cell_type": "markdown",
   "id": "1d67e1ee",
   "metadata": {},
   "source": [
    "## Operaciones por elementos"
   ]
  },
  {
   "cell_type": "markdown",
   "id": "d4272eac",
   "metadata": {},
   "source": [
    "### Con un escalar\n",
    "\n",
    "Numpy permite optimizar las operaciones entre [un arreglo y un escalar](https://scipy-lectures.org/intro/numpy/operations.html#id2); por ejemplo, el `arreglo3` contiene el resultado de la suma de cada elemento del `arreglo1` con `5.2`.\n",
    "\n",
    "\n",
    "\n",
    "<div align=\"center\">\n",
    "    <img src=\"https://github.com/MCD-ESPOL/PCD/blob/main/notebooks/images/arr_b1.png?raw=true\" width=\"35%\">\n",
    "</div>"
   ]
  },
  {
   "cell_type": "code",
   "execution_count": null,
   "id": "fcceab6a",
   "metadata": {},
   "outputs": [],
   "source": [
    "# En arreglo4 asigne el resultado de sumar arreglo2 y 4. Muestre el resultado de arreglo4."
   ]
  },
  {
   "cell_type": "code",
   "execution_count": null,
   "id": "319b4d42",
   "metadata": {},
   "outputs": [],
   "source": [
    "# En arreglo5 asigne el resultado de multiplicar arreglo1 y 2.3. Muestre el resultado de arreglo5."
   ]
  },
  {
   "cell_type": "code",
   "execution_count": null,
   "id": "5c5ff0fb",
   "metadata": {},
   "outputs": [],
   "source": [
    "# En arreglo6 asigne el resultado de restar arreglo2 y 2.3. Muestre el resultado de arreglo6."
   ]
  },
  {
   "cell_type": "markdown",
   "id": "133039e3",
   "metadata": {},
   "source": [
    "### Entre arreglos\n",
    "\n",
    "NumPy proporciona una amplia gama de [operaciones que se pueden realizar entre arreglos](https://www.programiz.com/python-programming/numpy/basic-array-operations). En el ejemplo, la multiplicación entre `arreglo1` y `arreglo2`ocurre entre cada elemento correspondiente, dado que tienen el mismo tamaño.\n",
    "\n",
    "\n",
    "<div align=\"center\">\n",
    "    <img src=\"https://github.com/MCD-ESPOL/PCD/blob/main/notebooks/images/arr_b2.png?raw=true\" width=\"35%\">\n",
    "</div>\n"
   ]
  },
  {
   "cell_type": "code",
   "execution_count": null,
   "id": "380c446c",
   "metadata": {},
   "outputs": [],
   "source": [
    "# En arreglo8 asigne el resultado de dividir arreglo1 y arreglo4. Muestre el arreglo8."
   ]
  },
  {
   "cell_type": "code",
   "execution_count": null,
   "id": "7f37d9a0",
   "metadata": {},
   "outputs": [],
   "source": [
    "# En arreglo9 asigne el resultado de restar arreglo2 y arreglo5. Muestre el arreglo9."
   ]
  },
  {
   "cell_type": "code",
   "execution_count": null,
   "id": "da5fcecb",
   "metadata": {},
   "outputs": [],
   "source": [
    "# En arreglo10 asigne el resultado de sumar arreglo5 y arreglo6. Muestre el arreglo10."
   ]
  },
  {
   "cell_type": "markdown",
   "id": "ab802e27",
   "metadata": {},
   "source": [
    "## Operaciones matriciales\n",
    "\n",
    "NumPy provee de operaciones matriciales como suma, multiplicación y elevación de elementos a una determinada potencia. El empleo de matrices nos permite ejecutar operaciones algebraicas, lo que nos permite ejecutar numerosas operaciones con grandes cantidades de datos de manera efectiva. [How to Implement Different Operations on Matrices in NumPy?](https://www.scaler.com/topics/numpy-implement-different-operations-on-matrix/) muestran las operaciones más comunes entre matrices mediante ejemplos."
   ]
  },
  {
   "cell_type": "code",
   "execution_count": null,
   "id": "a67be9f9",
   "metadata": {},
   "outputs": [],
   "source": []
  },
  {
   "cell_type": "code",
   "execution_count": 82,
   "id": "69a572e7",
   "metadata": {},
   "outputs": [
    {
     "name": "stdout",
     "output_type": "stream",
     "text": [
      "matriz6\n",
      "[[ 0 -1  2  8 -2  6]\n",
      " [-3 -9 -5 -2 -1 -6]\n",
      " [-5 -9  8 -7  4  6]\n",
      " [12  3  6 -2 11  5]\n",
      " [ 1 -3 -7  2  0  6]]\n"
     ]
    }
   ],
   "source": [
    "matriz6 = matriz1 - matriz2 \n",
    "\n",
    "print(\"matriz6\")\n",
    "print(matriz6)"
   ]
  },
  {
   "cell_type": "code",
   "execution_count": null,
   "id": "316ba3f5",
   "metadata": {},
   "outputs": [],
   "source": []
  },
  {
   "cell_type": "markdown",
   "id": "a9c83e01",
   "metadata": {},
   "source": [
    "### Operaciones con un escalar\n",
    "\n",
    "En el ejemplo, la `matriz3` contiene el resultado de multiplicar `1.12` y `matriz1`, al multiplicar cada elemento por el escalar.\n",
    "\n",
    "<div align=\"center\">\n",
    "    <img src=\"https://github.com/MCD-ESPOL/PCD/blob/main/notebooks/images/arr_b3.png?raw=true\" width=\"30%\">\n",
    "</div>"
   ]
  },
  {
   "cell_type": "code",
   "execution_count": null,
   "id": "22180789",
   "metadata": {},
   "outputs": [],
   "source": [
    "# En matriz4 asigne el resultado de sumar matriz2 y 3.2. Muestre el matriz4."
   ]
  },
  {
   "cell_type": "code",
   "execution_count": null,
   "id": "e4305791",
   "metadata": {},
   "outputs": [],
   "source": [
    "# En matriz5 asigne el resultado de dividir matriz1 para 2. Muestre el matriz5."
   ]
  },
  {
   "cell_type": "markdown",
   "id": "95dee026",
   "metadata": {},
   "source": [
    "### Operaciones matriciales\n",
    "\n",
    "Para matrices de igual número de filas y columnas, es posible realizar las operaciones matemáticas básicas para cada elemento de las matrices. Por ejemplo, `matriz6` contiene el resultado de restar `matriz1` y `matriz2`.\n",
    "\n",
    "<div align=\"center\">\n",
    "    <img src=\"https://github.com/MCD-ESPOL/PCD/blob/main/notebooks/images/arr_b4.png?raw=true\" width=\"30%\">\n",
    "</div>"
   ]
  },
  {
   "cell_type": "markdown",
   "id": "4966dc4c",
   "metadata": {},
   "source": [
    "### Operaciones de todos los elementos\n",
    "\n",
    "<div align=\"center\">\n",
    "    <img src=\"https://github.com/MCD-ESPOL/PCD/blob/main/notebooks/images/arr_b2.png?raw=true\" width=\"35%\">\n",
    "</div>"
   ]
  },
  {
   "cell_type": "markdown",
   "id": "d1eb2908",
   "metadata": {},
   "source": [
    "### Operaciones por columnas o por filas\n",
    "\n",
    "<div align=\"center\">\n",
    "    <img src=\"https://github.com/MCD-ESPOL/PCD/blob/main/notebooks/images/arr_b2.png?raw=true\" width=\"35%\">\n",
    "</div>"
   ]
  },
  {
   "cell_type": "markdown",
   "id": "8b5fe9e8",
   "metadata": {},
   "source": [
    "## Archivos\n",
    "\n",
    "Descargue el archivo [produccion.zip](https://github.com/MCD-ESPOL/PCD/blob/main/notebooks/produccion.zip). Descomprima la carpeta **produccion** y colóquela en el mismo directorio que este cuaderno."
   ]
  },
  {
   "cell_type": "markdown",
   "id": "4cef8b63",
   "metadata": {},
   "source": [
    "## Carga de datos\n",
    "\n",
    "\n",
    "Utilice la función [loadtxt](https://numpy.org/doc/stable/reference/generated/numpy.loadtxt.html) para cargar los datos de un archivo de texto."
   ]
  },
  {
   "cell_type": "code",
   "execution_count": null,
   "id": "882ea88d",
   "metadata": {},
   "outputs": [],
   "source": [
    "# En la variable zonas, cargue los datos de 'produccion/zonas.csv', \n",
    "# cuyo delimitador es ',' y el tipo de dato (dtype) es str\n",
    "\n",
    "zonas = np.loadtxt('produccion/zonas.csv', delimiter=\",\", dtype=str)"
   ]
  },
  {
   "cell_type": "code",
   "execution_count": null,
   "id": "9c389647",
   "metadata": {},
   "outputs": [],
   "source": [
    "# En la variable productos, cargue los datos de 'produccion/productos.csv', \n",
    "# cuyo delimitador es ',' y el tipo de dato (dtype) es str\n",
    "\n",
    "productos = np.loadtxt('produccion/productos.csv', delimiter=\",\", dtype=str)"
   ]
  },
  {
   "cell_type": "code",
   "execution_count": null,
   "id": "fbd8cb40",
   "metadata": {},
   "outputs": [],
   "source": [
    "# En las variables octubre, noviembre y diciembre, cargue los datos de cada archivo con el nombre correspondiente\n",
    "# cuyo delimitador es ',' y el tipo de dato (dtype) es in\n",
    "\n",
    "octubre = np.loadtxt('produccion/octubre.csv', delimiter=\",\", dtype=int)"
   ]
  },
  {
   "cell_type": "markdown",
   "id": "3973a051",
   "metadata": {},
   "source": [
    "## Ejercicios\n"
   ]
  },
  {
   "cell_type": "code",
   "execution_count": null,
   "id": "9ff78470",
   "metadata": {},
   "outputs": [],
   "source": []
  },
  {
   "cell_type": "code",
   "execution_count": null,
   "id": "616b1153",
   "metadata": {},
   "outputs": [],
   "source": [
    "np.random.randint(2,high= 15, size=(1, 6))"
   ]
  }
 ],
 "metadata": {
  "kernelspec": {
   "display_name": "Python 3 (ipykernel)",
   "language": "python",
   "name": "python3"
  },
  "language_info": {
   "codemirror_mode": {
    "name": "ipython",
    "version": 3
   },
   "file_extension": ".py",
   "mimetype": "text/x-python",
   "name": "python",
   "nbconvert_exporter": "python",
   "pygments_lexer": "ipython3",
   "version": "3.11.5"
  }
 },
 "nbformat": 4,
 "nbformat_minor": 5
}
