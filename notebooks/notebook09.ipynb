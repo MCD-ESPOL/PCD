{
 "cells": [
  {
   "cell_type": "markdown",
   "id": "6172ca88",
   "metadata": {},
   "source": [
    "# Tabla de Contenidos\n",
    "\n",
    "* [Contenidos](#Tabla-de-Contenidos)\n",
    "    * [Archivos](#Archivos)\n",
    "        * [Dataset: Movies and TV Shows listings on Netflix](#Dataset:-Movies-and-TV-Shows-listings-on-Netflix)\n",
    "    * [Pandas](#Pandas)\n",
    "        * [Importar librerías externas](#Importar-librerías-externas)\n",
    "        * [Carga de datos](#Carga-de-datos)\n",
    "        * [Dataframe](#Dataframe)\n",
    "        * [Nombre de las columnas](#Nombre-de-las-columnas)\n",
    "        * [Series](#Series)\n",
    "        * [Acceso a filas](#Acceso-a-filas)\n",
    "    * [Preprocesamiento de datos](#Preprocesamiento-de-datos)\n",
    "        * [Vista previa](#Vista-previa)\n",
    "        * [Dimensiones del dataframe](#Dimensiones-del-dataframe)\n",
    "* [Ejercicios](#Ejercicios)"
   ]
  },
  {
   "cell_type": "markdown",
   "id": "6fa098d0",
   "metadata": {},
   "source": [
    "## Archivos\n",
    "\n",
    "Descargue el archivo [netflix.csv](https://github.com/MCD-ESPOL/PCD/blob/main/notebooks/netflix.csv). Descargue y mueva el archivo al mismo directorio de este cuaderno."
   ]
  },
  {
   "cell_type": "markdown",
   "id": "61bf153a",
   "metadata": {},
   "source": [
    "### Dataset: Movies and TV Shows listings on Netflix\n",
    "\n",
    "El conjunto es parte del dataset original de [películas y shows en Netflix](https://www.kaggle.com/shivamb/netflix-shows/notebooks), en [Kaggle](https://www.kaggle.com/). \n",
    "\n",
    "\n",
    "<div align=\"center\">\n",
    "    <img src=\"https://storage.googleapis.com/kaggle-datasets-images/434238/824878/30c0ef57882454a0419a348088aa2306/dataset-cover.jpg\" width=\"50%\">\n",
    "    <figcaption>Fuente: <a href=\"https://www.kaggle.com/datasets/shivamb/netflix-shows/notebooks\">Netflix Movies and TV Shows - Kaggle</a></figcaption>\n",
    "</div>"
   ]
  },
  {
   "cell_type": "markdown",
   "id": "b1d57d9a",
   "metadata": {},
   "source": [
    "[Regresar a la TC](#Tabla-de-Contenidos)"
   ]
  },
  {
   "cell_type": "markdown",
   "id": "315de329",
   "metadata": {},
   "source": [
    "## Pandas\n",
    "\n",
    "[Pandas](https://pandas.pydata.org/) es una herramienta de manipulación y análisis de datos de código abierto, rápida, potente, flexible y fácil de usar. Utilice la [documentación](https://pandas.pydata.org/) de Pandas como referencia a lo largo de este cuaderno. \n",
    "\n",
    "<div align=\"center\">\n",
    "    <img src=\"https://github.com/MCD-ESPOL/PCD/blob/main/notebooks/images/pandas.png?raw=true\" width=\"35%\">\n",
    "</div>"
   ]
  },
  {
   "cell_type": "markdown",
   "id": "2bd130a1",
   "metadata": {},
   "source": [
    "### Importar librerías externas"
   ]
  },
  {
   "cell_type": "code",
   "execution_count": null,
   "id": "bb4a1974",
   "metadata": {},
   "outputs": [],
   "source": [
    "# Importe la librería pandas, con: import pandas as pd\n",
    "\n",
    "import pandas as pd"
   ]
  },
  {
   "cell_type": "markdown",
   "id": "64d13802",
   "metadata": {},
   "source": [
    "###  Carga de datos\n",
    "\n",
    "La función [read_csv](https://pandas.pydata.org/docs/reference/api/pandas.read_csv.html#pandas.read_csv) permite leer un archivo de valores separados por comas (csv) en DataFrame. También admite la iteración o división opcional del archivo en fragmentos."
   ]
  },
  {
   "cell_type": "code",
   "execution_count": null,
   "id": "6d26f24d",
   "metadata": {},
   "outputs": [],
   "source": [
    "# Asigne a datos el resultado de pd.read_csv( 'netflix.csv' )\n",
    "\n",
    "datos = pd.read_csv('netflix.csv')"
   ]
  },
  {
   "cell_type": "markdown",
   "id": "12dcc007",
   "metadata": {},
   "source": [
    "[Regresar a la TC](#Tabla-de-Contenidos)"
   ]
  },
  {
   "cell_type": "markdown",
   "id": "eb2e9a27",
   "metadata": {},
   "source": [
    "### Dataframe\n",
    "\n",
    "La variable _datos_ es un **dataframe**. Un _dataframe_ es un tipo de dato tabular bidimensionales, de tamaño variable, con columnas de tipo heterogéneo.\n",
    "\n",
    "\n",
    "\n",
    "<div align=\"center\">\n",
    "    <img src=\"https://media.geeksforgeeks.org/wp-content/uploads/finallpandas.png\" width=\"50%\">\n",
    "    <figcaption>Fuente: <a href=\"https://www.geeksforgeeks.org/python-pandas-dataframe/\">Pandas Dataframe</a></figcaption>\n",
    "</div>"
   ]
  },
  {
   "cell_type": "code",
   "execution_count": null,
   "id": "ad8c571f",
   "metadata": {},
   "outputs": [],
   "source": [
    "# Es mejor no utilizar la instrucción print para mostrar el contenido del dataframe. \n",
    "# Muestre el dataframe, colocando directamente el nombre del dataframe: datos\n",
    "\n",
    "datos"
   ]
  },
  {
   "cell_type": "markdown",
   "id": "ffa6e4f2",
   "metadata": {},
   "source": [
    "[Regresar a la TC](#Tabla-de-Contenidos)"
   ]
  },
  {
   "cell_type": "markdown",
   "id": "c32ce305",
   "metadata": {},
   "source": [
    "### Nombre de las columnas\n",
    "\n",
    "La propiedad [columns](https://pandas.pydata.org/docs/reference/api/pandas.DataFrame.columns.html#pandas.DataFrame.columns) sirve para obtener todos los nombres de las columnas en el dataframe."
   ]
  },
  {
   "cell_type": "code",
   "execution_count": null,
   "id": "c9637452",
   "metadata": {},
   "outputs": [],
   "source": [
    "# Muestre por pantalla los nombres de las columnas del dataframe datos, con: datos.columns\n",
    "\n",
    "datos.columns"
   ]
  },
  {
   "cell_type": "markdown",
   "id": "9885c997",
   "metadata": {},
   "source": [
    "El _dataframe_ datos tiene las columnas son `'show_id'`, `'type'`, `'title'`, `'director'`, `'cast'`, `'country'`, `'date_added'`, `'release_year'`, `'rating'`, `'duration'`, `'listed_in'` y `'description'`.\n"
   ]
  },
  {
   "cell_type": "code",
   "execution_count": null,
   "id": "87d9e115",
   "metadata": {},
   "outputs": [],
   "source": [
    "# Asigne a columnasTitulos la lista: ['title', 'director']\n",
    "# Asigne a dDirectorTitulo el dataframe datos filtrado por columnasTitulos, con: datos[columnasTitulos] \n",
    "# Muestre por pantalla el dataframe dDirectorTitulo\n",
    "\n",
    "columnasTitulos = ['title', 'director']\n",
    "dDirectorTitulo = datos[columnasTitulos] \n",
    "dDirectorTitulo"
   ]
  },
  {
   "cell_type": "markdown",
   "id": "5a545413",
   "metadata": {},
   "source": [
    "[Regresar a la TC](#Tabla-de-Contenidos)"
   ]
  },
  {
   "cell_type": "markdown",
   "id": "f4e4fae8",
   "metadata": {},
   "source": [
    "### Series\n",
    "\n",
    "Para Pandas, una serie es una matriz etiquetada unidimensional capaz de contener datos de cualquier tipo (enteros, cadenas, flotantes, objetos de Python, etc.).\n",
    "\n",
    "<div align=\"center\">\n",
    "    <img src=\"https://media.geeksforgeeks.org/wp-content/uploads/dataSER-1.png\" width=\"50%\">\n",
    "    <figcaption>Fuente: <a href=\"https://www.geeksforgeeks.org/python-pandas-series/\">Pandas Series</a></figcaption>\n",
    "</div>"
   ]
  },
  {
   "cell_type": "code",
   "execution_count": null,
   "id": "1fe145ca",
   "metadata": {},
   "outputs": [],
   "source": [
    "# Asigne a sTitulos la serie a partir de la columna 'titles' del dataframe datos, con: datos['title'] \n",
    "# Muestre por pantalla la sTitulos\n",
    "\n",
    "sTitulos = datos['title']\n",
    "sTitulos"
   ]
  },
  {
   "cell_type": "code",
   "execution_count": null,
   "id": "1a39523a",
   "metadata": {},
   "outputs": [],
   "source": [
    "# Asigne a sDirectores de la columna 'director' \n",
    "# Muestre por pantalla el dataframe sDirectores\n",
    "\n",
    "sDirectores = datos['director']\n",
    "sDirectores"
   ]
  },
  {
   "cell_type": "markdown",
   "id": "439a5c76",
   "metadata": {},
   "source": [
    "**Nota:** _NaN_ significa \"Not a Number\", es un valor especial utilizado para representar valores indefinidos o no representables, como el resultado de 0/0 o la raíz cuadrada de un número negativo."
   ]
  },
  {
   "cell_type": "markdown",
   "id": "c8ee371b",
   "metadata": {},
   "source": [
    "[Regresar a la TC](#Tabla-de-Contenidos)"
   ]
  },
  {
   "cell_type": "markdown",
   "id": "a5870fd3",
   "metadata": {},
   "source": [
    "### Acceso a filas\n",
    " \n",
    "[iloc](https://pandas.pydata.org/docs/reference/api/pandas.DataFrame.iloc.html) es un método utilizado para seleccionar filas y columnas de un DataFrame mediante indexación basada en números enteros. Es similar a la indexación utilizada en las matrices NumPy.\n",
    "\n",
    "<div align=\"center\">\n",
    "    <img src=\"https://www.w3resource.com/w3r_images/pandas-series-iloc-image-3.svg\" width=\"50%\">\n",
    "    <figcaption>Fuente: <a href=\"https://www.w3resource.com/pandas/series/series-at.php\">Pandas Series</a></figcaption>\n",
    "</div>"
   ]
  },
  {
   "cell_type": "code",
   "execution_count": null,
   "id": "9356588e",
   "metadata": {},
   "outputs": [],
   "source": [
    "# Asigne a sFila0 la serie en el índice 0 del dataframe datos, con:  datos.iloc[0]\n",
    "# Muestre por pantalla la sFila0\n",
    "\n",
    "sFila0 = datos.iloc[0]\n",
    "sFila0"
   ]
  },
  {
   "cell_type": "code",
   "execution_count": null,
   "id": "6dfa4fd8",
   "metadata": {},
   "outputs": [],
   "source": [
    "# Asigne a sFila673 la serie en el índice 673 del dataframe datos, con:  datos.iloc[673]\n",
    "# Muestre por pantalla la serie sFila673\n",
    "\n",
    "sFila673 = datos.iloc[673]\n",
    "sFila673"
   ]
  },
  {
   "cell_type": "markdown",
   "id": "40f2949b",
   "metadata": {},
   "source": [
    "[Regresar a la TC](#Tabla-de-Contenidos)"
   ]
  },
  {
   "cell_type": "markdown",
   "id": "686b45e4",
   "metadata": {},
   "source": [
    "## Preprocesamiento de datos\n",
    "\n",
    "Una vez que los datos se cargan en Python, el siguiente paso es comprender su estructura y características básicas. Con Pandas, convertimos grandes conjuntos de datos en _dataframe_. A continuación, se presentan algunas técnicas fundamentales para el análisis básico de datos:"
   ]
  },
  {
   "cell_type": "markdown",
   "id": "3b2c9e8c",
   "metadata": {},
   "source": [
    "### Dimensiones del dataframe\n",
    "\n",
    "La función [shape](https://pandas.pydata.org/docs/reference/api/pandas.DataFrame.shape.html#pandas.DataFrame.shape) muestra las dimensiones del dataframe.\n",
    "\n",
    "<div align=\"center\">\n",
    "    <img src=\"https://media.geeksforgeeks.org/wp-content/uploads/finallpandas.png\" width=\"50%\">\n",
    "    <figcaption>Fuente: <a href=\"https://www.geeksforgeeks.org/python-pandas-dataframe/\">Pandas Dataframe</a></figcaption>\n",
    "</div>"
   ]
  },
  {
   "cell_type": "code",
   "execution_count": null,
   "id": "9677c070",
   "metadata": {},
   "outputs": [],
   "source": [
    "# Muestre por pantalla la cantidad de filas y columnas del dataframe datos, con: datos.shape\n",
    "\n",
    "datos.shape"
   ]
  },
  {
   "cell_type": "markdown",
   "id": "de4da9b9",
   "metadata": {},
   "source": [
    "El _dataframe_ datos está compuesto 6234 filas y 12 las columnas \n",
    "\n",
    "\n"
   ]
  },
  {
   "cell_type": "markdown",
   "id": "4b88110e",
   "metadata": {},
   "source": [
    "[Regresar a la TC](#Tabla-de-Contenidos)"
   ]
  },
  {
   "cell_type": "markdown",
   "id": "66d4a25c",
   "metadata": {},
   "source": [
    "### Vista previa \n",
    "\n",
    "Para obtener una vista previa del dataframe:\n",
    "\n",
    "- La función [head](https://pandas.pydata.org/docs/reference/api/pandas.DataFrame.head.html#pandas.DataFrame.head) devuelve **las primeras _n_ filas** del objeto según su posición. \n",
    "- La función [tail](https://pandas.pydata.org/docs/reference/api/pandas.DataFrame.tail.html#pandas.DataFrame.tail) devuelve **las últimas _n_ filas** del objeto en función de la posición. \n",
    "\n",
    "Ambas son útiles para verificar datos rápidamente, por ejemplo, después de ordenar o agregar filas."
   ]
  },
  {
   "cell_type": "code",
   "execution_count": null,
   "id": "7316a0df",
   "metadata": {},
   "outputs": [],
   "source": [
    "# Es mejor no utilizar la instrucción print para mostrar el contenido del dataframe. \n",
    "# Muestre los primeros 5 elementos del dataframe datos, con: datos.head()\n",
    "\n",
    "datos.head()"
   ]
  },
  {
   "cell_type": "code",
   "execution_count": null,
   "id": "5fcb771e",
   "metadata": {},
   "outputs": [],
   "source": [
    "# Muestre los últimos 5 elementos del dataframe datos, con: datos.tail()\n",
    "\n",
    "datos.tail()"
   ]
  },
  {
   "cell_type": "markdown",
   "id": "14df0878",
   "metadata": {},
   "source": [
    "[Regresar a la TC](#Tabla-de-Contenidos)"
   ]
  },
  {
   "cell_type": "code",
   "execution_count": null,
   "id": "0f58df8c",
   "metadata": {},
   "outputs": [],
   "source": [
    "# Muestre los tipos de datos de cada columna del dataframe datos, con: datos.dtypes \n",
    "\n",
    "datos.dtypes"
   ]
  },
  {
   "cell_type": "code",
   "execution_count": null,
   "id": "e3acde82",
   "metadata": {},
   "outputs": [],
   "source": [
    "# Muestre los elementos NaN del dataframe datos, con: datos.isnull()\n",
    "\n",
    "datos.isnull()"
   ]
  },
  {
   "cell_type": "code",
   "execution_count": null,
   "id": "7d7e5a84",
   "metadata": {},
   "outputs": [],
   "source": [
    "# Muestre un resumen con la cantidad de elementos NaN del dataframe datos, con: datos.isnull().sum()\n",
    "\n",
    "datos.isnull().sum()"
   ]
  },
  {
   "cell_type": "code",
   "execution_count": null,
   "id": "67ce48e0",
   "metadata": {},
   "outputs": [],
   "source": [
    "# Muestre las medidas de tendencia central, dispersión y forma de la distribución del dataframe datos\n",
    "# de las columnas numéricas, con: datos.describe()\n",
    "\n",
    "datos.describe()"
   ]
  },
  {
   "cell_type": "code",
   "execution_count": null,
   "id": "25abe592",
   "metadata": {},
   "outputs": [],
   "source": [
    "# Muestre las medidas de tendencia central, dispersión y forma de la distribución del dataframe datos\n",
    "# de todas las columnas, con: datos.describe(include='all')\n",
    "\n",
    "datos.describe(include='all')"
   ]
  },
  {
   "cell_type": "code",
   "execution_count": null,
   "id": "a9593f4e",
   "metadata": {},
   "outputs": [],
   "source": [
    "# Asigne a datos2 el resultado de eliminar las filas con valores nulos (NaN), con: datos.dropna()\n",
    "# Muestre el dataframe datos2\n",
    "\n",
    "datos2 = datos.dropna()\n",
    "datos2"
   ]
  },
  {
   "cell_type": "code",
   "execution_count": null,
   "id": "6673f0c5",
   "metadata": {},
   "outputs": [],
   "source": [
    "# Muestre por pantalla la cantidad de filas y columnas del dataframe datos y datos2, con: datos.shape, datos2.shape\n",
    "datos.shape, datos2.shape"
   ]
  },
  {
   "cell_type": "code",
   "execution_count": null,
   "id": "5e6c2a79",
   "metadata": {},
   "outputs": [],
   "source": [
    "# Muestre los elementos NaN del dataframe datos2, con: datos2.isnull()\n",
    "datos2.isnull()"
   ]
  },
  {
   "cell_type": "code",
   "execution_count": null,
   "id": "bc7f8f73",
   "metadata": {},
   "outputs": [],
   "source": [
    "# Muestre un resumen con la cantidad de elementos NaN del dataframe datos2, con: datos2.isnull().sum()\n",
    "datos2.isnull().sum()\n"
   ]
  },
  {
   "cell_type": "code",
   "execution_count": null,
   "id": "92532745",
   "metadata": {},
   "outputs": [],
   "source": [
    "# Muestre las medidas de tendencia central, dispersión y forma de la distribución del dataframe datos2\n",
    "# de las columnas numéricas, con: datos2.describe()\n",
    "datos2.describe()"
   ]
  },
  {
   "cell_type": "code",
   "execution_count": null,
   "id": "7fff7d3a",
   "metadata": {},
   "outputs": [],
   "source": [
    "# Muestre las medidas de tendencia central, dispersión y forma de la distribución del dataframe datos2\n",
    "# de todas las columnas, con: datos2.describe(include='all')\n",
    "\n",
    "datos2.describe(include='all')"
   ]
  },
  {
   "cell_type": "code",
   "execution_count": null,
   "id": "0e9dd037",
   "metadata": {},
   "outputs": [],
   "source": [
    "datos2['rating'].value_counts()"
   ]
  },
  {
   "cell_type": "markdown",
   "id": "d3f31d16",
   "metadata": {},
   "source": [
    "[Regresar a la TC](#Tabla-de-Contenidos)"
   ]
  },
  {
   "cell_type": "markdown",
   "id": "82beb42b",
   "metadata": {},
   "source": [
    "## Ejercicios"
   ]
  },
  {
   "cell_type": "markdown",
   "id": "47a69c0a",
   "metadata": {},
   "source": [
    "**Ejercicio 1:** Muestre la distribución de tipos de productos (columna `type`) del conjunto de datos **datos2**."
   ]
  },
  {
   "cell_type": "code",
   "execution_count": null,
   "id": "48e497e1",
   "metadata": {},
   "outputs": [],
   "source": [
    "# Asigne a serie6 la serie en la columna 'type' del dataframe datos2. \n",
    "# Muestre por pantalla la serie6\n",
    "\n",
    "serie6 = datos2['type']\n",
    "serie6"
   ]
  },
  {
   "cell_type": "code",
   "execution_count": null,
   "id": "2be81d06",
   "metadata": {},
   "outputs": [],
   "source": [
    "# Asigne a conteoPorTipo el conteo de los valores en serie6, con: serie6.value_counts(). \n",
    "# Muestre por pantalla conteoPorTipo.\n",
    "\n",
    "conteoPorTipo = serie6.value_counts()\n",
    "conteoPorTipo"
   ]
  },
  {
   "cell_type": "code",
   "execution_count": null,
   "id": "ddcc9c04",
   "metadata": {},
   "outputs": [],
   "source": [
    "# Muestre el gráfico de barras el resultado del conteo, con: conteoPorTipo.plot.bar()\n",
    "\n",
    "conteoPorTipo.plot.bar()"
   ]
  },
  {
   "cell_type": "markdown",
   "id": "f4efb63d",
   "metadata": {},
   "source": [
    "**Ejercicio 2:** Muestre en un gráfico de barras la distribución de los años de lanzamiento (columna `release_year`) en el dataframe **datos2**."
   ]
  },
  {
   "cell_type": "code",
   "execution_count": null,
   "id": "ebff6808",
   "metadata": {},
   "outputs": [],
   "source": []
  },
  {
   "cell_type": "markdown",
   "id": "992c81f6",
   "metadata": {},
   "source": [
    "**Ejercicio 3:** Muestre en un gráfico de barras con el top5 del conteo de paises (columna `country`) en el dataframe **datos2**"
   ]
  },
  {
   "cell_type": "code",
   "execution_count": null,
   "id": "1f782880",
   "metadata": {},
   "outputs": [],
   "source": []
  },
  {
   "cell_type": "markdown",
   "id": "c09f01b9",
   "metadata": {},
   "source": [
    "[Regresar a la TC](#Tabla-de-Contenidos)"
   ]
  }
 ],
 "metadata": {
  "kernelspec": {
   "display_name": "Python 3 (ipykernel)",
   "language": "python",
   "name": "python3"
  },
  "language_info": {
   "codemirror_mode": {
    "name": "ipython",
    "version": 3
   },
   "file_extension": ".py",
   "mimetype": "text/x-python",
   "name": "python",
   "nbconvert_exporter": "python",
   "pygments_lexer": "ipython3",
   "version": "3.11.5"
  }
 },
 "nbformat": 4,
 "nbformat_minor": 5
}
