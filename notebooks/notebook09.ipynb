{
 "cells": [
  {
   "cell_type": "markdown",
   "id": "6172ca88",
   "metadata": {},
   "source": [
    "# Tabla de Contenidos\n",
    "\n",
    "* [Contenidos](#Tabla-de-Contenidos)\n",
    "    * [Pandas](#Pandas)\n",
    "* [Ejercicios](#Ejercicios)"
   ]
  },
  {
   "cell_type": "markdown",
   "id": "315de329",
   "metadata": {},
   "source": [
    "## Pandas\n",
    "\n",
    "[Pandas](https://pandas.pydata.org/) es una herramienta de manipulación y análisis de datos de código abierto, rápida, potente, flexible y fácil de usar. Utilice la [documentación](https://pandas.pydata.org/) de Pandas como referencia a lo largo de este cuaderno. \n",
    "\n",
    "<div align=\"center\">\n",
    "    <img src=\"https://github.com/MCD-ESPOL/PCD/blob/main/notebooks/images/pandas.png?raw=true\" width=\"35%\">\n",
    "</div>"
   ]
  },
  {
   "cell_type": "markdown",
   "id": "2bd130a1",
   "metadata": {},
   "source": [
    "## Importar librerías externas"
   ]
  },
  {
   "cell_type": "code",
   "execution_count": 1,
   "id": "bb4a1974",
   "metadata": {},
   "outputs": [],
   "source": [
    "# Importe la librería pandas, con: import pandas as pd\n",
    "\n",
    "import pandas as pd"
   ]
  },
  {
   "cell_type": "markdown",
   "id": "6fa098d0",
   "metadata": {},
   "source": [
    "## Archivos\n",
    "\n",
    "Descargue el archivo [netflix.csv](https://github.com/MCD-ESPOL/PCD/blob/main/notebooks/netflix.csv). Descargue y mueva el archivo al mismo directorio de este cuaderno."
   ]
  },
  {
   "cell_type": "markdown",
   "id": "61bf153a",
   "metadata": {},
   "source": [
    "## Dataset: Movies and TV Shows listings on Netflix\n",
    "\n",
    "El conjunto es parte del dataset original de [películas y shows en Netflix](https://www.kaggle.com/shivamb/netflix-shows/notebooks), en [Kaggle](https://www.kaggle.com/). "
   ]
  },
  {
   "cell_type": "markdown",
   "id": "64d13802",
   "metadata": {},
   "source": [
    "###  Carga de datos\n",
    "\n",
    "La función [read_csv](https://pandas.pydata.org/docs/reference/api/pandas.read_csv.html#pandas.read_csv) permite leer un archivo de valores separados por comas (csv) en DataFrame. También admite la iteración o división opcional del archivo en fragmentos."
   ]
  },
  {
   "cell_type": "code",
   "execution_count": 2,
   "id": "6d26f24d",
   "metadata": {},
   "outputs": [],
   "source": [
    "# Asigne a datos el resultado de pd.read_csv( 'netflix.csv' )\n",
    "\n",
    "datos = pd.read_csv('netflix.csv')"
   ]
  },
  {
   "cell_type": "markdown",
   "id": "eb2e9a27",
   "metadata": {},
   "source": [
    "### Dataframe\n",
    "\n",
    "La variable _datos_ es un **dataframe**. Un _dataframe_ es un tipo de dato tabular bidimensionales, de tamaño variable, con columnas de tipo heterogéneo.\n",
    "\n",
    "\n",
    "\n",
    "<div align=\"center\">\n",
    "    <img src=\"https://media.geeksforgeeks.org/wp-content/uploads/finallpandas.png\" width=\"50%\">\n",
    "    <figcaption>Fuente: <a href=\"https://www.geeksforgeeks.org/python-pandas-dataframe/\">Pandas Dataframe</a></figcaption>\n",
    "</div>"
   ]
  },
  {
   "cell_type": "code",
   "execution_count": 3,
   "id": "ad8c571f",
   "metadata": {},
   "outputs": [
    {
     "data": {
      "text/html": [
       "<div>\n",
       "<style scoped>\n",
       "    .dataframe tbody tr th:only-of-type {\n",
       "        vertical-align: middle;\n",
       "    }\n",
       "\n",
       "    .dataframe tbody tr th {\n",
       "        vertical-align: top;\n",
       "    }\n",
       "\n",
       "    .dataframe thead th {\n",
       "        text-align: right;\n",
       "    }\n",
       "</style>\n",
       "<table border=\"1\" class=\"dataframe\">\n",
       "  <thead>\n",
       "    <tr style=\"text-align: right;\">\n",
       "      <th></th>\n",
       "      <th>show_id</th>\n",
       "      <th>type</th>\n",
       "      <th>title</th>\n",
       "      <th>director</th>\n",
       "      <th>cast</th>\n",
       "      <th>country</th>\n",
       "      <th>date_added</th>\n",
       "      <th>release_year</th>\n",
       "      <th>rating</th>\n",
       "      <th>duration</th>\n",
       "      <th>listed_in</th>\n",
       "      <th>description</th>\n",
       "    </tr>\n",
       "  </thead>\n",
       "  <tbody>\n",
       "    <tr>\n",
       "      <th>0</th>\n",
       "      <td>81145628</td>\n",
       "      <td>Movie</td>\n",
       "      <td>Norm of the North: King Sized Adventure</td>\n",
       "      <td>Richard Finn, Tim Maltby</td>\n",
       "      <td>Alan Marriott, Andrew Toth, Brian Dobson, Cole...</td>\n",
       "      <td>United States, India, South Korea, China</td>\n",
       "      <td>September 9, 2019</td>\n",
       "      <td>2019</td>\n",
       "      <td>TV-PG</td>\n",
       "      <td>90 min</td>\n",
       "      <td>Children &amp; Family Movies, Comedies</td>\n",
       "      <td>Before planning an awesome wedding for his gra...</td>\n",
       "    </tr>\n",
       "    <tr>\n",
       "      <th>1</th>\n",
       "      <td>80117401</td>\n",
       "      <td>Movie</td>\n",
       "      <td>Jandino: Whatever it Takes</td>\n",
       "      <td>NaN</td>\n",
       "      <td>Jandino Asporaat</td>\n",
       "      <td>United Kingdom</td>\n",
       "      <td>September 9, 2016</td>\n",
       "      <td>2016</td>\n",
       "      <td>TV-MA</td>\n",
       "      <td>94 min</td>\n",
       "      <td>Stand-Up Comedy</td>\n",
       "      <td>Jandino Asporaat riffs on the challenges of ra...</td>\n",
       "    </tr>\n",
       "    <tr>\n",
       "      <th>2</th>\n",
       "      <td>70234439</td>\n",
       "      <td>TV Show</td>\n",
       "      <td>Transformers Prime</td>\n",
       "      <td>NaN</td>\n",
       "      <td>Peter Cullen, Sumalee Montano, Frank Welker, J...</td>\n",
       "      <td>United States</td>\n",
       "      <td>September 8, 2018</td>\n",
       "      <td>2013</td>\n",
       "      <td>TV-Y7-FV</td>\n",
       "      <td>1 Season</td>\n",
       "      <td>Kids' TV</td>\n",
       "      <td>With the help of three human allies, the Autob...</td>\n",
       "    </tr>\n",
       "    <tr>\n",
       "      <th>3</th>\n",
       "      <td>80058654</td>\n",
       "      <td>TV Show</td>\n",
       "      <td>Transformers: Robots in Disguise</td>\n",
       "      <td>NaN</td>\n",
       "      <td>Will Friedle, Darren Criss, Constance Zimmer, ...</td>\n",
       "      <td>United States</td>\n",
       "      <td>September 8, 2018</td>\n",
       "      <td>2016</td>\n",
       "      <td>TV-Y7</td>\n",
       "      <td>1 Season</td>\n",
       "      <td>Kids' TV</td>\n",
       "      <td>When a prison ship crash unleashes hundreds of...</td>\n",
       "    </tr>\n",
       "    <tr>\n",
       "      <th>4</th>\n",
       "      <td>80125979</td>\n",
       "      <td>Movie</td>\n",
       "      <td>#realityhigh</td>\n",
       "      <td>Fernando Lebrija</td>\n",
       "      <td>Nesta Cooper, Kate Walsh, John Michael Higgins...</td>\n",
       "      <td>United States</td>\n",
       "      <td>September 8, 2017</td>\n",
       "      <td>2017</td>\n",
       "      <td>TV-14</td>\n",
       "      <td>99 min</td>\n",
       "      <td>Comedies</td>\n",
       "      <td>When nerdy high schooler Dani finally attracts...</td>\n",
       "    </tr>\n",
       "    <tr>\n",
       "      <th>...</th>\n",
       "      <td>...</td>\n",
       "      <td>...</td>\n",
       "      <td>...</td>\n",
       "      <td>...</td>\n",
       "      <td>...</td>\n",
       "      <td>...</td>\n",
       "      <td>...</td>\n",
       "      <td>...</td>\n",
       "      <td>...</td>\n",
       "      <td>...</td>\n",
       "      <td>...</td>\n",
       "      <td>...</td>\n",
       "    </tr>\n",
       "    <tr>\n",
       "      <th>6229</th>\n",
       "      <td>80000063</td>\n",
       "      <td>TV Show</td>\n",
       "      <td>Red vs. Blue</td>\n",
       "      <td>NaN</td>\n",
       "      <td>Burnie Burns, Jason Saldaña, Gustavo Sorola, G...</td>\n",
       "      <td>United States</td>\n",
       "      <td>NaN</td>\n",
       "      <td>2015</td>\n",
       "      <td>NR</td>\n",
       "      <td>13 Seasons</td>\n",
       "      <td>TV Action &amp; Adventure, TV Comedies, TV Sci-Fi ...</td>\n",
       "      <td>This parody of first-person shooter games, mil...</td>\n",
       "    </tr>\n",
       "    <tr>\n",
       "      <th>6230</th>\n",
       "      <td>70286564</td>\n",
       "      <td>TV Show</td>\n",
       "      <td>Maron</td>\n",
       "      <td>NaN</td>\n",
       "      <td>Marc Maron, Judd Hirsch, Josh Brener, Nora Zeh...</td>\n",
       "      <td>United States</td>\n",
       "      <td>NaN</td>\n",
       "      <td>2016</td>\n",
       "      <td>TV-MA</td>\n",
       "      <td>4 Seasons</td>\n",
       "      <td>TV Comedies</td>\n",
       "      <td>Marc Maron stars as Marc Maron, who interviews...</td>\n",
       "    </tr>\n",
       "    <tr>\n",
       "      <th>6231</th>\n",
       "      <td>80116008</td>\n",
       "      <td>Movie</td>\n",
       "      <td>Little Baby Bum: Nursery Rhyme Friends</td>\n",
       "      <td>NaN</td>\n",
       "      <td>NaN</td>\n",
       "      <td>NaN</td>\n",
       "      <td>NaN</td>\n",
       "      <td>2016</td>\n",
       "      <td>NaN</td>\n",
       "      <td>60 min</td>\n",
       "      <td>Movies</td>\n",
       "      <td>Nursery rhymes and original music for children...</td>\n",
       "    </tr>\n",
       "    <tr>\n",
       "      <th>6232</th>\n",
       "      <td>70281022</td>\n",
       "      <td>TV Show</td>\n",
       "      <td>A Young Doctor's Notebook and Other Stories</td>\n",
       "      <td>NaN</td>\n",
       "      <td>Daniel Radcliffe, Jon Hamm, Adam Godley, Chris...</td>\n",
       "      <td>United Kingdom</td>\n",
       "      <td>NaN</td>\n",
       "      <td>2013</td>\n",
       "      <td>TV-MA</td>\n",
       "      <td>2 Seasons</td>\n",
       "      <td>British TV Shows, TV Comedies, TV Dramas</td>\n",
       "      <td>Set during the Russian Revolution, this comic ...</td>\n",
       "    </tr>\n",
       "    <tr>\n",
       "      <th>6233</th>\n",
       "      <td>70153404</td>\n",
       "      <td>TV Show</td>\n",
       "      <td>Friends</td>\n",
       "      <td>NaN</td>\n",
       "      <td>Jennifer Aniston, Courteney Cox, Lisa Kudrow, ...</td>\n",
       "      <td>United States</td>\n",
       "      <td>NaN</td>\n",
       "      <td>2003</td>\n",
       "      <td>TV-14</td>\n",
       "      <td>10 Seasons</td>\n",
       "      <td>Classic &amp; Cult TV, TV Comedies</td>\n",
       "      <td>This hit sitcom follows the merry misadventure...</td>\n",
       "    </tr>\n",
       "  </tbody>\n",
       "</table>\n",
       "<p>6234 rows × 12 columns</p>\n",
       "</div>"
      ],
      "text/plain": [
       "       show_id     type                                        title  \\\n",
       "0     81145628    Movie      Norm of the North: King Sized Adventure   \n",
       "1     80117401    Movie                   Jandino: Whatever it Takes   \n",
       "2     70234439  TV Show                           Transformers Prime   \n",
       "3     80058654  TV Show             Transformers: Robots in Disguise   \n",
       "4     80125979    Movie                                 #realityhigh   \n",
       "...        ...      ...                                          ...   \n",
       "6229  80000063  TV Show                                 Red vs. Blue   \n",
       "6230  70286564  TV Show                                        Maron   \n",
       "6231  80116008    Movie       Little Baby Bum: Nursery Rhyme Friends   \n",
       "6232  70281022  TV Show  A Young Doctor's Notebook and Other Stories   \n",
       "6233  70153404  TV Show                                      Friends   \n",
       "\n",
       "                      director  \\\n",
       "0     Richard Finn, Tim Maltby   \n",
       "1                          NaN   \n",
       "2                          NaN   \n",
       "3                          NaN   \n",
       "4             Fernando Lebrija   \n",
       "...                        ...   \n",
       "6229                       NaN   \n",
       "6230                       NaN   \n",
       "6231                       NaN   \n",
       "6232                       NaN   \n",
       "6233                       NaN   \n",
       "\n",
       "                                                   cast  \\\n",
       "0     Alan Marriott, Andrew Toth, Brian Dobson, Cole...   \n",
       "1                                      Jandino Asporaat   \n",
       "2     Peter Cullen, Sumalee Montano, Frank Welker, J...   \n",
       "3     Will Friedle, Darren Criss, Constance Zimmer, ...   \n",
       "4     Nesta Cooper, Kate Walsh, John Michael Higgins...   \n",
       "...                                                 ...   \n",
       "6229  Burnie Burns, Jason Saldaña, Gustavo Sorola, G...   \n",
       "6230  Marc Maron, Judd Hirsch, Josh Brener, Nora Zeh...   \n",
       "6231                                                NaN   \n",
       "6232  Daniel Radcliffe, Jon Hamm, Adam Godley, Chris...   \n",
       "6233  Jennifer Aniston, Courteney Cox, Lisa Kudrow, ...   \n",
       "\n",
       "                                       country         date_added  \\\n",
       "0     United States, India, South Korea, China  September 9, 2019   \n",
       "1                               United Kingdom  September 9, 2016   \n",
       "2                                United States  September 8, 2018   \n",
       "3                                United States  September 8, 2018   \n",
       "4                                United States  September 8, 2017   \n",
       "...                                        ...                ...   \n",
       "6229                             United States                NaN   \n",
       "6230                             United States                NaN   \n",
       "6231                                       NaN                NaN   \n",
       "6232                            United Kingdom                NaN   \n",
       "6233                             United States                NaN   \n",
       "\n",
       "      release_year    rating    duration  \\\n",
       "0             2019     TV-PG      90 min   \n",
       "1             2016     TV-MA      94 min   \n",
       "2             2013  TV-Y7-FV    1 Season   \n",
       "3             2016     TV-Y7    1 Season   \n",
       "4             2017     TV-14      99 min   \n",
       "...            ...       ...         ...   \n",
       "6229          2015        NR  13 Seasons   \n",
       "6230          2016     TV-MA   4 Seasons   \n",
       "6231          2016       NaN      60 min   \n",
       "6232          2013     TV-MA   2 Seasons   \n",
       "6233          2003     TV-14  10 Seasons   \n",
       "\n",
       "                                              listed_in  \\\n",
       "0                    Children & Family Movies, Comedies   \n",
       "1                                       Stand-Up Comedy   \n",
       "2                                              Kids' TV   \n",
       "3                                              Kids' TV   \n",
       "4                                              Comedies   \n",
       "...                                                 ...   \n",
       "6229  TV Action & Adventure, TV Comedies, TV Sci-Fi ...   \n",
       "6230                                        TV Comedies   \n",
       "6231                                             Movies   \n",
       "6232           British TV Shows, TV Comedies, TV Dramas   \n",
       "6233                     Classic & Cult TV, TV Comedies   \n",
       "\n",
       "                                            description  \n",
       "0     Before planning an awesome wedding for his gra...  \n",
       "1     Jandino Asporaat riffs on the challenges of ra...  \n",
       "2     With the help of three human allies, the Autob...  \n",
       "3     When a prison ship crash unleashes hundreds of...  \n",
       "4     When nerdy high schooler Dani finally attracts...  \n",
       "...                                                 ...  \n",
       "6229  This parody of first-person shooter games, mil...  \n",
       "6230  Marc Maron stars as Marc Maron, who interviews...  \n",
       "6231  Nursery rhymes and original music for children...  \n",
       "6232  Set during the Russian Revolution, this comic ...  \n",
       "6233  This hit sitcom follows the merry misadventure...  \n",
       "\n",
       "[6234 rows x 12 columns]"
      ]
     },
     "execution_count": 3,
     "metadata": {},
     "output_type": "execute_result"
    }
   ],
   "source": [
    "# Muestre el dataframe datos\n",
    "\n",
    "datos"
   ]
  },
  {
   "cell_type": "markdown",
   "id": "66d4a25c",
   "metadata": {},
   "source": [
    "### Vista previa\n",
    "\n",
    "Para obtener una vista previa del dataframe:\n",
    "\n",
    "- La función [head](https://pandas.pydata.org/docs/reference/api/pandas.DataFrame.head.html#pandas.DataFrame.head) devuelve **las primeras _n_ filas** del objeto según su posición. \n",
    "- La función [tail](https://pandas.pydata.org/docs/reference/api/pandas.DataFrame.tail.html#pandas.DataFrame.tail) devuelve **las últimas _n_ filas** del objeto en función de la posición. \n",
    "\n",
    "Ambas son útiles para verificar datos rápidamente, por ejemplo, después de ordenar o agregar filas."
   ]
  },
  {
   "cell_type": "code",
   "execution_count": null,
   "id": "7316a0df",
   "metadata": {},
   "outputs": [],
   "source": [
    "# Muestre los primeros 5 elementos del dataframe datos, con: datos.head()\n",
    "\n",
    "datos.head()"
   ]
  },
  {
   "cell_type": "code",
   "execution_count": null,
   "id": "5fcb771e",
   "metadata": {},
   "outputs": [],
   "source": [
    "# Muestre los últimos 5 elementos del dataframe datos, con: datos.tail()\n",
    "\n",
    "datos.tail()"
   ]
  },
  {
   "cell_type": "markdown",
   "id": "3b2c9e8c",
   "metadata": {},
   "source": [
    "### Filas y columnas\n",
    "\n",
    "La función [shape](https://pandas.pydata.org/docs/reference/api/pandas.DataFrame.shape.html#pandas.DataFrame.shape) muestra las dimensiones del dataframe."
   ]
  },
  {
   "cell_type": "code",
   "execution_count": 4,
   "id": "9677c070",
   "metadata": {},
   "outputs": [
    {
     "data": {
      "text/plain": [
       "(6234, 12)"
      ]
     },
     "execution_count": 4,
     "metadata": {},
     "output_type": "execute_result"
    }
   ],
   "source": [
    "# Muestre por pantalla la cantidad de filas y columnas del dataframe datos, con: datos.shape\n",
    "\n",
    "datos.shape"
   ]
  },
  {
   "cell_type": "markdown",
   "id": "de4da9b9",
   "metadata": {},
   "source": [
    "El _dataframe_ datos está compuesto 6234 filas y 12 las columnas \n",
    "\n",
    "\n"
   ]
  },
  {
   "cell_type": "markdown",
   "id": "c32ce305",
   "metadata": {},
   "source": [
    "### Nombre de las columnas"
   ]
  },
  {
   "cell_type": "code",
   "execution_count": null,
   "id": "c9637452",
   "metadata": {},
   "outputs": [],
   "source": [
    "# Muestre por pantalla los nombres de las columnas del dataframe datos, con: datos.columns\n",
    "datos.columns"
   ]
  },
  {
   "cell_type": "markdown",
   "id": "9885c997",
   "metadata": {},
   "source": [
    "El _dataframe_ datos tiene las columnas son `'show_id'`, `'type'`, `'title'`, `'director'`, `'cast'`, `'country'`, `'date_added'`, `'release_year'`, `'rating'`, `'duration'`, `'listed_in'` y `'description'`.\n"
   ]
  },
  {
   "cell_type": "markdown",
   "id": "f4e4fae8",
   "metadata": {},
   "source": [
    "### Acceso a columnas"
   ]
  },
  {
   "cell_type": "code",
   "execution_count": null,
   "id": "1fe145ca",
   "metadata": {},
   "outputs": [],
   "source": [
    "# Asigne a df1 la columna 'titles' del dataframe datos, con: datos['title'] \n",
    "# Muestre por pantalla el dataframe df1\n",
    "df1 = datos['title']\n",
    "df1"
   ]
  },
  {
   "cell_type": "code",
   "execution_count": null,
   "id": "1a39523a",
   "metadata": {},
   "outputs": [],
   "source": [
    "# Asigne a df2 la columna 'director' del dataframe datos, con: datos['director'] \n",
    "# Muestre por pantalla el dataframe df2\n",
    "df2 = datos['director']\n"
   ]
  },
  {
   "cell_type": "code",
   "execution_count": null,
   "id": "6fda0d3c",
   "metadata": {},
   "outputs": [],
   "source": [
    "df2"
   ]
  },
  {
   "cell_type": "markdown",
   "id": "439a5c76",
   "metadata": {},
   "source": [
    "El _NaN_ significa \"Not a Number\", es un valor especial utilizado para representar valores indefinidos o no representables, como el resultado de 0/0 o la raíz cuadrada de un número negativo."
   ]
  },
  {
   "cell_type": "code",
   "execution_count": null,
   "id": "87d9e115",
   "metadata": {},
   "outputs": [],
   "source": [
    "# Asigne a df3 las columnas 'title' y 'director' del dataframe datos, con: datos[['title', 'director']] \n",
    "# Muestre por pantalla el dataframe df3\n",
    "df3 = datos[['title', 'director']] \n",
    "df3"
   ]
  },
  {
   "cell_type": "markdown",
   "id": "a5870fd3",
   "metadata": {},
   "source": [
    "### Acceso a filas"
   ]
  },
  {
   "cell_type": "code",
   "execution_count": null,
   "id": "9356588e",
   "metadata": {},
   "outputs": [],
   "source": [
    "# Asigne a df4 la fila en el índice 0 del dataframe datos, con:  datos.iloc[0]\n",
    "# Muestre por pantalla el dataframe df4\n",
    "df4 = datos.iloc[0]\n",
    "df4"
   ]
  },
  {
   "cell_type": "code",
   "execution_count": null,
   "id": "6dfa4fd8",
   "metadata": {},
   "outputs": [],
   "source": [
    "# Asigne a df5 la fila en el índice 0 del dataframe datos, con:  datos.iloc[673]\n",
    "# Muestre por pantalla el dataframe df5\n",
    "df5 = datos.iloc[673]\n",
    "df5"
   ]
  },
  {
   "cell_type": "code",
   "execution_count": null,
   "id": "0c02bc06",
   "metadata": {},
   "outputs": [],
   "source": [
    "# Asigne a df6 la fila en el índice 0 del dataframe datos, con:  datos.iloc[1027]\n",
    "# Muestre por pantalla el dataframe df6\n",
    "df6 = datos.iloc[1027]\n",
    "df6"
   ]
  },
  {
   "cell_type": "markdown",
   "id": "686b45e4",
   "metadata": {},
   "source": [
    "## Descripción del dataset"
   ]
  },
  {
   "cell_type": "code",
   "execution_count": null,
   "id": "0f58df8c",
   "metadata": {},
   "outputs": [],
   "source": [
    "# Muestre los tipos de datos de cada columna del dataframe datos, con: datos.dtypes \n",
    "\n",
    "datos.dtypes"
   ]
  },
  {
   "cell_type": "code",
   "execution_count": null,
   "id": "e3acde82",
   "metadata": {},
   "outputs": [],
   "source": [
    "# Muestre los elementos NaN del dataframe datos, con: datos.isnull()\n",
    "\n",
    "datos.isnull()"
   ]
  },
  {
   "cell_type": "code",
   "execution_count": null,
   "id": "7d7e5a84",
   "metadata": {},
   "outputs": [],
   "source": [
    "# Muestre un resumen con la cantidad de elementos NaN del dataframe datos, con: datos.isnull().sum()\n",
    "\n",
    "datos.isnull().sum()"
   ]
  },
  {
   "cell_type": "code",
   "execution_count": null,
   "id": "67ce48e0",
   "metadata": {},
   "outputs": [],
   "source": [
    "# Muestre las medidas de tendencia central, dispersión y forma de la distribución del dataframe datos\n",
    "# de las columnas numéricas, con: datos.describe()\n",
    "\n",
    "datos.describe()"
   ]
  },
  {
   "cell_type": "code",
   "execution_count": null,
   "id": "25abe592",
   "metadata": {},
   "outputs": [],
   "source": [
    "# Muestre las medidas de tendencia central, dispersión y forma de la distribución del dataframe datos\n",
    "# de todas las columnas, con: datos.describe(include='all')\n",
    "\n",
    "datos.describe(include='all')"
   ]
  },
  {
   "cell_type": "markdown",
   "id": "54eb1ffb",
   "metadata": {},
   "source": [
    "## Limpieza de datos\n",
    "\n"
   ]
  },
  {
   "cell_type": "code",
   "execution_count": null,
   "id": "a9593f4e",
   "metadata": {},
   "outputs": [],
   "source": [
    "# Asigne a datos2 el resultado de eliminar las filas con valores nulos (NaN), con: datos.dropna()\n",
    "# Muestre el dataframe datos2\n",
    "datos2 = datos.dropna()\n",
    "datos2"
   ]
  },
  {
   "cell_type": "code",
   "execution_count": null,
   "id": "6673f0c5",
   "metadata": {},
   "outputs": [],
   "source": [
    "# Muestre por pantalla la cantidad de filas y columnas del dataframe datos y datos2, con: datos.shape, datos2.shape\n",
    "datos.shape, datos2.shape"
   ]
  },
  {
   "cell_type": "code",
   "execution_count": null,
   "id": "5e6c2a79",
   "metadata": {},
   "outputs": [],
   "source": [
    "# Muestre los elementos NaN del dataframe datos2, con: datos2.isnull()\n",
    "datos2.isnull()"
   ]
  },
  {
   "cell_type": "code",
   "execution_count": null,
   "id": "bc7f8f73",
   "metadata": {},
   "outputs": [],
   "source": [
    "# Muestre un resumen con la cantidad de elementos NaN del dataframe datos2, con: datos2.isnull().sum()\n",
    "datos2.isnull().sum()\n"
   ]
  },
  {
   "cell_type": "code",
   "execution_count": null,
   "id": "92532745",
   "metadata": {},
   "outputs": [],
   "source": [
    "# Muestre las medidas de tendencia central, dispersión y forma de la distribución del dataframe datos2\n",
    "# de las columnas numéricas, con: datos2.describe()\n",
    "datos2.describe()"
   ]
  },
  {
   "cell_type": "code",
   "execution_count": null,
   "id": "7fff7d3a",
   "metadata": {},
   "outputs": [],
   "source": [
    "# Muestre las medidas de tendencia central, dispersión y forma de la distribución del dataframe datos2\n",
    "# de todas las columnas, con: datos2.describe(include='all')\n",
    "datos2.describe(include='all')"
   ]
  },
  {
   "cell_type": "markdown",
   "id": "82beb42b",
   "metadata": {},
   "source": [
    "## Ejercicios\n",
    "\n",
    "En adelante, utilice el dataframe `datos2` para reproducir los siguientes ejercicios."
   ]
  },
  {
   "cell_type": "markdown",
   "id": "0d260be0",
   "metadata": {},
   "source": [
    "**Ejercicio 1:** \n",
    "\n",
    "Muestre en un gráfico de barras del conteo de tipos (columna `type`) en el dataframe **datos2**"
   ]
  },
  {
   "cell_type": "code",
   "execution_count": null,
   "id": "48e497e1",
   "metadata": {},
   "outputs": [],
   "source": [
    "# 1. Asigne a df5 la columna 'type' del dataframe datos2. Muestre por pantalla df5\n",
    "df5 = datos2['type']\n",
    "df5"
   ]
  },
  {
   "cell_type": "code",
   "execution_count": null,
   "id": "2be81d06",
   "metadata": {},
   "outputs": [],
   "source": [
    "# 2. Asigne a conteoPorTipo el conteo de los valores en df5, con: df5.value_counts(). Muestre por pantalla conteoPorTipo.\n",
    "conteoPorTipo = df5.value_counts()\n",
    "conteoPorTipo"
   ]
  },
  {
   "cell_type": "code",
   "execution_count": null,
   "id": "ddcc9c04",
   "metadata": {},
   "outputs": [],
   "source": [
    "# 3. Muestre el gráfico de barras el resultado del conteo, con: conteoPorTipo.plot.bar()\n",
    "conteoPorTipo.plot.bar()"
   ]
  },
  {
   "cell_type": "markdown",
   "id": "f4efb63d",
   "metadata": {},
   "source": [
    "**Ejercicio 2:** \n",
    "\n",
    "Muestre en un gráfico de barras el del top5 del conteo de años de lanzamiento (columna `release_year`) en el dataframe **datos2**"
   ]
  },
  {
   "cell_type": "code",
   "execution_count": null,
   "id": "ebff6808",
   "metadata": {},
   "outputs": [],
   "source": [
    "df6 = datos2['release_year']\n",
    "conteoPorEstreno = df6.value_counts()\n",
    "conteoPorEstreno[:5].plot.bar()"
   ]
  },
  {
   "cell_type": "markdown",
   "id": "992c81f6",
   "metadata": {},
   "source": [
    "**Ejercicio 3:** \n",
    "\n",
    "Muestre en un gráfico de barras el del top5 del conteo de paises (columna `country`) en el dataframe **datos2**"
   ]
  },
  {
   "cell_type": "code",
   "execution_count": null,
   "id": "1f782880",
   "metadata": {},
   "outputs": [],
   "source": []
  }
 ],
 "metadata": {
  "kernelspec": {
   "display_name": "Python 3 (ipykernel)",
   "language": "python",
   "name": "python3"
  },
  "language_info": {
   "codemirror_mode": {
    "name": "ipython",
    "version": 3
   },
   "file_extension": ".py",
   "mimetype": "text/x-python",
   "name": "python",
   "nbconvert_exporter": "python",
   "pygments_lexer": "ipython3",
   "version": "3.11.5"
  }
 },
 "nbformat": 4,
 "nbformat_minor": 5
}
