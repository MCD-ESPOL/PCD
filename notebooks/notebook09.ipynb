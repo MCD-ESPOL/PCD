{
 "cells": [
  {
   "cell_type": "markdown",
   "id": "5c60bd85",
   "metadata": {},
   "source": [
    "## Operaciones vectoriales"
   ]
  },
  {
   "cell_type": "markdown",
   "id": "dcc534a6",
   "metadata": {},
   "source": [
    "### Suma vectorial"
   ]
  },
  {
   "cell_type": "markdown",
   "id": "b18f5140",
   "metadata": {},
   "source": [
    "### Multiplicación por un escalar"
   ]
  },
  {
   "cell_type": "markdown",
   "id": "ab802e27",
   "metadata": {},
   "source": [
    "## Operaciones matriciales"
   ]
  },
  {
   "cell_type": "markdown",
   "id": "5ca1d789",
   "metadata": {},
   "source": [
    "### Suma de todos los elementos"
   ]
  },
  {
   "cell_type": "markdown",
   "id": "74dbecf0",
   "metadata": {},
   "source": [
    "### Suma por columnas"
   ]
  },
  {
   "cell_type": "markdown",
   "id": "479e6e26",
   "metadata": {},
   "source": [
    "### Suma por filas"
   ]
  },
  {
   "cell_type": "markdown",
   "id": "3d88d5cf",
   "metadata": {},
   "source": [
    "## Ejercicios"
   ]
  }
 ],
 "metadata": {
  "kernelspec": {
   "display_name": "Python 3 (ipykernel)",
   "language": "python",
   "name": "python3"
  },
  "language_info": {
   "codemirror_mode": {
    "name": "ipython",
    "version": 3
   },
   "file_extension": ".py",
   "mimetype": "text/x-python",
   "name": "python",
   "nbconvert_exporter": "python",
   "pygments_lexer": "ipython3",
   "version": "3.11.5"
  }
 },
 "nbformat": 4,
 "nbformat_minor": 5
}
