{
 "cells": [
  {
   "cell_type": "markdown",
   "id": "debf5094",
   "metadata": {},
   "source": [
    "# Estructuras de control: iterativas\n",
    "\n",
    "Cuando se requiere hacer un conjunto de cálculos sobre una serie de datos, es decir, hacer un esquema de recorrido (iteración definida) o aplicar el bloque de instrucciones sobre un grupo de elementos (números, string, etc.) es preferible utilizar la sentencia **for**\n",
    "\n",
    "\n",
    "\n",
    "<div align=\"center\">\n",
    "    <img src=\"https://github.com/MCD-ESPOL/PCD/blob/main/notebooks/images/for_loop.png?raw=true\" width=\"60%\">\n",
    "</div>\n"
   ]
  },
  {
   "cell_type": "code",
   "execution_count": 1,
   "id": "1de55323",
   "metadata": {},
   "outputs": [],
   "source": [
    "# Muestre por pantalla, en una una línea independiente, cada uno de los nombres que se encuentran en la lista nombres_libros\n",
    "nombres_libros = ['El señor de los anillos', 'Cien años de soledad', 'Harry Potter', '1984', 'Orgullo y prejuicio', 'Crimen y castigo', 'El gran Gatsby', 'Matar un ruiseñor', 'La Odisea', 'Don Quijote de la Mancha']\n"
   ]
  },
  {
   "cell_type": "code",
   "execution_count": 4,
   "id": "7e91b295",
   "metadata": {},
   "outputs": [],
   "source": [
    "# Muestre por pantalla, en una una línea independiente, solo los valores mayores que 100\n",
    "# que se encuentran en la lista ventas\n",
    "ventas = [150, 120, 200, 90, 80, 110, 95, 130, 75, 160]\n"
   ]
  },
  {
   "cell_type": "code",
   "execution_count": 12,
   "id": "27969bfb",
   "metadata": {},
   "outputs": [
    {
     "name": "stdout",
     "output_type": "stream",
     "text": [
      "150\n",
      "120\n",
      "90\n",
      "80\n",
      "110\n",
      "95\n",
      "130\n",
      "75\n",
      "8\n"
     ]
    }
   ],
   "source": [
    "# Muestre por pantalla, en una una línea independiente, solo los valores mayores que 60 y menores e iguales que 150\n",
    "# que se encuentran en la lista ventas\n",
    "\n",
    "c = 0\n",
    "for elemento in ventas:\n",
    "    if elemento > 60 and elemento <= 150:\n",
    "        print(elemento)\n",
    "        c += 1\n",
    "        \n",
    "print(c, len(ventas\n",
    "            ))"
   ]
  },
  {
   "cell_type": "code",
   "execution_count": null,
   "id": "584a4f26",
   "metadata": {},
   "outputs": [],
   "source": []
  }
 ],
 "metadata": {
  "kernelspec": {
   "display_name": "Python 3 (ipykernel)",
   "language": "python",
   "name": "python3"
  },
  "language_info": {
   "codemirror_mode": {
    "name": "ipython",
    "version": 3
   },
   "file_extension": ".py",
   "mimetype": "text/x-python",
   "name": "python",
   "nbconvert_exporter": "python",
   "pygments_lexer": "ipython3",
   "version": "3.11.5"
  }
 },
 "nbformat": 4,
 "nbformat_minor": 5
}
