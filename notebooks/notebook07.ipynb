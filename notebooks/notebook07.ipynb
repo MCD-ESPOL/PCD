{
 "cells": [
  {
   "cell_type": "markdown",
   "id": "439eefe9",
   "metadata": {},
   "source": [
    "# Arreglos\n",
    "\n",
    "Los arreglos, y matrices, son tipos de datos estructurados homogéneos (un solo tipo de dato), optimizados para el cálculo usando vectores y matrices. Los arrays suelen contener números enteros, reales y complejos. \n",
    "\n",
    "Python no tiene soporte integrado para arreglos. Para esto, utilizamos el librería [NumPy](https://numpy.org/), cuya documentación se encuentra en [NumPy documentation](https://numpy.org/doc/stable/).\n",
    "\n",
    "<div align=\"center\">\n",
    "    <img src=\"https://github.com/MCD-ESPOL/PCD/blob/main/notebooks/images/logo.svg?raw=true\" width=\"15%\">\n",
    "</div>"
   ]
  },
  {
   "cell_type": "markdown",
   "id": "7b0a8c7f",
   "metadata": {},
   "source": [
    "## Importar librerías externas"
   ]
  },
  {
   "cell_type": "code",
   "execution_count": 2,
   "id": "819bddb7",
   "metadata": {},
   "outputs": [],
   "source": [
    "# Importe el librería numpy, con: import numpy as np\n",
    "# Importe la librería matplotlib.pyplot, con: import matplotlib.pyplot as plt\n",
    "\n",
    "\n"
   ]
  },
  {
   "cell_type": "markdown",
   "id": "9c68c0c9",
   "metadata": {},
   "source": [
    "## De lista a arreglos\n",
    "\n",
    "Para crear [un arreglo a partir de una lista](https://numpy.org/doc/stable/user/basics.creation.html#converting-python-sequences-to-numpy-arrays), utilizaremos la función **array**.\n",
    "\n",
    "\n",
    "\n",
    "<div align=\"center\">\n",
    "    <img src=\"https://github.com/MCD-ESPOL/PCD/blob/main/notebooks/images/arr_ini.png?raw=true\" width=\"40%\">\n",
    "</div>"
   ]
  },
  {
   "cell_type": "code",
   "execution_count": 15,
   "id": "671090c2",
   "metadata": {},
   "outputs": [],
   "source": [
    "# Convierta las listas en los arreglos nombres_librosArr, genero_literarioArr y ventasArr\n",
    "\n",
    "nombres_libros = ['El señor de los anillos', 'Cien años de soledad', 'Harry Potter', '1984', 'Orgullo y prejuicio', 'Crimen y castigo', 'El gran Gatsby', 'Matar un ruiseñor', 'La Odisea', 'Don Quijote de la Mancha']\n",
    "genero_literario = ['Fantasía', 'Realismo mágico', 'Fantasía', 'Distopía', 'Novela romántica', 'Novela psicológica', 'Ficción moderna', 'Novela clásica', 'Epopeya', 'Novela clásica']\n",
    "ventas = [150, 120, 200, 90, 80, 110, 95, 130, 75, 160]\n",
    "\n",
    "\n"
   ]
  },
  {
   "cell_type": "code",
   "execution_count": null,
   "id": "9ba821b6",
   "metadata": {},
   "outputs": [],
   "source": [
    "# Muestre los arreglos nombres_librosArr, genero_literarioArr y ventasArr\n"
   ]
  },
  {
   "cell_type": "markdown",
   "id": "ef9043d2",
   "metadata": {},
   "source": [
    "## Operaciones con arreglos\n",
    "\n",
    "Numpy ofrece una [grupo de operaciones agregadas](https://www.tutorialgateway.org/python-numpy-aggregate-functions/), como: "
   ]
  },
  {
   "cell_type": "code",
   "execution_count": null,
   "id": "072fa5d9",
   "metadata": {},
   "outputs": [],
   "source": []
  },
  {
   "cell_type": "markdown",
   "id": "0e998744",
   "metadata": {},
   "source": [
    "## Indexación y Rebanadas\n",
    "\n",
    "Al igual que las listas, es posible acceder a un elemento (indexación) o a un grupo de elementos (rebanadas) de en un arreglo.\n",
    "\n",
    "<div align=\"center\">\n",
    "    <img src=\"https://github.com/MCD-ESPOL/PCD/blob/main/notebooks/images/arr_index_slicing.png?raw=true\" width=\"50%\">\n",
    "</div>"
   ]
  },
  {
   "cell_type": "code",
   "execution_count": 16,
   "id": "0a313dbd",
   "metadata": {},
   "outputs": [],
   "source": [
    "# Muestre los 3 primeros elementos de cada uno de los arreglos nombres_librosArr, genero_literarioArr y ventasArr\n"
   ]
  },
  {
   "cell_type": "markdown",
   "id": "8c7f8189",
   "metadata": {},
   "source": [
    "## Búsqueda (filtrado) de valores\n",
    "\n",
    "A diferencia de las listas, es posible crear un arreglo (mascaraArr) a partir de aplicar una **condición** a todos los elementos de un arreglo.\n",
    "\n",
    "\n",
    "\n",
    "<div align=\"center\">\n",
    "    <img src=\"https://github.com/MCD-ESPOL/PCD/blob/main/notebooks/images/arr_mask.png?raw=true\" width=\"60%\">\n",
    "</div>"
   ]
  },
  {
   "cell_type": "code",
   "execution_count": null,
   "id": "863601e3",
   "metadata": {},
   "outputs": [],
   "source": [
    "# Cree una máscara con el arreglo genero_literarioArr cuyos elementos sean igual que 'Fantasía'"
   ]
  },
  {
   "cell_type": "code",
   "execution_count": null,
   "id": "002257fa",
   "metadata": {},
   "outputs": [],
   "source": []
  },
  {
   "cell_type": "code",
   "execution_count": 19,
   "id": "bef14a78",
   "metadata": {},
   "outputs": [],
   "source": [
    "valoresLst = [1,2,3,4]\n",
    "valoresArr = np.array( valoresLst )  "
   ]
  },
  {
   "cell_type": "code",
   "execution_count": 30,
   "id": "46dcfc22",
   "metadata": {},
   "outputs": [
    {
     "name": "stdout",
     "output_type": "stream",
     "text": [
      "Arreglo con la evaluación de los elementos:  [False  True  True  True]\n"
     ]
    }
   ],
   "source": [
    "mascaraArr = valoresArr >= 2\n",
    "print(\"Arreglo con la evaluación de los elementos: \", mascaraArr)"
   ]
  },
  {
   "cell_type": "code",
   "execution_count": 31,
   "id": "a3561c76",
   "metadata": {},
   "outputs": [
    {
     "name": "stdout",
     "output_type": "stream",
     "text": [
      "Arreglo con los elementos que cumplen con la condición:  [2 3 4]\n"
     ]
    }
   ],
   "source": [
    "\n",
    "mayoresArr = valoresArr[mascaraArr]\n",
    "print(\"Arreglo con los elementos que cumplen con la condición: \", mayoresArr)"
   ]
  }
 ],
 "metadata": {
  "kernelspec": {
   "display_name": "Python 3 (ipykernel)",
   "language": "python",
   "name": "python3"
  },
  "language_info": {
   "codemirror_mode": {
    "name": "ipython",
    "version": 3
   },
   "file_extension": ".py",
   "mimetype": "text/x-python",
   "name": "python",
   "nbconvert_exporter": "python",
   "pygments_lexer": "ipython3",
   "version": "3.11.5"
  }
 },
 "nbformat": 4,
 "nbformat_minor": 5
}
