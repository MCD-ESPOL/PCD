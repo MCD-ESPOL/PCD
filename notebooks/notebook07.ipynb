{
 "cells": [
  {
   "cell_type": "markdown",
   "id": "7b0c402c",
   "metadata": {},
   "source": [
    "# Arreglos\n",
    "\n",
    "Los arreglos, y matrices, son tipos de datos estructurados homogéneos (un solo tipo de dato), optimizados para el cálculo usando vectores y matrices. Los arrays suelen contener números enteros, reales y complejos. \n",
    "\n",
    "Python no tiene soporte integrado para arreglos. Para esto, utilizamos el librería [NumPy](https://numpy.org/), cuya documentación se encuentra en [NumPy documentation](https://numpy.org/doc/stable/).\n",
    "\n",
    "<div align=\"center\">\n",
    "    <img src=\"https://github.com/MCD-ESPOL/PCD/blob/main/notebooks/images/logo.svg?raw=true\" width=\"15%\">\n",
    "</div>"
   ]
  },
  {
   "cell_type": "markdown",
   "id": "696cfdd2",
   "metadata": {},
   "source": [
    "## Importar librerías externas"
   ]
  },
  {
   "cell_type": "code",
   "execution_count": 2,
   "id": "ac335f42",
   "metadata": {},
   "outputs": [],
   "source": [
    "# Importe el librería numpy, con: import numpy as np\n",
    "\n"
   ]
  },
  {
   "cell_type": "markdown",
   "id": "9e6469de",
   "metadata": {},
   "source": [
    "## De lista a arreglos\n",
    "\n",
    "Para crear [un arreglo a partir de una lista](https://numpy.org/doc/stable/user/basics.creation.html#converting-python-sequences-to-numpy-arrays), utilizaremos la función **array**.\n",
    "\n",
    "\n",
    "\n",
    "<div align=\"center\">\n",
    "    <img src=\"https://github.com/MCD-ESPOL/PCD/blob/main/notebooks/images/arr_ini.png?raw=true\" width=\"40%\">\n",
    "</div>"
   ]
  },
  {
   "cell_type": "code",
   "execution_count": 15,
   "id": "6ab451ce",
   "metadata": {},
   "outputs": [],
   "source": [
    "# Convierta las listas en los arreglos nombres_librosArr, genero_literarioArr y ventasArr\n",
    "\n",
    "nombres_libros = ['El señor de los anillos', 'Cien años de soledad', 'Harry Potter', '1984', 'Orgullo y prejuicio', 'Crimen y castigo', 'El gran Gatsby', 'Matar un ruiseñor', 'La Odisea', 'Don Quijote de la Mancha']\n",
    "genero_literario = ['Fantasía', 'Realismo mágico', 'Fantasía', 'Distopía', 'Novela romántica', 'Novela psicológica', 'Ficción moderna', 'Novela clásica', 'Epopeya', 'Novela clásica']\n",
    "ventas = [150, 120, 200, 90, 80, 110, 95, 130, 75, 160]\n",
    "\n",
    "\n"
   ]
  },
  {
   "cell_type": "code",
   "execution_count": null,
   "id": "dd9397ac",
   "metadata": {},
   "outputs": [],
   "source": [
    "# Muestre los arreglos nombres_librosArr, genero_literarioArr y ventasArr\n"
   ]
  },
  {
   "cell_type": "markdown",
   "id": "03466f8c",
   "metadata": {},
   "source": [
    "## Operaciones con arreglos\n",
    "\n",
    "Numpy ofrece un grupo de [funciones agregadas](https://www.tutorialgateway.org/python-numpy-aggregate-functions/), como: **sum**, **mean**, **std**,  **max**, **min**, **argmin**, **argmax** y muchas más.\n",
    "\n",
    "La lista completa de [funciones matemáticas](https://numpy.org/doc/stable/reference/routines.math.html) puede encontrarla en la documentación de Numpy.\n",
    "\n",
    "\n",
    "\n",
    "\n",
    "<div align=\"center\">\n",
    "    <img src=\"https://github.com/MCD-ESPOL/PCD/blob/main/notebooks/images/arr_aggr.png?raw=true\" width=\"60%\">\n",
    "</div>\n",
    "\n"
   ]
  },
  {
   "cell_type": "code",
   "execution_count": 43,
   "id": "bb821abc",
   "metadata": {},
   "outputs": [],
   "source": [
    "# Muestre el valor máximo del arreglo ventasArr\n"
   ]
  },
  {
   "cell_type": "code",
   "execution_count": null,
   "id": "552f3ff9",
   "metadata": {},
   "outputs": [],
   "source": [
    "# Obtenga el índice del valor máximo del arreglo ventasArr\n",
    "\n",
    "\n",
    "# Con el valor anterior, indexe arreglos nombres_librosArr y genero_literarioArr\n",
    "# Muestre los elementos obtenidos de la indexación\n",
    "\n",
    "\n"
   ]
  },
  {
   "cell_type": "markdown",
   "id": "72cf78e5",
   "metadata": {},
   "source": [
    "## Indexación y Rebanadas\n",
    "\n",
    "Al igual que las listas, es posible acceder a un elemento (indexación) o a un grupo de elementos (rebanadas) de en un arreglo.\n",
    "\n",
    "<div align=\"center\">\n",
    "    <img src=\"https://github.com/MCD-ESPOL/PCD/blob/main/notebooks/images/arr_index_slicing.png?raw=true\" width=\"50%\">\n",
    "</div>"
   ]
  },
  {
   "cell_type": "code",
   "execution_count": 16,
   "id": "7f6cb8d8",
   "metadata": {},
   "outputs": [],
   "source": [
    "# Muestre los 3 primeros elementos de cada uno de los arreglos nombres_librosArr, genero_literarioArr y ventasArr\n"
   ]
  },
  {
   "cell_type": "markdown",
   "id": "7e8bcb4c",
   "metadata": {},
   "source": [
    "## Búsqueda (filtrado) de valores\n",
    "\n",
    "A diferencia de las listas, es posible crear un arreglo (mascaraArr) a partir de aplicar una **condición** a todos los elementos de un arreglo.\n",
    "\n",
    "\n",
    "\n",
    "<div align=\"center\">\n",
    "    <img src=\"https://github.com/MCD-ESPOL/PCD/blob/main/notebooks/images/arr_mask.png?raw=true\" width=\"60%\">\n",
    "</div>"
   ]
  },
  {
   "cell_type": "code",
   "execution_count": null,
   "id": "6ae5eb53",
   "metadata": {},
   "outputs": [],
   "source": [
    "# Cree una máscara con el arreglo genero_literarioArr cuyos elementos sean igual que 'Fantasía'\n"
   ]
  },
  {
   "cell_type": "code",
   "execution_count": 44,
   "id": "968074bc",
   "metadata": {},
   "outputs": [],
   "source": [
    "# Utilice la máscara para filtrar el arreglo nombres_librosArr\n",
    "# Muestre el arreglo resultante\n"
   ]
  },
  {
   "cell_type": "code",
   "execution_count": null,
   "id": "86c707c4",
   "metadata": {},
   "outputs": [],
   "source": [
    "# Utilice la máscara para filtrar el arreglo ventasArr\n",
    "# Muestre el arreglo resultante\n",
    "# Obtenga y muestre el total \n",
    "\n"
   ]
  }
 ],
 "metadata": {
  "kernelspec": {
   "display_name": "Python 3 (ipykernel)",
   "language": "python",
   "name": "python3"
  },
  "language_info": {
   "codemirror_mode": {
    "name": "ipython",
    "version": 3
   },
   "file_extension": ".py",
   "mimetype": "text/x-python",
   "name": "python",
   "nbconvert_exporter": "python",
   "pygments_lexer": "ipython3",
   "version": "3.11.5"
  }
 },
 "nbformat": 4,
 "nbformat_minor": 5
}
