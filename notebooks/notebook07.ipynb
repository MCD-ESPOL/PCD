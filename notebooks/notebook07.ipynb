{
 "cells": [
  {
   "cell_type": "markdown",
   "id": "6172ca88",
   "metadata": {},
   "source": [
    "# Tabla de Contenidos\n",
    "\n",
    "* [Contenidos](#Tabla-de-Contenidos)\n",
    "    * [Matrices](#Matrices)\n",
    "        * [Importar librerías externas](#Importar-librerías-externas)\n",
    "        * [De listas de listas a matrices](#De-listas-de-listas-a-matrices)\n",
    "        * [Tamaño de la matriz](#Tamaño-de-la-matriz)\n",
    "        * [Acceso por índices](#Acceso-por-índices)\n",
    "            * [Acceso a elementos](#Acceso-a-elementos)\n",
    "            * [Acceso a filas](#Acceso-a-filas)\n",
    "            * [Acceso a columnas](#Acceso-a-columnas)\n",
    "        * [Submatrices](#Submatrices)\n",
    "        * [Archivos](#Archivos)\n",
    "            * [Carga de datos](#Carga-de-datos)\n",
    "* [Ejercicios](#Ejercicios)"
   ]
  },
  {
   "cell_type": "markdown",
   "id": "c4d733f7",
   "metadata": {},
   "source": [
    "## Matrices\n",
    "\n",
    "Las matrices son una estructura de datos bidimencional donde los elementos se organizan en filas y columnas. Python no tiene soporte integrado para matrices; sin embargo, [NumPy](https://numpy.org/) permite el manejo de matrices como **lista dentro de listas**.\n",
    "\n",
    "Ejemplo de esto: \n",
    "\n",
    "<div align=\"center\">\n",
    "    <img src=\"https://github.com/MCD-ESPOL/PCD/blob/main/notebooks/images/matriz.webp?raw=true\" width=\"40%\">\n",
    "    Fuente: <a href=\"https://pythondiario.com/2019/01/matrices-en-python-y-numpy.html\">Matrices en Python y NumPy</a>\n",
    "</div>\n",
    "\n",
    "Esta matriz es una matriz de 3x4 porque tiene 3 filas y 4 columnas. \n",
    "\n",
    "Revise la documentación en [NumPy documentation](https://numpy.org/doc/stable/)."
   ]
  },
  {
   "cell_type": "markdown",
   "id": "b28a49a3",
   "metadata": {},
   "source": [
    "## Importar librerías externas\n"
   ]
  },
  {
   "cell_type": "code",
   "execution_count": null,
   "id": "86f533aa",
   "metadata": {},
   "outputs": [],
   "source": [
    "# Importe la librería numpy, con: import numpy as np\n",
    "# Importe la libreria matplotlib, con: import matplotlib.pyplot as plt\n",
    "\n",
    "import numpy as np\n",
    "import matplotlib.pyplot as plt"
   ]
  },
  {
   "cell_type": "markdown",
   "id": "8b09a8da",
   "metadata": {},
   "source": [
    "<details>\n",
    "  <summary><div>→ Haga click aquí para ver la solución</div></summary>\n",
    "  <pre lang=\"python\"><code>\n",
    "import numpy as np\n",
    "import matplotlib.pyplot as plt\n",
    "  </code></pre>\n",
    "</details> "
   ]
  },
  {
   "cell_type": "markdown",
   "id": "3b300522",
   "metadata": {},
   "source": [
    "## De listas de listas a matrices\n",
    "\n",
    "Para crear [una matriz a partir de una lista de listas](https://www.geeksforgeeks.org/convert-python-nested-lists-to-multidimensional-numpy-arrays/), utilizaremos la función **array**.\n",
    "\n",
    "<div align=\"center\">\n",
    "    <img src=\"https://github.com/MCD-ESPOL/PCD/blob/main/notebooks/images/mat_lol.png?raw=true\" width=\"40%\" style=\"float: left\">\n",
    "    <img src=\"https://github.com/MCD-ESPOL/PCD/blob/main/notebooks/images/mat_mat.png?raw=true\" width=\"35%\">\n",
    "</div>\n"
   ]
  },
  {
   "cell_type": "code",
   "execution_count": null,
   "id": "cd9b1394",
   "metadata": {},
   "outputs": [],
   "source": [
    "listaDeLista = [[1, 4, 5], [-5, 8, 9]]\n",
    "\n",
    "# Asigne a la variable matriz, use la función array para convertir listaDeLista \n",
    "\n",
    "matriz = "
   ]
  },
  {
   "cell_type": "markdown",
   "id": "a0f589fd",
   "metadata": {},
   "source": [
    "<details>\n",
    "  <summary><div>→ Haga click aquí para ver la solución</div></summary>\n",
    "  <pre lang=\"python\"><code>\n",
    "matriz = np.array( listaDeLista )\n",
    "  </code></pre>\n",
    "</details> "
   ]
  },
  {
   "cell_type": "code",
   "execution_count": null,
   "id": "beb3f833",
   "metadata": {},
   "outputs": [],
   "source": [
    "# Muestre por pantalla la listaDeLista\n",
    "\n"
   ]
  },
  {
   "cell_type": "markdown",
   "id": "0f8e3fae",
   "metadata": {},
   "source": [
    "<details>\n",
    "  <summary><div>→ Haga click aquí para ver la solución</div></summary>\n",
    "  <pre lang=\"python\"><code>\n",
    "print(\"Lista de lista\")\n",
    "print(listaDeLista)\n",
    "  </code></pre>\n",
    "</details> "
   ]
  },
  {
   "cell_type": "code",
   "execution_count": null,
   "id": "44c4dad3",
   "metadata": {},
   "outputs": [],
   "source": [
    "# Muestre por pantalla la matriz\n",
    "\n"
   ]
  },
  {
   "cell_type": "markdown",
   "id": "f3a12028",
   "metadata": {},
   "source": [
    "<details>\n",
    "  <summary><div>→ Haga click aquí para ver la solución</div></summary>\n",
    "  <pre lang=\"python\"><code>\n",
    "print(\"Matriz\")\n",
    "print(matriz)\n",
    "  </code></pre>\n",
    "</details> "
   ]
  },
  {
   "cell_type": "markdown",
   "id": "e1683bf7",
   "metadata": {},
   "source": [
    "[Regresar a la TC](#Tabla-de-Contenidos)"
   ]
  },
  {
   "cell_type": "markdown",
   "id": "c595318d",
   "metadata": {},
   "source": [
    "## Tamaño de la matriz\n",
    "\n",
    "De cada matriz es posible obtener la **cantidad de filas** y la **cantidad de columnas** con la propiedad [shape](https://numpy.org/doc/stable/reference/generated/numpy.shape.html), como se muestra en la figura: \n",
    "\n",
    "\n",
    "<div align=\"center\">\n",
    "    <img src=\"https://github.com/MCD-ESPOL/PCD/blob/main/notebooks/images/mat_shape.png?raw=true\" width=\"30%\">\n",
    "</div>\n"
   ]
  },
  {
   "cell_type": "code",
   "execution_count": null,
   "id": "ac615a2f",
   "metadata": {},
   "outputs": [],
   "source": [
    "# Obtenga el tamaño de la matriz y muestre por pantalla el resultado\n"
   ]
  },
  {
   "cell_type": "markdown",
   "id": "78221f68",
   "metadata": {},
   "source": [
    "<details>\n",
    "  <summary><div>→ Haga click aquí para ver la solución</div></summary>\n",
    "  <pre lang=\"python\"><code>\n",
    "tamanio = matriz.shape\n",
    "print(f\"Tamaño: {tamanio}\")\n",
    "  </code></pre>\n",
    "</details> "
   ]
  },
  {
   "cell_type": "markdown",
   "id": "b662ff6e",
   "metadata": {},
   "source": [
    "[Regresar a la TC](#Tabla-de-Contenidos)"
   ]
  },
  {
   "cell_type": "markdown",
   "id": "e7263fdc",
   "metadata": {},
   "source": [
    "## Acceso por índices\n",
    "\n",
    "Numpy utiliza la notación por índices en las **filas** y en las **columnas** para acceder a un elemento o a un grupo de elementos en una matriz.\n",
    "\n",
    "\n",
    "<div align=\"center\">\n",
    "    <img src=\"https://github.com/MCD-ESPOL/PCD/blob/main/notebooks/images/mat_indices.png?raw=true\" width=\"20%\">\n",
    "</div>\n",
    "\n"
   ]
  },
  {
   "cell_type": "markdown",
   "id": "bbf79ee8",
   "metadata": {},
   "source": [
    "### Acceso a elementos\n",
    "\n",
    "Dada la matriz:\n",
    "\n",
    "<div align=\"center\">\n",
    "    <img src=\"https://github.com/MCD-ESPOL/PCD/blob/main/notebooks/images/mat_indices.png?raw=true\" width=\"20%\">\n",
    "</div>\n",
    "\n",
    "Para acceder al valor **5** en la matriz, debe colocar:\n",
    "\n",
    "* **Índice de la fila**: _1_, y \n",
    "* **Índice de la columna**: _2_.\n",
    "\n",
    "\n",
    "<div align=\"center\">\n",
    "    <img src=\"https://github.com/MCD-ESPOL/PCD/blob/main/notebooks/images/mat_ele12.png?raw=true\" width=\"40%\">\n",
    "</div>"
   ]
  },
  {
   "cell_type": "code",
   "execution_count": null,
   "id": "7b26ff59",
   "metadata": {},
   "outputs": [],
   "source": [
    "# Considere la matriz\n",
    "\n",
    "print(\"Matriz\")\n",
    "print(matriz)"
   ]
  },
  {
   "cell_type": "code",
   "execution_count": null,
   "id": "e80304d4",
   "metadata": {},
   "outputs": [],
   "source": [
    "# Obtenga y muestre el elemento en la fila 0, columna 2\n",
    "\n"
   ]
  },
  {
   "cell_type": "markdown",
   "id": "031a46b9",
   "metadata": {},
   "source": [
    "<details>\n",
    "  <summary><div>→ Haga click aquí para ver la solución</div></summary>\n",
    "  <pre lang=\"python\"><code>\n",
    "elemento = matriz[0,2]\n",
    "print(f\"Elemento matriz[0,2]: {elemento}\")\n",
    "  </code></pre>\n",
    "</details> "
   ]
  },
  {
   "cell_type": "code",
   "execution_count": null,
   "id": "34eb7a1f",
   "metadata": {},
   "outputs": [],
   "source": [
    "# Obtenga y muestre el elemento en la fila 1, columna 1\n",
    "\n"
   ]
  },
  {
   "cell_type": "markdown",
   "id": "848804b2",
   "metadata": {},
   "source": [
    "<details>\n",
    "  <summary><div>→ Haga click aquí para ver la solución</div></summary>\n",
    "  <pre lang=\"python\"><code>\n",
    "elemento = matriz[1,1]\n",
    "print(f\"Elemento matriz[1,1]: {elemento}\")\n",
    "  </code></pre>\n",
    "</details> "
   ]
  },
  {
   "cell_type": "code",
   "execution_count": null,
   "id": "556e1d3a",
   "metadata": {},
   "outputs": [],
   "source": [
    "# Obtenga y muestre el elemento en la fila 0, columna 1\n",
    "\n"
   ]
  },
  {
   "cell_type": "markdown",
   "id": "4dc15982",
   "metadata": {},
   "source": [
    "<details>\n",
    "  <summary><div>→ Haga click aquí para ver la solución</div></summary>\n",
    "  <pre lang=\"python\"><code>\n",
    "elemento = matriz[0,1]\n",
    "print(f\"Elemento matriz[0,1]: {elemento}\")\n",
    "  </code></pre>\n",
    "</details> "
   ]
  },
  {
   "cell_type": "code",
   "execution_count": null,
   "id": "0dc0e189",
   "metadata": {},
   "outputs": [],
   "source": [
    "# Obtenga y muestre el elemento en la fila 1, columna 0\n",
    "\n"
   ]
  },
  {
   "cell_type": "markdown",
   "id": "153b98de",
   "metadata": {},
   "source": [
    "<details>\n",
    "  <summary><div>→ Haga click aquí para ver la solución</div></summary>\n",
    "  <pre lang=\"python\"><code>\n",
    "elemento = matriz[1,0]\n",
    "print(\"Elemento matriz[1,0]: \",elemento)\n",
    "  </code></pre>\n",
    "</details> "
   ]
  },
  {
   "cell_type": "markdown",
   "id": "7f92fed6",
   "metadata": {},
   "source": [
    "[Regresar a la TC](#Tabla-de-Contenidos)"
   ]
  },
  {
   "cell_type": "markdown",
   "id": "54494e7f",
   "metadata": {},
   "source": [
    "### Acceso a filas\n",
    "\n",
    "Dada la matriz:\n",
    "\n",
    "<div align=\"center\">\n",
    "    <img src=\"https://github.com/MCD-ESPOL/PCD/blob/main/notebooks/images/mat_indices.png?raw=true\" width=\"20%\">\n",
    "</div>\n",
    "\n",
    "Para acceder a la fila **0** de la matriz, debe colocar:\n",
    "\n",
    "* **Índice de la fila**: _0_, y \n",
    "* **Índice de todas las columnas**: desde 0 hasta el final ( _0:_ ).\n",
    "\n",
    "<div align=\"center\">\n",
    "    <img src=\"https://github.com/MCD-ESPOL/PCD/blob/main/notebooks/images/mat_fila0.png?raw=true\" width=\"30%\">\n",
    "</div>\n"
   ]
  },
  {
   "cell_type": "code",
   "execution_count": null,
   "id": "ab2a0219",
   "metadata": {
    "scrolled": true
   },
   "outputs": [],
   "source": [
    "# Considere la matriz\n",
    "\n",
    "print(\"Matriz\")\n",
    "print(matriz)"
   ]
  },
  {
   "cell_type": "code",
   "execution_count": null,
   "id": "cb3519f4",
   "metadata": {
    "scrolled": true
   },
   "outputs": [],
   "source": [
    "# Obtenga y muestre la fila 0 de la matriz\n",
    "\n"
   ]
  },
  {
   "cell_type": "markdown",
   "id": "0fe4bdbe",
   "metadata": {},
   "source": [
    "<details>\n",
    "  <summary><div>→ Haga click aquí para ver la solución</div></summary>\n",
    "  <pre lang=\"python\"><code>\n",
    "fila0 = matriz[ 0 , 0:]\n",
    "print(f\"Fila 0: {fila0}\")\n",
    "  </code></pre>\n",
    "</details> "
   ]
  },
  {
   "cell_type": "code",
   "execution_count": null,
   "id": "af10ac06",
   "metadata": {},
   "outputs": [],
   "source": [
    "# Obtenga y muestre la fila 1 de la matriz\n",
    "\n"
   ]
  },
  {
   "cell_type": "markdown",
   "id": "2a7d9a46",
   "metadata": {},
   "source": [
    "<details>\n",
    "  <summary><div>→ Haga click aquí para ver la solución</div></summary>\n",
    "  <pre lang=\"python\"><code>\n",
    "fila1 = matriz[ 1 , 0:]\n",
    "print(f\"Fila 1: {fila1}\")\n",
    "  </code></pre>\n",
    "</details> "
   ]
  },
  {
   "cell_type": "markdown",
   "id": "2c94d7c5",
   "metadata": {},
   "source": [
    "[Regresar a la TC](#Tabla-de-Contenidos)"
   ]
  },
  {
   "cell_type": "markdown",
   "id": "d195880c",
   "metadata": {},
   "source": [
    "### Acceso a columnas\n",
    "\n",
    "Dada la matriz:\n",
    "\n",
    "<div align=\"center\">\n",
    "    <img src=\"https://github.com/MCD-ESPOL/PCD/blob/main/notebooks/images/mat_indices.png?raw=true\" width=\"20%\">\n",
    "</div>\n",
    "\n",
    "Para acceder a la columna **1** de la matriz, debe colocar:\n",
    "\n",
    "* **Índice de todas las filas**: desde 0 hasta el final ( _0:_ ), y \n",
    "* **Índice de la columna**: _1_.\n",
    "\n",
    "\n",
    "<div align=\"center\">\n",
    "    <img src=\"https://github.com/MCD-ESPOL/PCD/blob/main/notebooks/images/mat_columna1.png?raw=true\" width=\"30%\">\n",
    "</div>\n"
   ]
  },
  {
   "cell_type": "code",
   "execution_count": null,
   "id": "d3bf36c4",
   "metadata": {
    "scrolled": true
   },
   "outputs": [],
   "source": [
    "# Considere la matriz\n",
    "\n",
    "print(\"Matriz\")\n",
    "print(matriz)"
   ]
  },
  {
   "cell_type": "code",
   "execution_count": null,
   "id": "3fa6ae10",
   "metadata": {},
   "outputs": [],
   "source": [
    "# Muestre cada una de las columnas de matriz por separado\n",
    "\n"
   ]
  },
  {
   "cell_type": "markdown",
   "id": "5c7016c3",
   "metadata": {},
   "source": [
    "<details>\n",
    "  <summary><div>→ Haga click aquí para ver la solución</div></summary>\n",
    "  <pre lang=\"python\"><code>\n",
    "columna0 = matriz[ 0: , 0]\n",
    "print(f\"Columna 0: {columna0}\")\n",
    "\n",
    "columna1 = matriz[ 0: , 1]\n",
    "print(f\"Columna 1: {columna1}\")\n",
    "\n",
    "columna2 = matriz[ 0: , 2]\n",
    "print(f\"Columna 2: {columna2}\")\n",
    "  </code></pre>\n",
    "</details> "
   ]
  },
  {
   "cell_type": "markdown",
   "id": "5c443bc7",
   "metadata": {},
   "source": [
    "[Regresar a la TC](#Tabla-de-Contenidos)"
   ]
  },
  {
   "cell_type": "markdown",
   "id": "8adc920f",
   "metadata": {},
   "source": [
    "### Submatrices\n",
    "\n",
    "Dada la matriz:\n",
    "\n",
    "<div align=\"center\">\n",
    "    <img src=\"https://github.com/MCD-ESPOL/PCD/blob/main/notebooks/images/mat_indices.png?raw=true\" width=\"20%\">\n",
    "</div>\n",
    "\n",
    "Para acceder a la submatriz conformada por las **dos primeras filas** y las **dos primeras columnas**, debe colocar:\n",
    "\n",
    "* **Índice de todas las filas**: desde 0 hasta el final ( _0:2_ ), y \n",
    "* **Índice de las dos primeras columnas**: desde 0 hasta 2 ( _0:2_ ).\n",
    "\n",
    "<div align=\"center\">\n",
    "    <img src=\"https://github.com/MCD-ESPOL/PCD/blob/main/notebooks/images/mat_matrix0.png?raw=true\" width=\"30%\">\n",
    "</div>\n",
    "\n"
   ]
  },
  {
   "cell_type": "code",
   "execution_count": null,
   "id": "84315a41",
   "metadata": {
    "scrolled": true
   },
   "outputs": [],
   "source": [
    "# Considere la matriz\n",
    "\n",
    "print(\"Matriz\")\n",
    "print(matriz)"
   ]
  },
  {
   "cell_type": "code",
   "execution_count": null,
   "id": "732b5768",
   "metadata": {},
   "outputs": [],
   "source": [
    "# Muestre la submatriz conformada por las dos primeras filas y las dos primeras columnas \n",
    "\n"
   ]
  },
  {
   "cell_type": "markdown",
   "id": "2a20aa9d",
   "metadata": {},
   "source": [
    "<details>\n",
    "  <summary><div>→ Haga click aquí para ver la solución</div></summary>\n",
    "  <pre lang=\"python\"><code>\n",
    "submatriz1 = matriz[ 0: , 0:2 ]\n",
    "print(\"Primera submatriz\")\n",
    "print(submatriz1)\n",
    "  </code></pre>\n",
    "</details> "
   ]
  },
  {
   "cell_type": "code",
   "execution_count": null,
   "id": "9bb56ed0",
   "metadata": {},
   "outputs": [],
   "source": [
    "# Muestre la submatriz conformada por las dos últimas filas y las dos últimas columnas \n",
    "\n"
   ]
  },
  {
   "cell_type": "markdown",
   "id": "adef9880",
   "metadata": {},
   "source": [
    "<details>\n",
    "  <summary><div>→ Haga click aquí para ver la solución</div></summary>\n",
    "  <pre lang=\"python\"><code>\n",
    "submatriz2 = matriz[ 0: , 1: ]\n",
    "print(\"Segunda submatriz\")\n",
    "print(submatriz2)\n",
    "  </code></pre>\n",
    "</details> "
   ]
  },
  {
   "cell_type": "markdown",
   "id": "a876776a",
   "metadata": {},
   "source": [
    "[Regresar a la TC](#Tabla-de-Contenidos)"
   ]
  },
  {
   "cell_type": "markdown",
   "id": "063a4e17",
   "metadata": {},
   "source": [
    "## Archivos\n",
    "\n",
    "Descargue los archivos [songs.csv](https://github.com/MCD-ESPOL/PCD/blob/main/notebooks/songs.csv) y [votes.csv](https://github.com/MCD-ESPOL/PCD/blob/main/notebooks/votes.csv). Luego, coloque los archivos csv en el mismo directorio que este cuaderno."
   ]
  },
  {
   "cell_type": "markdown",
   "id": "1e310d24",
   "metadata": {},
   "source": [
    "## Carga de datos\n",
    "\n",
    "\n",
    "Utilice la función [loadtxt](https://numpy.org/doc/stable/reference/generated/numpy.loadtxt.html) para cargar los datos de un archivo de texto.\n",
    "\n",
    "\n",
    "<div align=\"center\">\n",
    "    <img src=\"https://github.com/MCD-ESPOL/PCD/blob/main/notebooks/images/arr_load1.png?raw=true\" width=\"50%\">\n",
    "</div>\n"
   ]
  },
  {
   "cell_type": "code",
   "execution_count": null,
   "id": "9f4ef80d",
   "metadata": {},
   "outputs": [],
   "source": [
    "# En la variable canciones, use np.loadtxt para cargar los datos de 'songs.csv'\n",
    "# Cuyo delimitador es ';' y el tipo de dato (dtype) es str\n",
    "\n",
    "canciones = "
   ]
  },
  {
   "cell_type": "code",
   "execution_count": null,
   "id": "83b4fd9e",
   "metadata": {},
   "outputs": [],
   "source": [
    "# En la variable votos, use np.loadtxt para cargar los datos de 'votes.csv', \n",
    "# Cuyo delimitador es ',' y el tipo de dato (dtype) es int\n",
    "\n",
    "votos = "
   ]
  },
  {
   "cell_type": "markdown",
   "id": "3a24fe72",
   "metadata": {},
   "source": [
    "<details>\n",
    "  <summary><div>→ Haga click aquí para ver la solución</div></summary>\n",
    "  <pre lang=\"python\"><code>\n",
    "canciones = np.loadtxt( 'songs.csv', delimiter = ';', dtype = str)\n",
    "votos = np.loadtxt( 'votes.csv', delimiter = ',', dtype = int)\n",
    "  </code></pre>\n",
    "</details> "
   ]
  },
  {
   "cell_type": "code",
   "execution_count": null,
   "id": "29b1a85f",
   "metadata": {},
   "outputs": [],
   "source": [
    "# Muestre el arreglo canciones\n",
    "\n",
    "print(\"Arreglo de canciones: \")\n"
   ]
  },
  {
   "cell_type": "markdown",
   "id": "88cea370",
   "metadata": {},
   "source": [
    "<details>\n",
    "  <summary><div>→ Haga click aquí para ver la solución</div></summary>\n",
    "  <pre lang=\"python\"><code>\n",
    "print(canciones)\n",
    "  </code></pre>\n",
    "</details> "
   ]
  },
  {
   "cell_type": "code",
   "execution_count": null,
   "id": "e29f9661",
   "metadata": {},
   "outputs": [],
   "source": [
    "# Muestre la matriz votos\n",
    "\n",
    "print(\"Matriz de votos: \")\n",
    "print(\"Filas (20 canciones) vs Columnas (10 votos)\")\n"
   ]
  },
  {
   "cell_type": "markdown",
   "id": "95512d04",
   "metadata": {},
   "source": [
    "<details>\n",
    "  <summary><div>→ Haga click aquí para ver la solución</div></summary>\n",
    "  <pre lang=\"python\"><code>\n",
    "print(votos)\n",
    "  </code></pre>\n",
    "</details> "
   ]
  },
  {
   "cell_type": "markdown",
   "id": "af70384d",
   "metadata": {},
   "source": [
    "[Regresar a la TC](#Tabla-de-Contenidos)"
   ]
  },
  {
   "cell_type": "markdown",
   "id": "67969fd5",
   "metadata": {},
   "source": [
    "## Ejercicios\n",
    "\n",
    "**Ejercicio 01:** Muestre el nombre y los votos de la quinta (índice 4) canción"
   ]
  },
  {
   "cell_type": "code",
   "execution_count": null,
   "id": "ede8d525",
   "metadata": {},
   "outputs": [],
   "source": []
  },
  {
   "cell_type": "markdown",
   "id": "64d4ab4c",
   "metadata": {},
   "source": [
    "**Ejercicio 02:** Muestre el mínimo, el promedio y el máximo voto de la quinta  (índice 4) canción"
   ]
  },
  {
   "cell_type": "code",
   "execution_count": null,
   "id": "fcf32c37",
   "metadata": {},
   "outputs": [],
   "source": []
  },
  {
   "cell_type": "markdown",
   "id": "87dcf423",
   "metadata": {},
   "source": [
    "**Ejercicio 03:** Muestre el total de votos de la primera canción"
   ]
  },
  {
   "cell_type": "code",
   "execution_count": null,
   "id": "7012dd65",
   "metadata": {},
   "outputs": [],
   "source": []
  },
  {
   "cell_type": "markdown",
   "id": "cc5bbd95",
   "metadata": {},
   "source": [
    "**Ejercicio 04:** Muestre el total de votos de todas las canciones"
   ]
  },
  {
   "cell_type": "code",
   "execution_count": null,
   "id": "5954aaea",
   "metadata": {},
   "outputs": [],
   "source": []
  }
 ],
 "metadata": {
  "kernelspec": {
   "display_name": "Python 3 (ipykernel)",
   "language": "python",
   "name": "python3"
  },
  "language_info": {
   "codemirror_mode": {
    "name": "ipython",
    "version": 3
   },
   "file_extension": ".py",
   "mimetype": "text/x-python",
   "name": "python",
   "nbconvert_exporter": "python",
   "pygments_lexer": "ipython3",
   "version": "3.11.5"
  }
 },
 "nbformat": 4,
 "nbformat_minor": 5
}
