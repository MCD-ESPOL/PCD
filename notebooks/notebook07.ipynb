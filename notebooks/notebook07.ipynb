{
 "cells": [
  {
   "cell_type": "markdown",
   "id": "5dcffc85",
   "metadata": {},
   "source": [
    "# Arreglos\n",
    "\n",
    "Los arreglos, y matrices, son tipos de datos estructurados homogéneos (un solo tipo de dato), optimizados para el cálculo usando vectores y matrices. Los arrays suelen contener números enteros, reales y complejos. \n",
    "\n",
    "Python no tiene soporte integrado para arreglos. Para esto, utilizamos el librería [NumPy](https://numpy.org/), cuya documentación se encuentra en [NumPy documentation](https://numpy.org/doc/stable/).\n",
    "\n",
    "<div align=\"center\">\n",
    "    <img src=\"https://github.com/MCD-ESPOL/PCD/blob/main/notebooks/images/logo.svg?raw=true\" width=\"15%\">\n",
    "</div>"
   ]
  },
  {
   "cell_type": "markdown",
   "id": "2fedb79b",
   "metadata": {},
   "source": [
    "## Importar librerías externas"
   ]
  },
  {
   "cell_type": "code",
   "execution_count": 2,
   "id": "c6e20e43",
   "metadata": {},
   "outputs": [],
   "source": [
    "# Importe la librería numpy, con: import numpy as np\n",
    "# Importe la libreria matplotlib, con: import matplotlib.pyplot as plt\n",
    "\n",
    "import numpy as np\n",
    "import matplotlib.pyplot as plt"
   ]
  },
  {
   "cell_type": "markdown",
   "id": "0416b3dd",
   "metadata": {},
   "source": [
    "## De lista a arreglos\n",
    "\n",
    "Para crear [un arreglo a partir de una lista](https://numpy.org/doc/stable/user/basics.creation.html#converting-python-sequences-to-numpy-arrays), utilizaremos la función **array**.\n",
    "\n",
    "\n",
    "\n",
    "<div align=\"center\">\n",
    "    <img src=\"https://github.com/MCD-ESPOL/PCD/blob/main/notebooks/images/arr_ini.png?raw=true\" width=\"40%\">\n",
    "</div>"
   ]
  },
  {
   "cell_type": "code",
   "execution_count": 4,
   "id": "b28af931",
   "metadata": {},
   "outputs": [],
   "source": [
    "# Convierta las listas en los arreglos nombres_librosArr, genero_literarioArr y ventasArr\n",
    "\n",
    "nombres_libros = ['El señor de los anillos', 'Cien años de soledad', 'Harry Potter', '1984', 'Orgullo y prejuicio', 'Crimen y castigo', 'El gran Gatsby', 'Matar un ruiseñor', 'La Odisea', 'Don Quijote de la Mancha']\n",
    "genero_literario = ['Fantasía', 'Realismo mágico', 'Fantasía', 'Distopía', 'Novela romántica', 'Novela psicológica', 'Ficción moderna', 'Novela clásica', 'Epopeya', 'Novela clásica']\n",
    "ventas = [150, 120, 200, 90, 80, 110, 95, 130, 75, 160]\n",
    "\n",
    "nombres_librosArr = np.array(nombres_libros)\n",
    "genero_literarioArr = np.array(genero_literario)\n",
    "ventasArr = np.array(ventas)"
   ]
  },
  {
   "cell_type": "code",
   "execution_count": 5,
   "id": "b3581601",
   "metadata": {},
   "outputs": [
    {
     "name": "stdout",
     "output_type": "stream",
     "text": [
      "Lista:  ['El señor de los anillos', 'Cien años de soledad', 'Harry Potter', '1984', 'Orgullo y prejuicio', 'Crimen y castigo', 'El gran Gatsby', 'Matar un ruiseñor', 'La Odisea', 'Don Quijote de la Mancha']\n",
      "Arreglo:  ['El señor de los anillos' 'Cien años de soledad' 'Harry Potter' '1984'\n",
      " 'Orgullo y prejuicio' 'Crimen y castigo' 'El gran Gatsby'\n",
      " 'Matar un ruiseñor' 'La Odisea' 'Don Quijote de la Mancha']\n"
     ]
    }
   ],
   "source": [
    "# Muestre los arreglos nombres_librosArr, genero_literarioArr y ventasArr\n",
    "\n",
    "print(\"Lista: \",nombres_libros)\n",
    "print(\"Arreglo: \", nombres_librosArr)"
   ]
  },
  {
   "cell_type": "markdown",
   "id": "51c35a99",
   "metadata": {},
   "source": [
    "## Operaciones con arreglos\n",
    "\n",
    "Numpy ofrece un grupo de [funciones agregadas](https://www.tutorialgateway.org/python-numpy-aggregate-functions/), como: **sum**, **mean**, **std**,  **max**, **min**, **argmin**, **argmax** y muchas más.\n",
    "\n",
    "La lista completa de [funciones matemáticas](https://numpy.org/doc/stable/reference/routines.math.html) puede encontrarla en la documentación de Numpy.\n",
    "\n",
    "\n",
    "\n",
    "\n",
    "<div align=\"center\">\n",
    "    <img src=\"https://github.com/MCD-ESPOL/PCD/blob/main/notebooks/images/arr_aggr.png?raw=true\" width=\"60%\">\n",
    "</div>\n",
    "\n"
   ]
  },
  {
   "cell_type": "code",
   "execution_count": 6,
   "id": "65bc0556",
   "metadata": {},
   "outputs": [
    {
     "name": "stdout",
     "output_type": "stream",
     "text": [
      "El valor máximo:  200\n"
     ]
    }
   ],
   "source": [
    "# Muestre el valor máximo del arreglo ventasArr\n",
    "\n",
    "maximo = np.max(ventasArr)\n",
    "print(\"El valor máximo: \", maximo)"
   ]
  },
  {
   "cell_type": "code",
   "execution_count": 11,
   "id": "bf4abd6f",
   "metadata": {},
   "outputs": [
    {
     "name": "stdout",
     "output_type": "stream",
     "text": [
      "El índice del máximo es:  2\n",
      "Harry Potter tiene el valor máximo $200, cuyo género es Fantasía\n"
     ]
    }
   ],
   "source": [
    "# Obtenga el índice del valor máximo del arreglo ventasArr\n",
    "indice = np.argmax(ventasArr)\n",
    "print(\"El índice del máximo es: \", indice)\n",
    "\n",
    "# Con el valor anterior, indexe arreglos nombres_librosArr y genero_literarioArr\n",
    "# Muestre los elementos obtenidos de la indexación\n",
    "nombre = nombres_librosArr[indice]\n",
    "genero = genero_literarioArr[indice]\n",
    "\n",
    "print(f\"{nombre} tiene el valor máximo ${maximo}, cuyo género es {genero}\")"
   ]
  },
  {
   "cell_type": "code",
   "execution_count": 12,
   "id": "2745645f",
   "metadata": {},
   "outputs": [
    {
     "name": "stdout",
     "output_type": "stream",
     "text": [
      "El total es $1210\n"
     ]
    }
   ],
   "source": [
    "# Obtenga y muestre el total de ventasArr \n",
    "\n",
    "total = np.sum(ventasArr)\n",
    "print(f\"El total es ${total}\")"
   ]
  },
  {
   "cell_type": "markdown",
   "id": "11e83e5c",
   "metadata": {},
   "source": [
    "## Indexación y Rebanadas\n",
    "\n",
    "Al igual que las listas, es posible acceder a un elemento (indexación) o a un grupo de elementos (rebanadas) de en un arreglo.\n",
    "\n",
    "<div align=\"center\">\n",
    "    <img src=\"https://github.com/MCD-ESPOL/PCD/blob/main/notebooks/images/arr_index_slicing.png?raw=true\" width=\"50%\">\n",
    "</div>"
   ]
  },
  {
   "cell_type": "code",
   "execution_count": 14,
   "id": "91560d1b",
   "metadata": {},
   "outputs": [
    {
     "name": "stdout",
     "output_type": "stream",
     "text": [
      "Tres primeros libros:  ['El señor de los anillos' 'Cien años de soledad' 'Harry Potter']\n",
      "Tres primeros libros:  ['Fantasía' 'Realismo mágico' 'Fantasía']\n",
      "Tres primeros libros:  [150 120 200]\n"
     ]
    }
   ],
   "source": [
    "# Muestre los 3 primeros elementos de cada uno de los arreglos nombres_librosArr, genero_literarioArr y ventasArr\n",
    "\n",
    "tresNombres = nombres_librosArr[0:3]\n",
    "print(\"Tres primeros libros: \", tresNombres)\n",
    "\n",
    "tresGeneros = genero_literarioArr[0:3]\n",
    "print(\"Tres primeros libros: \", tresGeneros)\n",
    "\n",
    "tresVenta = ventasArr[0:3]\n",
    "print(\"Tres primeros libros: \", tresVenta)"
   ]
  },
  {
   "cell_type": "markdown",
   "id": "d02a0506",
   "metadata": {},
   "source": [
    "## Búsqueda (filtrado) de valores\n",
    "\n",
    "A diferencia de las listas, es posible crear un arreglo (mascaraArr) a partir de aplicar una **condición** a todos los elementos de un arreglo.\n",
    "\n",
    "\n",
    "\n",
    "<div align=\"center\">\n",
    "    <img src=\"https://github.com/MCD-ESPOL/PCD/blob/main/notebooks/images/arr_mask.png?raw=true\" width=\"60%\">\n",
    "</div>"
   ]
  },
  {
   "cell_type": "code",
   "execution_count": 6,
   "id": "234a95d6",
   "metadata": {},
   "outputs": [
    {
     "name": "stdout",
     "output_type": "stream",
     "text": [
      "Máscara sobre el arreglo genero_literarioArr\n",
      "[ True False  True False False False False False False False]\n"
     ]
    }
   ],
   "source": [
    "# Cree una máscara con el arreglo genero_literarioArr cuyos elementos sean igual que 'Fantasía'\n",
    "mascaraArr = genero_literarioArr == 'Fantasía'\n",
    "\n",
    "print(\"Máscara sobre el arreglo genero_literarioArr\")\n",
    "print(mascaraArr)"
   ]
  },
  {
   "cell_type": "code",
   "execution_count": 7,
   "id": "23baf2cd",
   "metadata": {},
   "outputs": [
    {
     "name": "stdout",
     "output_type": "stream",
     "text": [
      "Nombres de libros de fantasía\n",
      "['El señor de los anillos' 'Harry Potter']\n"
     ]
    }
   ],
   "source": [
    "# Utilice la máscara para filtrar el arreglo nombres_librosArr\n",
    "# Muestre el arreglo resultante\n",
    "librosFantasia = nombres_librosArr[mascaraArr]\n",
    "print(\"Nombres de libros de fantasía\")\n",
    "print(librosFantasia)"
   ]
  },
  {
   "cell_type": "code",
   "execution_count": 8,
   "id": "79c08464",
   "metadata": {},
   "outputs": [
    {
     "name": "stdout",
     "output_type": "stream",
     "text": [
      "Ventas de libros de fantasía\n",
      "[150 200]\n"
     ]
    }
   ],
   "source": [
    "# Utilice la máscara para filtrar el arreglo ventasArr\n",
    "# Muestre el arreglo resultante\n",
    "# Obtenga y muestre el total \n",
    "ventasFantasia = ventasArr[mascaraArr]\n",
    "print(\"Ventas de libros de fantasía\")\n",
    "print(ventasFantasia)"
   ]
  },
  {
   "cell_type": "code",
   "execution_count": 9,
   "id": "2b29d66f",
   "metadata": {},
   "outputs": [
    {
     "name": "stdout",
     "output_type": "stream",
     "text": [
      "El total por venta de libros de fantasía es: $ 350\n"
     ]
    }
   ],
   "source": [
    "total = np.sum( ventasFantasia )\n",
    "print(\"El total por venta de libros de fantasía es: $\", total)"
   ]
  },
  {
   "cell_type": "markdown",
   "id": "52915934",
   "metadata": {},
   "source": [
    "## Archivos\n",
    "\n",
    "Descargue los archivos [titles.csv](https://github.com/MCD-ESPOL/PCD/blob/main/notebooks/titles.csv) y [rating.csv](https://github.com/MCD-ESPOL/PCD/blob/main/notebooks/rating.csv). Luego, coloque los archivos csv en el mismo directorio que este cuaderno."
   ]
  },
  {
   "cell_type": "markdown",
   "id": "aa2df5f3",
   "metadata": {},
   "source": [
    "## Carga de datos\n",
    "\n",
    "\n",
    "Utilice la función [loadtxt](https://numpy.org/doc/stable/reference/generated/numpy.loadtxt.html) para cargar los datos de un archivo de texto.\n",
    "\n",
    "\n",
    "\n",
    "<div align=\"center\">\n",
    "    <img src=\"https://github.com/MCD-ESPOL/PCD/blob/main/notebooks/images/arr_load1.png?raw=true\" width=\"50%\">\n",
    "</div>\n",
    "\n",
    "\n"
   ]
  },
  {
   "cell_type": "code",
   "execution_count": 10,
   "id": "fb9fd3f6",
   "metadata": {},
   "outputs": [
    {
     "name": "stdout",
     "output_type": "stream",
     "text": [
      "['The Shawshank Redemption' 'The Godfather' 'The Godfather: Part II'\n",
      " 'The Dark Knight' '12 Angry Men' \"Schindler's List\"\n",
      " 'The Lord of the Rings: The Return of the King' 'Pulp Fiction'\n",
      " '\"The Good, the Bad and the Ugly\"'\n",
      " 'The Lord of the Rings: The Fellowship of the Ring' 'Fight Club'\n",
      " 'Forrest Gump' 'Inception' 'The Lord of the Rings: The Two Towers'\n",
      " 'The Empire Strikes Back' 'The Matrix' 'GoodFellas'\n",
      " \"One Flew Over the Cuckoo's Nest\" 'Seven Samurai' 'Se7en'\n",
      " 'Life Is Beautiful' 'City of God' 'The Silence of the Lambs'\n",
      " \"It's a Wonderful Life\" 'Star Wars' 'Saving Private Ryan'\n",
      " 'The Green Mile' 'Spirited Away' 'Interstellar' 'Parasite'\n",
      " 'LÃ©on: The Professional' 'Harakiri' 'The Usual Suspects' 'The Lion King'\n",
      " 'The Pianist' 'Terminator 2: Judgment Day' 'Back to the Future'\n",
      " 'American History X' 'Modern Times' 'Gladiator' 'Psycho' 'The Departed'\n",
      " 'City Lights' 'The Intouchables' 'Whiplash' 'Grave of the Fireflies'\n",
      " 'The Prestige' 'Once Upon a Time in the West' 'Casablanca'\n",
      " 'Cinema Paradiso' 'Rear Window' 'Alien' 'Apocalypse Now' 'Memento'\n",
      " 'The Great Dictator' 'Raiders of the Lost Ark' 'Django Unchained'\n",
      " 'The Lives of Others' 'Hamilton' 'Paths of Glory' 'Joker' 'WALLÂ·E'\n",
      " 'The Shining' 'Avengers: Infinity War' 'Sunset Boulevard'\n",
      " 'Witness for the Prosecution' 'Oldboy'\n",
      " 'Spider-Man: Into the Spider-Verse' 'Princess Mononoke' 'Dr. Strangelove'\n",
      " 'The Dark Knight Rises' 'Once Upon a Time in America' 'Your Name.'\n",
      " 'Aliens' 'Coco' 'Avengers: Endgame' 'Capernaum' 'American Beauty'\n",
      " 'Braveheart' 'High and Low' 'Das Boot' 'Toy Story' '3 Idiots' 'Amadeus'\n",
      " 'Inglourious Basterds' 'Good Will Hunting' 'Return of the Jedi'\n",
      " 'Like Stars on Earth' 'Reservoir Dogs' '2001: A Space Odyssey'\n",
      " 'Requiem for a Dream' 'The Hunt' 'Vertigo' 'M'\n",
      " 'Eternal Sunshine of the Spotless Mind' 'Citizen Kane' 'Dangal'\n",
      " \"Singin' in the Rain\" 'Bicycle Thieves' 'The Kid' 'Full Metal Jacket'\n",
      " 'Come and See' 'Snatch' 'Ikiru' 'North by Northwest' 'A Clockwork Orange'\n",
      " 'Scarface' '1917' 'Taxi Driver' 'Incendies' 'A Separation' 'Toy Story 3'\n",
      " 'Lawrence of Arabia' 'The Sting' 'AmÃ©lie' 'Metropolis' 'The Apartment'\n",
      " 'For a Few Dollars More' 'Double Indemnity' 'To Kill a Mockingbird' 'Up'\n",
      " 'Indiana Jones and the Last Crusade' 'Heat' 'L.A. Confidential'\n",
      " 'Green Book' 'Die Hard' 'Monty Python and the Holy Grail' 'Batman Begins'\n",
      " 'Yojimbo' 'Rashomon' 'Downfall' 'Children of Heaven' 'Unforgiven' 'Ran'\n",
      " 'Some Like It Hot' \"Howl's Moving Castle\" 'All About Eve' 'Casino'\n",
      " 'A Beautiful Mind' 'The Wolf of Wall Street' 'The Great Escape'\n",
      " \"Pan's Labyrinth\" 'There Will Be Blood' 'The Secret in Their Eyes'\n",
      " '\"Lock, Stock and Two Smoking Barrels\"' 'Judgment at Nuremberg'\n",
      " 'Raging Bull' 'My Neighbor Totoro' 'The Treasure of the Sierra Madre'\n",
      " 'Dial M for Murder' '\"Three Billboards Outside Ebbing, Missouri\"'\n",
      " 'Shutter Island' 'Chinatown' 'The Gold Rush' 'My Father and My Son'\n",
      " 'No Country for Old Men' 'V for Vendetta' 'Inside Out' 'The Thing'\n",
      " 'The Elephant Man' 'The Seventh Seal' 'Warrior' 'The Sixth Sense'\n",
      " 'Jurassic Park' 'Klaus' 'Trainspotting' 'The Truman Show'\n",
      " 'Gone with the Wind' 'Finding Nemo' 'Stalker' 'Wild Strawberries'\n",
      " 'Kill Bill: Vol. 1' 'Memories of Murder' 'Blade Runner'\n",
      " 'The Bridge on the River Kwai' 'Fargo' 'Room' 'Wild Tales' 'Gran Torino'\n",
      " 'Tokyo Story' 'The Third Man' 'On the Waterfront' 'The Deer Hunter'\n",
      " 'In the Name of the Father' 'Mary and Max' 'The Grand Budapest Hotel'\n",
      " 'Before Sunrise' 'Catch Me If You Can' 'Gone Girl' 'Hacksaw Ridge'\n",
      " 'Prisoners' 'Persona' 'Andhadhun' 'Sherlock Jr.' 'The Big Lebowski'\n",
      " 'Barry Lyndon' 'To Be or Not to Be' 'The General'\n",
      " 'How to Train Your Dragon' 'Ford v Ferrari' 'Autumn Sonata'\n",
      " '12 Years a Slave' 'The Bandit' 'Mr. Smith Goes to Washington' 'Anand'\n",
      " 'Mad Max: Fury Road' 'Dead Poets Society' 'Ratsasan'\n",
      " 'Million Dollar Baby' 'Stand by Me'\n",
      " 'Harry Potter and the Deathly Hallows: Part 2' 'Network' 'Ben-Hur'\n",
      " \"Hachi: A Dog's Tale\" 'Cool Hand Luke' 'The Handmaiden' 'Logan' 'Platoon'\n",
      " 'Into the Wild' 'Rush' 'The Wages of Fear' 'La Haine' 'Life of Brian'\n",
      " 'The 400 Blows' 'Soul' 'The Passion of Joan of Arc' 'Spotlight'\n",
      " 'Hotel Rwanda' 'Amores Perros' 'Gangs of Wasseypur - Part 1'\n",
      " 'Andrei Rublev' '\"Monsters, Inc.\"' 'Rocky'\n",
      " 'NausicaÃ¤ of the Valley of the Wind' 'Rebecca' 'Time of the Gypsies'\n",
      " 'Before Sunset' 'In the Mood for Love' 'Rififi' 'Rang De Basanti'\n",
      " '\"Paris, Texas\"' 'Drishyam' 'Portrait of a Lady on Fire'\n",
      " 'It Happened One Night' 'A Silent Voice: The Movie' 'The Invisible Guest'\n",
      " 'Neon Genesis Evangelion: The End of Evangelion' 'The Battle of Algiers'\n",
      " 'Tangerines' 'Three Colors: Red']\n"
     ]
    }
   ],
   "source": [
    "# Cargue los datos de 'titles.csv', cuyo delimitador es ';' y el tipo de dato (dtype) es str\n",
    "\n",
    "titlesArr = np.loadtxt('titles.csv', delimiter =\";\", dtype=str)\n",
    "print(titlesArr)"
   ]
  },
  {
   "cell_type": "code",
   "execution_count": 32,
   "id": "0a5d01e7",
   "metadata": {},
   "outputs": [
    {
     "name": "stdout",
     "output_type": "stream",
     "text": [
      "[9.3 9.2 9.  9.  8.9 8.9 8.9 8.9 8.9 8.8 8.8 8.8 8.8 8.7 8.8 8.7 8.7 8.7\n",
      " 8.6 8.6 8.6 8.6 8.6 8.6 8.6 8.6 8.5 8.6 8.6 8.7 8.6 8.7 8.6 8.5 8.5 8.5\n",
      " 8.5 8.5 8.5 8.5 8.5 8.5 8.5 8.5 8.5 8.5 8.5 8.5 8.5 8.5 8.5 8.5 8.5 8.5\n",
      " 8.5 8.5 8.4 8.4 8.4 8.4 8.5 8.4 8.4 8.5 8.4 8.4 8.4 8.4 8.4 8.4 8.4 8.4\n",
      " 8.4 8.4 8.4 8.4 8.4 8.4 8.4 8.4 8.4 8.3 8.4 8.3 8.3 8.3 8.3 8.4 8.3 8.3\n",
      " 8.3 8.3 8.3 8.3 8.3 8.4 8.5 8.3 8.3 8.3 8.3 8.2 8.3 8.3 8.3 8.3 8.3 8.3\n",
      " 8.3 8.2 8.3 8.3 8.3 8.3 8.3 8.3 8.3 8.3 8.3 8.3 8.3 8.2 8.2 8.3 8.3 8.2\n",
      " 8.3 8.3 8.2 8.2 8.2 8.3 8.2 8.2 8.2 8.2 8.3 8.2 8.2 8.2 8.2 8.2 8.1 8.2\n",
      " 8.2 8.2 8.2 8.2 8.3 8.2 8.2 8.1 8.2 8.2 8.4 8.1 8.2 8.2 8.1 8.2 8.2 8.2\n",
      " 8.1 8.1 8.1 8.2 8.1 8.2 8.1 8.1 8.2 8.1 8.1 8.2 8.2 8.1 8.2 8.1 8.1 8.2\n",
      " 8.2 8.2 8.1 8.1 8.1 8.1 8.1 8.1 8.1 8.1 8.1 8.1 8.5 8.2 8.1 8.1 8.2 8.2\n",
      " 8.1 8.1 8.3 8.1 8.3 8.2 8.8 8.1 8.1 8.5 8.1 8.1 8.1 8.1 8.1 8.1 8.1 8.1\n",
      " 8.1 8.1 8.1 8.1 8.1 8.1 8.1 8.1 8.1 8.2 8.1 8.1 8.1 8.2 8.2 8.1 8.1 8.1\n",
      " 8.1 8.2 8.1 8.1 8.2 8.2 8.1 8.8 8.1 8.1 8.2 8.1 8.1 8.1 8.2 8.1]\n"
     ]
    }
   ],
   "source": [
    "# Cargue los datos de 'rating.csv', cuyo delimitador es ';' y el tipo de dato (dtype) es float\n",
    "\n",
    "ratingArr = np.loadtxt( 'rating.csv', delimiter = \";\", dtype = float )\n",
    "print(ratingArr)"
   ]
  },
  {
   "cell_type": "markdown",
   "id": "a7b1a6cb",
   "metadata": {},
   "source": [
    "## Ejercicios - I\n",
    "\n",
    "1. Muestre el o los títulos de películas con la mayor calificación.\n",
    "2. Muestre el o los títulos de películas con la menor calificación.\n",
    "4. Solicite el ingreso de un valor de calificación y muestre las películas con dicha calificación.\n"
   ]
  },
  {
   "cell_type": "code",
   "execution_count": 33,
   "id": "bc829fde",
   "metadata": {},
   "outputs": [
    {
     "name": "stdout",
     "output_type": "stream",
     "text": [
      "Indice maximo:  0\n"
     ]
    }
   ],
   "source": [
    "indiceMaximo = np.argmax(ratingArr)\n",
    "print(\"Indice maximo: \",indiceMaximo)"
   ]
  },
  {
   "cell_type": "code",
   "execution_count": 34,
   "id": "63964d3d",
   "metadata": {},
   "outputs": [
    {
     "name": "stdout",
     "output_type": "stream",
     "text": [
      "El valor máximo es:  9.3\n",
      "La película con el rating mayor es:  ['The Shawshank Redemption']\n"
     ]
    }
   ],
   "source": [
    "# Muestre el o los títulos de películas con la mayor calificación.\n",
    "\n",
    "maximo = np.max(ratingArr)\n",
    "print(\"El valor máximo es: \", maximo)\n",
    "\n",
    "mascaraArr = ratingArr == maximo\n",
    "#print(\"Arreglo de booleanos \")\n",
    "#print(mascaraArr)\n",
    "\n",
    "nombrePeliculaMaximo = titlesArr[mascaraArr]\n",
    "print(\"La película con el rating mayor es: \", nombrePeliculaMaximo)"
   ]
  },
  {
   "cell_type": "code",
   "execution_count": 19,
   "id": "63c7d93e",
   "metadata": {},
   "outputs": [
    {
     "name": "stdout",
     "output_type": "stream",
     "text": [
      "El valor mínimo es:  8.1\n",
      "Las películas con el rating menor son:  ['There Will Be Blood' 'Shutter Island' 'No Country for Old Men'\n",
      " 'The Thing' 'The Sixth Sense' 'Jurassic Park' 'Klaus' 'The Truman Show'\n",
      " 'Finding Nemo' 'Stalker' 'Kill Bill: Vol. 1' 'Memories of Murder' 'Fargo'\n",
      " 'Wild Tales' 'Gran Torino' 'The Deer Hunter' 'In the Name of the Father'\n",
      " 'Mary and Max' 'The Grand Budapest Hotel' 'Before Sunrise'\n",
      " 'Catch Me If You Can' 'Gone Girl' 'Hacksaw Ridge' 'Prisoners' 'Persona'\n",
      " 'The Big Lebowski' 'Barry Lyndon' 'How to Train Your Dragon'\n",
      " 'Ford v Ferrari' '12 Years a Slave' 'Mad Max: Fury Road'\n",
      " 'Dead Poets Society' 'Million Dollar Baby' 'Stand by Me'\n",
      " 'Harry Potter and the Deathly Hallows: Part 2' 'Network' 'Ben-Hur'\n",
      " \"Hachi: A Dog's Tale\" 'Cool Hand Luke' 'The Handmaiden' 'Logan' 'Platoon'\n",
      " 'Into the Wild' 'Rush' 'The Wages of Fear' 'La Haine' 'Life of Brian'\n",
      " 'The 400 Blows' 'Soul' 'Spotlight' 'Hotel Rwanda' 'Amores Perros'\n",
      " '\"Monsters, Inc.\"' 'Rocky' 'NausicaÃ¤ of the Valley of the Wind'\n",
      " 'Rebecca' 'Before Sunset' 'In the Mood for Love' '\"Paris, Texas\"'\n",
      " 'Portrait of a Lady on Fire' 'It Happened One Night'\n",
      " 'The Invisible Guest' 'Neon Genesis Evangelion: The End of Evangelion'\n",
      " 'The Battle of Algiers' 'Three Colors: Red']\n"
     ]
    }
   ],
   "source": [
    "# Muestre el o los títulos de películas con la menor calificación.\n",
    "minimo = np.min(ratingArr)\n",
    "print(\"El valor mínimo es: \", minimo)\n",
    "\n",
    "\n",
    "mascaraArr2 = ratingArr == minimo\n",
    "#print(\"Arreglo de booleanos\")\n",
    "#print(mascaraArr2)\n",
    "\n",
    "peliculasCalificacionMinima = titlesArr[mascaraArr2]\n",
    "print(\"Las películas con el rating menor son: \", peliculasCalificacionMinima)"
   ]
  },
  {
   "cell_type": "code",
   "execution_count": 22,
   "id": "512a7a97",
   "metadata": {},
   "outputs": [
    {
     "name": "stdout",
     "output_type": "stream",
     "text": [
      "Indice del valor mínimo:  142\n",
      "Nombre de la película con el rating mínimo:  There Will Be Blood\n"
     ]
    }
   ],
   "source": [
    "# Muestre el o los títulos de películas con la menor calificación.\n",
    "indiceMinimo = np.argmin(ratingArr)\n",
    "\n",
    "print(\"Indice del valor mínimo: \", indiceMinimo)\n",
    "\n",
    "nombreMinimo = titlesArr[indiceMinimo]\n",
    "print(\"Nombre de la película con el rating mínimo: \", nombreMinimo)"
   ]
  },
  {
   "cell_type": "markdown",
   "id": "a353a88e",
   "metadata": {},
   "source": [
    "## Ejercicios - II\n",
    "\n",
    "1. Muestre la cantidad de películas cuya calificación sea mayor que 8.5\n",
    "2. Muestre los nombres de las películas cuya calificación sea mayor que 8.5\n",
    "3. Muestre la cantidad de películas cuya calificación esté en el rango \\[8.2, 8.4\\]. Utilice [where](https://numpy.org/doc/stable/reference/generated/numpy.where.html) para crear una condición múltiple. Tome como referencia los ejemplos del sitio [NumPy where() Multiple Conditions](https://sparkbyexamples.com/python/numpy-where-multiple-conditions/).\n",
    "4. Muestre los nombres de las películas cuya calificación esté en el rango \\[8.2, 8.4\\]."
   ]
  },
  {
   "cell_type": "code",
   "execution_count": 38,
   "id": "a1b8a7be",
   "metadata": {},
   "outputs": [
    {
     "name": "stdout",
     "output_type": "stream",
     "text": [
      "El total de películas con calificación > 8.5 es:  34\n"
     ]
    }
   ],
   "source": [
    "# Muestre la cantidad de películas cuya calificación sea mayor que 8.5\n",
    "\n",
    "mascaraArr3 = ratingArr > 8.5\n",
    "total = np.sum(mascaraArr3)\n",
    "print(\"El total de películas con calificación > 8.5 es: \", total)"
   ]
  },
  {
   "cell_type": "code",
   "execution_count": 43,
   "id": "891c9f75",
   "metadata": {},
   "outputs": [
    {
     "name": "stdout",
     "output_type": "stream",
     "text": [
      "El total de películas con calificación > 8.5 es:  34\n"
     ]
    }
   ],
   "source": [
    "peliculasCondicion = titlesArr[mascaraArr3]\n",
    "print(\"El total de películas con calificación > 8.5 es: \",len(peliculasCondicion))"
   ]
  },
  {
   "cell_type": "code",
   "execution_count": 45,
   "id": "1d289c54",
   "metadata": {},
   "outputs": [
    {
     "name": "stdout",
     "output_type": "stream",
     "text": [
      "El total de películas con calificación > 8.5 es:  34\n"
     ]
    }
   ],
   "source": [
    "cantidad = peliculasCondicion.size\n",
    "\n",
    "print(\"El total de películas con calificación > 8.5 es: \", cantidad)"
   ]
  },
  {
   "cell_type": "code",
   "execution_count": 49,
   "id": "6d62cfe7",
   "metadata": {},
   "outputs": [
    {
     "name": "stdout",
     "output_type": "stream",
     "text": [
      "Películas con el rating entre [8.2, 8.5]\n",
      "['The Green Mile' 'The Lion King' 'The Pianist'\n",
      " 'Terminator 2: Judgment Day' 'Back to the Future' 'American History X'\n",
      " 'Modern Times' 'Gladiator' 'Psycho' 'The Departed' 'City Lights'\n",
      " 'The Intouchables' 'Whiplash' 'Grave of the Fireflies' 'The Prestige'\n",
      " 'Once Upon a Time in the West' 'Casablanca' 'Cinema Paradiso'\n",
      " 'Rear Window' 'Alien' 'Apocalypse Now' 'Memento' 'The Great Dictator'\n",
      " 'Raiders of the Lost Ark' 'Django Unchained' 'The Lives of Others'\n",
      " 'Hamilton' 'Paths of Glory' 'Joker' 'WALLÂ·E' 'The Shining'\n",
      " 'Avengers: Infinity War' 'Sunset Boulevard' 'Witness for the Prosecution'\n",
      " 'Oldboy' 'Spider-Man: Into the Spider-Verse' 'Princess Mononoke'\n",
      " 'Dr. Strangelove' 'The Dark Knight Rises' 'Once Upon a Time in America'\n",
      " 'Your Name.' 'Aliens' 'Coco' 'Avengers: Endgame' 'Capernaum'\n",
      " 'American Beauty' 'Braveheart' 'High and Low' 'Das Boot' 'Toy Story'\n",
      " '3 Idiots' 'Amadeus' 'Inglourious Basterds' 'Good Will Hunting'\n",
      " 'Return of the Jedi' 'Like Stars on Earth' 'Reservoir Dogs'\n",
      " '2001: A Space Odyssey' 'Requiem for a Dream' 'The Hunt' 'Vertigo' 'M'\n",
      " 'Eternal Sunshine of the Spotless Mind' 'Citizen Kane' 'Dangal'\n",
      " \"Singin' in the Rain\" 'Bicycle Thieves' 'The Kid' 'Full Metal Jacket'\n",
      " 'Come and See' 'Snatch' 'Ikiru' 'North by Northwest' 'A Clockwork Orange'\n",
      " 'Scarface' '1917' 'Taxi Driver' 'Incendies' 'A Separation' 'Toy Story 3'\n",
      " 'Lawrence of Arabia' 'The Sting' 'AmÃ©lie' 'Metropolis' 'The Apartment'\n",
      " 'For a Few Dollars More' 'Double Indemnity' 'To Kill a Mockingbird' 'Up'\n",
      " 'Indiana Jones and the Last Crusade' 'Heat' 'L.A. Confidential'\n",
      " 'Green Book' 'Die Hard' 'Monty Python and the Holy Grail' 'Batman Begins'\n",
      " 'Yojimbo' 'Rashomon' 'Downfall' 'Children of Heaven' 'Unforgiven' 'Ran'\n",
      " 'Some Like It Hot' \"Howl's Moving Castle\" 'All About Eve' 'Casino'\n",
      " 'A Beautiful Mind' 'The Wolf of Wall Street' 'The Great Escape'\n",
      " \"Pan's Labyrinth\" 'The Secret in Their Eyes'\n",
      " '\"Lock, Stock and Two Smoking Barrels\"' 'Judgment at Nuremberg'\n",
      " 'Raging Bull' 'My Neighbor Totoro' 'The Treasure of the Sierra Madre'\n",
      " 'Dial M for Murder' '\"Three Billboards Outside Ebbing, Missouri\"'\n",
      " 'Chinatown' 'The Gold Rush' 'My Father and My Son' 'V for Vendetta'\n",
      " 'Inside Out' 'The Elephant Man' 'The Seventh Seal' 'Warrior'\n",
      " 'Trainspotting' 'Gone with the Wind' 'Wild Strawberries' 'Blade Runner'\n",
      " 'The Bridge on the River Kwai' 'Room' 'Tokyo Story' 'The Third Man'\n",
      " 'On the Waterfront' 'Andhadhun' 'Sherlock Jr.' 'To Be or Not to Be'\n",
      " 'The General' 'Autumn Sonata' 'The Bandit' 'Mr. Smith Goes to Washington'\n",
      " 'Ratsasan' 'The Passion of Joan of Arc' 'Gangs of Wasseypur - Part 1'\n",
      " 'Andrei Rublev' 'Time of the Gypsies' 'Rififi' 'Rang De Basanti'\n",
      " 'A Silent Voice: The Movie' 'Tangerines']\n"
     ]
    }
   ],
   "source": [
    "rango = np.where( (ratingArr >= 8.2) & (ratingArr <= 8.5) )\n",
    "nombrePeliculas = titlesArr[rango]\n",
    "\n",
    "print(\"Películas con el rating entre [8.2, 8.5]\")\n",
    "print(nombrePeliculas)"
   ]
  },
  {
   "cell_type": "markdown",
   "id": "583ab1fb",
   "metadata": {},
   "source": [
    "## Ejercicios -  III\n",
    "1. Muestre los valores de calificaciones sin repetir. Utilice la función [unique](https://numpy.org/doc/stable/reference/generated/numpy.unique.html) para obtener un arreglo con valores únicos.\n",
    "2. Muestre la cantidad de películas por cada calificación sin repetir.\n",
    "3. Grafique los valores de calificaciones sin repetir _versus_ la cantidad de películas por calificaciones sin repetir."
   ]
  },
  {
   "cell_type": "code",
   "execution_count": 51,
   "id": "f6efc5c4",
   "metadata": {},
   "outputs": [
    {
     "name": "stdout",
     "output_type": "stream",
     "text": [
      "Rating únicos\n",
      "[8.1 8.2 8.3 8.4 8.5 8.6 8.7 8.8 8.9 9.  9.2 9.3]\n"
     ]
    }
   ],
   "source": [
    "ratingUnicos = np.unique(ratingArr)\n",
    "print(\"Rating únicos\")\n",
    "print(ratingUnicos)"
   ]
  },
  {
   "cell_type": "code",
   "execution_count": 55,
   "id": "005dc42a",
   "metadata": {},
   "outputs": [
    {
     "name": "stdout",
     "output_type": "stream",
     "text": [
      "8.1  ->  65\n",
      "8.2  ->  52\n",
      "8.3  ->  43\n",
      "8.4  ->  27\n",
      "8.5  ->  29\n",
      "8.6  ->  12\n",
      "8.7  ->  6\n",
      "8.8  ->  7\n",
      "8.9  ->  5\n",
      "9.0  ->  2\n",
      "9.2  ->  1\n",
      "9.3  ->  1\n"
     ]
    }
   ],
   "source": [
    "conteo = []\n",
    "\n",
    "for rating in ratingUnicos:\n",
    "    mascara = ratingArr == rating\n",
    "    cantidad = np.sum(mascara)\n",
    "    print(rating, \" -> \", cantidad )\n",
    "    \n",
    "    conteo.append(cantidad)"
   ]
  },
  {
   "cell_type": "code",
   "execution_count": 64,
   "id": "f1a0087a",
   "metadata": {},
   "outputs": [
    {
     "name": "stdout",
     "output_type": "stream",
     "text": [
      "[65 52 43 27 29 12  6  7  5  2  1  1]\n"
     ]
    }
   ],
   "source": [
    "conteoArr = np.array(conteo)\n",
    "print(conteoArr)"
   ]
  },
  {
   "cell_type": "code",
   "execution_count": 74,
   "id": "b9b0656c",
   "metadata": {},
   "outputs": [
    {
     "data": {
      "text/plain": [
       "<BarContainer object of 12 artists>"
      ]
     },
     "execution_count": 74,
     "metadata": {},
     "output_type": "execute_result"
    },
    {
     "data": {
      "image/png": "[encoded data removed]",
      "text/plain": [
       "<Figure size 640x480 with 1 Axes>"
      ]
     },
     "metadata": {},
     "output_type": "display_data"
    }
   ],
   "source": [
    "plt.bar( ratingUnicos.astype(str), conteoArr )"
   ]
  }
 ],
 "metadata": {
  "kernelspec": {
   "display_name": "Python 3 (ipykernel)",
   "language": "python",
   "name": "python3"
  },
  "language_info": {
   "codemirror_mode": {
    "name": "ipython",
    "version": 3
   },
   "file_extension": ".py",
   "mimetype": "text/x-python",
   "name": "python",
   "nbconvert_exporter": "python",
   "pygments_lexer": "ipython3",
   "version": "3.11.5"
  }
 },
 "nbformat": 4,
 "nbformat_minor": 5
}
