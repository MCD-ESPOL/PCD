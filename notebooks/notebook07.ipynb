{
 "cells": [
  {
   "cell_type": "markdown",
   "id": "e1ea83ad",
   "metadata": {},
   "source": [
    "# Arreglos\n",
    "\n",
    "Los arreglos, y matrices, son tipos de datos estructurados homogéneos (un solo tipo de dato), optimizados para el cálculo usando vectores y matrices. Los arrays suelen contener números enteros, reales y complejos. \n",
    "\n",
    "Python no tiene soporte integrado para arreglos. Para esto, utilizamos el librería [NumPy](https://numpy.org/), cuya documentación se encuentra en [NumPy documentation](https://numpy.org/doc/stable/).\n",
    "\n",
    "<div align=\"center\">\n",
    "    <img src=\"https://github.com/MCD-ESPOL/PCD/blob/main/notebooks/images/logo.svg?raw=true\" width=\"15%\">\n",
    "</div>"
   ]
  },
  {
   "cell_type": "markdown",
   "id": "9e263cc7",
   "metadata": {},
   "source": [
    "## Importar librerías externas"
   ]
  },
  {
   "cell_type": "code",
   "execution_count": 2,
   "id": "d6976bb1",
   "metadata": {},
   "outputs": [],
   "source": [
    "# Importe el librería numpy, con: import numpy as np\n",
    "# Importe la librería matplotlib.pyplot, con: import matplotlib.pyplot as plt\n",
    "\n",
    "\n"
   ]
  },
  {
   "cell_type": "markdown",
   "id": "e2290718",
   "metadata": {},
   "source": [
    "## De lista a arreglos\n",
    "\n",
    "Para crear [un arreglo a partir de una lista](https://numpy.org/doc/stable/user/basics.creation.html#converting-python-sequences-to-numpy-arrays), utilizaremos la función **array**.\n",
    "\n",
    "\n",
    "\n",
    "<div align=\"center\">\n",
    "    <img src=\"https://github.com/MCD-ESPOL/PCD/blob/main/notebooks/images/arr_ini.png?raw=true\" width=\"40%\">\n",
    "</div>"
   ]
  },
  {
   "cell_type": "code",
   "execution_count": 15,
   "id": "700abc08",
   "metadata": {},
   "outputs": [],
   "source": [
    "# Convierta las listas en los arreglos nombres_librosArr, genero_literarioArr y ventasArr\n",
    "\n",
    "nombres_libros = ['El señor de los anillos', 'Cien años de soledad', 'Harry Potter', '1984', 'Orgullo y prejuicio', 'Crimen y castigo', 'El gran Gatsby', 'Matar un ruiseñor', 'La Odisea', 'Don Quijote de la Mancha']\n",
    "genero_literario = ['Fantasía', 'Realismo mágico', 'Fantasía', 'Distopía', 'Novela romántica', 'Novela psicológica', 'Ficción moderna', 'Novela clásica', 'Epopeya', 'Novela clásica']\n",
    "ventas = [150, 120, 200, 90, 80, 110, 95, 130, 75, 160]\n",
    "\n",
    "\n"
   ]
  },
  {
   "cell_type": "code",
   "execution_count": null,
   "id": "8e3c07cc",
   "metadata": {},
   "outputs": [],
   "source": [
    "# Muestre los arreglos nombres_librosArr, genero_literarioArr y ventasArr\n"
   ]
  },
  {
   "cell_type": "markdown",
   "id": "afdb2861",
   "metadata": {},
   "source": [
    "## Operaciones con arreglos\n",
    "\n",
    "Numpy ofrece un grupo de [funciones agregadas](https://www.tutorialgateway.org/python-numpy-aggregate-functions/), como: **sum**, **mean**, **std**,  **max**, **min**, **argmin**, **argmax** y muchas más.\n",
    "\n",
    "La lista completa de [funciones matemáticas](https://numpy.org/doc/stable/reference/routines.math.html) puede encontrarla en la documentación de Numpy.\n",
    "\n",
    "\n",
    "\n",
    "\n",
    "<div align=\"center\">\n",
    "    <img src=\"https://github.com/MCD-ESPOL/PCD/blob/main/notebooks/images/arr_aggr.png?raw=true\" width=\"60%\">\n",
    "</div>\n",
    "\n"
   ]
  },
  {
   "cell_type": "code",
   "execution_count": 43,
   "id": "dc63ee82",
   "metadata": {},
   "outputs": [],
   "source": [
    "# Muestre el valor máximo del arreglo ventasArr\n"
   ]
  },
  {
   "cell_type": "code",
   "execution_count": null,
   "id": "00a83c55",
   "metadata": {},
   "outputs": [],
   "source": [
    "# Obtenga el índice del valor máximo del arreglo ventasArr\n",
    "\n",
    "\n",
    "# Con el valor anterior, indexe arreglos nombres_librosArr y genero_literarioArr\n",
    "# Muestre los elementos obtenidos de la indexación\n",
    "\n",
    "\n"
   ]
  },
  {
   "cell_type": "markdown",
   "id": "89641cd7",
   "metadata": {},
   "source": [
    "## Indexación y Rebanadas\n",
    "\n",
    "Al igual que las listas, es posible acceder a un elemento (indexación) o a un grupo de elementos (rebanadas) de en un arreglo.\n",
    "\n",
    "<div align=\"center\">\n",
    "    <img src=\"https://github.com/MCD-ESPOL/PCD/blob/main/notebooks/images/arr_index_slicing.png?raw=true\" width=\"50%\">\n",
    "</div>"
   ]
  },
  {
   "cell_type": "code",
   "execution_count": 16,
   "id": "4d2339d2",
   "metadata": {},
   "outputs": [],
   "source": [
    "# Muestre los 3 primeros elementos de cada uno de los arreglos nombres_librosArr, genero_literarioArr y ventasArr\n"
   ]
  },
  {
   "cell_type": "markdown",
   "id": "c1ff9ab6",
   "metadata": {},
   "source": [
    "## Búsqueda (filtrado) de valores\n",
    "\n",
    "A diferencia de las listas, es posible crear un arreglo (mascaraArr) a partir de aplicar una **condición** a todos los elementos de un arreglo.\n",
    "\n",
    "\n",
    "\n",
    "<div align=\"center\">\n",
    "    <img src=\"https://github.com/MCD-ESPOL/PCD/blob/main/notebooks/images/arr_mask.png?raw=true\" width=\"60%\">\n",
    "</div>"
   ]
  },
  {
   "cell_type": "code",
   "execution_count": null,
   "id": "935f52fd",
   "metadata": {},
   "outputs": [],
   "source": [
    "# Cree una máscara con el arreglo genero_literarioArr cuyos elementos sean igual que 'Fantasía'\n"
   ]
  },
  {
   "cell_type": "code",
   "execution_count": 44,
   "id": "95f546be",
   "metadata": {},
   "outputs": [],
   "source": [
    "# Utilice la máscara para filtrar el arreglo nombres_librosArr\n",
    "# Muestre el arreglo resultante\n"
   ]
  },
  {
   "cell_type": "code",
   "execution_count": null,
   "id": "e4b1ffa9",
   "metadata": {},
   "outputs": [],
   "source": [
    "# Utilice la máscara para filtrar el arreglo ventasArr\n",
    "# Muestre el arreglo resultante\n",
    "# Obtenga y muestre el total \n",
    "\n"
   ]
  },
  {
   "cell_type": "code",
   "execution_count": 19,
   "id": "0150c4e2",
   "metadata": {},
   "outputs": [],
   "source": [
    "valoresLst = [1,2,3,4]\n",
    "valoresArr = np.array( valoresLst )  "
   ]
  },
  {
   "cell_type": "code",
   "execution_count": 30,
   "id": "d637b1c8",
   "metadata": {},
   "outputs": [
    {
     "name": "stdout",
     "output_type": "stream",
     "text": [
      "Arreglo con la evaluación de los elementos:  [False  True  True  True]\n"
     ]
    }
   ],
   "source": [
    "mascaraArr = valoresArr >= 2\n",
    "print(\"Arreglo con la evaluación de los elementos: \", mascaraArr)"
   ]
  },
  {
   "cell_type": "code",
   "execution_count": 32,
   "id": "edbf7fe8",
   "metadata": {},
   "outputs": [
    {
     "name": "stdout",
     "output_type": "stream",
     "text": [
      "Arreglo con los elementos que cumplen con la condición:  [2 3 4]\n"
     ]
    }
   ],
   "source": [
    "\n",
    "mayoresArr = valoresArr[mascaraArr]\n",
    "print(\"Arreglo con los elementos que cumplen con la condición: \", mayoresArr)"
   ]
  },
  {
   "cell_type": "code",
   "execution_count": 36,
   "id": "ddb56c11",
   "metadata": {},
   "outputs": [
    {
     "name": "stdout",
     "output_type": "stream",
     "text": [
      "El promedio de los elementos del arreglo es:  2.5\n"
     ]
    }
   ],
   "source": [
    "promedio = np.mean( valoresArr )\n",
    "print(\"El promedio de los elementos del arreglo es: \", promedio)"
   ]
  },
  {
   "cell_type": "code",
   "execution_count": 38,
   "id": "6798c283",
   "metadata": {},
   "outputs": [
    {
     "name": "stdout",
     "output_type": "stream",
     "text": [
      "La desviación estándar de los elementos del arreglo es:  1.118033988749895\n"
     ]
    }
   ],
   "source": [
    "desviacionStd = np.std( valoresArr )\n",
    "print(\"La desviación estándar de los elementos del arreglo es: \", desviacionStd)"
   ]
  },
  {
   "cell_type": "code",
   "execution_count": 40,
   "id": "79559eb0",
   "metadata": {},
   "outputs": [
    {
     "name": "stdout",
     "output_type": "stream",
     "text": [
      "El valor máximo del arreglo es:  4\n"
     ]
    }
   ],
   "source": [
    "maximo = np.max( valoresArr )\n",
    "print(\"El valor máximo del arreglo es: \", maximo)"
   ]
  },
  {
   "cell_type": "code",
   "execution_count": 42,
   "id": "0cbebe53",
   "metadata": {},
   "outputs": [
    {
     "name": "stdout",
     "output_type": "stream",
     "text": [
      "El índice del valor máximo del arreglo es:  3\n",
      "El valor máximo del arreglo es:  4\n"
     ]
    }
   ],
   "source": [
    "indiceMax = np.argmax( valoresArr )\n",
    "print(\"El índice del valor máximo del arreglo es: \", indiceMax)\n",
    "\n",
    "valorMax = valoresArr[indiceMax]\n",
    "print(\"El valor máximo del arreglo es: \", valorMax)"
   ]
  }
 ],
 "metadata": {
  "kernelspec": {
   "display_name": "Python 3 (ipykernel)",
   "language": "python",
   "name": "python3"
  },
  "language_info": {
   "codemirror_mode": {
    "name": "ipython",
    "version": 3
   },
   "file_extension": ".py",
   "mimetype": "text/x-python",
   "name": "python",
   "nbconvert_exporter": "python",
   "pygments_lexer": "ipython3",
   "version": "3.11.5"
  }
 },
 "nbformat": 4,
 "nbformat_minor": 5
}
