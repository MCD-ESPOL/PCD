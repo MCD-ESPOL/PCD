{
 "cells": [
  {
   "cell_type": "markdown",
   "id": "5dcffc85",
   "metadata": {},
   "source": [
    "# Arreglos\n",
    "\n",
    "Los arreglos, y matrices, son tipos de datos estructurados homogéneos (un solo tipo de dato), optimizados para el cálculo usando vectores y matrices. Los arrays suelen contener números enteros, reales y complejos. \n",
    "\n",
    "Python no tiene soporte integrado para arreglos. Para esto, utilizamos el librería [NumPy](https://numpy.org/), cuya documentación se encuentra en [NumPy documentation](https://numpy.org/doc/stable/).\n",
    "\n",
    "<div align=\"center\">\n",
    "    <img src=\"https://github.com/MCD-ESPOL/PCD/blob/main/notebooks/images/logo.svg?raw=true\" width=\"15%\">\n",
    "</div>"
   ]
  },
  {
   "cell_type": "markdown",
   "id": "2fedb79b",
   "metadata": {},
   "source": [
    "## Importar librerías externas"
   ]
  },
  {
   "cell_type": "code",
   "execution_count": 1,
   "id": "c6e20e43",
   "metadata": {},
   "outputs": [],
   "source": [
    "# Importe la librería numpy, con: import numpy as np\n",
    "# Importe la libreria matplotlib, con: import matplotlib.pyplot as plt\n",
    "\n",
    "import numpy as np\n",
    "import matplotlib.pyplot as plt"
   ]
  },
  {
   "cell_type": "markdown",
   "id": "0416b3dd",
   "metadata": {},
   "source": [
    "## De lista a arreglos\n",
    "\n",
    "Para crear [un arreglo a partir de una lista](https://numpy.org/doc/stable/user/basics.creation.html#converting-python-sequences-to-numpy-arrays), utilizaremos la función **array**.\n",
    "\n",
    "\n",
    "\n",
    "<div align=\"center\">\n",
    "    <img src=\"https://github.com/MCD-ESPOL/PCD/blob/main/notebooks/images/arr_ini.png?raw=true\" width=\"40%\">\n",
    "</div>"
   ]
  },
  {
   "cell_type": "code",
   "execution_count": 2,
   "id": "b28af931",
   "metadata": {},
   "outputs": [],
   "source": [
    "# Convierta las listas en los arreglos nombres_librosArr, genero_literarioArr y ventasArr\n",
    "\n",
    "nombres_libros = ['El señor de los anillos', 'Cien años de soledad', 'Harry Potter', '1984', 'Orgullo y prejuicio', 'Crimen y castigo', 'El gran Gatsby', 'Matar un ruiseñor', 'La Odisea', 'Don Quijote de la Mancha']\n",
    "genero_literario = ['Fantasía', 'Realismo mágico', 'Fantasía', 'Distopía', 'Novela romántica', 'Novela psicológica', 'Ficción moderna', 'Novela clásica', 'Epopeya', 'Novela clásica']\n",
    "ventas = [150, 120, 200, 90, 80, 110, 95, 130, 75, 160]\n",
    "\n",
    "nombres_librosArr = np.array(nombres_libros)\n",
    "genero_literarioArr = np.array(genero_literario)\n",
    "ventasArr = np.array(ventas)"
   ]
  },
  {
   "cell_type": "code",
   "execution_count": 5,
   "id": "b3581601",
   "metadata": {},
   "outputs": [
    {
     "name": "stdout",
     "output_type": "stream",
     "text": [
      "Lista:  ['El señor de los anillos', 'Cien años de soledad', 'Harry Potter', '1984', 'Orgullo y prejuicio', 'Crimen y castigo', 'El gran Gatsby', 'Matar un ruiseñor', 'La Odisea', 'Don Quijote de la Mancha']\n",
      "Arreglo:  ['El señor de los anillos' 'Cien años de soledad' 'Harry Potter' '1984'\n",
      " 'Orgullo y prejuicio' 'Crimen y castigo' 'El gran Gatsby'\n",
      " 'Matar un ruiseñor' 'La Odisea' 'Don Quijote de la Mancha']\n"
     ]
    }
   ],
   "source": [
    "# Muestre los arreglos nombres_librosArr, genero_literarioArr y ventasArr\n",
    "\n",
    "print(\"Lista: \",nombres_libros)\n",
    "print(\"Arreglo: \", nombres_librosArr)"
   ]
  },
  {
   "cell_type": "markdown",
   "id": "51c35a99",
   "metadata": {},
   "source": [
    "## Operaciones con arreglos\n",
    "\n",
    "Numpy ofrece un grupo de [funciones agregadas](https://www.tutorialgateway.org/python-numpy-aggregate-functions/), como: **sum**, **mean**, **std**,  **max**, **min**, **argmin**, **argmax** y muchas más.\n",
    "\n",
    "La lista completa de [funciones matemáticas](https://numpy.org/doc/stable/reference/routines.math.html) puede encontrarla en la documentación de Numpy.\n",
    "\n",
    "\n",
    "\n",
    "\n",
    "<div align=\"center\">\n",
    "    <img src=\"https://github.com/MCD-ESPOL/PCD/blob/main/notebooks/images/arr_aggr.png?raw=true\" width=\"60%\">\n",
    "</div>\n",
    "\n"
   ]
  },
  {
   "cell_type": "code",
   "execution_count": 6,
   "id": "65bc0556",
   "metadata": {},
   "outputs": [
    {
     "name": "stdout",
     "output_type": "stream",
     "text": [
      "El valor máximo:  200\n"
     ]
    }
   ],
   "source": [
    "# Muestre el valor máximo del arreglo ventasArr\n",
    "\n",
    "maximo = np.max(ventasArr)\n",
    "print(\"El valor máximo: \", maximo)"
   ]
  },
  {
   "cell_type": "code",
   "execution_count": 11,
   "id": "bf4abd6f",
   "metadata": {},
   "outputs": [
    {
     "name": "stdout",
     "output_type": "stream",
     "text": [
      "El índice del máximo es:  2\n",
      "Harry Potter tiene el valor máximo $200, cuyo género es Fantasía\n"
     ]
    }
   ],
   "source": [
    "# Obtenga el índice del valor máximo del arreglo ventasArr\n",
    "indice = np.argmax(ventasArr)\n",
    "print(\"El índice del máximo es: \", indice)\n",
    "\n",
    "# Con el valor anterior, indexe arreglos nombres_librosArr y genero_literarioArr\n",
    "# Muestre los elementos obtenidos de la indexación\n",
    "nombre = nombres_librosArr[indice]\n",
    "genero = genero_literarioArr[indice]\n",
    "\n",
    "print(f\"{nombre} tiene el valor máximo ${maximo}, cuyo género es {genero}\")"
   ]
  },
  {
   "cell_type": "code",
   "execution_count": 12,
   "id": "2745645f",
   "metadata": {},
   "outputs": [
    {
     "name": "stdout",
     "output_type": "stream",
     "text": [
      "El total es $1210\n"
     ]
    }
   ],
   "source": [
    "# Obtenga y muestre el total de ventasArr \n",
    "\n",
    "total = np.sum(ventasArr)\n",
    "print(f\"El total es ${total}\")"
   ]
  },
  {
   "cell_type": "markdown",
   "id": "11e83e5c",
   "metadata": {},
   "source": [
    "## Indexación y Rebanadas\n",
    "\n",
    "Al igual que las listas, es posible acceder a un elemento (indexación) o a un grupo de elementos (rebanadas) de en un arreglo.\n",
    "\n",
    "<div align=\"center\">\n",
    "    <img src=\"https://github.com/MCD-ESPOL/PCD/blob/main/notebooks/images/arr_index_slicing.png?raw=true\" width=\"50%\">\n",
    "</div>"
   ]
  },
  {
   "cell_type": "code",
   "execution_count": 14,
   "id": "91560d1b",
   "metadata": {},
   "outputs": [
    {
     "name": "stdout",
     "output_type": "stream",
     "text": [
      "Tres primeros libros:  ['El señor de los anillos' 'Cien años de soledad' 'Harry Potter']\n",
      "Tres primeros libros:  ['Fantasía' 'Realismo mágico' 'Fantasía']\n",
      "Tres primeros libros:  [150 120 200]\n"
     ]
    }
   ],
   "source": [
    "# Muestre los 3 primeros elementos de cada uno de los arreglos nombres_librosArr, genero_literarioArr y ventasArr\n",
    "\n",
    "tresNombres = nombres_librosArr[0:3]\n",
    "print(\"Tres primeros libros: \", tresNombres)\n",
    "\n",
    "tresGeneros = genero_literarioArr[0:3]\n",
    "print(\"Tres primeros libros: \", tresGeneros)\n",
    "\n",
    "tresVenta = ventasArr[0:3]\n",
    "print(\"Tres primeros libros: \", tresVenta)"
   ]
  },
  {
   "cell_type": "markdown",
   "id": "d02a0506",
   "metadata": {},
   "source": [
    "## Búsqueda (filtrado) de valores\n",
    "\n",
    "A diferencia de las listas, es posible crear un arreglo (mascaraArr) a partir de aplicar una **condición** a todos los elementos de un arreglo.\n",
    "\n",
    "\n",
    "\n",
    "<div align=\"center\">\n",
    "    <img src=\"https://github.com/MCD-ESPOL/PCD/blob/main/notebooks/images/arr_mask.png?raw=true\" width=\"60%\">\n",
    "</div>"
   ]
  },
  {
   "cell_type": "code",
   "execution_count": null,
   "id": "234a95d6",
   "metadata": {},
   "outputs": [],
   "source": [
    "# Cree una máscara con el arreglo genero_literarioArr cuyos elementos sean igual que 'Fantasía'\n"
   ]
  },
  {
   "cell_type": "code",
   "execution_count": null,
   "id": "23baf2cd",
   "metadata": {},
   "outputs": [],
   "source": [
    "# Utilice la máscara para filtrar el arreglo nombres_librosArr\n",
    "# Muestre el arreglo resultante\n"
   ]
  },
  {
   "cell_type": "code",
   "execution_count": null,
   "id": "79c08464",
   "metadata": {},
   "outputs": [],
   "source": [
    "# Utilice la máscara para filtrar el arreglo ventasArr\n",
    "# Muestre el arreglo resultante\n",
    "# Obtenga y muestre el total \n",
    "\n"
   ]
  },
  {
   "cell_type": "markdown",
   "id": "52915934",
   "metadata": {},
   "source": [
    "## Archivos\n",
    "\n",
    "Descargue los archivos [titles.csv](https://github.com/MCD-ESPOL/PCD/blob/main/notebooks/titles.csv) y [rating.csv](https://github.com/MCD-ESPOL/PCD/blob/main/notebooks/rating.csv). Luego, coloque los archivos csv en el mismo directorio que este cuaderno."
   ]
  },
  {
   "cell_type": "markdown",
   "id": "aa2df5f3",
   "metadata": {},
   "source": [
    "## Carga de datos\n",
    "\n",
    "\n",
    "Utilice la función [loadtxt](https://numpy.org/doc/stable/reference/generated/numpy.loadtxt.html) para cargar los datos de un archivo de texto.\n",
    "\n",
    "\n",
    "\n",
    "<div align=\"center\">\n",
    "    <img src=\"https://github.com/MCD-ESPOL/PCD/blob/main/notebooks/images/arr_load1.png?raw=true\" width=\"50%\">\n",
    "</div>\n",
    "\n",
    "\n"
   ]
  },
  {
   "cell_type": "code",
   "execution_count": 69,
   "id": "fb9fd3f6",
   "metadata": {},
   "outputs": [],
   "source": [
    "# Cargue los datos de 'titles.csv', cuyo delimitador es ';' y el tipo de dato (dtype) es str\n"
   ]
  },
  {
   "cell_type": "code",
   "execution_count": 71,
   "id": "0a5d01e7",
   "metadata": {},
   "outputs": [],
   "source": [
    "# Cargue los datos de 'rating.csv', cuyo delimitador es ';' y el tipo de dato (dtype) es float\n"
   ]
  },
  {
   "cell_type": "markdown",
   "id": "a7b1a6cb",
   "metadata": {},
   "source": [
    "## Ejercicios - I\n",
    "\n",
    "1. Muestre el o los títulos de películas con la mayor calificación.\n",
    "2. Muestre el o los títulos de películas con la menor calificación.\n",
    "4. Solicite el ingreso de un valor de calificación y muestre las películas con dicha calificación.\n"
   ]
  },
  {
   "cell_type": "code",
   "execution_count": null,
   "id": "63964d3d",
   "metadata": {},
   "outputs": [],
   "source": []
  },
  {
   "cell_type": "markdown",
   "id": "a353a88e",
   "metadata": {},
   "source": [
    "## Ejercicios - II\n",
    "\n",
    "1. Muestre la cantidad de películas cuya calificación sea mayor que 8.5\n",
    "2. Muestre los nombres de las películas cuya calificación sea mayor que 8.5\n",
    "3. Muestre la cantidad de películas cuya calificación esté en el rango \\[8.2, 8.4\\]. Utilice [where](https://numpy.org/doc/stable/reference/generated/numpy.where.html) para crear una condición múltiple. Tome como referencia los ejemplos del sitio [NumPy where() Multiple Conditions](https://sparkbyexamples.com/python/numpy-where-multiple-conditions/).\n",
    "4. Muestre los nombres de las películas cuya calificación esté en el rango \\[8.2, 8.4\\]."
   ]
  },
  {
   "cell_type": "code",
   "execution_count": null,
   "id": "a1b8a7be",
   "metadata": {},
   "outputs": [],
   "source": []
  },
  {
   "cell_type": "markdown",
   "id": "583ab1fb",
   "metadata": {},
   "source": [
    "## Ejercicios -  III\n",
    "1. Muestre los valores de calificaciones sin repetir. Utilice la función [unique](https://numpy.org/doc/stable/reference/generated/numpy.unique.html) para obtener un arreglo con valores únicos.\n",
    "2. Muestre la cantidad de películas por cada calificación sin repetir.\n",
    "3. Grafique los valores de calificaciones sin repetir _versus_ la cantidad de películas por calificaciones sin repetir."
   ]
  },
  {
   "cell_type": "code",
   "execution_count": null,
   "id": "f6efc5c4",
   "metadata": {},
   "outputs": [],
   "source": []
  }
 ],
 "metadata": {
  "kernelspec": {
   "display_name": "Python 3 (ipykernel)",
   "language": "python",
   "name": "python3"
  },
  "language_info": {
   "codemirror_mode": {
    "name": "ipython",
    "version": 3
   },
   "file_extension": ".py",
   "mimetype": "text/x-python",
   "name": "python",
   "nbconvert_exporter": "python",
   "pygments_lexer": "ipython3",
   "version": "3.11.5"
  }
 },
 "nbformat": 4,
 "nbformat_minor": 5
}
