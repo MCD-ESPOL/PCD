{
 "cells": [
  {
   "cell_type": "markdown",
   "id": "dc2dc9bb",
   "metadata": {},
   "source": [
    "# Estructuras de control: iterativas\n",
    "\n",
    "Cuando se requiere hacer un conjunto de cálculos sobre una serie de datos, es decir, hacer un esquema de recorrido (iteración definida) o aplicar el bloque de instrucciones sobre un grupo de elementos (números, string, etc.) es preferible utilizar la sentencia **for**"
   ]
  },
  {
   "cell_type": "code",
   "execution_count": null,
   "id": "e2211672",
   "metadata": {},
   "outputs": [],
   "source": []
  }
 ],
 "metadata": {
  "kernelspec": {
   "display_name": "Python 3 (ipykernel)",
   "language": "python",
   "name": "python3"
  },
  "language_info": {
   "codemirror_mode": {
    "name": "ipython",
    "version": 3
   },
   "file_extension": ".py",
   "mimetype": "text/x-python",
   "name": "python",
   "nbconvert_exporter": "python",
   "pygments_lexer": "ipython3",
   "version": "3.11.5"
  }
 },
 "nbformat": 4,
 "nbformat_minor": 5
}
