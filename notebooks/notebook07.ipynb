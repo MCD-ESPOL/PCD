{
 "cells": [
  {
   "cell_type": "markdown",
   "id": "c586c0f2",
   "metadata": {},
   "source": [
    "# Arreglos\n",
    "\n",
    "Los arreglos, y matrices, son tipos de datos estructurados homogéneos (un solo tipo de dato), optimizados para el cálculo usando vectores y matrices. Los arrays suelen contener números enteros, reales y complejos. \n",
    "\n",
    "Python no tiene soporte integrado para arreglos. Para esto, utilizamos el librería [NumPy](https://numpy.org/), cuya documentación se encuentra en [NumPy documentation](https://numpy.org/doc/stable/).\n",
    "\n",
    "<div align=\"center\">\n",
    "    <img src=\"https://github.com/MCD-ESPOL/PCD/blob/main/notebooks/images/logo.svg?raw=true\" width=\"15%\">\n",
    "</div>"
   ]
  },
  {
   "cell_type": "markdown",
   "id": "2751c385",
   "metadata": {},
   "source": [
    "## Importar librerías externas"
   ]
  },
  {
   "cell_type": "code",
   "execution_count": null,
   "id": "c104ed0b",
   "metadata": {},
   "outputs": [],
   "source": [
    "# Importe la librería numpy, con: import numpy as np\n",
    "# Importe la libreria matplotlib, con: import matplotlib.pyplot as plt\n"
   ]
  },
  {
   "cell_type": "markdown",
   "id": "6b1ca70b",
   "metadata": {},
   "source": [
    "## De lista a arreglos\n",
    "\n",
    "Para crear [un arreglo a partir de una lista](https://numpy.org/doc/stable/user/basics.creation.html#converting-python-sequences-to-numpy-arrays), utilizaremos la función **array**.\n",
    "\n",
    "\n",
    "\n",
    "<div align=\"center\">\n",
    "    <img src=\"https://github.com/MCD-ESPOL/PCD/blob/main/notebooks/images/arr_ini.png?raw=true\" width=\"40%\">\n",
    "</div>"
   ]
  },
  {
   "cell_type": "code",
   "execution_count": null,
   "id": "e375ed6c",
   "metadata": {},
   "outputs": [],
   "source": [
    "# Convierta las listas en los arreglos nombres_librosArr, genero_literarioArr y ventasArr\n",
    "\n",
    "nombres_libros = ['El señor de los anillos', 'Cien años de soledad', 'Harry Potter', '1984', 'Orgullo y prejuicio', 'Crimen y castigo', 'El gran Gatsby', 'Matar un ruiseñor', 'La Odisea', 'Don Quijote de la Mancha']\n",
    "genero_literario = ['Fantasía', 'Realismo mágico', 'Fantasía', 'Distopía', 'Novela romántica', 'Novela psicológica', 'Ficción moderna', 'Novela clásica', 'Epopeya', 'Novela clásica']\n",
    "ventas = [150, 120, 200, 90, 80, 110, 95, 130, 75, 160]\n",
    "\n",
    "\n"
   ]
  },
  {
   "cell_type": "code",
   "execution_count": null,
   "id": "1770f4f6",
   "metadata": {},
   "outputs": [],
   "source": [
    "# Muestre los arreglos nombres_librosArr, genero_literarioArr y ventasArr\n"
   ]
  },
  {
   "cell_type": "markdown",
   "id": "be103b9e",
   "metadata": {},
   "source": [
    "## Operaciones con arreglos\n",
    "\n",
    "Numpy ofrece un grupo de [funciones agregadas](https://www.tutorialgateway.org/python-numpy-aggregate-functions/), como: **sum**, **mean**, **std**,  **max**, **min**, **argmin**, **argmax** y muchas más.\n",
    "\n",
    "La lista completa de [funciones matemáticas](https://numpy.org/doc/stable/reference/routines.math.html) puede encontrarla en la documentación de Numpy.\n",
    "\n",
    "\n",
    "\n",
    "\n",
    "<div align=\"center\">\n",
    "    <img src=\"https://github.com/MCD-ESPOL/PCD/blob/main/notebooks/images/arr_aggr.png?raw=true\" width=\"60%\">\n",
    "</div>\n",
    "\n"
   ]
  },
  {
   "cell_type": "code",
   "execution_count": null,
   "id": "8736c48a",
   "metadata": {},
   "outputs": [],
   "source": [
    "# Muestre el valor máximo del arreglo ventasArr\n"
   ]
  },
  {
   "cell_type": "code",
   "execution_count": null,
   "id": "ecfc82b5",
   "metadata": {},
   "outputs": [],
   "source": [
    "# Obtenga el índice del valor máximo del arreglo ventasArr\n",
    "\n",
    "\n",
    "# Con el valor anterior, indexe arreglos nombres_librosArr y genero_literarioArr\n",
    "# Muestre los elementos obtenidos de la indexación\n",
    "\n",
    "\n"
   ]
  },
  {
   "cell_type": "code",
   "execution_count": null,
   "id": "5a8e5598",
   "metadata": {},
   "outputs": [],
   "source": [
    "# Obtenga y muestre el total de ventasArr \n",
    "\n"
   ]
  },
  {
   "cell_type": "markdown",
   "id": "e3d6fb7a",
   "metadata": {},
   "source": [
    "## Indexación y Rebanadas\n",
    "\n",
    "Al igual que las listas, es posible acceder a un elemento (indexación) o a un grupo de elementos (rebanadas) de en un arreglo.\n",
    "\n",
    "<div align=\"center\">\n",
    "    <img src=\"https://github.com/MCD-ESPOL/PCD/blob/main/notebooks/images/arr_index_slicing.png?raw=true\" width=\"50%\">\n",
    "</div>"
   ]
  },
  {
   "cell_type": "code",
   "execution_count": null,
   "id": "18cef2f2",
   "metadata": {},
   "outputs": [],
   "source": [
    "# Muestre los 3 primeros elementos de cada uno de los arreglos nombres_librosArr, genero_literarioArr y ventasArr\n"
   ]
  },
  {
   "cell_type": "markdown",
   "id": "9e46fcdf",
   "metadata": {},
   "source": [
    "## Búsqueda (filtrado) de valores\n",
    "\n",
    "A diferencia de las listas, es posible crear un arreglo (mascaraArr) a partir de aplicar una **condición** a todos los elementos de un arreglo.\n",
    "\n",
    "\n",
    "\n",
    "<div align=\"center\">\n",
    "    <img src=\"https://github.com/MCD-ESPOL/PCD/blob/main/notebooks/images/arr_mask.png?raw=true\" width=\"60%\">\n",
    "</div>"
   ]
  },
  {
   "cell_type": "code",
   "execution_count": null,
   "id": "5e0fbb6c",
   "metadata": {},
   "outputs": [],
   "source": [
    "# Cree una máscara con el arreglo genero_literarioArr cuyos elementos sean igual que 'Fantasía'\n"
   ]
  },
  {
   "cell_type": "code",
   "execution_count": null,
   "id": "d8467f18",
   "metadata": {},
   "outputs": [],
   "source": [
    "# Utilice la máscara para filtrar el arreglo nombres_librosArr\n",
    "# Muestre el arreglo resultante\n"
   ]
  },
  {
   "cell_type": "code",
   "execution_count": null,
   "id": "adef82fc",
   "metadata": {},
   "outputs": [],
   "source": [
    "# Utilice la máscara para filtrar el arreglo ventasArr\n",
    "# Muestre el arreglo resultante\n",
    "# Obtenga y muestre el total \n",
    "\n"
   ]
  },
  {
   "cell_type": "markdown",
   "id": "7f672f2e",
   "metadata": {},
   "source": [
    "## Archivos\n",
    "\n",
    "Descargue los archivos [titles.csv](https://github.com/MCD-ESPOL/PCD/blob/main/notebooks/titles.csv) y [rating.csv](https://github.com/MCD-ESPOL/PCD/blob/main/notebooks/rating.csv). Luego, coloque los archivos csv en el mismo directorio que este cuaderno."
   ]
  },
  {
   "cell_type": "markdown",
   "id": "c3ea5476",
   "metadata": {},
   "source": [
    "## Carga de datos\n",
    "\n",
    "\n",
    "Utilice la función [loadtxt](https://numpy.org/doc/stable/reference/generated/numpy.loadtxt.html) para cargar los datos en en archivos.\n",
    "\n",
    "\n",
    "\n",
    "<div align=\"center\">\n",
    "    <img src=\"https://github.com/MCD-ESPOL/PCD/blob/main/notebooks/images/arr_load1.png?raw=true\" width=\"50%\">\n",
    "</div>\n",
    "\n",
    "\n"
   ]
  },
  {
   "cell_type": "code",
   "execution_count": 69,
   "id": "d9b84ca2",
   "metadata": {},
   "outputs": [],
   "source": [
    "# Cargue los datos de 'titles.csv', cuyo delimitador es ';' y el tipo de dato (dtype) es str\n"
   ]
  },
  {
   "cell_type": "code",
   "execution_count": 71,
   "id": "408224d1",
   "metadata": {},
   "outputs": [],
   "source": [
    "# Cargue los datos de 'rating.csv', cuyo delimitador es ';' y el tipo de dato (dtype) es float\n"
   ]
  },
  {
   "cell_type": "code",
   "execution_count": 74,
   "id": "beca2335",
   "metadata": {},
   "outputs": [
    {
     "data": {
      "text/plain": [
       "(array(['The Shawshank Redemption', 'The Godfather',\n",
       "        'The Godfather: Part II', 'The Dark Knight', '12 Angry Men',\n",
       "        \"Schindler's List\",\n",
       "        'The Lord of the Rings: The Return of the King', 'Pulp Fiction',\n",
       "        '\"The Good, the Bad and the Ugly\"',\n",
       "        'The Lord of the Rings: The Fellowship of the Ring', 'Fight Club',\n",
       "        'Forrest Gump', 'Inception',\n",
       "        'The Lord of the Rings: The Two Towers', 'The Empire Strikes Back',\n",
       "        'The Matrix', 'GoodFellas', \"One Flew Over the Cuckoo's Nest\",\n",
       "        'Seven Samurai', 'Se7en', 'Life Is Beautiful', 'City of God',\n",
       "        'The Silence of the Lambs', \"It's a Wonderful Life\", 'Star Wars',\n",
       "        'Saving Private Ryan', 'The Green Mile', 'Spirited Away',\n",
       "        'Interstellar', 'Parasite', 'LÃ©on: The Professional', 'Harakiri',\n",
       "        'The Usual Suspects', 'The Lion King', 'The Pianist',\n",
       "        'Terminator 2: Judgment Day', 'Back to the Future',\n",
       "        'American History X', 'Modern Times', 'Gladiator', 'Psycho',\n",
       "        'The Departed', 'City Lights', 'The Intouchables', 'Whiplash',\n",
       "        'Grave of the Fireflies', 'The Prestige',\n",
       "        'Once Upon a Time in the West', 'Casablanca', 'Cinema Paradiso',\n",
       "        'Rear Window', 'Alien', 'Apocalypse Now', 'Memento',\n",
       "        'The Great Dictator', 'Raiders of the Lost Ark',\n",
       "        'Django Unchained', 'The Lives of Others', 'Hamilton',\n",
       "        'Paths of Glory', 'Joker', 'WALLÂ·E', 'The Shining',\n",
       "        'Avengers: Infinity War', 'Sunset Boulevard',\n",
       "        'Witness for the Prosecution', 'Oldboy',\n",
       "        'Spider-Man: Into the Spider-Verse', 'Princess Mononoke',\n",
       "        'Dr. Strangelove', 'The Dark Knight Rises',\n",
       "        'Once Upon a Time in America', 'Your Name.', 'Aliens', 'Coco',\n",
       "        'Avengers: Endgame', 'Capernaum', 'American Beauty', 'Braveheart',\n",
       "        'High and Low', 'Das Boot', 'Toy Story', '3 Idiots', 'Amadeus',\n",
       "        'Inglourious Basterds', 'Good Will Hunting', 'Return of the Jedi',\n",
       "        'Like Stars on Earth', 'Reservoir Dogs', '2001: A Space Odyssey',\n",
       "        'Requiem for a Dream', 'The Hunt', 'Vertigo', 'M',\n",
       "        'Eternal Sunshine of the Spotless Mind', 'Citizen Kane', 'Dangal',\n",
       "        \"Singin' in the Rain\", 'Bicycle Thieves', 'The Kid',\n",
       "        'Full Metal Jacket', 'Come and See', 'Snatch', 'Ikiru',\n",
       "        'North by Northwest', 'A Clockwork Orange', 'Scarface', '1917',\n",
       "        'Taxi Driver', 'Incendies', 'A Separation', 'Toy Story 3',\n",
       "        'Lawrence of Arabia', 'The Sting', 'AmÃ©lie', 'Metropolis',\n",
       "        'The Apartment', 'For a Few Dollars More', 'Double Indemnity',\n",
       "        'To Kill a Mockingbird', 'Up',\n",
       "        'Indiana Jones and the Last Crusade', 'Heat', 'L.A. Confidential',\n",
       "        'Green Book', 'Die Hard', 'Monty Python and the Holy Grail',\n",
       "        'Batman Begins', 'Yojimbo', 'Rashomon', 'Downfall',\n",
       "        'Children of Heaven', 'Unforgiven', 'Ran', 'Some Like It Hot',\n",
       "        \"Howl's Moving Castle\", 'All About Eve', 'Casino',\n",
       "        'A Beautiful Mind', 'The Wolf of Wall Street', 'The Great Escape',\n",
       "        \"Pan's Labyrinth\", 'There Will Be Blood',\n",
       "        'The Secret in Their Eyes',\n",
       "        '\"Lock, Stock and Two Smoking Barrels\"', 'Judgment at Nuremberg',\n",
       "        'Raging Bull', 'My Neighbor Totoro',\n",
       "        'The Treasure of the Sierra Madre', 'Dial M for Murder',\n",
       "        '\"Three Billboards Outside Ebbing, Missouri\"', 'Shutter Island',\n",
       "        'Chinatown', 'The Gold Rush', 'My Father and My Son',\n",
       "        'No Country for Old Men', 'V for Vendetta', 'Inside Out',\n",
       "        'The Thing', 'The Elephant Man', 'The Seventh Seal', 'Warrior',\n",
       "        'The Sixth Sense', 'Jurassic Park', 'Klaus', 'Trainspotting',\n",
       "        'The Truman Show', 'Gone with the Wind', 'Finding Nemo', 'Stalker',\n",
       "        'Wild Strawberries', 'Kill Bill: Vol. 1', 'Memories of Murder',\n",
       "        'Blade Runner', 'The Bridge on the River Kwai', 'Fargo', 'Room',\n",
       "        'Wild Tales', 'Gran Torino', 'Tokyo Story', 'The Third Man',\n",
       "        'On the Waterfront', 'The Deer Hunter',\n",
       "        'In the Name of the Father', 'Mary and Max',\n",
       "        'The Grand Budapest Hotel', 'Before Sunrise',\n",
       "        'Catch Me If You Can', 'Gone Girl', 'Hacksaw Ridge', 'Prisoners',\n",
       "        'Persona', 'Andhadhun', 'Sherlock Jr.', 'The Big Lebowski',\n",
       "        'Barry Lyndon', 'To Be or Not to Be', 'The General',\n",
       "        'How to Train Your Dragon', 'Ford v Ferrari', 'Autumn Sonata',\n",
       "        '12 Years a Slave', 'The Bandit', 'Mr. Smith Goes to Washington',\n",
       "        'Anand', 'Mad Max: Fury Road', 'Dead Poets Society', 'Ratsasan',\n",
       "        'Million Dollar Baby', 'Stand by Me',\n",
       "        'Harry Potter and the Deathly Hallows: Part 2', 'Network',\n",
       "        'Ben-Hur', \"Hachi: A Dog's Tale\", 'Cool Hand Luke',\n",
       "        'The Handmaiden', 'Logan', 'Platoon', 'Into the Wild', 'Rush',\n",
       "        'The Wages of Fear', 'La Haine', 'Life of Brian', 'The 400 Blows',\n",
       "        'Soul', 'The Passion of Joan of Arc', 'Spotlight', 'Hotel Rwanda',\n",
       "        'Amores Perros', 'Gangs of Wasseypur - Part 1', 'Andrei Rublev',\n",
       "        '\"Monsters, Inc.\"', 'Rocky', 'NausicaÃ¤ of the Valley of the Wind',\n",
       "        'Rebecca', 'Time of the Gypsies', 'Before Sunset',\n",
       "        'In the Mood for Love', 'Rififi', 'Rang De Basanti',\n",
       "        '\"Paris, Texas\"', 'Drishyam', 'Portrait of a Lady on Fire',\n",
       "        'It Happened One Night', 'A Silent Voice: The Movie',\n",
       "        'The Invisible Guest',\n",
       "        'Neon Genesis Evangelion: The End of Evangelion',\n",
       "        'The Battle of Algiers', 'Tangerines', 'Three Colors: Red'],\n",
       "       dtype='<U49'),\n",
       " array([9.3, 9.2, 9. , 9. , 8.9, 8.9, 8.9, 8.9, 8.9, 8.8, 8.8, 8.8, 8.8,\n",
       "        8.7, 8.8, 8.7, 8.7, 8.7, 8.6, 8.6, 8.6, 8.6, 8.6, 8.6, 8.6, 8.6,\n",
       "        8.5, 8.6, 8.6, 8.7, 8.6, 8.7, 8.6, 8.5, 8.5, 8.5, 8.5, 8.5, 8.5,\n",
       "        8.5, 8.5, 8.5, 8.5, 8.5, 8.5, 8.5, 8.5, 8.5, 8.5, 8.5, 8.5, 8.5,\n",
       "        8.5, 8.5, 8.5, 8.5, 8.4, 8.4, 8.4, 8.4, 8.5, 8.4, 8.4, 8.5, 8.4,\n",
       "        8.4, 8.4, 8.4, 8.4, 8.4, 8.4, 8.4, 8.4, 8.4, 8.4, 8.4, 8.4, 8.4,\n",
       "        8.4, 8.4, 8.4, 8.3, 8.4, 8.3, 8.3, 8.3, 8.3, 8.4, 8.3, 8.3, 8.3,\n",
       "        8.3, 8.3, 8.3, 8.3, 8.4, 8.5, 8.3, 8.3, 8.3, 8.3, 8.2, 8.3, 8.3,\n",
       "        8.3, 8.3, 8.3, 8.3, 8.3, 8.2, 8.3, 8.3, 8.3, 8.3, 8.3, 8.3, 8.3,\n",
       "        8.3, 8.3, 8.3, 8.3, 8.2, 8.2, 8.3, 8.3, 8.2, 8.3, 8.3, 8.2, 8.2,\n",
       "        8.2, 8.3, 8.2, 8.2, 8.2, 8.2, 8.3, 8.2, 8.2, 8.2, 8.2, 8.2, 8.1,\n",
       "        8.2, 8.2, 8.2, 8.2, 8.2, 8.3, 8.2, 8.2, 8.1, 8.2, 8.2, 8.4, 8.1,\n",
       "        8.2, 8.2, 8.1, 8.2, 8.2, 8.2, 8.1, 8.1, 8.1, 8.2, 8.1, 8.2, 8.1,\n",
       "        8.1, 8.2, 8.1, 8.1, 8.2, 8.2, 8.1, 8.2, 8.1, 8.1, 8.2, 8.2, 8.2,\n",
       "        8.1, 8.1, 8.1, 8.1, 8.1, 8.1, 8.1, 8.1, 8.1, 8.1, 8.5, 8.2, 8.1,\n",
       "        8.1, 8.2, 8.2, 8.1, 8.1, 8.3, 8.1, 8.3, 8.2, 8.8, 8.1, 8.1, 8.5,\n",
       "        8.1, 8.1, 8.1, 8.1, 8.1, 8.1, 8.1, 8.1, 8.1, 8.1, 8.1, 8.1, 8.1,\n",
       "        8.1, 8.1, 8.1, 8.1, 8.2, 8.1, 8.1, 8.1, 8.2, 8.2, 8.1, 8.1, 8.1,\n",
       "        8.1, 8.2, 8.1, 8.1, 8.2, 8.2, 8.1, 8.8, 8.1, 8.1, 8.2, 8.1, 8.1,\n",
       "        8.1, 8.2, 8.1]))"
      ]
     },
     "execution_count": 74,
     "metadata": {},
     "output_type": "execute_result"
    }
   ],
   "source": [
    "titlesArr, ratingArr"
   ]
  },
  {
   "cell_type": "code",
   "execution_count": 76,
   "id": "4b9e06f0",
   "metadata": {},
   "outputs": [
    {
     "data": {
      "text/plain": [
       "array([8.1, 8.2, 8.3, 8.4, 8.5, 8.6, 8.7, 8.8, 8.9, 9. , 9.2, 9.3])"
      ]
     },
     "execution_count": 76,
     "metadata": {},
     "output_type": "execute_result"
    }
   ],
   "source": [
    "np.unique(ratingArr)"
   ]
  },
  {
   "cell_type": "code",
   "execution_count": 92,
   "id": "397cc39b",
   "metadata": {},
   "outputs": [
    {
     "data": {
      "text/plain": [
       "(array([ 56,  57,  58,  59,  61,  62,  64,  65,  66,  67,  68,  69,  70,\n",
       "         71,  72,  73,  74,  75,  76,  77,  78,  79,  80,  81,  82,  83,\n",
       "         84,  85,  86,  87,  88,  89,  90,  91,  92,  93,  94,  95,  97,\n",
       "         98,  99, 100, 101, 102, 103, 104, 105, 106, 107, 108, 109, 110,\n",
       "        111, 112, 113, 114, 115, 116, 117, 118, 119, 120, 121, 122, 123,\n",
       "        124, 125, 126, 127, 128, 129, 130, 131, 132, 133, 134, 135, 136,\n",
       "        137, 138, 139, 140, 141, 143, 144, 145, 146, 147, 148, 149, 150,\n",
       "        152, 153, 154, 156, 157, 159, 160, 161, 165, 167, 170, 173, 174,\n",
       "        176, 179, 180, 181, 193, 196, 197, 200, 202, 203, 225, 229, 230,\n",
       "        235, 238, 239, 244, 248], dtype=int64),)"
      ]
     },
     "execution_count": 92,
     "metadata": {},
     "output_type": "execute_result"
    }
   ],
   "source": [
    "np.where((ratingArr >= 8.2) & (ratingArr <= 8.4)) "
   ]
  },
  {
   "cell_type": "markdown",
   "id": "00c42e16",
   "metadata": {},
   "source": [
    "## Ejercicios - I\n",
    "\n",
    "1. Muestre el o los títulos de películas con la mayor calificación.\n",
    "2. Muestre el o los títulos de películas con la menor calificación.\n",
    "4. Solicite el ingreso de un valor de calificación y muestre las películas con dicha calificación.\n"
   ]
  },
  {
   "cell_type": "code",
   "execution_count": null,
   "id": "fbea3923",
   "metadata": {},
   "outputs": [],
   "source": []
  },
  {
   "cell_type": "markdown",
   "id": "cde12d22",
   "metadata": {},
   "source": [
    "## Ejercicios - II\n",
    "\n",
    "1. Muestre la cantidad de películas cuya calificación sea mayor que 8.5\n",
    "2. Muestre los nombres de las películas cuya calificación sea mayor que 8.5\n",
    "3. Muestre la cantidad de películas cuya calificación esté en el rango \\[8.2, 8.4\\]."
   ]
  },
  {
   "cell_type": "code",
   "execution_count": null,
   "id": "81088c05",
   "metadata": {},
   "outputs": [],
   "source": []
  },
  {
   "cell_type": "markdown",
   "id": "7050f38a",
   "metadata": {},
   "source": [
    "## Ejercicios -  III\n",
    "1. Muestre los valores de calificaciones sin repetir. Utilice la función [unique](https://numpy.org/doc/stable/reference/generated/numpy.unique.html) para obtener un arreglo con valores únicos.\n",
    "2. Muestre la cantidad de películas por cada calificación sin repetir.\n",
    "3. Grafique los valores de calificaciones sin repetir _versus_ la cantidad de películas por calificaciones sin repetir."
   ]
  },
  {
   "cell_type": "code",
   "execution_count": null,
   "id": "b3d51eea",
   "metadata": {},
   "outputs": [],
   "source": []
  }
 ],
 "metadata": {
  "kernelspec": {
   "display_name": "Python 3 (ipykernel)",
   "language": "python",
   "name": "python3"
  },
  "language_info": {
   "codemirror_mode": {
    "name": "ipython",
    "version": 3
   },
   "file_extension": ".py",
   "mimetype": "text/x-python",
   "name": "python",
   "nbconvert_exporter": "python",
   "pygments_lexer": "ipython3",
   "version": "3.11.5"
  }
 },
 "nbformat": 4,
 "nbformat_minor": 5
}
