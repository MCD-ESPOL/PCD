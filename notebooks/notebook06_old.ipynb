{
 "cells": [
  {
   "cell_type": "markdown",
   "id": "debf5094",
   "metadata": {},
   "source": [
    "# Estructuras de control: iterativas\n",
    "\n",
    "La estructura de control **for** se utiliza para iterar sobre un iterable (es decir, una lista, una tupla, un diccionario, un conjunto o una cadena).\n",
    "\n",
    "<div align=\"center\">\n",
    "    <img src=\"https://github.com/MCD-ESPOL/PCD/blob/main/notebooks/images/for_loop.png?raw=true\" width=\"60%\">\n",
    "</div>\n"
   ]
  },
  {
   "cell_type": "code",
   "execution_count": 2,
   "id": "1de55323",
   "metadata": {},
   "outputs": [
    {
     "name": "stdout",
     "output_type": "stream",
     "text": [
      "Nombre del libro:  El señor de los anillos\n",
      "Nombre del libro:  Cien años de soledad\n",
      "Nombre del libro:  Harry Potter\n",
      "Nombre del libro:  1984\n",
      "Nombre del libro:  Orgullo y prejuicio\n",
      "Nombre del libro:  Crimen y castigo\n",
      "Nombre del libro:  El gran Gatsby\n",
      "Nombre del libro:  Matar un ruiseñor\n",
      "Nombre del libro:  La Odisea\n",
      "Nombre del libro:  Don Quijote de la Mancha\n"
     ]
    }
   ],
   "source": [
    "# Muestre por pantalla cada uno de los nombres de libros\n",
    "nombres_libros = ['El señor de los anillos', 'Cien años de soledad', 'Harry Potter', '1984', 'Orgullo y prejuicio', 'Crimen y castigo', 'El gran Gatsby', 'Matar un ruiseñor', 'La Odisea', 'Don Quijote de la Mancha']\n",
    "\n",
    "\n",
    "for nombre in nombres_libros:\n",
    "    print(\"Nombre del libro: \", nombre)"
   ]
  },
  {
   "cell_type": "code",
   "execution_count": 3,
   "id": "7e91b295",
   "metadata": {},
   "outputs": [
    {
     "name": "stdout",
     "output_type": "stream",
     "text": [
      "Valor de venta:  150\n",
      "Valor de venta:  120\n",
      "Valor de venta:  200\n",
      "Valor de venta:  110\n",
      "Valor de venta:  130\n",
      "Valor de venta:  160\n"
     ]
    }
   ],
   "source": [
    "# Muestre por pantalla cada uno de los valores mayores que 100\n",
    "ventas = [150, 120, 200, 90, 80, 110, 95, 130, 75, 160]\n",
    "\n",
    "for venta in ventas:\n",
    "    if venta > 100:\n",
    "        print(\"Valor de venta: \", venta)"
   ]
  },
  {
   "cell_type": "code",
   "execution_count": 4,
   "id": "4217d708",
   "metadata": {},
   "outputs": [
    {
     "name": "stdout",
     "output_type": "stream",
     "text": [
      "Valor de venta:  150\n",
      "Valor de venta:  120\n",
      "Valor de venta:  90\n",
      "Valor de venta:  80\n",
      "Valor de venta:  110\n",
      "Valor de venta:  95\n",
      "Valor de venta:  130\n",
      "Valor de venta:  75\n"
     ]
    }
   ],
   "source": [
    "# Muestre por pantalla cada uno de los valores mayores que 60 y menores e iguales que 150\n",
    "\n",
    "for venta in ventas:\n",
    "    if 60 < venta <= 150:\n",
    "        print(\"Valor de venta: \", venta)"
   ]
  },
  {
   "cell_type": "code",
   "execution_count": 5,
   "id": "4d6bd21c",
   "metadata": {},
   "outputs": [
    {
     "name": "stdout",
     "output_type": "stream",
     "text": [
      "Valor de venta:  150\n",
      "Valor de venta:  120\n",
      "Valor de venta:  90\n",
      "Valor de venta:  80\n",
      "Valor de venta:  110\n",
      "Valor de venta:  95\n",
      "Valor de venta:  130\n",
      "Valor de venta:  75\n",
      "La cantidad de valores entre 60 y 150 es:  8\n"
     ]
    }
   ],
   "source": [
    "# Calcule y muestre por pantalla la cantidad de los valores mayores que 60 y menores e iguales que 150\n",
    "\n",
    "contador = 0\n",
    "\n",
    "for venta in ventas:\n",
    "    if 60 < venta <= 150:\n",
    "        \n",
    "        print(\"Valor de venta: \", venta)\n",
    "        \n",
    "        # contar!\n",
    "        contador = contador + 1\n",
    "\n",
    "\n",
    "print(\"La cantidad de valores entre 60 y 150 es: \", contador)"
   ]
  },
  {
   "cell_type": "code",
   "execution_count": 7,
   "id": "02ce7159",
   "metadata": {},
   "outputs": [
    {
     "name": "stdout",
     "output_type": "stream",
     "text": [
      "La suma total es:  850\n"
     ]
    }
   ],
   "source": [
    "# Calcule y muestre por pantalla la suma total de los valores mayores que 60 y menores e iguales que 150\n",
    "\n",
    "acumulador = 0\n",
    "\n",
    "for venta in ventas:\n",
    "    if 60 < venta <= 150:\n",
    "        acumulador = acumulador + venta\n",
    "        \n",
    "        \n",
    "print(\"La suma total es: \", acumulador)"
   ]
  },
  {
   "cell_type": "code",
   "execution_count": 8,
   "id": "4ef5f6fb",
   "metadata": {},
   "outputs": [
    {
     "name": "stdout",
     "output_type": "stream",
     "text": [
      "La suma total es:  850\n"
     ]
    }
   ],
   "source": [
    "nuevaLista = []\n",
    "\n",
    "for venta in ventas:\n",
    "    if 60 < venta <= 150:\n",
    "        nuevaLista.append( venta )\n",
    "\n",
    "        \n",
    "total = sum( nuevaLista )\n",
    "print(\"La suma total es: \", total)"
   ]
  },
  {
   "cell_type": "code",
   "execution_count": 11,
   "id": "42249b1d",
   "metadata": {},
   "outputs": [
    {
     "name": "stdout",
     "output_type": "stream",
     "text": [
      "El promedio de ventas es: $ 106.25\n"
     ]
    }
   ],
   "source": [
    "# Calcule y muestre por pantalla el promedio de los valores mayores que 60 y menores e iguales que 150\n",
    "\n",
    "acumulador = 0\n",
    "contador = 0\n",
    "\n",
    "for venta in ventas:\n",
    "    if 60 < venta <= 150:\n",
    "        acumulador = acumulador + venta\n",
    "        contador = contador + 1\n",
    "\n",
    "promedio = acumulador / contador\n",
    "print(\"El promedio de ventas es: $\", promedio)"
   ]
  },
  {
   "cell_type": "code",
   "execution_count": 12,
   "id": "b4900c06",
   "metadata": {},
   "outputs": [
    {
     "name": "stdout",
     "output_type": "stream",
     "text": [
      "El promedio de ventas es: $ 106.25\n"
     ]
    }
   ],
   "source": [
    "nuevaLista = []\n",
    "\n",
    "for venta in ventas:\n",
    "    if 60 < venta <= 150:\n",
    "        nuevaLista.append( venta )\n",
    "        \n",
    "promedio = sum(nuevaLista) / len(nuevaLista)\n",
    "print(\"El promedio de ventas es: $\", promedio)"
   ]
  },
  {
   "cell_type": "code",
   "execution_count": 13,
   "id": "9afc18d2",
   "metadata": {},
   "outputs": [
    {
     "name": "stdout",
     "output_type": "stream",
     "text": [
      "La lista con generos sin repetir es:  ['Fantasía', 'Realismo mágico', 'Distopía', 'Novela romántica', 'Novela psicológica', 'Ficción moderna', 'Novela clásica', 'Epopeya']\n"
     ]
    }
   ],
   "source": [
    "# En la lista generosUnicos guarde los elementos sin repetir de la lista genero_literario \n",
    "genero_literario = ['Fantasía', 'Realismo mágico', 'Fantasía', 'Distopía', 'Novela romántica', 'Novela psicológica', 'Ficción moderna', 'Novela clásica', 'Epopeya', 'Novela clásica']\n",
    "generosUnicos = []\n",
    "\n",
    "for genero in genero_literario:\n",
    "    if not(genero in generosUnicos):\n",
    "        generosUnicos.append( genero )\n",
    "        \n",
    "print(\"La lista con generos sin repetir es: \", generosUnicos)"
   ]
  },
  {
   "cell_type": "markdown",
   "id": "eaa06c98",
   "metadata": {},
   "source": [
    "Para recorrer un grupo de instrucciones un número específico de veces, podemos usar la función **range( )**.\n",
    "\n",
    "La función **range( )** devuelve una secuencia de números, que comienza en 0 de forma predeterminada, se incrementa en 1 (de forma predeterminada) y termina en un número específico.\n",
    "\n",
    "<div align=\"center\">\n",
    "    <img src=\"https://github.com/MCD-ESPOL/PCD/blob/main/notebooks/images/for_loop_range.png?raw=true\" width=\"60%\">\n",
    "</div>\n"
   ]
  },
  {
   "cell_type": "code",
   "execution_count": 15,
   "id": "77b55e74",
   "metadata": {},
   "outputs": [
    {
     "name": "stdout",
     "output_type": "stream",
     "text": [
      "El libro  El señor de los anillos  con el género  Fantasía  cuesta $ 150\n",
      "El libro  Cien años de soledad  con el género  Realismo mágico  cuesta $ 120\n",
      "El libro  Harry Potter  con el género  Fantasía  cuesta $ 200\n",
      "El libro  1984  con el género  Distopía  cuesta $ 90\n",
      "El libro  Orgullo y prejuicio  con el género  Novela romántica  cuesta $ 80\n",
      "El libro  Crimen y castigo  con el género  Novela psicológica  cuesta $ 110\n",
      "El libro  El gran Gatsby  con el género  Ficción moderna  cuesta $ 95\n",
      "El libro  Matar un ruiseñor  con el género  Novela clásica  cuesta $ 130\n",
      "El libro  La Odisea  con el género  Epopeya  cuesta $ 75\n",
      "El libro  Don Quijote de la Mancha  con el género  Novela clásica  cuesta $ 160\n"
     ]
    }
   ],
   "source": [
    "# Muestre por pantalla cada elemento relacionado entre sí de las listas nombres_libros, ventas y genero_literario.\n",
    "\n",
    "nombres_libros = ['El señor de los anillos', 'Cien años de soledad', 'Harry Potter', '1984', 'Orgullo y prejuicio', 'Crimen y castigo', 'El gran Gatsby', 'Matar un ruiseñor', 'La Odisea', 'Don Quijote de la Mancha']\n",
    "genero_literario = ['Fantasía', 'Realismo mágico', 'Fantasía', 'Distopía', 'Novela romántica', 'Novela psicológica', 'Ficción moderna', 'Novela clásica', 'Epopeya', 'Novela clásica']\n",
    "ventas = [150, 120, 200, 90, 80, 110, 95, 130, 75, 160]\n",
    "\n",
    "for indice in range(len( nombres_libros )):\n",
    "    nombre = nombres_libros[ indice ]\n",
    "    genero = genero_literario[ indice ]\n",
    "    venta = ventas[ indice ]\n",
    "    \n",
    "    print(\"El libro \", nombre, \" con el género \", genero, \" cuesta $\", venta)\n"
   ]
  },
  {
   "cell_type": "code",
   "execution_count": 17,
   "id": "c80e73c9",
   "metadata": {},
   "outputs": [],
   "source": [
    "nombres_libros = ['El señor de los anillos', 'Cien años de soledad', 'Harry Potter', '1984', 'Orgullo y prejuicio', 'Crimen y castigo', 'El gran Gatsby', 'Matar un ruiseñor', 'La Odisea', 'Don Quijote de la Mancha']\n",
    "genero_literario = ['Fantasía', 'Realismo mágico', 'Fantasía', 'Distopía', 'Novela romántica', 'Novela psicológica', 'Ficción moderna', 'Novela clásica', 'Epopeya', 'Novela clásica']\n",
    "ventas = [150, 120, 200, 90, 80, 110, 95, 130, 75, 160]\n",
    "\n",
    "# En la lista generosUnicos guarde los elementos sin repetir de la lista genero_literario \n",
    "generosUnicos = []\n",
    "\n",
    "for indice in range(len(genero_literario)):\n",
    "    genero = genero_literario[indice]\n",
    "    if not (genero in generosUnicos):\n",
    "        generosUnicos.append(genero)\n"
   ]
  },
  {
   "cell_type": "code",
   "execution_count": 18,
   "id": "7e3821a2",
   "metadata": {},
   "outputs": [
    {
     "name": "stdout",
     "output_type": "stream",
     "text": [
      "El libro El señor de los anillos es del género Fantasía\n",
      "El libro Harry Potter es del género Fantasía\n",
      "El libro Cien años de soledad es del género Realismo mágico\n",
      "El libro 1984 es del género Distopía\n",
      "El libro Orgullo y prejuicio es del género Novela romántica\n",
      "El libro Crimen y castigo es del género Novela psicológica\n",
      "El libro El gran Gatsby es del género Ficción moderna\n",
      "El libro Matar un ruiseñor es del género Novela clásica\n",
      "El libro Don Quijote de la Mancha es del género Novela clásica\n",
      "El libro La Odisea es del género Epopeya\n"
     ]
    }
   ],
   "source": [
    "# Por cada elemento de generosUnicos, muestre por pantalla los libros por cada categoría.\n",
    "\n",
    "\n",
    "for genero in generosUnicos:\n",
    "    \n",
    "    for indice in range(len(genero_literario)):\n",
    "        \n",
    "        genero2 = genero_literario[indice]\n",
    "        \n",
    "        if genero == genero2:\n",
    "            \n",
    "            libro = nombres_libros[indice]\n",
    "            \n",
    "            print( f\"El libro {libro} es del género {genero}\" )\n",
    "            \n",
    "            "
   ]
  },
  {
   "cell_type": "code",
   "execution_count": 20,
   "id": "323ba188",
   "metadata": {},
   "outputs": [
    {
     "name": "stdout",
     "output_type": "stream",
     "text": [
      "Género:  Fantasía\n",
      "El libro El señor de los anillos es del género Fantasía\n",
      "El libro Harry Potter es del género Fantasía\n",
      "Cantidad de libros por categoria  2\n",
      "Género:  Realismo mágico\n",
      "El libro Cien años de soledad es del género Realismo mágico\n",
      "Cantidad de libros por categoria  1\n",
      "Género:  Distopía\n",
      "El libro 1984 es del género Distopía\n",
      "Cantidad de libros por categoria  1\n",
      "Género:  Novela romántica\n",
      "El libro Orgullo y prejuicio es del género Novela romántica\n",
      "Cantidad de libros por categoria  1\n",
      "Género:  Novela psicológica\n",
      "El libro Crimen y castigo es del género Novela psicológica\n",
      "Cantidad de libros por categoria  1\n",
      "Género:  Ficción moderna\n",
      "El libro El gran Gatsby es del género Ficción moderna\n",
      "Cantidad de libros por categoria  1\n",
      "Género:  Novela clásica\n",
      "El libro Matar un ruiseñor es del género Novela clásica\n",
      "El libro Don Quijote de la Mancha es del género Novela clásica\n",
      "Cantidad de libros por categoria  2\n",
      "Género:  Epopeya\n",
      "El libro La Odisea es del género Epopeya\n",
      "Cantidad de libros por categoria  1\n"
     ]
    }
   ],
   "source": [
    "# Por cada elemento de generosUnicos, calcule y muestre por pantalla la cantidad de libros por cada categoría.\n",
    "\n",
    "\n",
    "for genero in generosUnicos:\n",
    "    \n",
    "    print(\"Género: \", genero)\n",
    "    contador = 0\n",
    "    \n",
    "    for indice in range(len(genero_literario)):\n",
    "        \n",
    "        genero2 = genero_literario[indice]\n",
    "        \n",
    "        if genero == genero2:\n",
    "            \n",
    "            libro = nombres_libros[indice]\n",
    "            \n",
    "            print( f\"El libro {libro} es del género {genero}\" )\n",
    "            \n",
    "            contador = contador + 1\n",
    "            \n",
    "    print(\"Cantidad de libros por categoria \", contador)\n"
   ]
  },
  {
   "cell_type": "code",
   "execution_count": 22,
   "id": "c9976200",
   "metadata": {},
   "outputs": [
    {
     "name": "stdout",
     "output_type": "stream",
     "text": [
      "Género:  Fantasía\n",
      "El libro El señor de los anillos es del género Fantasía\n",
      "El libro Harry Potter es del género Fantasía\n",
      "Cantidad de libros por categoria  2\n",
      "Venta por categoria  350\n",
      "\n",
      "Género:  Realismo mágico\n",
      "El libro Cien años de soledad es del género Realismo mágico\n",
      "Cantidad de libros por categoria  1\n",
      "Venta por categoria  120\n",
      "\n",
      "Género:  Distopía\n",
      "El libro 1984 es del género Distopía\n",
      "Cantidad de libros por categoria  1\n",
      "Venta por categoria  90\n",
      "\n",
      "Género:  Novela romántica\n",
      "El libro Orgullo y prejuicio es del género Novela romántica\n",
      "Cantidad de libros por categoria  1\n",
      "Venta por categoria  80\n",
      "\n",
      "Género:  Novela psicológica\n",
      "El libro Crimen y castigo es del género Novela psicológica\n",
      "Cantidad de libros por categoria  1\n",
      "Venta por categoria  110\n",
      "\n",
      "Género:  Ficción moderna\n",
      "El libro El gran Gatsby es del género Ficción moderna\n",
      "Cantidad de libros por categoria  1\n",
      "Venta por categoria  95\n",
      "\n",
      "Género:  Novela clásica\n",
      "El libro Matar un ruiseñor es del género Novela clásica\n",
      "El libro Don Quijote de la Mancha es del género Novela clásica\n",
      "Cantidad de libros por categoria  2\n",
      "Venta por categoria  290\n",
      "\n",
      "Género:  Epopeya\n",
      "El libro La Odisea es del género Epopeya\n",
      "Cantidad de libros por categoria  1\n",
      "Venta por categoria  75\n",
      "\n"
     ]
    }
   ],
   "source": [
    "# Por cada elemento de generosUnicos, calcule y muestre por pantalla la suma total de ventas por categoría.\n",
    "\n",
    "\n",
    "for genero in generosUnicos:\n",
    "    \n",
    "    print(\"Género: \", genero)\n",
    "    \n",
    "    contador = 0\n",
    "    acumulador = 0\n",
    "    \n",
    "    for indice in range(len(genero_literario)):\n",
    "        \n",
    "        genero2 = genero_literario[indice]\n",
    "        \n",
    "        if genero == genero2:\n",
    "            \n",
    "            libro = nombres_libros[indice]\n",
    "            venta = ventas[indice]\n",
    "            \n",
    "            print( f\"El libro {libro} es del género {genero}\" )\n",
    "            \n",
    "            contador = contador + 1\n",
    "            acumulador = acumulador + venta\n",
    "            \n",
    "    print(\"Cantidad de libros por categoria \", contador)\n",
    "    print(\"Venta por categoria \", acumulador)\n",
    "    print()\n"
   ]
  },
  {
   "cell_type": "code",
   "execution_count": 27,
   "id": "a91ab6f6",
   "metadata": {},
   "outputs": [],
   "source": [
    "# Genere un gráfico de barras de generosUnicos versus total por venta \n",
    "\n",
    "totalVentaPorCategoria = []\n",
    "\n",
    "for genero in generosUnicos:\n",
    "    \n",
    "    \n",
    "    contador = 0\n",
    "    acumulador = 0\n",
    "    \n",
    "    for indice in range(len(genero_literario)):\n",
    "        \n",
    "        genero2 = genero_literario[indice]\n",
    "        \n",
    "        if genero == genero2:\n",
    "            \n",
    "            libro = nombres_libros[indice]\n",
    "            venta = ventas[indice]\n",
    "            \n",
    "            \n",
    "            contador = contador + 1\n",
    "            acumulador = acumulador + venta\n",
    "    \n",
    "    totalVentaPorCategoria.append( acumulador )\n"
   ]
  },
  {
   "cell_type": "code",
   "execution_count": 29,
   "id": "3a7183f4",
   "metadata": {},
   "outputs": [
    {
     "name": "stdout",
     "output_type": "stream",
     "text": [
      "Géneros únicos  ['Fantasía', 'Realismo mágico', 'Distopía', 'Novela romántica', 'Novela psicológica', 'Ficción moderna', 'Novela clásica', 'Epopeya']\n"
     ]
    }
   ],
   "source": [
    "print(\"Géneros únicos \", generosUnicos)"
   ]
  },
  {
   "cell_type": "code",
   "execution_count": 31,
   "id": "42ca5b73",
   "metadata": {},
   "outputs": [
    {
     "name": "stdout",
     "output_type": "stream",
     "text": [
      "Total por género  [350, 120, 90, 80, 110, 95, 290, 75]\n"
     ]
    }
   ],
   "source": [
    "print(\"Total por género \", totalVentaPorCategoria)"
   ]
  },
  {
   "cell_type": "code",
   "execution_count": 32,
   "id": "da9b42aa",
   "metadata": {},
   "outputs": [],
   "source": [
    "import matplotlib.pyplot as plt\n"
   ]
  },
  {
   "cell_type": "code",
   "execution_count": 34,
   "id": "74a3419f",
   "metadata": {},
   "outputs": [
    {
     "data": {
      "text/plain": [
       "([0, 1, 2, 3, 4, 5, 6, 7],\n",
       " [Text(0, 0, 'Fantasía'),\n",
       "  Text(1, 0, 'Realismo mágico'),\n",
       "  Text(2, 0, 'Distopía'),\n",
       "  Text(3, 0, 'Novela romántica'),\n",
       "  Text(4, 0, 'Novela psicológica'),\n",
       "  Text(5, 0, 'Ficción moderna'),\n",
       "  Text(6, 0, 'Novela clásica'),\n",
       "  Text(7, 0, 'Epopeya')])"
      ]
     },
     "execution_count": 34,
     "metadata": {},
     "output_type": "execute_result"
    },
    {
     "data": {
      "image/png": "[encoded data removed]",
      "text/plain": [
       "<Figure size 640x480 with 1 Axes>"
      ]
     },
     "metadata": {},
     "output_type": "display_data"
    }
   ],
   "source": [
    "plt.bar(generosUnicos, totalVentaPorCategoria)\n",
    "plt.xticks( rotation=45 )"
   ]
  }
 ],
 "metadata": {
  "kernelspec": {
   "display_name": "Python 3 (ipykernel)",
   "language": "python",
   "name": "python3"
  },
  "language_info": {
   "codemirror_mode": {
    "name": "ipython",
    "version": 3
   },
   "file_extension": ".py",
   "mimetype": "text/x-python",
   "name": "python",
   "nbconvert_exporter": "python",
   "pygments_lexer": "ipython3",
   "version": "3.11.5"
  }
 },
 "nbformat": 4,
 "nbformat_minor": 5
}
