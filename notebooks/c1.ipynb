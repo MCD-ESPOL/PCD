{
 "cells": [
  {
   "cell_type": "markdown",
   "id": "3540bf27-5883-4b3d-9494-9a3b8e4db722",
   "metadata": {},
   "source": [
    "# Jupyter Notebook"
   ]
  },
  {
   "cell_type": "markdown",
   "id": "1d2ea887-40dc-42a1-b7b8-33dfff2ead56",
   "metadata": {},
   "source": [
    "[Jupyter Notebook](https://jupyter.org/) es un entorno de desarrollo interactivo con el live code. Jupyter muestra una ejecución del código a través del navegador web."
   ]
  },
  {
   "cell_type": "markdown",
   "id": "5368fedc-8d43-415c-9c1f-3d48da2ea1e5",
   "metadata": {},
   "source": [
    "<div align=\"center\">\n",
    "    <img src=\"https://jupyter.org/assets/homepage/jupyterpreview.webp\" width=\"50%\">\n",
    "</div>"
   ]
  },
  {
   "cell_type": "markdown",
   "id": "6a1d6f94-542d-4b95-9613-a4ec78f76e0f",
   "metadata": {},
   "source": [
    "## Instalación"
   ]
  },
  {
   "cell_type": "markdown",
   "id": "70f4530c-2d41-468a-a4ac-35cd2a060df7",
   "metadata": {},
   "source": [
    "1. Ejecute el **Símbolo del sistema** como administrador\n",
    "\n",
    "![images/cmd.png](images/cmd.png)\n",
    "\n",
    "<div align=\"center\">\n",
    "    <img src=\"images/cmd.png\" alt=\"cmd\" style=\"width:45%;\"/>\n",
    "</div>\n",
    "\n"
   ]
  },
  {
   "cell_type": "markdown",
   "id": "3501245f-da72-49fb-925f-08fb6078c873",
   "metadata": {},
   "source": [
    "2. Instale el módulo Jupyter, con **pip3 install jupyter**\n",
    "<div align=\"center\">\n",
    "    <img src=\"images/pip3.png\" alt=\"cmd\" style=\"width:45%;\"/>\n",
    "    <img src=\"images/installed.png\" alt=\"cmd\" style=\"width:45%;\"/>\n",
    "</div>"
   ]
  },
  {
   "cell_type": "markdown",
   "id": "0f75d3e8-6ef7-44ca-a027-328e337f00fa",
   "metadata": {},
   "source": [
    "3. Ejecute el notebook, con **jupyter notebook**\n",
    "\n",
    "<div align=\"center\">\n",
    "    <img src=\"images/run_jupyter.png\" width=\"50%\">\n",
    "</div>"
   ]
  },
  {
   "cell_type": "code",
   "execution_count": null,
   "id": "ed98551b-4ffb-4cad-b8cd-e5f4f5680b3a",
   "metadata": {},
   "outputs": [],
   "source": []
  }
 ],
 "metadata": {
  "kernelspec": {
   "display_name": "Python 3 (ipykernel)",
   "language": "python",
   "name": "python3"
  },
  "language_info": {
   "codemirror_mode": {
    "name": "ipython",
    "version": 3
   },
   "file_extension": ".py",
   "mimetype": "text/x-python",
   "name": "python",
   "nbconvert_exporter": "python",
   "pygments_lexer": "ipython3",
   "version": "3.11.4"
  }
 },
 "nbformat": 4,
 "nbformat_minor": 5
}
