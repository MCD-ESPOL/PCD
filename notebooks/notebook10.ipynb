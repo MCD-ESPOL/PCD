{
 "cells": [
  {
   "cell_type": "markdown",
   "id": "315de329",
   "metadata": {},
   "source": [
    "## Pandas\n",
    "\n",
    "[Pandas](https://pandas.pydata.org/) es una herramienta de manipulación y análisis de datos de código abierto, rápida, potente, flexible y fácil de usar. Utilice la [documentación](https://pandas.pydata.org/) de Pandas como referencia a lo largo de este cuaderno. \n",
    "\n",
    "<div align=\"center\">\n",
    "    <img src=\"https://github.com/MCD-ESPOL/PCD/blob/main/notebooks/images/pandas.png?raw=true\" width=\"35%\">\n",
    "</div>"
   ]
  },
  {
   "cell_type": "markdown",
   "id": "2bd130a1",
   "metadata": {},
   "source": [
    "## Importar librerías externas"
   ]
  },
  {
   "cell_type": "code",
   "execution_count": null,
   "id": "bb4a1974",
   "metadata": {},
   "outputs": [],
   "source": [
    "# Importe la librería pandas, con: import pandas as pd\n"
   ]
  },
  {
   "cell_type": "markdown",
   "id": "6fa098d0",
   "metadata": {},
   "source": [
    "## Archivos\n",
    "\n",
    "Descargue el archivo [netflix.csv](https://github.com/MCD-ESPOL/PCD/blob/main/notebooks/netflix.csv). Descargue y mueva el archivo al mismo directorio de este cuaderno."
   ]
  },
  {
   "cell_type": "markdown",
   "id": "61bf153a",
   "metadata": {},
   "source": [
    "## Dataset: Movies and TV Shows listings on Netflix\n",
    "\n",
    "El conjunto es parte del dataset original de [películas y shows en Netflix](https://www.kaggle.com/shivamb/netflix-shows/notebooks), en [Kaggle](https://www.kaggle.com/). "
   ]
  },
  {
   "cell_type": "markdown",
   "id": "64d13802",
   "metadata": {},
   "source": [
    "###  Carga de datos"
   ]
  },
  {
   "cell_type": "code",
   "execution_count": null,
   "id": "6d26f24d",
   "metadata": {},
   "outputs": [],
   "source": [
    "# Asigne a datos el resultado de pd.read_csv( 'netflix.csv' )\n",
    "\n",
    "datos = "
   ]
  },
  {
   "cell_type": "markdown",
   "id": "eb2e9a27",
   "metadata": {},
   "source": [
    "### Dataframe\n",
    "\n",
    "La variable _datos_ es un **dataframe**. Un _dataframe_ es un tipo de dato tabular bidimensionales, de tamaño variable, con columnas de tipo heterogéneo."
   ]
  },
  {
   "cell_type": "code",
   "execution_count": null,
   "id": "ad8c571f",
   "metadata": {},
   "outputs": [],
   "source": [
    "# Muestre el dataframe datos, con: datos\n",
    "\n",
    "datos"
   ]
  },
  {
   "cell_type": "markdown",
   "id": "66d4a25c",
   "metadata": {},
   "source": [
    "### Vista previa"
   ]
  },
  {
   "cell_type": "code",
   "execution_count": null,
   "id": "7316a0df",
   "metadata": {},
   "outputs": [],
   "source": [
    "# Muestre los primeros 5 elementos del dataframe datos, con: datos.head()\n"
   ]
  },
  {
   "cell_type": "code",
   "execution_count": null,
   "id": "5fcb771e",
   "metadata": {},
   "outputs": [],
   "source": [
    "# Muestre los últimos 5 elementos del dataframe datos, con: datos.tail()\n"
   ]
  },
  {
   "cell_type": "markdown",
   "id": "3b2c9e8c",
   "metadata": {},
   "source": [
    "### Filas y columnas"
   ]
  },
  {
   "cell_type": "code",
   "execution_count": null,
   "id": "9677c070",
   "metadata": {},
   "outputs": [],
   "source": [
    "# Muestre por pantalla la cantidad de filas y columnas del dataframe datos, con: datos.shape\n"
   ]
  },
  {
   "cell_type": "markdown",
   "id": "de4da9b9",
   "metadata": {},
   "source": [
    "El _dataframe_ datos está compuesto 6234 filas y 12 las columnas \n",
    "\n",
    "\n"
   ]
  },
  {
   "cell_type": "markdown",
   "id": "c32ce305",
   "metadata": {},
   "source": [
    "### Nombre de las columnas"
   ]
  },
  {
   "cell_type": "code",
   "execution_count": null,
   "id": "c9637452",
   "metadata": {},
   "outputs": [],
   "source": [
    "# Muestre por pantalla los nombres de las columnas del dataframe datos, con: datos.columns\n"
   ]
  },
  {
   "cell_type": "markdown",
   "id": "9885c997",
   "metadata": {},
   "source": [
    "El _dataframe_ datos tiene las columnas son `'show_id'`, `'type'`, `'title'`, `'director'`, `'cast'`, `'country'`, `'date_added'`, `'release_year'`, `'rating'`, `'duration'`, `'listed_in'` y `'description'`.\n"
   ]
  },
  {
   "cell_type": "markdown",
   "id": "f4e4fae8",
   "metadata": {},
   "source": [
    "### Acceso a columnas"
   ]
  },
  {
   "cell_type": "code",
   "execution_count": null,
   "id": "1fe145ca",
   "metadata": {},
   "outputs": [],
   "source": [
    "# Asigne a df1 la columna 'titles' del dataframe datos, con: datos['title'] \n",
    "# Muestre por pantalla el dataframe df1\n"
   ]
  },
  {
   "cell_type": "code",
   "execution_count": null,
   "id": "1a39523a",
   "metadata": {},
   "outputs": [],
   "source": [
    "# Asigne a df2 la columna 'director' del dataframe datos, con: datos['director'] \n",
    "# Muestre por pantalla el dataframe df2\n"
   ]
  },
  {
   "cell_type": "markdown",
   "id": "439a5c76",
   "metadata": {},
   "source": [
    "El _NaN_ significa \"Not a Number\", es un valor especial utilizado para representar valores indefinidos o no representables, como el resultado de 0/0 o la raíz cuadrada de un número negativo."
   ]
  },
  {
   "cell_type": "code",
   "execution_count": null,
   "id": "87d9e115",
   "metadata": {},
   "outputs": [],
   "source": [
    "# Asigne a df3 las columnas 'title' y 'director' del dataframe datos, con: datos[['title', 'director']] \n",
    "# Muestre por pantalla el dataframe df3\n"
   ]
  },
  {
   "cell_type": "markdown",
   "id": "a5870fd3",
   "metadata": {},
   "source": [
    "### Acceso a filas"
   ]
  },
  {
   "cell_type": "code",
   "execution_count": null,
   "id": "9356588e",
   "metadata": {},
   "outputs": [],
   "source": [
    "# Asigne a df4 la fila en el índice 0 del dataframe datos, con:  datos.iloc[0]\n",
    "# Muestre por pantalla el dataframe df4\n"
   ]
  },
  {
   "cell_type": "code",
   "execution_count": null,
   "id": "6dfa4fd8",
   "metadata": {},
   "outputs": [],
   "source": [
    "# Asigne a df5 la fila en el índice 0 del dataframe datos, con:  datos.iloc[673]\n",
    "# Muestre por pantalla el dataframe df5\n"
   ]
  },
  {
   "cell_type": "code",
   "execution_count": null,
   "id": "0c02bc06",
   "metadata": {},
   "outputs": [],
   "source": [
    "# Asigne a df6 la fila en el índice 0 del dataframe datos, con:  datos.iloc[1027]\n",
    "# Muestre por pantalla el dataframe df6\n"
   ]
  },
  {
   "cell_type": "markdown",
   "id": "686b45e4",
   "metadata": {},
   "source": [
    "## Descripción del dataset"
   ]
  },
  {
   "cell_type": "code",
   "execution_count": null,
   "id": "0f58df8c",
   "metadata": {},
   "outputs": [],
   "source": [
    "# Muestre los tipos de datos de cada columna del dataframe datos, con: datos.dtypes \n"
   ]
  },
  {
   "cell_type": "code",
   "execution_count": null,
   "id": "e3acde82",
   "metadata": {},
   "outputs": [],
   "source": [
    "# Muestre los elementos NaN del dataframe datos, con: datos.isnull()\n"
   ]
  },
  {
   "cell_type": "code",
   "execution_count": null,
   "id": "7d7e5a84",
   "metadata": {},
   "outputs": [],
   "source": [
    "# Muestre un resumen con la cantidad de elementos NaN del dataframe datos, con: datos.isnull().sum()\n"
   ]
  },
  {
   "cell_type": "code",
   "execution_count": null,
   "id": "67ce48e0",
   "metadata": {},
   "outputs": [],
   "source": [
    "# Muestre las medidas de tendencia central, dispersión y forma de la distribución del dataframe datos\n",
    "# de las columnas numéricas, con: datos.describe()\n"
   ]
  },
  {
   "cell_type": "code",
   "execution_count": null,
   "id": "25abe592",
   "metadata": {},
   "outputs": [],
   "source": [
    "# Muestre las medidas de tendencia central, dispersión y forma de la distribución del dataframe datos\n",
    "# de todas las columnas, con: datos.describe(include='all')\n"
   ]
  },
  {
   "cell_type": "markdown",
   "id": "54eb1ffb",
   "metadata": {},
   "source": [
    "## Limpieza de datos\n",
    "\n"
   ]
  },
  {
   "cell_type": "code",
   "execution_count": null,
   "id": "a9593f4e",
   "metadata": {},
   "outputs": [],
   "source": [
    "# Asigne a datos2 el resultado de eliminar las filas con valores nulos (NaN), con: datos.dropna()\n",
    "# Muestre el dataframe datos2\n"
   ]
  },
  {
   "cell_type": "code",
   "execution_count": null,
   "id": "6673f0c5",
   "metadata": {},
   "outputs": [],
   "source": [
    "# Muestre por pantalla la cantidad de filas y columnas del dataframe datos y datos2, con: datos.shape, datos2.shape\n"
   ]
  },
  {
   "cell_type": "code",
   "execution_count": null,
   "id": "5e6c2a79",
   "metadata": {},
   "outputs": [],
   "source": [
    "# Muestre los elementos NaN del dataframe datos2, con: datos2.isnull()\n"
   ]
  },
  {
   "cell_type": "code",
   "execution_count": null,
   "id": "bc7f8f73",
   "metadata": {},
   "outputs": [],
   "source": [
    "# Muestre un resumen con la cantidad de elementos NaN del dataframe datos2, con: datos2.isnull().sum()\n"
   ]
  },
  {
   "cell_type": "code",
   "execution_count": null,
   "id": "92532745",
   "metadata": {},
   "outputs": [],
   "source": [
    "# Muestre las medidas de tendencia central, dispersión y forma de la distribución del dataframe datos2\n",
    "# de las columnas numéricas, con: datos2.describe()\n"
   ]
  },
  {
   "cell_type": "code",
   "execution_count": null,
   "id": "7fff7d3a",
   "metadata": {},
   "outputs": [],
   "source": [
    "# Muestre las medidas de tendencia central, dispersión y forma de la distribución del dataframe datos2\n",
    "# de todas las columnas, con: datos2.describe(include='all')\n"
   ]
  },
  {
   "cell_type": "markdown",
   "id": "82beb42b",
   "metadata": {},
   "source": [
    "## Ejercicios\n",
    "\n",
    "En adelante, utilice el dataframe `datos2` para reproducir los siguientes ejercicios."
   ]
  },
  {
   "cell_type": "markdown",
   "id": "0d260be0",
   "metadata": {},
   "source": [
    "**Ejercicio 1:** \n",
    "\n",
    "Muestre en un gráfico de barras del conteo de tipos (columna `type`) en el dataframe **datos2**"
   ]
  },
  {
   "cell_type": "code",
   "execution_count": null,
   "id": "48e497e1",
   "metadata": {},
   "outputs": [],
   "source": [
    "# 1. Asigne a df5 la columna 'type' del dataframe datos2. Muestre por pantalla df5\n"
   ]
  },
  {
   "cell_type": "code",
   "execution_count": null,
   "id": "2be81d06",
   "metadata": {},
   "outputs": [],
   "source": [
    "# 2. Asigne a conteoPorTipo el conteo de los valores en df5, con: df5.value_counts(). Muestre por pantalla conteoPorTipo.\n"
   ]
  },
  {
   "cell_type": "code",
   "execution_count": null,
   "id": "ddcc9c04",
   "metadata": {},
   "outputs": [],
   "source": [
    "# 3. Muestre el gráfico de barras el resultado del conteo, con: conteoPorTipo.plot.bar()\n"
   ]
  },
  {
   "cell_type": "markdown",
   "id": "f4efb63d",
   "metadata": {},
   "source": [
    "**Ejercicio 2:** \n",
    "\n",
    "Muestre en un gráfico de barras el del top5 del conteo de años de lanzamiento (columna `release_year`) en el dataframe **datos2**"
   ]
  },
  {
   "cell_type": "code",
   "execution_count": null,
   "id": "ebff6808",
   "metadata": {},
   "outputs": [],
   "source": []
  },
  {
   "cell_type": "markdown",
   "id": "992c81f6",
   "metadata": {},
   "source": [
    "**Ejercicio 3:** \n",
    "\n",
    "Muestre en un gráfico de barras el del top5 del conteo de paises (columna `country`) en el dataframe **datos2**"
   ]
  },
  {
   "cell_type": "code",
   "execution_count": null,
   "id": "1f782880",
   "metadata": {},
   "outputs": [],
   "source": []
  }
 ],
 "metadata": {
  "kernelspec": {
   "display_name": "Python 3 (ipykernel)",
   "language": "python",
   "name": "python3"
  },
  "language_info": {
   "codemirror_mode": {
    "name": "ipython",
    "version": 3
   },
   "file_extension": ".py",
   "mimetype": "text/x-python",
   "name": "python",
   "nbconvert_exporter": "python",
   "pygments_lexer": "ipython3",
   "version": "3.11.5"
  }
 },
 "nbformat": 4,
 "nbformat_minor": 5
}
