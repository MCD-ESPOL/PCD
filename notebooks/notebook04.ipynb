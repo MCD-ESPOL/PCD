{
 "cells": [
  {
   "cell_type": "markdown",
   "id": "6b535544-1310-4d5d-a06a-ce4bce87d876",
   "metadata": {},
   "source": [
    "## Listas\n",
    "\n",
    "Este tipo de dato permite agrupar datos (incluso de diferentes tipos) relacionados entre sí."
   ]
  },
  {
   "cell_type": "markdown",
   "id": "7e8ef636",
   "metadata": {},
   "source": [
    "### Lista vacía\n",
    "\n",
    "Una lista vacía se crea asignando un par de corchetes sin contenido, como se muestra a continuación."
   ]
  },
  {
   "cell_type": "code",
   "execution_count": null,
   "id": "2d9a08a3",
   "metadata": {},
   "outputs": [],
   "source": [
    "# Lista vacía: invitados\n",
    "\n",
    "invitados = []\n",
    "print(\"Contenido inicial de la lista invitados: \", invitados)"
   ]
  },
  {
   "cell_type": "code",
   "execution_count": null,
   "id": "d6f779e5",
   "metadata": {},
   "outputs": [],
   "source": [
    "# Cree dos listas vacías: productos y compras  "
   ]
  },
  {
   "cell_type": "markdown",
   "id": "64ce770c",
   "metadata": {},
   "source": [
    "### Agregar elementos a una lista\n",
    "\n",
    "Para agregar elementos a una lista es posible asignar elementos a la lista **o** utilizar el método `append`."
   ]
  },
  {
   "cell_type": "code",
   "execution_count": null,
   "id": "6fd270a4",
   "metadata": {},
   "outputs": [],
   "source": [
    "# Asignación de elementos a la lista\n",
    "invitados = [ 'Carlos Andrés', 'Martina Carolina' ]\n",
    "\n",
    "print(\"Lista de invitados hasta ahora: \", invitados)"
   ]
  },
  {
   "cell_type": "code",
   "execution_count": null,
   "id": "98c514ae",
   "metadata": {},
   "outputs": [],
   "source": [
    "# Método append de la lista\n",
    "invitados.append( 'María José' )\n",
    "invitados.append( 'Andrés Manuel' )\n",
    "\n",
    "print(\"Lista de invitados hasta ahora: \", invitados)"
   ]
  },
  {
   "cell_type": "code",
   "execution_count": null,
   "id": "48db1801",
   "metadata": {},
   "outputs": [],
   "source": [
    "# Asigne a la lista productos los elementos [ 'CAFE NESCAFE 100 G', 'ARROZ CONEJO SACO 20 LB', 'AZUCAR SAN CARLOS 2 KG']\n"
   ]
  },
  {
   "cell_type": "code",
   "execution_count": 21,
   "id": "567a058c",
   "metadata": {},
   "outputs": [],
   "source": [
    "# Para la lista compras, utilice el método append para agregar CADA UNO de los siguientes valores 5.29, 11.99 y 2.19\n"
   ]
  },
  {
   "cell_type": "markdown",
   "id": "5b619afa-c7bf-4dca-85ef-0539762461ae",
   "metadata": {},
   "source": [
    "## Estructuras de repetición"
   ]
  },
  {
   "cell_type": "markdown",
   "id": "33bc4954",
   "metadata": {},
   "source": [
    "## Ejercicios"
   ]
  }
 ],
 "metadata": {
  "kernelspec": {
   "display_name": "Python 3 (ipykernel)",
   "language": "python",
   "name": "python3"
  },
  "language_info": {
   "codemirror_mode": {
    "name": "ipython",
    "version": 3
   },
   "file_extension": ".py",
   "mimetype": "text/x-python",
   "name": "python",
   "nbconvert_exporter": "python",
   "pygments_lexer": "ipython3",
   "version": "3.11.5"
  }
 },
 "nbformat": 4,
 "nbformat_minor": 5
}
