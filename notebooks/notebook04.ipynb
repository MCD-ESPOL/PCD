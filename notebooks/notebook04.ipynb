{
 "cells": [
  {
   "cell_type": "markdown",
   "id": "6b535544-1310-4d5d-a06a-ce4bce87d876",
   "metadata": {},
   "source": [
    "## Listas\n",
    "\n",
    "Este tipo de dato permite agrupar datos (incluso de diferentes tipos) relacionados entre sí."
   ]
  },
  {
   "cell_type": "markdown",
   "id": "1c8e5bcd",
   "metadata": {},
   "source": [
    "### Lista vacía\n",
    "\n",
    "Una lista vacía se crea asignando un par de corchetes sin contenido, como se muestra a continuación.\n",
    "\n",
    "```python\n",
    "invitados = []\n",
    "```"
   ]
  },
  {
   "cell_type": "code",
   "execution_count": 1,
   "id": "8e7b4194",
   "metadata": {},
   "outputs": [],
   "source": [
    "# Cree dos listas vacías: productos y compras  "
   ]
  },
  {
   "cell_type": "markdown",
   "id": "f4ba51ca",
   "metadata": {},
   "source": [
    "### Agregar elementos a una lista\n",
    "\n",
    "Para agregar elementos a una lista es posible asignar elementos a la lista **o** utilizar el método `append`.\n",
    "\n",
    "\n",
    "```python\n",
    "invitados = [ 'Carlos Andrés', 'Martina Carolina' ]\n",
    "invitados.append( 'María José' )\n",
    "```"
   ]
  },
  {
   "cell_type": "code",
   "execution_count": 5,
   "id": "bee4cd00",
   "metadata": {},
   "outputs": [
    {
     "name": "stdout",
     "output_type": "stream",
     "text": [
      "['Carlos Andrés', 'Martina Carolina']\n"
     ]
    }
   ],
   "source": [
    "invitados = [ 'Carlos Andrés', 'Martina Carolina' ]\n",
    "print(\"Lista de i\"invitados)"
   ]
  },
  {
   "cell_type": "code",
   "execution_count": 6,
   "id": "8194c0cb",
   "metadata": {},
   "outputs": [
    {
     "name": "stdout",
     "output_type": "stream",
     "text": [
      "['Carlos Andrés', 'Martina Carolina', 'María José']\n"
     ]
    }
   ],
   "source": [
    "invitados.append( 'María José' )\n",
    "print(invitados)"
   ]
  },
  {
   "cell_type": "markdown",
   "id": "5b619afa-c7bf-4dca-85ef-0539762461ae",
   "metadata": {},
   "source": [
    "## Estructuras de repetición"
   ]
  },
  {
   "cell_type": "markdown",
   "id": "47a0e597",
   "metadata": {},
   "source": [
    "## Ejercicios"
   ]
  }
 ],
 "metadata": {
  "kernelspec": {
   "display_name": "Python 3 (ipykernel)",
   "language": "python",
   "name": "python3"
  },
  "language_info": {
   "codemirror_mode": {
    "name": "ipython",
    "version": 3
   },
   "file_extension": ".py",
   "mimetype": "text/x-python",
   "name": "python",
   "nbconvert_exporter": "python",
   "pygments_lexer": "ipython3",
   "version": "3.11.5"
  }
 },
 "nbformat": 4,
 "nbformat_minor": 5
}
