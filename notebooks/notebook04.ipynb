{
 "cells": [
  {
   "cell_type": "markdown",
   "id": "63339fae",
   "metadata": {},
   "source": [
    "# Tabla de Contenidos\n",
    "\n",
    "* [Contenidos](#Tabla-de-Contenidos)\n",
    "    * [Listas](#Listas)\n",
    "    * [Lista vacía](#Lista-vacía)\n",
    "    * [Agregar elemento(s) a una lista](#Agregar-elemento(s)-a-una-lista)\n",
    "    * [Operaciones con listas](#Operaciones-con-listas)\n",
    "    * [Indexación](#Indexación)\n",
    "    * [Rebanadas (slicing)](#Rebanadas-(slicing))\n",
    "    * [Búsqueda de valores](#Búsqueda-de-valores)\n",
    "* [Ejercicios](#Ejercicios)"
   ]
  },
  {
   "cell_type": "markdown",
   "id": "6b535544-1310-4d5d-a06a-ce4bce87d876",
   "metadata": {},
   "source": [
    "## Listas\n",
    "\n",
    "Este tipo de dato permite agrupar datos (incluso de diferentes tipos) relacionados entre sí."
   ]
  },
  {
   "cell_type": "markdown",
   "id": "dbfb8018",
   "metadata": {},
   "source": [
    "### Lista vacía\n",
    "\n",
    "Una lista vacía se crea asignando un par de corchetes sin contenido, como se muestra a continuación.\n",
    "\n",
    "<br><br>\n",
    "<div align=\"center\">\n",
    "    <img src=\"https://github.com/MCD-ESPOL/PCD/blob/main/notebooks/images/python_listas0.png?raw=true\" width=\"60%\">\n",
    "</div>"
   ]
  },
  {
   "cell_type": "code",
   "execution_count": null,
   "id": "7229db65",
   "metadata": {},
   "outputs": [],
   "source": [
    "# Cree dos listas vacías: productos y valores  \n"
   ]
  },
  {
   "cell_type": "markdown",
   "id": "31dd25e4",
   "metadata": {},
   "source": [
    "<details>\n",
    "  <summary><div>→ Haga click aquí para ver la solución</div></summary>\n",
    "  <pre lang=\"python\"><code>\n",
    "productos = []\n",
    "valores = []\n",
    "  </code></pre>\n",
    "</details> "
   ]
  },
  {
   "cell_type": "code",
   "execution_count": null,
   "id": "d9cb410b",
   "metadata": {},
   "outputs": [],
   "source": [
    "# Muestre las listas productos y valores  \n"
   ]
  },
  {
   "cell_type": "markdown",
   "id": "86acff0e",
   "metadata": {},
   "source": [
    "<details>\n",
    "  <summary><div>→ Haga click aquí para ver la solución</div></summary>\n",
    "  <pre lang=\"python\"><code>\n",
    "print(f\"Lista productos: {productos}\")\n",
    "print(f\"Lista valores: {valores}\")\n",
    "  </code></pre>\n",
    "</details> "
   ]
  },
  {
   "cell_type": "markdown",
   "id": "f9b6c2e8",
   "metadata": {},
   "source": [
    "[Regresar a la TC](#Tabla-de-Contenidos)"
   ]
  },
  {
   "cell_type": "markdown",
   "id": "64a28ae5",
   "metadata": {},
   "source": [
    "### Agregar elemento(s) a una lista\n",
    "\n",
    "Para agregar elemento(s) a una lista es posible asignar elementos a la lista **o** utilizar el método `append`.\n",
    "\n",
    "<br><br>\n",
    "<div align=\"center\">\n",
    "    <img src=\"https://github.com/MCD-ESPOL/PCD/blob/main/notebooks/images/python_listas1.png?raw=true\" width=\"80%\">\n",
    "</div>\n",
    "\n",
    "**NOTA:** Con el método `append` se agrega un elemento a la vez. "
   ]
  },
  {
   "cell_type": "code",
   "execution_count": null,
   "id": "0f6e9795",
   "metadata": {},
   "outputs": [],
   "source": [
    "# Asigne a la lista productos los elementos: \n",
    "#   [ 'CAFE NESCAFE 100 G', 'ARROZ CONEJO SACO 20 LB', 'AZUCAR SAN CARLOS 2 KG', \"PAN MOLDE TA'RIKO 450 G\", \"CHOCOLATE P/TAZA TUNGURAHUA 250 G\", \"LENTEJON SABOREANDO 500 G\"]\n",
    "# Muestre la lista productos.\n",
    "\n"
   ]
  },
  {
   "cell_type": "markdown",
   "id": "e74d13c5",
   "metadata": {},
   "source": [
    "<details>\n",
    "  <summary><div>→ Haga click aquí para ver la solución</div></summary>\n",
    "  <pre lang=\"python\"><code>\n",
    "productos = [ 'CAFE NESCAFE 100 G', 'ARROZ CONEJO SACO 20 LB', 'AZUCAR SAN CARLOS 2 KG', \"PAN MOLDE TA'RIKO 450 G\", \"CHOCOLATE P/TAZA TUNGURAHUA 250 G\", \"LENTEJON SABOREANDO 500 G\"]\n",
    "print(f\"La lista de productos: {productos}\")\n",
    "  </code></pre>\n",
    "</details> "
   ]
  },
  {
   "cell_type": "code",
   "execution_count": null,
   "id": "ab034b08",
   "metadata": {},
   "outputs": [],
   "source": [
    "# Para la lista valores, utilice el método append para agregar UNO A UNO de los siguientes datos: \n",
    "#   5.29, 11.99, 2.19, 0.99, 2.09 y 1.49\n",
    "# Muestre la lista valores\n",
    "\n"
   ]
  },
  {
   "cell_type": "markdown",
   "id": "d9c1fd31",
   "metadata": {},
   "source": [
    "<details>\n",
    "  <summary><div>→ Haga click aquí para ver la solución</div></summary>\n",
    "  <pre lang=\"python\"><code>\n",
    "valores.append(5.29)\n",
    "valores.append(11.99)\n",
    "valores.append(2.19)\n",
    "valores.append(0.99)\n",
    "valores.append(2.09)\n",
    "valores.append(1.49)\n",
    "\n",
    "print(f\"La lista de valores: {valores}\")\n",
    "  </code></pre>\n",
    "</details> "
   ]
  },
  {
   "cell_type": "markdown",
   "id": "7b792eb0",
   "metadata": {},
   "source": [
    "[Regresar a la TC](#Tabla-de-Contenidos)"
   ]
  },
  {
   "cell_type": "markdown",
   "id": "908606ca",
   "metadata": {},
   "source": [
    "### Operaciones con listas\n",
    "\n",
    "Con las listas es posible realizar operaciones como: `max` (valor máximo), `min` (valor máximo), `len` (longitud o cantidad de elementos) y `sum` (suma de todos los elementos). Sin embargo, no todas las operaciones pueden realizarse sobre las listas.\n",
    "\n",
    "\n",
    "<br><br>\n",
    "<div align=\"center\">\n",
    "    <img src=\"https://github.com/MCD-ESPOL/PCD/blob/main/notebooks/images/python_listas2.png?raw=true\" width=\"60%\">\n",
    "</div>"
   ]
  },
  {
   "cell_type": "code",
   "execution_count": null,
   "id": "3229ab28",
   "metadata": {},
   "outputs": [],
   "source": [
    "# En la variable cantidadProductos asigne la cantidad de elementos (len) de la lista productos.\n",
    "# Muestre el contenido de la variable cantidadProductos\n",
    "\n",
    "cantidadProductos = len(productos)\n",
    "print(\"La cantidad de productos es \", cantidadProductos)"
   ]
  },
  {
   "cell_type": "code",
   "execution_count": null,
   "id": "13999d9a",
   "metadata": {},
   "outputs": [],
   "source": [
    "# En la variable maxValor asigne el valor máximo (max) de la lista valores.\n",
    "# Muestre el contenido de la variable maxValor\n",
    "\n",
    "\n",
    "maxValor = max(valores)\n",
    "print(\"El valor máximo es: \", maxValor)"
   ]
  },
  {
   "cell_type": "code",
   "execution_count": null,
   "id": "b9dc87e2",
   "metadata": {},
   "outputs": [],
   "source": [
    "# En la variable minValor asigne el valor mínimo (min) de la lista valores.\n",
    "# Muestre el contenido de la variable minValor\n",
    "\n",
    "minValor = min(valores)\n",
    "print(\"El valor mínimo es: \", minValor)"
   ]
  },
  {
   "cell_type": "code",
   "execution_count": null,
   "id": "b9957fa4",
   "metadata": {},
   "outputs": [],
   "source": [
    "# En la variable totalValor asigne la suma total (sum) de la lista valores.\n",
    "# Muestre el contenido de la variable totalValor\n",
    "\n",
    "totalValor = sum(valores)\n",
    "print(\"La suma total es: \", totalValor)"
   ]
  },
  {
   "cell_type": "code",
   "execution_count": null,
   "id": "3018b585",
   "metadata": {},
   "outputs": [],
   "source": [
    "# En la variable maxProducto asigne el valor máximo (max) de la lista productos.\n",
    "# Muestre el contenido de la variable maxProducto\n",
    "\n",
    "maxProducto = max(productos)\n",
    "print(\"El producto máximo (?): \", maxProducto)"
   ]
  },
  {
   "cell_type": "code",
   "execution_count": null,
   "id": "b86eeafd",
   "metadata": {},
   "outputs": [],
   "source": [
    "minProducto = min(productos)\n",
    "print(\"El producto mínimo (?): \", minProducto)"
   ]
  },
  {
   "cell_type": "markdown",
   "id": "faac855f",
   "metadata": {},
   "source": [
    "[Regresar a la TC](#Tabla-de-Contenidos)"
   ]
  },
  {
   "cell_type": "markdown",
   "id": "ccbbf56e",
   "metadata": {},
   "source": [
    "### Indexación\n",
    "\n",
    "\n",
    "Una forma indirecta para acceder a CADA elemento dentro de una lista es mediante el **índice**. \n",
    "\n",
    "<div align=\"center\">\n",
    "    <img src=\"https://github.com/MCD-ESPOL/PCD/blob/main/notebooks/images/python_listas3.png?raw=true\" width=\"60%\">\n",
    "</div>\n",
    "\n"
   ]
  },
  {
   "cell_type": "markdown",
   "id": "70bfd48b",
   "metadata": {},
   "source": [
    "Los índices van desde el **0** hasta **cantidad de elementos - 1**.\n",
    "\n",
    "<br>\n",
    "<div align=\"center\">\n",
    "    <img src=\"https://github.com/MCD-ESPOL/PCD/blob/main/notebooks/images/python_listas4.png?raw=true\" width=\"80%\">\n",
    "</div>"
   ]
  },
  {
   "cell_type": "code",
   "execution_count": null,
   "id": "7eb1770e",
   "metadata": {},
   "outputs": [],
   "source": [
    "# De la lista productos, extraiga el elemento que se encuentran con el índice 0\n",
    "# De la lista valores, extraiga el elemento que se encuentran con el índice 0\n",
    "# Muestre ambos resultados por pantalla\n",
    "\n",
    "primerProducto = productos[0]\n",
    "primerValor = valores[0]\n",
    "print(f\"El producto {primerProducto} tiene como valor ${primerValor}\")"
   ]
  },
  {
   "cell_type": "code",
   "execution_count": null,
   "id": "c69493ff",
   "metadata": {},
   "outputs": [],
   "source": [
    "# De la lista productos, extraiga el elemento que se encuentran con el índice 3\n",
    "# De la lista valores, extraiga el elemento que se encuentran con el índice 3\n",
    "# Muestre ambos resultados por pantalla\n",
    "\n",
    "cuartoProducto = productos[3]\n",
    "cuartoValor = valores[3]\n",
    "print(f\"El producto {cuartoProducto} tiene como valor ${cuartoValor}\")"
   ]
  },
  {
   "cell_type": "code",
   "execution_count": null,
   "id": "d6724a87",
   "metadata": {},
   "outputs": [],
   "source": [
    "# De la lista productos, extraiga el elemento que se encuentran con el índice 1\n",
    "# De la lista valores, extraiga el elemento que se encuentran con el índice 1\n",
    "# Muestre ambos resultados por pantalla\n",
    "\n",
    "segundoProducto = productos[1]\n",
    "segundoValor = valores[1]\n",
    "print(f\"El producto {segundoProducto} tiene como valor ${segundoValor}\")"
   ]
  },
  {
   "cell_type": "code",
   "execution_count": null,
   "id": "d6810a67",
   "metadata": {},
   "outputs": [],
   "source": [
    "# De la lista productos, extraiga el elemento que se encuentran con el índice 2\n",
    "# De la lista valores, extraiga el elemento que se encuentran con el índice 2\n",
    "# Muestre ambos resultados por pantalla\n",
    "\n",
    "tercerProducto = productos[2]\n",
    "tercerValor = valores[2]\n",
    "print(f\"El producto {tercerProducto} tiene como valor ${tercerValor}\")"
   ]
  },
  {
   "cell_type": "markdown",
   "id": "52106b61",
   "metadata": {},
   "source": [
    "[Regresar a la TC](#Tabla-de-Contenidos)"
   ]
  },
  {
   "cell_type": "markdown",
   "id": "5b619afa-c7bf-4dca-85ef-0539762461ae",
   "metadata": {},
   "source": [
    "### Rebanadas (slicing)\n",
    "\n",
    "Utilizando la experiencia de tomar un elemento de la lista a partir de un índice, también es posible copiar un grupo de elementos desde un **índice de inicio** hasta un **índice de fin** (sin incluir).\n",
    "\n",
    "Por ejemplo, para copiar un grupo con los **tres primeros elementos** se utilizan desde el índice **0** hasta el índice **3** (sin incluir).\n",
    "\n",
    "<div align=\"center\">\n",
    "    <img src=\"https://github.com/MCD-ESPOL/PCD/blob/main/notebooks/images/python_listas5.png?raw=true\" width=\"60%\">\n",
    "</div>\n",
    "\n",
    "\n",
    "\n",
    "<div align=\"center\">\n",
    "    <img src=\"https://github.com/MCD-ESPOL/PCD/blob/main/notebooks/images/python_listas6.png?raw=true\" width=\"60%\">\n",
    "</div>"
   ]
  },
  {
   "cell_type": "code",
   "execution_count": null,
   "id": "4b32370e",
   "metadata": {},
   "outputs": [],
   "source": [
    "# De la lista productos, copie los elementos que se encuentran desde el índice 0 hasta el índice 2. \n",
    "# Muestre el resultado\n",
    "\n",
    "tresPrimerosProductos = productos[0:3]\n",
    "print(\"Los tres primeros productos son: \", tresPrimerosProductos)"
   ]
  },
  {
   "cell_type": "code",
   "execution_count": null,
   "id": "55809fe8",
   "metadata": {},
   "outputs": [],
   "source": [
    "# De la lista valores, copie los elementos que se encuentran desde el índice 0 hasta el índice 2. \n",
    "# Muestre el resultado\n",
    "\n",
    "tresPrimerosValores = valores[0:3]\n",
    "print(\"Los tres primeros valores son: \", tresPrimerosValores)"
   ]
  },
  {
   "cell_type": "code",
   "execution_count": null,
   "id": "9164cf5e",
   "metadata": {},
   "outputs": [],
   "source": [
    "# De las listas productos y valores, copie los tres últimos elementos \n",
    "# Muestre los resultados\n",
    "\n",
    "tresUltimosProductos = productos[3:6]\n",
    "print(\"Tres últimos productos \", tresUltimosProductos)\n",
    "\n",
    "tresUltimosValores = valores[3: ]\n",
    "print(\"Tres últimos valores \", tresUltimosValores)"
   ]
  },
  {
   "cell_type": "code",
   "execution_count": null,
   "id": "05210781",
   "metadata": {},
   "outputs": [],
   "source": [
    "print(productos)\n",
    "print(valores)"
   ]
  },
  {
   "cell_type": "code",
   "execution_count": null,
   "id": "aca0629b",
   "metadata": {},
   "outputs": [],
   "source": [
    "# De las listas productos y valores, copie los dos elementos en el centro\n",
    "# Muestre los resultados\n",
    "\n",
    "productosCentrales = productos[2:4]\n",
    "valoresCentrales = valores[2:4]\n",
    "\n",
    "print(\"Productos centrales \", productosCentrales)\n",
    "print(\"Valores centrales \", valoresCentrales)"
   ]
  },
  {
   "cell_type": "code",
   "execution_count": null,
   "id": "b6c36f35",
   "metadata": {},
   "outputs": [],
   "source": [
    "\n",
    "cantidadElementos = len(productos)\n",
    "print(cantidadElementos)"
   ]
  },
  {
   "cell_type": "code",
   "execution_count": null,
   "id": "2e3ae42f",
   "metadata": {},
   "outputs": [],
   "source": [
    "indiceCentral = cantidadElementos / 2\n",
    "print(indiceCentral)"
   ]
  },
  {
   "cell_type": "code",
   "execution_count": null,
   "id": "c5e544ca",
   "metadata": {},
   "outputs": [],
   "source": [
    "indiceCentralInicio = int(indiceCentral - 1)\n",
    "indiceCentralFin = int(indiceCentral + 1)\n",
    "\n",
    "print(indiceCentralInicio, indiceCentralFin)"
   ]
  },
  {
   "cell_type": "code",
   "execution_count": null,
   "id": "250cb68a",
   "metadata": {},
   "outputs": [],
   "source": [
    "\n",
    "productosCentrales = productos[indiceCentralInicio:indiceCentralFin]\n",
    "valoresCentrales = valores[indiceCentralInicio:indiceCentralFin]\n",
    "\n",
    "print(\"Productos centrales \", productosCentrales)\n",
    "print(\"Valores centrales \", valoresCentrales)"
   ]
  },
  {
   "cell_type": "markdown",
   "id": "3ac22452",
   "metadata": {},
   "source": [
    "[Regresar a la TC](#Tabla-de-Contenidos)"
   ]
  },
  {
   "cell_type": "markdown",
   "id": "9858fde8",
   "metadata": {},
   "source": [
    "### Búsqueda de valores\n",
    "\n",
    "Para buscar el índice de un elemento en una lista, se utiliza el método **index**. Este método puede devolver:\n",
    "\n",
    "* El índice del elemento correspondiente, o\n",
    "* Un `Error` cuando no encuentra el elemento en la lista."
   ]
  },
  {
   "cell_type": "markdown",
   "id": "b489b15c",
   "metadata": {},
   "source": [
    "<div align=\"center\">\n",
    "    <img src=\"https://github.com/MCD-ESPOL/PCD/blob/main/notebooks/images/python_listas7.png?raw=true\" width=\"60%\">\n",
    "</div>"
   ]
  },
  {
   "cell_type": "markdown",
   "id": "a9aa148e",
   "metadata": {},
   "source": [
    "En caso de encontrar el **indiceInvitado** puede servir para obtener el elemento en la lista.\n",
    "\n",
    "<br>\n",
    "\n",
    "<div align=\"center\">\n",
    "    <img src=\"https://github.com/MCD-ESPOL/PCD/blob/main/notebooks/images/python_listas8.png?raw=true\" width=\"60%\">\n",
    "</div>"
   ]
  },
  {
   "cell_type": "code",
   "execution_count": null,
   "id": "193ec057",
   "metadata": {},
   "outputs": [],
   "source": [
    "# En la lista productos, busque el elemento 'AZUCAR SAN CARLOS 2 KG' y asigne el índice en indiceAzucar\n",
    "\n",
    "indiceAzucar = productos.index('AZUCAR SAN CARLOS 2 KG')\n",
    "print(indiceAzucar)"
   ]
  },
  {
   "cell_type": "code",
   "execution_count": null,
   "id": "fa76d20a",
   "metadata": {},
   "outputs": [],
   "source": [
    "# Obtenga el elemento de la lista productos de acuerdo con indiceAzucar\n",
    "# Obtenga el elemento de la lista valores de acuerdo con indiceAzucar\n",
    "# Muestre los elementos obtenidos\n",
    "\n",
    "productoAzucar = productos[indiceAzucar]\n",
    "valorAzucar = valores[indiceAzucar]\n",
    "\n",
    "print(f\"{productoAzucar} tiene como valor ${valorAzucar}\")"
   ]
  },
  {
   "cell_type": "code",
   "execution_count": null,
   "id": "71b776cc",
   "metadata": {},
   "outputs": [],
   "source": [
    "# En la lista valores, obtenga el máximo valor\n",
    "# En la lista valores, busque el elemento con el máximo valor y asigne el índice en indiceMaximo\n",
    "\n",
    "maximo = max(valores)\n",
    "indiceMaximo = valores.index(maximo)\n",
    "\n",
    "print(\"El índice del valor máximo es \", indiceMaximo)"
   ]
  },
  {
   "cell_type": "code",
   "execution_count": null,
   "id": "c188183e",
   "metadata": {},
   "outputs": [],
   "source": [
    "# Obtenga el elemento de la lista productos de acuerdo con indiceMaximo\n",
    "\n",
    "productoMaximo = productos[indiceMaximo]"
   ]
  },
  {
   "cell_type": "code",
   "execution_count": null,
   "id": "5ca2afa5",
   "metadata": {},
   "outputs": [],
   "source": [
    "# Muestre los elementos (correspondientes) nombre del producto y el valor máximo\n",
    "\n",
    "print(f\"El producto {productoMaximo} tiene el máximo valor ${maximo}\")"
   ]
  },
  {
   "cell_type": "markdown",
   "id": "23696ddf",
   "metadata": {},
   "source": [
    "[Regresar a la TC](#Tabla-de-Contenidos)"
   ]
  },
  {
   "cell_type": "markdown",
   "id": "9fd9faf2",
   "metadata": {},
   "source": [
    "## Ejercicios"
   ]
  },
  {
   "cell_type": "markdown",
   "id": "a960c5e4",
   "metadata": {},
   "source": [
    "* Haga un programa para el **análisis de ventas**, con las listas _meses_ y _ventas_."
   ]
  },
  {
   "cell_type": "code",
   "execution_count": null,
   "id": "af8ac069",
   "metadata": {},
   "outputs": [],
   "source": [
    "meses = [\"Enero\", \"Febrero\", \"Marzo\", \"Abril\", \"Mayo\", \"Junio\", \"Julio\", \"Agosto\", \"Septiembre\", \"Octubre\", \"Noviembre\", \"Diciembre\"]\n",
    "ventas = [3.73, 9.46, 6.01, 5.74, 4.51, 7.6, 6.04, 2.59, 6.88, 7.96, 4.75, 7.96]"
   ]
  },
  {
   "cell_type": "markdown",
   "id": "26f452f9",
   "metadata": {},
   "source": [
    "Utilice las listas _meses_ y _ventas_ muestre cada uno de los literales:\n",
    "\n",
    "1. El valor máximo y el valor mínimo de ventas.\n",
    "2. La suma total de ventas.\n",
    "3. El promedio de ventas.\n",
    "4. El valor máximo de ventas, con el mes correspondiente.\n",
    "5. El valor mínimo de ventas, con el mes correspondiente.\n",
    "6. Los valores de venta en el primer trimestre. \n",
    "7. El máximo valor de ventas en el primer trimestre. \n",
    "8. El máximo valor de ventas en el primer trimestre, con el mes correspondiente. \n",
    "9. Los valores de venta en el segundo semestre. \n",
    "10. El mínimo valor de ventas en el segundo semestre. \n",
    "11. El mínimo valor de ventas en el segundo semestre, con el mes correspondiente. \n",
    "12. El mayor valor de ventas, considerando entre los dos mayores valores de cada semestre.\n",
    "13. El nombre del mes con el mayor valor de ventas, considerando entre los dos mayores valores de cada semestre."
   ]
  },
  {
   "cell_type": "code",
   "execution_count": null,
   "id": "db0f8b3a",
   "metadata": {},
   "outputs": [],
   "source": [
    "# El valor máximo y el valor mínimo de ventas.\n",
    "\n",
    "valorMaximo = max(ventas)\n",
    "valorMinimo = min(ventas)\n",
    "\n",
    "print(f\"Valor máximo ${valorMaximo}\")\n",
    "print(f\"Valor mínimo ${valorMinimo}\")"
   ]
  },
  {
   "cell_type": "code",
   "execution_count": null,
   "id": "be13426e",
   "metadata": {},
   "outputs": [],
   "source": [
    "# La suma total de ventas.\n",
    "total = sum(ventas)\n",
    "\n",
    "print(f\"Total de ventas ${total}\")"
   ]
  },
  {
   "cell_type": "code",
   "execution_count": null,
   "id": "d8b404ca",
   "metadata": {},
   "outputs": [],
   "source": [
    "# El promedio de ventas.\n",
    "\n",
    "promedio = total / len(ventas)\n",
    "\n",
    "print(f\"Promedio de ventas es ${promedio}\")"
   ]
  },
  {
   "cell_type": "code",
   "execution_count": null,
   "id": "fb962670",
   "metadata": {},
   "outputs": [],
   "source": [
    "#El valor máximo de ventas, con el mes correspondiente.\n",
    "# El valor mínimo de ventas, con el mes correspondiente.\n",
    "\n",
    "indiceMaximo = ventas.index(valorMaximo)\n",
    "mesMaximo = meses[indiceMaximo]\n",
    "print(f\"{mesMaximo} tiene un máximo de ventas ${valorMaximo}\")\n",
    "\n",
    "indiceMinimo = ventas.index(valorMinimo)\n",
    "mesMinimo = meses[indiceMinimo]\n",
    "print(f\"{mesMinimo} tiene un mínimo de ventas ${valorMinimo}\")"
   ]
  },
  {
   "cell_type": "code",
   "execution_count": null,
   "id": "572d241d",
   "metadata": {},
   "outputs": [],
   "source": [
    "#Los valores de venta en el primer trimestre.\n",
    "#El máximo valor de ventas en el primer trimestre.\n",
    "#El máximo valor de ventas en el primer trimestre, con el mes correspondiente.\n",
    "\n",
    "valorVentasPrimerTrimestre = ventas[0:3]\n",
    "print(\"Ventas del primer trimestre: \", valorVentasPrimerTrimestre)\n",
    "\n",
    "maximoTrimestre = max(valorVentasPrimerTrimestre)\n",
    "print(f\"El máximo del primer trimestre es: $\", maximoTrimestre)\n",
    "\n",
    "mesesPrimerTrimestre = meses[ : 3]\n",
    "print(\"Meses del primer trimestre: \", mesesPrimerTrimestre)\n",
    "\n",
    "indiceMaximo = valorVentasPrimerTrimestre.index( maximoTrimestre )\n",
    "mesMaximoTrimestre = mesesPrimerTrimestre[indiceMaximo]\n",
    "\n",
    "print(f\"{mesMaximoTrimestre} tiene el valor máximo ${maximoTrimestre} en el primer trimestre\")"
   ]
  },
  {
   "cell_type": "code",
   "execution_count": null,
   "id": "bbf0aadc",
   "metadata": {},
   "outputs": [],
   "source": [
    "# Los valores de venta en el segundo semestre.\n",
    "# El mínimo valor de ventas en el segundo semestre.\n",
    "# El mínimo valor de ventas en el segundo semestre, con el mes correspondiente.\n",
    "\n",
    "ventasSegundoSemestre = ventas[6:]\n",
    "mesesSegundoSemestre = meses[6:]\n",
    "\n",
    "print(\"Ventas del segundo semestre: \",ventasSegundoSemestre )\n",
    "print(\"Meses del segundo semestre: \",mesesSegundoSemestre )\n",
    "\n",
    "minimoSegundoSemestre = min(ventasSegundoSemestre)\n",
    "indiceMinimoSegSemestre = ventasSegundoSemestre.index(minimoSegundoSemestre)\n",
    "\n",
    "\n",
    "mesMinSegundoSemestre = mesesSegundoSemestre[indiceMinimoSegSemestre]\n",
    "\n",
    "print(f\"{mesMinSegundoSemestre} tiene el valor ${minimoSegundoSemestre} mínimo en el segundo semestre\")"
   ]
  },
  {
   "cell_type": "code",
   "execution_count": null,
   "id": "2704f00c",
   "metadata": {},
   "outputs": [],
   "source": [
    "# El mayor valor de ventas, considerando entre los dos mayores valores de cada semestre.\n",
    "# El nombre del mes con el mayor valor de ventas, considerando entre los dos mayores valores de cada semestre.\n",
    "\n",
    "maxPrimerSemestre = max(ventas[ :6])\n",
    "maxSegundoSemestre = max(ventas[6: ])\n",
    "\n",
    "mesesPrimerSemestre = meses[ :6]\n",
    "mesesSegundoSemestre = meses[6: ]\n",
    "\n",
    "\n",
    "if maxPrimerSemestre > maxSegundoSemestre:\n",
    "    indiceMaximo = ventas[ :6].index(maxPrimerSemestre)\n",
    "    mesMaximo = mesesPrimerSemestre[indiceMaximo]\n",
    "    print(f\"{mesMaximo} con el valor ${maxPrimerSemestre}\")\n",
    "    \n",
    "else:\n",
    "    \n",
    "    indiceMaximo = ventas[6: ].index(maxSegundoSemestre)\n",
    "    mesMaximo = mesesSegundoSemestre[indiceMaximo]\n",
    "    print(f\"{mesMaximo} con el valor ${maxSegundoSemestre}\")\n",
    "    "
   ]
  },
  {
   "cell_type": "markdown",
   "id": "534ee6e7",
   "metadata": {},
   "source": [
    "[Regresar a la TC](#Tabla-de-Contenidos)"
   ]
  }
 ],
 "metadata": {
  "kernelspec": {
   "display_name": "Python 3 (ipykernel)",
   "language": "python",
   "name": "python3"
  },
  "language_info": {
   "codemirror_mode": {
    "name": "ipython",
    "version": 3
   },
   "file_extension": ".py",
   "mimetype": "text/x-python",
   "name": "python",
   "nbconvert_exporter": "python",
   "pygments_lexer": "ipython3",
   "version": "3.11.5"
  }
 },
 "nbformat": 4,
 "nbformat_minor": 5
}
