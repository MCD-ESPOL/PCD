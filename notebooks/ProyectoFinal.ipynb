{
 "cells": [
  {
   "cell_type": "markdown",
   "id": "52362dfa",
   "metadata": {},
   "source": [
    "# Proyecto Final\n",
    "\n",
    "Nombre participante: "
   ]
  },
  {
   "cell_type": "markdown",
   "id": "ce640b9a",
   "metadata": {},
   "source": [
    "## Dataset\n",
    "\n",
    "Agrege el nombre, el url y la descripción del dataset "
   ]
  },
  {
   "cell_type": "markdown",
   "id": "705b718b",
   "metadata": {},
   "source": [
    "## Importar librerías externas\n",
    "\n",
    "Importe las librerías numpy, pandas, matplotlib.pyplot"
   ]
  },
  {
   "cell_type": "code",
   "execution_count": null,
   "id": "566a0cad",
   "metadata": {},
   "outputs": [],
   "source": []
  },
  {
   "cell_type": "markdown",
   "id": "6175167a",
   "metadata": {},
   "source": [
    "## Carga de datos"
   ]
  },
  {
   "cell_type": "code",
   "execution_count": null,
   "id": "f67e2852",
   "metadata": {},
   "outputs": [],
   "source": []
  },
  {
   "cell_type": "markdown",
   "id": "fce8b127",
   "metadata": {},
   "source": [
    "## Vista previa"
   ]
  },
  {
   "cell_type": "code",
   "execution_count": null,
   "id": "b41d7e35",
   "metadata": {},
   "outputs": [],
   "source": []
  },
  {
   "cell_type": "markdown",
   "id": "c358dad6",
   "metadata": {},
   "source": [
    "## Filas y columnas"
   ]
  },
  {
   "cell_type": "code",
   "execution_count": null,
   "id": "af09157a",
   "metadata": {},
   "outputs": [],
   "source": []
  },
  {
   "cell_type": "markdown",
   "id": "136a938a",
   "metadata": {},
   "source": [
    "## Nombre de las columnas"
   ]
  },
  {
   "cell_type": "code",
   "execution_count": null,
   "id": "abce17e7",
   "metadata": {},
   "outputs": [],
   "source": []
  },
  {
   "cell_type": "markdown",
   "id": "9e732076",
   "metadata": {},
   "source": [
    "## Tipos de datos de las columnas"
   ]
  },
  {
   "cell_type": "code",
   "execution_count": null,
   "id": "857a0540",
   "metadata": {},
   "outputs": [],
   "source": []
  },
  {
   "cell_type": "markdown",
   "id": "0954fc52",
   "metadata": {},
   "source": [
    "## Cantidad de elementos NaN del dataframe"
   ]
  },
  {
   "cell_type": "code",
   "execution_count": null,
   "id": "7dad93e9",
   "metadata": {},
   "outputs": [],
   "source": []
  },
  {
   "cell_type": "markdown",
   "id": "a048c468",
   "metadata": {},
   "source": [
    "## Elimine las filas con NaN del dataframe"
   ]
  },
  {
   "cell_type": "code",
   "execution_count": null,
   "id": "236784f3",
   "metadata": {},
   "outputs": [],
   "source": []
  },
  {
   "cell_type": "markdown",
   "id": "287a655f",
   "metadata": {},
   "source": [
    "## Medidas de tendencia central, dispersión y forma de la distribución del dataframe"
   ]
  },
  {
   "cell_type": "code",
   "execution_count": null,
   "id": "92e527ae",
   "metadata": {},
   "outputs": [],
   "source": []
  },
  {
   "cell_type": "markdown",
   "id": "9aad66c0",
   "metadata": {},
   "source": [
    "## Ejercicios"
   ]
  },
  {
   "cell_type": "code",
   "execution_count": null,
   "id": "2d84faa0",
   "metadata": {},
   "outputs": [],
   "source": [
    "# Al menos, tres ejercicios y muestre el resultado con gráficos"
   ]
  }
 ],
 "metadata": {
  "kernelspec": {
   "display_name": "Python 3 (ipykernel)",
   "language": "python",
   "name": "python3"
  },
  "language_info": {
   "codemirror_mode": {
    "name": "ipython",
    "version": 3
   },
   "file_extension": ".py",
   "mimetype": "text/x-python",
   "name": "python",
   "nbconvert_exporter": "python",
   "pygments_lexer": "ipython3",
   "version": "3.11.5"
  }
 },
 "nbformat": 4,
 "nbformat_minor": 5
}
