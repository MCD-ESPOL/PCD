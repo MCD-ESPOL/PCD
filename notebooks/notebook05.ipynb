{
 "cells": [
  {
   "cell_type": "markdown",
   "id": "6172ca88",
   "metadata": {},
   "source": [
    "# Tabla de Contenidos\n",
    "\n",
    "* [Contenidos](#Tabla-de-Contenidos)\n",
    "    * [Matplotlib](#Matplotlib)\n",
    "    * [Instalación](#Instalación)\n",
    "    * [Importar librerías externas](#Importar-librerías-externas)\n",
    "    * [Datos](#Datos)\n",
    "    * [Plot (básico)](#Plot-(básico))\n",
    "    * [Etiquetas](#Etiquetas)\n",
    "    * [Títulos](#Títulos)\n",
    "    * [Gráfico de barras](#Gráfico-de-barras)\n",
    "* [Ejercicios](#Ejercicios)"
   ]
  },
  {
   "cell_type": "markdown",
   "id": "5d55290d",
   "metadata": {},
   "source": [
    "## Matplotlib\n",
    "\n",
    "[Matplotlib](https://matplotlib.org/) es una biblioteca completa para crear visualizaciones estáticas, animadas e interactivas en Python. En la [documentación](https://matplotlib.org/stable/users/index) puede encontrar información de cómo crear gráficos sencillos, modificar el estilo de los gráficos, en otras cosas características.\n",
    "\n",
    "\n",
    "\n",
    "<br><br>\n",
    "<div align=\"center\">\n",
    "    <img src=\"https://github.com/MCD-ESPOL/PCD/blob/main/notebooks/images/python_mlib0.png?raw=true\" width=\"60%\">\n",
    "</div>"
   ]
  },
  {
   "cell_type": "markdown",
   "id": "625f8a88",
   "metadata": {},
   "source": [
    "### Instalación\n",
    "\n",
    "En Anaconda, en la sección _Environments_, revise e instale (de ser necesario) la librería **matplotlib**.\n",
    "\n",
    "<br><br>\n",
    "<div align=\"center\">\n",
    "    <img src=\"https://github.com/MCD-ESPOL/PCD/blob/main/notebooks/images/python_mlib1.png?raw=true\" width=\"90%\">\n",
    "</div>"
   ]
  },
  {
   "cell_type": "markdown",
   "id": "7907e5ea",
   "metadata": {},
   "source": [
    "### Importar librerías externas\n",
    "\n",
    "Luego de instalar las librerías externas en Python, cada programa puede **importar** la librería, con:\n",
    "\n",
    "```python\n",
    "import NOMBRE_DE_LA_LIBRERIA as ALIAS\n",
    "```\n",
    "\n",
    "**NOTA:** SOLO importe la librería una vez y al INICIO de su programa"
   ]
  },
  {
   "cell_type": "code",
   "execution_count": null,
   "id": "8df5115c",
   "metadata": {},
   "outputs": [],
   "source": [
    "# Importe la libreria import matplotlib.pyplot as plt \n",
    "\n"
   ]
  },
  {
   "cell_type": "markdown",
   "id": "8b09a8da",
   "metadata": {},
   "source": [
    "<details>\n",
    "  <summary><div>→ Haga click aquí para ver la solución</div></summary>\n",
    "  <pre lang=\"python\"><code>\n",
    "import matplotlib.pyplot as plt \n",
    "  </code></pre>\n",
    "</details> "
   ]
  },
  {
   "cell_type": "markdown",
   "id": "e1683bf7",
   "metadata": {},
   "source": [
    "[Regresar a la TC](#Tabla-de-Contenidos)"
   ]
  },
  {
   "cell_type": "markdown",
   "id": "7971d001",
   "metadata": {},
   "source": [
    "### Datos\n",
    "\n",
    "Para comenzar a trabajar con _matplotlib_ son necesarias dos listas _paralelas_: **datos para el eje X** y **datos para el eje Y**. En este caso, utilizaremos las listas **meses** (eje X) y **ventas** (eje Y).\n",
    "\n",
    "```python\n",
    "meses = [\"Enero\", \"Febrero\", \"Marzo\", \"Abril\", \"Mayo\", \"Junio\", \"Julio\", \"Agosto\", \"Septiembre\", \"Octubre\", \"Noviembre\", \"Diciembre\"]\n",
    "ventas = [3.73, 9.46, 6.01, 5.74, 4.51, 7.6, 6.04, 2.59, 6.88, 7.96, 4.75, 7.96]\n",
    "```"
   ]
  },
  {
   "cell_type": "code",
   "execution_count": null,
   "id": "c2f34883",
   "metadata": {},
   "outputs": [],
   "source": [
    "# Copie las listas meses y ventas\n",
    "# Cargue en memoria las listas meses y ventas\n",
    "\n"
   ]
  },
  {
   "cell_type": "code",
   "execution_count": null,
   "id": "a51873cc",
   "metadata": {},
   "outputs": [],
   "source": [
    "# Muestre la lista meses y la cantidad de elementos dentro de la lista. \n",
    "# Muestre la lista ventas y la cantidad de elementos dentro de la lista. \n"
   ]
  },
  {
   "cell_type": "markdown",
   "id": "cf2b1295",
   "metadata": {},
   "source": [
    "<details>\n",
    "  <summary><div>→ Haga click aquí para ver la solución</div></summary>\n",
    "  <pre lang=\"python\"><code>\n",
    "print(f'La lista {meses} tiene {len(meses)} elementos')\n",
    "print(f'La lista {ventas} tiene {len(ventas)} elementos')\n",
    "  </code></pre>\n",
    "</details> "
   ]
  },
  {
   "cell_type": "markdown",
   "id": "eef24e61",
   "metadata": {},
   "source": [
    "[Regresar a la TC](#Tabla-de-Contenidos)"
   ]
  },
  {
   "cell_type": "markdown",
   "id": "4c704756",
   "metadata": {},
   "source": [
    "### Plot (básico)\n",
    "\n",
    "La función [plot](https://matplotlib.org/stable/api/_as_gen/matplotlib.pyplot.plot.html#matplotlib.pyplot.plot) sirve para graficar las coordenadas de los puntos o nodos de línea están dadas por **datos_eje_horizontal** y **datos_eje_vertical**. \n",
    "\n",
    "```python\n",
    "plt.plot( datos_eje_horizontal , datos_eje_vertical )\n",
    "```"
   ]
  },
  {
   "cell_type": "code",
   "execution_count": null,
   "id": "4965ce1a",
   "metadata": {},
   "outputs": [],
   "source": [
    "# Use el alias plt, llame la función plot. \n",
    "# En el eje horizontal use la lista meses, y en el eje vertical use la lista ventas\n"
   ]
  },
  {
   "cell_type": "markdown",
   "id": "bbc2f48b",
   "metadata": {},
   "source": [
    "<details>\n",
    "  <summary><div>→ Haga click aquí para ver la solución</div></summary>\n",
    "  <pre lang=\"python\"><code>\n",
    "plt.plot(meses, ventas)\n",
    "  </code></pre>\n",
    "</details> "
   ]
  },
  {
   "cell_type": "code",
   "execution_count": null,
   "id": "d6aa57f2",
   "metadata": {},
   "outputs": [],
   "source": [
    "# Use el alias plt, llame la función plot. \n",
    "# En el eje horizontal use la lista ventas, y en el eje vertical use la lista meses\n"
   ]
  },
  {
   "cell_type": "markdown",
   "id": "0ece8390",
   "metadata": {},
   "source": [
    "<details>\n",
    "  <summary><div>→ Haga click aquí para ver la solución</div></summary>\n",
    "  <pre lang=\"python\"><code>\n",
    "plt.plot(ventas, meses)\n",
    "  </code></pre>\n",
    "</details> "
   ]
  },
  {
   "cell_type": "markdown",
   "id": "856c0b2c",
   "metadata": {},
   "source": [
    "[Regresar a la TC](#Tabla-de-Contenidos)"
   ]
  },
  {
   "cell_type": "markdown",
   "id": "25cb62fd",
   "metadata": {},
   "source": [
    "### Etiquetas\n",
    "\n",
    "La función [xticks](https://matplotlib.org/stable/api/_as_gen/matplotlib.pyplot.xticks.html#matplotlib.pyplot.xticks) obtiene o establece las ubicaciones de marca actuales y las etiquetas del eje x.\n",
    "\n",
    "\n",
    "```python\n",
    "plt.xticks( argumentos )\n",
    "```"
   ]
  },
  {
   "cell_type": "code",
   "execution_count": null,
   "id": "3f3e264a",
   "metadata": {},
   "outputs": [],
   "source": [
    "# Usando el alias plt, llame la función plot. En X: meses, y en Y: ventas\n",
    "# Usando el alias plt, llame la función xticks con la variable rotation=45\n",
    "\n"
   ]
  },
  {
   "cell_type": "markdown",
   "id": "9b5e7e53",
   "metadata": {},
   "source": [
    "<details>\n",
    "  <summary><div>→ Haga click aquí para ver la solución</div></summary>\n",
    "  <pre lang=\"python\"><code>\n",
    "plt.plot( meses, ventas )\n",
    "plt.xticks( rotation=45 )\n",
    "  </code></pre>\n",
    "</details> "
   ]
  },
  {
   "cell_type": "markdown",
   "id": "eef074a9",
   "metadata": {},
   "source": [
    "[Regresar a la TC](#Tabla-de-Contenidos)"
   ]
  },
  {
   "cell_type": "markdown",
   "id": "e6a481fd",
   "metadata": {},
   "source": [
    "### Títulos\n",
    "\n",
    "La función [title](https://matplotlib.org/stable/api/_as_gen/matplotlib.pyplot.title.html#matplotlib.pyplot.title) coloca el título del gráfico. Mientras que las funciones [xlabel](https://matplotlib.org/stable/api/_as_gen/matplotlib.pyplot.xlabel.html#matplotlib.pyplot.xlabel) y [ylabel](https://matplotlib.org/stable/api/_as_gen/matplotlib.pyplot.ylabel.html#matplotlib.pyplot.ylabel) colocan los títulos en el eje X y en el eje Y, respectivamente.\n",
    "\n",
    "\n",
    "```python\n",
    "plt.title( tituloGrafico )\n",
    "plt.xlabel( tituloEjeX )\n",
    "plt.ylabel( tituloEjeY )\n",
    "```"
   ]
  },
  {
   "cell_type": "code",
   "execution_count": null,
   "id": "44869598",
   "metadata": {},
   "outputs": [],
   "source": [
    "# Usando el alias plt, \n",
    "#    - llame la función plot. En X: meses, y en Y: ventas\n",
    "#    - llame la función xticks con la variable rotation=45\n",
    "#    - llame la función title, con el texto 'Ventas por mes'\n",
    "#    - llame la función xlabel, con el texto 'Meses'\n",
    "#    - llame la función ylabel, con el texto 'Ventas [$ - dólares]'\n",
    "\n"
   ]
  },
  {
   "cell_type": "markdown",
   "id": "b57fa7b6",
   "metadata": {},
   "source": [
    "<details>\n",
    "  <summary><div>→ Haga click aquí para ver la solución</div></summary>\n",
    "  <pre lang=\"python\"><code>\n",
    "plt.plot( meses, ventas )\n",
    "plt.xticks( rotation=45 )\n",
    "plt.title( 'Ventas por mes' )\n",
    "plt.xlabel( 'Meses' )\n",
    "plt.ylabel( 'Ventas [$ - dólares]' )\n",
    "  </code></pre>\n",
    "</details> "
   ]
  },
  {
   "cell_type": "markdown",
   "id": "9e099f9d",
   "metadata": {},
   "source": [
    "[Regresar a la TC](#Tabla-de-Contenidos)"
   ]
  },
  {
   "cell_type": "markdown",
   "id": "9cb0efed",
   "metadata": {},
   "source": [
    "### Gráfico de barras\n",
    "\n",
    "La función [bar](https://matplotlib.org/stable/api/_as_gen/matplotlib.pyplot.bar.html#matplotlib.pyplot.bar) sirve para ubicar barras en el eje x. La línea de base vertical es la inferior (por defecto 0).\n",
    "\n",
    "\n",
    "```python\n",
    "plt.bar( datos_eje_horizontal , datos_eje_vertical )\n",
    "```"
   ]
  },
  {
   "cell_type": "code",
   "execution_count": null,
   "id": "1c50036c",
   "metadata": {},
   "outputs": [],
   "source": [
    "# Usando el alias plt, \n",
    "#    - llame la función bar. En X: meses, y en Y: ventas. \n",
    "#    - llame la función xticks con la variable rotation=45\n",
    "#    - llame la función title, con el texto 'Ventas por mes'\n",
    "#    - llame la función xlabel, con el texto 'Meses'\n",
    "#    - llame la función ylabel, con el texto 'Ventas [$ - dólares]'\n",
    "\n",
    "\n"
   ]
  },
  {
   "cell_type": "markdown",
   "id": "9bb435c8",
   "metadata": {},
   "source": [
    "<details>\n",
    "  <summary><div>→ Haga click aquí para ver la solución</div></summary>\n",
    "  <pre lang=\"python\"><code>\n",
    "plt.bar( meses, ventas )\n",
    "plt.xticks( rotation=45 )\n",
    "plt.title( 'Ventas por mes' )\n",
    "plt.xlabel( 'Meses' )\n",
    "plt.ylabel( 'Ventas [$ - dólares]' )\n",
    "  </code></pre>\n",
    "</details> "
   ]
  },
  {
   "cell_type": "markdown",
   "id": "26d0ba61",
   "metadata": {},
   "source": [
    "La función [axhline](https://matplotlib.org/stable/api/_as_gen/matplotlib.pyplot.axhline.html#matplotlib-pyplot-axhline) sirve para ubicar una línea horizontal paralela al eje X.\n",
    "\n",
    "Otras características:\n",
    "- nombre_color como [color](https://matplotlib.org/stable/users/explain/colors/colors.html#colors-def)\n",
    "- nombre_estilo como [linestyle](https://matplotlib.org/stable/api/_as_gen/matplotlib.lines.Line2D.html#matplotlib.lines.Line2D.set_linestyle)\n",
    "\n",
    "```python\n",
    "plt.axhline(y = valor, color = nombre_color, linestyle = nombre_estilo) \n",
    "```"
   ]
  },
  {
   "cell_type": "code",
   "execution_count": null,
   "id": "a7471028",
   "metadata": {},
   "outputs": [],
   "source": [
    "# Asigne a la variable promedio el promedio de ventas del año\n",
    "\n",
    "# Usando el alias plt, \n",
    "#    - llame la función bar. En X: meses, y en Y: ventas. \n",
    "#    - llame la función xticks con la variable rotation=45\n",
    "#    - llame la función title, con el texto 'Ventas por mes'\n",
    "#    - llame la función xlabel, con el texto 'Meses'\n",
    "#    - llame la función ylabel, con el texto 'Ventas [$ - dólares]'\n",
    "#    - llame a la función axhline, con las variable y=promedio, color='red' y linestyle='dotted'\n",
    "\n",
    "\n"
   ]
  },
  {
   "cell_type": "markdown",
   "id": "4dd9a97c",
   "metadata": {},
   "source": [
    "<details>\n",
    "  <summary><div>→ Haga click aquí para ver la solución</div></summary>\n",
    "  <pre lang=\"python\"><code>\n",
    "plt.bar( meses, ventas )\n",
    "plt.xticks( rotation=45 )\n",
    "plt.title( 'Ventas por mes' )\n",
    "plt.xlabel( 'Meses' )\n",
    "plt.ylabel( 'Ventas [$ - dólares]' )\n",
    "promedio = sum(ventas) / len(ventas)\n",
    "plt.axhline(y = promedio, color = 'red', linestyle = 'dotted') \n",
    "  </code></pre>\n",
    "</details> "
   ]
  },
  {
   "cell_type": "markdown",
   "id": "207722a4",
   "metadata": {},
   "source": [
    "[Regresar a la TC](#Tabla-de-Contenidos)"
   ]
  },
  {
   "cell_type": "markdown",
   "id": "60ce361b",
   "metadata": {},
   "source": [
    "## Ejercicios\n",
    "\n",
    "**Ejercicio 01: Reporte de ventas**\n",
    "\n",
    "**Temas:** Variables, Tipos de datos, Salida por pantalla, Búsqueda de valores, Graficación\n",
    "\n",
    "Considere las listas _nombres_libros_, _genero_literario_ y _ventas_ del mes pasado. \n",
    "\n",
    "nombres_libros = ['El señor de los anillos', 'Cien años de soledad', 'Harry Potter', '1984', 'Orgullo y prejuicio', 'Crimen y castigo', 'El gran Gatsby', 'Matar un ruiseñor', 'La Odisea', 'Don Quijote de la Mancha']\n",
    "genero_literario = ['Fantasía', 'Realismo mágico', 'Fantasía', 'Distopía', 'Novela romántica', 'Novela psicológica', 'Ficción moderna', 'Novela clásica', 'Epopeya', 'Novela clásica']\n",
    "ventas = [150, 120, 200, 90, 80, 110, 95, 130, 75, 160]\n",
    "\n",
    "Haga un programa con el **reporte de ventas** de una librería con el que muestre:\n",
    "\n",
    "1. El nombre y el género del libro más vendido\n",
    "2. El nombre y el género del libro menos vendido\n",
    "3. El nombre del género más vendido.\n",
    "4. Muestre las ventas en un gráfico de barras."
   ]
  },
  {
   "cell_type": "markdown",
   "id": "31632965",
   "metadata": {},
   "source": []
  },
  {
   "cell_type": "markdown",
   "id": "980c4d72",
   "metadata": {},
   "source": [
    "[Regresar a la TC](#Tabla-de-Contenidos)"
   ]
  }
 ],
 "metadata": {
  "kernelspec": {
   "display_name": "Python 3 (ipykernel)",
   "language": "python",
   "name": "python3"
  },
  "language_info": {
   "codemirror_mode": {
    "name": "ipython",
    "version": 3
   },
   "file_extension": ".py",
   "mimetype": "text/x-python",
   "name": "python",
   "nbconvert_exporter": "python",
   "pygments_lexer": "ipython3",
   "version": "3.11.5"
  }
 },
 "nbformat": 4,
 "nbformat_minor": 5
}
