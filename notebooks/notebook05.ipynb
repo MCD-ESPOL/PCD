{
 "cells": [
  {
   "cell_type": "markdown",
   "id": "5d55290d",
   "metadata": {},
   "source": [
    "## Matplotlib\n",
    "\n",
    "[Matplotlib](https://matplotlib.org/) es una biblioteca completa para crear visualizaciones estáticas, animadas e interactivas en Python. En la [documentación](https://matplotlib.org/stable/users/index) puede encontrar información de cómo crear gráficos sencillos, modificar el estilo de los gráficos, en otras cosas características.\n",
    "\n",
    "\n",
    "\n",
    "<br><br>\n",
    "<div align=\"center\">\n",
    "    <img src=\"https://github.com/MCD-ESPOL/PCD/blob/main/notebooks/images/python_mlib0.png?raw=true\" width=\"60%\">\n",
    "</div>"
   ]
  },
  {
   "cell_type": "markdown",
   "id": "625f8a88",
   "metadata": {},
   "source": [
    "### Instalación\n",
    "\n",
    "En Anaconda, en la sección _Environments_, revise e instale (de ser necesario) la librería **matplotlib**.\n",
    "\n",
    "<br><br>\n",
    "<div align=\"center\">\n",
    "    <img src=\"https://github.com/MCD-ESPOL/PCD/blob/main/notebooks/images/python_mlib1.png?raw=true\" width=\"90%\">\n",
    "</div>"
   ]
  },
  {
   "cell_type": "markdown",
   "id": "7907e5ea",
   "metadata": {},
   "source": [
    "### Importar librerías externas\n",
    "\n",
    "Luego de instalar las librerías externas en Python, cada programa puede **importar** la librería, con:\n",
    "\n",
    "```python\n",
    "import NOMBRE_DE_LA_LIBRERIA\n",
    "```\n",
    "\n",
    "**NOTA:** SOLO importe la librería una vez y al INICIO de su programa"
   ]
  },
  {
   "cell_type": "code",
   "execution_count": null,
   "id": "8df5115c",
   "metadata": {},
   "outputs": [],
   "source": [
    "# Importe la libreria matplotlib, con: import matplotlib"
   ]
  },
  {
   "cell_type": "markdown",
   "id": "7971d001",
   "metadata": {},
   "source": [
    "### Datos\n",
    "\n",
    "Para comenzar a trabajar con _matplotlib_ son necesarias dos listas _paralelas_: **datos para el eje X** y **datos para el eje Y**. En este caso, utilizaremos las listas **meses** (eje X) y **ventas** (eje Y).\n",
    "\n",
    "```python\n",
    "meses = [\"Enero\", \"Febrero\", \"Marzo\", \"Abril\", \"Mayo\", \"Junio\", \"Julio\", \"Agosto\", \"Septiembre\", \"Octubre\", \"Noviembre\", \"Diciembre\"]\n",
    "ventas = [3.73, 9.46, 6.01, 5.74, 4.51, 7.6, 6.04, 2.59, 6.88, 7.96, 4.75, 7.96]\n",
    "```"
   ]
  },
  {
   "cell_type": "code",
   "execution_count": null,
   "id": "c2f34883",
   "metadata": {},
   "outputs": [],
   "source": [
    "meses = [\"Enero\", \"Febrero\", \"Marzo\", \"Abril\", \"Mayo\", \"Junio\", \"Julio\", \"Agosto\", \"Septiembre\", \"Octubre\", \"Noviembre\", \"Diciembre\"]\n",
    "ventas = [3.73, 9.46, 6.01, 5.74, 4.51, 7.6, 6.04, 2.59, 6.88, 7.96, 4.75, 7.96]"
   ]
  },
  {
   "cell_type": "markdown",
   "id": "4c704756",
   "metadata": {},
   "source": [
    "### Plot (básico)\n",
    "\n",
    "La función [matplotlib.pyplot.plot](https://matplotlib.org/stable/api/_as_gen/matplotlib.pyplot.plot.html#matplotlib.pyplot.plot) sirve para graficar las coordenadas de los puntos o nodos de línea están dadas por **datos_x** y **datos_y**. \n",
    "\n",
    "```python\n",
    "matplotlib.pyplot.plot( datos_x, datos_y )\n",
    "```"
   ]
  },
  {
   "cell_type": "code",
   "execution_count": null,
   "id": "4965ce1a",
   "metadata": {},
   "outputs": [],
   "source": [
    "# Llame la función plot para las listas meses y ventas "
   ]
  },
  {
   "cell_type": "markdown",
   "id": "25cb62fd",
   "metadata": {},
   "source": [
    "### Etiquetas\n",
    "\n",
    "La función [matplotlib.pyplot.xticks](https://matplotlib.org/stable/api/_as_gen/matplotlib.pyplot.xticks.html#matplotlib.pyplot.xticks) obtiene o establece las ubicaciones de marca actuales y las etiquetas del eje x.\n",
    "\n",
    "\n",
    "```python\n",
    "matplotlib.pyplot.xticks( argumentos )\n",
    "```"
   ]
  },
  {
   "cell_type": "code",
   "execution_count": null,
   "id": "3f3e264a",
   "metadata": {},
   "outputs": [],
   "source": [
    "# Llame la función plot para las listas meses y ventas \n",
    "# Llame la función xticks con la variable rotation=45"
   ]
  },
  {
   "cell_type": "markdown",
   "id": "e6a481fd",
   "metadata": {},
   "source": [
    "### Títulos\n",
    "\n",
    "La función [matplotlib.pyplot.title](https://matplotlib.org/stable/api/_as_gen/matplotlib.pyplot.title.html#matplotlib.pyplot.title) coloca el título del gráfico. Mientras que las funciones [matplotlib.pyplot.xlabel](https://matplotlib.org/stable/api/_as_gen/matplotlib.pyplot.xlabel.html#matplotlib.pyplot.xlabel) y [matplotlib.pyplot.ylabel](https://matplotlib.org/stable/api/_as_gen/matplotlib.pyplot.ylabel.html#matplotlib.pyplot.ylabel) colocan los títulos en el eje X y en el eje Y, respectivamente.\n",
    "\n",
    "\n",
    "```python\n",
    "matplotlib.pyplot.title( tituloGrafico )\n",
    "matplotlib.pyplot.xlabel( tituloEjeX )\n",
    "matplotlib.pyplot.ylabel( tituloEjeY )\n",
    "```"
   ]
  },
  {
   "cell_type": "code",
   "execution_count": null,
   "id": "44869598",
   "metadata": {},
   "outputs": [],
   "source": [
    "# Llame la función plot para las listas meses y ventas \n",
    "# Llame la función xticks con la variable rotation=45\n",
    "# Llame la función title con el texto 'Ventas por mes'\n",
    "# Llame la función xlabel con el texto 'Meses'\n",
    "# Llame la función ylabel con el texto 'Ventas [$ - dólares]'"
   ]
  },
  {
   "cell_type": "markdown",
   "id": "9cb0efed",
   "metadata": {},
   "source": [
    "### Gráfico de barras\n",
    "\n",
    "La función [matplotlib.pyplot.bar](https://matplotlib.org/stable/api/_as_gen/matplotlib.pyplot.bar.html#matplotlib.pyplot.bar) sirve para ubicar barras en el eje x. La línea de base vertical es la inferior (por defecto 0).\n",
    "\n",
    "\n",
    "```python\n",
    "matplotlib.pyplot.bar( datos_x, datos_y )\n",
    "```"
   ]
  },
  {
   "cell_type": "code",
   "execution_count": null,
   "id": "1c50036c",
   "metadata": {},
   "outputs": [],
   "source": [
    "# Llame la función bar para las listas meses y ventas \n",
    "# Llame la función xticks con la variable rotation=45\n",
    "# Llame la función title con el texto 'Ventas por mes'\n",
    "# Llame la función xlabel con el texto 'Meses'\n",
    "# Llame la función ylabel con el texto 'Ventas [$ - dólares]'"
   ]
  },
  {
   "cell_type": "markdown",
   "id": "60ce361b",
   "metadata": {},
   "source": [
    "## Ejercicios"
   ]
  },
  {
   "cell_type": "markdown",
   "id": "31632965",
   "metadata": {},
   "source": [
    "* Haga un programa con el **reporte de ventas** de una librería. En las listas _nombres_libros_, _genero_literario_ y _ventas_ del mes pasado. Muestre:\n",
    "\n",
    "1. El nombre y el género del libro más vendido\n",
    "2. El nombre y el género del libro menos vendido\n",
    "3. El nombre del género más vendido.\n",
    "\n",
    "Además, muestre las ventas en un gráfico de barras."
   ]
  },
  {
   "cell_type": "code",
   "execution_count": 3,
   "id": "87472bf2",
   "metadata": {},
   "outputs": [
    {
     "data": {
      "text/plain": [
       "10"
      ]
     },
     "execution_count": 3,
     "metadata": {},
     "output_type": "execute_result"
    }
   ],
   "source": [
    "nombres_libros = ['El señor de los anillos', 'Cien años de soledad', 'Harry Potter', '1984', 'Orgullo y prejuicio', 'Crimen y castigo', 'El gran Gatsby', 'Matar un ruiseñor', 'La Odisea', 'Don Quijote de la Mancha']\n",
    "genero_literario = ['Fantasía', 'Realismo mágico', 'Fantasía', 'Distopía', 'Novela romántica', 'Novela psicológica', 'Ficción moderna', 'Novela clásica', 'Epopeya', 'Novela clásica']\n",
    "ventas = [150, 120, 200, 90, 80, 110, 95, 130, 75, 160]\n",
    "\n"
   ]
  }
 ],
 "metadata": {
  "kernelspec": {
   "display_name": "Python 3 (ipykernel)",
   "language": "python",
   "name": "python3"
  },
  "language_info": {
   "codemirror_mode": {
    "name": "ipython",
    "version": 3
   },
   "file_extension": ".py",
   "mimetype": "text/x-python",
   "name": "python",
   "nbconvert_exporter": "python",
   "pygments_lexer": "ipython3",
   "version": "3.11.5"
  }
 },
 "nbformat": 4,
 "nbformat_minor": 5
}
