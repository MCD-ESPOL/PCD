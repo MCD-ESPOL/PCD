{
 "cells": [
  {
   "cell_type": "markdown",
   "id": "9a29ea18-3ff3-48aa-927d-e68b7de925e4",
   "metadata": {},
   "source": [
    "## Booleanos\n",
    "\n",
    "Python utiliza `True` y `False` para representar el valor de expresiones con significado lógico, p.e.:\n",
    "\n",
    "\n",
    "\n",
    "<div align=\"center\">\n",
    "    <img src=\"images/python_boolean_values.png\" width=\"15%\"/>\n",
    "</div>\n",
    "\n"
   ]
  },
  {
   "cell_type": "code",
   "execution_count": null,
   "id": "b21c4a6b",
   "metadata": {},
   "outputs": [],
   "source": [
    "# Asigne el resultado de la comparacion 25 >= 63 a la variable comparacion1. Muestre el resultado por pantalla.\n"
   ]
  },
  {
   "cell_type": "code",
   "execution_count": null,
   "id": "2126a840",
   "metadata": {},
   "outputs": [],
   "source": [
    "# Asigne el resultado de la comparacion 25 < 63 a la variable comparacion2. Muestre el resultado por pantalla.\n"
   ]
  },
  {
   "cell_type": "code",
   "execution_count": null,
   "id": "095ccae2",
   "metadata": {},
   "outputs": [],
   "source": [
    "# Asigne el resultado de la comparacion 25 == 25.0 a la variable comparacion3. Muestre el resultado por pantalla.\n"
   ]
  },
  {
   "cell_type": "code",
   "execution_count": null,
   "id": "13f28ca9",
   "metadata": {},
   "outputs": [],
   "source": [
    "# Asigne el resultado de la comparacion 45 != 12.0 a la variable comparacion4. Muestre el resultado por pantalla.\n"
   ]
  },
  {
   "cell_type": "markdown",
   "id": "7583043d",
   "metadata": {},
   "source": [
    "## Operadores relacionales\n",
    "\n",
    "Se usan para para **comparar** variables (o valores). El resultado de una comparación es un valor de verdad (booleano) `True` o `False`. En la siguiente tabla se listan todos los operadores relacionales con su equivalente matemático, un ejemplo y el resultado de la operacion.\n",
    "\n",
    "\n",
    "| Matemáticas | Python | Significado | Ejemplo | Resultado |\n",
    "| :---------- | :----- | :---------: | :------ | :-------- |\n",
    "|= | == | Igual a | <pre><code>pais1 = 'Ecuador' <br>pais2 = 'ecuador'<br><br>print( pais1 == pais2 )</code></pre> | False |\n",
    "|≠ |!= |Distinto a| <pre><code>pais1 = 'Ecuador' <br>pais2 = 'ecuador'<br><br>print( pais1 != pais2 )</code></pre> | True |\n",
    "|< |< |Menor que | <pre><code>edad1 = 32  <br>edad2 = 25 <br><br>print( edad1 &lt; edad2)</code></pre> | False |\n",
    "|> |> |Mayor que | <pre><code>edad1 = 32  <br>edad2 = 25 <br><br>print( edad1 &gt; edad2)</code></pre> | True |\n",
    "|≤ |<=| Menor o igual que | <pre><code>edad1 = 24  <br>edad2 = 42 <br><br>print( edad1 &lt;= edad2)</code></pre> | True |\n",
    "|≥ |>=| Mayor o igual que | <pre><code>edad1 = 34  <br>edad2 = 34 <br><br>print( edad1 &gt;= edad2)</code></pre> | True |"
   ]
  },
  {
   "cell_type": "code",
   "execution_count": null,
   "id": "7f201f30",
   "metadata": {},
   "outputs": [],
   "source": [
    "# Ingrese un valor entero a la variable edad\n",
    "\n",
    "edad = "
   ]
  },
  {
   "cell_type": "code",
   "execution_count": null,
   "id": "e9dcd4a3",
   "metadata": {},
   "outputs": [],
   "source": [
    "# Asigne a la variable mayorDeEdad el resultado de la comparacion edad >= 18. \n",
    "# Muestre el resultado de la variable mayorDeEdad.\n",
    "\n",
    "mayorDeEdad = "
   ]
  },
  {
   "cell_type": "markdown",
   "id": "08ee595d",
   "metadata": {},
   "source": [
    "## Operadores lógicos\n",
    "\n",
    "Python tiene los operadores lógicos `and`, `or` y `not` \n",
    "\n",
    "\n"
   ]
  },
  {
   "cell_type": "markdown",
   "id": "1a18dcef",
   "metadata": {},
   "source": [
    "Estos operadores lógicos se utilizan manejar expresiones lógicas complejas, como:\n",
    "\n",
    "<div align=\"center\">\n",
    "Para aplicar a un préstamo hipotecario son necesarias 36 aportaciones y dentro del límite de edad (77 años)\n",
    "</div>\n",
    "    \n",
    "A partir de expresiones lógicas sencillas, como:\n",
    "\n",
    "`Para aplicar a un préstamo hipotecario son necesarias`\n",
    "\n",
    "* `36 aportaciones` **y**\n",
    "* `dentro del límite de edad (77 años)` "
   ]
  },
  {
   "cell_type": "code",
   "execution_count": null,
   "id": "9f03f95b",
   "metadata": {},
   "outputs": [],
   "source": [
    "# Ingrese un valor entero a la variable edad\n",
    "\n",
    "edad = "
   ]
  },
  {
   "cell_type": "code",
   "execution_count": null,
   "id": "89142655",
   "metadata": {},
   "outputs": [],
   "source": [
    "# Ingrese un valor entero a la variable numeroAportaciones\n",
    "\n",
    "numeroAportaciones = "
   ]
  },
  {
   "cell_type": "markdown",
   "id": "31623e0f",
   "metadata": {},
   "source": [
    "Para el código\n",
    "\n",
    "Los operadores lógicos son:\n",
    "\n",
    "| variable1 | variable2 | Operador | Ejemplo | Resultado |\n",
    "| :-------- | :-------- | :------- | :------ | :-------- |\n",
    "| "
   ]
  },
  {
   "cell_type": "code",
   "execution_count": null,
   "id": "c81c545d",
   "metadata": {},
   "outputs": [],
   "source": [
    "# Asigne a la variable aprobacionPrestamo el resultado de la comparacion edad <= 77 and numeroAportaciones >= 36. \n",
    "# Muestre el resultado de la variable aprobacionPrestamo.\n",
    "\n",
    "aprobacionPrestamo = "
   ]
  },
  {
   "cell_type": "markdown",
   "id": "cde89bb4",
   "metadata": {},
   "source": [
    "## Estructuras de control: condicional"
   ]
  },
  {
   "cell_type": "code",
   "execution_count": null,
   "id": "4eee0472",
   "metadata": {},
   "outputs": [],
   "source": []
  },
  {
   "cell_type": "markdown",
   "id": "30945d6a",
   "metadata": {},
   "source": [
    "## Ejercicios"
   ]
  },
  {
   "cell_type": "code",
   "execution_count": null,
   "id": "0a021873",
   "metadata": {},
   "outputs": [],
   "source": []
  }
 ],
 "metadata": {
  "kernelspec": {
   "display_name": "Python 3 (ipykernel)",
   "language": "python",
   "name": "python3"
  },
  "language_info": {
   "codemirror_mode": {
    "name": "ipython",
    "version": 3
   },
   "file_extension": ".py",
   "mimetype": "text/x-python",
   "name": "python",
   "nbconvert_exporter": "python",
   "pygments_lexer": "ipython3",
   "version": "3.11.5"
  }
 },
 "nbformat": 4,
 "nbformat_minor": 5
}
