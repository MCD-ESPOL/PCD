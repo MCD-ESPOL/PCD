{
 "cells": [
  {
   "cell_type": "markdown",
   "id": "9a29ea18-3ff3-48aa-927d-e68b7de925e4",
   "metadata": {},
   "source": [
    "## Booleanos\n",
    "\n",
    "Python utiliza `True` y `False` para representar el valor de expresiones con significado lógico, p.e.:\n",
    "\n",
    "\n",
    "\n",
    "<div align=\"center\">\n",
    "    <img src=\"images/python_boolean_values.png\" width=\"15%\"/>\n",
    "</div>\n",
    "\n"
   ]
  },
  {
   "cell_type": "code",
   "execution_count": null,
   "id": "faa6c215",
   "metadata": {},
   "outputs": [],
   "source": [
    "# Asigne el resultado de la comparacion 25 >= 63 a la variable comparacion1. Muestre el resultado por pantalla.\n"
   ]
  },
  {
   "cell_type": "code",
   "execution_count": null,
   "id": "41c85fea",
   "metadata": {},
   "outputs": [],
   "source": [
    "# Asigne el resultado de la comparacion 25 < 63 a la variable comparacion2. Muestre el resultado por pantalla.\n"
   ]
  },
  {
   "cell_type": "code",
   "execution_count": null,
   "id": "59f317b8",
   "metadata": {},
   "outputs": [],
   "source": [
    "# Asigne el resultado de la comparacion 25 == 25.0 a la variable comparacion3. Muestre el resultado por pantalla.\n"
   ]
  },
  {
   "cell_type": "code",
   "execution_count": null,
   "id": "20e069cd",
   "metadata": {},
   "outputs": [],
   "source": [
    "# Asigne el resultado de la comparacion 45 != 12.0 a la variable comparacion4. Muestre el resultado por pantalla.\n"
   ]
  },
  {
   "cell_type": "markdown",
   "id": "232d0c92",
   "metadata": {},
   "source": [
    "## Operadores relacionales\n",
    "\n",
    "Se usan para para **comparar** variables (o valores). El resultado de una comparación es un valor de verdad (booleano) `True` o `False`. En la siguiente tabla se listan todos los operadores relacionales con su equivalente matemático, un ejemplo y el resultado de la operacion.\n",
    "\n",
    "\n",
    "| Matemáticas | Python | Significado | Ejemplo | Resultado |\n",
    "| :---------- | :----- | :---------: | :------ | :-------- |\n",
    "|= | == | Igual a | <pre><code>pais1 = 'Ecuador' <br>pais2 = 'ecuador'<br><br>print( pais1 == pais2 )</code></pre> | False |\n",
    "|≠ |!= |Distinto a| <pre><code>pais1 = 'Ecuador' <br>pais2 = 'ecuador'<br><br>print( pais1 != pais2 )</code></pre> | True |\n",
    "|< |< |Menor que | <pre><code>edad1 = 32  <br>edad2 = 25 <br><br>print( edad1 &lt; edad2)</code></pre> | False |\n",
    "|> |> |Mayor que | <pre><code>edad1 = 32  <br>edad2 = 25 <br><br>print( edad1 &gt; edad2)</code></pre> | True |\n",
    "|≤ |<=| Menor o igual que | <pre><code>edad1 = 24  <br>edad2 = 42 <br><br>print( edad1 &lt;= edad2)</code></pre> | True |\n",
    "|≥ |>=| Mayor o igual que | <pre><code>edad1 = 34  <br>edad2 = 34 <br><br>print( edad1 &gt;= edad2)</code></pre> | True |"
   ]
  },
  {
   "cell_type": "code",
   "execution_count": null,
   "id": "76a31eb2",
   "metadata": {},
   "outputs": [],
   "source": [
    "# Ingrese un valor entero a la variable edad\n",
    "\n",
    "edad = "
   ]
  },
  {
   "cell_type": "code",
   "execution_count": null,
   "id": "67c6e8e1",
   "metadata": {},
   "outputs": [],
   "source": [
    "# Asigne a la variable mayorDeEdad el resultado de la comparacion edad >= 18. \n",
    "# Muestre el resultado de la variable mayorDeEdad.\n",
    "\n",
    "mayorDeEdad = "
   ]
  },
  {
   "cell_type": "markdown",
   "id": "e0e216ad",
   "metadata": {},
   "source": [
    "## Operadores lógicos\n",
    "\n",
    "Para generar expresiones lógica complejas, Python utiliza los operadores lógicos `and`, `or` y `not`."
   ]
  },
  {
   "cell_type": "markdown",
   "id": "a9ff778d",
   "metadata": {},
   "source": [
    "## Estructuras de control: condicional"
   ]
  },
  {
   "cell_type": "markdown",
   "id": "217d7cd1-0a7c-495a-8209-a83b5473fa31",
   "metadata": {},
   "source": [
    "## Listas"
   ]
  },
  {
   "cell_type": "markdown",
   "id": "e7428c96",
   "metadata": {},
   "source": [
    "## Estructuras de control: repetitivo "
   ]
  }
 ],
 "metadata": {
  "kernelspec": {
   "display_name": "Python 3 (ipykernel)",
   "language": "python",
   "name": "python3"
  },
  "language_info": {
   "codemirror_mode": {
    "name": "ipython",
    "version": 3
   },
   "file_extension": ".py",
   "mimetype": "text/x-python",
   "name": "python",
   "nbconvert_exporter": "python",
   "pygments_lexer": "ipython3",
   "version": "3.11.5"
  }
 },
 "nbformat": 4,
 "nbformat_minor": 5
}
