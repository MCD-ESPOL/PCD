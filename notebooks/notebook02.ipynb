{
 "cells": [
  {
   "cell_type": "markdown",
   "id": "f70ef544-95c7-4d2b-8c0b-b8d7d51accf0",
   "metadata": {},
   "source": [
    "## Salida por pantalla\n",
    "\n",
    "Para mostrar un mensaje por pantalla, se utiliza la instrucción **print**. Entre los paréntesis **(** **)** se coloca el contenido a mostrar, por ejemplo:\n",
    "\n",
    "```python\n",
    "\n",
    "print(\"Este es un mensaje de salida\")\n",
    "\n",
    "print( (2 + 4) * 3 )\n",
    "```"
   ]
  },
  {
   "cell_type": "code",
   "execution_count": null,
   "id": "ef11afc9-6cd0-4a78-8a7b-496b6cdbca6b",
   "metadata": {},
   "outputs": [],
   "source": [
    "# Escriba aquí la instrucción print y muestre como mensaje su nombre completo \n",
    "\n"
   ]
  },
  {
   "cell_type": "code",
   "execution_count": null,
   "id": "deb24873-1deb-4189-8022-071cad072a7e",
   "metadata": {},
   "outputs": [],
   "source": [
    "# Escriba aquí la instrucción print y muestre la operación (4 - 8) / 2\n",
    "\n"
   ]
  },
  {
   "cell_type": "markdown",
   "id": "25c12a88-17c9-4075-bdaf-03ff7a62c726",
   "metadata": {},
   "source": [
    "## Variables\n",
    "\n",
    "Una **variable** es un contenedor para almacenar datos. Una variable se crea cuando se **asigna** un valor.\n",
    "\n",
    "\n",
    "<div align=\"center\">\n",
    "    <img src=\"https://yosoy.dev/wp-content/uploads/2014/08/variables-en-programacion.png\" width=\"40%\"/>\n",
    "    Fuente: <a href=\"https://yosoy.dev/que-es-una-variable-y-como-se-declaran-en-c/\">¿Que es una variable?</a>\n",
    "</div>\n",
    "\n",
    "```python\n",
    "nombre = \"María\"\n",
    "edad = 32\n",
    "\n",
    "print( nombre )\n",
    "print( edad )\n",
    "```"
   ]
  },
  {
   "cell_type": "code",
   "execution_count": null,
   "id": "357a4a49",
   "metadata": {},
   "outputs": [],
   "source": [
    "# Cree y asigne las variables nombre y edad. \n",
    "# Asigne a cada variable sus datos. \n",
    "# Finalmente, muestre por pantalla el contenido de dichas variables. \n",
    "\n"
   ]
  },
  {
   "cell_type": "markdown",
   "id": "5e720515",
   "metadata": {},
   "source": [
    "## Identificadores\n",
    "\n",
    "Los identificadores son los nombres de las variables para reconocer su contenido. Algunas reglas para crear el identificador de una variables:\n",
    "\n",
    "* Debe comenzar con una letra o un carácter de subrayado.\n",
    "* No puede comenzar con un número\n",
    "* Solo puede contener caracteres alfanuméricos y guiones bajos (A-z, 0-9 y _).\n",
    "* Distinguen entre mayúsculas y minúsculas (edad, Edad y EDAD son tres variables diferentes)\n",
    "* No puede ser ninguna de las palabras clave de Python, por ejemplo no se puede utilizar la palabra: `print`"
   ]
  },
  {
   "cell_type": "code",
   "execution_count": null,
   "id": "7325e102",
   "metadata": {},
   "outputs": [],
   "source": [
    "# Cree una variable a la que asigne el valor correspondiente. Muestre el contenido de la variable.\n",
    "\n"
   ]
  },
  {
   "cell_type": "code",
   "execution_count": null,
   "id": "68b3ebbd",
   "metadata": {},
   "outputs": [],
   "source": [
    "a = 5\n",
    "b = 2.6\n",
    "\n",
    "# Cree una variable a la que asigne el resultado de la operación (a - b) * 2.65. Muestre el contenido de la variable.\n",
    "\n"
   ]
  },
  {
   "cell_type": "code",
   "execution_count": null,
   "id": "5bebb1f2",
   "metadata": {},
   "outputs": [],
   "source": [
    "# Cree una variable a la que asigne la dirección de su trabajo. Muestre el contenido de la variable.\n",
    "\n"
   ]
  },
  {
   "cell_type": "markdown",
   "id": "827c6cfa",
   "metadata": {},
   "source": [
    "## Tipos de datos\n",
    "\n",
    "Una variable puede contener un dato de diferentes **tipos de datos**. Cada tipo tiene sus características particulares, como se muestra en la siguiente tabla.\n",
    "\n",
    "\n",
    "| Nombre           | Ejemplo                                                                                                     |\n",
    "|:-----------------|:------------------------------------------------------------------------------------------------------------|\n",
    "| Entero (int)     | <pre><code>edad = 27<br><br>print( \"Mi edad es: \", edad )     </code></pre>                                                             |\n",
    "| Flotante (float) | <pre><code>precio = 34.42<br><br>print( \"El precio a pagar es: \", precio)</code></pre>                                                    |\n",
    "| Booleano (bool)  | <pre><code>resultadoComparacion = 89 > 34<br><br>print( \"El resultado de comparar 89 > 34 es: \", resultadoComparacion)</code></pre>   |\n",
    "| Cadena de caracteres (str)  | <pre><code>nombre = 'María González'<br>direccion = \"Ciudadela Gaviota, Mz 34 V 92\"<br><br>print( nombre + \" vive en \" + direccion)</code></pre>   |\n",
    "| Lista (list)  | <pre><code>valoresAPagar = [ 34.2 , 23.9 , 12.89, 10.34]<br><br>print(\"Los valores a pagar son: \", valoresAPagar) </code></pre>   |"
   ]
  },
  {
   "cell_type": "code",
   "execution_count": null,
   "id": "4922f992",
   "metadata": {},
   "outputs": [],
   "source": [
    "# Asigne el resultado de la comparacion 25 >= 63 a la variable comparacion1\n",
    "\n",
    "comparacion1 = \n",
    "\n",
    "print(\"Resultado de la comparación 25 >= 63: \", comparacion1)"
   ]
  },
  {
   "cell_type": "code",
   "execution_count": null,
   "id": "4cbcc0ff",
   "metadata": {},
   "outputs": [],
   "source": [
    "# Asigne el resultado de la comparacion 25 < 63 a la variable comparacion2\n",
    "\n",
    "comparacion2 = \n",
    "\n",
    "print(\"Resultado de la comparación 25 < 63: \", comparacion2)"
   ]
  },
  {
   "cell_type": "code",
   "execution_count": null,
   "id": "09d1b203",
   "metadata": {},
   "outputs": [],
   "source": [
    "# Complete las variables direccionTrabajo, ciudadTrabajo y paisTrabajo con sus datos. \n",
    "\n",
    "direccionTrabajo = \" \" \n",
    "paisTrabajo = ' '\n",
    "ciudadTrabajo = \" \"\n",
    "\n",
    "print(direccionTrabajo + \" en  la ciudad de \" + ciudadTrabajo + \", \" + paisTrabajo)"
   ]
  },
  {
   "cell_type": "code",
   "execution_count": null,
   "id": "5e7deb51",
   "metadata": {},
   "outputs": [],
   "source": [
    "# Complete la lista invitados con los nombres de 5 personas. Separe cada nombre con una coma.\n",
    "\n",
    "invitados = [  ]\n",
    "\n",
    "\n",
    "print(\"Los nombres los invitados son: \", invitados) "
   ]
  },
  {
   "cell_type": "markdown",
   "id": "02b594d3-a1ce-4e05-8767-35ab3218671c",
   "metadata": {},
   "source": [
    "## Errores"
   ]
  },
  {
   "cell_type": "code",
   "execution_count": null,
   "id": "14be6bcc",
   "metadata": {},
   "outputs": [],
   "source": [
    "593direccion = \"Benalcázar N4-24 y Espejo, Quito, Ecuador\"\n",
    "\n",
    "print(\"Dirección: \" , 593direccion)"
   ]
  },
  {
   "cell_type": "markdown",
   "id": "2fc75dd3-419e-4ad2-a5fa-500a0a95f557",
   "metadata": {},
   "source": [
    "## Operadores matemáticos\n",
    "\n",
    "Los operadores matemáticos se utilizan para realizar operaciones con variables y valores. En la siguiente tabla se encuentran el operador, el nombre y un ejemplo del uso del operador.\n",
    "\n",
    "<div align=\"center\">\n",
    "    <img src=\"images/operadores_matematicos.png\" width=\"60%\"/>\n",
    "\n",
    "</div>"
   ]
  },
  {
   "cell_type": "markdown",
   "id": "cc681321-1cbe-4a46-8aaa-adbf5cdca60c",
   "metadata": {},
   "source": [
    "## Ingresos de datos"
   ]
  }
 ],
 "metadata": {
  "kernelspec": {
   "display_name": "Python 3 (ipykernel)",
   "language": "python",
   "name": "python3"
  },
  "language_info": {
   "codemirror_mode": {
    "name": "ipython",
    "version": 3
   },
   "file_extension": ".py",
   "mimetype": "text/x-python",
   "name": "python",
   "nbconvert_exporter": "python",
   "pygments_lexer": "ipython3",
   "version": "3.11.5"
  }
 },
 "nbformat": 4,
 "nbformat_minor": 5
}
