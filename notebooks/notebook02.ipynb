{
 "cells": [
  {
   "cell_type": "markdown",
   "id": "f70ef544-95c7-4d2b-8c0b-b8d7d51accf0",
   "metadata": {},
   "source": [
    "## Salida por pantalla\n",
    "\n",
    "Para mostrar un mensaje por pantalla, se utiliza la instrucción **print**. Entre los paréntesis **(** **)** se coloca el contenido a mostrar, por ejemplo:\n",
    "\n",
    "```python\n",
    "\n",
    "print(\"Este es un mensaje de salida\")\n",
    "\n",
    "print( (2 + 4) * 3 )\n",
    "```"
   ]
  },
  {
   "cell_type": "code",
   "execution_count": 1,
   "id": "ef11afc9-6cd0-4a78-8a7b-496b6cdbca6b",
   "metadata": {},
   "outputs": [],
   "source": [
    "# Escriba aquí la instrucción print y muestre como mensaje su nombre completo \n",
    "\n"
   ]
  },
  {
   "cell_type": "code",
   "execution_count": 2,
   "id": "deb24873-1deb-4189-8022-071cad072a7e",
   "metadata": {},
   "outputs": [],
   "source": [
    "# Escriba aquí la instrucción print y muestre la operación (4 - 8) / 2\n",
    "\n"
   ]
  },
  {
   "cell_type": "markdown",
   "id": "25c12a88-17c9-4075-bdaf-03ff7a62c726",
   "metadata": {},
   "source": [
    "## Variables\n",
    "\n",
    "Una **variable** es un contenedor para almacenar datos. Una variable se crea cuando se **asigna** un valor.\n",
    "\n",
    "\n",
    "<div align=\"center\">\n",
    "    <img src=\"https://yosoy.dev/wp-content/uploads/2014/08/variables-en-programacion.png\" width=\"40%\"/>\n",
    "    Fuente: <a href=\"https://yosoy.dev/que-es-una-variable-y-como-se-declaran-en-c/\">¿Que es una variable?</a>\n",
    "</div>\n",
    "\n",
    "```python\n",
    "nombre = \"María\"\n",
    "edad = 32\n",
    "\n",
    "print( nombre )\n",
    "print( edad )\n",
    "```"
   ]
  },
  {
   "cell_type": "code",
   "execution_count": 1,
   "id": "3b30f8bf",
   "metadata": {},
   "outputs": [],
   "source": [
    "# Cree y asigne las variables nombre y edad. \n",
    "# Asigne a cada variable sus datos. \n",
    "# Finalmente, muestre por pantalla el contenido de dichas variables. \n",
    "\n"
   ]
  },
  {
   "cell_type": "markdown",
   "id": "80d024cc",
   "metadata": {},
   "source": [
    "## Identificadores\n",
    "\n",
    "Los identificadores son los nombres de las variables para reconocer su contenido. Algunas reglas para crear el identificador de una variables:\n",
    "\n",
    "* Debe comenzar con una letra o un carácter de subrayado.\n",
    "* No puede comenzar con un número\n",
    "* Solo puede contener caracteres alfanuméricos y guiones bajos (A-z, 0-9 y _).\n",
    "* Distinguen entre mayúsculas y minúsculas (edad, Edad y EDAD son tres variables diferentes)\n",
    "* No puede ser ninguna de las palabras clave de Python, por ejemplo no se puede utilizar la palabra: `print`"
   ]
  },
  {
   "cell_type": "code",
   "execution_count": 3,
   "id": "3c5e2721",
   "metadata": {},
   "outputs": [],
   "source": [
    "# Cree una variable a la que asigne el valor correspondiente. Muestre el contenido de la variable.\n",
    "\n"
   ]
  },
  {
   "cell_type": "code",
   "execution_count": 5,
   "id": "277f398f",
   "metadata": {},
   "outputs": [],
   "source": [
    "a = 5\n",
    "b = 2.6\n",
    "\n",
    "# Cree una variable a la que asigne el resultado de la operación (a - b) * 2.65. Muestre el contenido de la variable.\n",
    "\n"
   ]
  },
  {
   "cell_type": "code",
   "execution_count": 6,
   "id": "8bc2fdf0",
   "metadata": {},
   "outputs": [],
   "source": [
    "# Cree una variable a la que asigne la dirección de su trabajo. Muestre el contenido de la variable.\n",
    "\n"
   ]
  },
  {
   "cell_type": "markdown",
   "id": "02b594d3-a1ce-4e05-8767-35ab3218671c",
   "metadata": {},
   "source": [
    "## Errores"
   ]
  },
  {
   "cell_type": "markdown",
   "id": "2fc75dd3-419e-4ad2-a5fa-500a0a95f557",
   "metadata": {},
   "source": [
    "## Operadores matemáticos"
   ]
  },
  {
   "cell_type": "markdown",
   "id": "cc681321-1cbe-4a46-8aaa-adbf5cdca60c",
   "metadata": {},
   "source": [
    "## Ingresos de datos"
   ]
  }
 ],
 "metadata": {
  "kernelspec": {
   "display_name": "Python 3 (ipykernel)",
   "language": "python",
   "name": "python3"
  },
  "language_info": {
   "codemirror_mode": {
    "name": "ipython",
    "version": 3
   },
   "file_extension": ".py",
   "mimetype": "text/x-python",
   "name": "python",
   "nbconvert_exporter": "python",
   "pygments_lexer": "ipython3",
   "version": "3.11.5"
  }
 },
 "nbformat": 4,
 "nbformat_minor": 5
}
