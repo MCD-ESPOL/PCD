{
 "cells": [
  {
   "cell_type": "markdown",
   "id": "f70ef544-95c7-4d2b-8c0b-b8d7d51accf0",
   "metadata": {},
   "source": [
    "## Salida por pantalla\n",
    "\n",
    "Para mostrar un mensaje por pantalla, se utiliza la instrucción **print**. Entre los paréntesis **(** **)** se coloca el contenido a mostrar, por ejemplo:\n",
    "\n",
    "```python\n",
    "\n",
    "print(\"Este es un mensaje de salida\")\n",
    "\n",
    "print( (2 + 4) * 3 )\n",
    "```"
   ]
  },
  {
   "cell_type": "code",
   "execution_count": null,
   "id": "ef11afc9-6cd0-4a78-8a7b-496b6cdbca6b",
   "metadata": {},
   "outputs": [],
   "source": [
    "# Escriba aquí la instrucción print y muestre como mensaje su nombre completo \n",
    "\n"
   ]
  },
  {
   "cell_type": "code",
   "execution_count": null,
   "id": "deb24873-1deb-4189-8022-071cad072a7e",
   "metadata": {},
   "outputs": [],
   "source": [
    "# Escriba aquí la instrucción print y muestre la operación (4 - 8) / 2\n",
    "\n"
   ]
  },
  {
   "cell_type": "markdown",
   "id": "25c12a88-17c9-4075-bdaf-03ff7a62c726",
   "metadata": {},
   "source": [
    "## Variables\n",
    "\n",
    "Una **variable** es un contenedor para almacenar datos. Una variable se crea cuando se **asigna** un valor.\n",
    "\n",
    "\n",
    "<div align=\"center\">\n",
    "    <img src=\"https://yosoy.dev/wp-content/uploads/2014/08/variables-en-programacion.png\" width=\"40%\"/>\n",
    "    Fuente: <a href=\"https://yosoy.dev/que-es-una-variable-y-como-se-declaran-en-c/\">¿Que es una variable?</a>\n",
    "</div>\n",
    "\n",
    "```python\n",
    "nombre = \"María\"\n",
    "edad = 32\n",
    "\n",
    "print( nombre )\n",
    "print( edad )\n",
    "```"
   ]
  },
  {
   "cell_type": "code",
   "execution_count": null,
   "id": "d1cf363b",
   "metadata": {},
   "outputs": [],
   "source": [
    "# Cree y asigne las variables nombre y edad. \n",
    "# Asigne a cada variable sus datos. \n",
    "# Finalmente, muestre por pantalla el contenido de dichas variables. \n",
    "\n"
   ]
  },
  {
   "cell_type": "markdown",
   "id": "d3ec98ca",
   "metadata": {},
   "source": [
    "## Identificadores\n",
    "\n",
    "Los identificadores son los nombres de las variables para reconocer su contenido. Algunas reglas para crear el identificador de una variables:\n",
    "\n",
    "* Debe comenzar con una letra o un carácter de subrayado.\n",
    "* No puede comenzar con un número\n",
    "* Solo puede contener caracteres alfanuméricos y guiones bajos (A-z, 0-9 y _).\n",
    "* Distinguen entre mayúsculas y minúsculas (edad, Edad y EDAD son tres variables diferentes)\n",
    "* No puede ser ninguna de las palabras clave de Python, por ejemplo no se puede utilizar la palabra: `print`"
   ]
  },
  {
   "cell_type": "code",
   "execution_count": null,
   "id": "51a77cf8",
   "metadata": {},
   "outputs": [],
   "source": [
    "# Cree una variable a la que asigne el valor correspondiente. Muestre el contenido de la variable.\n",
    "\n"
   ]
  },
  {
   "cell_type": "code",
   "execution_count": null,
   "id": "d8ce93a8",
   "metadata": {},
   "outputs": [],
   "source": [
    "a = 5\n",
    "b = 2.6\n",
    "\n",
    "# Cree una variable a la que asigne el resultado de la operación (a - b) * 2.65. Muestre el contenido de la variable.\n",
    "\n"
   ]
  },
  {
   "cell_type": "code",
   "execution_count": null,
   "id": "57c825ed",
   "metadata": {},
   "outputs": [],
   "source": [
    "# Cree una variable a la que asigne la dirección de su trabajo. Muestre el contenido de la variable.\n",
    "\n"
   ]
  },
  {
   "cell_type": "markdown",
   "id": "aa9630d6",
   "metadata": {},
   "source": [
    "## Tipos de datos\n",
    "\n",
    "Una variable puede contener un dato de diferentes **tipos de datos**. Cada tipo tiene sus características particulares, como se muestra en la siguiente tabla.\n",
    "\n",
    "\n",
    "| Nombre           | Ejemplo                                                                                                     |\n",
    "|:-----------------|:------------------------------------------------------------------------------------------------------------|\n",
    "| Entero (int)     | <pre><code>edad = 27<br><br>print( \"Mi edad es: \", edad )     </code></pre>                                                             |\n",
    "| Flotante (float) | <pre><code>precio = 34.42<br><br>print( \"El precio a pagar es: \", precio)</code></pre>                                                    |\n",
    "| Booleano (bool)  | <pre><code>resultadoComparacion = 89 > 34<br><br>print( \"El resultado de comparar 89 > 34 es: \", resultadoComparacion)</code></pre>   |\n",
    "| Cadena de caracteres (str)  | <pre><code>nombre = 'María González'<br>direccion = \"Ciudadela Gaviota, Mz 34 V 92\"<br><br>print( nombre + \" vive en \" + direccion)</code></pre>   |\n",
    "| Lista (list)  | <pre><code>valoresAPagar = [ 34.2 , 23.9 , 12.89, 10.34]<br><br>print(\"Los valores a pagar son: \", valoresAPagar) </code></pre>   |"
   ]
  },
  {
   "cell_type": "code",
   "execution_count": null,
   "id": "28ec115c",
   "metadata": {},
   "outputs": [],
   "source": [
    "# Asigne el resultado de la comparacion 25 >= 63 a la variable comparacion1\n",
    "\n",
    "comparacion1 = \n",
    "\n",
    "print(\"Resultado de la comparación 25 >= 63: \", comparacion1)"
   ]
  },
  {
   "cell_type": "code",
   "execution_count": null,
   "id": "2c11f352",
   "metadata": {},
   "outputs": [],
   "source": [
    "# Asigne el resultado de la comparacion 25 < 63 a la variable comparacion2\n",
    "\n",
    "comparacion2 = \n",
    "\n",
    "print(\"Resultado de la comparación 25 < 63: \", comparacion2)"
   ]
  },
  {
   "cell_type": "code",
   "execution_count": null,
   "id": "2d44696f",
   "metadata": {},
   "outputs": [],
   "source": [
    "# Complete las variables direccionTrabajo, ciudadTrabajo y paisTrabajo con sus datos. \n",
    "\n",
    "direccionTrabajo = \" \" \n",
    "paisTrabajo = ' '\n",
    "ciudadTrabajo = \" \"\n",
    "\n",
    "print(direccionTrabajo + \" en  la ciudad de \" + ciudadTrabajo + \", \" + paisTrabajo)"
   ]
  },
  {
   "cell_type": "code",
   "execution_count": null,
   "id": "378715b2",
   "metadata": {},
   "outputs": [],
   "source": [
    "# Complete la lista invitados con los nombres de 5 personas. Separe cada nombre con una coma.\n",
    "\n",
    "invitados = [  ]\n",
    "\n",
    "\n",
    "print(\"Los nombres los invitados son: \", invitados) "
   ]
  },
  {
   "cell_type": "markdown",
   "id": "02b594d3-a1ce-4e05-8767-35ab3218671c",
   "metadata": {},
   "source": [
    "## Errores"
   ]
  },
  {
   "cell_type": "code",
   "execution_count": null,
   "id": "88638d47",
   "metadata": {},
   "outputs": [],
   "source": [
    "# Error de sintaxis\n",
    "\n",
    "593direccion = \"Benalcázar N4-24 y Espejo, Quito, Ecuador\"\n",
    "\n",
    "print(\"Dirección: \" , 593direccion)"
   ]
  },
  {
   "cell_type": "code",
   "execution_count": null,
   "id": "d3221581",
   "metadata": {},
   "outputs": [],
   "source": [
    "# Error de ejecución\n",
    "\n",
    "cuentaTotal = 325.12\n",
    "cantidadPersonas = 0\n",
    "\n",
    "cuota = cuentaTotal / cantidadPersonas\n",
    "\n",
    "print(\"La cuenta por persona es: \", cuota)\n"
   ]
  },
  {
   "cell_type": "markdown",
   "id": "2fc75dd3-419e-4ad2-a5fa-500a0a95f557",
   "metadata": {},
   "source": [
    "## Operadores matemáticos\n",
    "\n",
    "Los operadores matemáticos se utilizan para realizar operaciones con variables y valores. En la siguiente tabla se encuentran el operador, el nombre y un ejemplo del uso del operador.\n",
    "\n",
    "<div align=\"center\">\n",
    "    <img src=\"images/operadores_matematicos.png\" width=\"60%\"/>\n",
    "</div>"
   ]
  },
  {
   "cell_type": "code",
   "execution_count": null,
   "id": "af7a751d",
   "metadata": {},
   "outputs": [],
   "source": [
    "# Cree tres variables: precio, cantidad y subtotal \n",
    "# Asigne valores enteros o flotantes a cada variable.\n",
    "# Asigne a la variable subtotal el resultado de la operación precio * cantidad\n",
    "# Muestre por pantalla el valor de la variable subtotal\n",
    "\n",
    "\n"
   ]
  },
  {
   "cell_type": "code",
   "execution_count": null,
   "id": "bb8a9fc5",
   "metadata": {},
   "outputs": [],
   "source": [
    "# Asigne a la variable ivaApagar el resultado de la operación subtotal * 12 / 100\n",
    "# Asigne a la variable totalAPagar el resultado de sumar la variable subtotal y la variable ivaApagar\n",
    "# Muestre el contenido de la variable ivaApagar y totalAPagar\n",
    "\n"
   ]
  },
  {
   "cell_type": "markdown",
   "id": "cc681321-1cbe-4a46-8aaa-adbf5cdca60c",
   "metadata": {},
   "source": [
    "## Ingresos de datos\n",
    "\n",
    "Para ingresar un dato, se utiliza la instrucción **input**. Entre los paréntesis **(** **)** se coloca un mensaje de ayuda acerca del dato a introducir, por ejemplo:\n",
    "\n",
    "<br><br>\n",
    "\n",
    "<div align=\"center\">\n",
    "    <img src=\"images/python_input.png\" width=\"60%\"/>\n",
    "</div>"
   ]
  },
  {
   "cell_type": "code",
   "execution_count": null,
   "id": "20f127e4",
   "metadata": {},
   "outputs": [],
   "source": [
    "# Solicite el ingreso del nombre (nombreEvento) del evento \n",
    "# Solicite el ingreso de la cantidad de participantes (cantidadParticipantes) al evento \n",
    "# Solicite el ingreso del precio de la entrada (precioEntrada) al evento \n",
    "\n",
    "\n"
   ]
  },
  {
   "cell_type": "code",
   "execution_count": null,
   "id": "cffb0e6f",
   "metadata": {},
   "outputs": [],
   "source": [
    "# Muestre por pantalla el nombre del evento, la cantidad de participantes al evento y el precio de la entrada al evento\n",
    "\n"
   ]
  },
  {
   "cell_type": "code",
   "execution_count": null,
   "id": "c13a0050",
   "metadata": {},
   "outputs": [],
   "source": [
    "# Calcule y asigne el resultado la multiplicación de cantidadParticipantes * precioEntrada en la variable total. \n",
    "# Muestre el valor de la variable total.\n",
    "\n"
   ]
  },
  {
   "cell_type": "markdown",
   "id": "81023a8c",
   "metadata": {},
   "source": [
    "**NOTA:** la instrucción input SIEMPRE devuelve un dato de tipo **Cadena de caracteres**. "
   ]
  },
  {
   "cell_type": "markdown",
   "id": "514346a3",
   "metadata": {},
   "source": [
    "## Conversión de tipos de datos\n",
    "\n",
    "Para convertir un variable a un **tipo de dato** flotante o entero, utilice las instrucciones (funciones) que aparecen en la siguiente tabla.\n",
    "\n",
    "| Nombre  | Descripción         | Ejemplo                                                               |\n",
    "|:--------|:-------------------|:-----------------------------------------------------------------------|\n",
    "| int()   | Convierte un dato en entero        | <pre><code>numeroFloat = 34.2 <br>numeroInt = int(numeroFloat) <br>print(\"El número flotante es: \", numeroFloat) <br>print(\"El número entero es: \", numeroInt) <br><br>**Salida:**<br>El número flotante es:  34.2 <br>El número entero es:  34</code></pre> |\n",
    "| float() | Convierte un dato en flotante      | <pre><code>numeroInt = 26 <br>numeroFloat = float(numeroInt)  <br>print(\"El número entero es: \", numeroInt) <br>print(\"El número flotante es: \", numeroFloat) <br><br>**Salida:**<br>El número entero es:  26<br>El número flotante es:  26.0 </code></pre> |\n",
    "\n"
   ]
  },
  {
   "cell_type": "code",
   "execution_count": 44,
   "id": "1983bab4",
   "metadata": {},
   "outputs": [],
   "source": [
    "# Asigne a la variable cantidadParticipantesInt la conversión a entero de la variable cantidadParticipantes\n",
    "# Asigne a la variable precioEntradaFloat la conversión a entero de la variable precioEntrada\n",
    "\n",
    "\n"
   ]
  },
  {
   "cell_type": "code",
   "execution_count": null,
   "id": "6e0b9b12",
   "metadata": {},
   "outputs": [],
   "source": [
    "# Calcule y asigne el resultado la multiplicación de cantidadParticipantesInt * precioEntradaFloat en la variable total. \n",
    "# Muestre el valor de la variable total.\n",
    "\n"
   ]
  },
  {
   "cell_type": "markdown",
   "id": "64ec895a",
   "metadata": {},
   "source": [
    "## Ejercicios"
   ]
  },
  {
   "cell_type": "markdown",
   "id": "31175403",
   "metadata": {},
   "source": [
    "* Escriba un programa para una **Calculadora dinámica** que permite ingresar dos números (pueden ser enteros o flotantes) y luego realiza todas las operaciones básicas (suma, resta, multiplicación y división). Al final, muestrael resultado de todas las operaciones."
   ]
  },
  {
   "cell_type": "code",
   "execution_count": null,
   "id": "65b8e691",
   "metadata": {},
   "outputs": [],
   "source": []
  },
  {
   "cell_type": "markdown",
   "id": "8563b2de",
   "metadata": {},
   "source": [
    "* Escriba un programa en Python para una **Agencia de viajes** que permita el ingreso del número de pasajeros y el valor de un boleto. "
   ]
  }
 ],
 "metadata": {
  "kernelspec": {
   "display_name": "Python 3 (ipykernel)",
   "language": "python",
   "name": "python3"
  },
  "language_info": {
   "codemirror_mode": {
    "name": "ipython",
    "version": 3
   },
   "file_extension": ".py",
   "mimetype": "text/x-python",
   "name": "python",
   "nbconvert_exporter": "python",
   "pygments_lexer": "ipython3",
   "version": "3.11.5"
  }
 },
 "nbformat": 4,
 "nbformat_minor": 5
}
