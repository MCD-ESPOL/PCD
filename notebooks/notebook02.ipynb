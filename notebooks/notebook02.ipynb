{
 "cells": [
  {
   "cell_type": "markdown",
   "id": "f70ef544-95c7-4d2b-8c0b-b8d7d51accf0",
   "metadata": {},
   "source": [
    "## Salida por pantalla"
   ]
  },
  {
   "cell_type": "markdown",
   "id": "25c12a88-17c9-4075-bdaf-03ff7a62c726",
   "metadata": {},
   "source": [
    "## Variable e identificadores"
   ]
  },
  {
   "cell_type": "markdown",
   "id": "02b594d3-a1ce-4e05-8767-35ab3218671c",
   "metadata": {},
   "source": [
    "## Errores"
   ]
  },
  {
   "cell_type": "markdown",
   "id": "2fc75dd3-419e-4ad2-a5fa-500a0a95f557",
   "metadata": {},
   "source": [
    "## Operadores matemáticos"
   ]
  },
  {
   "cell_type": "markdown",
   "id": "cc681321-1cbe-4a46-8aaa-adbf5cdca60c",
   "metadata": {},
   "source": [
    "## Ingresos de datos"
   ]
  }
 ],
 "metadata": {
  "kernelspec": {
   "display_name": "Python 3 (ipykernel)",
   "language": "python",
   "name": "python3"
  },
  "language_info": {
   "codemirror_mode": {
    "name": "ipython",
    "version": 3
   },
   "file_extension": ".py",
   "mimetype": "text/x-python",
   "name": "python",
   "nbconvert_exporter": "python",
   "pygments_lexer": "ipython3",
   "version": "3.11.4"
  }
 },
 "nbformat": 4,
 "nbformat_minor": 5
}
