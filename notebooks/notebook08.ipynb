{
 "cells": [
  {
   "cell_type": "markdown",
   "id": "6172ca88",
   "metadata": {},
   "source": [
    "# Tabla de Contenidos\n",
    "\n",
    "* [Contenidos](#Tabla-de-Contenidos)\n",
    "    * [Importar librerías externas](#Importar-librerías-externas)\n",
    "    * [Listas y Listas de listas](#Listas-y-Listas-de-listas)\n",
    "        * [Limitantes de operaciones entre listas](#Limitantes-de-operaciones-entre-listas)\n",
    "    * [Arreglos y matrices](#Arreglos-y-matrices)\n",
    "    * [Operaciones entre arreglos y escalares](#Operaciones-entre-arreglos-y-escalares)\n",
    "        * [Entre arreglos y escalares](#Entre-arreglos-y-escalares)\n",
    "        * [Entre arreglos](#Entre-arreglos)\n",
    "    * [Operaciones matriciales](#Operaciones-matriciales)\n",
    "        * [Operaciones con un escalar](#Operaciones-con-un-escalar)\n",
    "        * [Operaciones entre matrices](#Operaciones-entre-matrices)\n",
    "        * [Operaciones de todos los elementos](#Operaciones-de-todos-los-elementos)\n",
    "        * [Operaciones por columnas o por filas](#Operaciones-por-columnas-o-por-filas)\n",
    "    * [Archivos](#Archivos)\n",
    "        * [Carga de datos](#Carga-de-datos)\n",
    "* [Ejercicios](#Ejercicios)"
   ]
  },
  {
   "cell_type": "markdown",
   "id": "3e0e2060",
   "metadata": {},
   "source": [
    "## Importar librerías externas"
   ]
  },
  {
   "cell_type": "code",
   "execution_count": 46,
   "id": "265100f4",
   "metadata": {},
   "outputs": [],
   "source": [
    "# Importe la librería numpy, con: import numpy as np\n",
    "# Importe la libreria matplotlib, con: import matplotlib.pyplot as plt\n",
    "\n",
    "import numpy as np\n",
    "import matplotlib.pyplot as plt"
   ]
  },
  {
   "cell_type": "markdown",
   "id": "58365332",
   "metadata": {},
   "source": [
    "## Listas y Listas de listas"
   ]
  },
  {
   "cell_type": "code",
   "execution_count": 45,
   "id": "182ddec3",
   "metadata": {},
   "outputs": [],
   "source": [
    "# Cargue las listas y las listas de listas \n",
    "\n",
    "lista1 = [11, 12,  9,  3, 14,  9]\n",
    "lista2 = [ 6, 11, 10, 12,  9, 10]\n",
    "\n",
    "\n",
    "listaDelistas1 = [[14,  5,  4, 13,  8, 14],\n",
    "                  [10,  2,  9,  9,  3,  4],\n",
    "                  [ 9,  4, 11,  7,  9, 13],\n",
    "                  [14,  5, 14, 12, 13,  9],\n",
    "                  [12,  3,  5,  5,  4,  8]]\n",
    "\n",
    "listaDelistas2 = [[14,  6,  2,  5, 10,  8],\n",
    "                  [13, 11, 14, 11,  4, 10],\n",
    "                  [14, 13,  3, 14,  5,  7],\n",
    "                  [ 2,  2,  8, 14,  2,  4],\n",
    "                  [11,  6, 12,  3,  4,  2]]"
   ]
  },
  {
   "cell_type": "markdown",
   "id": "d9e98525",
   "metadata": {},
   "source": [
    "### Limitantes de operaciones entre listas"
   ]
  },
  {
   "cell_type": "code",
   "execution_count": 49,
   "id": "b404fe76",
   "metadata": {},
   "outputs": [],
   "source": [
    "# Sume elementos por elemento de la lista1 con la lista2\n",
    "# Muestre el resultado por pantalla\n",
    "\n"
   ]
  },
  {
   "cell_type": "code",
   "execution_count": 50,
   "id": "0a2ffed4",
   "metadata": {},
   "outputs": [],
   "source": [
    "# Sume elementos por elemento de la listaDelistas1 con la listaDelistas2\n",
    "# Muestre el resultado por pantalla\n"
   ]
  },
  {
   "cell_type": "markdown",
   "id": "68eb9465",
   "metadata": {},
   "source": [
    "## Arreglos y matrices \n",
    "\n",
    "Convierta las listas en arreglos (1-dimensión) y matrices (2-dimensiones)."
   ]
  },
  {
   "cell_type": "code",
   "execution_count": 51,
   "id": "a00b2fec",
   "metadata": {},
   "outputs": [],
   "source": [
    "# Convierta las listas en arreglos y las listas de listas en matrices\n",
    "\n",
    "arreglo1 = np.array(lista1)\n",
    "arreglo2 =  np.array(lista2)\n",
    "\n",
    "matriz1 =  np.array(listaDelistas1)\n",
    "matriz2 =  np.array(listaDelistas2)"
   ]
  },
  {
   "cell_type": "code",
   "execution_count": null,
   "id": "17a0100f",
   "metadata": {},
   "outputs": [],
   "source": [
    "# Muestre los arreglos y las matrices\n",
    "\n"
   ]
  },
  {
   "cell_type": "markdown",
   "id": "e1683bf7",
   "metadata": {},
   "source": [
    "[Regresar a la TC](#Tabla-de-Contenidos)"
   ]
  },
  {
   "cell_type": "markdown",
   "id": "f5ae106c",
   "metadata": {},
   "source": [
    "## Operaciones entre arreglos y escalares"
   ]
  },
  {
   "cell_type": "markdown",
   "id": "cab20ca5",
   "metadata": {},
   "source": [
    "### Entre arreglos y escalares\n",
    "\n",
    "Numpy permite optimizar las operaciones entre [un arreglo y un escalar](https://scipy-lectures.org/intro/numpy/operations.html#id2); por ejemplo, el `arreglo3` contiene el resultado de la suma de cada elemento del `arreglo1` con `5.2`.\n",
    "\n",
    "\n",
    "\n",
    "<div align=\"center\">\n",
    "    <img src=\"https://github.com/MCD-ESPOL/PCD/blob/main/notebooks/images/arr_b1.png?raw=true\" width=\"35%\">\n",
    "</div>"
   ]
  },
  {
   "cell_type": "code",
   "execution_count": 40,
   "id": "435c4249",
   "metadata": {},
   "outputs": [
    {
     "name": "stdout",
     "output_type": "stream",
     "text": [
      "Arreglo 2: [ 6 11 10 12  9 10] + 4\n",
      "Arreglo 4: [10 15 14 16 13 14]\n"
     ]
    }
   ],
   "source": [
    "# En arreglo4 asigne el resultado de sumar arreglo2 con el número 4. \n",
    "# Muestre el arreglo2 y el arreglo4.\n",
    "\n",
    "arreglo4 = arreglo2 + 4\n",
    "print(f\"Arreglo 2: {arreglo2} + 4\")\n",
    "print(f\"Arreglo 4: {arreglo4}\")"
   ]
  },
  {
   "cell_type": "markdown",
   "id": "f3a12028",
   "metadata": {},
   "source": [
    "<details>\n",
    "  <summary><div>→ Haga click aquí para ver la solución</div></summary>\n",
    "  <pre lang=\"python\"><code>\n",
    "arreglo4 = arreglo2 + 4\n",
    "print(f\"Arreglo 2: {arreglo2} + 4\")\n",
    "print(f\"Arreglo 4: {arreglo4}\")\n",
    "  </code></pre>\n",
    "</details> "
   ]
  },
  {
   "cell_type": "code",
   "execution_count": 42,
   "id": "5fa94cf4",
   "metadata": {},
   "outputs": [
    {
     "name": "stdout",
     "output_type": "stream",
     "text": [
      "Arreglo 1: [11 12  9  3 14  9] * 2.3\n",
      "Arreglo 5: [25.3 27.6 20.7  6.9 32.2 20.7]\n"
     ]
    }
   ],
   "source": [
    "# En arreglo5 asigne el resultado de multiplicar arreglo1 con 2.3. \n",
    "# Muestre el arreglo1 y el arreglo5.\n",
    "\n",
    "arreglo5 = arreglo1 * 2.3\n",
    "print(f\"Arreglo 1: {arreglo1} * 2.3\")\n",
    "print(f\"Arreglo 5: {arreglo5}\")"
   ]
  },
  {
   "cell_type": "markdown",
   "id": "f8d1fdac",
   "metadata": {},
   "source": [
    "<details>\n",
    "  <summary><div>→ Haga click aquí para ver la solución</div></summary>\n",
    "  <pre lang=\"python\"><code>\n",
    "arreglo5 = arreglo1 * 2.3\n",
    "print(f\"Arreglo 1: {arreglo1} * 2.3\")\n",
    "print(f\"Arreglo 5: {arreglo5}\")\n",
    "  </code></pre>\n",
    "</details> "
   ]
  },
  {
   "cell_type": "code",
   "execution_count": 43,
   "id": "35eec59a",
   "metadata": {},
   "outputs": [
    {
     "name": "stdout",
     "output_type": "stream",
     "text": [
      "Arreglo 2: [ 6 11 10 12  9 10] - 2.3\n",
      "Arreglo 6: [3.7 8.7 7.7 9.7 6.7 7.7]\n"
     ]
    }
   ],
   "source": [
    "# En arreglo6 asigne el resultado de restar arreglo2 con 2.3. \n",
    "# Muestre el arreglo2 y el arreglo6.\n",
    "\n",
    "arreglo6 = arreglo2 - 2.3\n",
    "print(f\"Arreglo 2: {arreglo2} - 2.3\")\n",
    "print(f\"Arreglo 6: {arreglo6}\")"
   ]
  },
  {
   "cell_type": "markdown",
   "id": "1c3df9d1",
   "metadata": {},
   "source": [
    "<details>\n",
    "  <summary><div>→ Haga click aquí para ver la solución</div></summary>\n",
    "  <pre lang=\"python\"><code>\n",
    "arreglo6 = arreglo2 - 2.3\n",
    "print(f\"Arreglo 2: {arreglo2} - 2.3\")\n",
    "print(f\"Arreglo 6: {arreglo6}\")\n",
    "  </code></pre>\n",
    "</details> "
   ]
  },
  {
   "cell_type": "markdown",
   "id": "3fcd6f30",
   "metadata": {},
   "source": [
    "[Regresar a la TC](#Tabla-de-Contenidos)"
   ]
  },
  {
   "cell_type": "markdown",
   "id": "4b2d713b",
   "metadata": {},
   "source": [
    "### Entre arreglos\n",
    "\n",
    "NumPy proporciona una amplia gama de [operaciones que se pueden realizar entre arreglos](https://www.programiz.com/python-programming/numpy/basic-array-operations). En el ejemplo, la multiplicación entre `arreglo1` y `arreglo2`ocurre entre cada elemento correspondiente, dado que tienen el mismo tamaño.\n",
    "\n",
    "\n",
    "<div align=\"center\">\n",
    "    <img src=\"https://github.com/MCD-ESPOL/PCD/blob/main/notebooks/images/arr_b2.png?raw=true\" width=\"35%\">\n",
    "</div>\n"
   ]
  },
  {
   "cell_type": "code",
   "execution_count": 56,
   "id": "0bd1a7af",
   "metadata": {},
   "outputs": [
    {
     "name": "stdout",
     "output_type": "stream",
     "text": [
      "[11 12  9  3 14  9] / [10 15 14 16 13 14]\n",
      "Arreglo 8: [1.1        0.8        0.64285714 0.1875     1.07692308 0.64285714]\n"
     ]
    }
   ],
   "source": [
    "# En arreglo8 asigne el resultado de dividir arreglo1 y arreglo4. \n",
    "# Muestre los arreglos que intervienen en la operación.\n",
    "\n",
    "arreglo8 = arreglo1 / arreglo4 \n",
    "print(f\"{arreglo1} / {arreglo4}\")\n",
    "print(f\"Arreglo 8: {arreglo8}\")"
   ]
  },
  {
   "cell_type": "markdown",
   "id": "9609e9e5",
   "metadata": {},
   "source": [
    "<details>\n",
    "  <summary><div>→ Haga click aquí para ver la solución</div></summary>\n",
    "  <pre lang=\"python\"><code>\n",
    "arreglo8 = arreglo1 / arreglo4 \n",
    "print(f\"{arreglo1} / {arreglo4}\")\n",
    "print(f\"Arreglo 8: {arreglo8}\")\n",
    "  </code></pre>\n",
    "</details> "
   ]
  },
  {
   "cell_type": "code",
   "execution_count": 57,
   "id": "81ee7761",
   "metadata": {},
   "outputs": [
    {
     "name": "stdout",
     "output_type": "stream",
     "text": [
      "[ 6 11 10 12  9 10] / [25.3 27.6 20.7  6.9 32.2 20.7]\n",
      "Arreglo 9: [-19.3 -16.6 -10.7   5.1 -23.2 -10.7]\n"
     ]
    }
   ],
   "source": [
    "# En arreglo9 asigne el resultado de restar arreglo2 y arreglo5. \n",
    "# Muestre los arreglos que intervienen en la operación.\n",
    "\n",
    "arreglo9 = arreglo2 - arreglo5\n",
    "print(f\"{arreglo2} / {arreglo5}\")\n",
    "print(f\"Arreglo 9: {arreglo9}\")"
   ]
  },
  {
   "cell_type": "markdown",
   "id": "a195da61",
   "metadata": {},
   "source": [
    "<details>\n",
    "  <summary><div>→ Haga click aquí para ver la solución</div></summary>\n",
    "  <pre lang=\"python\"><code>\n",
    "arreglo9 = arreglo2 - arreglo5\n",
    "print(f\"{arreglo2} / {arreglo5}\")\n",
    "print(f\"Arreglo 9: {arreglo9}\")\n",
    "  </code></pre>\n",
    "</details> "
   ]
  },
  {
   "cell_type": "code",
   "execution_count": 58,
   "id": "11160dc9",
   "metadata": {},
   "outputs": [
    {
     "name": "stdout",
     "output_type": "stream",
     "text": [
      "[25.3 27.6 20.7  6.9 32.2 20.7] / [3.7 8.7 7.7 9.7 6.7 7.7]\n",
      "Arreglo 9: [29.  36.3 28.4 16.6 38.9 28.4]\n"
     ]
    }
   ],
   "source": [
    "# En arreglo10 asigne el resultado de sumar arreglo5 y arreglo6. \n",
    "# Muestre los arreglos que intervienen en la operación.\n",
    "\n",
    "arreglo10 = arreglo5 + arreglo6\n",
    "print(f\"{arreglo5} / {arreglo6}\")\n",
    "print(f\"Arreglo 9: {arreglo10}\")"
   ]
  },
  {
   "cell_type": "markdown",
   "id": "87bfec99",
   "metadata": {},
   "source": [
    "<details>\n",
    "  <summary><div>→ Haga click aquí para ver la solución</div></summary>\n",
    "  <pre lang=\"python\"><code>\n",
    "arreglo10 = arreglo5 + arreglo6\n",
    "print(f\"{arreglo5} / {arreglo6}\")\n",
    "print(f\"Arreglo 9: {arreglo10}\")\n",
    "  </code></pre>\n",
    "</details> "
   ]
  },
  {
   "cell_type": "markdown",
   "id": "ae828635",
   "metadata": {},
   "source": [
    "[Regresar a la TC](#Tabla-de-Contenidos)"
   ]
  },
  {
   "cell_type": "markdown",
   "id": "ab802e27",
   "metadata": {},
   "source": [
    "## Operaciones matriciales\n",
    "\n",
    "NumPy provee de operaciones matriciales como suma, multiplicación y elevación de elementos a una determinada potencia. El empleo de matrices nos permite ejecutar operaciones algebraicas, lo que nos permite ejecutar numerosas operaciones con grandes cantidades de datos de manera efectiva. [How to Implement Different Operations on Matrices in NumPy?](https://www.scaler.com/topics/numpy-implement-different-operations-on-matrix/) muestran las operaciones más comunes entre matrices mediante ejemplos."
   ]
  },
  {
   "cell_type": "markdown",
   "id": "b57a6f51",
   "metadata": {},
   "source": [
    "### Operaciones con un escalar\n",
    "\n",
    "En el ejemplo, la `matriz3` contiene el resultado de multiplicar `1.12` y `matriz1`, al multiplicar cada elemento por el escalar.\n",
    "\n",
    "<div align=\"center\">\n",
    "    <img src=\"https://github.com/MCD-ESPOL/PCD/blob/main/notebooks/images/arr_b3.png?raw=true\" width=\"30%\">\n",
    "</div>"
   ]
  },
  {
   "cell_type": "code",
   "execution_count": null,
   "id": "d8abebf4",
   "metadata": {},
   "outputs": [],
   "source": [
    "# En matriz4 asigne el resultado de sumar 3.2 y matriz2. \n",
    "# Muestre el matriz4.\n",
    "\n",
    "matriz4 = 3.2 + matriz2\n",
    "print(\"Matriz 4: \")\n",
    "print(matriz4)"
   ]
  },
  {
   "cell_type": "code",
   "execution_count": null,
   "id": "1300a5f2",
   "metadata": {},
   "outputs": [],
   "source": [
    "# En matriz5 asigne el resultado de dividir matriz1 para 2. \n",
    "# Muestre el matriz5.\n",
    "\n",
    "matriz5 = matriz1 / 2\n",
    "print(\"Matriz 5: \")\n",
    "print(matriz5)"
   ]
  },
  {
   "cell_type": "markdown",
   "id": "3cceb6e0",
   "metadata": {},
   "source": [
    "[Regresar a la TC](#Tabla-de-Contenidos)"
   ]
  },
  {
   "cell_type": "markdown",
   "id": "6290af16",
   "metadata": {},
   "source": [
    "### Operaciones entre matrices\n",
    "\n",
    "Para matrices de igual número de filas y columnas, es posible realizar las operaciones matemáticas básicas para cada elemento de las matrices. Por ejemplo, `matriz6` contiene el resultado de restar `matriz1` y `matriz2`.\n",
    "\n",
    "<div align=\"center\">\n",
    "    <img src=\"https://github.com/MCD-ESPOL/PCD/blob/main/notebooks/images/arr_b4.png?raw=true\" width=\"30%\">\n",
    "</div>"
   ]
  },
  {
   "cell_type": "code",
   "execution_count": null,
   "id": "f4a53da2",
   "metadata": {},
   "outputs": [],
   "source": [
    "# En matriz7 asigne el resultado de sumar matriz2 y matriz1. \n",
    "# Muestre el matriz7.\n",
    "\n",
    "matriz7 = matriz2 + matriz1\n",
    "\n",
    "print(\"Matriz 7\")\n",
    "print(matriz7)"
   ]
  },
  {
   "cell_type": "code",
   "execution_count": null,
   "id": "bbb81ecd",
   "metadata": {},
   "outputs": [],
   "source": [
    "# En matriz8 asigne el resultado de multiplicar matriz2 y matriz1. \n",
    "# Muestre el matriz8.\n",
    "\n",
    "matriz8 = matriz2 * matriz1\n",
    "print(\"Matriz 8\")\n",
    "print(matriz8)"
   ]
  },
  {
   "cell_type": "markdown",
   "id": "1bbfd6a0",
   "metadata": {},
   "source": [
    "[Regresar a la TC](#Tabla-de-Contenidos)"
   ]
  },
  {
   "cell_type": "markdown",
   "id": "c010f0cd",
   "metadata": {},
   "source": [
    "### Operaciones de todos los elementos\n",
    "\n",
    "La función [np.sum()](https://numpy.org/doc/stable/reference/generated/numpy.sum.html) se utiliza para determinar la suma de todos los elementos de la matriz NumPy.\n",
    "\n",
    "<div align=\"center\">\n",
    "    <img src=\"https://github.com/MCD-ESPOL/PCD/blob/main/notebooks/images/arr_b5.png?raw=true\" width=\"45%\">\n",
    "</div>"
   ]
  },
  {
   "cell_type": "code",
   "execution_count": null,
   "id": "d5b18bde",
   "metadata": {},
   "outputs": [],
   "source": [
    "# En total7 asigne el resultado de sumar todos los elementos de la matriz7. Muestre el total7.\n",
    "total7 = np.sum(matriz7)\n",
    "print(\"El total de matriz7 es: \", total7)"
   ]
  },
  {
   "cell_type": "code",
   "execution_count": null,
   "id": "1ba2851f",
   "metadata": {},
   "outputs": [],
   "source": [
    "# En total8 asigne el resultado de sumar todos los elementos de la matriz8. Muestre el total8.\n",
    "total8 = np.sum(matriz8)\n",
    "print(\"El total de matriz8 es: \", total8)"
   ]
  },
  {
   "cell_type": "markdown",
   "id": "61029f1b",
   "metadata": {},
   "source": [
    "[Regresar a la TC](#Tabla-de-Contenidos)"
   ]
  },
  {
   "cell_type": "markdown",
   "id": "f210e70c",
   "metadata": {},
   "source": [
    "### Operaciones por columnas o por filas\n",
    "\n",
    "La función de [np.sum()](https://numpy.org/doc/stable/reference/generated/numpy.sum.html) NumPy tiene varios parámetros que le permiten controlar el comportamiento de la función. \n",
    "\n",
    "Por ejemplo, para sumar todas las filas (a lo largo del eje vertical), se utiliza el parámetro `axis = 0`. Mientras que para sumar todas las columnas (a lo largo del eje horizontal), se utiliza el parámetro `axis = 1`, como se muestra en la figura. \n",
    "\n",
    "\n",
    "<div align=\"center\">\n",
    "    <img src=\"https://github.com/MCD-ESPOL/PCD/blob/main/notebooks/images/arr_b7.png?raw=true\" width=\"35%\">\n",
    "    <br>\n",
    "    Fuente: <a href=\"https://sebastianraschka.com/blog/2020/numpy-intro.html\">Scientific Computing in Python: Introduction to NumPy and Matplotlib</a>\n",
    "</div>"
   ]
  },
  {
   "cell_type": "markdown",
   "id": "59f3164f",
   "metadata": {},
   "source": [
    "En el ejemplo, la variable `sumaFilas` contiene el resultado de la suma de las filas (`axis = 0`); mientras que la variable `sumaColumnas` contiene el resultado de la suma de las columnas (`axis = 1`) \n",
    "\n",
    "<div align=\"center\">\n",
    "    <img src=\"https://github.com/MCD-ESPOL/PCD/blob/main/notebooks/images/arr_b6.png?raw=true\" width=\"35%\">\n",
    "</div>"
   ]
  },
  {
   "cell_type": "code",
   "execution_count": null,
   "id": "a643d10b",
   "metadata": {},
   "outputs": [],
   "source": [
    "# En totalFilas asigne el resultado de sumar todas filas de la matriz7. Muestre el totalFilas.\n",
    "print(\"Matriz 7\")\n",
    "print(matriz7)\n",
    "\n",
    "totalFilas = np.sum( matriz7 , axis = 0)\n",
    "print(\"\\nTotal por axis 0\")\n",
    "print(totalFilas)\n",
    "\n",
    "print(totalFilas.shape)"
   ]
  },
  {
   "cell_type": "code",
   "execution_count": null,
   "id": "c4224a14",
   "metadata": {},
   "outputs": [],
   "source": [
    "# En totalColumnas asigne el resultado de sumar todas columnas de la matriz8. Muestre el totalColumnas.\n",
    "print(\"Matriz 8\")\n",
    "print(matriz8)\n",
    "\n",
    "totalColumnas = np.sum( matriz8 , axis = 1)\n",
    "\n",
    "print(\"\\nTotal por axis 1\")\n",
    "print(totalColumnas)\n",
    "\n",
    "\n",
    "print(totalColumnas.shape)"
   ]
  },
  {
   "cell_type": "markdown",
   "id": "0403d046",
   "metadata": {},
   "source": [
    "[Regresar a la TC](#Tabla-de-Contenidos)"
   ]
  },
  {
   "cell_type": "markdown",
   "id": "e9fa0b83",
   "metadata": {},
   "source": [
    "## Archivos\n",
    "\n",
    "Descargue el archivo [produccion.zip](https://github.com/MCD-ESPOL/PCD/blob/main/notebooks/produccion.zip). Descomprima la carpeta **produccion** y mueva la carpeta en el mismo directorio de este cuaderno."
   ]
  },
  {
   "cell_type": "markdown",
   "id": "7806b1d3",
   "metadata": {},
   "source": [
    "## Carga de datos\n",
    "\n",
    "\n",
    "Utilice la función [loadtxt](https://numpy.org/doc/stable/reference/generated/numpy.loadtxt.html) para cargar los datos de un archivo de texto."
   ]
  },
  {
   "cell_type": "code",
   "execution_count": null,
   "id": "553b6d59",
   "metadata": {},
   "outputs": [],
   "source": [
    "# En la variable zonas, cargue los datos de 'produccion/zonas.csv', \n",
    "# cuyo delimitador es ',' y el tipo de dato (dtype) es str\n",
    "\n",
    "zonas = np.loadtxt('produccion/zonas.csv', delimiter = ',', dtype = str)\n",
    "print(zonas)\n",
    "print(zonas.shape)"
   ]
  },
  {
   "cell_type": "code",
   "execution_count": null,
   "id": "7bde8e73",
   "metadata": {},
   "outputs": [],
   "source": [
    "# En la variable productos, cargue los datos de 'produccion/productos.csv', \n",
    "# cuyo delimitador es ',' y el tipo de dato (dtype) es str\n",
    "\n",
    "productos = np.loadtxt('produccion/productos.csv', delimiter = ',', dtype = str)\n",
    "print(productos)\n",
    "print(productos.shape)"
   ]
  },
  {
   "cell_type": "code",
   "execution_count": null,
   "id": "dd3c79ef",
   "metadata": {},
   "outputs": [],
   "source": [
    "# En las variables octubre, noviembre y diciembre, cargue los datos de cada archivo con el nombre correspondiente\n",
    "# cuyo delimitador es ',' y el tipo de dato (dtype) es in\n",
    "\n",
    "octubre = np.loadtxt('produccion/octubre.csv', delimiter = ',', dtype = int)\n",
    "print(octubre.shape)\n",
    "print(octubre)\n"
   ]
  },
  {
   "cell_type": "code",
   "execution_count": null,
   "id": "2138dd9e",
   "metadata": {},
   "outputs": [],
   "source": [
    "noviembre = np.loadtxt('produccion/noviembre.csv', delimiter = ',', dtype = int)\n",
    "print(noviembre.shape)\n",
    "print(noviembre)"
   ]
  },
  {
   "cell_type": "code",
   "execution_count": null,
   "id": "ef8bc133",
   "metadata": {},
   "outputs": [],
   "source": [
    "diciembre = np.loadtxt('produccion/diciembre.csv', delimiter = ',', dtype = int)\n",
    "print(diciembre.shape)\n",
    "print(diciembre)"
   ]
  },
  {
   "cell_type": "markdown",
   "id": "47a6f607",
   "metadata": {},
   "source": [
    "[Regresar a la TC](#Tabla-de-Contenidos)"
   ]
  },
  {
   "cell_type": "markdown",
   "id": "7f5e9986",
   "metadata": {},
   "source": [
    "## Ejercicios\n",
    "\n",
    "Para los siguientes ejercicios, considere que las matrices `octubre`, `noviembre` y `diciembre` corresponden a la cantidad de productos elaborados en los tres últimos los meses del año pasado. Las filas están directamente relacionados con los `productos` y las columnas están directamente relacionadas con las `zonas` de producción.\n",
    "\n",
    "<br>\n",
    "<div align=\"center\">\n",
    "    <img src=\"https://github.com/MCD-ESPOL/PCD/blob/main/notebooks/images/arr_b8.png?raw=true\" width=\"75%\">\n",
    "</div>"
   ]
  },
  {
   "cell_type": "markdown",
   "id": "d8b88c3b",
   "metadata": {},
   "source": [
    "### Ejercicios - I\n",
    "\n",
    "1. Muestre la suma total de producción del mes de octubre.\n",
    "2. Muestre la suma total de producción de los tres últimos meses"
   ]
  },
  {
   "cell_type": "code",
   "execution_count": null,
   "id": "58cd6e07",
   "metadata": {},
   "outputs": [],
   "source": [
    "totalOctubre = np.sum(octubre)\n",
    "print(\"La suma total de producción del mes de octubre: \", totalOctubre)"
   ]
  },
  {
   "cell_type": "code",
   "execution_count": null,
   "id": "148001b8",
   "metadata": {},
   "outputs": [],
   "source": [
    "tresmeses = octubre + noviembre + diciembre\n",
    "print(\"Tres meses\")\n",
    "print(tresmeses.shape)\n",
    "print(tresmeses)"
   ]
  },
  {
   "cell_type": "code",
   "execution_count": null,
   "id": "e3f978b8",
   "metadata": {},
   "outputs": [],
   "source": [
    "totalTresMeses = np.sum(tresmeses)\n",
    "print(\"La suma total de producción de los tres meses: \", totalTresMeses)"
   ]
  },
  {
   "cell_type": "markdown",
   "id": "31c03376",
   "metadata": {},
   "source": [
    "### Ejercicios - II\n",
    "\n",
    "1. Obtenga el total de producción por las zonas de los tres últimos meses.\n",
    "2. Grafique los nombres de las zonas _versus_ el total de producción por las zonas de los tres últimos meses. "
   ]
  },
  {
   "cell_type": "code",
   "execution_count": null,
   "id": "0229f178",
   "metadata": {},
   "outputs": [],
   "source": [
    "totalPorZonas = np.sum(tresmeses, axis = 0)\n",
    "print(\"Total por zonas\")\n",
    "print(totalPorZonas)\n",
    "print(totalPorZonas.shape)"
   ]
  },
  {
   "cell_type": "code",
   "execution_count": null,
   "id": "7f4c7434",
   "metadata": {},
   "outputs": [],
   "source": [
    "zonas"
   ]
  },
  {
   "cell_type": "code",
   "execution_count": null,
   "id": "bc19bd99",
   "metadata": {},
   "outputs": [],
   "source": [
    "totalPorZonas"
   ]
  },
  {
   "cell_type": "code",
   "execution_count": null,
   "id": "a96678ce",
   "metadata": {},
   "outputs": [],
   "source": [
    "plt.bar(zonas, totalPorZonas)\n",
    "plt.title('Zonas versus total de producción por zonas de los tres últimos meses')\n",
    "plt.xlabel('Zonas')\n",
    "plt.ylabel('Total de producción por zonas de los tres últimos meses')"
   ]
  },
  {
   "cell_type": "markdown",
   "id": "c924b114",
   "metadata": {},
   "source": [
    "### Ejercicios - III\n",
    "\n",
    "1. Muestre la suma total de producción de los tres últimos meses de la `zona4`\n",
    "2. Muestre la suma total de producción de noviembre del producto `'SúperAroma Ambientador de Lavanda'`"
   ]
  },
  {
   "cell_type": "code",
   "execution_count": null,
   "id": "3912cdae",
   "metadata": {},
   "outputs": [],
   "source": [
    "# Forma 1: Muestre la suma total de producción de los tres últimos meses de la zona4\n",
    "mascaraZona4 = zonas == 'zona4'\n",
    "mascaraZona4"
   ]
  },
  {
   "cell_type": "code",
   "execution_count": null,
   "id": "cfcf7228",
   "metadata": {},
   "outputs": [],
   "source": [
    "zonas[mascaraZona4]"
   ]
  },
  {
   "cell_type": "code",
   "execution_count": null,
   "id": "391eff2d",
   "metadata": {},
   "outputs": [],
   "source": [
    "tresmeses[ 0: , mascaraZona4]"
   ]
  },
  {
   "cell_type": "code",
   "execution_count": null,
   "id": "4d40520c",
   "metadata": {},
   "outputs": [],
   "source": [
    "total = np.sum(tresmeses[0:, mascaraZona4])\n",
    "\n",
    "print('Suma total de producción de los tres últimos meses de la zona4')\n",
    "print(total)"
   ]
  },
  {
   "cell_type": "code",
   "execution_count": null,
   "id": "f9834044",
   "metadata": {},
   "outputs": [],
   "source": [
    "# Forma 2: Muestre la suma total de producción de los tres últimos meses de la zona4\n",
    "\n",
    "zona4 = tresmeses[0:,3]\n",
    "total = np.sum(zona4)\n",
    "print('Suma total de producción de los tres últimos meses de la zona4')\n",
    "print(total)"
   ]
  },
  {
   "cell_type": "code",
   "execution_count": null,
   "id": "da3a6202",
   "metadata": {},
   "outputs": [],
   "source": [
    "# Muestre la suma total de producción de noviembre del producto 'SúperAroma Ambientador de Lavanda'\n",
    "\n",
    "mascaraProducto = productos == 'SúperAroma Ambientador de Lavanda'\n",
    "print(mascaraProducto)"
   ]
  },
  {
   "cell_type": "code",
   "execution_count": null,
   "id": "9058efd5",
   "metadata": {},
   "outputs": [],
   "source": [
    "noviembre[ mascaraProducto , 0: ]"
   ]
  },
  {
   "cell_type": "code",
   "execution_count": null,
   "id": "0bd270e0",
   "metadata": {},
   "outputs": [],
   "source": [
    "total = np.sum(noviembre[ mascaraProducto , 0: ])\n",
    "print(\"El total de producción de noviembre del producto 'SúperAroma Ambientador de Lavanda'\")\n",
    "print(total)"
   ]
  },
  {
   "cell_type": "markdown",
   "id": "0bab0d49",
   "metadata": {},
   "source": [
    "### Ejercicios - IV\n",
    "\n",
    "1. Muestre el nombre del producto con la mayor suma total de producción del mes de diciembre.\n",
    "2. Muestre el nombre de la zona con la menor suma total de producción del mes de noviembre."
   ]
  },
  {
   "cell_type": "code",
   "execution_count": null,
   "id": "dac1d1c7",
   "metadata": {},
   "outputs": [],
   "source": [
    "diciembre"
   ]
  },
  {
   "cell_type": "code",
   "execution_count": null,
   "id": "b014340b",
   "metadata": {},
   "outputs": [],
   "source": [
    "sumaPorProducto = np.sum(diciembre, axis = 1)\n",
    "sumaPorProducto"
   ]
  },
  {
   "cell_type": "code",
   "execution_count": null,
   "id": "a151dd10",
   "metadata": {},
   "outputs": [],
   "source": [
    "indiceMayor = np.argmax(sumaPorProducto)\n",
    "indiceMayor"
   ]
  },
  {
   "cell_type": "code",
   "execution_count": null,
   "id": "efee68e6",
   "metadata": {},
   "outputs": [],
   "source": [
    "print(\"Nombre del producto con la mayor suma total de producción del mes de diciembre\")\n",
    "print(productos[indiceMayor])"
   ]
  },
  {
   "cell_type": "code",
   "execution_count": null,
   "id": "8547a66b",
   "metadata": {},
   "outputs": [],
   "source": [
    "print(\"Nombre de la zona con la menor suma total de producción del mes de noviembre.\")\n",
    "sumaPorZonas = np.sum(noviembre, axis = 0)\n",
    "indiceMenor = np.argmin(sumaPorZonas)\n",
    "print(zonas[indiceMenor])"
   ]
  },
  {
   "cell_type": "markdown",
   "id": "384458ef",
   "metadata": {},
   "source": [
    "[Regresar a la TC](#Tabla-de-Contenidos)"
   ]
  }
 ],
 "metadata": {
  "kernelspec": {
   "display_name": "Python 3 (ipykernel)",
   "language": "python",
   "name": "python3"
  },
  "language_info": {
   "codemirror_mode": {
    "name": "ipython",
    "version": 3
   },
   "file_extension": ".py",
   "mimetype": "text/x-python",
   "name": "python",
   "nbconvert_exporter": "python",
   "pygments_lexer": "ipython3",
   "version": "3.11.5"
  }
 },
 "nbformat": 4,
 "nbformat_minor": 5
}
