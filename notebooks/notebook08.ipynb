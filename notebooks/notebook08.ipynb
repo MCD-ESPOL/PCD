{
 "cells": [
  {
   "cell_type": "markdown",
   "id": "c4d733f7",
   "metadata": {},
   "source": [
    "## Matrices\n",
    "\n",
    "Las matrices son una estructura de datos bidimencional donde los elementos se organizan en filas y columnas. Python no tiene soporte integrado para matrices; sin embargo, [NumPy](https://numpy.org/) permite el manejo de matrices como **lista dentro de listas**.\n",
    "\n",
    "Ejemplo de esto: \n",
    "\n",
    "<div align=\"center\">\n",
    "    <img src=\"https://github.com/MCD-ESPOL/PCD/blob/main/notebooks/images/matriz.webp?raw=true\" width=\"40%\">\n",
    "    Fuente: <a href=\"https://pythondiario.com/2019/01/matrices-en-python-y-numpy.html\">Matrices en Python y NumPy</a>\n",
    "</div>\n",
    "\n",
    "Esta matriz es una matriz de 3x4 porque tiene 3 filas y 4 columnas. \n",
    "\n",
    "Revise la documentación en [NumPy documentation](https://numpy.org/doc/stable/)."
   ]
  },
  {
   "cell_type": "markdown",
   "id": "b28a49a3",
   "metadata": {},
   "source": [
    "## Importar librerías externas\n"
   ]
  },
  {
   "cell_type": "code",
   "execution_count": 2,
   "id": "86f533aa",
   "metadata": {},
   "outputs": [],
   "source": [
    "# Importe la librería numpy, con: import numpy as np\n",
    "# Importe la libreria matplotlib, con: import matplotlib.pyplot as plt\n",
    "\n",
    "import numpy as np\n",
    "import matplotlib.pyplot as plt"
   ]
  },
  {
   "cell_type": "markdown",
   "id": "3b300522",
   "metadata": {},
   "source": [
    "## De listas de listas a matrices\n",
    "\n",
    "Para crear [una matriz a partir de una lista de listas](https://www.geeksforgeeks.org/convert-python-nested-lists-to-multidimensional-numpy-arrays/), utilizaremos la función **array**.\n",
    "\n",
    "<div align=\"center\">\n",
    "    <img src=\"https://github.com/MCD-ESPOL/PCD/blob/main/notebooks/images/mat_lol.png?raw=true\" width=\"40%\">\n",
    "</div>\n",
    "\n",
    "<div align=\"center\">\n",
    "    <img src=\"https://github.com/MCD-ESPOL/PCD/blob/main/notebooks/images/mat_mat.png?raw=true\" width=\"35%\">\n",
    "</div>\n"
   ]
  },
  {
   "cell_type": "code",
   "execution_count": 3,
   "id": "cd9b1394",
   "metadata": {},
   "outputs": [
    {
     "name": "stdout",
     "output_type": "stream",
     "text": [
      "Matriz\n",
      "[[ 1  4  5]\n",
      " [-5  8  9]]\n"
     ]
    }
   ],
   "source": [
    "# Utilice la función array para convertir la listaDeLista en una matriz \n",
    "# Muestre por pantalla la matriz\n",
    "\n",
    "listaDeLista = [[1, 4, 5], [-5, 8, 9]]\n",
    "\n",
    "matriz = np.array( listaDeLista )\n",
    "\n",
    "print(\"Matriz\")\n",
    "print(matriz)\n"
   ]
  },
  {
   "cell_type": "markdown",
   "id": "e7263fdc",
   "metadata": {},
   "source": [
    "## Acceso a elementos\n",
    "\n",
    "Numpy utiliza la notación por índices en las **filas** y en las **columnas** para acceder a un elemento o a un grupo de elementos en una matriz.\n",
    "\n",
    "\n",
    "<div align=\"center\">\n",
    "    <img src=\"https://github.com/MCD-ESPOL/PCD/blob/main/notebooks/images/mat_indices.png?raw=true\" width=\"20%\">\n",
    "</div>\n",
    "\n"
   ]
  },
  {
   "cell_type": "markdown",
   "id": "bbf79ee8",
   "metadata": {},
   "source": [
    "### Elementos\n",
    "\n",
    "Para acceder a un elemento, debe:\n",
    "\n",
    "* Fila:     indexar la fila con el valor del **índice** (p.e.: _1_), y \n",
    "* Columna:     indexar la columna con el valor del **índice** (p.e.: _2_).\n",
    "\n",
    "\n",
    "<div align=\"center\">\n",
    "    <img src=\"https://github.com/MCD-ESPOL/PCD/blob/main/notebooks/images/mat_ele12.png?raw=true\" width=\"40%\">\n",
    "</div>"
   ]
  },
  {
   "cell_type": "code",
   "execution_count": 4,
   "id": "e80304d4",
   "metadata": {},
   "outputs": [
    {
     "name": "stdout",
     "output_type": "stream",
     "text": [
      "Elemento matriz[0,2]:  5\n"
     ]
    }
   ],
   "source": [
    "# Obtenga y muestre el elemento en la fila 0, columna 2\n",
    "elemento = matriz[0,2]\n",
    "print(\"Elemento matriz[0,2]: \",elemento)"
   ]
  },
  {
   "cell_type": "code",
   "execution_count": 5,
   "id": "34eb7a1f",
   "metadata": {},
   "outputs": [
    {
     "name": "stdout",
     "output_type": "stream",
     "text": [
      "Elemento matriz[1,1]:  8\n"
     ]
    }
   ],
   "source": [
    "# Obtenga y muestre el elemento en la fila 1, columna 1\n",
    "elemento = matriz[1,1]\n",
    "print(\"Elemento matriz[1,1]: \",elemento)"
   ]
  },
  {
   "cell_type": "code",
   "execution_count": 6,
   "id": "556e1d3a",
   "metadata": {},
   "outputs": [
    {
     "name": "stdout",
     "output_type": "stream",
     "text": [
      "Elemento matriz[0,1]:  4\n"
     ]
    }
   ],
   "source": [
    "# Obtenga y muestre el elemento en la fila 0, columna 1\n",
    "elemento = matriz[0,1]\n",
    "print(\"Elemento matriz[0,1]: \",elemento)"
   ]
  },
  {
   "cell_type": "code",
   "execution_count": 7,
   "id": "0dc0e189",
   "metadata": {},
   "outputs": [
    {
     "name": "stdout",
     "output_type": "stream",
     "text": [
      "Elemento matriz[1,0]:  -5\n"
     ]
    }
   ],
   "source": [
    "# Obtenga y muestre el elemento en la fila 1, columna 0\n",
    "elemento = matriz[1,0]\n",
    "print(\"Elemento matriz[1,0]: \",elemento)"
   ]
  },
  {
   "cell_type": "markdown",
   "id": "54494e7f",
   "metadata": {},
   "source": [
    "### Filas\n",
    "\n",
    "Para acceder a todos los elementos en la primera fila, debe:\n",
    "\n",
    "* Fila:     indexar la fila con el valor del **índice** (p.e.: _0_), y   \n",
    "* Columna:  rebanar todas las columnas **desde inicio hasta el final** (p.e.: _0:_).\n",
    "\n",
    "<div align=\"center\">\n",
    "    <img src=\"https://github.com/MCD-ESPOL/PCD/blob/main/notebooks/images/mat_fila0.png?raw=true\" width=\"30%\">\n",
    "</div>\n"
   ]
  },
  {
   "cell_type": "code",
   "execution_count": 8,
   "id": "cb3519f4",
   "metadata": {},
   "outputs": [
    {
     "name": "stdout",
     "output_type": "stream",
     "text": [
      "Fila0\n",
      "[1 4 5]\n"
     ]
    }
   ],
   "source": [
    "# Obtenga y muestre la fila 0 de la matriz\n",
    "fila0 = matriz[ 0 , 0:]\n",
    "print(\"Fila0\")\n",
    "print(fila0)"
   ]
  },
  {
   "cell_type": "code",
   "execution_count": 9,
   "id": "af10ac06",
   "metadata": {},
   "outputs": [
    {
     "name": "stdout",
     "output_type": "stream",
     "text": [
      "Fila1\n",
      "[-5  8  9]\n"
     ]
    }
   ],
   "source": [
    "# Obtenga y muestre la fila 1 de la matriz\n",
    "fila1 = matriz[ 1 , 0:]\n",
    "print(\"Fila1\")\n",
    "print(fila1)"
   ]
  },
  {
   "cell_type": "markdown",
   "id": "d195880c",
   "metadata": {},
   "source": [
    "### Columnas\n",
    "\n",
    "Para acceder a todos los elementos en la segunda columna, debe:\n",
    "\n",
    "* Fila:     rebanar todas las filas **desde inicio hasta el final** (p.e.: _0:_), y   \n",
    "* Columna:  indexar la columna con el valor del **índice** (p.e.: _1_).\n",
    "\n",
    "\n",
    "<div align=\"center\">\n",
    "    <img src=\"https://github.com/MCD-ESPOL/PCD/blob/main/notebooks/images/mat_columna1.png?raw=true\" width=\"30%\">\n",
    "</div>\n"
   ]
  },
  {
   "cell_type": "code",
   "execution_count": 10,
   "id": "3fa6ae10",
   "metadata": {},
   "outputs": [
    {
     "name": "stdout",
     "output_type": "stream",
     "text": [
      "Columna0\n",
      "[ 1 -5]\n",
      "Columna1\n",
      "[4 8]\n",
      "Columna2\n",
      "[5 9]\n"
     ]
    }
   ],
   "source": [
    "# Muestre todas las columna de matriz por separado\n",
    "columna0 = matriz[ 0: , 0]\n",
    "print(\"Columna0\")\n",
    "print(columna0)\n",
    "\n",
    "columna1 = matriz[ 0: , 1]\n",
    "print(\"Columna1\")\n",
    "print(columna1)\n",
    "\n",
    "columna2 = matriz[ 0: , 2]\n",
    "print(\"Columna2\")\n",
    "print(columna2)"
   ]
  },
  {
   "cell_type": "markdown",
   "id": "8adc920f",
   "metadata": {},
   "source": [
    "### Submatrices\n",
    "\n",
    "Para acceder a la submatriz conformada por las **dos primeras filas** y las **dos primeras columnas**, debe:\n",
    "\n",
    "* Fila: rebanar todas las filas desde inicio hasta el final (p.e.: 0:), y\n",
    "* Columna: rebanar las columnas desde inicio hasta antes de la columna 2  (p.e.: 0:2).\n",
    "\n",
    "<div align=\"center\">\n",
    "    <img src=\"https://github.com/MCD-ESPOL/PCD/blob/main/notebooks/images/mat_matrix0.png?raw=true\" width=\"30%\">\n",
    "</div>\n",
    "\n"
   ]
  },
  {
   "cell_type": "code",
   "execution_count": 11,
   "id": "732b5768",
   "metadata": {},
   "outputs": [
    {
     "name": "stdout",
     "output_type": "stream",
     "text": [
      "Primera submatriz\n",
      "[[ 1  4]\n",
      " [-5  8]]\n"
     ]
    }
   ],
   "source": [
    "# Muestre la submatriz conformada por las dos primeras filas y las dos primeras columnas \n",
    "submatriz1 = matriz[ 0: , 0:2 ]\n",
    "print(\"Primera submatriz\")\n",
    "print(submatriz1)"
   ]
  },
  {
   "cell_type": "code",
   "execution_count": 12,
   "id": "9bb56ed0",
   "metadata": {},
   "outputs": [
    {
     "name": "stdout",
     "output_type": "stream",
     "text": [
      "Segunda submatriz\n",
      "[[4 5]\n",
      " [8 9]]\n"
     ]
    }
   ],
   "source": [
    "# Muestre la submatriz conformada por las dos últimas filas y las dos últimas columnas \n",
    "submatriz2 = matriz[ 0: , 1: ]\n",
    "print(\"Segunda submatriz\")\n",
    "print(submatriz2)"
   ]
  },
  {
   "cell_type": "markdown",
   "id": "063a4e17",
   "metadata": {},
   "source": [
    "## Archivos\n",
    "\n",
    "Descargue los archivos [songs.csv](https://github.com/MCD-ESPOL/PCD/blob/main/notebooks/songs.csv) y [votes.csv](https://github.com/MCD-ESPOL/PCD/blob/main/notebooks/votes.csv). Luego, coloque los archivos csv en el mismo directorio que este cuaderno."
   ]
  },
  {
   "cell_type": "markdown",
   "id": "1e310d24",
   "metadata": {},
   "source": [
    "## Carga de datos\n",
    "\n",
    "\n",
    "Utilice la función [loadtxt](https://numpy.org/doc/stable/reference/generated/numpy.loadtxt.html) para cargar los datos de un archivo de texto."
   ]
  },
  {
   "cell_type": "code",
   "execution_count": 13,
   "id": "9f4ef80d",
   "metadata": {},
   "outputs": [],
   "source": [
    "# Cargue los datos de 'songs.csv', cuyo delimitador es ';' y el tipo de dato (dtype) es str\n",
    "songs = np.loadtxt( 'songs.csv', delimiter = ';', dtype = str)\n"
   ]
  },
  {
   "cell_type": "code",
   "execution_count": 14,
   "id": "83b4fd9e",
   "metadata": {},
   "outputs": [],
   "source": [
    "# Cargue los datos de 'votes.csv', cuyo delimitador es ',' y el tipo de dato (dtype) es int\n",
    "votes = np.loadtxt( 'votes.csv', delimiter = ',', dtype = int)\n"
   ]
  },
  {
   "cell_type": "markdown",
   "id": "ede3d07f",
   "metadata": {},
   "source": [
    "## Ejercicios - I\n",
    "\n",
    "1. Muestre el arreglo con los titulos de canciones\n",
    "2. Muestre la matriz con los votos"
   ]
  },
  {
   "cell_type": "code",
   "execution_count": 15,
   "id": "c0d70e2e",
   "metadata": {},
   "outputs": [
    {
     "name": "stdout",
     "output_type": "stream",
     "text": [
      "20\n",
      "[\"I Don't Care (with Justin Bieber) - Loud Luxury Remix\"\n",
      " 'Memories - Dillon Francis Remix' 'All the Time - Don Diablo Remix'\n",
      " 'Call You Mine - Keanu Silva Remix'\n",
      " 'Someone You Loved - Future Humans Remix'\n",
      " 'Beautiful People (feat. Khalid) - Jack Wins Remix'\n",
      " 'Never Really Over - R3HAB Remix'\n",
      " 'Post Malone (feat. RANI) - GATTÃœSO Remix'\n",
      " 'Tough Love - TiÃ«sto Remix / Radio Edit'\n",
      " \"If I Can't Have You - Gryffin Remix\"\n",
      " 'Cross Me (feat. Chance the Rapper & PnB Rock) - M-22 Remix'\n",
      " 'Hate Me - R3HAB Remix' 'Body On My'\n",
      " 'SOS - Laidback Luke Tribute Remix / Radio Edit'\n",
      " 'Summer Days (feat. Macklemore & Patrick Stump of Fall Out Boy) - TiÃ«sto Remix'\n",
      " 'South of the Border (feat. Camila Cabello & Cardi B) - Andy Jarvis Remix'\n",
      " 'All My Friends - Eden Prince Remix'\n",
      " 'Say My Name (feat. Bebe Rexha & J Balvin) - Lucas & Steve Remix'\n",
      " 'Dancing With A Stranger (With Normani) - Cheat Codes Remix'\n",
      " 'Let It Be Me - Sondr Remix']\n"
     ]
    }
   ],
   "source": [
    "print(songs.size)\n",
    "print(songs)\n"
   ]
  },
  {
   "cell_type": "code",
   "execution_count": 16,
   "id": "d6c885af",
   "metadata": {},
   "outputs": [
    {
     "name": "stdout",
     "output_type": "stream",
     "text": [
      "(35, 20)\n",
      "[[7 2 9 3 7 4 1 9 6 4 7 9 0 5 8 0 3 2 8 6]\n",
      " [6 8 3 6 8 1 0 0 7 6 6 1 9 5 1 2 1 9 3 9]\n",
      " [0 6 8 0 4 6 5 5 9 6 9 5 7 5 1 7 4 0 3 0]\n",
      " [0 7 3 0 7 5 7 7 3 3 8 5 8 3 6 3 9 0 7 0]\n",
      " [1 1 4 7 4 2 0 8 2 5 5 3 7 7 4 9 2 0 5 3]\n",
      " [4 2 7 5 4 5 7 8 4 1 9 8 1 9 8 9 0 4 9 5]\n",
      " [4 7 4 6 9 8 3 2 5 0 2 2 7 1 0 2 1 3 4 3]\n",
      " [6 1 7 0 7 3 8 2 1 5 0 6 1 7 0 9 3 1 9 2]\n",
      " [4 3 6 2 4 7 6 7 0 7 1 0 3 2 2 6 8 8 9 4]\n",
      " [7 0 2 9 3 4 3 5 3 2 4 9 7 8 7 5 5 3 1 6]\n",
      " [0 3 0 0 7 0 1 9 8 6 3 4 8 3 0 4 7 0 7 1]\n",
      " [3 3 2 7 3 8 8 0 3 2 5 4 1 3 2 1 6 4 5 9]\n",
      " [6 6 2 7 6 4 3 6 0 3 1 1 2 4 1 2 9 0 7 0]\n",
      " [0 8 3 3 0 0 2 0 0 4 5 1 4 5 8 8 5 1 4 2]\n",
      " [1 2 5 1 0 6 4 9 1 1 7 0 0 9 1 7 8 3 0 2]\n",
      " [9 5 5 8 9 1 5 3 7 6 7 1 4 8 0 3 7 9 8 3]\n",
      " [2 4 1 0 3 9 0 8 6 8 0 0 2 0 2 0 7 0 5 8]\n",
      " [7 5 1 9 2 5 0 1 0 4 1 3 3 8 2 9 1 1 3 6]\n",
      " [4 5 0 2 5 4 1 7 5 4 8 7 3 0 3 4 2 0 6 8]\n",
      " [8 8 5 0 2 4 8 3 5 3 0 0 5 4 0 2 4 8 2 4]\n",
      " [9 1 0 5 8 8 8 6 1 3 3 5 4 4 2 1 6 8 6 9]\n",
      " [5 7 4 6 4 7 8 2 6 7 8 4 2 3 4 1 1 0 1 2]\n",
      " [1 7 9 1 8 8 7 8 5 6 4 2 0 9 9 8 1 5 2 6]\n",
      " [4 5 7 4 2 5 3 0 3 3 3 3 0 5 2 0 4 9 3 4]\n",
      " [0 0 7 4 6 9 5 7 5 6 0 7 3 2 2 2 0 7 5 8]\n",
      " [7 8 5 2 5 9 3 4 5 7 1 2 9 2 4 3 0 2 6 6]\n",
      " [9 9 7 3 3 9 9 4 2 9 8 4 8 2 8 2 2 3 9 6]\n",
      " [5 2 7 2 1 1 7 1 6 3 8 5 0 8 3 1 4 6 4 8]\n",
      " [6 7 7 1 8 2 1 4 8 8 7 8 5 3 4 1 6 7 0 1]\n",
      " [2 2 7 7 9 6 8 4 0 1 0 9 1 7 4 2 9 3 1 2]\n",
      " [4 1 7 1 0 0 1 2 9 4 2 3 2 3 9 6 4 6 1 7]\n",
      " [5 1 3 7 6 5 7 2 4 1 8 7 0 2 4 1 1 9 7 5]\n",
      " [9 8 8 9 3 8 5 2 0 0 0 6 4 0 1 9 1 4 4 9]\n",
      " [0 4 6 9 2 6 7 7 4 5 1 1 4 6 6 7 2 8 4 0]\n",
      " [3 1 0 8 2 4 5 1 6 5 1 4 4 7 0 8 1 7 6 9]]\n"
     ]
    }
   ],
   "source": [
    "print(votes.shape)\n",
    "print(votes)"
   ]
  },
  {
   "cell_type": "markdown",
   "id": "67969fd5",
   "metadata": {},
   "source": [
    "## Ejercicios - II\n",
    "\n",
    "1. Muestre el nombre de la canción en la primera fila\n",
    "2. Muestre el total de votos de en primera fila"
   ]
  },
  {
   "cell_type": "code",
   "execution_count": 19,
   "id": "7012dd65",
   "metadata": {},
   "outputs": [
    {
     "name": "stdout",
     "output_type": "stream",
     "text": [
      "Canción en el índice 0 I Don't Care (with Justin Bieber) - Loud Luxury Remix\n",
      "Votos de la canción en el índice 0 [7 2 9 3 7 4 1 9 6 4 7 9 0 5 8 0 3 2 8 6]\n"
     ]
    }
   ],
   "source": [
    "print(\"Canción en el índice 0\", songs[0])\n",
    "print(\"Votos de la canción en el índice 0\", votes[0, 0:])"
   ]
  },
  {
   "cell_type": "markdown",
   "id": "9e725564",
   "metadata": {},
   "source": [
    "## Ejercicios - III\n",
    "\n",
    "1. Muestre el total de votos de todas las canciones\n",
    "2. Muestre el valor mayor del total de votos de todas las canciones\n",
    "3. Muestre el índice del valor mayor del total de votos de todas las canciones\n",
    "4. Muestre el nombre de la canción con el valor mayor del total de votos de todas las canciones"
   ]
  },
  {
   "cell_type": "code",
   "execution_count": 21,
   "id": "d13a661f",
   "metadata": {},
   "outputs": [
    {
     "name": "stdout",
     "output_type": "stream",
     "text": [
      "Total de votos de todas las canciones:  2963\n"
     ]
    }
   ],
   "source": [
    "total = np.sum(votes)\n",
    "print(\"Total de votos de todas las canciones: \", total)"
   ]
  },
  {
   "cell_type": "code",
   "execution_count": null,
   "id": "514b4ee7",
   "metadata": {},
   "outputs": [],
   "source": []
  }
 ],
 "metadata": {
  "kernelspec": {
   "display_name": "Python 3 (ipykernel)",
   "language": "python",
   "name": "python3"
  },
  "language_info": {
   "codemirror_mode": {
    "name": "ipython",
    "version": 3
   },
   "file_extension": ".py",
   "mimetype": "text/x-python",
   "name": "python",
   "nbconvert_exporter": "python",
   "pygments_lexer": "ipython3",
   "version": "3.11.5"
  }
 },
 "nbformat": 4,
 "nbformat_minor": 5
}
