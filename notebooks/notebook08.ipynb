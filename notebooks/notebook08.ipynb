{
 "cells": [
  {
   "cell_type": "markdown",
   "id": "c4d733f7",
   "metadata": {},
   "source": [
    "## Matrices\n",
    "\n",
    "Las matrices son una estructura de datos bidimencional donde los elementos se organizan en filas y columnas. Python no tiene soporte integrado para matrices; sin embargo, [NumPy](https://numpy.org/) permite el manejo de matrices como **lista dentro de listas**.\n",
    "\n",
    "Ejemplo de esto: \n",
    "\n",
    "<div align=\"center\">\n",
    "    <img src=\"https://github.com/MCD-ESPOL/PCD/blob/main/notebooks/images/matriz.webp?raw=true\" width=\"40%\">\n",
    "    Fuente: <a href=\"https://pythondiario.com/2019/01/matrices-en-python-y-numpy.html\">Matrices en Python y NumPy</a>\n",
    "</div>\n",
    "\n",
    "Esta matriz es una matriz de 3x4 porque tiene 3 filas y 4 columnas. \n",
    "\n",
    "Revise la documentación en [NumPy documentation](https://numpy.org/doc/stable/)."
   ]
  },
  {
   "cell_type": "markdown",
   "id": "b28a49a3",
   "metadata": {},
   "source": [
    "## Importar librerías externas\n"
   ]
  },
  {
   "cell_type": "code",
   "execution_count": 2,
   "id": "86f533aa",
   "metadata": {},
   "outputs": [],
   "source": [
    "# Importe la librería numpy, con: import numpy as np\n",
    "# Importe la libreria matplotlib, con: import matplotlib.pyplot as plt\n",
    "\n",
    "import numpy as np\n",
    "import matplotlib.pyplot as plt"
   ]
  },
  {
   "cell_type": "markdown",
   "id": "3b300522",
   "metadata": {},
   "source": [
    "## De listas de listas a matrices\n",
    "\n",
    "Para crear [una matriz a partir de una lista de listas](https://www.geeksforgeeks.org/convert-python-nested-lists-to-multidimensional-numpy-arrays/), utilizaremos la función **array**.\n",
    "\n",
    "<div align=\"center\">\n",
    "    <img src=\"https://github.com/MCD-ESPOL/PCD/blob/main/notebooks/images/mat_lol.png?raw=true\" width=\"40%\">\n",
    "</div>\n",
    "\n",
    "<div align=\"center\">\n",
    "    <img src=\"https://github.com/MCD-ESPOL/PCD/blob/main/notebooks/images/mat_mat.png?raw=true\" width=\"35%\">\n",
    "</div>\n"
   ]
  },
  {
   "cell_type": "code",
   "execution_count": 39,
   "id": "cd9b1394",
   "metadata": {},
   "outputs": [],
   "source": [
    "# Utilice la función array para convertir la listaDeLista en una matriz \n",
    "# Muestre por pantalla la matriz\n",
    "\n",
    "listaDeLista = [[1, 4, 5], [-5, 8, 9]]\n",
    "\n",
    "matriz = \n"
   ]
  },
  {
   "cell_type": "markdown",
   "id": "e7263fdc",
   "metadata": {},
   "source": [
    "## Acceso a elementos\n",
    "\n",
    "Numpy utiliza la notación por índices en las **filas** y en las **columnas** para acceder a un elemento o a un grupo de elementos en una matriz.\n",
    "\n",
    "\n",
    "<div align=\"center\">\n",
    "    <img src=\"https://github.com/MCD-ESPOL/PCD/blob/main/notebooks/images/mat_indices.png?raw=true\" width=\"20%\">\n",
    "</div>\n",
    "\n"
   ]
  },
  {
   "cell_type": "markdown",
   "id": "bbf79ee8",
   "metadata": {},
   "source": [
    "### Elementos\n",
    "\n",
    "Para acceder a un elemento, debe:\n",
    "\n",
    "* Fila:     indexar la fila con el valor del **índice** (p.e.: _1_), y \n",
    "* Columna:     indexar la columna con el valor del **índice** (p.e.: _2_).\n",
    "\n",
    "\n",
    "<div align=\"center\">\n",
    "    <img src=\"https://github.com/MCD-ESPOL/PCD/blob/main/notebooks/images/mat_ele12.png?raw=true\" width=\"40%\">\n",
    "</div>"
   ]
  },
  {
   "cell_type": "code",
   "execution_count": 6,
   "id": "e80304d4",
   "metadata": {},
   "outputs": [],
   "source": [
    "# Obtenga y muestre el elemento en la fila 0, columna 2\n"
   ]
  },
  {
   "cell_type": "code",
   "execution_count": 7,
   "id": "ff17e2e6",
   "metadata": {},
   "outputs": [],
   "source": [
    "# Obtenga y muestre el elemento en la fila 1, columna 1\n"
   ]
  },
  {
   "cell_type": "code",
   "execution_count": 8,
   "id": "39ad50a2",
   "metadata": {},
   "outputs": [],
   "source": [
    "# Obtenga y muestre el elemento en la fila 0, columna 1\n"
   ]
  },
  {
   "cell_type": "code",
   "execution_count": 9,
   "id": "1ef41f8f",
   "metadata": {},
   "outputs": [],
   "source": [
    "# Obtenga y muestre el elemento en la fila 1, columna 0\n"
   ]
  },
  {
   "cell_type": "markdown",
   "id": "54494e7f",
   "metadata": {},
   "source": [
    "### Filas\n",
    "\n",
    "Para acceder a todos los elementos en la primera fila, debe:\n",
    "\n",
    "* Fila:     indexar la fila con el valor del **índice** (p.e.: _0_), y   \n",
    "* Columna:  rebanar todas las columnas **desde inicio hasta el final** (p.e.: _0:_).\n",
    "\n",
    "<div align=\"center\">\n",
    "    <img src=\"https://github.com/MCD-ESPOL/PCD/blob/main/notebooks/images/mat_fila0.png?raw=true\" width=\"30%\">\n",
    "</div>\n"
   ]
  },
  {
   "cell_type": "code",
   "execution_count": null,
   "id": "cb3519f4",
   "metadata": {},
   "outputs": [],
   "source": [
    "# Obtenga y muestre la fila 0 de la matriz\n"
   ]
  },
  {
   "cell_type": "code",
   "execution_count": 50,
   "id": "af10ac06",
   "metadata": {},
   "outputs": [],
   "source": [
    "# Obtenga y muestre la fila 1 de la matriz\n"
   ]
  },
  {
   "cell_type": "markdown",
   "id": "d195880c",
   "metadata": {},
   "source": [
    "### Columnas\n",
    "\n",
    "Para acceder a todos los elementos en la segunda columna, debe:\n",
    "\n",
    "* Fila:     rebanar todas las filas **desde inicio hasta el final** (p.e.: _0:_), y   \n",
    "* Columna:  indexar la columna con el valor del **índice** (p.e.: _1_).\n",
    "\n",
    "\n",
    "<div align=\"center\">\n",
    "    <img src=\"https://github.com/MCD-ESPOL/PCD/blob/main/notebooks/images/mat_columna1.png?raw=true\" width=\"30%\">\n",
    "</div>\n"
   ]
  },
  {
   "cell_type": "code",
   "execution_count": 17,
   "id": "3fa6ae10",
   "metadata": {},
   "outputs": [],
   "source": [
    "# Muestre todas las columna de matriz por separado\n"
   ]
  },
  {
   "cell_type": "markdown",
   "id": "1d43ab90",
   "metadata": {},
   "source": [
    "### Submatrices\n",
    "\n",
    "Para acceder a la submatriz conformada por las **dos primeras filas** y las **dos primeras columnas**, debe:\n",
    "\n",
    "* Fila: rebanar todas las filas desde inicio hasta el final (p.e.: 0:), y\n",
    "* Columna: rebanar las columnas desde inicio hasta antes de la columna 2  (p.e.: 0:2).\n",
    "\n",
    "<div align=\"center\">\n",
    "    <img src=\"https://github.com/MCD-ESPOL/PCD/blob/main/notebooks/images/mat_matrix0.png?raw=true\" width=\"30%\">\n",
    "</div>\n",
    "\n"
   ]
  },
  {
   "cell_type": "code",
   "execution_count": null,
   "id": "dc28250e",
   "metadata": {},
   "outputs": [],
   "source": [
    "# Muestre la submatriz conformada por las dos primeras filas y las dos columnas \n"
   ]
  },
  {
   "cell_type": "code",
   "execution_count": 18,
   "id": "9bb56ed0",
   "metadata": {},
   "outputs": [],
   "source": [
    "# Muestre la submatriz conformada por las dos últimas filas y las dos columnas \n"
   ]
  },
  {
   "cell_type": "markdown",
   "id": "66939859",
   "metadata": {},
   "source": [
    "## Archivos\n",
    "\n",
    "Descargue los archivos [songs.csv](https://github.com/MCD-ESPOL/PCD/blob/main/notebooks/songs.csv) y [votes.csv](https://github.com/MCD-ESPOL/PCD/blob/main/notebooks/votes.csv). Luego, coloque los archivos csv en el mismo directorio que este cuaderno."
   ]
  },
  {
   "cell_type": "markdown",
   "id": "4eba8870",
   "metadata": {},
   "source": [
    "## Carga de datos\n",
    "\n",
    "\n",
    "Utilice la función [loadtxt](https://numpy.org/doc/stable/reference/generated/numpy.loadtxt.html) para cargar los datos de un archivo de texto."
   ]
  },
  {
   "cell_type": "code",
   "execution_count": null,
   "id": "8066c240",
   "metadata": {},
   "outputs": [],
   "source": [
    "# Cargue los datos de 'songs.csv', cuyo delimitador es ';' y el tipo de dato (dtype) es str\n"
   ]
  },
  {
   "cell_type": "code",
   "execution_count": null,
   "id": "334e4e04",
   "metadata": {},
   "outputs": [],
   "source": [
    "# Cargue los datos de 'votes.csv', cuyo delimitador es ',' y el tipo de dato (dtype) es int"
   ]
  },
  {
   "cell_type": "code",
   "execution_count": null,
   "id": "19fe8053",
   "metadata": {},
   "outputs": [],
   "source": []
  },
  {
   "cell_type": "code",
   "execution_count": null,
   "id": "b9a6ba65",
   "metadata": {},
   "outputs": [],
   "source": []
  }
 ],
 "metadata": {
  "kernelspec": {
   "display_name": "Python 3 (ipykernel)",
   "language": "python",
   "name": "python3"
  },
  "language_info": {
   "codemirror_mode": {
    "name": "ipython",
    "version": 3
   },
   "file_extension": ".py",
   "mimetype": "text/x-python",
   "name": "python",
   "nbconvert_exporter": "python",
   "pygments_lexer": "ipython3",
   "version": "3.11.5"
  }
 },
 "nbformat": 4,
 "nbformat_minor": 5
}
