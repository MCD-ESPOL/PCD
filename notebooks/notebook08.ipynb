{
 "cells": [
  {
   "cell_type": "markdown",
   "id": "0a123896",
   "metadata": {},
   "source": [
    "## Matrices\n",
    "\n",
    "Las matrices son una estructura de datos bidimencional donde los elementos se organizan en filas y columnas. Python no tiene soporte integrado para matrices; sin embargo, [NumPy](https://numpy.org/) permite el manejo de matrices como **lista dentro de listas**.\n",
    "\n",
    "Ejemplo de esto: \n",
    "\n",
    "<div align=\"center\">\n",
    "    <img src=\"https://github.com/MCD-ESPOL/PCD/blob/main/notebooks/images/matriz.webp?raw=true\" width=\"40%\">\n",
    "    Fuente: <a href=\"https://pythondiario.com/2019/01/matrices-en-python-y-numpy.html\">Matrices en Python y NumPy</a>\n",
    "</div>\n",
    "\n",
    "Esta matriz es una matriz de 3x4 porque tiene 3 filas y 4 columnas. \n",
    "\n",
    "Revise la documentación en [NumPy documentation](https://numpy.org/doc/stable/)."
   ]
  },
  {
   "cell_type": "markdown",
   "id": "b56f5e34",
   "metadata": {},
   "source": [
    "## Importar librerías externas\n"
   ]
  },
  {
   "cell_type": "code",
   "execution_count": 3,
   "id": "bc87d9d9",
   "metadata": {},
   "outputs": [],
   "source": [
    "# Importe la librería numpy, con: import numpy as np\n",
    "# Importe la libreria matplotlib, con: import matplotlib.pyplot as plt\n",
    "\n",
    "import numpy as np\n",
    "import matplotlib.pyplot as plt"
   ]
  },
  {
   "cell_type": "markdown",
   "id": "a750f5fc",
   "metadata": {},
   "source": [
    "## De listas de listas a matrices\n",
    "\n",
    "Para crear [una matriz a partir de una lista de listas](https://www.geeksforgeeks.org/convert-python-nested-lists-to-multidimensional-numpy-arrays/), utilizaremos la función **array**.\n",
    "\n",
    "<div align=\"center\">\n",
    "    <img src=\"https://github.com/MCD-ESPOL/PCD/blob/main/notebooks/images/mat_lol.png?raw=true\" width=\"40%\">\n",
    "</div>\n",
    "\n",
    "<div align=\"center\">\n",
    "    <img src=\"https://github.com/MCD-ESPOL/PCD/blob/main/notebooks/images/mat_mat.png?raw=true\" width=\"35%\">\n",
    "</div>\n"
   ]
  },
  {
   "cell_type": "code",
   "execution_count": 39,
   "id": "33624501",
   "metadata": {},
   "outputs": [],
   "source": [
    "# Convierta la lista de listas en una matriz \n",
    "# Muestre por pantalla la matriz\n",
    "\n",
    "listaDeLista = [[1, 4, 5], [-5, 8, 9]]\n",
    "\n",
    "\n"
   ]
  },
  {
   "cell_type": "markdown",
   "id": "fa494677",
   "metadata": {},
   "source": [
    "## Filas y Columnas\n",
    "\n",
    "Numpy utiliza el concepto **filas** y **columnas** para acceder a un elemento o a un grupo de elementos en una matriz.\n",
    "\n",
    "\n",
    "<div align=\"center\">\n",
    "    <img src=\"https://github.com/MCD-ESPOL/PCD/blob/main/notebooks/images/mat_indices.png?raw=true\" width=\"20%\">\n",
    "</div>\n",
    "\n",
    "Para acceder a todos los elementos en la fila con el **índice 0**.\n",
    "\n",
    "\n",
    "<div align=\"center\">\n",
    "    <img src=\"https://github.com/MCD-ESPOL/PCD/blob/main/notebooks/images/mat_fila0.png?raw=true\" width=\"20%\">\n",
    "</div>\n"
   ]
  },
  {
   "cell_type": "code",
   "execution_count": null,
   "id": "f32e117c",
   "metadata": {},
   "outputs": [],
   "source": []
  },
  {
   "cell_type": "code",
   "execution_count": null,
   "id": "8e2c596f",
   "metadata": {},
   "outputs": [],
   "source": []
  },
  {
   "cell_type": "code",
   "execution_count": null,
   "id": "e2d9be76",
   "metadata": {},
   "outputs": [],
   "source": []
  },
  {
   "cell_type": "code",
   "execution_count": null,
   "id": "c3691bb5",
   "metadata": {},
   "outputs": [],
   "source": []
  },
  {
   "cell_type": "code",
   "execution_count": 8,
   "id": "d8a6591d",
   "metadata": {},
   "outputs": [
    {
     "name": "stdout",
     "output_type": "stream",
     "text": [
      "Lista de lista: \n",
      "[[1, 7, 0], [6, 2, 5]]\n"
     ]
    }
   ],
   "source": [
    "listaDeLista = [[1, 7, 0], [ 6, 2, 5]] \n",
    "print(\"Lista de lista: \")\n",
    "print(listaDeLista)"
   ]
  },
  {
   "cell_type": "code",
   "execution_count": 42,
   "id": "3493100d",
   "metadata": {},
   "outputs": [
    {
     "name": "stdout",
     "output_type": "stream",
     "text": [
      "Matriz: \n",
      "[[ 1  4  5]\n",
      " [-5  8  9]]\n"
     ]
    }
   ],
   "source": [
    "matriz = np.array(listaDeLista)\n",
    "print(\"Matriz: \")\n",
    "print(matriz)"
   ]
  },
  {
   "cell_type": "markdown",
   "id": "121e9b37",
   "metadata": {},
   "source": [
    "\n",
    "```python\n",
    "índices:\n",
    "          columna\n",
    "          0  1  2\n",
    "fila      ↓  ↓  ↓\n",
    " 0   → [[ 1  4  5]\n",
    " 1   →  [-5  8  9]]\n",
    "```\n"
   ]
  },
  {
   "cell_type": "code",
   "execution_count": 43,
   "id": "01396faf",
   "metadata": {},
   "outputs": [
    {
     "name": "stdout",
     "output_type": "stream",
     "text": [
      "Fila 0:  [1 4 5]\n"
     ]
    }
   ],
   "source": [
    "fila0 = matriz[0,:]\n",
    "print(\"Fila 0: \", fila0)"
   ]
  },
  {
   "cell_type": "code",
   "execution_count": 37,
   "id": "a9b29fb3",
   "metadata": {},
   "outputs": [
    {
     "data": {
      "text/plain": [
       "array([[0.97005452, 0.43312126],\n",
       "       [0.66469674, 0.45413063],\n",
       "       [0.34282564, 0.95779111]])"
      ]
     },
     "execution_count": 37,
     "metadata": {},
     "output_type": "execute_result"
    }
   ],
   "source": [
    "## Matriz con valores aleatorios\n",
    "\n",
    "np.random.rand(3,2)"
   ]
  }
 ],
 "metadata": {
  "kernelspec": {
   "display_name": "Python 3 (ipykernel)",
   "language": "python",
   "name": "python3"
  },
  "language_info": {
   "codemirror_mode": {
    "name": "ipython",
    "version": 3
   },
   "file_extension": ".py",
   "mimetype": "text/x-python",
   "name": "python",
   "nbconvert_exporter": "python",
   "pygments_lexer": "ipython3",
   "version": "3.11.5"
  }
 },
 "nbformat": 4,
 "nbformat_minor": 5
}
