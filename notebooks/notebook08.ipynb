{
 "cells": [
  {
   "cell_type": "markdown",
   "id": "6172ca88",
   "metadata": {},
   "source": [
    "# Tabla de Contenidos\n",
    "\n",
    "* [Contenidos](#Tabla-de-Contenidos)\n",
    "    * [Importar librerías externas](#Importar-librerías-externas)\n",
    "    * [Listas y Listas de listas](#Listas-y-Listas-de-listas)\n",
    "        * [Limitantes de operaciones entre listas](#Limitantes-de-operaciones-entre-listas)\n",
    "    * [Arreglos y matrices](#Arreglos-y-matrices)\n",
    "    * [Operaciones entre arreglos y escalares](#Operaciones-entre-arreglos-y-escalares)\n",
    "        * [Entre arreglos y escalares](#Entre-arreglos-y-escalares)\n",
    "        * [Entre arreglos](#Entre-arreglos)\n",
    "    * [Operaciones matriciales](#Operaciones-matriciales)\n",
    "        * [Operaciones con un escalar](#Operaciones-con-un-escalar)\n",
    "        * [Operaciones entre matrices](#Operaciones-entre-matrices)\n",
    "        * [Operaciones de todos los elementos](#Operaciones-de-todos-los-elementos)\n",
    "        * [Operaciones por columnas o por filas](#Operaciones-por-columnas-o-por-filas)\n",
    "    * [Archivos](#Archivos)\n",
    "        * [Carga de datos](#Carga-de-datos)\n",
    "* [Ejercicios](#Ejercicios)"
   ]
  },
  {
   "cell_type": "markdown",
   "id": "3e0e2060",
   "metadata": {},
   "source": [
    "## Importar librerías externas"
   ]
  },
  {
   "cell_type": "code",
   "execution_count": 1,
   "id": "265100f4",
   "metadata": {},
   "outputs": [],
   "source": [
    "# Importe la librería numpy, con: import numpy as np\n",
    "# Importe la libreria matplotlib, con: import matplotlib.pyplot as plt\n",
    "\n",
    "import numpy as np\n",
    "import matplotlib.pyplot as plt"
   ]
  },
  {
   "cell_type": "markdown",
   "id": "d28d8316",
   "metadata": {},
   "source": [
    "## Listas y Listas de listas"
   ]
  },
  {
   "cell_type": "code",
   "execution_count": 5,
   "id": "0f6cb696",
   "metadata": {},
   "outputs": [],
   "source": [
    "# Cargue las listas y las listas de listas \n",
    "\n",
    "lista1 = [11, 12,  9,  3, 14,  9]\n",
    "lista2 = [ 6, 11, 10, 12,  9, 10]\n",
    "\n",
    "\n",
    "listaDelistas1 = [[14,  5,  4, 13,  8, 14],\n",
    "                  [10,  2,  9,  9,  3,  4],\n",
    "                  [ 9,  4, 11,  7,  9, 13],\n",
    "                  [14,  5, 14, 12, 13,  9],\n",
    "                  [12,  3,  5,  5,  4,  8]]\n",
    "\n",
    "listaDelistas2 = [[ 1,  6,  2,  5, 10,  8],\n",
    "                  [13, 11, 14, 11,  4, 10],\n",
    "                  [14, 13,  3, 14,  5,  7],\n",
    "                  [ 2,  2,  8, 14,  2,  4],\n",
    "                  [11,  6, 12,  3,  4,  2]]"
   ]
  },
  {
   "cell_type": "markdown",
   "id": "58d5daab",
   "metadata": {},
   "source": [
    "### Limitantes de operaciones entre listas"
   ]
  },
  {
   "cell_type": "code",
   "execution_count": 1,
   "id": "557752d0",
   "metadata": {},
   "outputs": [],
   "source": [
    "# Sume elemento por elemento de la lista1 con la lista2\n",
    "# Muestre el resultado por pantalla\n",
    "\n"
   ]
  },
  {
   "cell_type": "code",
   "execution_count": 8,
   "id": "2ebcbcd9",
   "metadata": {},
   "outputs": [],
   "source": [
    "# Sume elementos por elemento de la listaDelistas1 con la listaDelistas2\n",
    "# Muestre el resultado por pantalla\n"
   ]
  },
  {
   "cell_type": "markdown",
   "id": "68eb9465",
   "metadata": {},
   "source": [
    "## Arreglos y matrices \n",
    "\n",
    "Convierta las listas en arreglos (1-dimensión) y matrices (2-dimensiones)."
   ]
  },
  {
   "cell_type": "code",
   "execution_count": null,
   "id": "a00b2fec",
   "metadata": {},
   "outputs": [],
   "source": [
    "# Convierta las listas en arreglos y las listas de listas en matrices\n",
    "\n",
    "arreglo1 = \n",
    "arreglo2 = \n",
    "\n",
    "matriz1 = \n",
    "matriz2 = "
   ]
  },
  {
   "cell_type": "code",
   "execution_count": null,
   "id": "60ad1bc3",
   "metadata": {},
   "outputs": [],
   "source": [
    "# Muestre los arreglos y las matrices\n",
    "\n"
   ]
  },
  {
   "cell_type": "markdown",
   "id": "e1683bf7",
   "metadata": {},
   "source": [
    "[Regresar a la TC](#Tabla-de-Contenidos)"
   ]
  },
  {
   "cell_type": "markdown",
   "id": "f5ae106c",
   "metadata": {},
   "source": [
    "## Operaciones entre arreglos y escalares"
   ]
  },
  {
   "cell_type": "markdown",
   "id": "cab20ca5",
   "metadata": {},
   "source": [
    "### Entre arreglos y escalares\n",
    "\n",
    "Numpy permite optimizar las operaciones entre [un arreglo y un escalar](https://scipy-lectures.org/intro/numpy/operations.html#id2); por ejemplo, el `arreglo3` contiene el resultado de la suma de cada elemento del `arreglo1` con `5.2`.\n",
    "\n",
    "\n",
    "\n",
    "<div align=\"center\">\n",
    "    <img src=\"https://github.com/MCD-ESPOL/PCD/blob/main/notebooks/images/arr_b1.png?raw=true\" width=\"35%\">\n",
    "</div>"
   ]
  },
  {
   "cell_type": "code",
   "execution_count": null,
   "id": "435c4249",
   "metadata": {},
   "outputs": [],
   "source": [
    "# En arreglo4 asigne el resultado de sumar arreglo2 con el número 4. \n",
    "# Muestre el arreglo2 y el arreglo4.\n"
   ]
  },
  {
   "cell_type": "markdown",
   "id": "f3a12028",
   "metadata": {},
   "source": [
    "<details>\n",
    "  <summary><div>→ Haga click aquí para ver la solución</div></summary>\n",
    "  <pre lang=\"python\"><code>\n",
    "arreglo4 = arreglo2 + 4\n",
    "print(f\"Arreglo 2: {arreglo2} + 4\")\n",
    "print(f\"Arreglo 4: {arreglo4}\")\n",
    "  </code></pre>\n",
    "</details> "
   ]
  },
  {
   "cell_type": "code",
   "execution_count": null,
   "id": "5fa94cf4",
   "metadata": {},
   "outputs": [],
   "source": [
    "# En arreglo5 asigne el resultado de multiplicar arreglo1 con 2.3. \n",
    "# Muestre el arreglo1 y el arreglo5.\n",
    "\n"
   ]
  },
  {
   "cell_type": "markdown",
   "id": "7cbdb7aa",
   "metadata": {},
   "source": [
    "<details>\n",
    "  <summary><div>→ Haga click aquí para ver la solución</div></summary>\n",
    "  <pre lang=\"python\"><code>\n",
    "arreglo5 = arreglo1 * 2.3\n",
    "print(f\"Arreglo 1: {arreglo1} * 2.3\")\n",
    "print(f\"Arreglo 5: {arreglo5}\")\n",
    "  </code></pre>\n",
    "</details> "
   ]
  },
  {
   "cell_type": "markdown",
   "id": "b1d57d9a",
   "metadata": {},
   "source": [
    "[Regresar a la TC](#Tabla-de-Contenidos)"
   ]
  },
  {
   "cell_type": "markdown",
   "id": "4b2d713b",
   "metadata": {},
   "source": [
    "### Entre arreglos\n",
    "\n",
    "NumPy proporciona una amplia gama de [operaciones que se pueden realizar entre arreglos](https://www.programiz.com/python-programming/numpy/basic-array-operations). En el ejemplo, la multiplicación entre `arreglo1` y `arreglo2`ocurre entre cada elemento correspondiente, dado que tienen el mismo tamaño.\n",
    "\n",
    "\n",
    "<div align=\"center\">\n",
    "    <img src=\"https://github.com/MCD-ESPOL/PCD/blob/main/notebooks/images/arr_b2.png?raw=true\" width=\"35%\">\n",
    "</div>\n"
   ]
  },
  {
   "cell_type": "code",
   "execution_count": null,
   "id": "0bd1a7af",
   "metadata": {},
   "outputs": [],
   "source": [
    "# En arreglo8 asigne el resultado de dividir arreglo1 y arreglo4. \n",
    "# Muestre los arreglos que intervienen en la operación.\n",
    "\n"
   ]
  },
  {
   "cell_type": "markdown",
   "id": "114c48ab",
   "metadata": {},
   "source": [
    "<details>\n",
    "  <summary><div>→ Haga click aquí para ver la solución</div></summary>\n",
    "  <pre lang=\"python\"><code>\n",
    "arreglo8 = arreglo1 / arreglo4 \n",
    "print(f\"{arreglo1} / {arreglo4}\")\n",
    "print(f\"Arreglo 8: {arreglo8}\")\n",
    "  </code></pre>\n",
    "</details> "
   ]
  },
  {
   "cell_type": "code",
   "execution_count": null,
   "id": "81ee7761",
   "metadata": {},
   "outputs": [],
   "source": [
    "# En arreglo9 asigne el resultado de sumar arreglo2 y arreglo5. \n",
    "# Muestre los arreglos que intervienen en la operación.\n",
    "\n"
   ]
  },
  {
   "cell_type": "markdown",
   "id": "f54d1696",
   "metadata": {},
   "source": [
    "<details>\n",
    "  <summary><div>→ Haga click aquí para ver la solución</div></summary>\n",
    "  <pre lang=\"python\"><code>\n",
    "arreglo9 = arreglo2 + arreglo5\n",
    "print(f\"{arreglo2} + {arreglo5}\")\n",
    "print(f\"Arreglo 9: {arreglo9}\")\n",
    "  </code></pre>\n",
    "</details> "
   ]
  },
  {
   "cell_type": "markdown",
   "id": "1ec4e86b",
   "metadata": {},
   "source": [
    "[Regresar a la TC](#Tabla-de-Contenidos)"
   ]
  },
  {
   "cell_type": "markdown",
   "id": "ab802e27",
   "metadata": {},
   "source": [
    "## Operaciones matriciales\n",
    "\n",
    "NumPy provee de operaciones matriciales como suma, multiplicación y potenciación. El empleo de matrices nos permite ejecutar operaciones algebraicas, lo que nos permite ejecutar numerosas operaciones con grandes cantidades de datos de manera efectiva. [How to Implement Different Operations on Matrices in NumPy?](https://www.scaler.com/topics/numpy-implement-different-operations-on-matrix/) muestran las operaciones más comunes entre matrices mediante ejemplos."
   ]
  },
  {
   "cell_type": "markdown",
   "id": "b57a6f51",
   "metadata": {},
   "source": [
    "### Operaciones con un escalar\n",
    "\n",
    "En el ejemplo, la `matriz3` contiene el resultado de multiplicar `1.12` y `matriz1`, al multiplicar cada elemento por el escalar.\n",
    "\n",
    "<div align=\"center\">\n",
    "    <img src=\"https://github.com/MCD-ESPOL/PCD/blob/main/notebooks/images/arr_b3.png?raw=true\" width=\"30%\">\n",
    "</div>"
   ]
  },
  {
   "cell_type": "code",
   "execution_count": null,
   "id": "d8abebf4",
   "metadata": {},
   "outputs": [],
   "source": [
    "# En matriz4 asigne el resultado de sumar 3.2 y matriz2. \n",
    "# Muestre las matrices que intervienen en la operación.\n",
    "\n"
   ]
  },
  {
   "cell_type": "markdown",
   "id": "a15ea421",
   "metadata": {},
   "source": [
    "<details>\n",
    "  <summary><div>→ Haga click aquí para ver la solución</div></summary>\n",
    "  <pre lang=\"python\"><code>\n",
    "matriz4 = 3.2 + matriz2\n",
    "print(\"3.2 + \")\n",
    "print(\"\\nMatriz 2\")\n",
    "print(matriz2)\n",
    "print(\"\\nMatriz 4: \")\n",
    "print(matriz4)\n",
    "  </code></pre>\n",
    "</details> "
   ]
  },
  {
   "cell_type": "code",
   "execution_count": null,
   "id": "1300a5f2",
   "metadata": {},
   "outputs": [],
   "source": [
    "# En matriz5 asigne el resultado de dividir matriz1 para 2. \n",
    "# Muestre las matrices que intervienen en la operación.\n",
    "\n"
   ]
  },
  {
   "cell_type": "markdown",
   "id": "49fb481e",
   "metadata": {},
   "source": [
    "<details>\n",
    "  <summary><div>→ Haga click aquí para ver la solución</div></summary>\n",
    "  <pre lang=\"python\"><code>\n",
    "matriz5 = matriz1 / 2\n",
    "print(\"Matriz 1\")\n",
    "print(matriz1)\n",
    "print(\"\\n/ 2\")\n",
    "print(\"\\nMatriz 5: \")\n",
    "print(matriz5)\n",
    "  </code></pre>\n",
    "</details> "
   ]
  },
  {
   "cell_type": "markdown",
   "id": "58322a64",
   "metadata": {},
   "source": [
    "[Regresar a la TC](#Tabla-de-Contenidos)"
   ]
  },
  {
   "cell_type": "markdown",
   "id": "6290af16",
   "metadata": {},
   "source": [
    "### Operaciones entre matrices\n",
    "\n",
    "Para matrices de igual número de filas y columnas, es posible realizar las operaciones matemáticas básicas para cada elemento de las matrices. Por ejemplo, `matriz6` contiene el resultado de restar `matriz1` y `matriz2`.\n",
    "\n",
    "<div align=\"center\">\n",
    "    <img src=\"https://github.com/MCD-ESPOL/PCD/blob/main/notebooks/images/arr_b4.png?raw=true\" width=\"30%\">\n",
    "</div>"
   ]
  },
  {
   "cell_type": "code",
   "execution_count": null,
   "id": "f4a53da2",
   "metadata": {},
   "outputs": [],
   "source": [
    "# En matriz7 asigne el resultado de sumar matriz2 y matriz1. \n",
    "# Muestre las matrices que intervienen en la operación.\n",
    "\n"
   ]
  },
  {
   "cell_type": "markdown",
   "id": "b13bdcc4",
   "metadata": {},
   "source": [
    "<details>\n",
    "  <summary><div>→ Haga click aquí para ver la solución</div></summary>\n",
    "  <pre lang=\"python\"><code>\n",
    "matriz7 = matriz2 + matriz1\n",
    "print(\"Matriz 2\")\n",
    "print(matriz2)\n",
    "print(\"\\n+\")\n",
    "print(\"\\nMatriz 1\")\n",
    "print(matriz1)\n",
    "print(\"\\nMatriz 7: \")\n",
    "print(matriz7)\n",
    "  </code></pre>\n",
    "</details> "
   ]
  },
  {
   "cell_type": "code",
   "execution_count": null,
   "id": "bbb81ecd",
   "metadata": {},
   "outputs": [],
   "source": [
    "# En matriz8 asigne el resultado de multiplicar matriz2 y matriz1. \n",
    "# Muestre las matrices que intervienen en la operación.\n",
    "\n"
   ]
  },
  {
   "cell_type": "markdown",
   "id": "46db3845",
   "metadata": {},
   "source": [
    "<details>\n",
    "  <summary><div>→ Haga click aquí para ver la solución</div></summary>\n",
    "  <pre lang=\"python\"><code>\n",
    "matriz8 = matriz2 * matriz1\n",
    "print(\"Matriz 2\")\n",
    "print(matriz2)\n",
    "print(\"\\n*\")\n",
    "print(\"\\nMatriz 1\")\n",
    "print(matriz1)\n",
    "print(\"\\nMatriz 8: \")\n",
    "print(matriz8)\n",
    "  </code></pre>\n",
    "</details> "
   ]
  },
  {
   "cell_type": "markdown",
   "id": "1526964e",
   "metadata": {},
   "source": [
    "[Regresar a la TC](#Tabla-de-Contenidos)"
   ]
  },
  {
   "cell_type": "markdown",
   "id": "c010f0cd",
   "metadata": {},
   "source": [
    "### Operaciones de todos los elementos\n",
    "\n",
    "La función [np.sum()](https://numpy.org/doc/stable/reference/generated/numpy.sum.html) se utiliza para determinar la suma de todos los elementos de la matriz NumPy.\n",
    "\n",
    "<div align=\"center\">\n",
    "    <img src=\"https://github.com/MCD-ESPOL/PCD/blob/main/notebooks/images/arr_b5.png?raw=true\" width=\"45%\">\n",
    "</div>"
   ]
  },
  {
   "cell_type": "code",
   "execution_count": null,
   "id": "d5b18bde",
   "metadata": {},
   "outputs": [],
   "source": [
    "# En total7 asigne el resultado de sumar todos los elementos de la matriz7. \n",
    "# Muestre la variable total7.\n",
    "\n"
   ]
  },
  {
   "cell_type": "markdown",
   "id": "e51020e3",
   "metadata": {},
   "source": [
    "<details>\n",
    "  <summary><div>→ Haga click aquí para ver la solución</div></summary>\n",
    "  <pre lang=\"python\"><code>\n",
    "total7 = np.sum(matriz7)\n",
    "print(f\"El total de matriz7 es: {total7}\")\n",
    "  </code></pre>\n",
    "</details> "
   ]
  },
  {
   "cell_type": "code",
   "execution_count": null,
   "id": "1ba2851f",
   "metadata": {},
   "outputs": [],
   "source": [
    "# En total8 asigne el resultado de sumar todos los elementos de la matriz8. \n",
    "# Muestre la variable total8.\n",
    "\n"
   ]
  },
  {
   "cell_type": "markdown",
   "id": "4c135beb",
   "metadata": {},
   "source": [
    "<details>\n",
    "  <summary><div>→ Haga click aquí para ver la solución</div></summary>\n",
    "  <pre lang=\"python\"><code>\n",
    "total8 = np.sum(matriz8)\n",
    "print(f\"El total de matriz8 es: {total8}\")\n",
    "  </code></pre>\n",
    "</details> "
   ]
  },
  {
   "cell_type": "markdown",
   "id": "b3962ee1",
   "metadata": {},
   "source": [
    "[Regresar a la TC](#Tabla-de-Contenidos)"
   ]
  },
  {
   "cell_type": "markdown",
   "id": "f210e70c",
   "metadata": {},
   "source": [
    "### Operaciones de todas las columnas o de todas las filas\n",
    "\n",
    "La función de [np.sum()](https://numpy.org/doc/stable/reference/generated/numpy.sum.html) NumPy tiene varios parámetros que le permiten controlar el comportamiento de la función. \n",
    "\n",
    "Como se muestra en la figura, para sumar:\n",
    "- Todas las filas (a lo largo del eje vertical), se utiliza el parámetro `axis = 0`. \n",
    "- Todas las columnas (a lo largo del eje horizontal), se utiliza el parámetro `axis = 1`, \n",
    "\n",
    "<div align=\"center\">\n",
    "    <img src=\"https://github.com/MCD-ESPOL/PCD/blob/main/notebooks/images/arr_b7.png?raw=true\" width=\"35%\">\n",
    "    <br>\n",
    "    Fuente: <a href=\"https://sebastianraschka.com/blog/2020/numpy-intro.html\">Scientific Computing in Python: Introduction to NumPy and Matplotlib</a>\n",
    "</div>"
   ]
  },
  {
   "cell_type": "markdown",
   "id": "59f3164f",
   "metadata": {},
   "source": [
    "En el ejemplo, la variable `sumaFilas` contiene el resultado de la suma de todas las filas (`axis = 0`); mientras que la variable `sumaColumnas` contiene el resultado de la suma de todas las columnas (`axis = 1`) \n",
    "\n",
    "<div align=\"center\">\n",
    "    <img src=\"https://github.com/MCD-ESPOL/PCD/blob/main/notebooks/images/arr_b6.png?raw=true\" width=\"35%\">\n",
    "</div>"
   ]
  },
  {
   "cell_type": "code",
   "execution_count": null,
   "id": "a643d10b",
   "metadata": {},
   "outputs": [],
   "source": [
    "# En el arreglo totalFilas asigne el resultado de sumar todas las filas de la matriz7. \n",
    "# Muestre el arreglo totalFilas.\n",
    "\n",
    "print(\"Matriz 7\")\n",
    "print(matriz7)\n",
    "\n",
    "print(\"\\nSuma de todas las filas (axis 0)\")\n",
    "totalFilas = np.sum(  , )\n",
    "\n",
    "print(totalFilas)"
   ]
  },
  {
   "cell_type": "markdown",
   "id": "6d5099c8",
   "metadata": {},
   "source": [
    "<details>\n",
    "  <summary><div>→ Haga click aquí para ver la solución</div></summary>\n",
    "  <pre lang=\"python\"><code>\n",
    "print(\"Matriz 7\")\n",
    "print(matriz7)\n",
    "\n",
    "print(\"\\nSuma de todas las filas (axis 0)\")\n",
    "totalFilas = np.sum( matriz7 , axis = 0)\n",
    "\n",
    "print(totalFilas)\n",
    "  </code></pre>\n",
    "</details> "
   ]
  },
  {
   "cell_type": "code",
   "execution_count": null,
   "id": "c4224a14",
   "metadata": {},
   "outputs": [],
   "source": [
    "# En el arreglo totalColumnas asigne el resultado de sumar todas las columnas de la matriz8. \n",
    "# Muestre el arreglo totalColumnas.\n",
    "\n",
    "print(\"Matriz 8\")\n",
    "print(matriz8)\n",
    "\n",
    "print(\"\\nSuma de todas las columnas (axis 1)\")\n",
    "totalColumnas = np.sum(  , )\n",
    "\n",
    "print(totalColumnas)"
   ]
  },
  {
   "cell_type": "markdown",
   "id": "7355e5fe",
   "metadata": {},
   "source": [
    "<details>\n",
    "  <summary><div>→ Haga click aquí para ver la solución</div></summary>\n",
    "  <pre lang=\"python\"><code>\n",
    "print(\"Matriz 8\")\n",
    "print(matriz8)\n",
    "\n",
    "print(\"\\nSuma de todas las columnas (axis 1)\")\n",
    "totalColumnas = np.sum( matriz8 , axis = 1)\n",
    "\n",
    "print(totalColumnas)\n",
    "  </code></pre>\n",
    "</details> "
   ]
  },
  {
   "cell_type": "markdown",
   "id": "5a1b2a70",
   "metadata": {},
   "source": [
    "[Regresar a la TC](#Tabla-de-Contenidos)"
   ]
  },
  {
   "cell_type": "markdown",
   "id": "e9fa0b83",
   "metadata": {},
   "source": [
    "## Archivos\n",
    "\n",
    "Descargue el archivo [produccion.zip](https://github.com/MCD-ESPOL/PCD/blob/main/notebooks/produccion.zip). Descomprima la carpeta **produccion** y mueva la carpeta en el mismo directorio de este cuaderno."
   ]
  },
  {
   "cell_type": "markdown",
   "id": "7806b1d3",
   "metadata": {},
   "source": [
    "## Carga de datos\n",
    "\n",
    "\n",
    "Utilice la función [loadtxt](https://numpy.org/doc/stable/reference/generated/numpy.loadtxt.html) para cargar los datos de un archivo de texto."
   ]
  },
  {
   "cell_type": "code",
   "execution_count": null,
   "id": "553b6d59",
   "metadata": {},
   "outputs": [],
   "source": [
    "# En el arreglo zonas, cargue los datos de 'produccion/zonas.csv', \n",
    "# cuyo delimitador es ',' y el tipo de dato (dtype) es str\n",
    "\n"
   ]
  },
  {
   "cell_type": "code",
   "execution_count": null,
   "id": "7d9ae544",
   "metadata": {},
   "outputs": [],
   "source": [
    "# Muestre el arreglo zonas\n",
    "# Muestre el tamaño del arreglo zonas\n",
    "\n"
   ]
  },
  {
   "cell_type": "markdown",
   "id": "8673c3e8",
   "metadata": {},
   "source": [
    "<details>\n",
    "  <summary><div>→ Haga click aquí para ver la solución</div></summary>\n",
    "  <pre lang=\"python\"><code>\n",
    "tamanioZonas = zonas.shape\n",
    "print(f\"Zonas: {zonas}\")\n",
    "print(f\"Tamaño de zonas: {tamanioZonas}\")\n",
    "  </code></pre>\n",
    "</details> "
   ]
  },
  {
   "cell_type": "code",
   "execution_count": null,
   "id": "7bde8e73",
   "metadata": {},
   "outputs": [],
   "source": [
    "# En el arreglo productos, cargue los datos de 'produccion/productos.csv', \n",
    "# cuyo delimitador es ',' y el tipo de dato (dtype) es str\n",
    "\n"
   ]
  },
  {
   "cell_type": "code",
   "execution_count": null,
   "id": "2214218d",
   "metadata": {},
   "outputs": [],
   "source": [
    "# Muestre el arreglo productos\n",
    "# Muestre el tamaño del arreglo productos\n",
    "\n"
   ]
  },
  {
   "cell_type": "markdown",
   "id": "d51b4756",
   "metadata": {},
   "source": [
    "<details>\n",
    "  <summary><div>→ Haga click aquí para ver la solución</div></summary>\n",
    "  <pre lang=\"python\"><code>\n",
    "tamanioProductos = productos.shape\n",
    "print(f\"Productos: {productos}\")\n",
    "print(f\"Tamaño de Productos: {tamanioProductos}\")\n",
    "  </code></pre>\n",
    "</details> "
   ]
  },
  {
   "cell_type": "code",
   "execution_count": null,
   "id": "dd3c79ef",
   "metadata": {},
   "outputs": [],
   "source": [
    "# En los arreglos octubre, noviembre y diciembre, cargue los datos de cada archivo con el nombre correspondiente\n",
    "# cuyo delimitador es ',' y el tipo de dato (dtype) es in\n",
    "\n"
   ]
  },
  {
   "cell_type": "code",
   "execution_count": null,
   "id": "ef8bc133",
   "metadata": {},
   "outputs": [],
   "source": [
    "# Muestre la matriz octubre\n",
    "\n"
   ]
  },
  {
   "cell_type": "code",
   "execution_count": null,
   "id": "7e40ecc4",
   "metadata": {},
   "outputs": [],
   "source": [
    "# Muestre el tamaño de la matriz octubre\n",
    "\n"
   ]
  },
  {
   "cell_type": "markdown",
   "id": "7286799f",
   "metadata": {},
   "source": [
    "<details>\n",
    "  <summary><div>→ Haga click aquí para ver la solución</div></summary>\n",
    "  <pre lang=\"python\"><code>\n",
    "tamanioOctubre = octubre.shape\n",
    "print(f\"Tamaño de Productos: {tamanioOctubre}\")\n",
    "  </code></pre>\n",
    "</details> "
   ]
  },
  {
   "cell_type": "markdown",
   "id": "ef124c18",
   "metadata": {},
   "source": [
    "[Regresar a la TC](#Tabla-de-Contenidos)"
   ]
  },
  {
   "cell_type": "markdown",
   "id": "7f5e9986",
   "metadata": {},
   "source": [
    "## Ejercicios\n",
    "\n",
    "Para los siguientes ejercicios, considere que las matrices `octubre`, `noviembre` y `diciembre` corresponden a la cantidad de productos elaborados en los tres últimos los meses del año pasado. \n",
    "\n",
    "Las **filas** están directamente relacionados con los `productos` y las **columnas** están directamente relacionadas con las `zonas` de producción.\n",
    "\n",
    "<br>\n",
    "<div align=\"center\">\n",
    "    <img src=\"https://github.com/MCD-ESPOL/PCD/blob/main/notebooks/images/arr_b8.png?raw=true\" width=\"75%\">\n",
    "</div>"
   ]
  },
  {
   "cell_type": "markdown",
   "id": "ad12d171",
   "metadata": {},
   "source": [
    "**Ejercicio 01:** Muestre la matriz resultante con la suma de los tres últimos meses"
   ]
  },
  {
   "cell_type": "code",
   "execution_count": null,
   "id": "58cd6e07",
   "metadata": {},
   "outputs": [],
   "source": []
  },
  {
   "cell_type": "markdown",
   "id": "d8b88c3b",
   "metadata": {},
   "source": [
    "**Ejercicio 02:** Muestre el total (suma) de la producción del mes de octubre."
   ]
  },
  {
   "cell_type": "code",
   "execution_count": null,
   "id": "148001b8",
   "metadata": {},
   "outputs": [],
   "source": []
  },
  {
   "cell_type": "markdown",
   "id": "09e7ba99",
   "metadata": {},
   "source": [
    "**Ejercicio 03:** Muestre el total (suma) de producción de los tres últimos meses"
   ]
  },
  {
   "cell_type": "code",
   "execution_count": null,
   "id": "75cbe58f",
   "metadata": {},
   "outputs": [],
   "source": []
  },
  {
   "cell_type": "markdown",
   "id": "31c03376",
   "metadata": {},
   "source": [
    "**Ejercicio 04:** Obtenga el total de producción por las zonas (de todas las filas) de la matriz con los tres últimos meses. "
   ]
  },
  {
   "cell_type": "code",
   "execution_count": null,
   "id": "aa805306",
   "metadata": {},
   "outputs": [],
   "source": []
  },
  {
   "cell_type": "markdown",
   "id": "7770e8c2",
   "metadata": {},
   "source": [
    "**Ejercicio 05:** Grafique los nombres de las zonas _versus_ el total de producción por las zonas de la matriz con los tres últimos meses."
   ]
  },
  {
   "cell_type": "code",
   "execution_count": null,
   "id": "056d59ab",
   "metadata": {},
   "outputs": [],
   "source": []
  },
  {
   "cell_type": "markdown",
   "id": "ec40b673",
   "metadata": {},
   "source": [
    "**Ejercicio 06:** Utilice la matriz con los tres últimos meses para mostrar el total de la `zona 4`"
   ]
  },
  {
   "cell_type": "code",
   "execution_count": null,
   "id": "7d9a2f74",
   "metadata": {},
   "outputs": [],
   "source": []
  },
  {
   "cell_type": "markdown",
   "id": "f2ad42af",
   "metadata": {},
   "source": [
    "**Ejercicio 07:** Muestre el total de producción en el mes de noviembre para el producto `'SúperAroma Ambientador de Lavanda'`"
   ]
  },
  {
   "cell_type": "code",
   "execution_count": null,
   "id": "6792de32",
   "metadata": {},
   "outputs": [],
   "source": []
  },
  {
   "cell_type": "markdown",
   "id": "8b61581e",
   "metadata": {},
   "source": [
    "**Ejercicio 08:** Muestre el nombre del producto con la mayor producción del mes de diciembre."
   ]
  },
  {
   "cell_type": "code",
   "execution_count": null,
   "id": "43489120",
   "metadata": {},
   "outputs": [],
   "source": []
  },
  {
   "cell_type": "markdown",
   "id": "d2bcdfda",
   "metadata": {},
   "source": [
    "**Ejercicio 09:** Muestre el nombre de la zona con la menor producción del mes de noviembre."
   ]
  },
  {
   "cell_type": "code",
   "execution_count": null,
   "id": "49b219c3",
   "metadata": {},
   "outputs": [],
   "source": []
  },
  {
   "cell_type": "markdown",
   "id": "24fb58ac",
   "metadata": {},
   "source": [
    "[Regresar a la TC](#Tabla-de-Contenidos)"
   ]
  }
 ],
 "metadata": {
  "kernelspec": {
   "display_name": "Python 3 (ipykernel)",
   "language": "python",
   "name": "python3"
  },
  "language_info": {
   "codemirror_mode": {
    "name": "ipython",
    "version": 3
   },
   "file_extension": ".py",
   "mimetype": "text/x-python",
   "name": "python",
   "nbconvert_exporter": "python",
   "pygments_lexer": "ipython3",
   "version": "3.11.5"
  }
 },
 "nbformat": 4,
 "nbformat_minor": 5
}
