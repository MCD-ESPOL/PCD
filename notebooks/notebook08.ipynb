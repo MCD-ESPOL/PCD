{
 "cells": [
  {
   "cell_type": "markdown",
   "id": "3e0e2060",
   "metadata": {},
   "source": [
    "## Importar librerías externas"
   ]
  },
  {
   "cell_type": "code",
   "execution_count": 1,
   "id": "265100f4",
   "metadata": {},
   "outputs": [],
   "source": [
    "# Importe la librería numpy, con: import numpy as np\n",
    "# Importe la libreria matplotlib, con: import matplotlib.pyplot as plt\n",
    "import numpy as np\n",
    "import matplotlib.pyplot as plt"
   ]
  },
  {
   "cell_type": "markdown",
   "id": "68eb9465",
   "metadata": {},
   "source": [
    "## Arreglos y matrices \n",
    "\n",
    "Convierta las listas en arreglos (1-dimensión) y matrices (2-dimensiones)."
   ]
  },
  {
   "cell_type": "code",
   "execution_count": 3,
   "id": "a00b2fec",
   "metadata": {},
   "outputs": [],
   "source": [
    "# Convierta las listas en arreglos\n",
    "\n",
    "lista1 = [11, 12,  9,  3, 14,  9]\n",
    "lista2 = [ 6, 11, 10, 12,  9, 10]\n",
    "\n",
    "arreglo1 = np.array(lista1)\n",
    "arreglo2 =  np.array(lista2)"
   ]
  },
  {
   "cell_type": "code",
   "execution_count": 5,
   "id": "52fe64f4",
   "metadata": {},
   "outputs": [
    {
     "data": {
      "text/plain": [
       "array([11, 12,  9,  3, 14,  9])"
      ]
     },
     "execution_count": 5,
     "metadata": {},
     "output_type": "execute_result"
    }
   ],
   "source": [
    "arreglo1"
   ]
  },
  {
   "cell_type": "code",
   "execution_count": 6,
   "id": "6a590d37",
   "metadata": {},
   "outputs": [
    {
     "data": {
      "text/plain": [
       "array([ 6, 11, 10, 12,  9, 10])"
      ]
     },
     "execution_count": 6,
     "metadata": {},
     "output_type": "execute_result"
    }
   ],
   "source": [
    "arreglo2"
   ]
  },
  {
   "cell_type": "code",
   "execution_count": 7,
   "id": "95e9c719",
   "metadata": {},
   "outputs": [],
   "source": [
    "# Convierta las listas de listas en matrices\n",
    "\n",
    "listaDelistas1 = [[14,  5,  4, 13,  8, 14],\n",
    "                  [10,  2,  9,  9,  3,  4],\n",
    "                  [ 9,  4, 11,  7,  9, 13],\n",
    "                  [14,  5, 14, 12, 13,  9],\n",
    "                  [12,  3,  5,  5,  4,  8]]\n",
    "\n",
    "listaDelistas2 = [[14,  6,  2,  5, 10,  8],\n",
    "                  [13, 11, 14, 11,  4, 10],\n",
    "                  [14, 13,  3, 14,  5,  7],\n",
    "                  [ 2,  2,  8, 14,  2,  4],\n",
    "                  [11,  6, 12,  3,  4,  2]]\n",
    "\n",
    "matriz1 =  np.array(listaDelistas1)\n",
    "matriz2 =  np.array(listaDelistas2)"
   ]
  },
  {
   "cell_type": "code",
   "execution_count": 9,
   "id": "a7f5634c",
   "metadata": {},
   "outputs": [
    {
     "data": {
      "text/plain": [
       "array([[14,  5,  4, 13,  8, 14],\n",
       "       [10,  2,  9,  9,  3,  4],\n",
       "       [ 9,  4, 11,  7,  9, 13],\n",
       "       [14,  5, 14, 12, 13,  9],\n",
       "       [12,  3,  5,  5,  4,  8]])"
      ]
     },
     "execution_count": 9,
     "metadata": {},
     "output_type": "execute_result"
    }
   ],
   "source": [
    "matriz1"
   ]
  },
  {
   "cell_type": "code",
   "execution_count": 11,
   "id": "a70c06d7",
   "metadata": {},
   "outputs": [
    {
     "data": {
      "text/plain": [
       "array([[14,  6,  2,  5, 10,  8],\n",
       "       [13, 11, 14, 11,  4, 10],\n",
       "       [14, 13,  3, 14,  5,  7],\n",
       "       [ 2,  2,  8, 14,  2,  4],\n",
       "       [11,  6, 12,  3,  4,  2]])"
      ]
     },
     "execution_count": 11,
     "metadata": {},
     "output_type": "execute_result"
    }
   ],
   "source": [
    "matriz2"
   ]
  },
  {
   "cell_type": "code",
   "execution_count": 13,
   "id": "02bb94a1",
   "metadata": {},
   "outputs": [
    {
     "data": {
      "text/plain": [
       "(5, 6)"
      ]
     },
     "execution_count": 13,
     "metadata": {},
     "output_type": "execute_result"
    }
   ],
   "source": [
    "matriz1.shape"
   ]
  },
  {
   "cell_type": "code",
   "execution_count": 15,
   "id": "298670a9",
   "metadata": {},
   "outputs": [
    {
     "data": {
      "text/plain": [
       "array([ 9,  4, 11,  7,  9, 13])"
      ]
     },
     "execution_count": 15,
     "metadata": {},
     "output_type": "execute_result"
    }
   ],
   "source": [
    "# Fila en el índice 2\n",
    "matriz1[2, 0:]"
   ]
  },
  {
   "cell_type": "code",
   "execution_count": 16,
   "id": "fc9d3382",
   "metadata": {},
   "outputs": [
    {
     "data": {
      "text/plain": [
       "array([13,  9,  7, 12,  5])"
      ]
     },
     "execution_count": 16,
     "metadata": {},
     "output_type": "execute_result"
    }
   ],
   "source": [
    "# Columna en el índice 3\n",
    "matriz1[0:, 3]"
   ]
  },
  {
   "cell_type": "markdown",
   "id": "f5ae106c",
   "metadata": {},
   "source": [
    "## Operaciones por elementos"
   ]
  },
  {
   "cell_type": "markdown",
   "id": "cab20ca5",
   "metadata": {},
   "source": [
    "### Con un escalar\n",
    "\n",
    "Numpy permite optimizar las operaciones entre [un arreglo y un escalar](https://scipy-lectures.org/intro/numpy/operations.html#id2); por ejemplo, el `arreglo3` contiene el resultado de la suma de cada elemento del `arreglo1` con `5.2`.\n",
    "\n",
    "\n",
    "\n",
    "<div align=\"center\">\n",
    "    <img src=\"https://github.com/MCD-ESPOL/PCD/blob/main/notebooks/images/arr_b1.png?raw=true\" width=\"35%\">\n",
    "</div>"
   ]
  },
  {
   "cell_type": "code",
   "execution_count": 17,
   "id": "435c4249",
   "metadata": {},
   "outputs": [
    {
     "name": "stdout",
     "output_type": "stream",
     "text": [
      "Arreglo 4:  [10 15 14 16 13 14]\n"
     ]
    }
   ],
   "source": [
    "# En arreglo4 asigne el resultado de sumar arreglo2 y 4. Muestre el resultado de arreglo4.\n",
    "arreglo4 = arreglo2 + 4\n",
    "print(\"Arreglo 4: \", arreglo4)"
   ]
  },
  {
   "cell_type": "code",
   "execution_count": 18,
   "id": "5fa94cf4",
   "metadata": {},
   "outputs": [
    {
     "name": "stdout",
     "output_type": "stream",
     "text": [
      "Arreglo 5:  [25.3 27.6 20.7  6.9 32.2 20.7]\n"
     ]
    }
   ],
   "source": [
    "# En arreglo5 asigne el resultado de multiplicar arreglo1 y 2.3. Muestre el resultado de arreglo5.\n",
    "arreglo5 = arreglo1 * 2.3\n",
    "print(\"Arreglo 5: \", arreglo5)"
   ]
  },
  {
   "cell_type": "code",
   "execution_count": 19,
   "id": "35eec59a",
   "metadata": {},
   "outputs": [
    {
     "name": "stdout",
     "output_type": "stream",
     "text": [
      "Arreglo 6:  [3.7 8.7 7.7 9.7 6.7 7.7]\n"
     ]
    }
   ],
   "source": [
    "# En arreglo6 asigne el resultado de restar arreglo2 y 2.3. Muestre el resultado de arreglo6.\n",
    "arreglo6 = arreglo2 - 2.3\n",
    "print(\"Arreglo 6: \", arreglo6)"
   ]
  },
  {
   "cell_type": "markdown",
   "id": "4b2d713b",
   "metadata": {},
   "source": [
    "### Entre arreglos\n",
    "\n",
    "NumPy proporciona una amplia gama de [operaciones que se pueden realizar entre arreglos](https://www.programiz.com/python-programming/numpy/basic-array-operations). En el ejemplo, la multiplicación entre `arreglo1` y `arreglo2`ocurre entre cada elemento correspondiente, dado que tienen el mismo tamaño.\n",
    "\n",
    "\n",
    "<div align=\"center\">\n",
    "    <img src=\"https://github.com/MCD-ESPOL/PCD/blob/main/notebooks/images/arr_b2.png?raw=true\" width=\"35%\">\n",
    "</div>\n"
   ]
  },
  {
   "cell_type": "code",
   "execution_count": 43,
   "id": "0bd1a7af",
   "metadata": {},
   "outputs": [
    {
     "name": "stdout",
     "output_type": "stream",
     "text": [
      "Arreglo 8:  [1.1        0.8        0.64285714 0.1875     1.07692308 0.64285714]\n",
      "Arreglo 8 V2:  [1.1  0.8  0.64 0.19 1.08 0.64]\n"
     ]
    }
   ],
   "source": [
    "# En arreglo8 asigne el resultado de dividir arreglo1 y arreglo4. Muestre el arreglo8.\n",
    "arreglo8 = arreglo1 / arreglo4 \n",
    "print(\"Arreglo 8: \", arreglo8)\n",
    "\n",
    "arreglo8v2 = np.round( arreglo8 , decimals = 2)\n",
    "print(\"Arreglo 8 V2: \", arreglo8v2)"
   ]
  },
  {
   "cell_type": "code",
   "execution_count": 21,
   "id": "81ee7761",
   "metadata": {},
   "outputs": [
    {
     "name": "stdout",
     "output_type": "stream",
     "text": [
      "Arreglo 9:  [-19.3 -16.6 -10.7   5.1 -23.2 -10.7]\n"
     ]
    }
   ],
   "source": [
    "# En arreglo9 asigne el resultado de restar arreglo2 y arreglo5. Muestre el arreglo9.\n",
    "arreglo9 = arreglo2 - arreglo5\n",
    "print(\"Arreglo 9: \", arreglo9)"
   ]
  },
  {
   "cell_type": "code",
   "execution_count": 23,
   "id": "11160dc9",
   "metadata": {},
   "outputs": [
    {
     "name": "stdout",
     "output_type": "stream",
     "text": [
      "Arreglo 10:  [29.  36.3 28.4 16.6 38.9 28.4]\n"
     ]
    }
   ],
   "source": [
    "# En arreglo10 asigne el resultado de sumar arreglo5 y arreglo6. Muestre el arreglo10.\n",
    "arreglo10 = arreglo5 + arreglo6\n",
    "print(\"Arreglo 10: \", arreglo10)"
   ]
  },
  {
   "cell_type": "code",
   "execution_count": 26,
   "id": "7d8b200c",
   "metadata": {},
   "outputs": [
    {
     "name": "stdout",
     "output_type": "stream",
     "text": [
      "Arreglo 3:  [-3 -3 -3]\n"
     ]
    }
   ],
   "source": [
    "lista1 = [1,2,3]\n",
    "lista2 = [4,5,6]\n",
    "\n",
    "nuevoArreglo1 = np.array(lista1)\n",
    "nuevoArreglo2 = np.array(lista2)\n",
    "\n",
    "nuevoArreglo3 = nuevoArreglo1 - nuevoArreglo2\n",
    "print(\"Arreglo 3: \", nuevoArreglo3)"
   ]
  },
  {
   "cell_type": "markdown",
   "id": "ab802e27",
   "metadata": {},
   "source": [
    "## Operaciones matriciales\n",
    "\n",
    "NumPy provee de operaciones matriciales como suma, multiplicación y elevación de elementos a una determinada potencia. El empleo de matrices nos permite ejecutar operaciones algebraicas, lo que nos permite ejecutar numerosas operaciones con grandes cantidades de datos de manera efectiva. [How to Implement Different Operations on Matrices in NumPy?](https://www.scaler.com/topics/numpy-implement-different-operations-on-matrix/) muestran las operaciones más comunes entre matrices mediante ejemplos."
   ]
  },
  {
   "cell_type": "markdown",
   "id": "b57a6f51",
   "metadata": {},
   "source": [
    "### Operaciones con un escalar\n",
    "\n",
    "En el ejemplo, la `matriz3` contiene el resultado de multiplicar `1.12` y `matriz1`, al multiplicar cada elemento por el escalar.\n",
    "\n",
    "<div align=\"center\">\n",
    "    <img src=\"https://github.com/MCD-ESPOL/PCD/blob/main/notebooks/images/arr_b3.png?raw=true\" width=\"30%\">\n",
    "</div>"
   ]
  },
  {
   "cell_type": "code",
   "execution_count": 36,
   "id": "d8abebf4",
   "metadata": {},
   "outputs": [
    {
     "name": "stdout",
     "output_type": "stream",
     "text": [
      "Matriz 4: \n",
      "[[17.2  9.2  5.2  8.2 13.2 11.2]\n",
      " [16.2 14.2 17.2 14.2  7.2 13.2]\n",
      " [17.2 16.2  6.2 17.2  8.2 10.2]\n",
      " [ 5.2  5.2 11.2 17.2  5.2  7.2]\n",
      " [14.2  9.2 15.2  6.2  7.2  5.2]]\n"
     ]
    }
   ],
   "source": [
    "# En matriz4 asigne el resultado de sumar 3.2 y matriz2. Muestre el matriz4.\n",
    "matriz4 = 3.2 + matriz2\n",
    "print(\"Matriz 4: \")\n",
    "print(matriz4)"
   ]
  },
  {
   "cell_type": "code",
   "execution_count": 37,
   "id": "1300a5f2",
   "metadata": {},
   "outputs": [
    {
     "name": "stdout",
     "output_type": "stream",
     "text": [
      "Matriz 5: \n",
      "[[7.  2.5 2.  6.5 4.  7. ]\n",
      " [5.  1.  4.5 4.5 1.5 2. ]\n",
      " [4.5 2.  5.5 3.5 4.5 6.5]\n",
      " [7.  2.5 7.  6.  6.5 4.5]\n",
      " [6.  1.5 2.5 2.5 2.  4. ]]\n"
     ]
    }
   ],
   "source": [
    "# En matriz5 asigne el resultado de dividir matriz1 para 2. Muestre el matriz5.\n",
    "matriz5 = matriz1 / 2\n",
    "print(\"Matriz 5: \")\n",
    "print(matriz5)"
   ]
  },
  {
   "cell_type": "markdown",
   "id": "6290af16",
   "metadata": {},
   "source": [
    "### Operaciones matriciales\n",
    "\n",
    "Para matrices de igual número de filas y columnas, es posible realizar las operaciones matemáticas básicas para cada elemento de las matrices. Por ejemplo, `matriz6` contiene el resultado de restar `matriz1` y `matriz2`.\n",
    "\n",
    "<div align=\"center\">\n",
    "    <img src=\"https://github.com/MCD-ESPOL/PCD/blob/main/notebooks/images/arr_b4.png?raw=true\" width=\"30%\">\n",
    "</div>"
   ]
  },
  {
   "cell_type": "code",
   "execution_count": 39,
   "id": "f4a53da2",
   "metadata": {},
   "outputs": [
    {
     "name": "stdout",
     "output_type": "stream",
     "text": [
      "Matriz 1\n",
      "[[14  5  4 13  8 14]\n",
      " [10  2  9  9  3  4]\n",
      " [ 9  4 11  7  9 13]\n",
      " [14  5 14 12 13  9]\n",
      " [12  3  5  5  4  8]]\n",
      "\n",
      "Matriz 2\n",
      "[[14  6  2  5 10  8]\n",
      " [13 11 14 11  4 10]\n",
      " [14 13  3 14  5  7]\n",
      " [ 2  2  8 14  2  4]\n",
      " [11  6 12  3  4  2]]\n",
      "\n",
      "Matriz 7\n",
      "[[28 11  6 18 18 22]\n",
      " [23 13 23 20  7 14]\n",
      " [23 17 14 21 14 20]\n",
      " [16  7 22 26 15 13]\n",
      " [23  9 17  8  8 10]]\n"
     ]
    }
   ],
   "source": [
    "# En matriz7 asigne el resultado de sumar matriz2 y matriz1. Muestre el matriz7.\n",
    "\n",
    "matriz7 = matriz2 + matriz1\n",
    "print(\"Matriz 1\")\n",
    "print(matriz1)\n",
    "print(\"\\nMatriz 2\")\n",
    "print(matriz2)\n",
    "print(\"\\nMatriz 7\")\n",
    "print(matriz7)"
   ]
  },
  {
   "cell_type": "code",
   "execution_count": 40,
   "id": "bbb81ecd",
   "metadata": {},
   "outputs": [
    {
     "name": "stdout",
     "output_type": "stream",
     "text": [
      "Matriz 8\n",
      "[[196  30   8  65  80 112]\n",
      " [130  22 126  99  12  40]\n",
      " [126  52  33  98  45  91]\n",
      " [ 28  10 112 168  26  36]\n",
      " [132  18  60  15  16  16]]\n"
     ]
    }
   ],
   "source": [
    "# En matriz8 asigne el resultado de multiplicar matriz2 y matriz1. Muestre el matriz8.\n",
    "\n",
    "matriz8 = matriz2 * matriz1\n",
    "print(\"Matriz 8\")\n",
    "print(matriz8)"
   ]
  },
  {
   "cell_type": "markdown",
   "id": "c010f0cd",
   "metadata": {},
   "source": [
    "### Operaciones de todos los elementos\n",
    "\n",
    "La función [np.sum()](https://numpy.org/doc/stable/reference/generated/numpy.sum.html) se utiliza para determinar la suma de todos los elementos de la matriz NumPy.\n",
    "\n",
    "<div align=\"center\">\n",
    "    <img src=\"https://github.com/MCD-ESPOL/PCD/blob/main/notebooks/images/arr_b5.png?raw=true\" width=\"45%\">\n",
    "</div>"
   ]
  },
  {
   "cell_type": "code",
   "execution_count": 41,
   "id": "d5b18bde",
   "metadata": {},
   "outputs": [
    {
     "name": "stdout",
     "output_type": "stream",
     "text": [
      "El total de matriz7 es:  486\n"
     ]
    }
   ],
   "source": [
    "# En total7 asigne el resultado de sumar todos los elementos de la matriz7. Muestre el total7.\n",
    "total7 = np.sum(matriz7)\n",
    "print(\"El total de matriz7 es: \", total7)"
   ]
  },
  {
   "cell_type": "code",
   "execution_count": 42,
   "id": "1ba2851f",
   "metadata": {},
   "outputs": [
    {
     "name": "stdout",
     "output_type": "stream",
     "text": [
      "El total de matriz8 es:  2002\n"
     ]
    }
   ],
   "source": [
    "# En total8 asigne el resultado de sumar todos los elementos de la matriz8. Muestre el total8.\n",
    "total8 = np.sum(matriz8)\n",
    "print(\"El total de matriz8 es: \", total8)"
   ]
  },
  {
   "cell_type": "markdown",
   "id": "f210e70c",
   "metadata": {},
   "source": [
    "### Operaciones por columnas o por filas\n",
    "\n",
    "La función de [np.sum()](https://numpy.org/doc/stable/reference/generated/numpy.sum.html) NumPy tiene varios parámetros que le permiten controlar el comportamiento de la función. \n",
    "\n",
    "Por ejemplo, para sumar todas las filas (a lo largo del eje vertical), se utiliza el parámetro `axis = 0`. Mientras que para sumar todas las columnas (a lo largo del eje horizontal), se utiliza el parámetro `axis = 1`, como se muestra en la figura. \n",
    "\n",
    "\n",
    "<div align=\"center\">\n",
    "    <img src=\"https://github.com/MCD-ESPOL/PCD/blob/main/notebooks/images/arr_b7.png?raw=true\" width=\"35%\">\n",
    "    <br>\n",
    "    Fuente: <a href=\"https://sebastianraschka.com/blog/2020/numpy-intro.html\">Scientific Computing in Python: Introduction to NumPy and Matplotlib</a>\n",
    "</div>"
   ]
  },
  {
   "cell_type": "markdown",
   "id": "59f3164f",
   "metadata": {},
   "source": [
    "En el ejemplo, la variable `sumaFilas` contiene el resultado de la suma de las filas (`axis = 0`); mientras que la variable `sumaColumnas` contiene el resultado de la suma de las columnas (`axis = 1`) \n",
    "\n",
    "<div align=\"center\">\n",
    "    <img src=\"https://github.com/MCD-ESPOL/PCD/blob/main/notebooks/images/arr_b6.png?raw=true\" width=\"35%\">\n",
    "</div>"
   ]
  },
  {
   "cell_type": "code",
   "execution_count": 51,
   "id": "a643d10b",
   "metadata": {},
   "outputs": [
    {
     "name": "stdout",
     "output_type": "stream",
     "text": [
      "Matriz 7\n",
      "[[28 11  6 18 18 22]\n",
      " [23 13 23 20  7 14]\n",
      " [23 17 14 21 14 20]\n",
      " [16  7 22 26 15 13]\n",
      " [23  9 17  8  8 10]]\n",
      "\n",
      "Total por axis 0\n",
      "[113  57  82  93  62  79]\n",
      "(6,)\n"
     ]
    }
   ],
   "source": [
    "# En totalFilas asigne el resultado de sumar todas filas de la matriz7. Muestre el totalFilas.\n",
    "print(\"Matriz 7\")\n",
    "print(matriz7)\n",
    "\n",
    "totalFilas = np.sum( matriz7 , axis = 0)\n",
    "print(\"\\nTotal por axis 0\")\n",
    "print(totalFilas)\n",
    "\n",
    "print(totalFilas.shape)"
   ]
  },
  {
   "cell_type": "code",
   "execution_count": 52,
   "id": "c4224a14",
   "metadata": {},
   "outputs": [
    {
     "name": "stdout",
     "output_type": "stream",
     "text": [
      "Matriz 8\n",
      "[[196  30   8  65  80 112]\n",
      " [130  22 126  99  12  40]\n",
      " [126  52  33  98  45  91]\n",
      " [ 28  10 112 168  26  36]\n",
      " [132  18  60  15  16  16]]\n",
      "\n",
      "Total por axis 1\n",
      "[491 429 445 380 257]\n",
      "(5,)\n"
     ]
    }
   ],
   "source": [
    "# En totalColumnas asigne el resultado de sumar todas columnas de la matriz8. Muestre el totalColumnas.\n",
    "print(\"Matriz 8\")\n",
    "print(matriz8)\n",
    "\n",
    "totalColumnas = np.sum( matriz8 , axis = 1)\n",
    "\n",
    "print(\"\\nTotal por axis 1\")\n",
    "print(totalColumnas)\n",
    "\n",
    "\n",
    "print(totalColumnas.shape)"
   ]
  },
  {
   "cell_type": "markdown",
   "id": "e9fa0b83",
   "metadata": {},
   "source": [
    "## Archivos\n",
    "\n",
    "Descargue el archivo [produccion.zip](https://github.com/MCD-ESPOL/PCD/blob/main/notebooks/produccion.zip). Descomprima la carpeta **produccion** y mueva la carpeta en el mismo directorio de este cuaderno."
   ]
  },
  {
   "cell_type": "markdown",
   "id": "7806b1d3",
   "metadata": {},
   "source": [
    "## Carga de datos\n",
    "\n",
    "\n",
    "Utilice la función [loadtxt](https://numpy.org/doc/stable/reference/generated/numpy.loadtxt.html) para cargar los datos de un archivo de texto."
   ]
  },
  {
   "cell_type": "code",
   "execution_count": 63,
   "id": "553b6d59",
   "metadata": {},
   "outputs": [
    {
     "name": "stdout",
     "output_type": "stream",
     "text": [
      "['zona1' 'zona2' 'zona3' 'zona4' 'zona5' 'zona6']\n",
      "(6,)\n"
     ]
    }
   ],
   "source": [
    "# En la variable zonas, cargue los datos de 'produccion/zonas.csv', \n",
    "# cuyo delimitador es ',' y el tipo de dato (dtype) es str\n",
    "\n",
    "zonas = np.loadtxt('produccion/zonas.csv', delimiter = ',', dtype = str)\n",
    "print(zonas)\n",
    "print(zonas.shape)"
   ]
  },
  {
   "cell_type": "code",
   "execution_count": 64,
   "id": "7bde8e73",
   "metadata": {},
   "outputs": [
    {
     "name": "stdout",
     "output_type": "stream",
     "text": [
      "['Energía Vitalizante Xtreme' 'EcoLimpiaPro'\n",
      " 'TurboTech Auriculares Inalámbricos' 'SuperBrillo Lavaplatos'\n",
      " 'MaxProtección Crema Solar' 'UltraGourmet Mezcla de Especias'\n",
      " 'SpeedyFresh Desodorante para Refrigerador' 'EcoBike Plegable'\n",
      " 'BrillantePlus Limpiacristales' 'SúperAroma Ambientador de Lavanda'\n",
      " 'MagnoFit Banda de Resistencia' 'MegaSnack Barritas Energéticas'\n",
      " 'AquaBreeze Purificador de Aire' 'BioJardín Fertilizante Orgánico'\n",
      " 'ZoomCam Cámara de Vigilancia HD']\n",
      "(15,)\n"
     ]
    }
   ],
   "source": [
    "# En la variable productos, cargue los datos de 'produccion/productos.csv', \n",
    "# cuyo delimitador es ',' y el tipo de dato (dtype) es str\n",
    "\n",
    "productos = np.loadtxt('produccion/productos.csv', delimiter = ',', dtype = str)\n",
    "print(productos)\n",
    "print(productos.shape)"
   ]
  },
  {
   "cell_type": "code",
   "execution_count": 65,
   "id": "dd3c79ef",
   "metadata": {},
   "outputs": [
    {
     "name": "stdout",
     "output_type": "stream",
     "text": [
      "(15, 6)\n",
      "[[13  6  8  7 12 12]\n",
      " [13  6 11  8  8  5]\n",
      " [ 6 12 12 13 12  7]\n",
      " [ 6 12  7  4  6  4]\n",
      " [ 8 10  3 13  7  7]\n",
      " [ 5  4  5 14  2 11]\n",
      " [11  6 13  4  3 10]\n",
      " [ 2  9  7  3  3 10]\n",
      " [ 5 12  3  7 13 11]\n",
      " [ 9  7  8 10  5  8]\n",
      " [10 11 13  5  3  5]\n",
      " [12 11  6  2 10 12]\n",
      " [ 4  6 10  2  2  6]\n",
      " [ 3 12  5  6 12 14]\n",
      " [ 7  3 10 10 12  7]]\n"
     ]
    }
   ],
   "source": [
    "# En las variables octubre, noviembre y diciembre, cargue los datos de cada archivo con el nombre correspondiente\n",
    "# cuyo delimitador es ',' y el tipo de dato (dtype) es in\n",
    "\n",
    "octubre = np.loadtxt('produccion/octubre.csv', delimiter = ',', dtype = int)\n",
    "print(octubre.shape)\n",
    "print(octubre)\n"
   ]
  },
  {
   "cell_type": "code",
   "execution_count": 66,
   "id": "2138dd9e",
   "metadata": {},
   "outputs": [
    {
     "name": "stdout",
     "output_type": "stream",
     "text": [
      "(15, 6)\n",
      "[[ 5  5  5 11  3 12]\n",
      " [ 6 10  5 12  6  7]\n",
      " [ 5  4  5  5  2  4]\n",
      " [ 5  7  7  3 12  6]\n",
      " [13  2 14  8 12  3]\n",
      " [ 4  5  3  5  3 14]\n",
      " [ 3 13  6  2 14 12]\n",
      " [ 4 12 14  4  9  7]\n",
      " [14 11  2  7 12  5]\n",
      " [ 5  5  2  6 10 11]\n",
      " [ 5  2  5 11  5 11]\n",
      " [ 9  8  6 13  8  7]\n",
      " [ 3 14  8  8  3  8]\n",
      " [11  8  7  4  6  5]\n",
      " [12 14 11 14  3 14]]\n"
     ]
    }
   ],
   "source": [
    "noviembre = np.loadtxt('produccion/noviembre.csv', delimiter = ',', dtype = int)\n",
    "print(noviembre.shape)\n",
    "print(noviembre)"
   ]
  },
  {
   "cell_type": "code",
   "execution_count": 67,
   "id": "ef8bc133",
   "metadata": {},
   "outputs": [
    {
     "name": "stdout",
     "output_type": "stream",
     "text": [
      "(15, 6)\n",
      "[[ 3  4  5 10 12 11]\n",
      " [ 4  7  5  3  6 10]\n",
      " [11  6 10  6 10 13]\n",
      " [12 12  3  8  9  5]\n",
      " [14  8 12 12  2  7]\n",
      " [ 3  9 12 12 12 14]\n",
      " [ 8 10  3 12 12  4]\n",
      " [ 8 12  2 14  6  9]\n",
      " [ 5  8 13 14  2 10]\n",
      " [11 13 10  4 10  8]\n",
      " [ 4  2  5  6 13  7]\n",
      " [ 9 13  6  8 14 12]\n",
      " [11  8  6 12 14 11]\n",
      " [14  5  3  9 14 11]\n",
      " [12  7  4  8  2  3]]\n"
     ]
    }
   ],
   "source": [
    "diciembre = np.loadtxt('produccion/diciembre.csv', delimiter = ',', dtype = int)\n",
    "print(diciembre.shape)\n",
    "print(diciembre)"
   ]
  },
  {
   "cell_type": "markdown",
   "id": "7f5e9986",
   "metadata": {},
   "source": [
    "## Ejercicios\n",
    "\n",
    "Para los siguientes ejercicios, considere que las matrices `octubre`, `noviembre` y `diciembre` corresponden a la cantidad de productos elaborados en los tres últimos los meses del año pasado. Las filas están directamente relacionados con los `productos` y las columnas están directamente relacionadas con las `zonas` de producción.\n",
    "\n",
    "<br>\n",
    "<div align=\"center\">\n",
    "    <img src=\"https://github.com/MCD-ESPOL/PCD/blob/main/notebooks/images/arr_b8.png?raw=true\" width=\"75%\">\n",
    "</div>"
   ]
  },
  {
   "cell_type": "markdown",
   "id": "d8b88c3b",
   "metadata": {},
   "source": [
    "### Ejercicios - I\n",
    "\n",
    "1. Muestre la suma total de producción del mes de octubre.\n",
    "2. Muestre la suma total de producción de los tres últimos meses"
   ]
  },
  {
   "cell_type": "code",
   "execution_count": 68,
   "id": "58cd6e07",
   "metadata": {},
   "outputs": [
    {
     "name": "stdout",
     "output_type": "stream",
     "text": [
      "La suma total de producción del mes de octubre:  709\n"
     ]
    }
   ],
   "source": [
    "totalOctubre = np.sum(octubre)\n",
    "print(\"La suma total de producción del mes de octubre: \", totalOctubre)"
   ]
  },
  {
   "cell_type": "code",
   "execution_count": 72,
   "id": "148001b8",
   "metadata": {},
   "outputs": [
    {
     "name": "stdout",
     "output_type": "stream",
     "text": [
      "Tres meses\n",
      "(15, 6)\n",
      "[[21 15 18 28 27 35]\n",
      " [23 23 21 23 20 22]\n",
      " [22 22 27 24 24 24]\n",
      " [23 31 17 15 27 15]\n",
      " [35 20 29 33 21 17]\n",
      " [12 18 20 31 17 39]\n",
      " [22 29 22 18 29 26]\n",
      " [14 33 23 21 18 26]\n",
      " [24 31 18 28 27 26]\n",
      " [25 25 20 20 25 27]\n",
      " [19 15 23 22 21 23]\n",
      " [30 32 18 23 32 31]\n",
      " [18 28 24 22 19 25]\n",
      " [28 25 15 19 32 30]\n",
      " [31 24 25 32 17 24]]\n"
     ]
    }
   ],
   "source": [
    "tresmeses = octubre + noviembre + diciembre\n",
    "print(\"Tres meses\")\n",
    "print(tresmeses.shape)\n",
    "print(tresmeses)"
   ]
  },
  {
   "cell_type": "code",
   "execution_count": 71,
   "id": "e3f978b8",
   "metadata": {},
   "outputs": [
    {
     "name": "stdout",
     "output_type": "stream",
     "text": [
      "La suma total de producción de los tres meses:  2143\n"
     ]
    }
   ],
   "source": [
    "totalTresMeses = np.sum(tresmeses)\n",
    "print(\"La suma total de producción de los tres meses: \", totalTresMeses)"
   ]
  },
  {
   "cell_type": "markdown",
   "id": "31c03376",
   "metadata": {},
   "source": [
    "### Ejercicios - II\n",
    "\n",
    "1. Obtenga el total de producción por las zonas de los tres últimos meses.\n",
    "2. Grafique los nombres de las zonas _versus_ el total de producción por las zonas de los tres últimos meses. "
   ]
  },
  {
   "cell_type": "code",
   "execution_count": 74,
   "id": "0229f178",
   "metadata": {},
   "outputs": [
    {
     "name": "stdout",
     "output_type": "stream",
     "text": [
      "Total por zonas\n",
      "[347 371 320 359 356 390]\n",
      "(6,)\n"
     ]
    }
   ],
   "source": [
    "totalPorZonas = np.sum(tresmeses, axis = 0)\n",
    "print(\"Total por zonas\")\n",
    "print(totalPorZonas)\n",
    "print(totalPorZonas.shape)"
   ]
  },
  {
   "cell_type": "code",
   "execution_count": 76,
   "id": "7f4c7434",
   "metadata": {},
   "outputs": [
    {
     "data": {
      "text/plain": [
       "array(['zona1', 'zona2', 'zona3', 'zona4', 'zona5', 'zona6'], dtype='<U5')"
      ]
     },
     "execution_count": 76,
     "metadata": {},
     "output_type": "execute_result"
    }
   ],
   "source": [
    "zonas"
   ]
  },
  {
   "cell_type": "code",
   "execution_count": 78,
   "id": "bc19bd99",
   "metadata": {},
   "outputs": [
    {
     "data": {
      "text/plain": [
       "array([347, 371, 320, 359, 356, 390])"
      ]
     },
     "execution_count": 78,
     "metadata": {},
     "output_type": "execute_result"
    }
   ],
   "source": [
    "totalPorZonas"
   ]
  },
  {
   "cell_type": "code",
   "execution_count": 84,
   "id": "a96678ce",
   "metadata": {},
   "outputs": [
    {
     "data": {
      "text/plain": [
       "Text(0, 0.5, 'Total de producción por zonas de los tres últimos meses')"
      ]
     },
     "execution_count": 84,
     "metadata": {},
     "output_type": "execute_result"
    },
    {
     "data": {
      "image/png": "[encoded data removed]",
      "text/plain": [
       "<Figure size 640x480 with 1 Axes>"
      ]
     },
     "metadata": {},
     "output_type": "display_data"
    }
   ],
   "source": [
    "plt.bar(zonas, totalPorZonas)\n",
    "plt.title('Zonas versus total de producción por zonas de los tres últimos meses')\n",
    "plt.xlabel('Zonas')\n",
    "plt.ylabel('Total de producción por zonas de los tres últimos meses')"
   ]
  },
  {
   "cell_type": "markdown",
   "id": "c924b114",
   "metadata": {},
   "source": [
    "### Ejercicios - III\n",
    "\n",
    "1. Muestre la suma total de producción de los tres últimos meses de la `zona4`\n",
    "2. Muestre la suma total de producción de noviembre del producto `'SúperAroma Ambientador de Lavanda'`"
   ]
  },
  {
   "cell_type": "code",
   "execution_count": 88,
   "id": "3912cdae",
   "metadata": {},
   "outputs": [
    {
     "data": {
      "text/plain": [
       "array([False, False, False,  True, False, False])"
      ]
     },
     "execution_count": 88,
     "metadata": {},
     "output_type": "execute_result"
    }
   ],
   "source": [
    "# Forma 1: Muestre la suma total de producción de los tres últimos meses de la zona4\n",
    "mascaraZona4 = zonas == 'zona4'\n",
    "mascaraZona4"
   ]
  },
  {
   "cell_type": "code",
   "execution_count": 90,
   "id": "cfcf7228",
   "metadata": {},
   "outputs": [
    {
     "data": {
      "text/plain": [
       "array(['zona4'], dtype='<U5')"
      ]
     },
     "execution_count": 90,
     "metadata": {},
     "output_type": "execute_result"
    }
   ],
   "source": [
    "zonas[mascaraZona4]"
   ]
  },
  {
   "cell_type": "code",
   "execution_count": 97,
   "id": "391eff2d",
   "metadata": {},
   "outputs": [
    {
     "data": {
      "text/plain": [
       "array([[28],\n",
       "       [23],\n",
       "       [24],\n",
       "       [15],\n",
       "       [33],\n",
       "       [31],\n",
       "       [18],\n",
       "       [21],\n",
       "       [28],\n",
       "       [20],\n",
       "       [22],\n",
       "       [23],\n",
       "       [22],\n",
       "       [19],\n",
       "       [32]])"
      ]
     },
     "execution_count": 97,
     "metadata": {},
     "output_type": "execute_result"
    }
   ],
   "source": [
    "tresmeses[ 0: , mascaraZona4]"
   ]
  },
  {
   "cell_type": "code",
   "execution_count": 106,
   "id": "4d40520c",
   "metadata": {},
   "outputs": [
    {
     "name": "stdout",
     "output_type": "stream",
     "text": [
      "Suma total de producción de los tres últimos meses de la zona4\n",
      "359\n"
     ]
    }
   ],
   "source": [
    "total = np.sum(tresmeses[0:, mascaraZona4])\n",
    "\n",
    "print('Suma total de producción de los tres últimos meses de la zona4')\n",
    "print(total)"
   ]
  },
  {
   "cell_type": "code",
   "execution_count": 105,
   "id": "f9834044",
   "metadata": {},
   "outputs": [
    {
     "name": "stdout",
     "output_type": "stream",
     "text": [
      "Suma total de producción de los tres últimos meses de la zona4\n",
      "359\n"
     ]
    }
   ],
   "source": [
    "# Forma 2: Muestre la suma total de producción de los tres últimos meses de la zona4\n",
    "\n",
    "zona4 = tresmeses[0:,3]\n",
    "total = np.sum(zona4)\n",
    "print('Suma total de producción de los tres últimos meses de la zona4')\n",
    "print(total)"
   ]
  },
  {
   "cell_type": "code",
   "execution_count": 109,
   "id": "da3a6202",
   "metadata": {},
   "outputs": [
    {
     "name": "stdout",
     "output_type": "stream",
     "text": [
      "[False False False False False False False False False  True False False\n",
      " False False False]\n"
     ]
    }
   ],
   "source": [
    "# Muestre la suma total de producción de noviembre del producto 'SúperAroma Ambientador de Lavanda'\n",
    "\n",
    "mascaraProducto = productos == 'SúperAroma Ambientador de Lavanda'\n",
    "print(mascaraProducto)"
   ]
  },
  {
   "cell_type": "code",
   "execution_count": 112,
   "id": "9058efd5",
   "metadata": {},
   "outputs": [
    {
     "data": {
      "text/plain": [
       "array([[ 5,  5,  2,  6, 10, 11]])"
      ]
     },
     "execution_count": 112,
     "metadata": {},
     "output_type": "execute_result"
    }
   ],
   "source": [
    "noviembre[ mascaraProducto , 0: ]"
   ]
  },
  {
   "cell_type": "code",
   "execution_count": 113,
   "id": "0bd270e0",
   "metadata": {},
   "outputs": [
    {
     "name": "stdout",
     "output_type": "stream",
     "text": [
      "El total de producción de noviembre del producto 'SúperAroma Ambientador de Lavanda'\n",
      "39\n"
     ]
    }
   ],
   "source": [
    "total = np.sum(noviembre[ mascaraProducto , 0: ])\n",
    "print(\"El total de producción de noviembre del producto 'SúperAroma Ambientador de Lavanda'\")\n",
    "print(total)"
   ]
  },
  {
   "cell_type": "markdown",
   "id": "0bab0d49",
   "metadata": {},
   "source": [
    "### Ejercicios - IV\n",
    "\n",
    "1. Muestre el nombre del producto con la mayor suma total de producción del mes de diciembre.\n",
    "2. Muestre el nombre de la zona con la menor suma total de producción del mes de noviembre."
   ]
  },
  {
   "cell_type": "code",
   "execution_count": 114,
   "id": "dac1d1c7",
   "metadata": {},
   "outputs": [
    {
     "data": {
      "text/plain": [
       "array([[ 3,  4,  5, 10, 12, 11],\n",
       "       [ 4,  7,  5,  3,  6, 10],\n",
       "       [11,  6, 10,  6, 10, 13],\n",
       "       [12, 12,  3,  8,  9,  5],\n",
       "       [14,  8, 12, 12,  2,  7],\n",
       "       [ 3,  9, 12, 12, 12, 14],\n",
       "       [ 8, 10,  3, 12, 12,  4],\n",
       "       [ 8, 12,  2, 14,  6,  9],\n",
       "       [ 5,  8, 13, 14,  2, 10],\n",
       "       [11, 13, 10,  4, 10,  8],\n",
       "       [ 4,  2,  5,  6, 13,  7],\n",
       "       [ 9, 13,  6,  8, 14, 12],\n",
       "       [11,  8,  6, 12, 14, 11],\n",
       "       [14,  5,  3,  9, 14, 11],\n",
       "       [12,  7,  4,  8,  2,  3]])"
      ]
     },
     "execution_count": 114,
     "metadata": {},
     "output_type": "execute_result"
    }
   ],
   "source": [
    "diciembre"
   ]
  },
  {
   "cell_type": "code",
   "execution_count": 116,
   "id": "b014340b",
   "metadata": {},
   "outputs": [
    {
     "data": {
      "text/plain": [
       "array([45, 35, 56, 49, 55, 62, 49, 51, 52, 56, 37, 62, 62, 56, 36])"
      ]
     },
     "execution_count": 116,
     "metadata": {},
     "output_type": "execute_result"
    }
   ],
   "source": [
    "sumaPorProducto = np.sum(diciembre, axis = 1)\n",
    "sumaPorProducto"
   ]
  },
  {
   "cell_type": "code",
   "execution_count": 118,
   "id": "a151dd10",
   "metadata": {},
   "outputs": [
    {
     "data": {
      "text/plain": [
       "5"
      ]
     },
     "execution_count": 118,
     "metadata": {},
     "output_type": "execute_result"
    }
   ],
   "source": [
    "indiceMayor = np.argmax(sumaPorProducto)\n",
    "indiceMayor"
   ]
  },
  {
   "cell_type": "code",
   "execution_count": 121,
   "id": "efee68e6",
   "metadata": {},
   "outputs": [
    {
     "name": "stdout",
     "output_type": "stream",
     "text": [
      "Nombre del producto con la mayor suma total de producción del mes de diciembre\n",
      "UltraGourmet Mezcla de Especias\n"
     ]
    }
   ],
   "source": [
    "print(\"Nombre del producto con la mayor suma total de producción del mes de diciembre\")\n",
    "print(productos[indiceMayor])"
   ]
  },
  {
   "cell_type": "code",
   "execution_count": 122,
   "id": "8547a66b",
   "metadata": {},
   "outputs": [
    {
     "name": "stdout",
     "output_type": "stream",
     "text": [
      "Nombre de la zona con la menor suma total de producción del mes de noviembre.\n",
      "zona3\n"
     ]
    }
   ],
   "source": [
    "print(\"Nombre de la zona con la menor suma total de producción del mes de noviembre.\")\n",
    "sumaPorZonas = np.sum(noviembre, axis = 0)\n",
    "indiceMenor = np.argmin(sumaPorZonas)\n",
    "print(zonas[indiceMenor])"
   ]
  }
 ],
 "metadata": {
  "kernelspec": {
   "display_name": "Python 3 (ipykernel)",
   "language": "python",
   "name": "python3"
  },
  "language_info": {
   "codemirror_mode": {
    "name": "ipython",
    "version": 3
   },
   "file_extension": ".py",
   "mimetype": "text/x-python",
   "name": "python",
   "nbconvert_exporter": "python",
   "pygments_lexer": "ipython3",
   "version": "3.11.5"
  }
 },
 "nbformat": 4,
 "nbformat_minor": 5
}
