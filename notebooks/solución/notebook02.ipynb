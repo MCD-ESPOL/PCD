{
 "cells": [
  {
   "cell_type": "markdown",
   "id": "e3445039",
   "metadata": {},
   "source": [
    "# Tabla de Contenidos\n",
    "\n",
    "* [Contenidos](#Tabla-de-Contenidos)\n",
    "    * [Salida por pantalla](#Salida-por-pantalla)\n",
    "    * [Variables](#Variables)\n",
    "    * [Identificadores](#Identificadores)\n",
    "    * [Tipos de datos](#Tipos-de-datos)\n",
    "    * [Errores](#Errores)\n",
    "    * [Operadores matemáticos](#Operadores-matemáticos)\n",
    "    * [Cadenas Literales](#Cadenas-Literales)\n",
    "    * [Ingreso de datos](#Ingreso-de-datos)\n",
    "    * [Conversión de tipos de datos](#Conversión-de-tipos-de-datos)\n",
    "* [Ejercicios](#Ejercicios)"
   ]
  },
  {
   "cell_type": "markdown",
   "id": "f70ef544-95c7-4d2b-8c0b-b8d7d51accf0",
   "metadata": {},
   "source": [
    "### Salida por pantalla\n",
    "\n",
    "Para mostrar un mensaje por pantalla, se utiliza la instrucción **print**. Entre los paréntesis **(** **)** se coloca el contenido a procesar y a mostrar, por ejemplo:\n",
    "\n",
    "```python\n",
    "\n",
    "print(\"Este es un mensaje de salida\")\n",
    "\n",
    "print( (2 + 4) * 3 )\n",
    "```"
   ]
  },
  {
   "cell_type": "code",
   "execution_count": 3,
   "id": "ef11afc9-6cd0-4a78-8a7b-496b6cdbca6b",
   "metadata": {},
   "outputs": [
    {
     "name": "stdout",
     "output_type": "stream",
     "text": [
      "Juan Preciado\n"
     ]
    }
   ],
   "source": [
    "# Escriba aquí la instrucción print con la que muestre como mensaje su nombre completo \n",
    "\n",
    "print(\"Juan Preciado\")"
   ]
  },
  {
   "cell_type": "markdown",
   "id": "2ac1de44",
   "metadata": {},
   "source": [
    "<details>\n",
    "  <summary><div>→ Haga click aquí para ver la solución</div></summary>\n",
    "  <pre lang=\"python\"><code>\n",
    "print(\"Juan Preciado\")\n",
    "  </code></pre>\n",
    "</details> "
   ]
  },
  {
   "cell_type": "code",
   "execution_count": null,
   "id": "deb24873-1deb-4189-8022-071cad072a7e",
   "metadata": {},
   "outputs": [],
   "source": [
    "# Escriba aquí la instrucción print con la que muestre el resultado de la operación (4 - 8) / 2\n",
    "\n"
   ]
  },
  {
   "cell_type": "markdown",
   "id": "2b545324",
   "metadata": {},
   "source": [
    "<details>\n",
    "  <summary><div>→ Haga click aquí para ver la solución</div></summary>\n",
    "  <pre lang=\"python\"><code>\n",
    "print( (4 - 8) / 2 )\n",
    "  </code></pre>\n",
    "</details> "
   ]
  },
  {
   "cell_type": "markdown",
   "id": "3744bfa4",
   "metadata": {},
   "source": [
    "[Regresar a la TC](#Tabla-de-Contenidos)"
   ]
  },
  {
   "cell_type": "markdown",
   "id": "25c12a88-17c9-4075-bdaf-03ff7a62c726",
   "metadata": {},
   "source": [
    "### Variables\n",
    "\n",
    "Una **variable** es un contenedor para almacenar datos. Una variable se crea cuando se **asigna** un valor.\n",
    "\n",
    "\n",
    "<div align=\"center\">\n",
    "    <img src=\"https://yosoy.dev/wp-content/uploads/2014/08/variables-en-programacion.png\" width=\"40%\"/>\n",
    "    Fuente: <a href=\"https://yosoy.dev/que-es-una-variable-y-como-se-declaran-en-c/\">¿Que es una variable?</a>\n",
    "</div>\n",
    "\n",
    "```python\n",
    "nombre = \"María\"\n",
    "edad = 32\n",
    "\n",
    "print( nombre )\n",
    "print( edad )\n",
    "```"
   ]
  },
  {
   "cell_type": "code",
   "execution_count": 4,
   "id": "d1cf363b",
   "metadata": {},
   "outputs": [
    {
     "name": "stdout",
     "output_type": "stream",
     "text": [
      "Juan Preciado\n",
      "32\n"
     ]
    }
   ],
   "source": [
    "# Cree y asigne las variables nombre y edad. \n",
    "# Asigne a cada variable sus datos. \n",
    "# Finalmente, muestre por pantalla el contenido de dichas variables. \n",
    "\n",
    "nombre = \"Juan Preciado\"\n",
    "edad = 32\n",
    "\n",
    "print(nombre)\n",
    "print(edad)"
   ]
  },
  {
   "cell_type": "markdown",
   "id": "7cb8a3cc",
   "metadata": {},
   "source": [
    "<details>\n",
    "  <summary><div>→ Haga click aquí para ver la solución</div></summary>\n",
    "  <pre lang=\"python\"><code>\n",
    "nombre = \"Juan Preciado\"\n",
    "edad = 32\n",
    "\n",
    "print( nombre )\n",
    "print( edad )\n",
    "  </code></pre>\n",
    "</details> "
   ]
  },
  {
   "cell_type": "markdown",
   "id": "f69515fa",
   "metadata": {},
   "source": [
    "[Regresar a la TC](#Tabla-de-Contenidos)"
   ]
  },
  {
   "cell_type": "markdown",
   "id": "d3ec98ca",
   "metadata": {},
   "source": [
    "### Identificadores\n",
    "\n",
    "Los identificadores son los **nombres de las variables** para reconocer su contenido. Algunas reglas para crear el identificador de una variables:\n",
    "\n",
    "* Debe comenzar con una letra o un carácter de subrayado.\n",
    "* No puede comenzar con un número\n",
    "* Solo puede contener caracteres alfanuméricos y guiones bajos (A-z, 0-9 y _).\n",
    "* Distinguen entre mayúsculas y minúsculas (edad, Edad y EDAD son tres variables diferentes)\n",
    "* No puede ser ninguna de las palabras clave de Python, por ejemplo no se puede utilizar la palabra: `print`"
   ]
  },
  {
   "cell_type": "code",
   "execution_count": 16,
   "id": "d8ce93a8",
   "metadata": {},
   "outputs": [
    {
     "name": "stdout",
     "output_type": "stream",
     "text": [
      "6.359999999999999\n"
     ]
    }
   ],
   "source": [
    "a = 5\n",
    "b = 2.6\n",
    "\n",
    "# Cree una variable a la que asigne el resultado de la operación (a - b) * 2.65. Muestre el contenido de la variable.\n",
    "\n",
    "resultado = (a - b) * 2.65\n",
    "print( resultado )"
   ]
  },
  {
   "cell_type": "markdown",
   "id": "c5fd4b35",
   "metadata": {},
   "source": [
    "<details>\n",
    "  <summary><div>→ Haga click aquí para ver la solución</div></summary>\n",
    "  <pre lang=\"python\"><code>\n",
    "resultado = (a - b) * 2.65\n",
    "\n",
    "print( resultado )\n",
    "  </code></pre>\n",
    "</details> "
   ]
  },
  {
   "cell_type": "code",
   "execution_count": 19,
   "id": "57c825ed",
   "metadata": {},
   "outputs": [
    {
     "name": "stdout",
     "output_type": "stream",
     "text": [
      "ESPOL campus prosperina\n"
     ]
    }
   ],
   "source": [
    "# Cree una variable a la que asigne la dirección de su trabajo. Muestre el contenido de la variable.\n",
    "\n",
    "dirTrabajo = \"ESPOL campus prosperina\"\n",
    "\n",
    "print(dirTrabajo)"
   ]
  },
  {
   "cell_type": "markdown",
   "id": "466c159c",
   "metadata": {},
   "source": [
    "<details>\n",
    "  <summary><div>→ Haga click aquí para ver la solución</div></summary>\n",
    "  <pre lang=\"python\"><code>\n",
    "direccion = \"Vía a Comala\"\n",
    "\n",
    "print( direccion )\n",
    "  </code></pre>\n",
    "</details> "
   ]
  },
  {
   "cell_type": "markdown",
   "id": "63af9e6c",
   "metadata": {},
   "source": [
    "[Regresar a la TC](#Tabla-de-Contenidos)"
   ]
  },
  {
   "cell_type": "markdown",
   "id": "aa9630d6",
   "metadata": {},
   "source": [
    "### Tipos de datos\n",
    "\n",
    "Una variable puede contener un dato de diferentes **tipos de datos**. Cada tipo tiene sus características particulares, como se muestra en la siguiente tabla.\n",
    "\n",
    "\n",
    "| Nombre           | Ejemplo                                                                                                     |\n",
    "|:-----------------|:------------------------------------------------------------------------------------------------------------|\n",
    "| Entero (int)     | <pre><code>edad = 27<br><br>print( \"Mi edad es: \", edad )     </code></pre>                                                             |\n",
    "| Flotante (float) | <pre><code>precio = 34.42<br><br>print( \"El precio a pagar es: \", precio)</code></pre>                                                    |\n",
    "| Booleano (bool)  | <pre><code>resultadoComparacion = 89 > 34<br><br>print( \"El resultado de comparar 89 > 34 es: \", resultadoComparacion)</code></pre>   |\n",
    "| Cadena de caracteres (str)  | <pre><code>nombre = 'María González'<br>direccion = \"Ciudadela Gaviota, Mz 34 V 92\"<br><br>print( nombre + \" vive en \" + direccion)</code></pre>   |\n",
    "| Lista (list)  | <pre><code>valoresAPagar = [ 34.2 , 23.9 , 12.89, 10.34]<br><br>print(\"Los valores a pagar son: \", valoresAPagar) </code></pre>   |"
   ]
  },
  {
   "cell_type": "code",
   "execution_count": 5,
   "id": "28ec115c",
   "metadata": {},
   "outputs": [
    {
     "name": "stdout",
     "output_type": "stream",
     "text": [
      "El resultado de la comparación de 25 >= 63:  False\n"
     ]
    }
   ],
   "source": [
    "# Asigne el resultado de la comparacion 25 >= 63 a la variable comparacion1\n",
    "\n",
    "comparacion1 = 25 >= 63\n",
    "\n",
    "print( \"El resultado de la comparación de 25 >= 63: \", comparacion1)"
   ]
  },
  {
   "cell_type": "markdown",
   "id": "253b263d",
   "metadata": {},
   "source": [
    "<details>\n",
    "  <summary><div>→ Haga click aquí para ver la solución</div></summary>\n",
    "  <pre lang=\"python\"><code>\n",
    "comparacion1 = 25 >= 63\n",
    "\n",
    "print(\"Resultado de la comparación 25 >= 63: \", comparacion1)\n",
    "  </code></pre>\n",
    "</details> "
   ]
  },
  {
   "cell_type": "code",
   "execution_count": 6,
   "id": "2c11f352",
   "metadata": {},
   "outputs": [
    {
     "name": "stdout",
     "output_type": "stream",
     "text": [
      "El resultado de la comparación de 25 < 63:  True\n"
     ]
    }
   ],
   "source": [
    "# Asigne el resultado de la comparacion 25 < 63 a la variable comparacion2\n",
    "\n",
    "comparacion2 = 25 < 63\n",
    "\n",
    "print( \"El resultado de la comparación de 25 < 63: \", comparacion2 )"
   ]
  },
  {
   "cell_type": "markdown",
   "id": "49e8288b",
   "metadata": {},
   "source": [
    "<details>\n",
    "  <summary><div>→ Haga click aquí para ver la solución</div></summary>\n",
    "  <pre lang=\"python\"><code>\n",
    "comparacion2 = 25 < 63\n",
    "\n",
    "print(\"Resultado de la comparación 25 < 63: \", comparacion2)\n",
    "  </code></pre>\n",
    "</details> "
   ]
  },
  {
   "cell_type": "code",
   "execution_count": 23,
   "id": "2d44696f",
   "metadata": {},
   "outputs": [
    {
     "name": "stdout",
     "output_type": "stream",
     "text": [
      "ESPOL - Km 4.5 vía Perimetral en  la ciudad de Guayaquil, EC\n"
     ]
    }
   ],
   "source": [
    "# Complete las variables direccionTrabajo, ciudadTrabajo y paisTrabajo con sus datos. \n",
    "\n",
    "direccionTrabajo = \"ESPOL - Km 4.5 vía Perimetral\" \n",
    "paisTrabajo = 'EC'\n",
    "ciudadTrabajo = \"Guayaquil\"\n",
    "\n",
    "print(direccionTrabajo + \" en  la ciudad de \" + ciudadTrabajo + \", \" + paisTrabajo)"
   ]
  },
  {
   "cell_type": "markdown",
   "id": "201dc74c",
   "metadata": {},
   "source": [
    "<details>\n",
    "  <summary><div>→ Haga click aquí para ver la solución</div></summary>\n",
    "  <pre lang=\"python\"><code>\n",
    "direccionTrabajo = \"Km 4.5 via a Daule\" \n",
    "paisTrabajo = 'Ecuador'\n",
    "ciudadTrabajo = \"Guayaquil\"\n",
    "\n",
    "print(direccionTrabajo + \" en  la ciudad de \" + ciudadTrabajo + \", \" + paisTrabajo)\n",
    "  </code></pre>\n",
    "</details> "
   ]
  },
  {
   "cell_type": "code",
   "execution_count": 7,
   "id": "378715b2",
   "metadata": {},
   "outputs": [
    {
     "name": "stdout",
     "output_type": "stream",
     "text": [
      "Los nombres los invitados son:  ['Pedro', 'Tita', 'Juan Preciado', 'Gertrudis']\n"
     ]
    }
   ],
   "source": [
    "# Complete la lista invitados con los nombres de 5 personas. Separe cada nombre con una coma.\n",
    "\n",
    "invitados = [ 'Pedro', 'Tita', \"Juan Preciado\", \"Gertrudis\" ]\n",
    "\n",
    "\n",
    "print(\"Los nombres los invitados son: \", invitados) "
   ]
  },
  {
   "cell_type": "markdown",
   "id": "64c9e842",
   "metadata": {},
   "source": [
    "<details>\n",
    "  <summary><div>→ Haga click aquí para ver la solución</div></summary>\n",
    "  <pre lang=\"python\"><code>\n",
    "\n",
    "invitados = [ 'Kevin', 'Carmen', 'Luis', 'José' ]\n",
    "\n",
    "print(\"Los nombres los invitados son: \", invitados) \n",
    "\n",
    "  </code></pre>\n",
    "</details> "
   ]
  },
  {
   "cell_type": "markdown",
   "id": "08bc0337",
   "metadata": {},
   "source": [
    "[Regresar a la TC](#Tabla-de-Contenidos)"
   ]
  },
  {
   "cell_type": "markdown",
   "id": "02b594d3-a1ce-4e05-8767-35ab3218671c",
   "metadata": {},
   "source": [
    "### Errores\n",
    "\n",
    "Ejecute cada una de las celdas e identifique el tipo de error que muestra Python."
   ]
  },
  {
   "cell_type": "code",
   "execution_count": 26,
   "id": "88638d47",
   "metadata": {},
   "outputs": [
    {
     "name": "stdout",
     "output_type": "stream",
     "text": [
      "Dirección:  Benalcázar N4-24 y Espejo, Quito, Ecuador\n"
     ]
    }
   ],
   "source": [
    "# Error de sintaxis\n",
    "\n",
    "direccionEcuador = \"Benalcázar N4-24 y Espejo, Quito, Ecuador\"\n",
    "\n",
    "print( \"Dirección: \" , direccionEcuador )"
   ]
  },
  {
   "cell_type": "markdown",
   "id": "a94be398",
   "metadata": {},
   "source": [
    "<details>\n",
    "  <summary><div>→ Haga click aquí para ver la solución</div></summary>\n",
    "  <pre lang=\"python\"><code>\n",
    "    El identificador de la variable no está definido. En este caso, el nombre del identificador no es el correcto.\n",
    "  </code></pre>\n",
    "</details> "
   ]
  },
  {
   "cell_type": "code",
   "execution_count": 28,
   "id": "8825c69a",
   "metadata": {},
   "outputs": [
    {
     "name": "stdout",
     "output_type": "stream",
     "text": [
      "Dirección:  Benalcázar N4-24 y Espejo, Quito, Ecuador\n"
     ]
    }
   ],
   "source": [
    "# Error de sintaxis\n",
    "\n",
    "direccion593 = \"Benalcázar N4-24 y Espejo, Quito, Ecuador\"\n",
    "\n",
    "print( \"Dirección: \" , direccion593 )"
   ]
  },
  {
   "cell_type": "markdown",
   "id": "67b0f173",
   "metadata": {},
   "source": [
    "<details>\n",
    "  <summary><div>→ Haga click aquí para ver la solución</div></summary>\n",
    "  <pre lang=\"python\"><code>\n",
    "    Indentación inesperada\n",
    "  </code></pre>\n",
    "</details> "
   ]
  },
  {
   "cell_type": "code",
   "execution_count": 31,
   "id": "78782a01",
   "metadata": {},
   "outputs": [
    {
     "name": "stdout",
     "output_type": "stream",
     "text": [
      "Dirección:  Benalcázar N4-24 y Espejo, Quito, Ecuador\n"
     ]
    }
   ],
   "source": [
    "# Error de sintaxis\n",
    "\n",
    "direccion593 = \"Benalcázar N4-24 y Espejo, Quito, Ecuador\"\n",
    "\n",
    "print( \"Dirección: \" , direccion593 )"
   ]
  },
  {
   "cell_type": "markdown",
   "id": "db88b69a",
   "metadata": {},
   "source": [
    "<details>\n",
    "  <summary><div>→ Haga click aquí para ver la solución</div></summary>\n",
    "  <pre lang=\"python\"><code>\n",
    "    La instrucción no está definida. En este caso, la instrucción no es la correcta.\n",
    "  </code></pre>\n",
    "</details> "
   ]
  },
  {
   "cell_type": "code",
   "execution_count": 32,
   "id": "d3221581",
   "metadata": {},
   "outputs": [
    {
     "ename": "ZeroDivisionError",
     "evalue": "float division by zero",
     "output_type": "error",
     "traceback": [
      "\u001b[1;31m---------------------------------------------------------------------------\u001b[0m",
      "\u001b[1;31mZeroDivisionError\u001b[0m                         Traceback (most recent call last)",
      "Cell \u001b[1;32mIn[32], line 6\u001b[0m\n\u001b[0;32m      3\u001b[0m cuentaTotal \u001b[38;5;241m=\u001b[39m \u001b[38;5;241m325.12\u001b[39m\n\u001b[0;32m      4\u001b[0m cantidadPersonas \u001b[38;5;241m=\u001b[39m \u001b[38;5;241m0\u001b[39m\n\u001b[1;32m----> 6\u001b[0m cuota \u001b[38;5;241m=\u001b[39m cuentaTotal \u001b[38;5;241m/\u001b[39m cantidadPersonas\n\u001b[0;32m      8\u001b[0m \u001b[38;5;28mprint\u001b[39m(\u001b[38;5;124m\"\u001b[39m\u001b[38;5;124mLa cuenta por persona es: \u001b[39m\u001b[38;5;124m\"\u001b[39m, cuota)\n",
      "\u001b[1;31mZeroDivisionError\u001b[0m: float division by zero"
     ]
    }
   ],
   "source": [
    "# Error de ejecución\n",
    "\n",
    "cuentaTotal = 325.12\n",
    "cantidadPersonas = 0\n",
    "\n",
    "cuota = cuentaTotal / cantidadPersonas\n",
    "\n",
    "print(\"La cuenta por persona es: \", cuota)\n"
   ]
  },
  {
   "cell_type": "markdown",
   "id": "9661bc08",
   "metadata": {},
   "source": [
    "<details>\n",
    "  <summary><div>→ Haga click aquí para ver la solución</div></summary>\n",
    "  <pre lang=\"python\"><code>\n",
    "    División para cero.\n",
    "  </code></pre>\n",
    "</details> "
   ]
  },
  {
   "cell_type": "markdown",
   "id": "314569f8",
   "metadata": {},
   "source": [
    "[Regresar a la TC](#Tabla-de-Contenidos)"
   ]
  },
  {
   "cell_type": "markdown",
   "id": "2fc75dd3-419e-4ad2-a5fa-500a0a95f557",
   "metadata": {},
   "source": [
    "### Operadores matemáticos\n",
    "\n",
    "Los operadores matemáticos se utilizan para realizar operaciones con variables y valores. En la siguiente tabla se encuentran el operador, el nombre y un ejemplo del uso del operador.\n",
    "\n",
    "<div align=\"center\">\n",
    "    <img src=\"https://github.com/MCD-ESPOL/PCD/blob/main/notebooks/images/operadores_matematicos.png?raw=true\" width=\"45%\"/>\n",
    "</div>"
   ]
  },
  {
   "cell_type": "code",
   "execution_count": 38,
   "id": "af7a751d",
   "metadata": {},
   "outputs": [
    {
     "name": "stdout",
     "output_type": "stream",
     "text": [
      "Subtotal:  179.2\n"
     ]
    }
   ],
   "source": [
    "# Cree tres variables: precio, cantidad y subtotal \n",
    "# A las variables precio y cantidad, asigne valores enteros o flotantes.\n",
    "# A la variable subtotal, asigne el resultado de la operación precio * cantidad\n",
    "# Con un mensaje descriptivo, muestre por pantalla el valor de la variable subtotal\n",
    "\n",
    "  \n",
    "precio = 5.6\n",
    "cantidad = 32\n",
    "subtotal = precio * cantidad\n",
    "\n",
    "print(\"Subtotal: \", subtotal)\n"
   ]
  },
  {
   "cell_type": "markdown",
   "id": "55513b4c",
   "metadata": {},
   "source": [
    "<details>\n",
    "  <summary><div>→ Haga click aquí para ver la solución</div></summary>\n",
    "  <pre lang=\"python\"><code>\n",
    "  \n",
    "    precio = 2.6\n",
    "    cantidad = 32\n",
    "    subtotal = precio * cantidad\n",
    "\n",
    "    print(\"Subtotal: \", subtotal)\n",
    "\n",
    "  </code></pre>\n",
    "</details> "
   ]
  },
  {
   "cell_type": "code",
   "execution_count": 39,
   "id": "bb8a9fc5",
   "metadata": {},
   "outputs": [
    {
     "name": "stdout",
     "output_type": "stream",
     "text": [
      "Total a pagar: $ 206.07999999999998\n"
     ]
    }
   ],
   "source": [
    "# Asigne a la variable ivaAPagar el resultado de la operación subtotal * 15 / 100\n",
    "# Asigne a la variable totalAPagar el resultado de la suma de la variable subtotal y la variable ivaAPagar\n",
    "# Con un mensaje descriptivo, muestre el contenido de las variables ivaAPagar y totalAPagar\n",
    "\n",
    "ivaAPagar = subtotal * 15 / 100\n",
    "totalAPagar = subtotal + ivaAPagar\n",
    "print(\"Total a pagar: $\", totalAPagar)"
   ]
  },
  {
   "cell_type": "markdown",
   "id": "c478966b",
   "metadata": {},
   "source": [
    "<details>\n",
    "  <summary><div>→ Haga click aquí para ver la solución</div></summary>\n",
    "  <pre lang=\"python\"><code>\n",
    "  \n",
    "    ivaAPagar = ( subtotal * 15 ) / 100\n",
    "    totalAPagar = subtotal + ivaAPagar\n",
    "\n",
    "    print(\"El IVA a pagar es \", ivaAPagar )\n",
    "    print(\"El total es \", totalAPagar )\n",
    "\n",
    "  </code></pre>\n",
    "</details> "
   ]
  },
  {
   "cell_type": "markdown",
   "id": "a8890946",
   "metadata": {},
   "source": [
    "[Regresar a la TC](#Tabla-de-Contenidos)"
   ]
  },
  {
   "cell_type": "markdown",
   "id": "b877a1fd",
   "metadata": {},
   "source": [
    "### Cadenas Literales\n",
    "\n",
    "Las cadenas literales permiten incluir el valor de las expresiones de Python dentro de una cadena prefijando la cadena con f o F y escribiendo expresiones como `{expresion}`.\n",
    "\n",
    "<div align=\"center\">\n",
    "    <img src=\"https://www.kdnuggets.com/wp-content/uploads/c_python_fstrings_magic_5_gamechanging_tricks_every_coder_needs_know_1.png\" width=\"40%\"/>\n",
    "    Fuente: <a href=\"https://www.kdnuggets.com/python-fstrings-magic-5-gamechanging-tricks-every-coder-needs-to-know\">Python f-Strings Magic: 5 Game-Changing Tricks Every Coder Needs to Know</a>\n",
    "</div>\n",
    "\n",
    "Más información en [Python f-string](https://builtin.com/data-science/python-f-string)"
   ]
  },
  {
   "cell_type": "code",
   "execution_count": 44,
   "id": "c7420feb",
   "metadata": {},
   "outputs": [
    {
     "name": "stdout",
     "output_type": "stream",
     "text": [
      "El subtotal es  179.20 dólares\n",
      "El IVA a pagar es 26.88 dólares\n",
      "El total es 206.08 dólares\n"
     ]
    }
   ],
   "source": [
    "# Muestre el contenido de las variables subtotal, ivaAPagar y totalAPagar, con 2 decimales \n",
    "\n",
    "print(f\"El subtotal es  {subtotal:.2f} dólares\" )\n",
    "print(f\"El IVA a pagar es {ivaAPagar:.2f} dólares\" )\n",
    "print(f'El total es {totalAPagar:.2f} dólares' )"
   ]
  },
  {
   "cell_type": "markdown",
   "id": "fc055d88",
   "metadata": {},
   "source": [
    "<details>\n",
    "  <summary><div>→ Haga click aquí para ver la solución</div></summary>\n",
    "  <pre lang=\"python\"><code>\n",
    "  \n",
    "print(f\"El subtotal es  {subtotal:.2f} dólares\" )\n",
    "print(f\"El IVA a pagar es {ivaAPagar:.2f} dólares\" )\n",
    "print(\"El total es {totalAPagar:.2f} dólares\" )\n",
    "\n",
    "  </code></pre>\n",
    "</details> "
   ]
  },
  {
   "cell_type": "markdown",
   "id": "f72b5416",
   "metadata": {},
   "source": [
    "[Regresar a la TC](#Tabla-de-Contenidos)"
   ]
  },
  {
   "cell_type": "markdown",
   "id": "cc681321-1cbe-4a46-8aaa-adbf5cdca60c",
   "metadata": {},
   "source": [
    "### Ingreso de datos\n",
    "\n",
    "Para ingresar un dato, se utiliza la instrucción **input**. Entre los paréntesis **(** **)** se coloca un mensaje que servirá como ayuda acerca del dato a introducir, por ejemplo:\n",
    "\n",
    "<br><br>\n",
    "\n",
    "<div align=\"center\">\n",
    "    <img src=\"https://github.com/MCD-ESPOL/PCD/blob/main/notebooks/images/python_input.png?raw=true\" width=\"60%\"/>\n",
    "</div>"
   ]
  },
  {
   "cell_type": "code",
   "execution_count": 8,
   "id": "20f127e4",
   "metadata": {},
   "outputs": [
    {
     "name": "stdout",
     "output_type": "stream",
     "text": [
      "Ingrese el nombre del evento: Fiesta de Navidad\n"
     ]
    }
   ],
   "source": [
    "# Solicite el ingreso del nombre (nombreEvento) del evento \n",
    "\n",
    "nombreEvento = input(\"Ingrese el nombre del evento: \")"
   ]
  },
  {
   "cell_type": "markdown",
   "id": "1bcc3a72",
   "metadata": {},
   "source": [
    "<details>\n",
    "  <summary><div>→ Haga click aquí para ver la solución</div></summary>\n",
    "  <pre lang=\"python\"><code>\n",
    "  \n",
    "nombreEvento = input(\"Ingrese el nombre del evento: \")\n",
    "\n",
    "  </code></pre>\n",
    "</details> "
   ]
  },
  {
   "cell_type": "code",
   "execution_count": 16,
   "id": "1816badd",
   "metadata": {},
   "outputs": [
    {
     "name": "stdout",
     "output_type": "stream",
     "text": [
      "Ingrese la cantidad de participantes: 32\n"
     ]
    }
   ],
   "source": [
    "# Solicite el ingreso de la cantidad de participantes (cantidadParticipantes) al evento \n",
    "\n",
    "cantidadParticipantes = input(\"Ingrese la cantidad de participantes: \")"
   ]
  },
  {
   "cell_type": "markdown",
   "id": "dc07c0a9",
   "metadata": {},
   "source": [
    "<details>\n",
    "  <summary><div>→ Haga click aquí para ver la solución</div></summary>\n",
    "  <pre lang=\"python\"><code>\n",
    "  \n",
    "cantidadParticipantes = input(\"Ingrese la cantidad de participantes: \")\n",
    "\n",
    "  </code></pre>\n",
    "</details> "
   ]
  },
  {
   "cell_type": "code",
   "execution_count": 17,
   "id": "07208401",
   "metadata": {},
   "outputs": [
    {
     "name": "stdout",
     "output_type": "stream",
     "text": [
      "Ingrese el precio de la entrada: 2.36\n"
     ]
    }
   ],
   "source": [
    "# Solicite el ingreso del precio de la entrada (precioEntrada) al evento \n",
    "\n",
    "precio = input(\"Ingrese el precio de la entrada: \")"
   ]
  },
  {
   "cell_type": "markdown",
   "id": "67c582af",
   "metadata": {},
   "source": [
    "<details>\n",
    "  <summary><div>→ Haga click aquí para ver la solución</div></summary>\n",
    "  <pre lang=\"python\"><code>\n",
    "  \n",
    "precioEntrada = input(\"Ingrese el precio de la entrada: $\")\n",
    "\n",
    "  </code></pre>\n",
    "</details> "
   ]
  },
  {
   "cell_type": "code",
   "execution_count": 18,
   "id": "cffb0e6f",
   "metadata": {},
   "outputs": [
    {
     "name": "stdout",
     "output_type": "stream",
     "text": [
      "El evento  Fiesta de Navidad\n",
      "Asistirán  32  participantes\n",
      "Con un precio $ 2.36\n"
     ]
    }
   ],
   "source": [
    "# Muestre por pantalla el nombre del evento, la cantidad de participantes al evento y el precio de la entrada al evento\n",
    "\n",
    "print(\"El evento \", nombreEvento)\n",
    "print(\"Asistirán \", cantidadParticipantes, \" participantes\")\n",
    "print(f'Con un precio $ {precio}')"
   ]
  },
  {
   "cell_type": "markdown",
   "id": "5240cc6c",
   "metadata": {},
   "source": [
    "<details>\n",
    "  <summary><div>→ Haga click aquí para ver la solución</div></summary>\n",
    "  <pre lang=\"python\"><code>\n",
    "  \n",
    "print(\"Ha comprado para el evento \", nombreEvento, \" la cantidad de \", cantidadParticipantes, \" con un valor de $\", precioEntrada)\n",
    "\n",
    "  </code></pre>\n",
    "</details> "
   ]
  },
  {
   "cell_type": "code",
   "execution_count": 19,
   "id": "c13a0050",
   "metadata": {},
   "outputs": [
    {
     "ename": "TypeError",
     "evalue": "can't multiply sequence by non-int of type 'str'",
     "output_type": "error",
     "traceback": [
      "\u001b[1;31m---------------------------------------------------------------------------\u001b[0m",
      "\u001b[1;31mTypeError\u001b[0m                                 Traceback (most recent call last)",
      "Cell \u001b[1;32mIn[19], line 4\u001b[0m\n\u001b[0;32m      1\u001b[0m \u001b[38;5;66;03m# Calcule y asigne el resultado la multiplicación de cantidadParticipantes * precioEntrada en la variable total. \u001b[39;00m\n\u001b[0;32m      2\u001b[0m \u001b[38;5;66;03m# Muestre el valor de la variable total.\u001b[39;00m\n\u001b[1;32m----> 4\u001b[0m total \u001b[38;5;241m=\u001b[39m cantidadParticipantes \u001b[38;5;241m*\u001b[39m precio\n\u001b[0;32m      5\u001b[0m \u001b[38;5;28mprint\u001b[39m(\u001b[38;5;124m\"\u001b[39m\u001b[38;5;124mEl total es $\u001b[39m\u001b[38;5;124m\"\u001b[39m, total)\n",
      "\u001b[1;31mTypeError\u001b[0m: can't multiply sequence by non-int of type 'str'"
     ]
    }
   ],
   "source": [
    "# Calcule y asigne el resultado la multiplicación de cantidadParticipantes * precioEntrada en la variable total. \n",
    "# Muestre el valor de la variable total.\n",
    "\n",
    "total = cantidadParticipantes * precio\n",
    "print(\"El total es $\", total)"
   ]
  },
  {
   "cell_type": "markdown",
   "id": "490d674a",
   "metadata": {},
   "source": [
    "<details>\n",
    "  <summary><div>→ Haga click aquí para ver la solución</div></summary>\n",
    "  <pre lang=\"python\"><code>\n",
    "\n",
    "total = cantidadParticipantes * precioEntrada\n",
    "print(\"Total: \", total)\n",
    "\n",
    "  </code></pre>\n",
    "</details> "
   ]
  },
  {
   "cell_type": "markdown",
   "id": "81023a8c",
   "metadata": {},
   "source": [
    "**NOTA:** la instrucción input SIEMPRE devuelve un dato de tipo **Cadena de caracteres**. "
   ]
  },
  {
   "cell_type": "markdown",
   "id": "4affe4fb",
   "metadata": {},
   "source": [
    "[Regresar a la TC](#Tabla-de-Contenidos)"
   ]
  },
  {
   "cell_type": "markdown",
   "id": "514346a3",
   "metadata": {},
   "source": [
    "### Conversión de tipos de datos\n",
    "\n",
    "Para convertir un variable a un **tipo de dato** flotante o entero, utilice las instrucciones (funciones) que aparecen en la siguiente tabla.\n",
    "\n",
    "| Nombre  | Descripción         | Ejemplo                                                               |\n",
    "|:--------|:-------------------|:-----------------------------------------------------------------------|\n",
    "| int()   | Convierte un dato en entero        | <pre><code>numeroFloat = 34.2 <br>numeroInt = int(numeroFloat) <br>print(\"El número flotante es: \", numeroFloat) <br>print(\"El número entero es: \", numeroInt) <br><br>**Salida:**<br>El número flotante es:  34.2 <br>El número entero es:  34</code></pre> |\n",
    "| float() | Convierte un dato en flotante      | <pre><code>numeroInt = 26 <br>numeroFloat = float(numeroInt)  <br>print(\"El número entero es: \", numeroInt) <br>print(\"El número flotante es: \", numeroFloat) <br><br>**Salida:**<br>El número entero es:  26<br>El número flotante es:  26.0 </code></pre> |\n",
    "\n"
   ]
  },
  {
   "cell_type": "code",
   "execution_count": 20,
   "id": "1983bab4",
   "metadata": {},
   "outputs": [
    {
     "name": "stdout",
     "output_type": "stream",
     "text": [
      "Cantidad de participantes 32\n"
     ]
    }
   ],
   "source": [
    "# Asigne a la variable cantidadParticipantesInt, el resultado de convertir a entero la variable cantidadParticipantes\n",
    "\n",
    "cantidadParticipantesInt = int(cantidadParticipantes)\n",
    "print(f\"Cantidad de participantes {cantidadParticipantesInt}\")"
   ]
  },
  {
   "cell_type": "markdown",
   "id": "b958a5d3",
   "metadata": {},
   "source": [
    "<details>\n",
    "  <summary><div>→ Haga click aquí para ver la solución</div></summary>\n",
    "  <pre lang=\"python\"><code>\n",
    "\n",
    "cantidadParticipantesInt = int( cantidadParticipantes )\n",
    "\n",
    "  </code></pre>\n",
    "</details> "
   ]
  },
  {
   "cell_type": "code",
   "execution_count": 22,
   "id": "1e918c97",
   "metadata": {},
   "outputs": [
    {
     "name": "stdout",
     "output_type": "stream",
     "text": [
      "Precio $ 2.36\n"
     ]
    }
   ],
   "source": [
    "# Asigne a la variable precioEntradaFloat, el resultado de convertir a flotante la variable precioEntrada\n",
    "\n",
    "precioEntradaFloat = float(precio)\n",
    "print(f\"Precio $ {precioEntradaFloat}\")"
   ]
  },
  {
   "cell_type": "markdown",
   "id": "7075b428",
   "metadata": {},
   "source": [
    "<details>\n",
    "  <summary><div>→ Haga click aquí para ver la solución</div></summary>\n",
    "  <pre lang=\"python\"><code>\n",
    "\n",
    "precioEntradaFloat = float( precioEntrada )\n",
    "\n",
    "  </code></pre>\n",
    "</details> "
   ]
  },
  {
   "cell_type": "code",
   "execution_count": 23,
   "id": "6e0b9b12",
   "metadata": {},
   "outputs": [
    {
     "name": "stdout",
     "output_type": "stream",
     "text": [
      "El total a pagar $75.52\n"
     ]
    }
   ],
   "source": [
    "# Calcule y asigne el resultado la multiplicación de cantidadParticipantesInt * precioEntradaFloat en la variable total. \n",
    "# Muestre el valor de la variable total.\n",
    "\n",
    "total = cantidadParticipantesInt * precioEntradaFloat\n",
    "print(f\"El total a pagar ${ total }\")"
   ]
  },
  {
   "cell_type": "markdown",
   "id": "d9cd2901",
   "metadata": {},
   "source": [
    "<details>\n",
    "  <summary><div>→ Haga click aquí para ver la solución</div></summary>\n",
    "  <pre lang=\"python\"><code>\n",
    "\n",
    "total = cantidadParticipantesInt * precioEntradaFloat\n",
    "\n",
    "print(\"Total \", total)\n",
    "\n",
    "  </code></pre>\n",
    "</details> "
   ]
  },
  {
   "cell_type": "markdown",
   "id": "1cda9ac6",
   "metadata": {},
   "source": [
    "[Regresar a la TC](#Tabla-de-Contenidos)"
   ]
  },
  {
   "cell_type": "markdown",
   "id": "64ec895a",
   "metadata": {},
   "source": [
    "## Ejercicios"
   ]
  },
  {
   "cell_type": "markdown",
   "id": "849748f5",
   "metadata": {},
   "source": [
    "**Ejercicio 1: Estadísticas de Ventas Diarias**\n",
    "\n",
    "**Temas:** Variables, Identificadores, Tipos de datos, Operadores matemáticos, Salida por pantalla\n",
    "\n",
    "Escribe un programa que permita al usuario ingresar las ventas de un negocio en cinco días consecutivos. Al final, el programa debe calcular y mostrar:\n",
    "\n",
    "- La suma total de ventas\n",
    "- El promedio diario de ventas"
   ]
  },
  {
   "cell_type": "code",
   "execution_count": 24,
   "id": "b0cef563",
   "metadata": {},
   "outputs": [
    {
     "name": "stdout",
     "output_type": "stream",
     "text": [
      "Ingresa las ventas del día 1: 2.3\n",
      "Ingresa las ventas del día 2: 3.6\n",
      "Ingresa las ventas del día 3: 4.5\n",
      "Ingresa las ventas del día 4: 1.5\n",
      "Ingresa las ventas del día 5: 6.5\n"
     ]
    }
   ],
   "source": [
    "# Solicitar al usuario las ventas de cinco días consecutivos\n",
    "ventas_dia1 = float(input(\"Ingresa las ventas del día 1: \"))\n",
    "ventas_dia2 = float(input(\"Ingresa las ventas del día 2: \"))\n",
    "ventas_dia3 = float(input(\"Ingresa las ventas del día 3: \"))\n",
    "ventas_dia4 = float(input(\"Ingresa las ventas del día 4: \"))\n",
    "ventas_dia5 = float(input(\"Ingresa las ventas del día 5: \"))"
   ]
  },
  {
   "cell_type": "code",
   "execution_count": 25,
   "id": "c2e5a6d2",
   "metadata": {},
   "outputs": [],
   "source": [
    "# Calcular la suma total y el promedio diario\n",
    "suma_total = ventas_dia1 + ventas_dia2 + ventas_dia3 + ventas_dia4 + ventas_dia5\n",
    "promedio_diario = suma_total / 5"
   ]
  },
  {
   "cell_type": "code",
   "execution_count": 27,
   "id": "c62ea122",
   "metadata": {},
   "outputs": [
    {
     "name": "stdout",
     "output_type": "stream",
     "text": [
      "La suma total de ventas es: $18.4\n",
      "El promedio diario de ventas es: $3.68\n"
     ]
    }
   ],
   "source": [
    "print(f\"La suma total de ventas es: ${suma_total}\")\n",
    "print(f\"El promedio diario de ventas es: ${promedio_diario:.2f}\")"
   ]
  },
  {
   "cell_type": "markdown",
   "id": "2f63a1ce",
   "metadata": {},
   "source": [
    "**Ejercicio 2: Clasificación de Calificaciones**\n",
    "\n",
    "**Temas:** Ingreso de datos, Conversión de tipos de datos, Operadores matemáticos, Cadenas Literales, Salida por pantalla\n",
    "\n",
    "Escribe un programa que solicite al usuario ingresar las calificaciones de cinco estudiantes. A continuación, convierte cada calificación de texto a número (entero o flotante, según corresponda) y calcula el promedio general. Muestra en pantalla el promedio con un mensaje personalizado, como \"El promedio general de calificaciones es: X\"."
   ]
  },
  {
   "cell_type": "code",
   "execution_count": 28,
   "id": "2135e6d1",
   "metadata": {},
   "outputs": [
    {
     "name": "stdout",
     "output_type": "stream",
     "text": [
      "Ingresa la calificación del estudiante 1: 20\n",
      "Ingresa la calificación del estudiante 2: 18\n",
      "Ingresa la calificación del estudiante 3: 1.6\n",
      "Ingresa la calificación del estudiante 4: 14\n",
      "Ingresa la calificación del estudiante 5: 13.2\n"
     ]
    }
   ],
   "source": [
    "# Solicitar al usuario las calificaciones de cinco estudiantes\n",
    "calificacion1 = float(input(\"Ingresa la calificación del estudiante 1: \"))\n",
    "calificacion2 = float(input(\"Ingresa la calificación del estudiante 2: \"))\n",
    "calificacion3 = float(input(\"Ingresa la calificación del estudiante 3: \"))\n",
    "calificacion4 = float(input(\"Ingresa la calificación del estudiante 4: \"))\n",
    "calificacion5 = float(input(\"Ingresa la calificación del estudiante 5: \"))"
   ]
  },
  {
   "cell_type": "code",
   "execution_count": 29,
   "id": "c6def3f9",
   "metadata": {},
   "outputs": [],
   "source": [
    "# Calcular el promedio general\n",
    "promedio_general = (calificacion1 + calificacion2 + calificacion3 + calificacion4 + calificacion5) / 5"
   ]
  },
  {
   "cell_type": "code",
   "execution_count": 30,
   "id": "47a87367",
   "metadata": {},
   "outputs": [
    {
     "name": "stdout",
     "output_type": "stream",
     "text": [
      "El promedio general de calificaciones es: 13.36\n"
     ]
    }
   ],
   "source": [
    "# Mostrar el resultado\n",
    "print(f\"El promedio general de calificaciones es: {promedio_general:.2f}\")"
   ]
  },
  {
   "cell_type": "markdown",
   "id": "34c4d4b0",
   "metadata": {},
   "source": [
    "**Ejercicio 3: Conversión de Moneda**\n",
    "\n",
    "**Temas:** Variables, Ingreso de datos, Conversión de tipos de datos, Operadores matemáticos, Salida por pantalla\n",
    "\n",
    "Crea un programa que permita al usuario ingresar una cantidad en dólares estadounidenses y un tipo de cambio actual para convertir a euros. Realiza la conversión y muestra en pantalla el resultado con dos decimales. Incluye un mensaje descriptivo, como \"La cantidad en euros es: Y\"."
   ]
  },
  {
   "cell_type": "code",
   "execution_count": 31,
   "id": "f6fbed08",
   "metadata": {},
   "outputs": [
    {
     "name": "stdout",
     "output_type": "stream",
     "text": [
      "Ingresa la cantidad en dólares: 25.63\n"
     ]
    }
   ],
   "source": [
    "# Solicitar al usuario la cantidad en dólares y el tipo de cambio\n",
    "cantidad_dolares = float(input(\"Ingresa la cantidad en dólares: \"))"
   ]
  },
  {
   "cell_type": "code",
   "execution_count": 32,
   "id": "6d6ae4cc",
   "metadata": {},
   "outputs": [],
   "source": [
    "# Realizar la conversión a euros\n",
    "tipo_cambio = 0.93\n",
    "cantidad_euros = cantidad_dolares * tipo_cambio"
   ]
  },
  {
   "cell_type": "code",
   "execution_count": 35,
   "id": "1ff0a5de",
   "metadata": {},
   "outputs": [
    {
     "name": "stdout",
     "output_type": "stream",
     "text": [
      "La cantidad en euros es: $23.84\n"
     ]
    }
   ],
   "source": [
    "# Mostrar el resultado con dos decimales\n",
    "print(f\"La cantidad en euros es: ${cantidad_euros:.2f}\")"
   ]
  },
  {
   "cell_type": "markdown",
   "id": "97ed5131",
   "metadata": {},
   "source": [
    "**Ejercicio 4: Calcular el Índice de Masa Corporal (IMC)**\n",
    "\n",
    "**Temas:** Variables, Operadores matemáticos, Tipos de datos, Conversión de tipos de datos, Salida por pantalla\n",
    "\n",
    "Escribe un programa que permita al usuario ingresar su peso en kilogramos y su altura en metros. Calcula el Índice de Masa Corporal (IMC) usando la fórmula `IMC = peso / (altura ** 2)`. Muestra el resultado en pantalla con un mensaje que indique \"Tu IMC es: Z\"."
   ]
  },
  {
   "cell_type": "code",
   "execution_count": 36,
   "id": "f3cc1ad6",
   "metadata": {},
   "outputs": [
    {
     "name": "stdout",
     "output_type": "stream",
     "text": [
      "Ingresa tu peso en kilogramos: 78\n",
      "Ingresa tu altura en metros: 1.66\n"
     ]
    }
   ],
   "source": [
    "# Solicitar al usuario el peso y la altura\n",
    "peso = float(input(\"Ingresa tu peso en kilogramos: \"))\n",
    "altura = float(input(\"Ingresa tu altura en metros: \"))"
   ]
  },
  {
   "cell_type": "code",
   "execution_count": 37,
   "id": "99b9b4f3",
   "metadata": {},
   "outputs": [],
   "source": [
    "# Calcular el IMC\n",
    "imc = peso / (altura ** 2)"
   ]
  },
  {
   "cell_type": "code",
   "execution_count": 38,
   "id": "d2ded050",
   "metadata": {},
   "outputs": [
    {
     "name": "stdout",
     "output_type": "stream",
     "text": [
      "Tu IMC es: 28.31\n"
     ]
    }
   ],
   "source": [
    "# Mostrar el resultado\n",
    "print(f\"Tu IMC es: {imc:.2f}\")"
   ]
  },
  {
   "cell_type": "markdown",
   "id": "31175403",
   "metadata": {},
   "source": [
    "**Ejercicio 5: Calculadora dinámica**\n",
    "\n",
    "**Temas:** Variables, Operadores matemáticos, Tipos de datos, Conversión de tipos de datos, Salida por pantalla\n",
    "\n",
    "Escriba un programa que ingrese dos números (con decimales). A continuación, convierte cada calificación de texto a número (entero o flotante, según corresponda). Realice todas las operaciones básicas (suma, resta, multiplicación y división).  Muestra el resultado en pantalla de cada una de las operaciones."
   ]
  },
  {
   "cell_type": "code",
   "execution_count": 39,
   "id": "f2cfd4db",
   "metadata": {},
   "outputs": [
    {
     "name": "stdout",
     "output_type": "stream",
     "text": [
      "Ingresa el primer número: 2.6\n",
      "Ingresa el segundo número: -5.3\n"
     ]
    }
   ],
   "source": [
    "# Solicitar al usuario dos números\n",
    "numero1 = float(input(\"Ingresa el primer número: \"))\n",
    "numero2 = float(input(\"Ingresa el segundo número: \"))"
   ]
  },
  {
   "cell_type": "code",
   "execution_count": 40,
   "id": "463a10af",
   "metadata": {},
   "outputs": [],
   "source": [
    "# Realizar todas las operaciones\n",
    "suma = numero1 + numero2\n",
    "resta = numero1 - numero2\n",
    "multiplicacion = numero1 * numero2\n",
    "division = numero1 / numero2 "
   ]
  },
  {
   "cell_type": "code",
   "execution_count": 41,
   "id": "1f07a319",
   "metadata": {},
   "outputs": [
    {
     "name": "stdout",
     "output_type": "stream",
     "text": [
      "Suma: -2.6999999999999997\n",
      "Resta: 7.9\n",
      "Multiplicación: -13.78\n",
      "División: -0.4905660377358491\n"
     ]
    }
   ],
   "source": [
    "# Mostrar los resultados de cada operación\n",
    "print(\"Suma:\", suma)\n",
    "print(\"Resta:\", resta)\n",
    "print(\"Multiplicación:\", multiplicacion)\n",
    "print(\"División:\", division)"
   ]
  },
  {
   "cell_type": "markdown",
   "id": "d90f1570",
   "metadata": {},
   "source": [
    "[Regresar a la TC](#Tabla-de-Contenidos)"
   ]
  }
 ],
 "metadata": {
  "kernelspec": {
   "display_name": "Python 3 (ipykernel)",
   "language": "python",
   "name": "python3"
  },
  "language_info": {
   "codemirror_mode": {
    "name": "ipython",
    "version": 3
   },
   "file_extension": ".py",
   "mimetype": "text/x-python",
   "name": "python",
   "nbconvert_exporter": "python",
   "pygments_lexer": "ipython3",
   "version": "3.11.5"
  }
 },
 "nbformat": 4,
 "nbformat_minor": 5
}
