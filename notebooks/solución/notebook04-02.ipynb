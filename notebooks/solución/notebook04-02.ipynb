{
 "cells": [
  {
   "cell_type": "markdown",
   "id": "6172ca88",
   "metadata": {},
   "source": [
    "# Tabla de Contenidos\n",
    "\n",
    "* [Contenidos](#Tabla-de-Contenidos)\n",
    "    * [Indexación](#Indexación)\n",
    "    * [Rebanadas (slicing)](#Rebanadas-(slicing))\n",
    "    * [Búsqueda de valores](#Búsqueda-de-valores)\n",
    "* [Ejercicios](#Ejercicios)"
   ]
  },
  {
   "cell_type": "markdown",
   "id": "6b535544-1310-4d5d-a06a-ce4bce87d876",
   "metadata": {},
   "source": [
    "## Listas\n",
    "\n",
    "Este tipo de dato permite agrupar datos (incluso de diferentes tipos) relacionados entre sí."
   ]
  },
  {
   "cell_type": "markdown",
   "id": "ccbbf56e",
   "metadata": {},
   "source": [
    "### Indexación\n",
    "\n",
    "\n",
    "Una forma indirecta para acceder a CADA elemento dentro de una lista es mediante el **índice**. \n",
    "\n",
    "<div align=\"center\">\n",
    "    <img src=\"https://github.com/MCD-ESPOL/PCD/blob/main/notebooks/images/python_listas3.png?raw=true\" width=\"60%\">\n",
    "</div>\n",
    "\n"
   ]
  },
  {
   "cell_type": "markdown",
   "id": "70bfd48b",
   "metadata": {},
   "source": [
    "Los índices van desde el **0** hasta **cantidad de elementos - 1**.\n",
    "\n",
    "<br>\n",
    "<div align=\"center\">\n",
    "    <img src=\"https://github.com/MCD-ESPOL/PCD/blob/main/notebooks/images/python_listas4.png?raw=true\" width=\"80%\">\n",
    "</div>"
   ]
  },
  {
   "cell_type": "code",
   "execution_count": 2,
   "id": "89fed982",
   "metadata": {},
   "outputs": [],
   "source": [
    "# Lista de productos y valores\n",
    "\n",
    "productos = [ 'CAFE NESCAFE 100 G', 'ARROZ CONEJO SACO 20 LB', 'AZUCAR SAN CARLOS 2 KG', \"PAN MOLDE TA'RIKO 450 G\", \"CHOCOLATE P/TAZA TUNGURAHUA 250 G\", \"LENTEJON SABOREANDO 500 G\"]\n",
    "valores = [5.29, 11.99, 2.19, 0.99, 2.09, 1.49]"
   ]
  },
  {
   "cell_type": "code",
   "execution_count": 3,
   "id": "7eb1770e",
   "metadata": {},
   "outputs": [
    {
     "name": "stdout",
     "output_type": "stream",
     "text": [
      "El producto CAFE NESCAFE 100 G tiene como valor $5.29\n"
     ]
    }
   ],
   "source": [
    "# De la lista productos, extraiga el elemento que se encuentran con el índice 0\n",
    "# De la lista valores, extraiga el elemento que se encuentran con el índice 0\n",
    "# Muestre ambos resultados por pantalla\n",
    "\n",
    "primerProducto = productos[0]\n",
    "primerValor = valores[0]\n",
    "print(f\"El producto {primerProducto} tiene como valor ${primerValor}\")"
   ]
  },
  {
   "cell_type": "markdown",
   "id": "01040df4",
   "metadata": {},
   "source": [
    "<details>\n",
    "  <summary><div>→ Haga click aquí para ver la solución</div></summary>\n",
    "  <pre lang=\"python\"><code>\n",
    "primerProducto = productos[0]\n",
    "primerValor = valores[0]\n",
    "print(f\"El producto {primerProducto} tiene como valor ${primerValor}\")\n",
    "  </code></pre>\n",
    "</details> "
   ]
  },
  {
   "cell_type": "code",
   "execution_count": 4,
   "id": "c69493ff",
   "metadata": {},
   "outputs": [
    {
     "name": "stdout",
     "output_type": "stream",
     "text": [
      "El producto PAN MOLDE TA'RIKO 450 G tiene como valor $0.99\n"
     ]
    }
   ],
   "source": [
    "# De la lista productos, extraiga el elemento que se encuentran con el índice 3\n",
    "# De la lista valores, extraiga el elemento que se encuentran con el índice 3\n",
    "# Muestre ambos resultados por pantalla\n",
    "\n",
    "cuartoProducto = productos[3]\n",
    "cuartoValor = valores[3]\n",
    "print(f\"El producto {cuartoProducto} tiene como valor ${cuartoValor}\")"
   ]
  },
  {
   "cell_type": "markdown",
   "id": "3260d202",
   "metadata": {},
   "source": [
    "<details>\n",
    "  <summary><div>→ Haga click aquí para ver la solución</div></summary>\n",
    "  <pre lang=\"python\"><code>\n",
    "cuartoProducto = productos[3]\n",
    "cuartoValor = valores[3]\n",
    "print(f\"El producto {cuartoProducto} tiene como valor ${cuartoValor}\")\n",
    "  </code></pre>\n",
    "</details> "
   ]
  },
  {
   "cell_type": "code",
   "execution_count": 5,
   "id": "d6724a87",
   "metadata": {},
   "outputs": [
    {
     "name": "stdout",
     "output_type": "stream",
     "text": [
      "El producto ARROZ CONEJO SACO 20 LB tiene como valor $11.99\n"
     ]
    }
   ],
   "source": [
    "# De la lista productos, extraiga el elemento que se encuentran con el índice 1\n",
    "# De la lista valores, extraiga el elemento que se encuentran con el índice 1\n",
    "# Muestre ambos resultados por pantalla\n",
    "\n",
    "segundoProducto = productos[1]\n",
    "segundoValor = valores[1]\n",
    "print(f\"El producto {segundoProducto} tiene como valor ${segundoValor}\")"
   ]
  },
  {
   "cell_type": "markdown",
   "id": "ed3481b0",
   "metadata": {},
   "source": [
    "<details>\n",
    "  <summary><div>→ Haga click aquí para ver la solución</div></summary>\n",
    "  <pre lang=\"python\"><code>\n",
    "segundoProducto = productos[1]\n",
    "segundoValor = valores[1]\n",
    "print(f\"El producto {segundoProducto} tiene como valor ${segundoValor}\")\n",
    "  </code></pre>\n",
    "</details> "
   ]
  },
  {
   "cell_type": "code",
   "execution_count": 8,
   "id": "d6810a67",
   "metadata": {},
   "outputs": [
    {
     "name": "stdout",
     "output_type": "stream",
     "text": [
      "El producto AZUCAR SAN CARLOS 2 KG tiene como valor $2.19\n"
     ]
    }
   ],
   "source": [
    "# De la lista productos, extraiga el elemento que se encuentran con el índice 2\n",
    "# De la lista valores, extraiga el elemento que se encuentran con el índice 2\n",
    "# Muestre ambos resultados por pantalla\n",
    "\n",
    "tercerProducto = productos[2]\n",
    "tercerValor = valores[2]\n",
    "print(f\"El producto {tercerProducto} tiene como valor ${tercerValor}\")"
   ]
  },
  {
   "cell_type": "code",
   "execution_count": 9,
   "id": "56a10194",
   "metadata": {},
   "outputs": [
    {
     "data": {
      "text/plain": [
       "(['CAFE NESCAFE 100 G',\n",
       "  'ARROZ CONEJO SACO 20 LB',\n",
       "  'AZUCAR SAN CARLOS 2 KG',\n",
       "  \"PAN MOLDE TA'RIKO 450 G\",\n",
       "  'CHOCOLATE P/TAZA TUNGURAHUA 250 G',\n",
       "  'LENTEJON SABOREANDO 500 G'],\n",
       " [5.29, 11.99, 2.19, 0.99, 2.09, 1.49])"
      ]
     },
     "execution_count": 9,
     "metadata": {},
     "output_type": "execute_result"
    }
   ],
   "source": [
    "productos, valores"
   ]
  },
  {
   "cell_type": "markdown",
   "id": "8b0b2e25",
   "metadata": {},
   "source": [
    "<details>\n",
    "  <summary><div>→ Haga click aquí para ver la solución</div></summary>\n",
    "  <pre lang=\"python\"><code>\n",
    "tercerProducto = productos[2]\n",
    "tercerValor = valores[2]\n",
    "print(f\"El producto {tercerProducto} tiene como valor ${tercerValor}\")\n",
    "  </code></pre>\n",
    "</details> "
   ]
  },
  {
   "cell_type": "markdown",
   "id": "e1683bf7",
   "metadata": {},
   "source": [
    "[Regresar a la TC](#Tabla-de-Contenidos)"
   ]
  },
  {
   "cell_type": "markdown",
   "id": "5b619afa-c7bf-4dca-85ef-0539762461ae",
   "metadata": {},
   "source": [
    "### Rebanadas (slicing)\n",
    "\n",
    "Utilizando la experiencia de tomar un elemento de la lista a partir de un índice, también es posible copiar un grupo de elementos desde un **índice de inicio** hasta un **índice de fin** (sin incluir).\n",
    "\n",
    "Por ejemplo, para copiar un grupo con los **tres primeros elementos** se utilizan desde el índice **0** hasta el índice **3** (sin incluir).\n",
    "\n",
    "<div align=\"center\">\n",
    "    <img src=\"https://github.com/MCD-ESPOL/PCD/blob/main/notebooks/images/python_listas5.png?raw=true\" width=\"60%\">\n",
    "</div>\n",
    "\n",
    "\n",
    "\n",
    "<div align=\"center\">\n",
    "    <img src=\"https://github.com/MCD-ESPOL/PCD/blob/main/notebooks/images/python_listas6.png?raw=true\" width=\"60%\">\n",
    "</div>"
   ]
  },
  {
   "cell_type": "code",
   "execution_count": 10,
   "id": "4b32370e",
   "metadata": {},
   "outputs": [
    {
     "name": "stdout",
     "output_type": "stream",
     "text": [
      "Los tres primeros productos son: ['CAFE NESCAFE 100 G', 'ARROZ CONEJO SACO 20 LB', 'AZUCAR SAN CARLOS 2 KG']\n"
     ]
    }
   ],
   "source": [
    "# Asigne los tres primeros (desde índice 0 hasta incluir el índice 2) elementos de la lista productos \n",
    "# a la variable tresPrimerosProductos. \n",
    "# Muestre la lista tresPrimerosProductos.\n",
    "\n",
    "tresPrimerosProductos = productos[0:3]\n",
    "print(f\"Los tres primeros productos son: {tresPrimerosProductos}\")"
   ]
  },
  {
   "cell_type": "markdown",
   "id": "d1c5a9b7",
   "metadata": {},
   "source": [
    "<details>\n",
    "  <summary><div>→ Haga click aquí para ver la solución</div></summary>\n",
    "  <pre lang=\"python\"><code>\n",
    "tresPrimerosProductos = productos[0:3]\n",
    "print(f\"Los tres primeros productos son: {tresPrimerosProductos}\")\n",
    "  </code></pre>\n",
    "</details> "
   ]
  },
  {
   "cell_type": "code",
   "execution_count": 11,
   "id": "55809fe8",
   "metadata": {},
   "outputs": [
    {
     "name": "stdout",
     "output_type": "stream",
     "text": [
      "Los tres primeros valores son: [5.29, 11.99, 2.19]\n"
     ]
    }
   ],
   "source": [
    "# Asigne los tres primeros (desde índice 0 hasta incluir el índice 2) elementos de la lista valores\n",
    "# a la lista tresPrimerosValores. \n",
    "# Muestre la lista tresPrimerosValores.\n",
    "\n",
    "tresPrimerosValores = valores[0:3]\n",
    "print(f\"Los tres primeros valores son: {tresPrimerosValores}\")"
   ]
  },
  {
   "cell_type": "markdown",
   "id": "6d04d425",
   "metadata": {},
   "source": [
    "<details>\n",
    "  <summary><div>→ Haga click aquí para ver la solución</div></summary>\n",
    "  <pre lang=\"python\"><code>\n",
    "tresPrimerosValores = valores[0:3]\n",
    "print(f\"Los tres primeros valores son: {tresPrimerosValores}\")\n",
    "  </code></pre>\n",
    "</details> "
   ]
  },
  {
   "cell_type": "code",
   "execution_count": 13,
   "id": "9164cf5e",
   "metadata": {},
   "outputs": [
    {
     "name": "stdout",
     "output_type": "stream",
     "text": [
      "Tres últimos productos [\"PAN MOLDE TA'RIKO 450 G\", 'CHOCOLATE P/TAZA TUNGURAHUA 250 G', 'LENTEJON SABOREANDO 500 G']\n",
      "Tres últimos valores [0.99, 2.09, 1.49]\n"
     ]
    }
   ],
   "source": [
    "# Copie los tres últimos elementos de las listas productos y valores en las variables que Ud considere necesarias \n",
    "# Muestre las variables con las nuevas listas\n",
    "\n",
    "tresUltimosProductos = productos[3:7]\n",
    "print(f\"Tres últimos productos {tresUltimosProductos}\", )\n",
    "\n",
    "tresUltimosValores = valores[3: ]\n",
    "print(f\"Tres últimos valores {tresUltimosValores}\")"
   ]
  },
  {
   "cell_type": "markdown",
   "id": "97b13f72",
   "metadata": {},
   "source": [
    "<details>\n",
    "  <summary><div>→ Haga click aquí para ver la solución</div></summary>\n",
    "  <pre lang=\"python\"><code>\n",
    "tresUltimosProductos = productos[3:6]\n",
    "print(f\"Tres últimos productos {tresUltimosProductos}\", )\n",
    "\n",
    "tresUltimosValores = valores[3: ]\n",
    "print(f\"Tres últimos valores {tresUltimosValores}\")\n",
    "  </code></pre>\n",
    "</details> "
   ]
  },
  {
   "cell_type": "markdown",
   "id": "531b3879",
   "metadata": {},
   "source": [
    "[Regresar a la TC](#Tabla-de-Contenidos)"
   ]
  },
  {
   "cell_type": "markdown",
   "id": "9858fde8",
   "metadata": {},
   "source": [
    "### Búsqueda de valores\n",
    "\n",
    "Para buscar el índice de un elemento en una lista, se utiliza el método **index**. Este método puede devolver:\n",
    "\n",
    "* El índice del elemento correspondiente, o\n",
    "* Un `Error` cuando no encuentra el elemento en la lista."
   ]
  },
  {
   "cell_type": "markdown",
   "id": "b489b15c",
   "metadata": {},
   "source": [
    "<div align=\"center\">\n",
    "    <img src=\"https://github.com/MCD-ESPOL/PCD/blob/main/notebooks/images/python_listas7.png?raw=true\" width=\"60%\">\n",
    "</div>"
   ]
  },
  {
   "cell_type": "markdown",
   "id": "a9aa148e",
   "metadata": {},
   "source": [
    "En caso de encontrar el **indiceInvitado** puede servir para obtener el elemento en la lista.\n",
    "\n",
    "<br>\n",
    "\n",
    "<div align=\"center\">\n",
    "    <img src=\"https://github.com/MCD-ESPOL/PCD/blob/main/notebooks/images/python_listas8.png?raw=true\" width=\"60%\">\n",
    "</div>"
   ]
  },
  {
   "cell_type": "code",
   "execution_count": 14,
   "id": "193ec057",
   "metadata": {},
   "outputs": [
    {
     "name": "stdout",
     "output_type": "stream",
     "text": [
      "El índice de AZUCAR SAN CARLOS 2 KG es 2\n"
     ]
    }
   ],
   "source": [
    "# Asigne a indiceAzucar el índice en el que se encuentra la variable azucar en la lista productos\n",
    "# Muestre la variable azucar y el valor de indiceAzucar\n",
    "\n",
    "azucar = 'AZUCAR SAN CARLOS 2 KG'\n",
    "\n",
    "indiceAzucar = productos.index(azucar)\n",
    "print(f\"El índice de {azucar} es {indiceAzucar}\")"
   ]
  },
  {
   "cell_type": "markdown",
   "id": "2e82030b",
   "metadata": {},
   "source": [
    "<details>\n",
    "  <summary><div>→ Haga click aquí para ver la solución</div></summary>\n",
    "  <pre lang=\"python\"><code>\n",
    "indiceAzucar = productos.index(azucar)\n",
    "print(f\"El índice de {azucar} es {indiceAzucar}\")\n",
    "  </code></pre>\n",
    "</details> "
   ]
  },
  {
   "cell_type": "code",
   "execution_count": 15,
   "id": "fa76d20a",
   "metadata": {},
   "outputs": [
    {
     "name": "stdout",
     "output_type": "stream",
     "text": [
      "AZUCAR SAN CARLOS 2 KG tiene como valor $2.19\n"
     ]
    }
   ],
   "source": [
    "# Asigne a valorAzucar el valor de la lista valores de acuerdo con indiceAzucar \n",
    "# Muestre el valor de valorAzucar\n",
    "\n",
    "valorAzucar = valores[indiceAzucar]\n",
    "print(f\"{azucar} tiene como valor ${valorAzucar}\")"
   ]
  },
  {
   "cell_type": "markdown",
   "id": "8911aa03",
   "metadata": {},
   "source": [
    "<details>\n",
    "  <summary><div>→ Haga click aquí para ver la solución</div></summary>\n",
    "  <pre lang=\"python\"><code>\n",
    "valorAzucar = valores[indiceAzucar]\n",
    "print(f\"{azucar} tiene como valor ${valorAzucar}\")\n",
    "  </code></pre>\n",
    "</details> "
   ]
  },
  {
   "cell_type": "code",
   "execution_count": 16,
   "id": "71b776cc",
   "metadata": {},
   "outputs": [
    {
     "name": "stdout",
     "output_type": "stream",
     "text": [
      "El índice del valor máximo es 1\n"
     ]
    }
   ],
   "source": [
    "# De la lista valores, obtenga el máximo valor (use max)\n",
    "# Obtenga y muestre el índice del elemento (use index) con el máximo valor\n",
    "\n",
    "maximo = max(valores)\n",
    "indiceMaximo = valores.index(maximo)\n",
    "\n",
    "print(f\"El índice del valor máximo es {indiceMaximo}\")"
   ]
  },
  {
   "cell_type": "markdown",
   "id": "9457f650",
   "metadata": {},
   "source": [
    "<details>\n",
    "  <summary><div>→ Haga click aquí para ver la solución</div></summary>\n",
    "  <pre lang=\"python\"><code>\n",
    "maximo = max(valores)\n",
    "indiceMaximo = valores.index(maximo)\n",
    "\n",
    "print(f\"El índice del valor máximo es {indiceMaximo}\")\n",
    "  </code></pre>\n",
    "</details> "
   ]
  },
  {
   "cell_type": "code",
   "execution_count": 18,
   "id": "c188183e",
   "metadata": {},
   "outputs": [
    {
     "name": "stdout",
     "output_type": "stream",
     "text": [
      "El producto ARROZ CONEJO SACO 20 LB tiene el máximo valor $11.99\n"
     ]
    }
   ],
   "source": [
    "# Use el indiceMaximo para obtener el elemento de la lista productos \n",
    "# Muestre el nombre del producto con el valor máximo\n",
    "\n",
    "productoMaximo = productos[indiceMaximo]\n",
    "print(f\"El producto {productoMaximo} tiene el máximo valor ${maximo}\")"
   ]
  },
  {
   "cell_type": "markdown",
   "id": "92694f48",
   "metadata": {},
   "source": [
    "<details>\n",
    "  <summary><div>→ Haga click aquí para ver la solución</div></summary>\n",
    "  <pre lang=\"python\"><code>\n",
    "productoMaximo = productos[indiceMaximo]\n",
    "print(f\"El producto {productoMaximo} tiene el máximo valor ${maximo}\")\n",
    "  </code></pre>\n",
    "</details> "
   ]
  },
  {
   "cell_type": "markdown",
   "id": "5d99b5c1",
   "metadata": {},
   "source": [
    "[Regresar a la TC](#Tabla-de-Contenidos)"
   ]
  },
  {
   "cell_type": "markdown",
   "id": "9fd9faf2",
   "metadata": {},
   "source": [
    "## Ejercicios"
   ]
  },
  {
   "cell_type": "markdown",
   "id": "a960c5e4",
   "metadata": {},
   "source": [
    "**Ejercicio 01: Análisis de ventas**\n",
    "\n",
    "**Temas:** Variables, Tipos de datos, Salida por pantalla, Indexación, Rebanadas (slicing), Búsqueda de valores\n",
    "\n",
    "Crea un programa que utilice con las listas _meses_ y _ventas_."
   ]
  },
  {
   "cell_type": "code",
   "execution_count": null,
   "id": "af8ac069",
   "metadata": {},
   "outputs": [],
   "source": [
    "meses = [\"Enero\", \"Febrero\", \"Marzo\", \"Abril\", \"Mayo\", \"Junio\", \"Julio\", \"Agosto\", \"Septiembre\", \"Octubre\", \"Noviembre\", \"Diciembre\"]\n",
    "ventas = [3.73, 9.46, 6.01, 5.74, 4.51, 7.6, 6.04, 2.59, 6.88, 7.96, 4.75, 7.96]"
   ]
  },
  {
   "cell_type": "markdown",
   "id": "c2d47ce2",
   "metadata": {},
   "source": [
    "1. Mostrar los valores de venta en el primer trimestre."
   ]
  },
  {
   "cell_type": "code",
   "execution_count": null,
   "id": "db0f8b3a",
   "metadata": {},
   "outputs": [],
   "source": []
  },
  {
   "cell_type": "markdown",
   "id": "51ba4f47",
   "metadata": {},
   "source": [
    "2. Mostrar el valor máximo de ventas en el primer trimestre."
   ]
  },
  {
   "cell_type": "code",
   "execution_count": null,
   "id": "be13426e",
   "metadata": {},
   "outputs": [],
   "source": []
  },
  {
   "cell_type": "markdown",
   "id": "9f6e0355",
   "metadata": {},
   "source": [
    "3. Mostrar el valor máximo de ventas en el primer trimestre, con el mes correspondiente."
   ]
  },
  {
   "cell_type": "code",
   "execution_count": null,
   "id": "d8b404ca",
   "metadata": {},
   "outputs": [],
   "source": []
  },
  {
   "cell_type": "markdown",
   "id": "ce1504db",
   "metadata": {},
   "source": [
    "4. Mostrar el valor mínimo de ventas en el segundo semestre, con el mes correspondiente."
   ]
  },
  {
   "cell_type": "code",
   "execution_count": null,
   "id": "fb962670",
   "metadata": {},
   "outputs": [],
   "source": []
  },
  {
   "cell_type": "markdown",
   "id": "6daa7aad",
   "metadata": {},
   "source": [
    "**Ejercicio 02: Análisis de Temperaturas Mensuales**\n",
    "\n",
    "**Temas:** Operaciones con listas, Indexación, Rebanadas (slicing)\n",
    "\n",
    "Escriba un programa que utilice las listas `temperaturas_octubre` y `fechas_octubre` del mes de octubre del 2024."
   ]
  },
  {
   "cell_type": "code",
   "execution_count": 19,
   "id": "bfa89ae8",
   "metadata": {},
   "outputs": [],
   "source": [
    "temperaturas_octubre = [\n",
    "    22.5, 23.1, 21.8, 20.4, 19.6, 21.2, 22.0, 22.3, 21.9, 20.7,\n",
    "    19.8, 18.9, 20.5, 21.0, 22.7, 23.5, 24.1, 24.6, 23.8, 22.9,\n",
    "    22.4, 21.6, 20.8, 19.7, 20.2, 21.4, 22.1, 23.0, 22.8, 21.7, 20.3\n",
    "]\n",
    "\n",
    "fechas_octubre = [\n",
    "    \"01-10\", \"02-10\", \"03-10\", \"04-10\", \"05-10\", \"06-10\", \"07-10\", \"08-10\", \"09-10\", \"10-10\",\n",
    "    \"11-10\", \"12-10\", \"13-10\", \"14-10\", \"15-10\", \"16-10\", \"17-10\", \"18-10\", \"19-10\", \"20-10\",\n",
    "    \"21-10\", \"22-10\", \"23-10\", \"24-10\", \"25-10\", \"26-10\", \"27-10\", \"28-10\", \"29-10\", \"30-10\",\n",
    "    \"31-10\"\n",
    "]"
   ]
  },
  {
   "cell_type": "markdown",
   "id": "ae7dea24",
   "metadata": {},
   "source": [
    "Realice las siguientes operaciones con las listas: \n",
    "\n",
    "- Muestre todas las temperaturas ingresadas.\n",
    "- Calcule y muestre el promedio de temperaturas de la primera y segunda mitad del mes (usando slicing).\n",
    "- Muestre la temperatura más alta y la más baja, y en qué días ocurrieron (usando indexación).\n",
    "- Muestre la semana con mayor temperatura. Considere dividir ambos arreglos en 5 partes. "
   ]
  },
  {
   "cell_type": "code",
   "execution_count": 26,
   "id": "67ea38cf",
   "metadata": {},
   "outputs": [
    {
     "name": "stdout",
     "output_type": "stream",
     "text": [
      "Temperaturas primera quincena [22.5, 23.1, 21.8, 20.4, 19.6, 21.2, 22.0, 22.3, 21.9, 20.7, 19.8, 18.9, 20.5, 21.0, 22.7]\n",
      "Temperaturas segunda quincena [23.5, 24.1, 24.6, 23.8, 22.9, 22.4, 21.6, 20.8, 19.7, 20.2, 21.4, 22.1, 23.0, 22.8, 21.7, 20.3]\n"
     ]
    }
   ],
   "source": [
    "# Calcule y muestre el promedio de temperaturas de la primera y segunda mitad del mes (usando slicing).\n",
    "\n",
    "cantidad = len(temperaturas_octubre)\n",
    "indice_medio = int(cantidad/2)\n",
    "primera_quincena = temperaturas_octubre[0:indice_medio]\n",
    "segunda_quincena = temperaturas_octubre[indice_medio:]\n",
    "\n",
    "print(f\"Temperaturas primera quincena {primera_quincena}\")\n",
    "print(f\"Temperaturas segunda quincena {segunda_quincena}\")"
   ]
  },
  {
   "cell_type": "code",
   "execution_count": 29,
   "id": "ade3fc20",
   "metadata": {},
   "outputs": [
    {
     "name": "stdout",
     "output_type": "stream",
     "text": [
      "Promedio primera quincena 21.22666666666667\n",
      "Promedio segunda quincena 22.181250000000002\n"
     ]
    }
   ],
   "source": [
    "promedio_primera_quincena = sum(primera_quincena)/len(primera_quincena)\n",
    "promedio_segunda_quincena = sum(segunda_quincena)/len(segunda_quincena)\n",
    "\n",
    "print(f\"Promedio primera quincena {promedio_primera_quincena}\")\n",
    "print(f\"Promedio segunda quincena {promedio_segunda_quincena}\")"
   ]
  },
  {
   "cell_type": "code",
   "execution_count": 32,
   "id": "aff0299c",
   "metadata": {},
   "outputs": [
    {
     "name": "stdout",
     "output_type": "stream",
     "text": [
      "El 18-10 tuvo una temperatura máxima de 24.6\n"
     ]
    }
   ],
   "source": [
    "# Muestre la temperatura más alta y la más baja, y en qué días ocurrieron (usando indexación).\n",
    "\n",
    "maxTemp = max(temperaturas_octubre)\n",
    "indiceMax = temperaturas_octubre.index(maxTemp)\n",
    "diaMax = fechas_octubre[indiceMax]\n",
    "\n",
    "print(f\"El {diaMax} tuvo una temperatura máxima de {maxTemp}\")"
   ]
  },
  {
   "cell_type": "code",
   "execution_count": 33,
   "id": "e13e1dd8",
   "metadata": {},
   "outputs": [
    {
     "name": "stdout",
     "output_type": "stream",
     "text": [
      "El 12-10 tuvo una temperatura mínima de 18.9\n"
     ]
    }
   ],
   "source": [
    "minTemp = min(temperaturas_octubre)\n",
    "indiceMin = temperaturas_octubre.index(minTemp)\n",
    "diaMin = fechas_octubre[indiceMin]\n",
    "\n",
    "print(f\"El {diaMin} tuvo una temperatura mínima de {minTemp}\")"
   ]
  },
  {
   "cell_type": "markdown",
   "id": "a763cb46",
   "metadata": {},
   "source": [
    "[Regresar a la TC](#Tabla-de-Contenidos)"
   ]
  }
 ],
 "metadata": {
  "kernelspec": {
   "display_name": "Python 3 (ipykernel)",
   "language": "python",
   "name": "python3"
  },
  "language_info": {
   "codemirror_mode": {
    "name": "ipython",
    "version": 3
   },
   "file_extension": ".py",
   "mimetype": "text/x-python",
   "name": "python",
   "nbconvert_exporter": "python",
   "pygments_lexer": "ipython3",
   "version": "3.11.5"
  }
 },
 "nbformat": 4,
 "nbformat_minor": 5
}
